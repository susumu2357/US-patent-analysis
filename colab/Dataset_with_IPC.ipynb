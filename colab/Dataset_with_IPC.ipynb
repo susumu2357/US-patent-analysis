{
  "nbformat": 4,
  "nbformat_minor": 0,
  "metadata": {
    "colab": {
      "name": "Dataset_with_IPC.ipynb",
      "version": "0.3.2",
      "provenance": [],
      "include_colab_link": true
    },
    "kernelspec": {
      "name": "python3",
      "display_name": "Python 3"
    }
  },
  "cells": [
    {
      "cell_type": "markdown",
      "metadata": {
        "id": "view-in-github",
        "colab_type": "text"
      },
      "source": [
        "<a href=\"https://colab.research.google.com/github/susumu2357/US-patent-analysis/blob/master/colab/Dataset_with_IPC.ipynb\" target=\"_parent\"><img src=\"https://colab.research.google.com/assets/colab-badge.svg\" alt=\"Open In Colab\"/></a>"
      ]
    },
    {
      "cell_type": "code",
      "metadata": {
        "id": "NHuyIrSwBdcB",
        "colab_type": "code",
        "colab": {}
      },
      "source": [
        "from google.colab import auth\n",
        "auth.authenticate_user()"
      ],
      "execution_count": 0,
      "outputs": []
    },
    {
      "cell_type": "code",
      "metadata": {
        "id": "vCYg8R5fBjTk",
        "colab_type": "code",
        "outputId": "23f4f488-00b3-4c2e-c504-0c5c46a0aba3",
        "colab": {
          "base_uri": "https://localhost:8080/",
          "height": 226
        }
      },
      "source": [
        "!gsutil cp gs://mlstudy-phys/data/citations_info_3000+3000.df.gz ./citations_info_3000+3000.df.gz\n",
        "!gsutil cp gs://mlstudy-phys/data/grants_for_3000+3000.df.gz ./grants_for_3000+3000.df.gz\n",
        "!gsutil cp gs://mlstudy-phys/data/testset_app_3000.df.gz ./testset_app_3000.df.gz\n",
        "!gsutil cp gs://mlstudy-phys/data/training_app_3000.df.gz ./training_app_3000.df.gz "
      ],
      "execution_count": 0,
      "outputs": [
        {
          "output_type": "stream",
          "text": [
            "Copying gs://mlstudy-phys/data/citations_info_3000+3000.df.gz...\n",
            "/ [1 files][506.5 KiB/506.5 KiB]                                                \n",
            "Operation completed over 1 objects/506.5 KiB.                                    \n",
            "Copying gs://mlstudy-phys/data/grants_for_3000+3000.df.gz...\n",
            "\\ [1 files][129.4 MiB/129.4 MiB]                                                \n",
            "Operation completed over 1 objects/129.4 MiB.                                    \n",
            "Copying gs://mlstudy-phys/data/testset_app_3000.df.gz...\n",
            "\\\n",
            "Operation completed over 1 objects/45.5 MiB.                                     \n",
            "Copying gs://mlstudy-phys/data/training_app_3000.df.gz...\n",
            "- [1 files][ 45.0 MiB/ 45.0 MiB]                                                \n",
            "Operation completed over 1 objects/45.0 MiB.                                     \n"
          ],
          "name": "stdout"
        }
      ]
    },
    {
      "cell_type": "code",
      "metadata": {
        "id": "JXEq6gh1Bst2",
        "colab_type": "code",
        "colab": {}
      },
      "source": [
        "import pandas as pd\n",
        "\n",
        "citations_info = pd.read_pickle(\"./citations_info_3000+3000.df.gz\")\n",
        "grants = pd.read_pickle(\"./grants_for_3000+3000.df.gz\")\n",
        "testset_app_3000 = pd.read_pickle(\"./testset_app_3000.df.gz\")\n",
        "training_app_3000 = pd.read_pickle(\"./training_app_3000.df.gz\")"
      ],
      "execution_count": 0,
      "outputs": []
    },
    {
      "cell_type": "code",
      "metadata": {
        "id": "TqOu6NUhBvt1",
        "colab_type": "code",
        "outputId": "5ddfd47a-d4ba-438d-ef27-95a9f15915cb",
        "colab": {
          "base_uri": "https://localhost:8080/",
          "height": 54
        }
      },
      "source": [
        "training_app_3000[\"xml\"][3]"
      ],
      "execution_count": 0,
      "outputs": [
        {
          "output_type": "execute_result",
          "data": {
            "text/plain": [
              "'<us-patent-application lang=\"EN\" dtd-version=\"v4.3 2012-12-04\" file=\"US20140260920A1-20140918.XML\" status=\"PRODUCTION\" id=\"us-patent-application\" country=\"US\" date-produced=\"20140830\" date-publ=\"20140918\">\\n<us-bibliographic-data-application lang=\"EN\" country=\"US\">\\n<publication-reference>\\n<document-id>\\n<country>US</country>\\n<doc-number>20140260920</doc-number>\\n<kind>A1</kind>\\n<date>20140918</date>\\n</document-id>\\n</publication-reference>\\n<application-reference appl-type=\"utility\">\\n<document-id>\\n<country>US</country>\\n<doc-number>14204411</doc-number>\\n<date>20140311</date>\\n</document-id>\\n</application-reference>\\n<us-application-series-code>14</us-application-series-code>\\n<priority-claims>\\n<priority-claim sequence=\"01\" kind=\"national\">\\n<country>JP</country>\\n<doc-number>2013-049035</doc-number>\\n<date>20130312</date>\\n</priority-claim>\\n<priority-claim sequence=\"02\" kind=\"national\">\\n<country>JP</country>\\n<doc-number>2014-047225</doc-number>\\n<date>20140311</date>\\n</priority-claim>\\n</priority-claims>\\n<classifications-ipcr>\\n<classification-ipcr>\\n<ipc-version-indicator><date>20060101</date></ipc-version-indicator>\\n<classification-level>A</classification-level>\\n<section>G</section>\\n<class>10</class>\\n<subclass>H</subclass>\\n<main-group>3</main-group>\\n<subgroup>14</subgroup>\\n<symbol-position>F</symbol-position>\\n<classification-value>I</classification-value>\\n<action-date><date>20140918</date></action-date>\\n<generating-office><country>US</country></generating-office>\\n<classification-status>B</classification-status>\\n<classification-data-source>H</classification-data-source>\\n</classification-ipcr>\\n<classification-ipcr>\\n<ipc-version-indicator><date>20060101</date></ipc-version-indicator>\\n<classification-level>A</classification-level>\\n<section>G</section>\\n<class>10</class>\\n<subclass>D</subclass>\\n<main-group>13</main-group>\\n<subgroup>02</subgroup>\\n<symbol-position>L</symbol-position>\\n<classification-value>I</classification-value>\\n<action-date><date>20140918</date></action-date>\\n<generating-office><country>US</country></generating-office>\\n<classification-status>B</classification-status>\\n<classification-data-source>H</classification-data-source>\\n</classification-ipcr>\\n</classifications-ipcr>\\n<classifications-cpc>\\n<main-cpc>\\n<classification-cpc>\\n<cpc-version-indicator><date>20130101</date></cpc-version-indicator>\\n<section>G</section>\\n<class>10</class>\\n<subclass>H</subclass>\\n<main-group>3</main-group>\\n<subgroup>146</subgroup>\\n<symbol-position>F</symbol-position>\\n<classification-value>I</classification-value>\\n<action-date><date>20140918</date></action-date>\\n<generating-office><country>US</country></generating-office>\\n<classification-status>B</classification-status>\\n<classification-data-source>H</classification-data-source>\\n<scheme-origination-code>C</scheme-origination-code>\\n</classification-cpc>\\n</main-cpc>\\n<further-cpc>\\n<classification-cpc>\\n<cpc-version-indicator><date>20130101</date></cpc-version-indicator>\\n<section>G</section>\\n<class>10</class>\\n<subclass>D</subclass>\\n<main-group>13</main-group>\\n<subgroup>02</subgroup>\\n<symbol-position>L</symbol-position>\\n<classification-value>I</classification-value>\\n<action-date><date>20140918</date></action-date>\\n<generating-office><country>US</country></generating-office>\\n<classification-status>B</classification-status>\\n<classification-data-source>H</classification-data-source>\\n<scheme-origination-code>C</scheme-origination-code>\\n</classification-cpc>\\n</further-cpc>\\n</classifications-cpc>\\n<classification-national>\\n<country>US</country>\\n<main-classification> 84730</main-classification>\\n</classification-national>\\n<invention-title id=\"d0e79\">ELECTRONIC PERCUSSION INSTRUMENT</invention-title>\\n<us-parties>\\n<us-applicants>\\n<us-applicant sequence=\"00\" app-type=\"applicant\" designation=\"us-only\" applicant-authority-category=\"assignee\">\\n<addressbook>\\n<orgname>YAMAHA CORPORATION</orgname>\\n<address>\\n<city>Hamamatsu-shi</city>\\n<country>JP</country>\\n</address>\\n</addressbook>\\n<residence>\\n<country>JP</country>\\n</residence>\\n</us-applicant>\\n</us-applicants>\\n<inventors>\\n<inventor sequence=\"00\" designation=\"us-only\">\\n<addressbook>\\n<last-name>KANAYAMA</last-name>\\n<first-name>Emi</first-name>\\n<address>\\n<city>Hamamatsu-shi</city>\\n<country>JP</country>\\n</address>\\n</addressbook>\\n</inventor>\\n<inventor sequence=\"01\" designation=\"us-only\">\\n<addressbook>\\n<last-name>SATO</last-name>\\n<first-name>Masao</first-name>\\n<address>\\n<city>Hamamatsu-shi</city>\\n<country>JP</country>\\n</address>\\n</addressbook>\\n</inventor>\\n</inventors>\\n</us-parties>\\n<assignees>\\n<assignee>\\n<addressbook>\\n<orgname>YAMAHA CORPORATION</orgname>\\n<role>03</role>\\n<address>\\n<city>Hamamatsu-shi</city>\\n<country>JP</country>\\n</address>\\n</addressbook>\\n</assignee>\\n</assignees>\\n</us-bibliographic-data-application>\\n<abstract id=\"abstract\">\\n<p id=\"p-0001\" num=\"0000\">An electronic percussion instrument includes a head, a frame, and an impact sensor. The back of the head is divided into a main area (e.g. a main strike area) and an auxiliary area. At least one connecting part is arranged above or below the main area in the back of the head and reduced in thickness compared to the auxiliary area, thus reducing vibration from being transmitted through the head. The impact sensor is attached to the back of the main strike area of the head via a cushion member. When the main strike area of the head is being struck with a beater, a vibration is caused to occur in the head and detected by the impact sensor to produce an electric signal which is used to generate an electronic musical sound while suppressing mechanical noise due to an impact between the beater and the head.</p>\\n</abstract>\\n<drawings id=\"DRAWINGS\">\\n<figure id=\"Fig-EMI-D00000\" num=\"00000\">\\n<img id=\"EMI-D00000\" he=\"120.57mm\" wi=\"126.41mm\" file=\"US20140260920A1-20140918-D00000.TIF\" alt=\"embedded image\" img-content=\"drawing\" img-format=\"tif\"/>\\n</figure>\\n<figure id=\"Fig-EMI-D00001\" num=\"00001\">\\n<img id=\"EMI-D00001\" he=\"255.44mm\" wi=\"153.92mm\" file=\"US20140260920A1-20140918-D00001.TIF\" alt=\"embedded image\" img-content=\"drawing\" img-format=\"tif\"/>\\n</figure>\\n<figure id=\"Fig-EMI-D00002\" num=\"00002\">\\n<img id=\"EMI-D00002\" he=\"233.00mm\" wi=\"179.15mm\" orientation=\"landscape\" file=\"US20140260920A1-20140918-D00002.TIF\" alt=\"embedded image\" img-content=\"drawing\" img-format=\"tif\"/>\\n</figure>\\n<figure id=\"Fig-EMI-D00003\" num=\"00003\">\\n<img id=\"EMI-D00003\" he=\"247.31mm\" wi=\"151.89mm\" file=\"US20140260920A1-20140918-D00003.TIF\" alt=\"embedded image\" img-content=\"drawing\" img-format=\"tif\"/>\\n</figure>\\n<figure id=\"Fig-EMI-D00004\" num=\"00004\">\\n<img id=\"EMI-D00004\" he=\"238.42mm\" wi=\"152.57mm\" orientation=\"landscape\" file=\"US20140260920A1-20140918-D00004.TIF\" alt=\"embedded image\" img-content=\"drawing\" img-format=\"tif\"/>\\n</figure>\\n<figure id=\"Fig-EMI-D00005\" num=\"00005\">\\n<img id=\"EMI-D00005\" he=\"252.73mm\" wi=\"162.81mm\" orientation=\"landscape\" file=\"US20140260920A1-20140918-D00005.TIF\" alt=\"embedded image\" img-content=\"drawing\" img-format=\"tif\"/>\\n</figure>\\n<figure id=\"Fig-EMI-D00006\" num=\"00006\">\\n<img id=\"EMI-D00006\" he=\"230.29mm\" wi=\"176.45mm\" file=\"US20140260920A1-20140918-D00006.TIF\" alt=\"embedded image\" img-content=\"drawing\" img-format=\"tif\"/>\\n</figure>\\n<figure id=\"Fig-EMI-D00007\" num=\"00007\">\\n<img id=\"EMI-D00007\" he=\"198.20mm\" wi=\"166.88mm\" file=\"US20140260920A1-20140918-D00007.TIF\" alt=\"embedded image\" img-content=\"drawing\" img-format=\"tif\"/>\\n</figure>\\n<figure id=\"Fig-EMI-D00008\" num=\"00008\">\\n<img id=\"EMI-D00008\" he=\"226.82mm\" wi=\"184.57mm\" file=\"US20140260920A1-20140918-D00008.TIF\" alt=\"embedded image\" img-content=\"drawing\" img-format=\"tif\"/>\\n</figure>\\n<figure id=\"Fig-EMI-D00009\" num=\"00009\">\\n<img id=\"EMI-D00009\" he=\"266.36mm\" wi=\"190.08mm\" orientation=\"landscape\" file=\"US20140260920A1-20140918-D00009.TIF\" alt=\"embedded image\" img-content=\"drawing\" img-format=\"tif\"/>\\n</figure>\\n<figure id=\"Fig-EMI-D00010\" num=\"00010\">\\n<img id=\"EMI-D00010\" he=\"245.28mm\" wi=\"158.75mm\" orientation=\"landscape\" file=\"US20140260920A1-20140918-D00010.TIF\" alt=\"embedded image\" img-content=\"drawing\" img-format=\"tif\"/>\\n</figure>\\n<figure id=\"Fig-EMI-D00011\" num=\"00011\">\\n<img id=\"EMI-D00011\" he=\"228.18mm\" wi=\"183.90mm\" file=\"US20140260920A1-20140918-D00011.TIF\" alt=\"embedded image\" img-content=\"drawing\" img-format=\"tif\"/>\\n</figure>\\n<figure id=\"Fig-EMI-D00012\" num=\"00012\">\\n<img id=\"EMI-D00012\" he=\"235.03mm\" wi=\"147.83mm\" file=\"US20140260920A1-20140918-D00012.TIF\" alt=\"embedded image\" img-content=\"drawing\" img-format=\"tif\"/>\\n</figure>\\n<figure id=\"Fig-EMI-D00013\" num=\"00013\">\\n<img id=\"EMI-D00013\" he=\"171.70mm\" wi=\"160.10mm\" file=\"US20140260920A1-20140918-D00013.TIF\" alt=\"embedded image\" img-content=\"drawing\" img-format=\"tif\"/>\\n</figure>\\n</drawings>\\n<description id=\"description\">\\n<?summary-of-invention description=\"Summary of Invention\" end=\"lead\"?>\\n<heading id=\"h-0001\" level=\"1\">BACKGROUND OF THE INVENTION</heading>\\n<p id=\"p-0002\" num=\"0001\">1. Field of the Invention</p>\\n<p id=\"p-0003\" num=\"0002\">The present invention relates to an electronic percussion instrument including an impact sensor which converts vibration of a head being struck with a beater into an electric signal so as to generate an electronic musical sound.</p>\\n<p id=\"p-0004\" num=\"0003\">The present application claims priority on Japanese Patent Application No. 2013-49035 and Japanese Patent Application No. 2014-47225, the entire content of which is incorporated herein by reference.</p>\\n<p id=\"p-0005\" num=\"0004\">2. Description of the Related Art</p>\\n<p id=\"p-0006\" num=\"0005\">Conventionally-known electronic percussion instruments are designed to generate an electronic musical sound based on an electric signal output from an impact sensor which detects vibration of a head being struck with a beater. Patent Literature Document 1 (PLT1) discloses an electronic percussion instrument serving as an electronic bass drum with a circular head, made of an elastic material, whose periphery is engaged with a frame. An impact sensor is attached to the back of a strike area corresponding to the center of a head via a center cushion with an outer periphery encompassed by a ring-shaped damper cushion. A vibrating wave occurs when the strike area of a head is being struck with a beater. A vibrating wave is transmitted toward the periphery of a head, bounced back, and then attenuated by the damper cushion.</p>\\n<p id=\"p-0007\" num=\"0006\">The electronic percussion instrument of PLT1 generates an impulsive sound (i.e. a sound directly caused by an impact of a head being struck with a beater) independently of an electronic musical sound which is generated based on an electric signal output from an impact sensor which detects vibration occurring on a head being struck with a beater. Due to an impact of a head, a large vibration occurs in the entirety of the internal area of a head (i.e. an area which exists inwardly of the periphery of a head) compared to the periphery of a head which is fixed to the frame, thus causing a large impulsive sound. A large impulsive sound accompanied with an electronic musical sound is offensive to human\\'s ears, and therefore an impulsive sound may degrade the sound quality of an electronic percussion instrument in terms of articulation.</p>\\n<p id=\"p-0008\" num=\"0007\">It is necessary to reduce an impulsive sound accompanied with an electronic musical sound because both the pitch and the tone color of an impulsive sound significantly affect the sound quality of an electronic percussion instrument. For example, it is not preferable for an electronic percussion instrument to generate a high-pitch impulsive sound with a low volume which may degrade sound quality.</p>\\n<heading id=\"h-0002\" level=\"1\">CITATION LIST</heading>\\n<heading id=\"h-0003\" level=\"1\">Patent Literature Document</heading>\\n<p id=\"p-0009\" num=\"0000\">\\n<ul id=\"ul0001\" list-style=\"none\">\\n    <li id=\"ul0001-0001\" num=\"0008\">Patent Literature Document 1: Japanese Patent Application Publication No. 2009-128426</li>\\n</ul>\\n</p>\\n<heading id=\"h-0004\" level=\"1\">SUMMARY OF THE INVENTION</heading>\\n<p id=\"p-0010\" num=\"0009\">It is an object of the present invention to provide an electronic percussion instrument which aims to improve sound quality such as articulation by suppressing an impulsive sound which is generated when a head is being struck with a beater.</p>\\n<p id=\"p-0011\" num=\"0010\">The present invention is directed to an electronic percussion instrument which generates an electronic musical sound in response to a striking operation applied to a head with a beater.</p>\\n<p id=\"p-0012\" num=\"0011\">In a first aspect of the present invention, an electronic percussion instrument includes a frame, a head, an impact sensor, and at least one connecting part. The head is made of an elastic material with a higher flexibility than the frame, wherein the head has a main area including a main strike area, which is disposed in the front side of the frame and which is mainly subjected to a striking operation, and an auxiliary area which includes a fixing part fixed to the frame but does not include the main strike area. The impact sensor converts a vibration occurring on the main strike area subjected to a striking operation into an electric signal. At least part of the main area of the head is connected to the auxiliary area via a connecting part which is reduced in thickness in comparison with the auxiliary area.</p>\\n<p id=\"p-0013\" num=\"0012\">In the above, the connecting part is horizontally arranged in at least one of the upper portion above the main area or the lower portion below the main area, wherein the connecting part is linearly elongated across the head. Preferably, the connecting part is made of a groove which is formed in the head. The groove is formed in each of the surface and the back of the head.</p>\\n<p id=\"p-0014\" num=\"0013\">In a second aspect of the present invention, an electronic percussion instrument includes a frame, a head, and an impact sensor. The head is made of an elastic material with a higher flexibility than the frame, wherein a main area, including a main strike area which is disposed in the front side of the frame and which is mainly subjected to a striking operation, is connected to an auxiliary area which includes a fixing part fixed to the frame but does not include the main strike area. The impact sensor converts a vibration occurring on the main strike area subjected to a striking operation into an electric signal.</p>\\n<p id=\"p-0015\" num=\"0014\">In the above, the main area is horizontally elongated in the head. Preferably, the electronic percussion instrument may further include a vibration-damping member which is made of a harder material than the head and which is disposed in at least one of the front side, the rear side, and the inside of the auxiliary area precluding the main strike area in the head.</p>\\n<p id=\"p-0016\" num=\"0015\">In this connection, it is possible to dispose the impact sensor close to the main strike area of the head via a cushion member.</p>\\n<p id=\"p-0017\" num=\"0016\">As described above, the present invention demonstrates advantageous effects such as a vibration-damping effect to suppress an impulsive sound at a striking operation on the head being struck with a beater, and an effect to improve sound quality while reducing mechanical noise. Preferably, the electronic percussion instrument of the present invention is applicable to a twin-beater bass drum set.</p>\\n<?summary-of-invention description=\"Summary of Invention\" end=\"tail\"?>\\n<?brief-description-of-drawings description=\"Brief Description of Drawings\" end=\"lead\"?>\\n<description-of-drawings>\\n<heading id=\"h-0005\" level=\"1\">BRIEF DESCRIPTION OF THE DRAWINGS</heading>\\n<p id=\"p-0018\" num=\"0017\">These and other objects, aspects, and embodiments of the present invention will be described in more detail with reference to the following drawings.</p>\\n<p id=\"p-0019\" num=\"0018\"><figref idref=\"DRAWINGS\">FIG. 1A</figref> is a perspective view showing the front side of an electronic percussion instrument according to the preferred embodiment of the present invention.</p>\\n<p id=\"p-0020\" num=\"0019\"><figref idref=\"DRAWINGS\">FIG. 1B</figref> is a perspective view showing the rear side of the electronic percussion instrument.</p>\\n<p id=\"p-0021\" num=\"0020\"><figref idref=\"DRAWINGS\">FIG. 2A</figref> is a front view of the electronic percussion instrument.</p>\\n<p id=\"p-0022\" num=\"0021\"><figref idref=\"DRAWINGS\">FIG. 2B</figref> is a side view of the electronic percussion instrument.</p>\\n<p id=\"p-0023\" num=\"0022\"><figref idref=\"DRAWINGS\">FIG. 3</figref> is a longitudinal sectional view taken along line A-A in <figref idref=\"DRAWINGS\">FIG. 2A</figref>.</p>\\n<p id=\"p-0024\" num=\"0023\"><figref idref=\"DRAWINGS\">FIG. 4</figref> is a cross-sectional view taken along line B-B in <figref idref=\"DRAWINGS\">FIG. 2A</figref>.</p>\\n<p id=\"p-0025\" num=\"0024\"><figref idref=\"DRAWINGS\">FIG. 5A</figref> is a cross-sectional view partly in side section taken along line C-C in <figref idref=\"DRAWINGS\">FIG. 5B</figref>.</p>\\n<p id=\"p-0026\" num=\"0025\"><figref idref=\"DRAWINGS\">FIG. 5B</figref> is a rear view of a plate in the electronic percussion instrument.</p>\\n<p id=\"p-0027\" num=\"0026\"><figref idref=\"DRAWINGS\">FIG. 5C</figref> is a front view of a frame in the electronic percussion instrument.</p>\\n<p id=\"p-0028\" num=\"0027\"><figref idref=\"DRAWINGS\">FIG. 5D</figref> is a side view of the frame in the electronic percussion instrument.</p>\\n<p id=\"p-0029\" num=\"0028\"><figref idref=\"DRAWINGS\">FIG. 6A</figref> is a front view showing a first variation of the head in the electronic percussion instrument.</p>\\n<p id=\"p-0030\" num=\"0029\"><figref idref=\"DRAWINGS\">FIG. 6B</figref> is a side view showing a second variation of the head in the electronic percussion instrument.</p>\\n<p id=\"p-0031\" num=\"0030\"><figref idref=\"DRAWINGS\">FIG. 6C</figref> is a front view showing a third variation of the head in the electronic percussion instrument.</p>\\n<p id=\"p-0032\" num=\"0031\"><figref idref=\"DRAWINGS\">FIG. 6D</figref> is a front view showing a fourth variation of the head in the electronic percussion instrument.</p>\\n<p id=\"p-0033\" num=\"0032\"><figref idref=\"DRAWINGS\">FIG. 6E</figref> is a front view showing a fifth variation of the head in the electronic percussion instrument.</p>\\n<p id=\"p-0034\" num=\"0033\"><figref idref=\"DRAWINGS\">FIG. 7A</figref> is a front view showing a first variation of the plate in connection with the head in the electronic percussion instrument.</p>\\n<p id=\"p-0035\" num=\"0034\"><figref idref=\"DRAWINGS\">FIG. 7B</figref> is a front view showing a second variation of the plate in connection with the head in the electronic percussion instrument.</p>\\n<p id=\"p-0036\" num=\"0035\"><figref idref=\"DRAWINGS\">FIG. 7C</figref> is a front view showing a third variation of the plate in connection with the head in the electronic percussion instrument.</p>\\n<p id=\"p-0037\" num=\"0036\"><figref idref=\"DRAWINGS\">FIG. 8A</figref> is an exploded perspective view showing a modified example of a pad member in which the head is connected to the frame via a joint member.</p>\\n<p id=\"p-0038\" num=\"0037\"><figref idref=\"DRAWINGS\">FIG. 8B</figref> is a cross-sectional view showing the modified example of the pad member including the head, the joint member with a through-hole, and the frame.</p>\\n<p id=\"p-0039\" num=\"0038\"><figref idref=\"DRAWINGS\">FIG. 8C</figref> is a cross-sectional view showing a further modified example of the pad member including the head with a through-hole, and the frame.</p>\\n<p id=\"p-0040\" num=\"0039\"><figref idref=\"DRAWINGS\">FIG. 8D</figref> is a cross-sectional view showing a further modified example of the pad member including the head and the frame with a cutout.</p>\\n<p id=\"p-0041\" num=\"0040\"><figref idref=\"DRAWINGS\">FIG. 9</figref> is a graph showing frequency characteristics of impulsive sounds with or without a vibration-damping member and a groove in the back of the head in the electronic percussion instrument.</p>\\n<p id=\"p-0042\" num=\"0041\"><figref idref=\"DRAWINGS\">FIG. 10A</figref> is a front view showing a further variation of a head made of rubber in an electronic percussion instrument;</p>\\n<p id=\"p-0043\" num=\"0042\"><figref idref=\"DRAWINGS\">FIG. 10B</figref> is a cross-sectional view partly in side section of the further variation of the head shown in <figref idref=\"DRAWINGS\">FIG. 10A</figref>.</p>\\n<p id=\"p-0044\" num=\"0043\"><figref idref=\"DRAWINGS\">FIG. 10C</figref> is a rear view of a further variation of a plate made of an iron serving as a vibration-damping member, the front side of which is covered with the head of <figref idref=\"DRAWINGS\">FIG. 10A</figref> in an electronic percussion instrument.</p>\\n<p id=\"p-0045\" num=\"0044\"><figref idref=\"DRAWINGS\">FIG. 11A</figref> is a front view of an electronic percussion instrument which is used to illustrate the technical feature of the present invention.</p>\\n<p id=\"p-0046\" num=\"0045\"><figref idref=\"DRAWINGS\">FIG. 11B</figref> is a side view of the electronic percussion instrument of <figref idref=\"DRAWINGS\">FIG. 11A</figref>.</p>\\n<p id=\"p-0047\" num=\"0046\"><figref idref=\"DRAWINGS\">FIG. 11C</figref> is a cross-sectional view taken along line D-D in <figref idref=\"DRAWINGS\">FIG. 1A</figref> in view of the upper side of the electronic percussion instrument of <figref idref=\"DRAWINGS\">FIG. 11A</figref>.</p>\\n</description-of-drawings>\\n<?brief-description-of-drawings description=\"Brief Description of Drawings\" end=\"tail\"?>\\n<?detailed-description description=\"Detailed Description\" end=\"lead\"?>\\n<heading id=\"h-0006\" level=\"1\">DESCRIPTION OF THE PREFERRED EMBODIMENT</heading>\\n<p id=\"p-0048\" num=\"0047\">The present invention will be described in further detail by way of examples with reference to the accompanying drawings.</p>\\n<p id=\"p-0049\" num=\"0048\"><figref idref=\"DRAWINGS\">FIG. 1A</figref> is a perspective view showing the front side of an electronic percussion instrument according to the preferred embodiment of the present invention, while <figref idref=\"DRAWINGS\">FIG. 1B</figref> is a perspective view showing the rear side of the electronic percussion instrument precluding covers. <figref idref=\"DRAWINGS\">FIG. 2A</figref> is a front view of the electronic percussion instrument, while <figref idref=\"DRAWINGS\">FIG. 2B</figref> is a side view of the electronic percussion instrument.</p>\\n<p id=\"p-0050\" num=\"0049\">The electronic percussion instrument of the present embodiment serves as an electronic bass drum in which a main body serving as a kick pad is supported by a stand <b>10</b>. A foot pedal device (not shown) is additionally attached to the front side of the electronic percussion instrument in proximity to a player (e.g. a drummer) who plays the electronic percussion instrument. For convenience sake, four directions (i.e. UP, DOWN, RIGHT, LEFT) are determined in the player\\'s view, i.e. in the front view of the electronic percussion instrument shown in <figref idref=\"DRAWINGS\">FIG. 2A</figref>. Additionally, two directions (i.e. FRONT, REAR) are determined in the player\\'s view, and therefore the front side matches with the player\\'s side.</p>\\n<p id=\"p-0051\" num=\"0050\">It is possible to employ the generally-manufactured product of a foot pedal device, in which a player may operate (or depress) a pedal with his/her foot to strike a circular-shaped pad member PD with a beater (not shown). In this connection, the foot pedal device may include a single beater. The present embodiment is adapted to a twin-beater foot pedal device including two beaters which can be independently operated by a player. For this reason, the circular-shaped pad member PD includes an elliptically-shaped main strike area <b>38</b> which can be divided into left and right sides about the center point in the front view in connection with two beaters. That is, the foot pedal device is arranged such that the left and right beaters can strike the left and right sides of the main strike area <b>38</b> respectively.</p>\\n<p id=\"p-0052\" num=\"0051\">As shown in <figref idref=\"DRAWINGS\">FIG. 1B</figref>, a metal stay <b>20</b> is fixed to the upper side of the stand <b>10</b>. The pad member PD is fixed to the front side of the stay <b>20</b> via a flange of a cushion-holding member <b>19</b>.</p>\\n<p id=\"p-0053\" num=\"0052\"><figref idref=\"DRAWINGS\">FIG. 3</figref> is a longitudinal sectional view of the electronic percussion instrument along line A-A in <figref idref=\"DRAWINGS\">FIG. 2A</figref>, while <figref idref=\"DRAWINGS\">FIG. 4</figref> is a cross-sectional view of the electronic percussion instrument along line B-B in <figref idref=\"DRAWINGS\">FIG. 2A</figref>. As shown in <figref idref=\"DRAWINGS\">FIGS. 3 and 4</figref>, a rear cover <b>11</b> is fixed to the upper and lower sides of the stay <b>20</b> in the rear view. A front cover <b>25</b> having a cylindrical shape is fixed to the rear cover <b>11</b> by way of six hooks <b>12</b> which are separated from each other by equal distances in the circumferential direction of the pad member PD. The external circumference of the pad member PD is entirely covered with the front cover <b>25</b>.</p>\\n<p id=\"p-0054\" num=\"0053\">Next, the details of the pad member PD will be described. The pad member PD includes a head <b>30</b> which is integrally formed using an elastic material such as rubber, silicon, and urethane, a frame <b>40</b> made of a resin, and a plate <b>49</b> made of a hard resin or a metal. The head <b>30</b> is made of an elastic material which is softer or more elastic than the material of the frame <b>40</b>. The plate <b>49</b> is made of a material which is harder than the material of the head <b>30</b>, wherein the plate <b>49</b> is a plate member serving as a vibration damper.</p>\\n<p id=\"p-0055\" num=\"0054\"><figref idref=\"DRAWINGS\">FIG. 5A</figref> is a cross-sectional view of the head <b>30</b>, while <figref idref=\"DRAWINGS\">FIG. 5B</figref> is a rear view of the plate <b>49</b>. That is, <figref idref=\"DRAWINGS\">FIG. 5A</figref> is a cross-sectional side view taken along line C-C in <figref idref=\"DRAWINGS\">FIG. 5B</figref>, thus showing a side view partly in cross section. <figref idref=\"DRAWINGS\">FIG. 5C</figref> is a front view of the frame <b>40</b>, while <figref idref=\"DRAWINGS\">FIG. 5D</figref> is a side view of the frame <b>40</b>.</p>\\n<p id=\"p-0056\" num=\"0055\">As shown in <figref idref=\"DRAWINGS\">FIGS. 5A and 5B</figref>, the head <b>30</b> having a circular shape in a front view includes a periphery <b>31</b> (i.e. the external circumference of the head <b>30</b>). The upper and lower parts of the periphery <b>31</b> of the head <b>30</b> are folded inwardly in the radius direction to form folded parts <b>32</b>. A pair of linear grooves <b>34</b><i>a</i>, <b>35</b><i>a </i>is formed in parallel to horizontally cross the rear face of the head <b>30</b> in the left-right direction of <figref idref=\"DRAWINGS\">FIG. 5B</figref>. Specifically, the grooves <b>34</b><i>a </i>and <b>35</b><i>a </i>are U-shaped grooves which are formed by partly engraving the rear face of the head <b>30</b> by the predetermined depth such that the remaining parts after engraving are used as connecting parts <b>34</b> and <b>35</b> serving as hinges. A plurality of cutouts <b>33</b> (i.e. <b>33</b>-<b>1</b> and <b>33</b>-<b>2</b>) is formed in the periphery <b>31</b> of the head <b>30</b> at the left and right edges which exist between the connecting parts <b>34</b> and <b>35</b> in the vertical direction. No cutouts <b>33</b> are formed in the folded parts <b>32</b> of the periphery <b>31</b> of the head <b>30</b>. Instead, a plurality of notches <b>36</b> is formed in the folded parts <b>32</b> which are separated from each other in the vertical direction.</p>\\n<p id=\"p-0057\" num=\"0056\">The head <b>30</b> is uniformly formed with the same thickness except for the folded parts <b>32</b> and the connecting parts <b>34</b>, <b>35</b>. As shown in <figref idref=\"DRAWINGS\">FIGS. 2A and 5A</figref>, the intermediate area formed between the connecting parts <b>34</b> and <b>35</b> in the vertical direction is a main area R<b>0</b> including the main strike area <b>38</b> which is actually struck with a beater (or beaters). An upper area R<b>1</b> is formed above the connecting part <b>34</b>, while a lower area R<b>2</b> is formed below the connecting part <b>35</b>. The upper area R<b>1</b> and the lower area R<b>2</b> are auxiliary areas which do not encompass the main strike area <b>38</b> of the head <b>30</b>. The main area R<b>0</b> is connected to the upper area R<b>1</b> via the connecting part <b>34</b>, while the main area R<b>0</b> is connected to the lower area R<b>2</b> via the connecting part <b>35</b>. It is preferable that the maximum thickness of the connecting parts <b>34</b>, <b>35</b> be thinner than the minimum thickness of the auxiliary areas.</p>\\n<p id=\"p-0058\" num=\"0057\">As shown in <figref idref=\"DRAWINGS\">FIG. 5B</figref>, the plate <b>49</b> is a ring-shaped member with a circular external shape, wherein a horizontally-elongated plate hole <b>49</b><i>a </i>is formed in the plate <b>49</b>. The plate <b>49</b> is fixed to the rear face of the head <b>30</b> by way of the adhesive. When the plate <b>49</b> is fixed to the head <b>30</b>, the upper edge of the plate hole <b>49</b><i>a </i>matches with the upper edge of the groove <b>34</b><i>a </i>while the lower edge of the plate hole <b>49</b><i>a </i>matches with the lower edge of the groove <b>35</b><i>a. </i></p>\\n<p id=\"p-0059\" num=\"0058\">As shown in <figref idref=\"DRAWINGS\">FIGS. 5C and 5D</figref>, the frame <b>40</b> is a ring-shaped member with a horizontally-elongated frame hole <b>41</b>. The plate hole <b>49</b><i>a </i>of the plate <b>40</b> (see FIG. <b>5</b>B) is bigger than the frame hole <b>41</b> of the frame <b>40</b> (see <figref idref=\"DRAWINGS\">FIGS. 5C</figref>, <b>5</b>D) in the vertical direction and in the horizontal direction. Alternatively, the plate hole <b>49</b><i>a </i>has the same size as the frame hole <b>41</b>. The intermediate part of the frame <b>40</b> in the vertical direction is recessed in comparison with the upper and lower parts, and therefore a plurality of step differences <b>42</b> (i.e. <b>42</b>-<b>1</b>, <b>42</b>-<b>2</b>) is formed in the left and right sides of the frame <b>40</b>. The lower area below the step differences <b>42</b> and the upper area above the step differences <b>42</b> are larger in thickness than the step differences <b>42</b>, and therefore the surfaces of the upper and lower areas serve as receiving faces <b>43</b> which come in contact with the plate <b>49</b>. The periphery of the frame <b>40</b> is divided into an upper periphery <b>44</b> and a lower periphery <b>45</b>. When the plate <b>49</b> is assembled with the frame <b>40</b>, the cutouts <b>33</b>-<b>1</b>, <b>33</b>-<b>2</b> are positioned to face the step differences <b>42</b>-<b>1</b>, <b>42</b>-<b>2</b> respectively.</p>\\n<p id=\"p-0060\" num=\"0059\">The electronic percussion instrument is manufactured by assembling parts in the following manner. First, the stay <b>20</b> is fixed to the upper portion of the stand <b>10</b> via screws (see <figref idref=\"DRAWINGS\">FIG. 1B</figref>). A plurality of cushion layers <b>18</b> which are laminated in the front-rear direction is attached to the cushion-holding member <b>19</b>, wherein an impact sensor <b>17</b> made of a piezoelectric sensor is interposed between the cushion layers <b>18</b> which are laminated in the front-rear direction (see <figref idref=\"DRAWINGS\">FIGS. 3</figref>, <b>4</b>). Together with the stay <b>20</b>, the flange of the cushion-holding member <b>19</b> is fixed to the rear face of the frame <b>40</b> of the pad member PD via screws (see <figref idref=\"DRAWINGS\">FIG. 1B</figref>). In the process of fixing the stay <b>20</b> and the cushion-holding member <b>19</b> to the frame <b>40</b>, it is possible to use the frame <b>40</b> independently of associated parts. Alternatively, it is possible to use the pad member PD which is already furnished with the frame <b>40</b> in advance.</p>\\n<p id=\"p-0061\" num=\"0060\">The pad member PD is produced by assembling parts in the following manner. First, it is necessary to prepare an intermediate product in which the plate <b>49</b> is adhered to the rear face of the head <b>30</b> (see <figref idref=\"DRAWINGS\">FIG. 5B</figref>). The rear side of the intermediate product is positioned opposite to the surface of the frame <b>40</b> such that the plate hole <b>49</b><i>a </i>matches with the frame hole <b>41</b> (see <figref idref=\"DRAWINGS\">FIG. 5C</figref>) in precise positioning. The folded parts <b>32</b> of the periphery <b>31</b> of the head <b>30</b> are engaged with the peripheries <b>44</b>, <b>45</b> of the frame <b>40</b> such that the folded parts <b>32</b> are externally covered with the peripheries <b>44</b>, <b>45</b> respectively. Due to the formation of the cutouts <b>33</b> and the notches <b>36</b> in the plate <b>49</b>, it is easy for a worker to engage the folded parts <b>32</b> of the head <b>30</b> with the peripheries <b>44</b>, <b>45</b> of the frame <b>40</b>.</p>\\n<p id=\"p-0062\" num=\"0061\">Thus, it is possible to completely produce the pad member PD when the head <b>30</b> is assembled with the frame <b>40</b>, wherein the upper and lower parts of the plate <b>49</b> are brought in contact with the receiving faces <b>43</b> of the frame <b>40</b>. Additionally, a protective material having flexibility such as a knitted material is attached to entirely cover the front face of the head <b>30</b>. A space is formed between the cutout <b>33</b>-<b>1</b> and the step difference <b>42</b>-<b>1</b> in the front-rear direction while another space is formed between the cutout <b>33</b>-<b>2</b> and the step difference <b>42</b>-<b>2</b>. Those spaces are air vents which are formed in the left and right sides of the pad member PD so as to communicate with the external air (see <figref idref=\"DRAWINGS\">FIG. 1B</figref> and <figref idref=\"DRAWINGS\">FIG. 4</figref>).</p>\\n<p id=\"p-0063\" num=\"0062\">As shown in <figref idref=\"DRAWINGS\">FIGS. 3 and 4</figref>, a part of the cushion layers <b>18</b> is introduced into the frame hole <b>41</b> such that the front face of the cushion layers <b>18</b> comes in contact with the rear face of the head <b>30</b> (in particular, the rear face of the main strike area <b>38</b>) when the stay <b>20</b> and the cushion-holding member <b>19</b> are fixed to the pad member PD.</p>\\n<p id=\"p-0064\" num=\"0063\">Next, the rear cover <b>11</b> is fixed to the upper rear part and the lower rear part of the stay <b>20</b> via screws. The periphery of the front cover <b>25</b> is engaged with the inside of the edge of the rear cover <b>11</b>, and then the rear cover <b>11</b> and the front cover <b>25</b> are assembled together by use of the six hooks <b>12</b> in the front-rear direction. Then, a plurality of screws is applied to the rear parts of the hooks <b>12</b>, which are thus attached to the rear side of the rear cover <b>11</b>. Herein, the distal ends of screws press the rear cover <b>11</b> in the forward direction, while the front parts of the hooks <b>12</b> press the front cover <b>25</b> in the backward direction. Thus, it is possible to firmly attach the front cover <b>25</b> to the rear cover <b>11</b>.</p>\\n<p id=\"p-0065\" num=\"0064\">It is important in the present embodiment that the front cover <b>25</b> entirely covers the external periphery of the pad member PD but that the front cover <b>25</b> does not come in direct contact with the pad member PD. In other words, the pad member PD is supported by the stand <b>10</b> via the stay <b>20</b>, but the front cover <b>25</b> does not at all contribute to the support of the pad member PD. In this connection, the present embodiment is not necessarily limited to the foregoing method of fixing the rear cover <b>11</b> and the front cover <b>25</b>; hence, the hooks <b>12</b> are not essential to the present embodiment. It is possible to employ an integrally-unified cover which unifies the rear cover <b>11</b> and the front cover <b>25</b>. A plurality of slits <b>26</b> is formed in the left and right sides of the front cover <b>25</b> at the predetermined positions which match with the positions of the cutouts <b>33</b> and the positions of the step differences <b>42</b> (see <figref idref=\"DRAWINGS\">FIG. 1A</figref> and <figref idref=\"DRAWINGS\">FIG. 2</figref>).</p>\\n<p id=\"p-0066\" num=\"0065\">In the present embodiment adopting a twin-beater foot pedal device, the main strike area <b>38</b> is a horizontally-elongated elliptical shape as shown in <figref idref=\"DRAWINGS\">FIGS. 1A and 2A</figref>. As described above, a knitted material is adhered to the surface of the head <b>30</b>, whereas the following description does not necessarily discriminate the knitted material and the surface of the head <b>30</b>.</p>\\n<p id=\"p-0067\" num=\"0066\">Vibration occurs on the head <b>30</b> when the main strike area <b>38</b> of the head <b>30</b> is struck with a beater. Vibration of the head <b>30</b> is transmitted to the impact sensor <b>17</b> via the foremost layer of the cushion layers <b>18</b>. The impact sensor <b>17</b> converts vibration into an electric signal (e.g. an electric voltage), which is output as a detection signal. The electronic percussion instrument detects a striking operation applied to the head <b>30</b> with a beater when the detection signal exceeds the predetermined threshold. Based on the detection result, the electronic percussion instrument produces a musical sound with a volume corresponding to the detection signal at the timing of detecting a striking operation by way of a musical sound generating system (not shown).</p>\\n<p id=\"p-0068\" num=\"0067\">The present embodiment is characterized by implementing a countermeasure to reduce an impulsive sound when a beater strikes the head <b>30</b>. An impulsive sound is a mechanical sound which is generated independently of an electronic musical sound, which is electronically generated based on a detection signal of the impulse sensor <b>17</b>, when a beater strikes the head <b>30</b>. In the conventional structure in which the periphery of the head <b>30</b> is entirely fixed to the periphery of the frame <b>40</b>, the internal area of the head <b>30</b> in the radius direction is entirely vibrated due to a striking operation on the head <b>30</b> with a beater; this may rapidly increase the back pressure of the head <b>30</b>. Due to this phenomenon, the conventional structure suffers from a large impulsive sound which occurs mechanically due to a striking operation on the head <b>30</b> with a beater. The present embodiment aims to reduce or suppress an impulsive sound and to improve a tone color by introducing the grooves <b>34</b><i>a</i>, <b>35</b><i>a </i>and the cutouts <b>33</b> in the head <b>30</b> as well as the plate <b>49</b>.</p>\\n<p id=\"p-0069\" num=\"0068\"><figref idref=\"DRAWINGS\">FIG. 9</figref> shows frequency characteristics of impulsive sounds S<b>1</b>, S<b>2</b>, wherein the impulsive sound S<b>1</b> is measured with the head structure including a groove and a vibration-damping member in the back of the head, while the impulsive sound S<b>2</b> is measured with the head structure precluding a groove and a vibration-damping member. As shown by a dotted circle in <figref idref=\"DRAWINGS\">FIG. 9</figref>, the peak portion of the impulsive sound S<b>1</b> is significantly attenuated in sound pressure in comparison of the peak portion of the impulsive sound S<b>2</b>. This demonstrates an advantageous effect of the present embodiment including a groove and a vibration-damping member in the back of the head in terms of frequency characteristics and noiselessness.</p>\\n<p id=\"p-0070\" num=\"0069\">In the head <b>30</b> (see <figref idref=\"DRAWINGS\">FIGS. 5A and 5B</figref>), the main area R<b>0</b> is connected to the upper area R<b>1</b> and the lower area R<b>2</b> via the connecting parts <b>34</b> and <b>35</b> which are thinned in thickness. Due to the connectors connecting parts <b>34</b> and <b>35</b> serving as hinges, the head <b>30</b> is not uniformly vibrated at a striking operation on the head <b>30</b> with a beater, but the main area R<b>0</b> is relatively vibrated about the connecting parts <b>34</b> and <b>35</b> serving as the oscillating points for the upper area R<b>1</b> and the lower area R<b>2</b>. This reduces the vibrating area in the head <b>30</b> so as to reduce an impulsive sound in volume. Additionally, the thickness of the main area R<b>0</b> is not smaller than the thickness of the connecting parts <b>34</b> and <b>35</b>; this may not increase the pitch of an impulsive sound, thus improving sound quality while reducing mechanical noise.</p>\\n<p id=\"p-0071\" num=\"0070\">Due to the formation of the cutouts <b>33</b> in the left and right sides in the periphery <b>31</b> of the head <b>30</b>, even when the back pressure of the head <b>30</b> is varied due to vibration of the head <b>30</b> at a striking operation, air may pass through the cutouts <b>33</b> so as to alleviate variations of the back pressure of the head <b>30</b>. Additionally, the step differences <b>42</b> of the frame <b>40</b> cooperate with the cutouts <b>33</b> to form air ventilation, thus smoothing the inlet and outlet of air in the head <b>30</b> while reducing mechanical noise.</p>\\n<p id=\"p-0072\" num=\"0071\">It is necessary to arrange at least one cutout <b>33</b> serving as an air vent in the periphery <b>31</b> of the head <b>30</b>, and it is preferable to arrange a plurality of cutouts <b>33</b> in order to achieve efficient air ventilation. In particular, it is preferable to arrange a pair of cutouts <b>33</b> which are disposed opposite to each other with the maximum distance therebetween in the circumferential direction in terms of effective air ventilation. In the present embodiment, the left-side cutout <b>33</b>-<b>1</b> is positioned opposite to the right-side cutout <b>33</b>-<b>2</b> by way of the main area R<b>0</b>; but this is not a restriction. It is possible to divide the circular-shaped head <b>30</b> into a pair of semicircular sections, each of which may arrange at least one air vent. In this connection, it is possible to secure a high air-ventilation effect on the condition that distance between the opposite position of the cutout <b>33</b>-<b>1</b> and the cutout <b>33</b>-<b>2</b> is shorter than the distance between the cutouts <b>33</b>-<b>1</b> and <b>33</b>-<b>2</b>.</p>\\n<p id=\"p-0073\" num=\"0072\">The front cover <b>25</b> includes a plurality of slits <b>26</b> which are positioned at the same positions as the cutouts <b>33</b> and the step differences <b>42</b> in the circumferential direction of the head <b>30</b>. Thus, it is possible to cover the head <b>30</b> with the front cover <b>25</b> without reducing air ventilation via the cutouts <b>33</b> and the step differences <b>42</b>.</p>\\n<p id=\"p-0074\" num=\"0073\">The electronic percussion instrument may be degraded in terms of the precision of detecting a striking operation on the head <b>30</b> with a beater due to vibration which is continued for a relatively long time due to a large vibration applied to the entirety of the head <b>30</b>. To overcome this event, the present embodiment introduces the hard plate <b>49</b> which encompasses the main strike area <b>38</b> in the head <b>30</b>. Thus, it is possible to suppress a large vibration which occurs on the head <b>30</b> being struck with a beater, and therefore it is possible to attenuate vibration and to improve the precision of detecting a striking operation. Additionally, it is possible to reliably reduce an impulsive sound, which is mechanically generated when the head <b>30</b> is struck with a beater, due to vibration suppression. In particular, the present embodiment demonstrates a high vibration-damping effect due to close adherence of the plate <b>49</b> to the frame <b>40</b>. Additionally, the present embodiment demonstrates a high vibration-damping effect in all the radius directions about the main strike area <b>38</b> due to the seamless ring-shape of the plate <b>49</b>. On the other hand, the present embodiment does not degrade a player\\'s sensation to strike the head <b>30</b> with a beater since the plate <b>49</b> does not interfere with the main strike area <b>38</b>.</p>\\n<p id=\"p-0075\" num=\"0074\">Due to the formation of the &#x201c;thinned&#x201d; connecting parts <b>34</b> and <b>35</b> in the head <b>30</b>, it is possible to suppress an impulsive sound (i.e. a mechanical sound which occurs when the head <b>30</b> is struck with a beater) and to improve sound quality while reducing mechanical noise. Due to the formation of the cutouts <b>33</b> and the step differences <b>42</b> at the predetermined positions which do not interfere with the main area R<b>0</b> including the main strike area <b>38</b>, it is possible to easily vent air in the back of the head <b>30</b> being struck with a beater, thus improving sound quality while reducing mechanical noise. Due to the arrangement of the plate <b>49</b>, it is possible to suppress vibration which occurs on the head <b>30</b> being struck with a beater, thus reducing an impulsive sound and improving the precision of detecting a striking operation on the head <b>30</b>.</p>\\n<p id=\"p-0076\" num=\"0075\">The present embodiment is characterized in that the connecting parts <b>34</b> and <b>35</b> are horizontally and linearly elongated while the main area R<b>0</b> is laterally elongated. Additionally, the main strike area <b>38</b> of the head <b>30</b> is encompassed by the plate <b>49</b> in conformity with the plate hole <b>49</b><i>a</i>, and therefore the main strike area <b>38</b> is laterally elongated. Thus, the electronic percussion instrument of the present embodiment demonstrating a vibration-damping effect is applicable to a twin-beater bass drum set.</p>\\n<p id=\"p-0077\" num=\"0076\">When the frame <b>40</b> is fixed in position by way of the periphery <b>31</b> of the head <b>30</b>, the peripheries <b>44</b> and <b>45</b> of the frame <b>40</b> are externally covered with the folded parts <b>32</b> of the periphery <b>31</b>, and therefore the frame <b>40</b> is firmly attached to the head <b>30</b>. Due to the formation of the cutouts <b>33</b> in the periphery <b>31</b> of the head <b>30</b>, it is easy for a worker to fix the position of the frame <b>40</b> such that folded parts <b>32</b> are wound about the peripheries <b>44</b> and <b>45</b>. In particular, the cutouts <b>33</b> are formed in proximity to the left and right ends of the connecting parts <b>34</b> and <b>35</b> in connection with the periphery <b>31</b> of the head <b>30</b> close to the main area R<b>0</b>. This makes it easy for a worker to process the cutouts <b>33</b> and the connecting parts <b>34</b>, <b>35</b>. In other words, the present embodiment is advantageous in terms of the manufacturing of the head <b>30</b> applicable to a twin-beater bass drum set.</p>\\n<p id=\"p-0078\" num=\"0077\">It is possible to create various types of the head <b>30</b>, each of which is able to suppress an impulsive sound when the head <b>30</b> is struck with a beater. Variations of the head <b>30</b> will be described with reference to <figref idref=\"DRAWINGS\">FIGS. 6A to 6E</figref>.</p>\\n<p id=\"p-0079\" num=\"0078\">It is not essential to continuously form the connecting parts <b>34</b>, <b>34</b> and the grooves <b>34</b><i>a</i>, <b>35</b><i>a</i>, which can be intermittently disconnected. <figref idref=\"DRAWINGS\">FIG. 6A</figref> shows a first variation of the head <b>30</b> in which the connecting parts <b>34</b> and <b>35</b> are each intermittently disconnected at various points, which can demonstrate a mechanical noise suppression effect as well. Additionally, it is not essential to form one connecting part (e.g. the connecting part <b>34</b>) as a single groove, and therefore the connecting part can be redesigned such that the front and rear sides thereof are alternatively recessed in the head <b>30</b>. <figref idref=\"DRAWINGS\">FIG. 6B</figref> shows a second variation of the head <b>30</b> in which the connecting part <b>34</b> is configured of a pair of grooves <b>34</b><i>b </i>and <b>34</b><i>c </i>which are positioned adjacent to each other and which are alternatively recessed on the front and rear sides. The other connecting part <b>35</b> can be redesigned in a similar manner to the connecting part <b>34</b>. It is necessary for the connecting parts <b>34</b> and <b>35</b> to be reduced in thickness in comparison with the upper area R<b>1</b> and the lower area R<b>2</b>. In this connection, the connecting parts <b>34</b> and <b>35</b> are not necessarily shaped like grooves, and therefore they can be formed in other shapes. Additionally, the connecting parts <b>34</b> and <b>35</b> are not necessarily formed in linear shapes; hence, they can be formed in S-shapes or curved shapes.</p>\\n<p id=\"p-0080\" num=\"0079\">It is not necessary to form two connecting parts <b>34</b> and <b>35</b>; hence, a single connecting part may sufficiently demonstrate a mechanical noise suppression effect. <figref idref=\"DRAWINGS\">FIG. 6C</figref> shows a third variation of the head <b>30</b> with a single ring-shaped connecting part <b>34</b>. The main area R<b>0</b> is encompassed inside the ring-shaped connecting part <b>34</b>, while the auxiliary areas (i.e. the upper area R<b>1</b> and the lower area R<b>2</b>) are positioned outside the ring-shaped connecting part <b>34</b>. The main area R<b>0</b> and the auxiliary areas are connected together via the &#x201c;thinned&#x201d; ring-shaped connecting part <b>34</b>.</p>\\n<p id=\"p-0081\" num=\"0080\">In the present embodiment, the head <b>30</b> is designed such that the main area R<b>0</b> and the auxiliary areas (i.e. the upper area R<b>1</b> and the lower area R<b>2</b>) are connected together via the connecting parts <b>34</b> and <b>35</b>; but this is not a restriction. The connecting parts <b>34</b> and <b>35</b> need to be reduced in thickness in comparison with the auxiliary areas; hence, it is possible to redesign the head <b>30</b> such that all the main area R<b>0</b> and the connecting parts <b>34</b>, <b>35</b> have the same thickness. <figref idref=\"DRAWINGS\">FIG. 6D</figref> shows a fourth variation of the head <b>30</b> in which the main area R<b>0</b> is reduced in thickness in comparison with the auxiliary areas such that the connecting parts <b>34</b> and <b>35</b> cannot be visibly recognized as constituent elements in the main area R<b>0</b>. This structure can be regarded such that the main area R<b>0</b> is directly connected to the auxiliary areas. Strictly speaking in terms of the thickness, the maximum thickness of the main area R<b>0</b> is smaller than the minimum thickness of the auxiliary areas.</p>\\n<p id=\"p-0082\" num=\"0081\"><figref idref=\"DRAWINGS\">FIG. 6E</figref> shows a fifth variation of the head <b>30</b> in which the main strike area <b>30</b> is solely reduced in thickness rather than the other areas such that the main strike area <b>30</b> will match with the main area R<b>0</b>. In this structure, the main area R<b>0</b> is encompassed by the ring-shaped auxiliary area (serving as the upper area R<b>1</b> and the lower area R<b>2</b>).</p>\\n<p id=\"p-0083\" num=\"0082\">As described above, the above variations of the head <b>30</b> shown in <figref idref=\"DRAWINGS\">FIGS. 6A</figref> to <b>6</b>E are able to suppress an impulsive sound which occurs when the head <b>30</b> is being struck with a beater, thus improving sound quality while reducing mechanical noise.</p>\\n<p id=\"p-0084\" num=\"0083\">In terms of suppression of vibration at a striking operation, it is necessary for the plate <b>49</b> (serving as a vibration-damping member) to encompass the main strike area <b>38</b> (or to sandwich the main strike area <b>38</b>) in the plane parallel to the striking surface of the head <b>30</b>. For this reason, it is not necessary to form the plate <b>49</b> in a complete ring-shape. Variations of the plate <b>49</b> will be described with reference to <figref idref=\"DRAWINGS\">FIGS. 7A to 7C</figref>.</p>\\n<p id=\"p-0085\" num=\"0084\"><figref idref=\"DRAWINGS\">FIG. 7A</figref> shows a first variation of the plate <b>49</b> which is divided into a plurality of plates <b>49</b>A to <b>49</b>D which are arranged adjacent to each other around the main strike area <b>38</b> in the circumferential direction with gaps therebetween. <figref idref=\"DRAWINGS\">FIG. 7B</figref> shows a second variation of the plate <b>49</b> which is vertically divided into a pair of plates <b>49</b>A and <b>49</b>B which are arranged to encompass the main strike area <b>38</b>. <figref idref=\"DRAWINGS\">FIG. 7C</figref> shows a third variation of the plate <b>49</b> which is separately divided into an upper plat <b>49</b>A above the connecting part <b>34</b> and a lower plate <b>49</b>B below the connecting part <b>35</b>.</p>\\n<p id=\"p-0086\" num=\"0085\">In either case, the plate <b>49</b> is arranged in the area precluding the main strike area <b>38</b>, whereas the plate <b>49</b> is not necessarily arranged in the rear side of the head <b>30</b> but can be arranged in the front side of the head <b>30</b> or in the inside area of the head <b>30</b>. Alternatively, the plate <b>49</b> can be arranged in at least one of the rear side, the front side, and the inside area of the head <b>30</b>. Additionally, it is possible to arrange the plate <b>49</b> in both the front side and the rear side of the head <b>30</b>. In this connection, the plate <b>49</b> is not necessarily adhered to the head <b>30</b> but can be inserted into the head <b>30</b> by way of the insert molding. To increase a vibration-damping effect, it is necessary to closely adhere the plate <b>49</b> to the frame <b>40</b>, whereas it is not necessary to directly attach the plate to the frame <b>40</b>. Similar to the insert molding in which the plate <b>49</b> is inserted in the head <b>30</b>, it is possible to indirectly attach the plate <b>49</b> to the frame <b>40</b>.</p>\\n<p id=\"p-0087\" num=\"0086\">In this connection, a part of the frame <b>40</b> which is attached to the periphery <b>31</b> of the head <b>30</b> will be referred to as a head mount portion, which corresponds to the peripheries <b>44</b> and <b>45</b> of the frame <b>40</b>. It is not essential that the periphery <b>31</b> of the head <b>30</b> be directly attached to the frame <b>40</b>. <figref idref=\"DRAWINGS\">FIGS. 8A and 8B</figref> show a modified example of the pad member PD in which the periphery <b>31</b> of the head <b>30</b> is connected to the head mount portion of the frame <b>40</b> via a ring-shaped joint member <b>37</b> which is arranged independently of the head <b>30</b> and the frame <b>40</b>. In this structure, the frame <b>40</b> is not necessarily formed in a circular shape, and therefore the frame <b>40</b> can be increased in size to be larger than the head <b>30</b>. For convenience sake, <figref idref=\"DRAWINGS\">FIGS. 8A and 8B</figref> preclude the illustration of the plate <b>49</b>.</p>\\n<p id=\"p-0088\" num=\"0087\">For the purpose of air ventilation in the back of the head <b>30</b> at a striking operation, it is necessary for the present embodiment to form the cutouts <b>33</b> of the head <b>30</b> and the step differences <b>42</b> of the frame <b>40</b> as air vents which allow air to pass therethrough at a striking operation of the head <b>30</b>; but this is not a restriction. To provide a sufficient air ventilation effect, it is necessary to arrange an air vent in at least one of the periphery <b>31</b> of the head <b>30</b>, the joint member <b>37</b>, and the head mount portion of the frame <b>40</b>.</p>\\n<p id=\"p-0089\" num=\"0088\">In the structure shown in <figref idref=\"DRAWINGS\">FIGS. 8A and 8B</figref>, for example, it is necessary to form a through-hole <b>37</b><i>a </i>serving as an air vent at one position in the external periphery of the ring-shaped joint member <b>37</b>. It is possible to preclude the joint member <b>37</b> as shown in <figref idref=\"DRAWINGS\">FIG. 8C</figref>, in which a through-hole <b>39</b> serving as an air vent is formed instead of the cutout <b>33</b> in the head <b>30</b>. Alternatively as shown in <figref idref=\"DRAWINGS\">FIG. 8D</figref>, it is possible to form a cutout <b>46</b> serving as an air vent in the frame <b>40</b>. In this connection, it is possible to arbitrarily combine the through-holes <b>37</b><i>a</i>, <b>39</b> and the cutout <b>46</b>, which can be formed by way of the mechanical molding or the metal molding.</p>\\n<p id=\"p-0090\" num=\"0089\">The present embodiment employs the plate <b>49</b> having the connecting parts <b>34</b>, and the grooves <b>34</b><i>a</i>, <b>35</b><i>a</i>; but this is not a restriction. It is possible to redesign the plate <b>49</b> without forming the grooves <b>34</b><i>a</i>, <b>35</b><i>a</i>. <figref idref=\"DRAWINGS\">FIGS. 10A to 10C</figref> show a further variation of the plate <b>49</b>, precluding the grooves <b>34</b><i>a</i>, <b>35</b><i>a</i>, which is covered with the head <b>30</b> in an electronic percussion instrument. <figref idref=\"DRAWINGS\">FIG. 10A</figref> is a front view of the head <b>30</b> in which the main strike area <b>38</b> is simply arranged in the center area of the pad member PD made of rubber, and <figref idref=\"DRAWINGS\">FIG. 10B</figref> is a side view of the head <b>30</b> which is divided into the main area R<b>0</b> and the auxiliary areas R<b>1</b>, R<b>2</b>. <figref idref=\"DRAWINGS\">FIG. 10C</figref> is a rear view of the plate <b>49</b> made of an iron, in which no grooves are formed between the main area R<b>0</b> and the auxiliary areas R<b>1</b>, R<b>2</b>. The center area of the plate <b>49</b> corresponding to the main area R<b>0</b> of the head <b>30</b> is reduced in thickness in comparison with the peripheral area of the plate <b>49</b> corresponding to the auxiliary areas R<b>1</b>, R<b>2</b> of the head <b>30</b>, thus reducing a vibration from being transmitted on the entire surface of the head <b>30</b>.</p>\\n<p id=\"p-0091\" num=\"0090\">Noticeably, no conventional arts are designed to provide air ventilation in the back of a head of an electronic percussion instrument. The present embodiment is characterized by employing a unique structure in which the cutouts <b>33</b> and the grooves <b>34</b> formed in the back of the head <b>30</b> cooperate with the step differences <b>42</b> formed in the frame <b>40</b> so as to secure adequate air ventilation in the back of the head <b>30</b>, thus reliably securing noiselessness while reducing noise due to an impact on the head <b>30</b> in playing the electronic percussion instrument. As shown in <figref idref=\"DRAWINGS\">FIGS. 10A-10C</figref>, it is not necessary to form the grooves <b>34</b> in the back of the head <b>30</b>, but the grooves <b>34</b> may create a synergy effect of damping vibration which may be transmitted to the peripheral area about the strike area of the head <b>30</b>.</p>\\n<p id=\"p-0092\" num=\"0091\"><figref idref=\"DRAWINGS\">FIGS. 11A to 11C</figref> show an electronic percussion instrument equipped with the technical feature of the present invention. As shown in <figref idref=\"DRAWINGS\">FIG. 11A</figref>, the head is furnished with a rubber pad having a strike area while a groove <b>100</b> is formed in the back of the head. As shown in <figref idref=\"DRAWINGS\">FIG. 11C</figref> which is a cross-sectional view taken along line D-D in <figref idref=\"DRAWINGS\">FIG. 11A</figref> in view of the upper side of an electronic percussion instrument, an air ventilation mechanism <b>200</b> is formed via a clearance gauge between the groove <b>100</b> of the rubber pad and a hard material which supports the back of the head. The present invention is characterized by the air ventilation mechanism <b>200</b> which aims to release air from the back of the head being struck with a beater, thus reliably securing noiselessness while reducing noise due to an impact on the head.</p>\\n<p id=\"p-0093\" num=\"0092\">Lastly, the present invention is not necessarily limited to the foregoing embodiment and variations, which can be further modified in various ways within the scope of the invention as defined by the appended claims. The technical features of the present invention can be summarized as follows.</p>\\n<p id=\"p-0094\" num=\"0000\">(1) The electronic percussion instrument provides a kick pad device with a strike area being struck with a beater. The head of the electronic percussion instrument is coupled with the frame which is used to fix and adjust the position of a kick pedal device having a beater.\\n<br/>\\n(2) The back of the head may include the &#x201c;thinned&#x201d; areas which are vertically arranged above and below the strike area, and therefore the strike area can be laterally elongated in association with a twin-beater foot pedal device whose beaters are laterally aligned together.\\n<br/>\\n(3) The back of the head may include the &#x201c;thinned&#x201d; areas in the left and right sides of the strike area. Alternatively, the head may include the &#x201c;thinned areas&#x201d; which are arranged in the left and right sides of the strike area as well as in the upper and lower sides of the strike area.\\n<br/>\\n(4) The thinned area may be a groove such as a rectangular recess which is formed in the back of the head. The groove may easily indicate the boundary between the strike area and the non-strike area, which can be discriminated with ease. The thinned area of the head may be easily damaged due to expansion and contraction in comparison with the other &#x201c;thick&#x201d; area of the head. To prevent the thinned area of the head from being carved or damaged, it is necessary to arrange an iron reinforcing member outside the thinned area of the head, wherein the reinforcing member should be brought in contact with the structure encompassing the strike area of the head. Additionally, it is necessary to form the bent portion(s) to enclose the frame to be attached to the periphery of the head. In this connection, the thinned area of the head is not necessarily limited to a groove, and therefore it can be formed as a flat thinned area.\\n<br/>\\n(5) Each of the strike area, the thinned area (or the groove), and the external area (or the thick area) of the head is uniformly formed with the predetermined thickness. For example, the strike area of the head is set to 7 mm in thickness; the thinned area (or the groove) of the head is set to 5 mm in thickness; and the external area of the head is set to 7 mm in thickness.\\n<br/>\\n(6) The strike area of the head is formed with a flat surface but with an irregular back having irregularities which are varied in thickness. Due to the formation of irregularities in the back of the head, it is possible to secure an adequate durability in the strike area of the head. Alternatively, it is possible to form irregularities in the surface of the strike area of the head. Basically, the strike area of the head needs to be formed with the flat surface having the same height, but it is possible to redesign the head to have irregularities in both the surface and the back of the head because the present invention may embrace the strike area of the &#x201c;rubber&#x201d; head precluding the surface protective material. For example, it is possible to form S-shaped recesses or corrugated recesses (or the continuum of S-shaped recesses) in both the surface and the back of the head.\\n<br/>\\n(7) The strike area and the thinned area (e.g. the groove) of the head are not necessarily manufactured by way of the close adhesion of other members or the insert molding using other members, whereas the external area of the head can be reinforced using hard members. Thus, it is possible to degrade a player\\'s sensation to strike the head with a beater since no hard members are arranged in the strike area of the head as well as the expanded area of the head which may be expanded due to a striking operation. Hard members attached to the external area of the head may demonstrate an effect to prevent excessive vibration on the strike area, an effect to secure an adequate strength in the strike area, deformation of the strike area, and an effect to improve a sensing precision.\\n<br/>\\n(8) Bent portions are formed in the periphery of the strike area of the head, wherein the bent portions of the periphery of the head are wound about the periphery of the frame when the frame is attached to the head. It is possible for a worker to reliably attach the frame to the head due to expansion and contraction of the strike area of the head, wherein it is possible to prevent the strike area of the head from becoming separated from the frame during playing of the electronic percussion instrument. This may reduce the number of parts because the present invention does not need additional parts used to mount the head on the frame.\\n<br/>\\n(9) The strike area of the head is made of an elastic material such as rubber, urethane, and silicon, while a flexible material is attached to the surface of the strike area of the head. This improves smoothness on the strike area of the head and a player\\'s sensation to strike the head with a beater. Additionally, it is possible to improve the appearance of the exterior of the head in the electronic percussion instrument.\\n</p>\\n<?detailed-description description=\"Detailed Description\" end=\"tail\"?>\\n</description>\\n<claims id=\"claims\">\\n<claim id=\"CLM-00001\" num=\"00001\">\\n<claim-text><b>1</b>. An electronic percussion instrument comprising:\\n<claim-text>a frame;</claim-text>\\n<claim-text>a head, which is made of an elastic material with a higher flexibility than the frame, wherein the head has a main area including a main strike area, which is disposed in a front side of the frame and which is mainly subjected to a striking operation, and an auxiliary area which includes a fixing part is fixed to the frame but does not include the main strike area; and</claim-text>\\n<claim-text>an impact sensor which converts a vibration occurring on the main strike area subjected to a striking operation into an electric signal,</claim-text>\\n<claim-text>wherein at least part of the main area of the head is connected to the auxiliary area via a connecting part which is reduced in thickness in comparison with the auxiliary area.</claim-text>\\n</claim-text>\\n</claim>\\n<claim id=\"CLM-00002\" num=\"00002\">\\n<claim-text><b>2</b>. The electronic percussion instrument according to <claim-ref idref=\"CLM-00001\">claim 1</claim-ref>, wherein the connecting part is horizontally arranged in at least one of an upper portion above the main area or a lower portion below the main area, and wherein the connecting part is linearly elongated across the head.</claim-text>\\n</claim>\\n<claim id=\"CLM-00003\" num=\"00003\">\\n<claim-text><b>3</b>. The electronic percussion instrument according to <claim-ref idref=\"CLM-00001\">claim 1</claim-ref>, wherein the connecting part is made of a groove which is formed in the head.</claim-text>\\n</claim>\\n<claim id=\"CLM-00004\" num=\"00004\">\\n<claim-text><b>4</b>. The electronic percussion instrument according to <claim-ref idref=\"CLM-00001\">claim 1</claim-ref>, wherein the groove is formed in each of the surface and the back of the head.</claim-text>\\n</claim>\\n<claim id=\"CLM-00005\" num=\"00005\">\\n<claim-text><b>5</b>. An electronic percussion instrument comprising:\\n<claim-text>a frame;</claim-text>\\n<claim-text>a head, which is made of an elastic material with a higher flexibility than the frame, wherein a main area, including a main strike area which is disposed in a front side of the frame and which is mainly subjected to a striking operation, is connected to an auxiliary area which includes a fixing part fixed to the frame but does not include the main strike area; and</claim-text>\\n<claim-text>an impact sensor which converts a vibration occurring on the main strike area subjected to a striking operation into an electric signal.</claim-text>\\n</claim-text>\\n</claim>\\n<claim id=\"CLM-00006\" num=\"00006\">\\n<claim-text><b>6</b>. The electronic percussion instrument according to <claim-ref idref=\"CLM-00005\">claim 5</claim-ref>, wherein the main area is horizontally elongated in the head.</claim-text>\\n</claim>\\n<claim id=\"CLM-00007\" num=\"00007\">\\n<claim-text><b>7</b>. The electronic percussion instrument according to <claim-ref idref=\"CLM-00005\">claim 5</claim-ref>, further comprising a vibration-damping member which is made of a harder material than the head and which is disposed in at least one of a front side, a rear side, and an inside of the auxiliary area precluding the main strike area in the head.</claim-text>\\n</claim>\\n<claim id=\"CLM-00008\" num=\"00008\">\\n<claim-text><b>8</b>. The electronic percussion instrument according to <claim-ref idref=\"CLM-00001\">claim 1</claim-ref>, wherein the impact sensor is disposed close to the main strike area of the head via a cushion member.</claim-text>\\n</claim>\\n<claim id=\"CLM-00009\" num=\"00009\">\\n<claim-text><b>9</b>. The electronic percussion instrument according to <claim-ref idref=\"CLM-00005\">claim 5</claim-ref>, wherein the impact sensor is disposed close to the main strike area of the head via a cushion member. </claim-text>\\n</claim>\\n</claims>\\n</us-patent-application>\\n'"
            ]
          },
          "metadata": {
            "tags": []
          },
          "execution_count": 11
        }
      ]
    },
    {
      "cell_type": "code",
      "metadata": {
        "id": "QAQlhagJBzOV",
        "colab_type": "code",
        "colab": {}
      },
      "source": [
        "import re\n",
        "\n",
        "def ipc_section(whole):\n",
        "  list = re.findall(r'<section>(.)</section>', whole)\n",
        "  return list"
      ],
      "execution_count": 0,
      "outputs": []
    },
    {
      "cell_type": "code",
      "metadata": {
        "id": "67GvKyD3Drm3",
        "colab_type": "code",
        "outputId": "324ed946-2e72-43df-8a05-db38d96689ac",
        "colab": {
          "base_uri": "https://localhost:8080/",
          "height": 34
        }
      },
      "source": [
        "result = training_app_3000[\"xml\"][3:4].map(ipc_section).values[0]\n",
        "result"
      ],
      "execution_count": 0,
      "outputs": [
        {
          "output_type": "execute_result",
          "data": {
            "text/plain": [
              "['G', 'G', 'G', 'G']"
            ]
          },
          "metadata": {
            "tags": []
          },
          "execution_count": 33
        }
      ]
    },
    {
      "cell_type": "code",
      "metadata": {
        "id": "XaoiIDR_DzIV",
        "colab_type": "code",
        "outputId": "6d28c5cf-99f8-4ffb-96ce-6b66345728f4",
        "colab": {
          "base_uri": "https://localhost:8080/",
          "height": 121
        }
      },
      "source": [
        "training_app_section =  training_app_3000[\"xml\"].map(ipc_section)\n",
        "training_app_section.head()"
      ],
      "execution_count": 0,
      "outputs": [
        {
          "output_type": "execute_result",
          "data": {
            "text/plain": [
              "0                                        [A]\n",
              "1                                        [G]\n",
              "2                                        [G]\n",
              "3                               [G, G, G, G]\n",
              "4    [A, A, A, A, A, C, C, C, C, C, A, A, A]\n",
              "Name: xml, dtype: object"
            ]
          },
          "metadata": {
            "tags": []
          },
          "execution_count": 70
        }
      ]
    },
    {
      "cell_type": "code",
      "metadata": {
        "id": "bfWsr-8oPaSz",
        "colab_type": "code",
        "colab": {}
      },
      "source": [
        "import numpy as np"
      ],
      "execution_count": 0,
      "outputs": []
    },
    {
      "cell_type": "code",
      "metadata": {
        "id": "WvJf1N-vNsUh",
        "colab_type": "code",
        "colab": {}
      },
      "source": [
        "section_to_vec_dict = {\n",
        "    \"A\":[0,0,0,0,0,0,0,1],\n",
        "    \"B\":[0,0,0,0,0,0,1,0],\n",
        "    \"C\":[0,0,0,0,0,1,0,0],\n",
        "    \"D\":[0,0,0,0,1,0,0,0],\n",
        "    \"E\":[0,0,0,1,0,0,0,0],\n",
        "    \"F\":[0,0,1,0,0,0,0,0],\n",
        "    \"G\":[0,1,0,0,0,0,0,0],\n",
        "    \"H\":[1,0,0,0,0,0,0,0],    \n",
        "}\n",
        "\n",
        "def section_to_vec(list):\n",
        "  vec = np.zeros(8)\n",
        "  for section in list:\n",
        "    if section not in section_to_vec_dict.keys():\n",
        "      vec = vec + np.zeros(8)\n",
        "    else:\n",
        "      vec = vec + np.array(section_to_vec_dict[section])\n",
        "  return vec/np.linalg.norm(vec) if np.linalg.norm(vec) >0 else vec"
      ],
      "execution_count": 0,
      "outputs": []
    },
    {
      "cell_type": "code",
      "metadata": {
        "id": "dHbpft5RNoMt",
        "colab_type": "code",
        "outputId": "6dfcdbea-2de5-4ab1-c6d9-8857c8d0084d",
        "colab": {
          "base_uri": "https://localhost:8080/",
          "height": 121
        }
      },
      "source": [
        "training_app_section[0:5].map(section_to_vec)"
      ],
      "execution_count": 0,
      "outputs": [
        {
          "output_type": "execute_result",
          "data": {
            "text/plain": [
              "0             [0.0, 0.0, 0.0, 0.0, 0.0, 0.0, 0.0, 1.0]\n",
              "1             [0.0, 1.0, 0.0, 0.0, 0.0, 0.0, 0.0, 0.0]\n",
              "2             [0.0, 1.0, 0.0, 0.0, 0.0, 0.0, 0.0, 0.0]\n",
              "3             [0.0, 1.0, 0.0, 0.0, 0.0, 0.0, 0.0, 0.0]\n",
              "4    [0.0, 0.0, 0.0, 0.0, 0.0, 0.52999894000318, 0....\n",
              "Name: xml, dtype: object"
            ]
          },
          "metadata": {
            "tags": []
          },
          "execution_count": 153
        }
      ]
    },
    {
      "cell_type": "code",
      "metadata": {
        "id": "qAp-FU6_RF4b",
        "colab_type": "code",
        "outputId": "7fa9d3d9-9118-4fa8-bc67-e7b42a2c4021",
        "colab": {
          "base_uri": "https://localhost:8080/",
          "height": 34
        }
      },
      "source": [
        "training_app_section_vec = training_app_section.map(section_to_vec)\n",
        "training_app_section_vec.shape"
      ],
      "execution_count": 0,
      "outputs": [
        {
          "output_type": "execute_result",
          "data": {
            "text/plain": [
              "(3000,)"
            ]
          },
          "metadata": {
            "tags": []
          },
          "execution_count": 154
        }
      ]
    },
    {
      "cell_type": "code",
      "metadata": {
        "id": "wJapNUrVR_kX",
        "colab_type": "code",
        "outputId": "7ab7df45-132f-425b-d72e-94cc2f6e7a39",
        "colab": {
          "base_uri": "https://localhost:8080/",
          "height": 34
        }
      },
      "source": [
        "section_to_vec_dict.keys()"
      ],
      "execution_count": 0,
      "outputs": [
        {
          "output_type": "execute_result",
          "data": {
            "text/plain": [
              "dict_keys(['A', 'B', 'C', 'D', 'E', 'F', 'G', 'H'])"
            ]
          },
          "metadata": {
            "tags": []
          },
          "execution_count": 125
        }
      ]
    },
    {
      "cell_type": "code",
      "metadata": {
        "id": "TKC4ldUFGzas",
        "colab_type": "code",
        "outputId": "b7fd12a5-37b9-4509-8978-67085380fd0f",
        "colab": {
          "base_uri": "https://localhost:8080/",
          "height": 121
        }
      },
      "source": [
        "test_app_section =  testset_app_3000[\"xml\"].map(ipc_section)\n",
        "test_app_section.head()"
      ],
      "execution_count": 0,
      "outputs": [
        {
          "output_type": "execute_result",
          "data": {
            "text/plain": [
              "0                         [G]\n",
              "1             [A, A, A, C, C]\n",
              "2                      [B, A]\n",
              "3    [C, C, A, A, C, A, C, A]\n",
              "4                         [H]\n",
              "Name: xml, dtype: object"
            ]
          },
          "metadata": {
            "tags": []
          },
          "execution_count": 155
        }
      ]
    },
    {
      "cell_type": "code",
      "metadata": {
        "id": "hri4Bxa_Nnjx",
        "colab_type": "code",
        "outputId": "4c5d797e-245f-43ef-efd8-4b0e69b138ef",
        "colab": {
          "base_uri": "https://localhost:8080/",
          "height": 34
        }
      },
      "source": [
        "test_app_section_vec = test_app_section.map(section_to_vec)\n",
        "test_app_section_vec.shape"
      ],
      "execution_count": 0,
      "outputs": [
        {
          "output_type": "execute_result",
          "data": {
            "text/plain": [
              "(3000,)"
            ]
          },
          "metadata": {
            "tags": []
          },
          "execution_count": 156
        }
      ]
    },
    {
      "cell_type": "code",
      "metadata": {
        "id": "v80SNC_UaMjY",
        "colab_type": "code",
        "outputId": "7ea8312c-e8cc-413e-96ee-5e7633aafab9",
        "colab": {
          "base_uri": "https://localhost:8080/",
          "height": 209
        }
      },
      "source": [
        "test_app_section_vec[0:10]"
      ],
      "execution_count": 0,
      "outputs": [
        {
          "output_type": "execute_result",
          "data": {
            "text/plain": [
              "0             [0.0, 1.0, 0.0, 0.0, 0.0, 0.0, 0.0, 0.0]\n",
              "1    [0.0, 0.0, 0.0, 0.0, 0.0, 0.5547001962252291, ...\n",
              "2    [0.0, 0.0, 0.0, 0.0, 0.0, 0.0, 0.7071067811865...\n",
              "3    [0.0, 0.0, 0.0, 0.0, 0.0, 0.7071067811865475, ...\n",
              "4             [1.0, 0.0, 0.0, 0.0, 0.0, 0.0, 0.0, 0.0]\n",
              "5             [0.0, 0.0, 0.0, 0.0, 0.0, 0.0, 1.0, 0.0]\n",
              "6    [0.7071067811865475, 0.7071067811865475, 0.0, ...\n",
              "7             [1.0, 0.0, 0.0, 0.0, 0.0, 0.0, 0.0, 0.0]\n",
              "8    [0.5773502691896258, 0.5773502691896258, 0.577...\n",
              "9             [1.0, 0.0, 0.0, 0.0, 0.0, 0.0, 0.0, 0.0]\n",
              "Name: xml, dtype: object"
            ]
          },
          "metadata": {
            "tags": []
          },
          "execution_count": 127
        }
      ]
    },
    {
      "cell_type": "code",
      "metadata": {
        "id": "hOTYCz0DHpkF",
        "colab_type": "code",
        "outputId": "cf60cb5e-8618-474a-adf6-46ef58f50fc6",
        "colab": {
          "base_uri": "https://localhost:8080/",
          "height": 54
        }
      },
      "source": [
        "grants[\"xml\"][6410]"
      ],
      "execution_count": 0,
      "outputs": [
        {
          "output_type": "execute_result",
          "data": {
            "text/plain": [
              "'<us-patent-grant lang=\"EN\" dtd-version=\"v4.2 2006-08-23\" file=\"US08328055-20121211.XML\" status=\"PRODUCTION\" id=\"us-patent-grant\" country=\"US\" date-produced=\"20121127\" date-publ=\"20121211\">\\n<us-bibliographic-data-grant>\\n<publication-reference>\\n<document-id>\\n<country>US</country>\\n<doc-number>08328055</doc-number>\\n<kind>B1</kind>\\n<date>20121211</date>\\n</document-id>\\n</publication-reference>\\n<application-reference appl-type=\"utility\">\\n<document-id>\\n<country>US</country>\\n<doc-number>12984712</doc-number>\\n<date>20110105</date>\\n</document-id>\\n</application-reference>\\n<us-application-series-code>12</us-application-series-code>\\n<us-term-of-grant>\\n<us-term-extension>210</us-term-extension>\\n</us-term-of-grant>\\n<classifications-ipcr>\\n<classification-ipcr>\\n<ipc-version-indicator><date>20060101</date></ipc-version-indicator>\\n<classification-level>A</classification-level>\\n<section>A</section>\\n<class>45</class>\\n<subclass>F</subclass>\\n<main-group>3</main-group>\\n<subgroup>14</subgroup>\\n<symbol-position>F</symbol-position>\\n<classification-value>I</classification-value>\\n<action-date><date>20121211</date></action-date>\\n<generating-office><country>US</country></generating-office>\\n<classification-status>B</classification-status>\\n<classification-data-source>H</classification-data-source>\\n</classification-ipcr>\\n<classification-ipcr>\\n<ipc-version-indicator><date>20060101</date></ipc-version-indicator>\\n<classification-level>A</classification-level>\\n<section>A</section>\\n<class>45</class>\\n<subclass>F</subclass>\\n<main-group>5</main-group>\\n<subgroup>00</subgroup>\\n<symbol-position>L</symbol-position>\\n<classification-value>I</classification-value>\\n<action-date><date>20121211</date></action-date>\\n<generating-office><country>US</country></generating-office>\\n<classification-status>B</classification-status>\\n<classification-data-source>H</classification-data-source>\\n</classification-ipcr>\\n</classifications-ipcr>\\n<classification-national>\\n<country>US</country>\\n<main-classification>224197</main-classification>\\n<further-classification>224219</further-classification>\\n<further-classification>224222</further-classification>\\n<further-classification>224267</further-classification>\\n<further-classification>224930</further-classification>\\n</classification-national>\\n<invention-title id=\"d2e53\">Wrist holder for a smartphone or personal digital assistant</invention-title>\\n<references-cited>\\n<citation>\\n<patcit num=\"00001\">\\n<document-id>\\n<country>US</country>\\n<doc-number>4214688</doc-number>\\n<kind>A</kind>\\n<name>Griffin, Jr.</name>\\n<date>19800700</date>\\n</document-id>\\n</patcit>\\n<category>cited by examiner</category>\\n<classification-national><country>US</country><main-classification>224197</main-classification></classification-national>\\n</citation>\\n<citation>\\n<patcit num=\"00002\">\\n<document-id>\\n<country>US</country>\\n<doc-number>5274613</doc-number>\\n<kind>A</kind>\\n<name>Seager</name>\\n<date>19931200</date>\\n</document-id>\\n</patcit>\\n<category>cited by other</category>\\n</citation>\\n<citation>\\n<patcit num=\"00003\">\\n<document-id>\\n<country>US</country>\\n<doc-number>5412545</doc-number>\\n<kind>A</kind>\\n<name>Rising</name>\\n<date>19950500</date>\\n</document-id>\\n</patcit>\\n<category>cited by examiner</category>\\n<classification-national><country>US</country><main-classification>362105</main-classification></classification-national>\\n</citation>\\n<citation>\\n<patcit num=\"00004\">\\n<document-id>\\n<country>US</country>\\n<doc-number>6360928</doc-number>\\n<kind>B1</kind>\\n<name>Russo</name>\\n<date>20020300</date>\\n</document-id>\\n</patcit>\\n<category>cited by examiner</category>\\n<classification-national><country>US</country><main-classification>224218</main-classification></classification-national>\\n</citation>\\n<citation>\\n<patcit num=\"00005\">\\n<document-id>\\n<country>US</country>\\n<doc-number>6726070</doc-number>\\n<kind>B2</kind>\\n<name>Lautner</name>\\n<date>20040400</date>\\n</document-id>\\n</patcit>\\n<category>cited by examiner</category>\\n<classification-national><country>US</country><main-classification>224221</main-classification></classification-national>\\n</citation>\\n<citation>\\n<patcit num=\"00006\">\\n<document-id>\\n<country>US</country>\\n<doc-number>6880737</doc-number>\\n<kind>B2</kind>\\n<name>Bauer</name>\\n<date>20050400</date>\\n</document-id>\\n</patcit>\\n<category>cited by examiner</category>\\n<classification-national><country>US</country><main-classification>224246</main-classification></classification-national>\\n</citation>\\n<citation>\\n<patcit num=\"00007\">\\n<document-id>\\n<country>US</country>\\n<doc-number>D545564</doc-number>\\n<kind>S</kind>\\n<name>Davis</name>\\n<date>20070700</date>\\n</document-id>\\n</patcit>\\n<category>cited by other</category>\\n</citation>\\n<citation>\\n<patcit num=\"00008\">\\n<document-id>\\n<country>US</country>\\n<doc-number>D548457</doc-number>\\n<kind>S</kind>\\n<name>Reinerio</name>\\n<date>20070800</date>\\n</document-id>\\n</patcit>\\n<category>cited by examiner</category>\\n<classification-national><country>US</country><main-classification> D3218</main-classification></classification-national>\\n</citation>\\n<citation>\\n<patcit num=\"00009\">\\n<document-id>\\n<country>US</country>\\n<doc-number>7424110</doc-number>\\n<kind>B1</kind>\\n<name>Whiten, III</name>\\n<date>20080900</date>\\n</document-id>\\n</patcit>\\n<category>cited by other</category>\\n</citation>\\n<citation>\\n<patcit num=\"00010\">\\n<document-id>\\n<country>US</country>\\n<doc-number>7529155</doc-number>\\n<kind>B2</kind>\\n<name>Fasciano</name>\\n<date>20090500</date>\\n</document-id>\\n</patcit>\\n<category>cited by examiner</category>\\n<classification-national><country>US</country><main-classification>368 10</main-classification></classification-national>\\n</citation>\\n<citation>\\n<patcit num=\"00011\">\\n<document-id>\\n<country>US</country>\\n<doc-number>7942293</doc-number>\\n<kind>B2</kind>\\n<name>Lawrence et al.</name>\\n<date>20110500</date>\\n</document-id>\\n</patcit>\\n<category>cited by examiner</category>\\n<classification-national><country>US</country><main-classification>224218</main-classification></classification-national>\\n</citation>\\n<citation>\\n<patcit num=\"00012\">\\n<document-id>\\n<country>US</country>\\n<doc-number>2002/0139822</doc-number>\\n<kind>A1</kind>\\n<name>Infanti</name>\\n<date>20021000</date>\\n</document-id>\\n</patcit>\\n<category>cited by examiner</category>\\n<classification-national><country>US</country><main-classification>224197</main-classification></classification-national>\\n</citation>\\n<citation>\\n<patcit num=\"00013\">\\n<document-id>\\n<country>US</country>\\n<doc-number>2004/0057578</doc-number>\\n<kind>A1</kind>\\n<name>Brewer</name>\\n<date>20040300</date>\\n</document-id>\\n</patcit>\\n<category>cited by other</category>\\n</citation>\\n<citation>\\n<patcit num=\"00014\">\\n<document-id>\\n<country>US</country>\\n<doc-number>2006/0176660</doc-number>\\n<kind>A1</kind>\\n<name>Amiri</name>\\n<date>20060800</date>\\n</document-id>\\n</patcit>\\n<category>cited by other</category>\\n</citation>\\n<citation>\\n<patcit num=\"00015\">\\n<document-id>\\n<country>US</country>\\n<doc-number>2006/0196902</doc-number>\\n<kind>A1</kind>\\n<name>Chen et al.</name>\\n<date>20060900</date>\\n</document-id>\\n</patcit>\\n<category>cited by examiner</category>\\n<classification-national><country>US</country><main-classification>224197</main-classification></classification-national>\\n</citation>\\n<citation>\\n<patcit num=\"00016\">\\n<document-id>\\n<country>US</country>\\n<doc-number>2006/0237494</doc-number>\\n<kind>A1</kind>\\n<name>Fichera</name>\\n<date>20061000</date>\\n</document-id>\\n</patcit>\\n<category>cited by examiner</category>\\n<classification-national><country>US</country><main-classification>224197</main-classification></classification-national>\\n</citation>\\n<citation>\\n<patcit num=\"00017\">\\n<document-id>\\n<country>US</country>\\n<doc-number>2008/0054039</doc-number>\\n<kind>A1</kind>\\n<name>Wulff et al.</name>\\n<date>20080300</date>\\n</document-id>\\n</patcit>\\n<category>cited by other</category>\\n</citation>\\n<citation>\\n<patcit num=\"00018\">\\n<document-id>\\n<country>US</country>\\n<doc-number>2008/0110946</doc-number>\\n<kind>A1</kind>\\n<name>Dixon et al.</name>\\n<date>20080500</date>\\n</document-id>\\n</patcit>\\n<category>cited by examiner</category>\\n<classification-national><country>US</country><main-classification>224197</main-classification></classification-national>\\n</citation>\\n<citation>\\n<patcit num=\"00019\">\\n<document-id>\\n<country>US</country>\\n<doc-number>2009/0039121</doc-number>\\n<kind>A1</kind>\\n<name>Paul</name>\\n<date>20090200</date>\\n</document-id>\\n</patcit>\\n<category>cited by examiner</category>\\n<classification-national><country>US</country><main-classification>224222</main-classification></classification-national>\\n</citation>\\n<citation>\\n<patcit num=\"00020\">\\n<document-id>\\n<country>US</country>\\n<doc-number>2009/0069045</doc-number>\\n<kind>A1</kind>\\n<name>Cheng</name>\\n<date>20090300</date>\\n</document-id>\\n</patcit>\\n<category>cited by other</category>\\n</citation>\\n<citation>\\n<patcit num=\"00021\">\\n<document-id>\\n<country>US</country>\\n<doc-number>2009/0321483</doc-number>\\n<kind>A1</kind>\\n<name>Froloff</name>\\n<date>20091200</date>\\n</document-id>\\n</patcit>\\n<category>cited by examiner</category>\\n<classification-national><country>US</country><main-classification>224267</main-classification></classification-national>\\n</citation>\\n<citation>\\n<patcit num=\"00022\">\\n<document-id>\\n<country>US</country>\\n<doc-number>2010/0032462</doc-number>\\n<kind>A1</kind>\\n<name>Cameron et al.</name>\\n<date>20100200</date>\\n</document-id>\\n</patcit>\\n<category>cited by examiner</category>\\n<classification-national><country>US</country><main-classification>224222</main-classification></classification-national>\\n</citation>\\n<citation>\\n<patcit num=\"00023\">\\n<document-id>\\n<country>US</country>\\n<doc-number>2010/0327030</doc-number>\\n<kind>A1</kind>\\n<name>Yang</name>\\n<date>20101200</date>\\n</document-id>\\n</patcit>\\n<category>cited by examiner</category>\\n<classification-national><country>US</country><main-classification>224199</main-classification></classification-national>\\n</citation>\\n<citation>\\n<patcit num=\"00024\">\\n<document-id>\\n<country>US</country>\\n<doc-number>2012/0080462</doc-number>\\n<kind>A1</kind>\\n<name>Hajarian</name>\\n<date>20120400</date>\\n</document-id>\\n</patcit>\\n<category>cited by examiner</category>\\n<classification-national><country>US</country><main-classification>224219</main-classification></classification-national>\\n</citation>\\n<citation>\\n<patcit num=\"00025\">\\n<document-id>\\n<country>US</country>\\n<doc-number>2012/0138647</doc-number>\\n<kind>A1</kind>\\n<name>Norling</name>\\n<date>20120600</date>\\n</document-id>\\n</patcit>\\n<category>cited by examiner</category>\\n<classification-national><country>US</country><main-classification>224267</main-classification></classification-national>\\n</citation>\\n</references-cited>\\n<number-of-claims>15</number-of-claims>\\n<us-exemplary-claim>1</us-exemplary-claim>\\n<us-field-of-classification-search>\\n<classification-national>\\n<country>US</country>\\n<main-classification>224197</main-classification>\\n</classification-national>\\n<classification-national>\\n<country>US</country>\\n<main-classification>224199</main-classification>\\n</classification-national>\\n<classification-national>\\n<country>US</country>\\n<main-classification>224218</main-classification>\\n</classification-national>\\n<classification-national>\\n<country>US</country>\\n<main-classification>224219</main-classification>\\n</classification-national>\\n<classification-national>\\n<country>US</country>\\n<main-classification>224222</main-classification>\\n</classification-national>\\n<classification-national>\\n<country>US</country>\\n<main-classification>224267</main-classification>\\n</classification-national>\\n<classification-national>\\n<country>US</country>\\n<main-classification>2249014</main-classification>\\n</classification-national>\\n<classification-national>\\n<country>US</country>\\n<main-classification>224930</main-classification>\\n</classification-national>\\n</us-field-of-classification-search>\\n<figures>\\n<number-of-drawing-sheets>4</number-of-drawing-sheets>\\n<number-of-figures>7</number-of-figures>\\n</figures>\\n<us-related-documents>\\n<us-provisional-application>\\n<document-id>\\n<country>US</country>\\n<doc-number>61336196</doc-number>\\n<date>20100119</date>\\n</document-id>\\n</us-provisional-application>\\n</us-related-documents>\\n<parties>\\n<applicants>\\n<applicant sequence=\"001\" app-type=\"applicant-inventor\" designation=\"us-only\">\\n<addressbook>\\n<last-name>Snyder</last-name>\\n<first-name>Zenda</first-name>\\n<address>\\n<city>New York</city>\\n<state>NY</state>\\n<country>US</country>\\n</address>\\n</addressbook>\\n<nationality>\\n<country>omitted</country>\\n</nationality>\\n<residence>\\n<country>US</country>\\n</residence>\\n</applicant>\\n</applicants>\\n<agents>\\n<agent sequence=\"01\" rep-type=\"attorney\">\\n<addressbook>\\n<orgname>Goldstein Law Offices, P.C.</orgname>\\n<address>\\n<country>unknown</country>\\n</address>\\n</addressbook>\\n</agent>\\n</agents>\\n</parties>\\n<examiners>\\n<primary-examiner>\\n<last-name>Newhouse</last-name>\\n<first-name>Nathan J</first-name>\\n<department>3782</department>\\n</primary-examiner>\\n<assistant-examiner>\\n<last-name>Vanterpool</last-name>\\n<first-name>Lester L</first-name>\\n</assistant-examiner>\\n</examiners>\\n</us-bibliographic-data-grant>\\n<abstract id=\"abstract\">\\n<p id=\"p-0001\" num=\"0000\">A holder for a handheld device such as a smartphone or personal digital assistant (PDA) worn securely on a wrist, that allows the device to selectively rotate to a plurality of desired positions while remaining on the wrist. The holder has a protective shell case rotatably connected to a wrist strap by a pair of interlocking assemblies. In a first embodiment, a spring assembly with a pair of tabs on the wrist strap connects to a socket assembly attached to the shell case. In a further embodiment, the socket assembly on the strap connects to the spring assembly on the case. The shell case holds the device, allowing a user to directly access and use the device single-handedly when worn on the wrist. The device rotates between portrait and landscape positions by grasping the shell case and twisting, and detaches quickly by squeezing the tabs, disengaging the interlocking assemblies.</p>\\n</abstract>\\n<drawings id=\"DRAWINGS\">\\n<figure id=\"Fig-EMI-D00000\" num=\"00000\">\\n<img id=\"EMI-D00000\" he=\"150.28mm\" wi=\"413.09mm\" file=\"US08328055-20121211-D00000.TIF\" alt=\"embedded image\" img-content=\"drawing\" img-format=\"tif\"/>\\n</figure>\\n<figure id=\"Fig-EMI-D00001\" num=\"00001\">\\n<img id=\"EMI-D00001\" he=\"257.47mm\" wi=\"212.51mm\" file=\"US08328055-20121211-D00001.TIF\" alt=\"embedded image\" img-content=\"drawing\" img-format=\"tif\"/>\\n</figure>\\n<figure id=\"Fig-EMI-D00002\" num=\"00002\">\\n<img id=\"EMI-D00002\" he=\"251.80mm\" wi=\"213.19mm\" file=\"US08328055-20121211-D00002.TIF\" alt=\"embedded image\" img-content=\"drawing\" img-format=\"tif\"/>\\n</figure>\\n<figure id=\"Fig-EMI-D00003\" num=\"00003\">\\n<img id=\"EMI-D00003\" he=\"259.76mm\" wi=\"198.88mm\" file=\"US08328055-20121211-D00003.TIF\" alt=\"embedded image\" img-content=\"drawing\" img-format=\"tif\"/>\\n</figure>\\n<figure id=\"Fig-EMI-D00004\" num=\"00004\">\\n<img id=\"EMI-D00004\" he=\"260.43mm\" wi=\"182.29mm\" file=\"US08328055-20121211-D00004.TIF\" alt=\"embedded image\" img-content=\"drawing\" img-format=\"tif\"/>\\n</figure>\\n</drawings>\\n<description id=\"description\">\\n<?RELAPP description=\"Other Patent Relations\" end=\"lead\"?>\\n<heading id=\"h-0001\" level=\"1\">CROSS-REFERENCE TO RELATED APPLICATIONS</heading>\\n<p id=\"p-0002\" num=\"0001\">This application is a nonprovisional utility application of the provisional patent application, Ser. No. 61/336,196 filed in the United States Patent Office on Jan. 19, 2010 and claims the priority thereof.</p>\\n<?RELAPP description=\"Other Patent Relations\" end=\"tail\"?>\\n<?BRFSUM description=\"Brief Summary\" end=\"lead\"?>\\n<heading id=\"h-0002\" level=\"1\">BACKGROUND OF THE INVENTION</heading>\\n<p id=\"p-0003\" num=\"0002\">The invention relates generally to a wrist holder for a smartphone or a personal digital assistant (PDA). More particularly, the invention relates to a holder for a handheld device such as a smartphone or a PDA that is worn securely on a wrist by a user, that allows the device to selectively rotate to a plurality of desired positions.</p>\\n<p id=\"p-0004\" num=\"0003\">Since their introduction in the late twentieth century, so-called smartphones have become increasing popular among cell phone users. Similarly, millions of personal digital assistants, sometimes called palmtop computers or PDA\\'s, have been sold since their introduction around the same time. What are common to both types of devices are their expanded flat screens, virtual or actual keyboards, and the ability to connect wirelessly to the Internet and other devices.</p>\\n<p id=\"p-0005\" num=\"0004\">Growth in demand for advanced mobile devices such as smartphones, boasting powerful processors, abundant memory, expanded display screens, open operating systems, and limitless number of applications, has outpaced the rest of the mobile phone market for several years. Smartphones and PDA\\'s have become irreplaceable parts of people\\'s day-to-day lives. These are more than luxury items to many people who rely on them not just to communicate via a phone call, as in the case of smartphones, but to take pictures and videos, access calendars and address books, check email, surf the web, perform office tasks and develop business documents with mobile versions of word processors and spreadsheets, locate areas of interest and avoid traffic jams with GPS, play games, and entertain with music and video downloads. Included in this group of smartphones and PDAs are, for example, but not limited to, the Apple&#xae; iPhone&#xae; and iPod Touch&#xae; (Apple&#xae;, iPhone&#xae; and iPod Touch&#xae; are registered trademarks of Apple, Inc., Cupertino, Calif.), the RIM&#xae; Blackberry&#xae; (RIM&#xae; and Blackberry&#xae; are registered trademarks of Research In Motion Limited, Waterloo, Ontario CAN), and the Palm&#xae; Treo&#xae; Pro and Pre&#xae; (Palm&#xae;, Treo&#xae; and Pre&#xae; are registered trademarks of Palm, Inc., Sunnyvale, Calif.).</p>\\n<p id=\"p-0006\" num=\"0005\">While these handy devices solve many problems for the user, they also have created new issues. Typically, the user grasps the device in both hands, and uses the thumbs to work the keyboards or cursor. Alternatively, the user holds the device in one palm and uses the other hand with or without a stylus to operate. Regardless of the method of operation, the user must use both hands to input data into the device.</p>\\n<p id=\"p-0007\" num=\"0006\">Smartphones and PDAs, unlike simple cellphones, often use different display orientations or modes for different applications, sometimes referred to as a page orientation. Page orientation is the way in which a rectangular page is oriented for normal viewing. The two most common positions are portrait and landscape. Portrait orientation refers to the fact that a close-up portrait of a person\\'s face and upper body is more fitting for a canvas or photo, where the height of the display area is greater than the width. Portrait orientation is more common for the pages of books and documents. Portrait display is preferred for editing documents to view the entire page on the screen. Portrait is also the standard form of display for simple cellphones.</p>\\n<p id=\"p-0008\" num=\"0007\">Landscape originally described artistic outdoor scenes where a wide view area is needed, but generally refers to a view with a width greater than the height. Landscape orientation is commonly used to display video. Some smartphone and PDA applications can be displayed in either orientation, depending how the user is holding the device. Other applications can only be displayed in one preferred orientation, so the device user must be able to freely rotate back and forth between the two orientation modes.</p>\\n<p id=\"p-0009\" num=\"0008\">While these devices are seemingly indispensable, ironically they are also fragile. These devices are also vulnerable to damage from dust and water, as well as from being dropped or inadvertently banged against a hard surface. Some users slip the device into a shirt pocket, only to watch it fall out when they bend over to retrieve something from the floor. Most users buy a protective holder, such as a case, a &#x201c;skin,&#x201d; or a shell for their digital device to protect it from damage.</p>\\n<p id=\"p-0010\" num=\"0009\">Another major concern for users is losing the device. Approximately one in five mobile phone users lose or experience the theft of their cellphone yearly. Not only is the useful tool itself lost, but also there are data stored on these devices that might not be stored elsewhere. A serious concern is that an unscrupulous individual might be able to access confidential data or use the phone to make expensive overseas calls. Many users try to solve this problem by putting the device in a holder or case and wearing it on their belt to keep it close to them. However, for women who wear dresses, skirts, and pants that do not have belts, this does not solve the issue.</p>\\n<p id=\"p-0011\" num=\"0010\">Perhaps the most important need for the user is accessibility, especially when the user is performing other tasks. Walking down the street, talking on the smartphone or listening to music, the user has to awkwardly carry the device in their hand. If the user is using an umbrella or carrying many bags, having the device in hand is especially inconvenient. Tossing the device into a bag creates other problems. Once in the bag, the smartphone becomes elusive, hiding in and around the contents of the bag. If the user is wearing the device on a belt or around the neck, outerwear interferes with accessing the device. When the user is riding a bicycle or driving a car, he or she needs to quickly see who is calling without taking their eyes off the road, without fumbling around outer clothing or bags, backpacks or purses.</p>\\n<p id=\"p-0012\" num=\"0011\">Users typically attach their smartphone or PDA to their belt by a loop, by a clip, or by a hanging clasp. To use the device, the user must detach the phone or PDA from the belt. Some wear it clipped to a wrist loop or neck strap. When worn on a wrist loop, the device and loop strap must be removed from the wrist to use it, which often requires two hands. The neck strap allows the device to bounce against the sternum of the wearer, which can cause pain. Once detached, the device is again defenseless against loss, theft and damage. Some have installed tracking software to prevent loss or aid in recovery, if the device has GPS capability.</p>\\n<p id=\"p-0013\" num=\"0012\">Wrist straps and bracelets for cellphones and PDA\\'s have been proposed previously. Some do not allow the user to use the device without removing it from the strap. Others allow the user to use the device while wearing it, but only in the upright or &#x201c;portrait&#x201d; position. The smartphone device or cell phone must be used in speaker mode only because the device does not easily detach for use as a traditional handset with a receiver and microphone. Others integrate a customized cellphone or a PDA into the bracelet itself, but the devise is fixed in position.</p>\\n<p id=\"p-0014\" num=\"0013\">While these units may be suitable for the particular purpose employed, or for general use, they would not be as suitable for the purposes of the present invention as disclosed hereafter.</p>\\n<heading id=\"h-0003\" level=\"1\">SUMMARY OF THE INVENTION</heading>\\n<p id=\"p-0015\" num=\"0014\">It is an object of the invention to produce a holder for a handheld computing device such as a smartphone or a PDA (personal digital assistant), that prevents loss or theft of the device. Accordingly, the invention is a wrist holder that securely attaches the device to a user\\'s wrist.</p>\\n<p id=\"p-0016\" num=\"0015\">It is another object of the invention to produce a holder for a handheld computing device such as a smartphone or a PDA, that is easily accessible when needed. Accordingly, the invention is a wrist holder that attaches the device by a back surface to a user\\'s wrist, allowing a front display to be accessed instantly.</p>\\n<p id=\"p-0017\" num=\"0016\">It is a further object of the invention to produce a holder for a handheld computing device such as a smartphone or a PDA, that prevents damage to the handheld device when in use. Accordingly, the invention is a holder that has a protective shell case that fits around the device, and attaches to a user\\'s wrist.</p>\\n<p id=\"p-0018\" num=\"0017\">It is an additional object of the invention to produce a holder for a handheld computing device such as a smartphone or PDA, that allows the user to only use one hand to operate the device. Accordingly, the invention is a holder that is worn on a wrist of the user, and frees up a hand distally attached to the wrist to perform other tasks.</p>\\n<p id=\"p-0019\" num=\"0018\">It is yet another object of the invention to produce a holder for a handheld computing device such as a smartphone or a PDA, that allows the user to quickly detach it from its holder. Accordingly, the invention has a pair of tabs that operate by a quick squeeze with a thumb and a forefinger, to quickly release and detach the device for further use.</p>\\n<p id=\"p-0020\" num=\"0019\">It is a yet a further object of the invention to produce a holder for a handheld computing device such as a smartphone or a PDA, that allows the user to use it in various orientations. Accordingly, the invention is a holder that attaches to a wrist strap using interlocking assemblies that allow the device to rotate between a portrait and a landscape position.</p>\\n<p id=\"p-0021\" num=\"0020\">The invention is a holder for a handheld device such as a smartphone or personal digital assistant (PDA) worn securely on a wrist, that allows the device to selectively rotate to a plurality of desired positions while remaining on the wrist. The holder has a protective shell case rotatably connected to a wrist strap by a pair of interlocking assemblies. In a first embodiment, a spring assembly with a pair of tabs on the wrist strap connects to a socket assembly attached to the shell case. In a further embodiment, the socket assembly on the strap connects to the spring assembly on the case. The shell case holds the device, allowing a user to directly access and use the device single-handedly when worn on the wrist. The device rotates between portrait and landscape positions by grasping the shell case and twisting, and detaches quickly by squeezing the tabs, disengaging the interlocking assemblies.</p>\\n<p id=\"p-0022\" num=\"0021\">To the accomplishment of the above and related objects the invention may be embodied in the form illustrated in the accompanying drawings. Attention is called to the fact, however, that the drawings are illustrative only. Variations are contemplated as being part of the invention, limited only by the scope of the claims.</p>\\n<?BRFSUM description=\"Brief Summary\" end=\"tail\"?>\\n<?brief-description-of-drawings description=\"Brief Description of Drawings\" end=\"lead\"?>\\n<description-of-drawings>\\n<heading id=\"h-0004\" level=\"1\">BRIEF DESCRIPTION OF THE DRAWINGS</heading>\\n<p id=\"p-0023\" num=\"0022\">In the drawings, like elements are depicted by like reference numerals. The drawings are briefly described as follows.</p>\\n<p id=\"p-0024\" num=\"0023\"><figref idref=\"DRAWINGS\">FIG. 1</figref> is a diagrammatic perspective view of the invention from the front, showing an empty shell case attached to a wrist strap.</p>\\n<p id=\"p-0025\" num=\"0024\"><figref idref=\"DRAWINGS\">FIG. 2</figref> is a diagrammatic perspective view of the invention from the back, showing the shell case attached to the wrist strap.</p>\\n<p id=\"p-0026\" num=\"0025\"><figref idref=\"DRAWINGS\">FIG. 3</figref> is a diagrammatic perspective view of a first embodiment of the invention from the back, showing an exploded view of a socket assembly.</p>\\n<p id=\"p-0027\" num=\"0026\"><figref idref=\"DRAWINGS\">FIG. 4</figref> is a cross-sectional center axial view of the invention showing the socket assembly interlockingly connecting to the spring assembly.</p>\\n<p id=\"p-0028\" num=\"0027\"><figref idref=\"DRAWINGS\">FIG. 5</figref> is a diagrammatic perspective view of the invention in use, showing a smartphone in place on a wrist of a user, with the smartphone in a landscape position.</p>\\n<p id=\"p-0029\" num=\"0028\"><figref idref=\"DRAWINGS\">FIG. 6</figref> is a diagrammatic perspective view of the invention in use, showing a smartphone in place on a wrist of a user, with the smartphone in a portrait position.</p>\\n<p id=\"p-0030\" num=\"0029\"><figref idref=\"DRAWINGS\">FIG. 7</figref> is a diagrammatic perspective view of a further embodiment of the invention from the back with the shell case disengaged, showing the socket assembly on the shell case and the spring assembly on the wrist strap.</p>\\n</description-of-drawings>\\n<?brief-description-of-drawings description=\"Brief Description of Drawings\" end=\"tail\"?>\\n<?DETDESC description=\"Detailed Description\" end=\"lead\"?>\\n<heading id=\"h-0005\" level=\"1\">DETAILED DESCRIPTION OF THE PREFERRED EMBODIMENTS</heading>\\n<p id=\"p-0031\" num=\"0030\"><figref idref=\"DRAWINGS\">FIG. 1</figref> illustrates a wrist holder <b>10</b> for a handheld computing device such as a smartphone or a PDA (personal digital assistant) according to the present invention. The invention has a wrist strap <b>200</b> which is adjustable lengthwise to snugly fit around a user\\'s wrist to accommodate different sized wrists. The wrist holder <b>10</b> has a shell case <b>100</b> to securely cradle the handheld device that is rotatably mounted on the wrist strap <b>200</b> by a spring assembly interlockingly connected to a socket assembly. The spring assembly selectively connects to and disconnects from the mounting assembly. When the spring assembly is connected to the socket assembly, the shell case <b>100</b> containing the handheld device selectively rotates to any position that a user requires. The shell case <b>100</b> protects the handheld device particularly when the device is disconnected from the wrist strap <b>200</b>, preventing damage if the device is dropped, but also protects the device if struck against a hard surface when mounted on the wrist strap <b>200</b>.</p>\\n<p id=\"p-0032\" num=\"0031\"><figref idref=\"DRAWINGS\">FIG. 5</figref> illustrates a user wearing the wrist holder <b>10</b> with a handheld computing device <b>12</b> in place on the user\\'s wrist <b>20</b>, the device in a landscape position, having the width of the display area greater than the height of the display. In <figref idref=\"DRAWINGS\">FIG. 6</figref>, the user has selectively rotated the device <b>12</b> into a portrait position, having the height of the display area greater than the width of the display, without removing the device <b>12</b> from the user\\'s wrist <b>20</b>. The device <b>12</b> is functional in both the landscape and portrait position.</p>\\n<p id=\"p-0033\" num=\"0032\"><figref idref=\"DRAWINGS\">FIG. 2</figref>, the fully assembled invention <b>10</b> is illustrated from the rear, showing the wrist strap <b>200</b>, having an inside <b>200</b>N and an outside. The inside <b>200</b>N of the strap <b>200</b> rests against the user\\'s wrist. The shell case <b>100</b> has a rear <b>100</b>R with a platform <b>120</b> to provide sufficient clearance between the strap <b>200</b> and the shell case <b>100</b> for the spring assembly to connect to the socket assembly and rotate. The inside <b>200</b>N of the wrist strap <b>200</b> is smooth to fit snugly and comfortably around the user\\'s wrist. In a first embodiment, a flat crown <b>350</b> on the inside <b>200</b>N fastens the socket assembly on the outside <b>200</b>X of the wrist strap <b>200</b>. In a further embodiment, the inside <b>200</b>N of the wrist strap <b>200</b> is solid and smooth, the spring assembly directly attached on the outside <b>200</b>X of the strap <b>200</b>.</p>\\n<p id=\"p-0034\" num=\"0033\"><figref idref=\"DRAWINGS\">FIG. 3</figref> illustrates the first embodiment the invention <b>10</b> with the socket assembly <b>300</b> on the wrist strap <b>200</b>. The socket assembly <b>300</b> is shown in an exploded view. In this embodiment, the socket assembly <b>300</b> is fixed to the wrist strap <b>200</b> and does not rotate. The spring assembly <b>400</b> is attached to the shell case <b>100</b> and selectively rotates the shell case <b>100</b> to a desire position. In <figref idref=\"DRAWINGS\">FIG. 7</figref>, as explained hereinbelow, the socket assembly <b>300</b> is attached to the shell case <b>100</b> and selectively rotates the shell case <b>100</b> when connected to the spring assembly <b>400</b> fixed on the wrist strap <b>200</b>.</p>\\n<p id=\"p-0035\" num=\"0034\">Referring to <figref idref=\"DRAWINGS\">FIG. 3</figref>, the crown <b>350</b> and a ring <b>310</b> form the socket assembly <b>300</b> in the first embodiment that connects to the spring assembly <b>400</b> on the shell case <b>100</b>. The wrist strap <b>200</b>, having a pair of end portions <b>200</b>E, <b>200</b>F, has an aperture <b>220</b> between the end portions. The ring <b>310</b> has an inner disk <b>320</b>, and a flat outer flange <b>330</b>, having an inside regularly-shaped circular opening, the inner disk <b>320</b> attaching to and sitting on the outer flange <b>330</b>. The inner disk <b>320</b> has an inside edge <b>320</b>E, having a plurality of smooth, flat semicircular ridges <b>322</b>, which do not project beyond the inside of the circular opening <b>340</b> of the flange <b>330</b> that defines the opening in the ring <b>310</b>. The edge <b>320</b>E has a plurality of grooves interposed between the ridges <b>322</b>.</p>\\n<p id=\"p-0036\" num=\"0035\"><figref idref=\"DRAWINGS\">FIG. 3</figref> shows the spring assembly <b>400</b> attached to the platform <b>120</b> of the shell case <b>100</b>. The spring assembly <b>400</b> has a pair of tabs <b>410</b>, and a circular housing <b>420</b> with a bottom base <b>422</b>, a top <b>424</b> having a round side <b>424</b>S connecting the top <b>424</b> to the base <b>422</b>. In the first embodiment, the base <b>422</b> of the housing <b>420</b> is attached to the platform <b>120</b> of the shell case <b>100</b>, securing the spring assembly <b>400</b> to the shell case <b>100</b>. The housing <b>420</b> has an inside with a spring and an internal bottom channel diametrally formed beneath the bottom base <b>422</b> with a pair of diametrally opposing notches <b>426</b> to accommodate the pair of tabs <b>400</b>, allowing the tabs <b>410</b> to travel through the notches <b>426</b> into the channel. The top <b>424</b> of the housing <b>420</b> has a smaller diameter than the base <b>422</b> and concentrically sits on the bottom base <b>422</b>. The round side <b>424</b>S has two opposing windows <b>428</b> aligned with the channel in the base <b>422</b>.</p>\\n<p id=\"p-0037\" num=\"0036\">Details of the inside of the housing are clearly illustrated in <figref idref=\"DRAWINGS\">FIG. 4</figref>, in a cross-sectional axial view of the fully assembled invention <b>10</b>. The socket assembly <b>300</b> on the wrist strap <b>200</b> is interlockingly connected to the spring assembly <b>400</b> on the shell case <b>100</b> in the first embodiment. The pair of tabs <b>410</b> each have an inside end <b>410</b>N and an outer end <b>410</b>E. On the inside ends <b>410</b>N of the tabs <b>410</b>, inside the housing <b>420</b>, is a pair of short rods <b>418</b>, one on each inside end <b>410</b>N that fit inside the spring <b>430</b>. The spring <b>430</b> and the inside ends <b>410</b>N of the tabs <b>410</b> are in the housing <b>420</b>.</p>\\n<p id=\"p-0038\" num=\"0037\">In the first embodiment, the spring assembly <b>400</b> is fixed onto the rear platform <b>120</b> of the shell case <b>100</b>. The spring assembly <b>400</b> does not rotate with respect to the shell case <b>100</b>, but is fixed in place such that the shell case <b>100</b> rotates with the spring assembly <b>400</b>. The spring assembly <b>400</b> is inserted inside the socket assembly <b>300</b> and the pair of tabs <b>410</b> of the spring assembly <b>400</b> locks the spring assembly <b>400</b> in place. As shown in <figref idref=\"DRAWINGS\">FIG. 3</figref>, each inside end <b>410</b>N of the tabs <b>410</b> has a curved crescent-shaped catch <b>412</b> biased inward toward the opposing tab, with a plurality of grooves <b>414</b> curving towards the outer ends <b>410</b>E of the tabs <b>410</b>. Referring to <figref idref=\"DRAWINGS\">FIG. 4</figref>, beneath the grooves on the catch are a pair of recesses <b>416</b>, a recess on each catch, allowing the grooves to extend through the windows in the housing to engage the ridges <b>322</b> on the edge of the inner disk <b>320</b> in the socket assembly <b>300</b> and hooking around the side of housing <b>424</b>S below the windows <b>428</b>. The spring <b>430</b> in the housing <b>420</b> is between the inside ends <b>410</b>N of the tabs <b>410</b> and maintains a force against the catches <b>412</b>, keeping the tabs <b>400</b> fully extended in the locking position. The spring <b>430</b> maintains the engagement of the grooves <b>414</b> of the tabs <b>410</b> with the ridges <b>322</b> on the inner disk <b>320</b> of the socket assembly <b>300</b>. As illustrated in <figref idref=\"DRAWINGS\">FIG. 5</figref>, the shell case <b>100</b> has a plurality of sides, a pair of parallel longs sides <b>100</b>L and a pair of parallel short sides <b>100</b>S forming a rim <b>130</b>. As shown in <figref idref=\"DRAWINGS\">FIG. 4</figref>, the outer ends <b>410</b>E of the tabs <b>410</b> extend out of the notches <b>426</b> in the housing bottom <b>422</b> and to the rim <b>130</b> on the long sides <b>100</b>L of the shell case <b>100</b> so that the user can easily squeeze the tabs <b>410</b> together to remove the device <b>12</b> from the wrist strap <b>200</b>.</p>\\n<p id=\"p-0039\" num=\"0038\"><figref idref=\"DRAWINGS\">FIG. 7</figref> shows the further embodiment of the invention <b>10</b>. The spring assembly <b>400</b> is attached directly on the wrist strap <b>200</b>, with the tabs <b>410</b> parallel lengthwise to the strap <b>200</b>. The socket assembly <b>300</b>, with the ridges and grooves as explained hereinabove, is inserted in the rear platform <b>120</b> of the shell case <b>100</b>, the shell case <b>100</b> having a cavity to accommodate the socket assembly <b>300</b>. The assemblies interlock in the same manner as described hereinabove. The socket assembly <b>300</b> selectively rotates the shell case <b>100</b> when connected to the spring assembly <b>400</b> fixed on the wrist strap <b>200</b>.</p>\\n<p id=\"p-0040\" num=\"0039\"><figref idref=\"DRAWINGS\">FIG. 3</figref> shows a non-limiting example of a method of attaching the socket assembly <b>300</b> to the wrist band <b>200</b>. The aperture <b>220</b> on the wrist strap <b>200</b> is essentially circular with an edge <b>220</b>E. Adjacent to the edge <b>220</b>E is a plurality of small openings <b>222</b>. Located on the flange <b>330</b> is a plurality of vertical pins <b>332</b>, each having a bottom <b>332</b>B attached to the flange <b>330</b> and a top <b>332</b>T. The small openings align with the plurality of pins on the flange <b>332</b> of the ring <b>310</b>. To attach the socket assembly <b>300</b> to the wrist strap <b>200</b>, the ring <b>310</b> is placed on the outside <b>200</b>X of the strap <b>200</b>, and the plurality of pins <b>332</b> on the flange <b>330</b> of the ring <b>310</b> are placed through the small openings <b>222</b> surrounding the aperture <b>220</b>. The crown <b>350</b> has a plurality of slots on the inside surface, which are not shown in the drawing. The slots align with the pins <b>310</b> on the ridge <b>305</b> of the ring <b>300</b>. The crown <b>350</b> is snaps into place on the inside <b>200</b>N of the strap <b>200</b>, inserting the tops <b>332</b>T of the pins <b>332</b> into corresponding slots on the inside surface of the cap <b>350</b>.</p>\\n<p id=\"p-0041\" num=\"0040\">As illustrated in <figref idref=\"DRAWINGS\">FIG. 5</figref> and <figref idref=\"DRAWINGS\">FIG. 6</figref>, the device <b>12</b> typically has a front <b>12</b>F and a back connected by a plurality of edges <b>12</b>S, the front <b>10</b>F having typically a touch or front display screen <b>14</b>, a virtual or actual keyboard, a receiver speaker <b>16</b> for the phone, optionally a control button <b>18</b>. The shell case <b>100</b> has a back <b>100</b>R having a border <b>100</b>R which covers the back of the device. The shell case <b>100</b> also has an open front <b>100</b>F and a flexible rim <b>130</b> attached to the border of the back <b>100</b>R, the flexible rim <b>130</b> having a curved edge <b>130</b>E extending inwardly and defining the open front <b>100</b>F. The flexible rim <b>130</b> fits around the side edges <b>12</b>S of the device <b>12</b> with having a curved edge extending inwardly and defining the open front <b>12</b>F of the device, overlapping the edges on the front <b>12</b>F sufficiently to hold the device <b>12</b> in place. The flexible rim <b>130</b> does not interfere with the display screen <b>14</b> or user interface features such as the keyboard. Suitable apertures for attaching headphones, recharging cable, and other peripheral devices are in the flexible rim <b>130</b>, but are not shown. The user has a pair of wrists <b>20</b>, each with a hand <b>30</b> with a set of fingers <b>32</b> and a thumb <b>32</b>, the hand <b>30</b> distally attached to the wrist <b>20</b>. Wearing the wrist holder <b>10</b> on a first wrist <b>20</b> allows the user to use the hands <b>30</b> and fingers <b>32</b> of the wrists <b>20</b> for tasks other than holding the handheld computing device.</p>\\n<p id=\"p-0042\" num=\"0041\">To rotate the shell case <b>100</b> to a desired position, in the first embodiment the spring assembly <b>400</b> is rotated with respect to the socket assembly <b>300</b>. In the further embodiment, the socket assembly rotates with respect to the spring assembly <b>400</b>. In both embodiments, to rotate the shell case <b>100</b>, grasping the rim <b>130</b> of the shell case <b>110</b> and twisting to slightly compress the spring in the spring assembly <b>400</b>, forcing the grooves on the inside tab ends <b>410</b>N slightly away from the ridges in the socket assembly, allowing one assembly to rotate with respect to other assembly.</p>\\n<p id=\"p-0043\" num=\"0042\">To release the shell case <b>100</b>, the pair of tabs <b>410</b> is squeezed towards each other, until the grooves on the tabs <b>410</b> completely disengage from the ridges on the inner ring of the socket assembly so that the two assemblies are completely disengaged from each other. The user pulls the shell case <b>100</b> straight out from the wrist strap <b>200</b>, separating the socket assembly <b>300</b> from the spring assembly <b>400</b>. To reattach the shell case <b>100</b>, the socket assembly snaps into place inside the spring assembly <b>400</b>, the grooves on the tabs <b>410</b> of the spring assembly <b>400</b> engaging the ridges of the socket assembly.</p>\\n<p id=\"p-0044\" num=\"0043\"><figref idref=\"DRAWINGS\">FIG. 1</figref> demonstrates the adjustable elements of the wrist strap <b>200</b>. The wrist strap <b>200</b> has a pair of end portions, including the first end portion <b>200</b>E and the second end portion <b>200</b>F. In one embodiment, the first end portion <b>200</b>E contains a plurality of openings <b>210</b>, and a second end portion <b>200</b>F containing a plurality of fastening pegs <b>240</b>, forming a poly-snap closure when joined. The wrist strap <b>200</b> has a keeper loop <b>230</b> on the second end portion <b>200</b>F that holds the first end portion <b>200</b>E snugly against the wrist strap <b>200</b>. It is understood that numerous variation in the method of adjusting the length of the strap as well as closures for the pair of end portions are possible within the inventive concept. For example, the closure can be, but is not limited to, a standard tang buckle, a deployment clasp, or hook and loop fastener material.</p>\\n<p id=\"p-0045\" num=\"0044\">To use the invention <b>10</b> to maintain the handheld device on the wrist, as illustrated in <figref idref=\"DRAWINGS\">FIG. 3</figref>, the user first places the handheld device in the shell case <b>100</b>, securing it with the flexible rim. The user places the wrist strap <b>200</b> on the wrist and selectively adjusts the strap to fit comfortably. The user attaches the shell case <b>100</b> with the device onto the wrist strap <b>200</b> by snapping the spring assembly <b>400</b> onto the socket assembly <b>300</b>, interlocking the two assemblies by engaging the grooves <b>414</b> on the tabs <b>410</b> of the spring assembly <b>400</b> with the ridges <b>322</b> of the socket assembly <b>300</b>. Alternatively, the user attaches the device to the wrist strap <b>200</b> as described hereinabove and places the strap <b>200</b> on the wrist after connecting the assemblies.</p>\\n<p id=\"p-0046\" num=\"0045\">The user selectively rotates the device into a desired position by grasping the rim <b>130</b> of the shell case <b>100</b> and twisting to slightly compress the spring in the spring assembly <b>400</b>, forcing the grooves <b>414</b> on the tab ends <b>410</b>N slightly away from the ridges <b>322</b> in the socket assembly, allowing one assembly to rotate with respect to the other assembly. The user operates the device normally while attached to the wrist strap <b>200</b> without having to detach the device unless desires.</p>\\n<p id=\"p-0047\" num=\"0046\">The user selectively detaches the shell case <b>100</b> with the device from the wrist band <b>200</b> by placing a forefinger of the hand on the second wrist on the outer end <b>410</b>E of a first tab <b>410</b> and the thumb of the hand on the second wrist on the outer end <b>410</b>E of a second tab <b>410</b> and squeezing the tabs <b>410</b> together, completely disengaging the ridges <b>322</b> on the socket assembly <b>300</b> from the grooves <b>414</b> on the tabs <b>410</b> on the spring assembly <b>400</b> and lifting the shell case <b>100</b> off of the wrist strap <b>200</b>.</p>\\n<p id=\"p-0048\" num=\"0047\">In the embodiments illustrated, the user places the wrist strap <b>200</b> around the wrist and selectively adjusts the wrist strap by inserting a pair of poly-snap fastening pegs on the second end portion <b>200</b>F of the wrist strap <b>200</b> into a pair of openings <b>210</b> on the first end <b>200</b>E, forming a poly-snap closure when joined. It is understood that a poly-snap closure is a non-limiting example of how the wrist strap is adjustably fastened within the inventive concept. Other means of adjustably fastening the wrist strap <b>200</b> are well-known to those of ordinary skill and are beyond the scope of this discussion.</p>\\n<p id=\"p-0049\" num=\"0048\">In conclusion, herein is presented a wrist holder for a handheld device such as a smartphone or PDA that allows the user to easily rotate the device between landscape and portrait positions, as well as quickly connecting to and disconnecting the device from the holder. The invention is illustrated by example in the drawing figures, and throughout the written description. It should be understood that numerous variations are possible, while adhering to the inventive concept. Such variations are contemplated as being a part of the present invention.</p>\\n<?DETDESC description=\"Detailed Description\" end=\"tail\"?>\\n</description>\\n<us-claim-statement>What is claimed is:</us-claim-statement>\\n<claims id=\"claims\">\\n<claim id=\"CLM-00001\" num=\"00001\">\\n<claim-text>1. A wrist holder for a handheld computing device, comprising:\\n<claim-text>a wrist strap, the wrist strap having a pair of ends portions and a means for adjustably fastening the ends together;</claim-text>\\n<claim-text>a shell case, the shell case having an open front, a back having a border, the shell case having a flexible rim attached to the border of the back, the flexible rim having a curved edge extending inwardly and defining the open front to contain the handheld computing device within the shell case; and</claim-text>\\n<claim-text>a pair of interlocking assemblies, a first assembly attached to the wrist strap and a second assembly attached to the back of the shell case, the assemblies selectively connecting the shell case to the wrist strap, the pair of assemblies including a spring assembly and a socket assembly, the socket assembly having a inner disk with a inside edge defining a circular opening, the inside edge having a plurality of ridges, the spring assembly having a spring, a housing and a pair of tabs, each tab having an inside end and an outer end, the inside end having a plurality of grooves, the housing having a top, a side, the side having a pair of diametrally opposing windows and a diametral bottom channel, the inside ends of the tabs traveling through the channel into the housing, the spring inside the housing between the inside ends of the tabs extending the grooves on the inside ends through the windows, the grooves, selectively engaging the ridges on the socket assembly, interlockingly connecting the wrist strap to the shell case when the first assembly on the back of the shell case snaps on the second assembly on the strap, the second assembly on the shell case rotating with respect to the first assembly on the strap.</claim-text>\\n</claim-text>\\n</claim>\\n<claim id=\"CLM-00002\" num=\"00002\">\\n<claim-text>2. The wrist holder for a handheld computing device as described in <claim-ref idref=\"CLM-00001\">claim 1</claim-ref>, wherein the handheld device is functional in a portrait position and a landscape position, and the second assembly on the shell case rotates with respect to the first assembly on the wrist strap, selectively allowing the device to rotate between the landscape position and the portrait position.</claim-text>\\n</claim>\\n<claim id=\"CLM-00003\" num=\"00003\">\\n<claim-text>3. The wrist holder for a handheld computing device, as described in <claim-ref idref=\"CLM-00002\">claim 2</claim-ref>, wherein the socket assembly is attached to the back of the shell case.</claim-text>\\n</claim>\\n<claim id=\"CLM-00004\" num=\"00004\">\\n<claim-text>4. The wrist holder for a handheld computing device, as described in <claim-ref idref=\"CLM-00003\">claim 3</claim-ref>, wherein the spring assembly is attached to the wrist strap.</claim-text>\\n</claim>\\n<claim id=\"CLM-00005\" num=\"00005\">\\n<claim-text>5. The wrist holder for a handheld computing device, as described in <claim-ref idref=\"CLM-00004\">claim 4</claim-ref>, wherein the tab ends of the spring assembly are aligned with the end portions of the wrist strap.</claim-text>\\n</claim>\\n<claim id=\"CLM-00006\" num=\"00006\">\\n<claim-text>6. The wrist holder for a handheld computing device, as described in <claim-ref idref=\"CLM-00005\">claim 5</claim-ref>, wherein the wrist strap has a first end portion and a second end portion, the first end portion has a plurality of openings engaging the second end portion, the second end portion having a plurality of fastening pegs to adjustably form a poly-snap closure when the fastening pegs are selectively inserted in the openings.</claim-text>\\n</claim>\\n<claim id=\"CLM-00007\" num=\"00007\">\\n<claim-text>7. A wrist holder for a handheld computing device, comprising:\\n<claim-text>a wrist strap, the wrist strap having a pair of ends and a means for adjustably fastening the ends together;</claim-text>\\n<claim-text>a shell case, the shell case having an open front, a back having a border, a flexible rim attached to the border of the back, the flexible rim having a curved edge extending inwardly and defining the open front to contain the handheld computing device within the shell case; and</claim-text>\\n<claim-text>a socket assembly, the socket assembly attached to the back of the shell case, the socket assembly having a inner disk with a inside edge defining a circular opening, the inside edge having a plurality of ridges; and</claim-text>\\n<claim-text>a spring assembly, the spring assembly attached to the wrist strap, the spring assembly having a spring, a housing and a pair of tabs, each tab having an inside end and an outer end, the inside end having a plurality of grooves, the housing having a top, a side, the side having a pair of diametrally opposing windows and a diametral bottom channel, the inside ends of the tabs traveling through the channel into the housing, the spring inside the housing between the inside ends of the tabs extending the grooves on the inside ends through the windows and selectively engaging the ridges on the socket assembly attached to the shell case to interlockingly connect the wrist strap to the shell case when the socket assembly is snapped on the spring assembly, the spring assembly allowing the socket assembly on the shell case to selectively rotate with respect to the spring assembly on the strap.</claim-text>\\n</claim-text>\\n</claim>\\n<claim id=\"CLM-00008\" num=\"00008\">\\n<claim-text>8. The wrist holder for a handheld computing device, as described in <claim-ref idref=\"CLM-00007\">claim 7</claim-ref>, wherein the tab ends of the spring assembly are aligned with the end portions of the wrist strap.</claim-text>\\n</claim>\\n<claim id=\"CLM-00009\" num=\"00009\">\\n<claim-text>9. The wrist holder for a handheld computing device as described in <claim-ref idref=\"CLM-00008\">claim 8</claim-ref>, wherein the handheld device is functional in a portrait position and a landscape position, and the socket assembly on the shell case rotates with respect to the spring assembly on the wrist strap, selectively allowing the device to rotate between the landscape position and the portrait position.</claim-text>\\n</claim>\\n<claim id=\"CLM-00010\" num=\"00010\">\\n<claim-text>10. The wrist holder for a handheld computing device, as described in <claim-ref idref=\"CLM-00009\">claim 9</claim-ref>, wherein the wrist strap has a first end portion and a second end portion, the first end portion has a plurality of openings engaging the second end portion, the second end portion having a plurality of fastening pegs to adjustably form a poly-snap closure when the fastening pegs are selectively inserted in the openings.</claim-text>\\n</claim>\\n<claim id=\"CLM-00011\" num=\"00011\">\\n<claim-text>11. A method of maintaining a handheld computing device on a wrist of a user with a wrist holder, the wrist holder having an adjustable wrist strap, a shell case, the shell case having a back, the shell case containing the handheld computing device, the wrist holder also having a socket assembly, the socket assembly attached to the back of the shell case, a spring assembly, the spring assembly attached to the wrist strap, the spring assembly having a pair of tabs for selectively engaging the socket and a spring for biasing the tabs towards a locked position, comprising:\\n<claim-text>attaching the wrist strap to the wrist of the user;</claim-text>\\n<claim-text>connecting the wrist strap to the shell case by snapping the socket assembly on the back of the shell case;</claim-text>\\n<claim-text>rotating the handheld computing device with respect to the wrist strap on the wrist by grasping the rim of the shell case and twisting; and</claim-text>\\n<claim-text>selectively detaching the handheld computing device from the wrist strap by squeezing the tabs together to compress the spring to release the socket, and lifting the shell case off of the wrist strap.</claim-text>\\n</claim-text>\\n</claim>\\n<claim id=\"CLM-00012\" num=\"00012\">\\n<claim-text>12. The method of maintaining a handheld computing device on a wrist with a wrist holder as described in <claim-ref idref=\"CLM-00011\">claim 11</claim-ref>, wherein the step of snapping the socket assembly onto the spring assembly is preceded by the step of placing the device in the shell case through the open front with the flexible rim securing the device.</claim-text>\\n</claim>\\n<claim id=\"CLM-00013\" num=\"00013\">\\n<claim-text>13. The method of maintaining a handheld computing device on a wrist with a wrist holder as described in <claim-ref idref=\"CLM-00012\">claim 12</claim-ref>, wherein the ridges of the socket assembly engage the grooves of the spring assembly on the back of the shell case, interlockingly connecting the wrist strap to the shell case.</claim-text>\\n</claim>\\n<claim id=\"CLM-00014\" num=\"00014\">\\n<claim-text>14. The method of maintaining a handheld computing device on a wrist with a wrist holder as described in <claim-ref idref=\"CLM-00013\">claim 13</claim-ref>, wherein the handheld computing device rotates by grasping the rim and twisting, slightly compressing the spring in the spring assembly, forcing the grooves on the tab ends slightly away from the ridges in the socket assembly.</claim-text>\\n</claim>\\n<claim id=\"CLM-00015\" num=\"00015\">\\n<claim-text>15. The method of maintaining a handheld computing device on a wrist with a wrist holder as described in <claim-ref idref=\"CLM-00014\">claim 14</claim-ref>, wherein the squeezing the tabs on the spring assembly together to compress the spring disengages the ridges on the socket assembly from the grooves on the tabs on the spring assembly completely, and shell case lifts off the wrist strap, selectively disengaging the device from the wrist strap. </claim-text>\\n</claim>\\n</claims>\\n</us-patent-grant>\\n'"
            ]
          },
          "metadata": {
            "tags": []
          },
          "execution_count": 51
        }
      ]
    },
    {
      "cell_type": "code",
      "metadata": {
        "id": "qa8RoBOXHtCW",
        "colab_type": "code",
        "colab": {}
      },
      "source": [
        "import re\n",
        "\n",
        "def ipc_section_grant(whole):\n",
        "  list = re.findall(r'<main-classification>([A-H]).{6,9}</main-classification>', whole)\n",
        "  return list"
      ],
      "execution_count": 0,
      "outputs": []
    },
    {
      "cell_type": "code",
      "metadata": {
        "id": "vVx0qFihKfuT",
        "colab_type": "code",
        "outputId": "33d33c90-0f08-4b62-e1d1-1f0dc31ca11f",
        "colab": {
          "base_uri": "https://localhost:8080/",
          "height": 34
        }
      },
      "source": [
        "grant_section_1 =  grants[\"xml\"].map(ipc_section_grant)\n",
        "grant_section_2 =  grants[\"xml\"].map(ipc_section)\n",
        "grant_section = [section_1+section_2 for section_1, section_2 in zip(grant_section_1, grant_section_2)]\n",
        "grant_section = pd.Series(grant_section)\n",
        "grant_section.shape, grant_section_1.shape,grant_section_2.shape"
      ],
      "execution_count": 0,
      "outputs": [
        {
          "output_type": "execute_result",
          "data": {
            "text/plain": [
              "((6440,), (6440,), (6440,))"
            ]
          },
          "metadata": {
            "tags": []
          },
          "execution_count": 157
        }
      ]
    },
    {
      "cell_type": "code",
      "metadata": {
        "id": "SXW9Yf9LgI2-",
        "colab_type": "code",
        "outputId": "957e4394-e533-4e22-ffbe-e5c3e0c87a49",
        "colab": {
          "base_uri": "https://localhost:8080/",
          "height": 907
        }
      },
      "source": [
        "grant_section[50:100]"
      ],
      "execution_count": 0,
      "outputs": [
        {
          "output_type": "execute_result",
          "data": {
            "text/plain": [
              "50                                     [H]\n",
              "51                                      []\n",
              "52                                     [G]\n",
              "53                                     [G]\n",
              "54                                     [G]\n",
              "55                                     [G]\n",
              "56                                     [G]\n",
              "57                                     [G]\n",
              "58                                  [G, G]\n",
              "59                                  [A, D]\n",
              "60                                     [B]\n",
              "61                                     [F]\n",
              "62                                     [F]\n",
              "63                                     [F]\n",
              "64                                     [G]\n",
              "65                                     [A]\n",
              "66                                     [B]\n",
              "67                                     [A]\n",
              "68                      [A, C, A, A, C, A]\n",
              "69                                     [G]\n",
              "70                                     [H]\n",
              "71                                     [F]\n",
              "72                                     [G]\n",
              "73                                     [H]\n",
              "74                                     [G]\n",
              "75                                     [G]\n",
              "76                                     [G]\n",
              "77                                     [G]\n",
              "78                                     [A]\n",
              "79                                     [B]\n",
              "80                                     [F]\n",
              "81                                     [B]\n",
              "82                                     [A]\n",
              "83                                     [B]\n",
              "84                                     [D]\n",
              "85                                     [D]\n",
              "86                                     [A]\n",
              "87                                     [H]\n",
              "88                                     [H]\n",
              "89    [H, H, H, H, H, H, H, H, H, H, H, H]\n",
              "90                                     [G]\n",
              "91                                     [H]\n",
              "92                                  [H, H]\n",
              "93                                     [G]\n",
              "94                                     [G]\n",
              "95                                  [G, G]\n",
              "96                                     [A]\n",
              "97                                     [A]\n",
              "98                                     [F]\n",
              "99                                     [F]\n",
              "dtype: object"
            ]
          },
          "metadata": {
            "tags": []
          },
          "execution_count": 158
        }
      ]
    },
    {
      "cell_type": "code",
      "metadata": {
        "id": "Lln4j-OoLny3",
        "colab_type": "code",
        "outputId": "f818785b-3357-42c5-a955-50c203182025",
        "colab": {
          "base_uri": "https://localhost:8080/",
          "height": 34
        }
      },
      "source": [
        "grant_section_vec = grant_section.map(section_to_vec)\n",
        "grant_section_vec.shape"
      ],
      "execution_count": 0,
      "outputs": [
        {
          "output_type": "execute_result",
          "data": {
            "text/plain": [
              "(6440,)"
            ]
          },
          "metadata": {
            "tags": []
          },
          "execution_count": 159
        }
      ]
    },
    {
      "cell_type": "code",
      "metadata": {
        "id": "jJbNeAJaMDFp",
        "colab_type": "code",
        "outputId": "e84600da-c411-4a0c-ddd3-19b2759452d8",
        "colab": {
          "base_uri": "https://localhost:8080/",
          "height": 34
        }
      },
      "source": [
        "grant_section_vec[51]"
      ],
      "execution_count": 0,
      "outputs": [
        {
          "output_type": "execute_result",
          "data": {
            "text/plain": [
              "array([0., 0., 0., 0., 0., 0., 0., 0.])"
            ]
          },
          "metadata": {
            "tags": []
          },
          "execution_count": 160
        }
      ]
    },
    {
      "cell_type": "code",
      "metadata": {
        "id": "-uxq5VYlgblf",
        "colab_type": "code",
        "outputId": "4d4da08d-a484-494a-b0a2-6f229e5345e7",
        "colab": {
          "base_uri": "https://localhost:8080/",
          "height": 52
        }
      },
      "source": [
        "grant_section_vec[59]"
      ],
      "execution_count": 0,
      "outputs": [
        {
          "output_type": "execute_result",
          "data": {
            "text/plain": [
              "array([0.        , 0.        , 0.        , 0.        , 0.70710678,\n",
              "       0.        , 0.        , 0.70710678])"
            ]
          },
          "metadata": {
            "tags": []
          },
          "execution_count": 161
        }
      ]
    },
    {
      "cell_type": "code",
      "metadata": {
        "id": "KGIMAtn7hMcC",
        "colab_type": "code",
        "outputId": "7652900e-a1e6-44e9-8b1e-e6fa4c592789",
        "colab": {
          "base_uri": "https://localhost:8080/",
          "height": 69
        }
      },
      "source": [
        "import gzip\n",
        "import pickle\n",
        "\n",
        "filename = \"train_ipc_section.pkl.gz\"\n",
        "\n",
        "with gzip.open(filename, 'w') as f:\n",
        "  pickle.dump(training_app_section_vec, f)\n",
        "!gsutil cp {filename} gs://mlstudy-phys/data/"
      ],
      "execution_count": 0,
      "outputs": [
        {
          "output_type": "stream",
          "text": [
            "Copying file://train_ipc_section.pkl.gz [Content-Type=application/octet-stream]...\n",
            "/ [1 files][ 49.1 KiB/ 49.1 KiB]                                                \n",
            "Operation completed over 1 objects/49.1 KiB.                                     \n"
          ],
          "name": "stdout"
        }
      ]
    },
    {
      "cell_type": "code",
      "metadata": {
        "id": "_5OVXUFIhdpX",
        "colab_type": "code",
        "outputId": "4801db2c-002e-426a-85d7-315c479f6788",
        "colab": {
          "base_uri": "https://localhost:8080/",
          "height": 69
        }
      },
      "source": [
        "import gzip\n",
        "import pickle\n",
        "\n",
        "filename = \"test_ipc_section.pkl.gz\"\n",
        "\n",
        "with gzip.open(filename, 'w') as f:\n",
        "  pickle.dump(test_app_section_vec, f)\n",
        "!gsutil cp {filename} gs://mlstudy-phys/data/"
      ],
      "execution_count": 0,
      "outputs": [
        {
          "output_type": "stream",
          "text": [
            "Copying file://test_ipc_section.pkl.gz [Content-Type=application/octet-stream]...\n",
            "/ [1 files][ 49.2 KiB/ 49.2 KiB]                                                \n",
            "Operation completed over 1 objects/49.2 KiB.                                     \n"
          ],
          "name": "stdout"
        }
      ]
    },
    {
      "cell_type": "code",
      "metadata": {
        "id": "xup-dvEDhmM8",
        "colab_type": "code",
        "outputId": "6aeb3fd5-e0d8-4433-aea2-69bc228f10b9",
        "colab": {
          "base_uri": "https://localhost:8080/",
          "height": 69
        }
      },
      "source": [
        "import gzip\n",
        "import pickle\n",
        "\n",
        "filename = \"grant_ipc_section.pkl.gz\"\n",
        "\n",
        "with gzip.open(filename, 'w') as f:\n",
        "  pickle.dump(grant_section_vec, f)\n",
        "!gsutil cp {filename} gs://mlstudy-phys/data/"
      ],
      "execution_count": 0,
      "outputs": [
        {
          "output_type": "stream",
          "text": [
            "Copying file://grant_ipc_section.pkl.gz [Content-Type=application/octet-stream]...\n",
            "/ [1 files][101.3 KiB/101.3 KiB]                                                \n",
            "Operation completed over 1 objects/101.3 KiB.                                    \n"
          ],
          "name": "stdout"
        }
      ]
    },
    {
      "cell_type": "code",
      "metadata": {
        "id": "zofw96TFhqIy",
        "colab_type": "code",
        "colab": {}
      },
      "source": [
        ""
      ],
      "execution_count": 0,
      "outputs": []
    }
  ]
}