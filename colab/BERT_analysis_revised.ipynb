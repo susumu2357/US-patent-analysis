{
  "nbformat": 4,
  "nbformat_minor": 0,
  "metadata": {
    "colab": {
      "name": "BERT_analysis_revised.ipynb",
      "version": "0.3.2",
      "provenance": [],
      "include_colab_link": true
    },
    "kernelspec": {
      "name": "python3",
      "display_name": "Python 3"
    }
  },
  "cells": [
    {
      "cell_type": "markdown",
      "metadata": {
        "id": "view-in-github",
        "colab_type": "text"
      },
      "source": [
        "<a href=\"https://colab.research.google.com/github/susumu2357/US-patent-analysis/blob/master/colab/BERT_analysis_revised.ipynb\" target=\"_parent\"><img src=\"https://colab.research.google.com/assets/colab-badge.svg\" alt=\"Open In Colab\"/></a>"
      ]
    },
    {
      "cell_type": "code",
      "metadata": {
        "id": "Z0b1Vgq6Pnjv",
        "colab_type": "code",
        "colab": {}
      },
      "source": [
        "!mkdir -p ./data"
      ],
      "execution_count": 0,
      "outputs": []
    },
    {
      "cell_type": "code",
      "metadata": {
        "id": "7DbuspzSPt7f",
        "colab_type": "code",
        "colab": {}
      },
      "source": [
        "from google.colab import auth\n",
        "auth.authenticate_user()"
      ],
      "execution_count": 0,
      "outputs": []
    },
    {
      "cell_type": "code",
      "metadata": {
        "id": "-SZG0L8-PwAl",
        "colab_type": "code",
        "outputId": "7aaf4387-7068-48ba-b460-b6976ea5ace3",
        "colab": {
          "base_uri": "https://localhost:8080/",
          "height": 174
        }
      },
      "source": [
        "!gsutil cp gs://mlstudy-phys/data/citations_info_3000+3000.df.gz ./data/\n",
        "!gsutil cp gs://mlstudy-phys/data/testset_app_3000.df.gz ./data/\n",
        "!gsutil cp gs://mlstudy-phys/data/grants_for_3000+3000.df.gz ./data/"
      ],
      "execution_count": 0,
      "outputs": [
        {
          "output_type": "stream",
          "text": [
            "Copying gs://mlstudy-phys/data/citations_info_3000+3000.df.gz...\n",
            "/ [0 files][    0.0 B/506.5 KiB]                                                \r/ [1 files][506.5 KiB/506.5 KiB]                                                \r\n",
            "Operation completed over 1 objects/506.5 KiB.                                    \n",
            "Copying gs://mlstudy-phys/data/testset_app_3000.df.gz...\n",
            "- [1 files][ 45.5 MiB/ 45.5 MiB]                                                \n",
            "Operation completed over 1 objects/45.5 MiB.                                     \n",
            "Copying gs://mlstudy-phys/data/grants_for_3000+3000.df.gz...\n",
            "\\ [1 files][129.4 MiB/129.4 MiB]                                                \n",
            "Operation completed over 1 objects/129.4 MiB.                                    \n"
          ],
          "name": "stdout"
        }
      ]
    },
    {
      "cell_type": "code",
      "metadata": {
        "id": "6qro-cZ0P2EN",
        "colab_type": "code",
        "colab": {}
      },
      "source": [
        ""
      ],
      "execution_count": 0,
      "outputs": []
    },
    {
      "cell_type": "code",
      "metadata": {
        "id": "T6Tceap8P6Ra",
        "colab_type": "code",
        "colab": {}
      },
      "source": [
        "import os\n",
        "import datetime\n",
        "import pickle\n",
        "import gzip\n",
        "import pandas as pd\n",
        "import numpy as np\n",
        "import matplotlib.pyplot as plt"
      ],
      "execution_count": 0,
      "outputs": []
    },
    {
      "cell_type": "code",
      "metadata": {
        "id": "Ae9DjqPJP7fN",
        "colab_type": "code",
        "colab": {}
      },
      "source": [
        "citations_info_target = pd.read_pickle(\"./data/citations_info_3000+3000.df.gz\")\n",
        "test_app = pd.read_pickle(\"./data/testset_app_3000.df.gz\")\n",
        "grants = pd.read_pickle(\"./data/grants_for_3000+3000.df.gz\")"
      ],
      "execution_count": 0,
      "outputs": []
    },
    {
      "cell_type": "code",
      "metadata": {
        "id": "w9lJNurBP9Dt",
        "colab_type": "code",
        "outputId": "0dade18f-e2fb-4699-c79b-a10e099cda3f",
        "colab": {
          "base_uri": "https://localhost:8080/",
          "height": 196
        }
      },
      "source": [
        "citations = citations_info_target[citations_info_target[\"action_type\"] == 102]\n",
        "cite_app = citations[\"app_id\"]\n",
        "cite_grant = citations [\"parsed\"]\n",
        "cite_relation = pd.concat([cite_app, cite_grant], axis=1)\n",
        "\n",
        "cite_relation.head()"
      ],
      "execution_count": 0,
      "outputs": [
        {
          "output_type": "execute_result",
          "data": {
            "text/html": [
              "<div>\n",
              "<style scoped>\n",
              "    .dataframe tbody tr th:only-of-type {\n",
              "        vertical-align: middle;\n",
              "    }\n",
              "\n",
              "    .dataframe tbody tr th {\n",
              "        vertical-align: top;\n",
              "    }\n",
              "\n",
              "    .dataframe thead th {\n",
              "        text-align: right;\n",
              "    }\n",
              "</style>\n",
              "<table border=\"1\" class=\"dataframe\">\n",
              "  <thead>\n",
              "    <tr style=\"text-align: right;\">\n",
              "      <th></th>\n",
              "      <th>app_id</th>\n",
              "      <th>parsed</th>\n",
              "    </tr>\n",
              "  </thead>\n",
              "  <tbody>\n",
              "    <tr>\n",
              "      <th>0</th>\n",
              "      <td>13836259</td>\n",
              "      <td>7746218</td>\n",
              "    </tr>\n",
              "    <tr>\n",
              "      <th>1</th>\n",
              "      <td>13836259</td>\n",
              "      <td>7746218</td>\n",
              "    </tr>\n",
              "    <tr>\n",
              "      <th>2</th>\n",
              "      <td>13836259</td>\n",
              "      <td>7746218</td>\n",
              "    </tr>\n",
              "    <tr>\n",
              "      <th>3</th>\n",
              "      <td>12097869</td>\n",
              "      <td>7402506</td>\n",
              "    </tr>\n",
              "    <tr>\n",
              "      <th>4</th>\n",
              "      <td>13718455</td>\n",
              "      <td>7908518</td>\n",
              "    </tr>\n",
              "  </tbody>\n",
              "</table>\n",
              "</div>"
            ],
            "text/plain": [
              "     app_id   parsed\n",
              "0  13836259  7746218\n",
              "1  13836259  7746218\n",
              "2  13836259  7746218\n",
              "3  12097869  7402506\n",
              "4  13718455  7908518"
            ]
          },
          "metadata": {
            "tags": []
          },
          "execution_count": 6
        }
      ]
    },
    {
      "cell_type": "code",
      "metadata": {
        "id": "t71r5pOJP_sV",
        "colab_type": "code",
        "colab": {}
      },
      "source": [
        "def test_label(app_id, grants, cite_relation):\n",
        "  cited_parsed = cite_relation[cite_relation[\"app_id\"] == app_id][\"parsed\"]\n",
        "  return [ 1 if parsed == cited_parsed.values[0] else 0 for parsed in grants[\"parsed\"] ]"
      ],
      "execution_count": 0,
      "outputs": []
    },
    {
      "cell_type": "code",
      "metadata": {
        "id": "52VDd5nYQCs9",
        "colab_type": "code",
        "outputId": "61816a20-24c3-4419-d47f-83d8bc73fe41",
        "colab": {
          "base_uri": "https://localhost:8080/",
          "height": 34
        }
      },
      "source": [
        "WHOLE_APP_NUM=3000\n",
        "WHOLE_GRANTS_NUM = grants.shape[0]\n",
        "\n",
        "WHOLE_PAIR_NUM = WHOLE_APP_NUM*WHOLE_GRANTS_NUM\n",
        "WHOLE_PAIR_NUM, WHOLE_GRANTS_NUM"
      ],
      "execution_count": 0,
      "outputs": [
        {
          "output_type": "execute_result",
          "data": {
            "text/plain": [
              "(19320000, 6440)"
            ]
          },
          "metadata": {
            "tags": []
          },
          "execution_count": 8
        }
      ]
    },
    {
      "cell_type": "code",
      "metadata": {
        "id": "j-a_p7Z_QTIV",
        "colab_type": "code",
        "outputId": "fc452a2e-dec9-4c82-d386-f7f1705898e6",
        "colab": {
          "base_uri": "https://localhost:8080/",
          "height": 34
        }
      },
      "source": [
        "BLOCK_SIZE = 10*WHOLE_GRANTS_NUM\n",
        "TOTAL_BLOCK_NUM = WHOLE_PAIR_NUM//BLOCK_SIZE\n",
        "APPS_PER_BLOCK = WHOLE_APP_NUM//TOTAL_BLOCK_NUM\n",
        "\n",
        "BLOCK_SIZE, TOTAL_BLOCK_NUM, APPS_PER_BLOCK"
      ],
      "execution_count": 0,
      "outputs": [
        {
          "output_type": "execute_result",
          "data": {
            "text/plain": [
              "(64400, 300, 10)"
            ]
          },
          "metadata": {
            "tags": []
          },
          "execution_count": 9
        }
      ]
    },
    {
      "cell_type": "code",
      "metadata": {
        "id": "6nbh2j_cTUWa",
        "colab_type": "code",
        "outputId": "d395044e-bcf9-486c-dc40-08ebc20913fb",
        "colab": {
          "base_uri": "https://localhost:8080/",
          "height": 1000
        }
      },
      "source": [
        "!gsutil -m cp gs://mlstudy-phys/data/results/result* ./data/"
      ],
      "execution_count": 0,
      "outputs": [
        {
          "output_type": "stream",
          "text": [
            "Copying gs://mlstudy-phys/data/results/result_0_64400.pkl.gz...\n",
            "Copying gs://mlstudy-phys/data/results/result_0_50.pkl.gz...\n",
            "Copying gs://mlstudy-phys/data/results/result_1000_1050.pkl.gz...\n",
            "Copying gs://mlstudy-phys/data/results/result_10110800_10175200.pkl.gz...\n",
            "Copying gs://mlstudy-phys/data/results/result_10046400_10110800.pkl.gz...\n",
            "Copying gs://mlstudy-phys/data/results/result_10175200_10239600.pkl.gz...\n",
            "Copying gs://mlstudy-phys/data/results/result_10304000_10368400.pkl.gz...\n",
            "Copying gs://mlstudy-phys/data/results/result_10239600_10304000.pkl.gz...\n",
            "/ [0 files][    0.0 B/136.5 MiB]                                                \r/ [0 files][    0.0 B/281.5 MiB]                                                \r/ [0 files][    0.0 B/281.5 MiB]                                                \r/ [0 files][    0.0 B/281.5 MiB]                                                \r/ [0 files][    0.0 B/281.5 MiB]                                                \r/ [0 files][    0.0 B/281.5 MiB]                                                \r/ [0 files][    0.0 B/281.5 MiB]                                                \r/ [0 files][    0.0 B/281.5 MiB]                                                \rCopying gs://mlstudy-phys/data/results/result_100_150.pkl.gz...\n",
            "Copying gs://mlstudy-phys/data/results/result_1030400_1094800.pkl.gz...\n",
            "Copying gs://mlstudy-phys/data/results/result_10368400_10432800.pkl.gz...\n",
            "Copying gs://mlstudy-phys/data/results/result_10432800_10497200.pkl.gz...\n",
            "Copying gs://mlstudy-phys/data/results/result_10497200_10561600.pkl.gz...\n",
            "Copying gs://mlstudy-phys/data/results/result_1050_1100.pkl.gz...\n",
            "Copying gs://mlstudy-phys/data/results/result_10561600_10626000.pkl.gz...\n",
            "Copying gs://mlstudy-phys/data/results/result_10626000_10690400.pkl.gz...\n",
            "Copying gs://mlstudy-phys/data/results/result_10690400_10754800.pkl.gz...\n",
            "Copying gs://mlstudy-phys/data/results/result_10819200_10883600.pkl.gz...\n",
            "Copying gs://mlstudy-phys/data/results/result_10754800_10819200.pkl.gz...\n",
            "Copying gs://mlstudy-phys/data/results/result_10883600_10948000.pkl.gz...\n",
            "Copying gs://mlstudy-phys/data/results/result_10948000_11012400.pkl.gz...\n",
            "Copying gs://mlstudy-phys/data/results/result_1094800_1159200.pkl.gz...\n",
            "Copying gs://mlstudy-phys/data/results/result_1100_1150.pkl.gz...\n",
            "Copying gs://mlstudy-phys/data/results/result_11012400_11076800.pkl.gz...\n",
            "Copying gs://mlstudy-phys/data/results/result_11076800_11141200.pkl.gz...\n",
            "Copying gs://mlstudy-phys/data/results/result_11141200_11205600.pkl.gz...\n",
            "Copying gs://mlstudy-phys/data/results/result_11205600_11270000.pkl.gz...\n",
            "Copying gs://mlstudy-phys/data/results/result_11270000_11334400.pkl.gz...\n",
            "Copying gs://mlstudy-phys/data/results/result_11334400_11398800.pkl.gz...\n",
            "Copying gs://mlstudy-phys/data/results/result_11398800_11463200.pkl.gz...\n",
            "Copying gs://mlstudy-phys/data/results/result_11463200_11527600.pkl.gz...\n",
            "Copying gs://mlstudy-phys/data/results/result_1150_1200.pkl.gz...\n",
            "Copying gs://mlstudy-phys/data/results/result_11527600_11592000.pkl.gz...\n",
            "Copying gs://mlstudy-phys/data/results/result_11592000_11656400.pkl.gz...\n",
            "Copying gs://mlstudy-phys/data/results/result_1159200_1223600.pkl.gz...\n",
            "Copying gs://mlstudy-phys/data/results/result_11720800_11785200.pkl.gz...\n",
            "Copying gs://mlstudy-phys/data/results/result_11656400_11720800.pkl.gz...\n",
            "Copying gs://mlstudy-phys/data/results/result_11785200_11849600.pkl.gz...\n",
            "Copying gs://mlstudy-phys/data/results/result_11849600_11914000.pkl.gz...\n",
            "Copying gs://mlstudy-phys/data/results/result_11914000_11978400.pkl.gz...\n",
            "Copying gs://mlstudy-phys/data/results/result_11978400_12042800.pkl.gz...\n",
            "Copying gs://mlstudy-phys/data/results/result_1200_1250.pkl.gz...\n",
            "Copying gs://mlstudy-phys/data/results/result_12042800_12107200.pkl.gz...\n",
            "Copying gs://mlstudy-phys/data/results/result_12107200_12171600.pkl.gz...\n",
            "Copying gs://mlstudy-phys/data/results/result_12171600_12236000.pkl.gz...\n",
            "Copying gs://mlstudy-phys/data/results/result_12236000_12300400.pkl.gz...\n",
            "Copying gs://mlstudy-phys/data/results/result_1223600_1288000.pkl.gz...\n",
            "Copying gs://mlstudy-phys/data/results/result_12300400_12364800.pkl.gz...\n",
            "Copying gs://mlstudy-phys/data/results/result_12364800_12429200.pkl.gz...\n",
            "Copying gs://mlstudy-phys/data/results/result_12429200_12493600.pkl.gz...\n",
            "Copying gs://mlstudy-phys/data/results/result_12493600_12558000.pkl.gz...\n",
            "Copying gs://mlstudy-phys/data/results/result_1250_1300.pkl.gz...\n",
            "Copying gs://mlstudy-phys/data/results/result_12558000_12622400.pkl.gz...\n",
            "Copying gs://mlstudy-phys/data/results/result_12622400_12686800.pkl.gz...\n",
            "Copying gs://mlstudy-phys/data/results/result_12686800_12751200.pkl.gz...\n",
            "Copying gs://mlstudy-phys/data/results/result_12751200_12815600.pkl.gz...\n",
            "Copying gs://mlstudy-phys/data/results/result_12815600_12880000.pkl.gz...\n",
            "Copying gs://mlstudy-phys/data/results/result_12880000_12944400.pkl.gz...\n",
            "Copying gs://mlstudy-phys/data/results/result_128800_193200.pkl.gz...\n",
            "Copying gs://mlstudy-phys/data/results/result_1288000_1352400.pkl.gz...\n",
            "Copying gs://mlstudy-phys/data/results/result_12944400_13008800.pkl.gz...\n",
            "Copying gs://mlstudy-phys/data/results/result_13008800_13073200.pkl.gz...\n",
            "Copying gs://mlstudy-phys/data/results/result_1300_1350.pkl.gz...\n",
            "Copying gs://mlstudy-phys/data/results/result_13073200_13137600.pkl.gz...\n",
            "Copying gs://mlstudy-phys/data/results/result_13137600_13202000.pkl.gz...\n",
            "Copying gs://mlstudy-phys/data/results/result_13202000_13266400.pkl.gz...\n",
            "Copying gs://mlstudy-phys/data/results/result_13266400_13330800.pkl.gz...\n",
            "Copying gs://mlstudy-phys/data/results/result_13330800_13395200.pkl.gz...\n",
            "Copying gs://mlstudy-phys/data/results/result_13395200_13459600.pkl.gz...\n",
            "Copying gs://mlstudy-phys/data/results/result_13459600_13524000.pkl.gz...\n",
            "Copying gs://mlstudy-phys/data/results/result_1350_1400.pkl.gz...\n",
            "Copying gs://mlstudy-phys/data/results/result_13524000_13588400.pkl.gz...\n",
            "Copying gs://mlstudy-phys/data/results/result_1352400_1416800.pkl.gz...\n",
            "Copying gs://mlstudy-phys/data/results/result_13588400_13652800.pkl.gz...\n",
            "Copying gs://mlstudy-phys/data/results/result_13652800_13717200.pkl.gz...\n",
            "Copying gs://mlstudy-phys/data/results/result_13717200_13781600.pkl.gz...\n",
            "Copying gs://mlstudy-phys/data/results/result_13781600_13846000.pkl.gz...\n",
            "Copying gs://mlstudy-phys/data/results/result_13846000_13910400.pkl.gz...\n",
            "Copying gs://mlstudy-phys/data/results/result_13910400_13974800.pkl.gz...\n",
            "Copying gs://mlstudy-phys/data/results/result_13974800_14039200.pkl.gz...\n",
            "Copying gs://mlstudy-phys/data/results/result_1400_1450.pkl.gz...\n",
            "Copying gs://mlstudy-phys/data/results/result_14039200_14103600.pkl.gz...\n",
            "Copying gs://mlstudy-phys/data/results/result_14103600_14168000.pkl.gz...\n",
            "Copying gs://mlstudy-phys/data/results/result_14168000_14232400.pkl.gz...\n",
            "Copying gs://mlstudy-phys/data/results/result_1416800_1481200.pkl.gz...\n",
            "Copying gs://mlstudy-phys/data/results/result_14232400_14296800.pkl.gz...\n",
            "Copying gs://mlstudy-phys/data/results/result_14296800_14361200.pkl.gz...\n",
            "Copying gs://mlstudy-phys/data/results/result_14361200_14425600.pkl.gz...\n",
            "Copying gs://mlstudy-phys/data/results/result_14425600_14490000.pkl.gz...\n",
            "Copying gs://mlstudy-phys/data/results/result_14490000_14554400.pkl.gz...\n",
            "Copying gs://mlstudy-phys/data/results/result_1450_1500.pkl.gz...\n",
            "Copying gs://mlstudy-phys/data/results/result_14554400_14618800.pkl.gz...\n",
            "Copying gs://mlstudy-phys/data/results/result_14618800_14683200.pkl.gz...\n",
            "Copying gs://mlstudy-phys/data/results/result_14683200_14747600.pkl.gz...\n",
            "Copying gs://mlstudy-phys/data/results/result_14747600_14812000.pkl.gz...\n",
            "Copying gs://mlstudy-phys/data/results/result_14812000_14876400.pkl.gz...\n",
            "Copying gs://mlstudy-phys/data/results/result_1481200_1545600.pkl.gz...\n",
            "Copying gs://mlstudy-phys/data/results/result_14876400_14940800.pkl.gz...\n",
            "Copying gs://mlstudy-phys/data/results/result_14940800_15005200.pkl.gz...\n",
            "Copying gs://mlstudy-phys/data/results/result_15005200_15069600.pkl.gz...\n",
            "Copying gs://mlstudy-phys/data/results/result_1500_1550.pkl.gz...\n",
            "Copying gs://mlstudy-phys/data/results/result_15069600_15134000.pkl.gz...\n",
            "Copying gs://mlstudy-phys/data/results/result_150_200.pkl.gz...\n",
            "Copying gs://mlstudy-phys/data/results/result_15134000_15198400.pkl.gz...\n",
            "Copying gs://mlstudy-phys/data/results/result_15198400_15262800.pkl.gz...\n",
            "Copying gs://mlstudy-phys/data/results/result_15262800_15327200.pkl.gz...\n",
            "Copying gs://mlstudy-phys/data/results/result_15327200_15391600.pkl.gz...\n",
            "Copying gs://mlstudy-phys/data/results/result_15391600_15456000.pkl.gz...\n",
            "Copying gs://mlstudy-phys/data/results/result_15456000_15520400.pkl.gz...\n",
            "Copying gs://mlstudy-phys/data/results/result_1545600_1610000.pkl.gz...\n",
            "Copying gs://mlstudy-phys/data/results/result_1550_1600.pkl.gz...\n",
            "Copying gs://mlstudy-phys/data/results/result_15520400_15584800.pkl.gz...\n",
            "Copying gs://mlstudy-phys/data/results/result_15584800_15649200.pkl.gz...\n",
            "Copying gs://mlstudy-phys/data/results/result_15649200_15713600.pkl.gz...\n",
            "Copying gs://mlstudy-phys/data/results/result_15713600_15778000.pkl.gz...\n",
            "Copying gs://mlstudy-phys/data/results/result_15778000_15842400.pkl.gz...\n",
            "Copying gs://mlstudy-phys/data/results/result_15842400_15906800.pkl.gz...\n",
            "Copying gs://mlstudy-phys/data/results/result_15906800_15971200.pkl.gz...\n",
            "Copying gs://mlstudy-phys/data/results/result_15971200_16035600.pkl.gz...\n",
            "Copying gs://mlstudy-phys/data/results/result_1600_1650.pkl.gz...\n",
            "Copying gs://mlstudy-phys/data/results/result_16035600_16100000.pkl.gz...\n",
            "Copying gs://mlstudy-phys/data/results/result_16100000_16164400.pkl.gz...\n",
            "Copying gs://mlstudy-phys/data/results/result_16164400_16228800.pkl.gz...\n",
            "Copying gs://mlstudy-phys/data/results/result_16228800_16293200.pkl.gz...\n",
            "Copying gs://mlstudy-phys/data/results/result_1610000_1674400.pkl.gz...\n",
            "Copying gs://mlstudy-phys/data/results/result_16293200_16357600.pkl.gz...\n",
            "Copying gs://mlstudy-phys/data/results/result_16357600_16422000.pkl.gz...\n",
            "Copying gs://mlstudy-phys/data/results/result_16422000_16486400.pkl.gz...\n",
            "Copying gs://mlstudy-phys/data/results/result_16486400_16550800.pkl.gz...\n",
            "Copying gs://mlstudy-phys/data/results/result_1650_1700.pkl.gz...\n",
            "Copying gs://mlstudy-phys/data/results/result_16550800_16615200.pkl.gz...\n",
            "Copying gs://mlstudy-phys/data/results/result_16615200_16679600.pkl.gz...\n",
            "Copying gs://mlstudy-phys/data/results/result_16679600_16744000.pkl.gz...\n",
            "Copying gs://mlstudy-phys/data/results/result_1674400_1738800.pkl.gz...\n",
            "Copying gs://mlstudy-phys/data/results/result_16744000_16808400.pkl.gz...\n",
            "Copying gs://mlstudy-phys/data/results/result_16808400_16872800.pkl.gz...\n",
            "Copying gs://mlstudy-phys/data/results/result_16872800_16937200.pkl.gz...\n",
            "Copying gs://mlstudy-phys/data/results/result_16937200_17001600.pkl.gz...\n",
            "Copying gs://mlstudy-phys/data/results/result_17001600_17066000.pkl.gz...\n",
            "Copying gs://mlstudy-phys/data/results/result_1700_1750.pkl.gz...\n",
            "Copying gs://mlstudy-phys/data/results/result_17066000_17130400.pkl.gz...\n",
            "Copying gs://mlstudy-phys/data/results/result_17130400_17194800.pkl.gz...\n",
            "Copying gs://mlstudy-phys/data/results/result_17194800_17259200.pkl.gz...\n",
            "Copying gs://mlstudy-phys/data/results/result_17259200_17323600.pkl.gz...\n",
            "Copying gs://mlstudy-phys/data/results/result_17323600_17388000.pkl.gz...\n",
            "Copying gs://mlstudy-phys/data/results/result_17388000_17452400.pkl.gz...\n",
            "Copying gs://mlstudy-phys/data/results/result_1738800_1803200.pkl.gz...\n",
            "Copying gs://mlstudy-phys/data/results/result_17452400_17516800.pkl.gz...\n",
            "Copying gs://mlstudy-phys/data/results/result_1750_1800.pkl.gz...\n",
            "Copying gs://mlstudy-phys/data/results/result_17516800_17581200.pkl.gz...\n",
            "Copying gs://mlstudy-phys/data/results/result_17581200_17645600.pkl.gz...\n",
            "Copying gs://mlstudy-phys/data/results/result_17645600_17710000.pkl.gz...\n",
            "Copying gs://mlstudy-phys/data/results/result_17710000_17774400.pkl.gz...\n",
            "Copying gs://mlstudy-phys/data/results/result_17774400_17838800.pkl.gz...\n",
            "Copying gs://mlstudy-phys/data/results/result_17838800_17903200.pkl.gz...\n",
            "Copying gs://mlstudy-phys/data/results/result_17903200_17967600.pkl.gz...\n",
            "Copying gs://mlstudy-phys/data/results/result_17967600_18032000.pkl.gz...\n",
            "Copying gs://mlstudy-phys/data/results/result_1800_1850.pkl.gz...\n",
            "Copying gs://mlstudy-phys/data/results/result_18032000_18096400.pkl.gz...\n",
            "Copying gs://mlstudy-phys/data/results/result_1803200_1867600.pkl.gz...\n",
            "Copying gs://mlstudy-phys/data/results/result_18096400_18160800.pkl.gz...\n",
            "Copying gs://mlstudy-phys/data/results/result_18160800_18225200.pkl.gz...\n",
            "Copying gs://mlstudy-phys/data/results/result_18225200_18289600.pkl.gz...\n",
            "Copying gs://mlstudy-phys/data/results/result_18289600_18354000.pkl.gz...\n",
            "Copying gs://mlstudy-phys/data/results/result_18354000_18418400.pkl.gz...\n",
            "Copying gs://mlstudy-phys/data/results/result_18418400_18482800.pkl.gz...\n",
            "Copying gs://mlstudy-phys/data/results/result_18482800_18547200.pkl.gz...\n",
            "Copying gs://mlstudy-phys/data/results/result_1850_1900.pkl.gz...\n",
            "Copying gs://mlstudy-phys/data/results/result_18547200_18611600.pkl.gz...\n",
            "Copying gs://mlstudy-phys/data/results/result_18611600_18676000.pkl.gz...\n",
            "Copying gs://mlstudy-phys/data/results/result_18676000_18740400.pkl.gz...\n",
            "Copying gs://mlstudy-phys/data/results/result_1867600_1932000.pkl.gz...\n",
            "Copying gs://mlstudy-phys/data/results/result_18804800_18869200.pkl.gz...\n",
            "Copying gs://mlstudy-phys/data/results/result_18740400_18804800.pkl.gz...\n",
            "Copying gs://mlstudy-phys/data/results/result_18933600_18998000.pkl.gz...\n",
            "Copying gs://mlstudy-phys/data/results/result_18869200_18933600.pkl.gz...\n",
            "Copying gs://mlstudy-phys/data/results/result_18998000_19062400.pkl.gz...\n",
            "Copying gs://mlstudy-phys/data/results/result_1900_1950.pkl.gz...\n",
            "Copying gs://mlstudy-phys/data/results/result_19062400_19126800.pkl.gz...\n",
            "Copying gs://mlstudy-phys/data/results/result_19126800_19191200.pkl.gz...\n",
            "Copying gs://mlstudy-phys/data/results/result_19191200_19255600.pkl.gz...\n",
            "Copying gs://mlstudy-phys/data/results/result_19255600_19320000.pkl.gz...\n",
            "Copying gs://mlstudy-phys/data/results/result_1932000_1996400.pkl.gz...\n",
            "Copying gs://mlstudy-phys/data/results/result_193200_257600.pkl.gz...\n",
            "Copying gs://mlstudy-phys/data/results/result_1950_2000.pkl.gz...\n",
            "Copying gs://mlstudy-phys/data/results/result_1996400_2060800.pkl.gz...\n",
            "Copying gs://mlstudy-phys/data/results/result_2000_2050.pkl.gz...\n",
            "Copying gs://mlstudy-phys/data/results/result_200_250.pkl.gz...\n",
            "Copying gs://mlstudy-phys/data/results/result_2050_2100.pkl.gz...\n",
            "Copying gs://mlstudy-phys/data/results/result_2060800_2125200.pkl.gz...\n",
            "Copying gs://mlstudy-phys/data/results/result_2100_2150.pkl.gz...\n",
            "Copying gs://mlstudy-phys/data/results/result_2125200_2189600.pkl.gz...\n",
            "Copying gs://mlstudy-phys/data/results/result_2150_2200.pkl.gz...\n",
            "Copying gs://mlstudy-phys/data/results/result_2189600_2254000.pkl.gz...\n",
            "Copying gs://mlstudy-phys/data/results/result_2200_2250.pkl.gz...\n",
            "Copying gs://mlstudy-phys/data/results/result_2250_2300.pkl.gz...\n",
            "Copying gs://mlstudy-phys/data/results/result_2254000_2318400.pkl.gz...\n",
            "Copying gs://mlstudy-phys/data/results/result_2300_2350.pkl.gz...\n",
            "Copying gs://mlstudy-phys/data/results/result_2318400_2382800.pkl.gz...\n",
            "Copying gs://mlstudy-phys/data/results/result_2350_2400.pkl.gz...\n",
            "Copying gs://mlstudy-phys/data/results/result_2382800_2447200.pkl.gz...\n",
            "Copying gs://mlstudy-phys/data/results/result_2400_2450.pkl.gz...\n",
            "Copying gs://mlstudy-phys/data/results/result_2450_2500.pkl.gz...\n",
            "Copying gs://mlstudy-phys/data/results/result_2447200_2511600.pkl.gz...\n",
            "Copying gs://mlstudy-phys/data/results/result_2500_2550.pkl.gz...\n",
            "Copying gs://mlstudy-phys/data/results/result_250_300.pkl.gz...\n",
            "Copying gs://mlstudy-phys/data/results/result_2511600_2576000.pkl.gz...\n",
            "Copying gs://mlstudy-phys/data/results/result_2550_2600.pkl.gz...\n",
            "Copying gs://mlstudy-phys/data/results/result_2576000_2640400.pkl.gz...\n",
            "Copying gs://mlstudy-phys/data/results/result_257600_322000.pkl.gz...\n",
            "Copying gs://mlstudy-phys/data/results/result_2600_2650.pkl.gz...\n",
            "Copying gs://mlstudy-phys/data/results/result_2640400_2704800.pkl.gz...\n",
            "Copying gs://mlstudy-phys/data/results/result_2650_2700.pkl.gz...\n",
            "Copying gs://mlstudy-phys/data/results/result_2700_2750.pkl.gz...\n",
            "Copying gs://mlstudy-phys/data/results/result_2704800_2769200.pkl.gz...\n",
            "Copying gs://mlstudy-phys/data/results/result_2750_2800.pkl.gz...\n",
            "Copying gs://mlstudy-phys/data/results/result_2769200_2833600.pkl.gz...\n",
            "Copying gs://mlstudy-phys/data/results/result_2800_2850.pkl.gz...\n",
            "Copying gs://mlstudy-phys/data/results/result_2833600_2898000.pkl.gz...\n",
            "Copying gs://mlstudy-phys/data/results/result_2850_2900.pkl.gz...\n",
            "Copying gs://mlstudy-phys/data/results/result_2898000_2962400.pkl.gz...\n",
            "Copying gs://mlstudy-phys/data/results/result_2900_2950.pkl.gz...\n",
            "Copying gs://mlstudy-phys/data/results/result_2950_3000.pkl.gz...\n",
            "Copying gs://mlstudy-phys/data/results/result_2962400_3026800.pkl.gz...\n",
            "Copying gs://mlstudy-phys/data/results/result_300_350.pkl.gz...\n",
            "Copying gs://mlstudy-phys/data/results/result_3026800_3091200.pkl.gz...\n",
            "Copying gs://mlstudy-phys/data/results/result_3091200_3155600.pkl.gz...\n",
            "Copying gs://mlstudy-phys/data/results/result_3155600_3220000.pkl.gz...\n",
            "Copying gs://mlstudy-phys/data/results/result_3220000_3284400.pkl.gz...\n",
            "Copying gs://mlstudy-phys/data/results/result_322000_386400.pkl.gz...\n",
            "Copying gs://mlstudy-phys/data/results/result_3284400_3348800.pkl.gz...\n",
            "Copying gs://mlstudy-phys/data/results/result_3348800_3413200.pkl.gz...\n",
            "Copying gs://mlstudy-phys/data/results/result_3413200_3477600.pkl.gz...\n",
            "Copying gs://mlstudy-phys/data/results/result_3477600_3542000.pkl.gz...\n",
            "Copying gs://mlstudy-phys/data/results/result_350_400.pkl.gz...\n",
            "Copying gs://mlstudy-phys/data/results/result_3542000_3606400.pkl.gz...\n",
            "Copying gs://mlstudy-phys/data/results/result_3606400_3670800.pkl.gz...\n",
            "Copying gs://mlstudy-phys/data/results/result_3670800_3735200.pkl.gz...\n",
            "Copying gs://mlstudy-phys/data/results/result_3735200_3799600.pkl.gz...\n",
            "Copying gs://mlstudy-phys/data/results/result_3799600_3864000.pkl.gz...\n",
            "Copying gs://mlstudy-phys/data/results/result_3864000_3928400.pkl.gz...\n",
            "Copying gs://mlstudy-phys/data/results/result_386400_450800.pkl.gz...\n",
            "Copying gs://mlstudy-phys/data/results/result_3928400_3992800.pkl.gz...\n",
            "Copying gs://mlstudy-phys/data/results/result_3992800_4057200.pkl.gz...\n",
            "Copying gs://mlstudy-phys/data/results/result_400_450.pkl.gz...\n",
            "Copying gs://mlstudy-phys/data/results/result_4121600_4186000.pkl.gz...\n",
            "Copying gs://mlstudy-phys/data/results/result_4057200_4121600.pkl.gz...\n",
            "Copying gs://mlstudy-phys/data/results/result_4186000_4250400.pkl.gz...\n",
            "Copying gs://mlstudy-phys/data/results/result_4250400_4314800.pkl.gz...\n",
            "Copying gs://mlstudy-phys/data/results/result_4314800_4379200.pkl.gz...\n",
            "Copying gs://mlstudy-phys/data/results/result_4379200_4443600.pkl.gz...\n",
            "Copying gs://mlstudy-phys/data/results/result_4443600_4508000.pkl.gz...\n",
            "Copying gs://mlstudy-phys/data/results/result_4508000_4572400.pkl.gz...\n",
            "Copying gs://mlstudy-phys/data/results/result_450800_515200.pkl.gz...\n",
            "Copying gs://mlstudy-phys/data/results/result_4636800_4701200.pkl.gz...\n",
            "Copying gs://mlstudy-phys/data/results/result_4572400_4636800.pkl.gz...\n",
            "Copying gs://mlstudy-phys/data/results/result_450_500.pkl.gz...\n",
            "Copying gs://mlstudy-phys/data/results/result_4701200_4765600.pkl.gz...\n",
            "Copying gs://mlstudy-phys/data/results/result_4765600_4830000.pkl.gz...\n",
            "Copying gs://mlstudy-phys/data/results/result_4830000_4894400.pkl.gz...\n",
            "Copying gs://mlstudy-phys/data/results/result_4958800_5023200.pkl.gz...\n",
            "Copying gs://mlstudy-phys/data/results/result_4894400_4958800.pkl.gz...\n",
            "Copying gs://mlstudy-phys/data/results/result_500_550.pkl.gz...\n",
            "Copying gs://mlstudy-phys/data/results/result_5023200_5087600.pkl.gz...\n",
            "Copying gs://mlstudy-phys/data/results/result_5087600_5152000.pkl.gz...\n",
            "Copying gs://mlstudy-phys/data/results/result_50_100.pkl.gz...\n",
            "Copying gs://mlstudy-phys/data/results/result_5152000_5216400.pkl.gz...\n",
            "Copying gs://mlstudy-phys/data/results/result_515200_579600.pkl.gz...\n",
            "Copying gs://mlstudy-phys/data/results/result_5216400_5280800.pkl.gz...\n",
            "Copying gs://mlstudy-phys/data/results/result_5280800_5345200.pkl.gz...\n",
            "Copying gs://mlstudy-phys/data/results/result_5345200_5409600.pkl.gz...\n",
            "Copying gs://mlstudy-phys/data/results/result_5409600_5474000.pkl.gz...\n",
            "Copying gs://mlstudy-phys/data/results/result_5474000_5538400.pkl.gz...\n",
            "Copying gs://mlstudy-phys/data/results/result_550_600.pkl.gz...\n",
            "Copying gs://mlstudy-phys/data/results/result_5538400_5602800.pkl.gz...\n",
            "Copying gs://mlstudy-phys/data/results/result_5602800_5667200.pkl.gz...\n",
            "Copying gs://mlstudy-phys/data/results/result_5667200_5731600.pkl.gz...\n",
            "Copying gs://mlstudy-phys/data/results/result_5731600_5796000.pkl.gz...\n",
            "Copying gs://mlstudy-phys/data/results/result_5796000_5860400.pkl.gz...\n",
            "Copying gs://mlstudy-phys/data/results/result_579600_644000.pkl.gz...\n",
            "Copying gs://mlstudy-phys/data/results/result_5860400_5924800.pkl.gz...\n",
            "Copying gs://mlstudy-phys/data/results/result_5924800_5989200.pkl.gz...\n",
            "Copying gs://mlstudy-phys/data/results/result_5989200_6053600.pkl.gz...\n",
            "Copying gs://mlstudy-phys/data/results/result_600_650.pkl.gz...\n",
            "Copying gs://mlstudy-phys/data/results/result_6053600_6118000.pkl.gz...\n",
            "Copying gs://mlstudy-phys/data/results/result_6118000_6182400.pkl.gz...\n",
            "Copying gs://mlstudy-phys/data/results/result_6182400_6246800.pkl.gz...\n",
            "Copying gs://mlstudy-phys/data/results/result_6246800_6311200.pkl.gz...\n",
            "Copying gs://mlstudy-phys/data/results/result_6311200_6375600.pkl.gz...\n",
            "Copying gs://mlstudy-phys/data/results/result_6375600_6440000.pkl.gz...\n",
            "Copying gs://mlstudy-phys/data/results/result_6440000_6504400.pkl.gz...\n",
            "Copying gs://mlstudy-phys/data/results/result_644000_708400.pkl.gz...\n",
            "Copying gs://mlstudy-phys/data/results/result_64400_128800.pkl.gz...\n",
            "Copying gs://mlstudy-phys/data/results/result_6504400_6568800.pkl.gz...\n",
            "Copying gs://mlstudy-phys/data/results/result_650_700.pkl.gz...\n",
            "Copying gs://mlstudy-phys/data/results/result_6568800_6633200.pkl.gz...\n",
            "Copying gs://mlstudy-phys/data/results/result_6633200_6697600.pkl.gz...\n",
            "Copying gs://mlstudy-phys/data/results/result_6697600_6762000.pkl.gz...\n",
            "Copying gs://mlstudy-phys/data/results/result_6762000_6826400.pkl.gz...\n",
            "Copying gs://mlstudy-phys/data/results/result_6826400_6890800.pkl.gz...\n",
            "Copying gs://mlstudy-phys/data/results/result_6890800_6955200.pkl.gz...\n",
            "Copying gs://mlstudy-phys/data/results/result_6955200_7019600.pkl.gz...\n",
            "Copying gs://mlstudy-phys/data/results/result_700_750.pkl.gz...\n",
            "Copying gs://mlstudy-phys/data/results/result_7019600_7084000.pkl.gz...\n",
            "Copying gs://mlstudy-phys/data/results/result_7084000_7148400.pkl.gz...\n",
            "Copying gs://mlstudy-phys/data/results/result_708400_772800.pkl.gz...\n",
            "Copying gs://mlstudy-phys/data/results/result_7148400_7212800.pkl.gz...\n",
            "Copying gs://mlstudy-phys/data/results/result_7212800_7277200.pkl.gz...\n",
            "Copying gs://mlstudy-phys/data/results/result_7277200_7341600.pkl.gz...\n",
            "Copying gs://mlstudy-phys/data/results/result_7341600_7406000.pkl.gz...\n",
            "Copying gs://mlstudy-phys/data/results/result_7406000_7470400.pkl.gz...\n",
            "Copying gs://mlstudy-phys/data/results/result_7470400_7534800.pkl.gz...\n",
            "Copying gs://mlstudy-phys/data/results/result_750_800.pkl.gz...\n",
            "Copying gs://mlstudy-phys/data/results/result_7534800_7599200.pkl.gz...\n",
            "Copying gs://mlstudy-phys/data/results/result_7599200_7663600.pkl.gz...\n",
            "Copying gs://mlstudy-phys/data/results/result_7663600_7728000.pkl.gz...\n",
            "Copying gs://mlstudy-phys/data/results/result_7728000_7792400.pkl.gz...\n",
            "Copying gs://mlstudy-phys/data/results/result_772800_837200.pkl.gz...\n",
            "Copying gs://mlstudy-phys/data/results/result_7856800_7921200.pkl.gz...\n",
            "Copying gs://mlstudy-phys/data/results/result_7792400_7856800.pkl.gz...\n",
            "Copying gs://mlstudy-phys/data/results/result_7921200_7985600.pkl.gz...\n",
            "Copying gs://mlstudy-phys/data/results/result_7985600_8050000.pkl.gz...\n",
            "Copying gs://mlstudy-phys/data/results/result_800_850.pkl.gz...\n",
            "Copying gs://mlstudy-phys/data/results/result_8050000_8114400.pkl.gz...\n",
            "Copying gs://mlstudy-phys/data/results/result_8114400_8178800.pkl.gz...\n",
            "Copying gs://mlstudy-phys/data/results/result_8178800_8243200.pkl.gz...\n",
            "Copying gs://mlstudy-phys/data/results/result_8243200_8307600.pkl.gz...\n",
            "Copying gs://mlstudy-phys/data/results/result_8307600_8372000.pkl.gz...\n",
            "Copying gs://mlstudy-phys/data/results/result_8372000_8436400.pkl.gz...\n",
            "Copying gs://mlstudy-phys/data/results/result_837200_901600.pkl.gz...\n",
            "Copying gs://mlstudy-phys/data/results/result_8436400_8500800.pkl.gz...\n",
            "Copying gs://mlstudy-phys/data/results/result_8500800_8565200.pkl.gz...\n",
            "Copying gs://mlstudy-phys/data/results/result_850_900.pkl.gz...\n",
            "Copying gs://mlstudy-phys/data/results/result_8565200_8629600.pkl.gz...\n",
            "Copying gs://mlstudy-phys/data/results/result_8629600_8694000.pkl.gz...\n",
            "Copying gs://mlstudy-phys/data/results/result_8694000_8758400.pkl.gz...\n",
            "Copying gs://mlstudy-phys/data/results/result_8758400_8822800.pkl.gz...\n",
            "Copying gs://mlstudy-phys/data/results/result_8822800_8887200.pkl.gz...\n",
            "Copying gs://mlstudy-phys/data/results/result_8887200_8951600.pkl.gz...\n",
            "Copying gs://mlstudy-phys/data/results/result_8951600_9016000.pkl.gz...\n",
            "Copying gs://mlstudy-phys/data/results/result_900_950.pkl.gz...\n",
            "Copying gs://mlstudy-phys/data/results/result_9016000_9080400.pkl.gz...\n",
            "Copying gs://mlstudy-phys/data/results/result_901600_966000.pkl.gz...\n",
            "Copying gs://mlstudy-phys/data/results/result_9080400_9144800.pkl.gz...\n",
            "Copying gs://mlstudy-phys/data/results/result_9144800_9209200.pkl.gz...\n",
            "Copying gs://mlstudy-phys/data/results/result_9209200_9273600.pkl.gz...\n",
            "Copying gs://mlstudy-phys/data/results/result_9273600_9338000.pkl.gz...\n",
            "Copying gs://mlstudy-phys/data/results/result_9338000_9402400.pkl.gz...\n",
            "Copying gs://mlstudy-phys/data/results/result_9402400_9466800.pkl.gz...\n",
            "Copying gs://mlstudy-phys/data/results/result_9466800_9531200.pkl.gz...\n",
            "Copying gs://mlstudy-phys/data/results/result_950_1000.pkl.gz...\n",
            "Copying gs://mlstudy-phys/data/results/result_9531200_9595600.pkl.gz...\n",
            "Copying gs://mlstudy-phys/data/results/result_9595600_9660000.pkl.gz...\n",
            "Copying gs://mlstudy-phys/data/results/result_9660000_9724400.pkl.gz...\n",
            "Copying gs://mlstudy-phys/data/results/result_966000_1030400.pkl.gz...\n",
            "Copying gs://mlstudy-phys/data/results/result_9724400_9788800.pkl.gz...\n",
            "Copying gs://mlstudy-phys/data/results/result_9788800_9853200.pkl.gz...\n",
            "Copying gs://mlstudy-phys/data/results/result_9853200_9917600.pkl.gz...\n",
            "Copying gs://mlstudy-phys/data/results/result_9917600_9982000.pkl.gz...\n",
            "Copying gs://mlstudy-phys/data/results/result_9982000_10046400.pkl.gz...\n",
            "Copying gs://mlstudy-phys/data/results/result_BERT_feature_with_GBM.pkl.gz...\n",
            "Copying gs://mlstudy-phys/data/results/result_BERT_raw_feature_with_GBM.pkl.gz...\n",
            "/ [362/362 files][792.0 MiB/792.0 MiB] 100% Done  62.6 MiB/s ETA 00:00:00       \n",
            "Operation completed over 362 objects/792.0 MiB.                                  \n"
          ],
          "name": "stdout"
        }
      ]
    },
    {
      "cell_type": "code",
      "metadata": {
        "id": "5O4yKt5UUgiu",
        "colab_type": "code",
        "colab": {}
      },
      "source": [
        ""
      ],
      "execution_count": 0,
      "outputs": []
    },
    {
      "cell_type": "code",
      "metadata": {
        "id": "an2a1vhOT5GF",
        "colab_type": "code",
        "outputId": "b6444e50-be73-48fc-b481-95a8c5f0a0b3",
        "colab": {
          "base_uri": "https://localhost:8080/",
          "height": 34
        }
      },
      "source": [
        "BLOCK_SIZE_GBM = 50\n",
        "TOTAL_BLOCK_NUM_GBM = WHOLE_APP_NUM//BLOCK_SIZE_GBM\n",
        "\n",
        "BLOCK_SIZE_GBM, TOTAL_BLOCK_NUM_GBM"
      ],
      "execution_count": 0,
      "outputs": [
        {
          "output_type": "execute_result",
          "data": {
            "text/plain": [
              "(50, 60)"
            ]
          },
          "metadata": {
            "tags": []
          },
          "execution_count": 11
        }
      ]
    },
    {
      "cell_type": "code",
      "metadata": {
        "id": "qziNU4p2UAPc",
        "colab_type": "code",
        "outputId": "7877457e-f59c-4516-c2cd-2331350a01b1",
        "colab": {
          "base_uri": "https://localhost:8080/",
          "height": 52
        }
      },
      "source": [
        "%%time\n",
        "\n",
        "start_block_num = 0\n",
        "end_block_num = TOTAL_BLOCK_NUM_GBM\n",
        "\n",
        "ranking = []\n",
        "\n",
        "for num in range(start_block_num, end_block_num):\n",
        "  start = num * BLOCK_SIZE_GBM\n",
        "  end = start + BLOCK_SIZE_GBM\n",
        "  \n",
        "  list = []\n",
        "  \n",
        "  filename = \"result_{}_{}.pkl.gz\".format(start, end)\n",
        "\n",
        "  with gzip.open(\"./data/{}\".format(filename), 'rb') as f:\n",
        "    list = pickle.load(f)\n",
        "    \n",
        "  for app_idx in range(BLOCK_SIZE_GBM):\n",
        "    app_id = test_app[\"app_id\"][start + app_idx]\n",
        "    label = pd.Series(test_label(app_id, grants, cite_relation))\n",
        "    \n",
        "    i, = np.where(label == 1)\n",
        "    cited_index = i[0]\n",
        "    rank = sorted(list[app_idx], reverse=True).index(list[app_idx][cited_index])\n",
        "    ranking.append(rank)"
      ],
      "execution_count": 0,
      "outputs": [
        {
          "output_type": "stream",
          "text": [
            "CPU times: user 47.4 s, sys: 352 ms, total: 47.7 s\n",
            "Wall time: 48 s\n"
          ],
          "name": "stdout"
        }
      ]
    },
    {
      "cell_type": "code",
      "metadata": {
        "id": "-p0WMY2mUPDX",
        "colab_type": "code",
        "colab": {}
      },
      "source": [
        "ranking_arr = np.array(ranking)\n",
        "\n",
        "positive_counts_GBM = [sum(ranking_arr <= thrd) for thrd in range(len(grants))]"
      ],
      "execution_count": 0,
      "outputs": []
    },
    {
      "cell_type": "code",
      "metadata": {
        "id": "m7BXq6wdU0vu",
        "colab_type": "code",
        "colab": {}
      },
      "source": [
        ""
      ],
      "execution_count": 0,
      "outputs": []
    },
    {
      "cell_type": "code",
      "metadata": {
        "id": "tH-1rSBEXBrF",
        "colab_type": "code",
        "outputId": "4d225b66-3995-465a-85f0-4a29fd3dfae6",
        "colab": {
          "base_uri": "https://localhost:8080/",
          "height": 52
        }
      },
      "source": [
        "%%time\n",
        "\n",
        "start_block_num = 0\n",
        "end_block_num = TOTAL_BLOCK_NUM\n",
        "\n",
        "ranking_BERT = []\n",
        "\n",
        "for num in range(start_block_num, end_block_num):\n",
        "  start = num * APPS_PER_BLOCK\n",
        "  end = start + APPS_PER_BLOCK\n",
        "\n",
        "  start_fname = num * BLOCK_SIZE\n",
        "  end_fname = start_fname + BLOCK_SIZE\n",
        "\n",
        "  list = []\n",
        "  temp_list = []\n",
        "  \n",
        "  filename = \"result_{}_{}.pkl.gz\".format(start_fname, end_fname)\n",
        "\n",
        "  with gzip.open(\"./data/{}\".format(filename), 'rb') as f:\n",
        "    temp_list = pickle.load(f)\n",
        "    temp = [tup[1] for tup in temp_list]\n",
        "  \n",
        "  for i in range(APPS_PER_BLOCK):\n",
        "    list.append(temp[i*WHOLE_GRANTS_NUM:(i+1)*WHOLE_GRANTS_NUM])\n",
        "        \n",
        "  for app_idx in range(APPS_PER_BLOCK):\n",
        "    app_id = test_app[\"app_id\"][start + app_idx]\n",
        "    label = pd.Series(test_label(app_id, grants, cite_relation))\n",
        "    \n",
        "    i, = np.where(label == 1)\n",
        "    cited_index = i[0]\n",
        "    rank = sorted(list[app_idx], reverse=True).index(list[app_idx][cited_index])\n",
        "    ranking_BERT.append((rank,list[app_idx][cited_index]))"
      ],
      "execution_count": 0,
      "outputs": [
        {
          "output_type": "stream",
          "text": [
            "CPU times: user 1min 22s, sys: 804 ms, total: 1min 22s\n",
            "Wall time: 1min 22s\n"
          ],
          "name": "stdout"
        }
      ]
    },
    {
      "cell_type": "code",
      "metadata": {
        "id": "Iq2gE8CvAatt",
        "colab_type": "code",
        "outputId": "2b4c0570-3b13-4c34-f422-6891cc61cdfe",
        "colab": {
          "base_uri": "https://localhost:8080/",
          "height": 191
        }
      },
      "source": [
        "ranking_BERT[0:10]"
      ],
      "execution_count": 0,
      "outputs": [
        {
          "output_type": "execute_result",
          "data": {
            "text/plain": [
              "[(1, 0.99998105),\n",
              " (2, 0.99998593),\n",
              " (3, 0.9999862),\n",
              " (22, 0.9999852),\n",
              " (0, 0.9999869),\n",
              " (3466, 2.3176655e-05),\n",
              " (4, 0.9999869),\n",
              " (0, 0.999987),\n",
              " (121, 0.9999796),\n",
              " (39, 0.9999856)]"
            ]
          },
          "metadata": {
            "tags": []
          },
          "execution_count": 15
        }
      ]
    },
    {
      "cell_type": "code",
      "metadata": {
        "id": "-4I_RoPyX07s",
        "colab_type": "code",
        "colab": {}
      },
      "source": [
        "ranking_list = [tup[0] for tup in ranking_BERT]\n",
        "\n",
        "ranking_arr = np.array(ranking_list)\n",
        "\n",
        "positive_counts_BERT = [sum(ranking_arr <= thrd) for thrd in range(len(grants))]"
      ],
      "execution_count": 0,
      "outputs": []
    },
    {
      "cell_type": "code",
      "metadata": {
        "id": "rDK7BWOcC0Je",
        "colab_type": "code",
        "colab": {}
      },
      "source": [
        ""
      ],
      "execution_count": 0,
      "outputs": []
    },
    {
      "cell_type": "code",
      "metadata": {
        "id": "OSjvt2o1vhtM",
        "colab_type": "code",
        "outputId": "0aec4d34-473b-4e94-fd71-e267d9cfc0a1",
        "colab": {
          "base_uri": "https://localhost:8080/",
          "height": 69
        }
      },
      "source": [
        "!gsutil cp gs://mlstudy-phys/data/results/w2v_similarities.pkl.gz ./data/"
      ],
      "execution_count": 0,
      "outputs": [
        {
          "output_type": "stream",
          "text": [
            "Copying gs://mlstudy-phys/data/results/w2v_similarities.pkl.gz...\n",
            "/ [1 files][200.8 MiB/200.8 MiB]                                                \n",
            "Operation completed over 1 objects/200.8 MiB.                                    \n"
          ],
          "name": "stdout"
        }
      ]
    },
    {
      "cell_type": "code",
      "metadata": {
        "id": "xJ5TI3UKv1iC",
        "colab_type": "code",
        "colab": {}
      },
      "source": [
        " with gzip.open(\"./data/w2v_similarities.pkl.gz\", 'rb') as f:\n",
        "    similarities = pickle.load(f)"
      ],
      "execution_count": 0,
      "outputs": []
    },
    {
      "cell_type": "code",
      "metadata": {
        "id": "8IN3Cz8Cv-Ey",
        "colab_type": "code",
        "outputId": "ee383b26-5aa7-4fff-b135-a45635e35964",
        "colab": {
          "base_uri": "https://localhost:8080/",
          "height": 52
        }
      },
      "source": [
        "%%time\n",
        "\n",
        "ranking_w2v = []\n",
        "\n",
        "for num in range(len(similarities)):\n",
        "\n",
        "  app_id = test_app[\"app_id\"][num]\n",
        "  label = pd.Series(test_label(app_id, grants, cite_relation))\n",
        "    \n",
        "  i, = np.where(label == 1)\n",
        "  cited_index = i[0]\n",
        "  rank = sorted(similarities[num], reverse=True).index(similarities[num][cited_index])\n",
        "  ranking_w2v.append((rank, similarities[num][cited_index]))"
      ],
      "execution_count": 0,
      "outputs": [
        {
          "output_type": "stream",
          "text": [
            "CPU times: user 43.3 s, sys: 18.2 ms, total: 43.3 s\n",
            "Wall time: 43.3 s\n"
          ],
          "name": "stdout"
        }
      ]
    },
    {
      "cell_type": "code",
      "metadata": {
        "id": "w_0mDlO6viEC",
        "colab_type": "code",
        "colab": {}
      },
      "source": [
        "ranking_list_w2v = [tup[0] for tup in ranking_w2v]\n",
        "\n",
        "ranking_arr_w2v = np.array(ranking_list_w2v)\n",
        "\n",
        "positive_counts_w2v = [sum(ranking_arr_w2v <= thrd) for thrd in range(len(grants))]"
      ],
      "execution_count": 0,
      "outputs": []
    },
    {
      "cell_type": "code",
      "metadata": {
        "id": "vYJIJsHGxE6X",
        "colab_type": "code",
        "colab": {}
      },
      "source": [
        ""
      ],
      "execution_count": 0,
      "outputs": []
    },
    {
      "cell_type": "code",
      "metadata": {
        "id": "FB5YyFQW-EFm",
        "colab_type": "code",
        "outputId": "2c7a0743-e819-4ba7-fa74-05d334bb480f",
        "colab": {
          "base_uri": "https://localhost:8080/",
          "height": 281
        }
      },
      "source": [
        "plt.hist(ranking_list, alpha=0.5, bins=100, label=\"BERT\")\n",
        "plt.hist(ranking_list_w2v, alpha=0.5, bins=100, label=\"Word2Vec\")\n",
        "plt.hist(ranking, alpha=0.5, bins=100, label=\"light_GBM\")\n",
        "plt.title(\"Cited grants rank\")\n",
        "plt.legend()\n",
        "plt.show()"
      ],
      "execution_count": 0,
      "outputs": [
        {
          "output_type": "display_data",
          "data": {
            "image/png": "[encoded data removed]",
            "text/plain": [
              "<Figure size 432x288 with 1 Axes>"
            ]
          },
          "metadata": {
            "tags": []
          }
        }
      ]
    },
    {
      "cell_type": "code",
      "metadata": {
        "id": "b-QWLA_l-L-_",
        "colab_type": "code",
        "outputId": "903d998a-4d13-436c-92ba-6d8a992bd9aa",
        "colab": {
          "base_uri": "https://localhost:8080/",
          "height": 281
        }
      },
      "source": [
        "plt.plot(range(WHOLE_GRANTS_NUM), positive_counts_BERT, label=\"BERT\")\n",
        "plt.plot(range(WHOLE_GRANTS_NUM), positive_counts_w2v, label=\"Word2Vec\")\n",
        "plt.plot(range(WHOLE_GRANTS_NUM), positive_counts_GBM, label=\"light_GBM\")\n",
        "plt.title(\"rank vs covered num\")\n",
        "plt.legend()\n",
        "plt.show()"
      ],
      "execution_count": 0,
      "outputs": [
        {
          "output_type": "display_data",
          "data": {
            "image/png": "[encoded data removed]",
            "text/plain": [
              "<Figure size 432x288 with 1 Axes>"
            ]
          },
          "metadata": {
            "tags": []
          }
        }
      ]
    },
    {
      "cell_type": "code",
      "metadata": {
        "id": "82m9NG6x-SFw",
        "colab_type": "code",
        "outputId": "d9316ba7-48b0-4868-de39-6695324e8bd3",
        "colab": {
          "base_uri": "https://localhost:8080/",
          "height": 281
        }
      },
      "source": [
        "plt.plot(range(200), (np.array(positive_counts_BERT)/len(ranking_BERT))[0:200], label=\"BERT\")\n",
        "plt.plot(range(200), (np.array(positive_counts_w2v)/len(ranking_list_w2v))[0:200], label=\"Word2Vec\")\n",
        "plt.plot(range(200),(np.array(positive_counts_GBM)/len(ranking))[0:200], label=\"light_GBM\")\n",
        "plt.title(\"rank vs covered rate, till 200\")\n",
        "plt.legend()\n",
        "plt.show()"
      ],
      "execution_count": 0,
      "outputs": [
        {
          "output_type": "display_data",
          "data": {
            "image/png": "[encoded data removed]",
            "text/plain": [
              "<Figure size 432x288 with 1 Axes>"
            ]
          },
          "metadata": {
            "tags": []
          }
        }
      ]
    },
    {
      "cell_type": "code",
      "metadata": {
        "id": "FQsg3DAw-cFA",
        "colab_type": "code",
        "outputId": "dd81df9c-7172-4dea-f2fe-588f750a6e76",
        "colab": {
          "base_uri": "https://localhost:8080/",
          "height": 281
        }
      },
      "source": [
        "plt.plot(range(100), (np.array(positive_counts_BERT)/len(ranking_BERT))[0:100], label=\"BERT\")\n",
        "plt.plot(range(100), (np.array(positive_counts_w2v)/len(ranking_list_w2v))[0:100], label=\"Word2Vec\")\n",
        "plt.plot(range(100),(np.array(positive_counts_GBM)/len(ranking))[0:100], label=\"light_GBM\")\n",
        "plt.title(\"rank vs covered rate, till 100\")\n",
        "plt.legend()\n",
        "plt.show()"
      ],
      "execution_count": 0,
      "outputs": [
        {
          "output_type": "display_data",
          "data": {
            "image/png": "[encoded data removed]",
            "text/plain": [
              "<Figure size 432x288 with 1 Axes>"
            ]
          },
          "metadata": {
            "tags": []
          }
        }
      ]
    },
    {
      "cell_type": "code",
      "metadata": {
        "id": "zRFZcAHA-0IY",
        "colab_type": "code",
        "outputId": "10f63dcc-96bd-4b04-e041-06a376f778a6",
        "colab": {
          "base_uri": "https://localhost:8080/",
          "height": 86
        }
      },
      "source": [
        "print(\"BERT pair prediction top 10   : {:.3f}\".format( (np.array(positive_counts_BERT)/len(ranking_BERT))[10]))\n",
        "print(\"BERT pair prediction top 100  : {:.3f}\".format( (np.array(positive_counts_BERT)/len(ranking_BERT))[100]))\n",
        "print(\"BERT pair prediction top 200  : {:.3f}\\n\".format( (np.array(positive_counts_BERT)/len(ranking_BERT))[200]))"
      ],
      "execution_count": 0,
      "outputs": [
        {
          "output_type": "stream",
          "text": [
            "BERT pair prediction top 10   : 0.397\n",
            "BERT pair prediction top 100  : 0.814\n",
            "BERT pair prediction top 200  : 0.905\n",
            "\n"
          ],
          "name": "stdout"
        }
      ]
    },
    {
      "cell_type": "code",
      "metadata": {
        "id": "2w6dK-NA_wFv",
        "colab_type": "code",
        "outputId": "bbd3265e-408f-464a-9027-91dde36a3f50",
        "colab": {
          "base_uri": "https://localhost:8080/",
          "height": 34
        }
      },
      "source": [
        " (np.array(positive_counts_w2v)/len(ranking_list_w2v))[100],  (np.array(positive_counts_w2v)/len(ranking_list_w2v))[200]"
      ],
      "execution_count": 0,
      "outputs": [
        {
          "output_type": "execute_result",
          "data": {
            "text/plain": [
              "(0.5983333333333334, 0.7023333333333334)"
            ]
          },
          "metadata": {
            "tags": []
          },
          "execution_count": 26
        }
      ]
    },
    {
      "cell_type": "code",
      "metadata": {
        "id": "ToIAujfjFvf3",
        "colab_type": "code",
        "colab": {}
      },
      "source": [
        ""
      ],
      "execution_count": 0,
      "outputs": []
    },
    {
      "cell_type": "code",
      "metadata": {
        "id": "SB49QTWuyXJV",
        "colab_type": "code",
        "colab": {}
      },
      "source": [
        ""
      ],
      "execution_count": 0,
      "outputs": []
    }
  ]
}