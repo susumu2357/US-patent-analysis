{
  "nbformat": 4,
  "nbformat_minor": 0,
  "metadata": {
    "colab": {
      "name": "Dataset_with_background_of_the_invention.ipynb",
      "version": "0.3.2",
      "provenance": [],
      "include_colab_link": true
    },
    "kernelspec": {
      "name": "python3",
      "display_name": "Python 3"
    }
  },
  "cells": [
    {
      "cell_type": "markdown",
      "metadata": {
        "id": "view-in-github",
        "colab_type": "text"
      },
      "source": [
        "<a href=\"https://colab.research.google.com/github/susumu2357/US-patent-analysis/blob/master/colab/Dataset_with_background_of_the_invention.ipynb\" target=\"_parent\"><img src=\"https://colab.research.google.com/assets/colab-badge.svg\" alt=\"Open In Colab\"/></a>"
      ]
    },
    {
      "cell_type": "code",
      "metadata": {
        "id": "STRIVGryGI-1",
        "colab_type": "code",
        "colab": {}
      },
      "source": [
        "from google.colab import auth\n",
        "auth.authenticate_user()"
      ],
      "execution_count": 0,
      "outputs": []
    },
    {
      "cell_type": "code",
      "metadata": {
        "id": "3ob2XnkQGVFG",
        "colab_type": "code",
        "outputId": "c5d060c5-080e-477e-82d1-76804d353416",
        "colab": {
          "base_uri": "https://localhost:8080/",
          "height": 226
        }
      },
      "source": [
        "!gsutil cp gs://mlstudy-phys/data/citations_info_3000+3000.df.gz ./citations_info_3000+3000.df.gz\n",
        "!gsutil cp gs://mlstudy-phys/data/grants_for_3000+3000.df.gz ./grants_for_3000+3000.df.gz\n",
        "!gsutil cp gs://mlstudy-phys/data/testset_app_3000.df.gz ./testset_app_3000.df.gz\n",
        "!gsutil cp gs://mlstudy-phys/data/training_app_3000.df.gz ./training_app_3000.df.gz  "
      ],
      "execution_count": 0,
      "outputs": [
        {
          "output_type": "stream",
          "text": [
            "Copying gs://mlstudy-phys/data/citations_info_3000+3000.df.gz...\n",
            "/ [0 files][    0.0 B/506.5 KiB]                                                \r/ [1 files][506.5 KiB/506.5 KiB]                                                \r\n",
            "Operation completed over 1 objects/506.5 KiB.                                    \n",
            "Copying gs://mlstudy-phys/data/grants_for_3000+3000.df.gz...\n",
            "\\ [1 files][129.4 MiB/129.4 MiB]                                                \n",
            "Operation completed over 1 objects/129.4 MiB.                                    \n",
            "Copying gs://mlstudy-phys/data/testset_app_3000.df.gz...\n",
            "- [1 files][ 45.5 MiB/ 45.5 MiB]                                                \n",
            "Operation completed over 1 objects/45.5 MiB.                                     \n",
            "Copying gs://mlstudy-phys/data/training_app_3000.df.gz...\n",
            "- [1 files][ 45.0 MiB/ 45.0 MiB]                                                \n",
            "Operation completed over 1 objects/45.0 MiB.                                     \n"
          ],
          "name": "stdout"
        }
      ]
    },
    {
      "cell_type": "code",
      "metadata": {
        "id": "4QcoSeGNG3WD",
        "colab_type": "code",
        "colab": {}
      },
      "source": [
        "import pandas as pd\n",
        "\n",
        "citations_info = pd.read_pickle(\"./citations_info_3000+3000.df.gz\")\n",
        "grants = pd.read_pickle(\"./grants_for_3000+3000.df.gz\")\n",
        "testset_app_3000 = pd.read_pickle(\"./testset_app_3000.df.gz\")\n",
        "training_app_3000 = pd.read_pickle(\"./training_app_3000.df.gz\")"
      ],
      "execution_count": 0,
      "outputs": []
    },
    {
      "cell_type": "code",
      "metadata": {
        "id": "danvKn24G59O",
        "colab_type": "code",
        "outputId": "a5330627-87b0-48f1-e84e-07218c2670d7",
        "colab": {
          "base_uri": "https://localhost:8080/",
          "height": 54
        }
      },
      "source": [
        "training_app_3000[\"xml\"][0]"
      ],
      "execution_count": 0,
      "outputs": [
        {
          "output_type": "execute_result",
          "data": {
            "text/plain": [
              "'<us-patent-application lang=\"EN\" dtd-version=\"v4.2 2006-08-23\" file=\"US20090299431A1-20091203.XML\" status=\"PRODUCTION\" id=\"us-patent-application\" country=\"US\" date-produced=\"20091118\" date-publ=\"20091203\">\\n<us-bibliographic-data-application lang=\"EN\" country=\"US\">\\n<publication-reference>\\n<document-id>\\n<country>US</country>\\n<doc-number>20090299431</doc-number>\\n<kind>A1</kind>\\n<date>20091203</date>\\n</document-id>\\n</publication-reference>\\n<application-reference appl-type=\"utility\">\\n<document-id>\\n<country>US</country>\\n<doc-number>12130785</doc-number>\\n<date>20080530</date>\\n</document-id>\\n</application-reference>\\n<us-application-series-code>12</us-application-series-code>\\n<classifications-ipcr>\\n<classification-ipcr>\\n<ipc-version-indicator><date>20060101</date></ipc-version-indicator>\\n<classification-level>A</classification-level>\\n<section>A</section>\\n<class>61</class>\\n<subclass>M</subclass>\\n<main-group>1</main-group>\\n<subgroup>08</subgroup>\\n<symbol-position>F</symbol-position>\\n<classification-value>I</classification-value>\\n<action-date><date>20091203</date></action-date>\\n<generating-office><country>US</country></generating-office>\\n<classification-status>B</classification-status>\\n<classification-data-source>H</classification-data-source>\\n</classification-ipcr>\\n</classifications-ipcr>\\n<classification-national>\\n<country>US</country>\\n<main-classification>607 28</main-classification>\\n</classification-national>\\n<invention-title id=\"d0e43\">High Voltage Confirmation System Utilizing Impedance Data</invention-title>\\n<parties>\\n<applicants>\\n<applicant sequence=\"00\" app-type=\"applicant-inventor\" designation=\"us-only\">\\n<addressbook>\\n<last-name>Schecter</last-name>\\n<first-name>Stuart O.</first-name>\\n<address>\\n<city>Great Neck</city>\\n<state>NY</state>\\n<country>US</country>\\n</address>\\n</addressbook>\\n<nationality>\\n<country>omitted</country>\\n</nationality>\\n<residence>\\n<country>US</country>\\n</residence>\\n</applicant>\\n</applicants>\\n<correspondence-address>\\n<addressbook>\\n<name>PACESETTER, INC.</name>\\n<address>\\n<address-1>15900 VALLEY VIEW COURT</address-1>\\n<city>SYLMAR</city>\\n<state>CA</state>\\n<postcode>91392-9221</postcode>\\n<country>US</country>\\n</address>\\n</addressbook>\\n</correspondence-address>\\n</parties>\\n<assignees>\\n<assignee>\\n<addressbook>\\n<orgname>PACESETTER, INC.</orgname>\\n<role>02</role>\\n<address>\\n<city>Sylmar</city>\\n<state>CA</state>\\n<country>US</country>\\n</address>\\n</addressbook>\\n</assignee>\\n</assignees>\\n</us-bibliographic-data-application>\\n<abstract id=\"abstract\">\\n<p id=\"p-0001\" num=\"0000\">Systems and methods for providing high voltage confirmation are disclosed. In various embodiments, impedance data can be used as a basis for determining the operation of a high voltage confirmation system. In some embodiments, measurements of impedance associated with the high voltage lead(s) can provide indication as to the condition of the lead(s). In some embodiments, faulty leads can yield impedance values that exceed a known threshold value. In some embodiments, such threshold value can be determined from a laboratory study of the leads under conditions that are similar to the operating conditions of implantable cardiac devices.</p>\\n</abstract>\\n<drawings id=\"DRAWINGS\">\\n<figure id=\"Fig-EMI-D00000\" num=\"00000\">\\n<img id=\"EMI-D00000\" he=\"215.05mm\" wi=\"139.53mm\" file=\"US20090299431A1-20091203-D00000.TIF\"  img-content=\"drawing\" img-format=\"tif\"/>\\n</figure>\\n<figure id=\"Fig-EMI-D00001\" num=\"00001\">\\n<img id=\"EMI-D00001\" he=\"217.34mm\" wi=\"144.61mm\" file=\"US20090299431A1-20091203-D00001.TIF\"  img-content=\"drawing\" img-format=\"tif\"/>\\n</figure>\\n<figure id=\"Fig-EMI-D00002\" num=\"00002\">\\n<img id=\"EMI-D00002\" he=\"212.68mm\" wi=\"170.18mm\" orientation=\"landscape\" file=\"US20090299431A1-20091203-D00002.TIF\"  img-content=\"drawing\" img-format=\"tif\"/>\\n</figure>\\n<figure id=\"Fig-EMI-D00003\" num=\"00003\">\\n<img id=\"EMI-D00003\" he=\"197.02mm\" wi=\"168.40mm\" file=\"US20090299431A1-20091203-D00003.TIF\"  img-content=\"drawing\" img-format=\"tif\"/>\\n</figure>\\n<figure id=\"Fig-EMI-D00004\" num=\"00004\">\\n<img id=\"EMI-D00004\" he=\"206.84mm\" wi=\"167.30mm\" file=\"US20090299431A1-20091203-D00004.TIF\"  img-content=\"drawing\" img-format=\"tif\"/>\\n</figure>\\n<figure id=\"Fig-EMI-D00005\" num=\"00005\">\\n<img id=\"EMI-D00005\" he=\"212.01mm\" wi=\"172.21mm\" file=\"US20090299431A1-20091203-D00005.TIF\"  img-content=\"drawing\" img-format=\"tif\"/>\\n</figure>\\n<figure id=\"Fig-EMI-D00006\" num=\"00006\">\\n<img id=\"EMI-D00006\" he=\"210.90mm\" wi=\"168.15mm\" file=\"US20090299431A1-20091203-D00006.TIF\"  img-content=\"drawing\" img-format=\"tif\"/>\\n</figure>\\n<figure id=\"Fig-EMI-D00007\" num=\"00007\">\\n<img id=\"EMI-D00007\" he=\"194.06mm\" wi=\"151.30mm\" file=\"US20090299431A1-20091203-D00007.TIF\"  img-content=\"drawing\" img-format=\"tif\"/>\\n</figure>\\n</drawings>\\n<description id=\"description\">\\n<?summary-of-invention description=\"Summary of Invention\" end=\"lead\"?>\\n<heading id=\"h-0001\" level=\"1\">FIELD OF THE INVENTION</heading>\\n<p id=\"p-0002\" num=\"0001\">The present disclosure generally relates to implantable cardiac stimulation devices, and more particularly, to systems and methods for utilizing impedance data for operation of an implantable cardiac device configured to provide high voltage stimulation therapy.</p>\\n<heading id=\"h-0002\" level=\"1\">BACKGROUND OF THE INVENTION</heading>\\n<p id=\"p-0003\" num=\"0002\">Over the past several decades, large numbers of people have received implanted cardiac stimulation devices such as pacemakers and intra-cardiac defibrillators (ICDs). These devices include leads that are implanted so as to be positioned proximate the walls of the heart, e.g., implanted into the chambers of the heart. These leads typically serve two functions, to deliver therapeutic stimulation to the heart of the patient, and to sense cardiac activity and provide signals indicative thereof to a control unit so that the control unit can determine whether to deliver stimulation to the patient\\'s heart. One problem that can occur over time is that the leads can become partially or fully fractured. In general, the leads are implanted into a very harsh environment where they are subject to repetitive mechanical stress and strain. Over a long time period, the lead can become fractured.</p>\\n<p id=\"p-0004\" num=\"0003\">Fully fractured leads are generally incapable of delivering therapeutic stimulation to the heart of the patient. Partially fractured leads also provide problems in that they also may not be efficient at delivering therapeutic stimulation. Further, fractured leads can create noise on the lead. The noise signals may be interpreted by the control unit as indicative of heart activity. In worse case scenarios, the noise signals may be interpreted as a cardiac event that would by indicative of the need for stimulation to be applied to the heart. Consequently, lead fractures can result in the patient receiving heart stimulation when stimulation is not needed.</p>\\n<p id=\"p-0005\" num=\"0004\">Unnecessary stimulation can potentially be very harmful to the patient. At a minimum, unnecessary stimulation can result in significant discomfort to the patient. Cardioversion or defibrillation waveforms, when delivered to a conscious patient, can be extremely painful. If the patient is periodically receiving unnecessary stimulations of this sort, the patient\\'s quality of life can be significantly affected. There have been instances where patients have suffered psychological harm as a result of receiving such stimulations.</p>\\n<p id=\"p-0006\" num=\"0005\">Certain parameters can be evaluated to assess the performance of a lead and to determine whether the lead has a partial or full fracture. One parameter is to measure the impedance of the lead. One difficulty with measuring impedance is that if the measurement is made at a time when high voltage stimulation is not being provided, e.g., the impedance measurement is made using a low voltage signal, the fracture may not be adequately detected. Often a partial fracture is difficult to detect at very low voltages so the source of noise which may result in inadvertent stimulation of the heart may go undetected.</p>\\n<p id=\"p-0007\" num=\"0006\">Based upon the foregoing, there is a need for an improved way of sensing abnormalities with the leads of an implanted device that may result in spurious signals being received by the control unit thereby inducing the delivery of undesired therapeutic stimulations. To this end, there is a need for an analytic framework whereby impedance sensing on the lead may be performed in a manner that will more accurately determine whether there is a fracture or other physical problem with the lead that could be inducing noise.</p>\\n<heading id=\"h-0003\" level=\"1\">SUMMARY</heading>\\n<p id=\"p-0008\" num=\"0007\">A wide variety of systems, devices, methods, and processes comprising embodiments of the invention are described herein. In various embodiments, impedance data can be used as a basis for determining the operation of a high voltage confirmation system. In some embodiments, measurements of impedance associated with the high voltage lead can provide indication as to the condition of the lead. In some embodiments, faulty lead can yield impedance values that exceed a known threshold value. In some embodiments, such threshold value can be determined from a laboratory study of the lead under conditions that are similar to the operating conditions of implantable cardiac devices.</p>\\n<p id=\"p-0009\" num=\"0008\">One embodiment of the invention is a system for differentiating noise from an arrhythmia of a heart, comprising a noise discriminator configured to receive an electrocardiogram (EGM) signal and to discriminate between an organized EGM signal and a chaotic EGM signal based at least in part on an impedance parameter associated with a lead that provides an electrical connection to the heart and a signal analyzer configured to determine whether a chaotic signal is caused by a disturbance in the lead.</p>\\n<p id=\"p-0010\" num=\"0009\">Another embodiment is an implantable cardiac device, comprising a high voltage device configured to deliver a therapy signal to a heart when triggered, an electrical lead for connecting the high voltage device to the heart, an impedance measurement component configured to measure an electrical impedance associated with the electrical lead and a processor configured to provide a command for operation of the high voltage device based at least in part on a parameter associated with the measured electrical impedance.</p>\\n<p id=\"p-0011\" num=\"0010\">Another embodiment is a method for operating an implantable cardiac device, comprising measuring an impedance value associated with at least one of a plurality of electrical leads for a high voltage device configured to provide a therapy signal, wherein the plurality of electrical leads are configured to be connected to a heart and deliver the therapy signal to the heart and generating a command for operation of the high voltage device based at least in part on the measured impedance value.</p>\\n<p id=\"p-0012\" num=\"0011\">Another embodiment is a method for differentiating noise from an arrhythmia of a heart, comprising receiving an electrocardiogram (EGM) signal, measuring an impedance parameter associated with a lead that provides an electrical connection to the heart and determining whether the EGM signal is an organized signal or a chaotic signal based at least in part on the measured impedance parameter.</p>\\n<?summary-of-invention description=\"Summary of Invention\" end=\"tail\"?>\\n<?brief-description-of-drawings description=\"Brief Description of Drawings\" end=\"lead\"?>\\n<description-of-drawings>\\n<heading id=\"h-0004\" level=\"1\">BRIEF DESCRIPTION OF THE DRAWINGS</heading>\\n<p id=\"p-0013\" num=\"0012\"><figref idref=\"DRAWINGS\">FIG. 1</figref> is a simplified diagram illustrating an implantable stimulation device in electrical communication with at least three leads implanted into a patient\\'s heart for delivering multi-chamber stimulation and shock therapy;</p>\\n<p id=\"p-0014\" num=\"0013\"><figref idref=\"DRAWINGS\">FIG. 2</figref> is a functional block diagram of a multi-chamber implantable stimulation device illustrating the basic elements of a stimulation device which can provide cardioversion, defibrillation and pacing stimulation in four chambers of the heart;</p>\\n<p id=\"p-0015\" num=\"0014\"><figref idref=\"DRAWINGS\">FIG. 3</figref> shows that in some embodiments, a high voltage confirmation system (HVCS) can include an impedance data component;</p>\\n<p id=\"p-0016\" num=\"0015\"><figref idref=\"DRAWINGS\">FIG. 4A</figref> shows that in some embodiments, impedance associated with high voltage lead can be analyzed by the HVCS to provide one or more functionalities associated with the operation of the HVCS;</p>\\n<p id=\"p-0017\" num=\"0016\"><figref idref=\"DRAWINGS\">FIG. 4B</figref> shows an example of how impedance or impedance related values can be measured with respect to the high voltage lead of the implantable cardiac device;</p>\\n<p id=\"p-0018\" num=\"0017\"><figref idref=\"DRAWINGS\">FIG. 5</figref> shows by way of example that in some embodiments, an impedance value can be monitored and analyzed periodically;</p>\\n<p id=\"p-0019\" num=\"0018\"><figref idref=\"DRAWINGS\">FIG. 6</figref> shows by way of example that in some embodiments, various sampling techniques can be utilized in sampling of impedance related values;</p>\\n<p id=\"p-0020\" num=\"0019\"><figref idref=\"DRAWINGS\">FIG. 7</figref> shows by way of example that in some embodiments, integrated values of impedance can be obtained and analyzed;</p>\\n<p id=\"p-0021\" num=\"0020\"><figref idref=\"DRAWINGS\">FIG. 8</figref> shows an example trend of integrated impedance values that can be monitored and analyzed;</p>\\n<p id=\"p-0022\" num=\"0021\"><figref idref=\"DRAWINGS\">FIG. 9</figref> shows another example trend of integrated impedance values that can be monitored and analyzed;</p>\\n<p id=\"p-0023\" num=\"0022\"><figref idref=\"DRAWINGS\">FIG. 10</figref> shows that in some embodiments, a process can obtain one or more impedance parameters and determine whether to take action based on such parameter(s);</p>\\n<p id=\"p-0024\" num=\"0023\"><figref idref=\"DRAWINGS\">FIG. 11</figref> shows an example process that can perform the process of <figref idref=\"DRAWINGS\">FIG. 10</figref>;</p>\\n<p id=\"p-0025\" num=\"0024\"><figref idref=\"DRAWINGS\">FIGS. 12A-12F</figref> show various example actions that can be implemented by the process of <figref idref=\"DRAWINGS\">FIG. 11</figref>;</p>\\n<p id=\"p-0026\" num=\"0025\"><figref idref=\"DRAWINGS\">FIG. 13</figref> shows by way of example how an impedance parameter reference can be formed; and</p>\\n<p id=\"p-0027\" num=\"0026\"><figref idref=\"DRAWINGS\">FIG. 14</figref> shows by way of example how the operation of an implantable cardiac device can be based at least in part on a comparison of a measured impedance-related value with the impedance parameter reference.</p>\\n</description-of-drawings>\\n<?brief-description-of-drawings description=\"Brief Description of Drawings\" end=\"tail\"?>\\n<?detailed-description description=\"Detailed Description\" end=\"lead\"?>\\n<p id=\"p-0028\" num=\"0027\">These and other aspects, advantages, and novel features of the present teachings will become apparent upon reading the following detailed description and upon reference to the accompanying drawings. In the drawings, similar elements have similar reference numerals.</p>\\n<heading id=\"h-0005\" level=\"1\">DETAILED DESCRIPTION OF SOME EMBODIMENTS</heading>\\n<p id=\"p-0029\" num=\"0028\">The present disclosure generally relates to a high voltage confirmation system (HVCS) for implantable cardiac stimulation devices. More particularly, various embodiments of the HVCS can include a component configured to utilize one or more impedance and/or impedance-related parameters associated with the operation of the HVCS. Additional details about HVCS are available in a co-pending U.S. application Ser. No. 11/249,684 filed Oct. 12, 2005, titled &#x201c;Method and Apparatus for Differentiating Lead Noise from Ventricular Arrhythmia&#x201d; (Attorney Docket No. A05P4001) which is incorporated herein by reference in its entirety. Additional information on how cardiac therapy devices can be programmed to process impedance signals can be found in U.S. Pat. No. 7,010,347 titled &#x201c;Optimization of Impedance Signals for Closed Loop Programming of Cardiac Resynchronization Therapy Devices&#x201d; which is incorporated herein by reference in its entirety.</p>\\n<p id=\"p-0030\" num=\"0029\">In one embodiment, as shown in <figref idref=\"DRAWINGS\">FIG. 1</figref>, a device <b>10</b> comprising an implantable cardiac stimulation device <b>10</b> is in electrical communication with a patient\\'s heart <b>12</b> by way of three leads, <b>20</b>, <b>24</b> and <b>30</b>, suitable for delivering multi-chamber stimulation and shock therapy. To sense atrial cardiac signals and to provide right atrial chamber stimulation therapy, the stimulation device <b>10</b> is coupled to an implantable right atrial lead <b>20</b> having at least an atrial tip electrode <b>22</b>, which typically is implanted in the patient\\'s right atrial appendage.</p>\\n<p id=\"p-0031\" num=\"0030\">To sense left atrial and ventricular cardiac signals and to provide left chamber pacing therapy, the stimulation device <b>10</b> is coupled to a &#x201c;coronary sinus&#x201d; lead <b>24</b> designed for placement in the &#x201c;coronary sinus region&#x201d; via the coronary sinus ostium (OS) for positioning a distal electrode adjacent to the left ventricle and/or additional electrode(s) adjacent to the left atrium. As used herein, the phrase &#x201c;coronary sinus region&#x201d; refers to the vasculature of the left ventricle, including any portion of the coronary sinus, great cardiac vein, left marginal vein, left posterior ventricular vein, middle cardiac vein, and/or small cardiac vein or any other cardiac vein accessible by the coronary sinus.</p>\\n<p id=\"p-0032\" num=\"0031\">Accordingly, an exemplary coronary sinus lead <b>24</b> is designed to receive atrial and ventricular cardiac signals and to deliver left ventricular pacing therapy using at least a left ventricular tip electrode <b>26</b>, left atrial pacing therapy using at least a left atrial ring electrode <b>27</b>, and shocking therapy using at least a left atrial coil electrode <b>28</b>.</p>\\n<p id=\"p-0033\" num=\"0032\">The stimulation device <b>10</b> is also shown in electrical communication with the patient\\'s heart <b>12</b> by way of an implantable right ventricular lead <b>30</b> having, in this embodiment, a right ventricular tip electrode <b>32</b>, a right ventricular ring electrode <b>34</b>, a right ventricular (RV) coil electrode <b>36</b>, and a superior vena cava (SVC) coil electrode <b>38</b>. Typically, the right ventricular lead <b>30</b> is transvenously inserted into the heart <b>12</b> so as to place the right ventricular tip electrode <b>32</b> in the right ventricular apex so that the RV coil electrode will be positioned in the right ventricle and the SVC coil electrode <b>38</b> will be positioned in the superior vena cava. Accordingly, the right ventricular lead <b>30</b> is capable of receiving cardiac signals, and delivering stimulation in the form of pacing and shock therapy to the right ventricle.</p>\\n<p id=\"p-0034\" num=\"0033\">As illustrated in <figref idref=\"DRAWINGS\">FIG. 2</figref>, a simplified block diagram is shown of the multi-chamber implantable stimulation device <b>10</b>, which is capable of treating both fast and slow arrhythmias with stimulation therapy, including cardioversion, defibrillation, and pacing stimulation. While a particular multi-chamber device is shown, this is for illustration purposes only and one of skill in the art could readily duplicate, eliminate or disable the appropriate circuitry in any desired combination to provide a device capable of treating the appropriate chamber(s) with cardioversion, defibrillation and pacing stimulation.</p>\\n<p id=\"p-0035\" num=\"0034\">The housing <b>40</b> for the stimulation device <b>10</b>, shown schematically in <figref idref=\"DRAWINGS\">FIG. 2</figref>, is often referred to as the &#x201c;can&#x201d;, &#x201c;case&#x201d; or &#x201c;case electrode&#x201d; and may be programmably selected to act as the return electrode for all &#x201c;unipolar&#x201d; modes. The housing <b>40</b> may further be used as a return electrode alone or in combination with one or more of the coil electrodes, <b>28</b>, <b>36</b> and <b>38</b>, for shocking purposes. The housing <b>40</b> further includes a connector (not shown) having a plurality of terminals, <b>42</b>, <b>44</b>, <b>46</b>, <b>48</b>, <b>52</b>, <b>54</b>, <b>56</b>, and <b>58</b> (shown schematically and, for convenience, the names of the electrodes to which they are connected are shown next to the terminals). As such, to achieve right atrial sensing and pacing, the connector includes at least a right atrial tip terminal (AR TIP) <b>42</b> adapted for connection to the atrial tip electrode <b>22</b>.</p>\\n<p id=\"p-0036\" num=\"0035\">To achieve left chamber sensing, pacing and shocking, the connector includes at least a left ventricular tip terminal (VL TIP) <b>44</b>, a left atrial ring terminal (AL RING) <b>46</b>, and a left atrial shocking terminal (AL COIL) <b>48</b>, which are adapted for connection to the left ventricular tip electrode <b>26</b>, the left atrial ring electrode <b>27</b>, and the left atrial coil electrode <b>28</b>, respectively.</p>\\n<p id=\"p-0037\" num=\"0036\">To support right chamber sensing, pacing and shocking, the connector further includes a right ventricular tip terminal (VR TIP) <b>52</b>, a right ventricular ring terminal (VR RING) <b>54</b>, a right ventricular shocking terminal (RV COIL) <b>56</b>, and an SVC shocking terminal (SVC COIL) <b>58</b>, which are adapted for connection to the right ventricular tip electrode <b>32</b>, right ventricular ring electrode <b>34</b>, the RV coil electrode <b>36</b>, and the SVC coil electrode <b>38</b>, respectively.</p>\\n<p id=\"p-0038\" num=\"0037\">At the core of the stimulation device <b>10</b> is a programmable microcontroller <b>60</b> which controls the various modes of stimulation therapy. As is well known in the art, the microcontroller <b>60</b> typically includes a microprocessor, or equivalent control circuitry, designed specifically for controlling the delivery of stimulation therapy and may further include RAM or ROM memory, logic and timing circuitry, state machine circuitry, and I/O circuitry. Typically, the microcontroller <b>60</b> includes the ability to process or monitor input signals (data) as controlled by a program code stored in a designated block of memory. The details of the design and operation of the microcontroller <b>60</b> are not critical to the invention. Rather, any suitable microcontroller <b>60</b> may be used that carries out the functions described herein. The use of microprocessor-based control circuits for performing timing and data analysis functions are well known in the art.</p>\\n<p id=\"p-0039\" num=\"0038\">As shown in <figref idref=\"DRAWINGS\">FIG. 2</figref>, an atrial pulse generator <b>70</b> and a ventricular pulse generator <b>72</b> generate pacing stimulation pulses for delivery by the right atrial lead <b>20</b>, the right ventricular lead <b>30</b>, and/or the coronary sinus lead <b>24</b> via an electrode configuration switch <b>74</b>. It is understood that in order to provide stimulation therapy in each of the four chambers of the heart, the atrial and ventricular pulse generators, <b>70</b> and <b>72</b>, may include dedicated, independent pulse generators, multiplexed pulse generators, or shared pulse generators. The pulse generators, <b>70</b> and <b>72</b>, are controlled by the microcontroller <b>60</b> via appropriate control signals, <b>76</b> and <b>78</b>, respectively, to trigger or inhibit the stimulation pulses.</p>\\n<p id=\"p-0040\" num=\"0039\">The microcontroller <b>60</b> further includes timing control circuitry <b>79</b> which is used to control the timing of such stimulation pulses (e.g., pacing rate, atrio-ventricular (AV) delay, atrial interconduction (A-A) delay, or ventricular interconduction (V-V) delay, etc.) as well as to keep track of the timing of refractory periods, PVARP intervals, noise detection windows, evoked response windows, alert intervals, marker channel timing, etc., which is well known in the art.</p>\\n<p id=\"p-0041\" num=\"0040\">The switch <b>74</b> includes a plurality of switches for connecting the desired electrodes to the appropriate I/O circuits, thereby providing complete electrode programmability. Accordingly, the switch <b>74</b>, in response to a control signal <b>80</b> from the microcontroller <b>60</b>, determines the polarity of the stimulation pulses (e.g., unipolar, bipolar, combipolar, etc.) by selectively closing the appropriate combination of switches (not shown) as is known in the art. In this embodiment, the switch <b>74</b> also supports simultaneous high resolution impedance measurements, such as between the case or housing <b>40</b>, the right atrial electrode <b>22</b>, and right ventricular electrodes <b>32</b>, <b>34</b> as described in greater detail below.</p>\\n<p id=\"p-0042\" num=\"0041\">Atrial sensing circuits <b>82</b> and ventricular sensing circuits <b>84</b> may also be selectively coupled to the right atrial lead <b>20</b>, coronary sinus lead <b>24</b>, and the right ventricular lead <b>30</b>, through the switch <b>74</b> for detecting the presence of cardiac activity in each of the four chambers of the heart. Accordingly, the atrial (ATR. SENSE) and ventricular (VTR. SENSE) sensing circuits, <b>82</b> and <b>84</b>, may include dedicated sense amplifiers, multiplexed amplifiers, or shared amplifiers. The switch <b>74</b> determines the &#x201c;sensing polarity&#x201d; of the cardiac signal by selectively closing the appropriate switches, as is also known in the art. In this way, the clinician may program the sensing polarity independently of the stimulation polarity.</p>\\n<p id=\"p-0043\" num=\"0042\">Each sensing circuit, <b>82</b> and <b>84</b>, preferably employs one or more low power, precision amplifiers with programmable gain and/or automatic gain control, bandpass filtering, and a threshold detection circuit, as known in the art, to selectively sense the cardiac signal of interest. The automatic gain control enables the device <b>10</b> to deal effectively with the difficult problem of sensing the low amplitude signal characteristics of atrial or ventricular fibrillation. The outputs of the atrial and ventricular sensing circuits, <b>82</b> and <b>84</b>, are connected to the microcontroller <b>60</b> which, in turn, are able to trigger or inhibit the atrial and ventricular pulse generators, <b>70</b> and <b>72</b>, respectively, in a demand fashion in response to the absence or presence of cardiac activity in the appropriate chambers of the heart.</p>\\n<p id=\"p-0044\" num=\"0043\">For arrhythmia detection, the device <b>10</b> utilizes the atrial and ventricular sensing circuits, <b>82</b> and <b>84</b>, to sense cardiac signals to determine whether a rhythm is physiologic or pathologic. As used herein &#x201c;sensing&#x201d; is reserved for the noting of an electrical signal, and &#x201c;detection&#x201d; is the processing of these sensed signals and noting the presence of an arrhythmia. The timing intervals between sensed events (e.g., P-waves, R-waves, and depolarization signals associated with fibrillation) are then classified by the microcontroller <b>60</b> by comparing them to a predefined rate zone limit (i.e., bradycardia, normal, low rate VT, high rate VT, and fibrillation rate zones) and various other characteristics (e.g., sudden onset, stability, physiologic sensors, and morphology, etc.) in order to determine the type of remedial therapy that is needed (e.g., bradycardia pacing, anti-tachycardia pacing, cardioversion shocks or defibrillation shocks, collectively referred to as &#x201c;tiered therapy&#x201d;).</p>\\n<p id=\"p-0045\" num=\"0044\">Cardiac signals are also applied to the inputs of an analog-to-digital (A/D) data acquisition system <b>90</b>. The data acquisition system <b>90</b> is configured to acquire intracardiac electrogram (IEGM) signals, convert the raw analog data into a digital signal, and store the digital signals for later processing and/or telemetric transmission to an external device <b>102</b>. The data acquisition system <b>90</b> is coupled to the right atrial lead <b>20</b>, the coronary sinus lead <b>24</b>, and the right ventricular lead <b>30</b> through the switch <b>74</b> to sample cardiac signals across any pair of desired electrodes.</p>\\n<p id=\"p-0046\" num=\"0045\">The microcontroller <b>60</b> is further coupled to a memory <b>94</b> by a suitable data/address bus <b>96</b>, wherein the programmable operating parameters used by the microcontroller <b>60</b> are stored and modified, as required, in order to customize the operation of the stimulation device <b>10</b> to suit the needs of a particular patient. Such operating parameters define, for example, pacing pulse amplitude, pulse duration, electrode polarity, rate, sensitivity, automatic features, arrhythmia detection criteria, and the amplitude, waveshape and vector of each shocking pulse to be delivered to the patient\\'s heart <b>12</b> within each respective tier of therapy.</p>\\n<p id=\"p-0047\" num=\"0046\">Advantageously, the operating parameters of the implantable device <b>10</b> may be non-invasively programmed into the memory <b>94</b> through a telemetry circuit <b>100</b> in telemetric communication with the external device <b>102</b>, such as a programmer, transtelephonic transceiver, or a diagnostic system analyzer. The telemetry circuit <b>100</b> is activated by the microcontroller by a control signal <b>106</b>. The telemetry circuit <b>100</b> advantageously allows IEGMs and status information relating to the operation of the device <b>10</b> (as contained in the microcontroller <b>60</b> or memory <b>94</b>) to be sent to the external device <b>102</b> through an established communication link <b>104</b>.</p>\\n<p id=\"p-0048\" num=\"0047\">In the preferred embodiment, the stimulation device <b>10</b> further includes a physiologic sensor <b>108</b>, commonly referred to as a &#x201c;rate-responsive&#x201d; sensor because it is typically used to adjust pacing stimulation rate according to the exercise state of the patient. However, the physiological sensor <b>108</b> may further be used to detect changes in cardiac output, changes in the physiological condition of the heart, or diurnal changes in activity (e.g., detecting sleep and wake states). Accordingly, the microcontroller <b>60</b> responds by adjusting the various pacing parameters (such as rate, AV Delay, V-V Delay, etc.) at which the atrial and ventricular pulse generators, <b>70</b> and <b>72</b>, generate stimulation pulses.</p>\\n<p id=\"p-0049\" num=\"0048\">The stimulation device additionally includes a battery <b>110</b> which provides operating power to all of the circuits shown in <figref idref=\"DRAWINGS\">FIG. 2</figref>. For the stimulation device <b>10</b>, which employs shocking therapy, the battery <b>110</b> must be capable of operating at low current drains for long periods of time and then be capable of providing high-current pulses (for capacitor charging) when the patient requires a shock pulse. The battery <b>110</b> must also have a predictable discharge characteristic so that elective replacement time can be detected. Accordingly, embodiments of the device <b>10</b> including shocking capability preferably employ lithium/silver vanadium oxide batteries. For embodiments of the device <b>10</b> not including shocking capability, the battery <b>110</b> will preferably be lithium iodide or carbon monoflouride or a hybrid of the two.</p>\\n<p id=\"p-0050\" num=\"0049\">As further shown in <figref idref=\"DRAWINGS\">FIG. 2</figref>, the device <b>10</b> is shown as having an impedance measuring circuit <b>112</b> which is enabled by the microcontroller <b>60</b> via a control signal <b>114</b>.</p>\\n<p id=\"p-0051\" num=\"0050\">In the case where the stimulation device <b>10</b> is intended to operate as an implantable cardioverter/defibrillator (ICD) device, it must detect the occurrence of an arrhythmia, and automatically apply an appropriate electrical shock therapy to the heart aimed at terminating the detected arrhythmia. To this end, the microcontroller <b>60</b> further controls a shocking circuit <b>116</b> by way of a control signal <b>118</b>. The shocking circuit <b>116</b> generates shocking pulses of low (up to 0.5 joules), moderate (0.5-10 joules), or high energy (11 to 40 joules), as controlled by the microcontroller <b>60</b>. Such shocking pulses are applied to the patient\\'s heart <b>12</b> through at least two shocking electrodes, and as shown in this embodiment, selected from the left atrial coil electrode <b>28</b>, the RV coil electrode <b>36</b>, and/or the SVC coil electrode <b>38</b>. As noted above, the housing <b>40</b> may act as an active electrode in combination with the RV electrode <b>36</b>, or as part of a split electrical vector using the SVC coil electrode <b>38</b> or the left atrial coil electrode <b>28</b> (i.e., using the RV electrode as a common electrode.</p>\\n<p id=\"p-0052\" num=\"0051\">Cardioversion shocks are generally considered to be of low to moderate energy level (so as to minimize pain felt by the patient), and/or synchronized with an R-wave and/or pertaining to the treatment of tachycardia. Defibrillation shocks are generally of moderate to high energy level (i.e., corresponding to thresholds in the range of 5-40 joules), delivered asynchronously (since R-waves may be too disorganized), and pertaining exclusively to the treatment of fibrillation. Accordingly, the microcontroller <b>60</b> is capable of controlling the synchronous or asynchronous delivery of the shocking pulses.</p>\\n<p id=\"p-0053\" num=\"0052\"><figref idref=\"DRAWINGS\">FIG. 3</figref> shows that in some embodiments, a high voltage confirmation system (HVCS) <b>500</b> that can be functionally implemented by the micro-controller <b>60</b> of an implanted cardiac stimulation device <b>10</b>, can include an impedance data component <b>502</b> configured to facilitate one or more functionalities of the HVCS <b>500</b> based on impedance data. In one implementation, the impedance component <b>502</b> comprises the impedance measuring circuit <b>112</b>. For the purpose of description herein, it will be understood that &#x201c;impedance data&#x201d; or &#x201c;impedance&#x201d; can include impedance value itself and/or a derived value that is based on the impedance value. For example, a sampled impedance value a given time can be impedance data. In another example, an integrated value of impedance over some time interval can also be impedance data. Other derived values are also possible.</p>\\n<p id=\"p-0054\" num=\"0053\">In some embodiments, as shown in <figref idref=\"DRAWINGS\">FIG. 4A</figref>, an HVCS <b>510</b> can include one or more leads <b>130</b> such as the leads <b>20</b>, <b>24</b>, <b>30</b> of <figref idref=\"DRAWINGS\">FIG. 1</figref> positioned to deliver high voltage treatment signal(s) to a heart. Such a lead <b>130</b> can be electrically connected to electrical components configured to measure resistance (depicted as an ohmmeter <b>120</b>) or the impedance measuring circuit <b>112</b> and/or analyze impedance (depicted as an impedance analyzer <b>122</b>) associated with the lead <b>130</b>.</p>\\n<p id=\"p-0055\" num=\"0054\">As further shown in <figref idref=\"DRAWINGS\">FIG. 4A</figref>, the HVCS <b>510</b> can also include a processor <b>512</b> which can be either the microprocessor <b>60</b> or a stand-alone processor for processing of impedance data thus obtained (via the example ohmmeter <b>120</b> and/or impedance analyzer <b>122</b>). The HVCS <b>510</b> can also include a storage medium <b>514</b>, such as the memory <b>94</b> of the device <b>10</b> or a stand-alone memory having one or more processes, reference data, and other data, to facilitate processing of impedance data by the processor <b>512</b>. In some embodiments, the HVCS <b>510</b> can also include an interface <b>516</b>, such as the telemetry circuit <b>100</b> or a stand-alone device, configured to allow interfacing of the HVCS <b>510</b> with an external device <b>102</b>. Such interfacing can include, but not limited to, transfer of impedance data, transfer of reference data, and updating of one or more processes implemented in the implantable cardiac device.</p>\\n<p id=\"p-0056\" num=\"0055\">In general, it will be appreciated that processors can include, by way of example, computers, program logic, or other substrate configurations representing data and instructions, which operate as described herein. In other embodiments, the processors can include controller circuitry, processor circuitry, processors, general purpose single-chip or multi-chip microprocessors, digital signal processors, embedded microprocessors, microcontrollers and the like.</p>\\n<p id=\"p-0057\" num=\"0056\">Furthermore, it will be appreciated that in one embodiment, the program logic may advantageously be implemented as one or more components. The components may advantageously be configured to execute on one or more processors. The components include, but are not limited to, software or hardware components, modules such as software modules, object-oriented software components, class components and task components, processes methods, functions, attributes, procedures, subroutines, segments of program code, drivers, firmware, microcode, circuitry, data, databases, data structures, tables, arrays, and variables.</p>\\n<p id=\"p-0058\" num=\"0057\"><figref idref=\"DRAWINGS\">FIG. 4B</figref> shows examples of how impedance or impedance related values associated with the high voltage lead can be measured. As shown in an example configuration <b>400</b>, an implantable cardiac device <b>402</b> can include a high voltage device <b>404</b> configured to deliver high voltage waveform to the heart <b>12</b> in the manner discussed above. Such delivery can be effectuated by a high voltage electrode <b>406</b>, such as the electrodes <b>28</b>, <b>36</b> shown in <figref idref=\"DRAWINGS\">FIG. 1</figref>, via a lead.</p>\\n<p id=\"p-0059\" num=\"0058\">In some embodiments, as shown in <figref idref=\"DRAWINGS\">FIG. 4B</figref>, impedance measurement can be made between the electrode <b>406</b> and a location (for example, the casing <b>10</b>) so that the high voltage lead contributes to the resistance between the two measurement points. Thus, an ohmmeter <b>410</b> or other impedance measuring circuit <b>112</b> can measure an impedance that includes the contribution by the high voltage lead <b>406</b> and electrode <b>408</b>.</p>\\n<p id=\"p-0060\" num=\"0059\">In certain situations, degradation of the lead can result in increase in impedance. In certain situations, however, a decrease in impedance can indicate some fault such as a possible short involving the lead or its connections. Thus, in examples described herein, detections of faulty lead can be based on some high and/or low impedance values or other values derived therefrom.</p>\\n<p id=\"p-0061\" num=\"0060\"><figref idref=\"DRAWINGS\">FIGS. 5-9</figref> show some non-limiting examples of impedance data that can be monitored and processed to facilitate one or more operational features of an HVCS. <figref idref=\"DRAWINGS\">FIG. 5</figref> shows that in some embodiments, an impedance parameter such as impedance value Z associated with a high voltage lead can be sampled periodically. In an example impedance data <b>200</b>, a plurality of sampled impedance values are depicted as data points <b>204</b>. In some embodiments, a curve <b>202</b> can be obtained from the data points <b>204</b> (for example, by fitting) and represent time-dependence of impedance.</p>\\n<p id=\"p-0062\" num=\"0061\">In some embodiments, one or more impedance threshold values can be set such that a condition can be triggered if a sampled impedance value goes beyond the set threshold value(s). For example, a Z<sub>high </sub>threshold <b>206</b> can be set such that the example sampled value <b>204</b><i>c </i>exceeds the threshold <b>206</b>. In such a situation, an action associated with the HVCS can be triggered. An example of how such threshold can be set, as well as example triggered actions, are described below in greater detail.</p>\\n<p id=\"p-0063\" num=\"0062\">In another example, a Z<sub>low </sub><b>208</b> can be set such that if a sampled impedance value goes below the threshold (none shown in <figref idref=\"DRAWINGS\">FIG. 5</figref>), an action associated with the HVCS can be triggered. An example of how such threshold can be set, as well as example triggered actions, are described below in greater detail.</p>\\n<p id=\"p-0064\" num=\"0063\"><figref idref=\"DRAWINGS\">FIG. 6</figref> shows some non-limiting examples on variations in sampling techniques that can be utilized to sample impedance related parameters such as impedance value. In the example shown in <figref idref=\"DRAWINGS\">FIG. 5</figref>, the impedance value can be sampled periodically, and each sampled value can be evaluated. In certain situations, the impedance values may fluctuate relatively rapidly, and it may be desirable to obtain average values that are less sensitive to such fluctuations. Thus, in an example impedance data <b>210</b> having impedance values <b>214</b> (that can be represented by a curve <b>212</b>), average values can be formed among groups <b>216</b> of values <b>214</b>. In some embodiments, the number of impedance values per group can be varied to achieve a desired averaging effect.</p>\\n<p id=\"p-0065\" num=\"0064\">In some embodiments, as shown in <figref idref=\"DRAWINGS\">FIG. 6</figref>, an averaging group of impedance values can overlap with its neighboring group. In certain sampling situations, such grouping and overlapping can allow smoothing of data. In some embodiments, such group size and/or the amount of overlap can be varied to achieve a desired smoothing effect. Other data averaging and/or smoothing techniques are also possible.</p>\\n<p id=\"p-0066\" num=\"0065\"><figref idref=\"DRAWINGS\">FIG. 7</figref> shows an example impedance data <b>220</b> where impedance values (depicted as a curve <b>222</b>) can be integrated over some time interval. For example, a plurality of integration time intervals are depicted as intervals <b>224</b>. An example interval <b>224</b><i>a </i>is shown to begin at time t=t<b>1</b> and end at t=t<b>2</b>, so that impedance is integrated to yield a Zdt value.</p>\\n<p id=\"p-0067\" num=\"0066\">In some embodiments, such integration of impedance signal can be achieved by, for example, an integration circuit or via software using input sampled impedance values. The duration of the integration time interval(s) and/or any time intervals therebetween can be selected to achieve a desired range of Zdt values.</p>\\n<p id=\"p-0068\" num=\"0067\"><figref idref=\"DRAWINGS\">FIG. 8</figref> shows an example Zdt data <b>230</b> that can result from the example Z data of <figref idref=\"DRAWINGS\">FIG. 7</figref>. A plurality of Zdt data points <b>232</b> can represent integrated values of the corresponding intervals <b>224</b>.</p>\\n<p id=\"p-0069\" num=\"0068\">In some embodiments, as shown in <figref idref=\"DRAWINGS\">FIG. 8</figref>, a threshold Zdt value <b>234</b> can be set to allow comparison with the Zdt data points. In the example shown in <figref idref=\"DRAWINGS\">FIG. 8</figref>, a high threshold is shown; but it will be understood that a low threshold (not shown) can also be set. In the example, a Zdt data point <b>236</b> is depicted as exceeding the threshold value <b>234</b>. Thus, a detection of such a Zdt value can trigger an action associated with the HVCS.</p>\\n<p id=\"p-0070\" num=\"0069\">In some situations, use of Zdt may be less sensitive to Z signal fluctuations and provide a smoother trend indication of the impedance property of the high voltage lead. An example of how such threshold can be set, as well as example triggered actions, are described below in greater detail.</p>\\n<p id=\"p-0071\" num=\"0070\">In some embodiments, various other quantities can be derived from Z and/or Zdt values. In a non-limiting example, <figref idref=\"DRAWINGS\">FIG. 9</figref> shows an example impedance data <b>240</b> where a trend of Zdt is plotted as a function of time. The data points <b>242</b> can represent a slope of the Zdt about the corresponding Zdt data points. For example, the first shown data point <b>242</b> can represent the slope of a line representing the first three data points <b>232</b> in <figref idref=\"DRAWINGS\">FIG. 8</figref>.</p>\\n<p id=\"p-0072\" num=\"0071\">In some embodiments, as shown in <figref idref=\"DRAWINGS\">FIG. 9</figref>, a threshold slop <b>244</b> can be set to allow comparison with the slope data points. In the example shown in <figref idref=\"DRAWINGS\">FIG. 9</figref>, a high threshold is shown; but it will be understood that a low threshold (not shown) can also be set. In the example, a slope data point <b>246</b> is depicted as exceeding the threshold value <b>244</b>. Thus, a detection of such a slope value can trigger an action associated with the HVCS.</p>\\n<p id=\"p-0073\" num=\"0072\">In some situations, use of such trend values may be less sensitive to Z signal fluctuations and provide a smoother trend indication of the impedance property of the high voltage lead. An example of how such threshold can be set, as well as example triggered actions, are described below in greater detail.</p>\\n<p id=\"p-0074\" num=\"0073\"><figref idref=\"DRAWINGS\">FIG. 10</figref> shows that in some embodiments, a process <b>250</b> can be performed by the HVCS to utilize impedance data associated with the high voltage lead. In a process block <b>252</b>, impedance parameter is obtained. In a process block <b>254</b>, the process <b>250</b> determines whether to take action based at least in part on the impedance parameter.</p>\\n<p id=\"p-0075\" num=\"0074\"><figref idref=\"DRAWINGS\">FIG. 11</figref> shows that in some embodiments, a process <b>260</b> can be an example of how the process <b>250</b> of <figref idref=\"DRAWINGS\">FIG. 10</figref> can be implemented. In a process block <b>262</b>, an impedance parameter is measured. In a process block <b>264</b>, the measured impedance parameter, or some quantity derived therefrom, is compared with a reference. Based on such comparison, the process <b>260</b> in a decision block <b>266</b> determines whether to take action associated with the operation of HVCS. If the answer is &#x201c;No,&#x201d; the process <b>260</b> can continue to monitor the impedance parameter (depicted by the loop-back to the process block <b>262</b>). If the answer is &#x201c;Yes,&#x201d; the process <b>260</b> in a process block <b>268</b> triggers an action associated with the operation of HVCS.</p>\\n<p id=\"p-0076\" num=\"0075\"><figref idref=\"DRAWINGS\">FIGS. 12A-12F</figref> show non-limiting examples of HVCS associated actions that can be triggered based on the detection of an impedance parameter condition as described in reference to <figref idref=\"DRAWINGS\">FIGS. 10 and 11</figref>. <figref idref=\"DRAWINGS\">FIG. 12A</figref> shows that in some embodiments, a process <b>270</b> can be implemented, where the process <b>270</b> determines in a decision block <b>272</b> whether to trigger an action. If the answer is &#x201c;Yes,&#x201d; the process <b>270</b> is a process block <b>274</b> can trigger an alarm associated with the operation of the HVCS.</p>\\n<p id=\"p-0077\" num=\"0076\"><figref idref=\"DRAWINGS\">FIG. 12B</figref> shows that in some embodiments, a process <b>280</b> can be implemented, where the process <b>280</b> determines in a decision block <b>282</b> whether to trigger an action. If the answer is &#x201c;Yes,&#x201d; the process <b>280</b> is a process block <b>284</b> can initiate a therapy that includes the operation of the HVCS.</p>\\n<p id=\"p-0078\" num=\"0077\"><figref idref=\"DRAWINGS\">FIG. 12C</figref> shows that in some embodiments, a process <b>290</b> can be implemented, where the process <b>290</b> determines in a decision block <b>292</b> whether to trigger an action. If the answer is &#x201c;Yes,&#x201d; the process <b>290</b> is a process block <b>294</b> can perform one or more processes associated with the operation of the HVCS.</p>\\n<p id=\"p-0079\" num=\"0078\"><figref idref=\"DRAWINGS\">FIG. 12D</figref> shows that in some embodiments, a process <b>300</b> can be implemented, where the process <b>300</b> determines in a decision block <b>302</b> whether to trigger an action. If the answer is &#x201c;Yes,&#x201d; the process <b>300</b> is a process block <b>304</b> can initiate noise detection that can be a part of the HVCS.</p>\\n<p id=\"p-0080\" num=\"0079\"><figref idref=\"DRAWINGS\">FIG. 12E</figref> shows that in some embodiments, a process <b>310</b> can be implemented, where the process <b>310</b> determines in a decision block <b>312</b> whether to trigger an action. If the answer is &#x201c;Yes,&#x201d; the process <b>310</b> is a process block <b>314</b> can initiate the operation of HVCS itself.</p>\\n<p id=\"p-0081\" num=\"0080\"><figref idref=\"DRAWINGS\">FIG. 12F</figref> shows that in some embodiments, a process <b>320</b> can be implemented, where the process <b>320</b> determines in a decision block <b>322</b> whether to trigger an action. If the answer is &#x201c;Yes,&#x201d; the process <b>320</b> is a process block <b>324</b> can modify a therapy under the control of the HVCS.</p>\\n<p id=\"p-0082\" num=\"0081\">Other configurations are possible.</p>\\n<p id=\"p-0083\" num=\"0082\">As shown in <figref idref=\"DRAWINGS\">FIG. 11</figref>, a measured and/or derived value associated with impedance can be compared to a reference value. <figref idref=\"DRAWINGS\">FIG. 13</figref> shows an example of how such a reference can be formed. In some embodiments, an impedance parameter reference <b>330</b> can be formed based on input of data from one or more sources. Empirical data <b>334</b> can be used to provide one or more impedance parameters. For example, an implantable cardiac device removed from a patient can be assessed for failure modes, and corresponding impedance data for high voltage lead can be obtained.</p>\\n<p id=\"p-0084\" num=\"0083\">In some embodiments, input for the reference <b>330</b> can be provided by a simulation component <b>336</b>. Such simulation can be configured to predict various electrical properties (including impedance properties) associated with the high voltage lead. Such simulation data can be verified by data obtained empirically or by other studies.</p>\\n<p id=\"p-0085\" num=\"0084\">In some embodiments, input for the reference <b>330</b> can be provides by laboratory data <b>338</b>. For example, characteristic changes in one or more impedance parameters can be studied in simulated conditions in the laboratory. In the examples shows in <figref idref=\"DRAWINGS\">FIGS. 7 and 8</figref>, the impedance Z and integrated impedance Zdt are depicted as increasing over time. Such increasing trend can be studies in the laboratory under controlled conditions, and one or more threshold conditions can be defines where the high voltage lead fails or becomes sufficiently undesirable.</p>\\n<p id=\"p-0086\" num=\"0085\">In some embodiments, various combinations of the example inputs <b>334</b>, <b>336</b>, and <b>338</b> can be used to form the reference <b>330</b>. Other inputs are also possible.</p>\\n<p id=\"p-0087\" num=\"0086\">As described herein, impedance data measured or derived can be compared to a reference. In some embodiments, such a reference includes one or more threshold values. <figref idref=\"DRAWINGS\">FIG. 14</figref> shows an example of how such threshold value(s) can be obtained.</p>\\n<p id=\"p-0088\" num=\"0087\"><figref idref=\"DRAWINGS\">FIG. 14</figref> shows an example study <b>350</b> that can be conducted, where an implantable cardiac device <b>344</b> is subjected to a simulated environment <b>342</b>. While in such an environment, one or more impedance parameters can be measured and monitored (depicted as arrow <b>346</b>). Also, one or more performance related parameters can be monitored (depicted as arrow <b>348</b>). For example, the condition of the high voltage lead can be monitored for degradation.</p>\\n<p id=\"p-0089\" num=\"0088\">Based on such performance monitoring, an unacceptable or failure condition <b>360</b> can be identified (for example, at time t=T<sub>f</sub>). Such failure condition can be correlated (depicted as an arrow <b>370</b>) with the monitored impedance data <b>352</b> by, for example, identifying the value of the impedance parameter (depicted as threshold value <b>356</b>) corresponding to the failure time T<sub>f </sub>(depicted as time <b>354</b>).</p>\\n<p id=\"p-0090\" num=\"0089\">A wide variety of variations, however, are possible. For example, additional structural and/or functional elements may be added, elements may be removed or elements may be arranged or configured differently. Similarly, processing steps may be added, removed, or ordered differently. Accordingly, although the above-disclosed embodiments have shown, described, and pointed out the novel features of the invention as applied to the above-disclosed embodiments, it should be understood that various omissions, substitutions, and changes in the form of the detail of the devices, systems, and/or methods shown may be made by those skilled in the art without departing from the scope of the invention. Consequently, the scope of the invention should not be limited to the foregoing description, but should be defined by the appended claims.</p>\\n<?detailed-description description=\"Detailed Description\" end=\"tail\"?>\\n</description>\\n<us-claim-statement>What is claimed is: </us-claim-statement>\\n<claims id=\"claims\">\\n<claim id=\"CLM-00001\" num=\"00001\">\\n<claim-text><b>1</b>. A system for differentiating noise from an arrhythmia of a heart, comprising:\\n<claim-text>a noise discriminator configured to receive an electrocardiogram (EGM) signal and to discriminate between an organized EGM signal and a chaotic EGM signal based at least in part on an impedance parameter associated with a lead that provides an electrical connection to the heart;</claim-text>\\n<claim-text>a signal analyzer configured to determine whether a chaotic signal is caused by a disturbance in the lead.</claim-text>\\n</claim-text>\\n</claim>\\n<claim id=\"CLM-00002\" num=\"00002\">\\n<claim-text><b>2</b>. The system of <claim-ref idref=\"CLM-00001\">claim 1</claim-ref>, further comprising a high voltage delivery system configured to deliver a high voltage therapy signal to the heart if the EGM signal is an organized signal.</claim-text>\\n</claim>\\n<claim id=\"CLM-00003\" num=\"00003\">\\n<claim-text><b>3</b>. The system of <claim-ref idref=\"CLM-00002\">claim 2</claim-ref>, further comprising a high voltage confirmation system configured to adjust or terminate the high voltage therapy based on the impedance parameter.</claim-text>\\n</claim>\\n<claim id=\"CLM-00004\" num=\"00004\">\\n<claim-text><b>4</b>. The system of <claim-ref idref=\"CLM-00003\">claim 3</claim-ref>, wherein the signal analyzer is part of the high voltage confirmation system.</claim-text>\\n</claim>\\n<claim id=\"CLM-00005\" num=\"00005\">\\n<claim-text><b>5</b>. The system of <claim-ref idref=\"CLM-00003\">claim 3</claim-ref>, wherein the lead comprises a high voltage lead for delivering the high voltage signal to the heart.</claim-text>\\n</claim>\\n<claim id=\"CLM-00006\" num=\"00006\">\\n<claim-text><b>6</b>. The system of <claim-ref idref=\"CLM-00003\">claim 3</claim-ref>, wherein the impedance parameter comprises an impedance value associated with an electrical connection of the lead with the heart.</claim-text>\\n</claim>\\n<claim id=\"CLM-00007\" num=\"00007\">\\n<claim-text><b>7</b>. The system of <claim-ref idref=\"CLM-00003\">claim 3</claim-ref>, wherein the impedance parameter comprises an integrated value of impedance associated with an electrical connection of the lead with the heart.</claim-text>\\n</claim>\\n<claim id=\"CLM-00008\" num=\"00008\">\\n<claim-text><b>8</b>. The system of <claim-ref idref=\"CLM-00001\">claim 1</claim-ref>, wherein the signal analyzer determines whether the chaotic signal is caused by lead disturbance by comparing the impedance parameter with a known threshold value.</claim-text>\\n</claim>\\n<claim id=\"CLM-00009\" num=\"00009\">\\n<claim-text><b>9</b>. The system of <claim-ref idref=\"CLM-00008\">claim 8</claim-ref>, wherein the known threshold value comprises a threshold impedance value for the lead corresponding to a failure condition of the lead.</claim-text>\\n</claim>\\n<claim id=\"CLM-00010\" num=\"00010\">\\n<claim-text><b>10</b>. The system of <claim-ref idref=\"CLM-00009\">claim 9</claim-ref>, wherein the failure condition of the lead and the corresponding threshold impedance value are determined by providing a simulated operating condition of the lead in a laboratory.</claim-text>\\n</claim>\\n<claim id=\"CLM-00011\" num=\"00011\">\\n<claim-text><b>11</b>. An implantable cardiac device, comprising:\\n<claim-text>a high voltage device configured to deliver a therapy signal to a heart when triggered;</claim-text>\\n<claim-text>an electrical lead for connecting the high voltage device to the heart;</claim-text>\\n<claim-text>an impedance measurement component configured to measure an electrical impedance associated with the electrical lead; and</claim-text>\\n<claim-text>a processor configured to provide a command for operation of the high voltage device based at least in part on a parameter associated with the measured electrical impedance.</claim-text>\\n</claim-text>\\n</claim>\\n<claim id=\"CLM-00012\" num=\"00012\">\\n<claim-text><b>12</b>. The system of <claim-ref idref=\"CLM-00011\">claim 11</claim-ref>, wherein the parameter comprises an electrical resistance.</claim-text>\\n</claim>\\n<claim id=\"CLM-00013\" num=\"00013\">\\n<claim-text><b>13</b>. The system of <claim-ref idref=\"CLM-00011\">claim 11</claim-ref>, wherein the parameter comprises an integrated value of electrical resistance over a period of time.</claim-text>\\n</claim>\\n<claim id=\"CLM-00014\" num=\"00014\">\\n<claim-text><b>14</b>. The system of <claim-ref idref=\"CLM-00011\">claim 11</claim-ref>, wherein the processor provides the command based on comparison of the parameter with a known reference value.</claim-text>\\n</claim>\\n<claim id=\"CLM-00015\" num=\"00015\">\\n<claim-text><b>15</b>. The system of <claim-ref idref=\"CLM-00014\">claim 14</claim-ref>, wherein the known reference value is stored in the implantable cardiac device, and obtained from a laboratory study that simulates degradation of the electrical lead.</claim-text>\\n</claim>\\n<claim id=\"CLM-00016\" num=\"00016\">\\n<claim-text><b>16</b>. The system of <claim-ref idref=\"CLM-00015\">claim 15</claim-ref>, wherein the known reference value is obtained by correlating an observed failure condition with a corresponding value of the parameter.</claim-text>\\n</claim>\\n<claim id=\"CLM-00017\" num=\"00017\">\\n<claim-text><b>17</b>. The system of <claim-ref idref=\"CLM-00011\">claim 11</claim-ref>, wherein the command comprises a termination command that terminates a process for delivering the therapy signal.</claim-text>\\n</claim>\\n<claim id=\"CLM-00018\" num=\"00018\">\\n<claim-text><b>18</b>. The system of <claim-ref idref=\"CLM-00011\">claim 11</claim-ref>, wherein the command comprises an adjustment command that adjusts the therapy signal.</claim-text>\\n</claim>\\n<claim id=\"CLM-00019\" num=\"00019\">\\n<claim-text><b>19</b>. A method for operating an implantable cardiac device, comprising:\\n<claim-text>measuring an impedance value associated with at least one of a plurality of electrical leads for a high voltage device configured to provide a therapy signal, wherein the plurality of electrical leads are configured to be connected to a heart and deliver the therapy signal to the heart; and</claim-text>\\n<claim-text>generating a command for operation of the high voltage device based at least in part on the measured impedance value.</claim-text>\\n</claim-text>\\n</claim>\\n<claim id=\"CLM-00020\" num=\"00020\">\\n<claim-text><b>20</b>. A method for differentiating noise from an arrhythmia of a heart, comprising:\\n<claim-text>receiving an electrocardiogram (EGM) signal;</claim-text>\\n<claim-text>measuring an impedance parameter associated with a lead that provides an electrical connection to the heart; and</claim-text>\\n<claim-text>determining whether the EGM signal is an organized signal or a chaotic signal based at least in part on the measured impedance parameter. </claim-text>\\n</claim-text>\\n</claim>\\n</claims>\\n</us-patent-application>\\n'"
            ]
          },
          "metadata": {
            "tags": []
          },
          "execution_count": 8
        }
      ]
    },
    {
      "cell_type": "code",
      "metadata": {
        "id": "SZDENJa_HGoH",
        "colab_type": "code",
        "colab": {}
      },
      "source": [
        "import re\n",
        "BACKGROUND_TO_SUMMARY = re.compile(r'<\\?summary-of-invention[^>]*>(.*)<\\?summary-of-invention[^>]*>',re.MULTILINE|re.DOTALL)\n",
        "BACKGROUND_TO_SUMMARY_GRANT = re.compile(r'<\\?BRFSUM[^>]*>(.*)<\\?BRFSUM[^>]*>',re.MULTILINE|re.DOTALL)\n",
        "\n",
        "TAG_PAT = re.compile(r\"<.*?>\")\n",
        "LB_PAT = re.compile(r'[\\t\\n\\r\\f\\v][\" \"]*')\n",
        "\n",
        "def whole_xml_to_background_xml(whole):\n",
        "    mat = BACKGROUND_TO_SUMMARY.search(whole)\n",
        "    if mat is None:\n",
        "      return \"\"\n",
        "    else:\n",
        "      return mat.group(1)\n",
        "  \n",
        "def whole_xml_to_background(whole):\n",
        "    return TAG_PAT.sub(' ', whole_xml_to_background_xml(whole))\n",
        "\n",
        "def whole_xml_to_background_xml_grant(whole):\n",
        "    mat = BACKGROUND_TO_SUMMARY_GRANT.search(whole)\n",
        "    if mat is None:\n",
        "      return \"\"\n",
        "    else:\n",
        "      return mat.group(1)\n",
        "  \n",
        "def whole_xml_to_background_grant(whole):\n",
        "    return TAG_PAT.sub(' ', whole_xml_to_background_xml_grant(whole))\n",
        "\n",
        "def remove_linebreak_from_claim(claim):\n",
        "    '''\n",
        "    Remove line break symbol \"\\n\" with space(s).\n",
        "    '''\n",
        "    return LB_PAT.sub('', claim)"
      ],
      "execution_count": 0,
      "outputs": []
    },
    {
      "cell_type": "code",
      "metadata": {
        "id": "66hDq3wSMvmZ",
        "colab_type": "code",
        "colab": {}
      },
      "source": [
        "training_app_3000[\"background\"] = training_app_3000[\"xml\"].map(whole_xml_to_background).map(remove_linebreak_from_claim)"
      ],
      "execution_count": 0,
      "outputs": []
    },
    {
      "cell_type": "code",
      "metadata": {
        "id": "lhPuNgFtM2IA",
        "colab_type": "code",
        "outputId": "d3451e9a-ec23-45eb-8915-75e15de401ad",
        "colab": {
          "base_uri": "https://localhost:8080/",
          "height": 34
        }
      },
      "source": [
        "training_app_3000[\"background\"][training_app_3000[\"background\"] == \"\"].index"
      ],
      "execution_count": 0,
      "outputs": [
        {
          "output_type": "execute_result",
          "data": {
            "text/plain": [
              "Int64Index([213], dtype='int64')"
            ]
          },
          "metadata": {
            "tags": []
          },
          "execution_count": 87
        }
      ]
    },
    {
      "cell_type": "code",
      "metadata": {
        "id": "FP-XfLBmPW8U",
        "colab_type": "code",
        "outputId": "87336327-0c84-43cc-8473-5533498c45e1",
        "colab": {
          "base_uri": "https://localhost:8080/",
          "height": 104
        }
      },
      "source": [
        "training_app_3000[\"background\"][213] = \"background of the invention\""
      ],
      "execution_count": 0,
      "outputs": [
        {
          "output_type": "stream",
          "text": [
            "/usr/local/lib/python3.6/dist-packages/ipykernel_launcher.py:1: SettingWithCopyWarning: \n",
            "A value is trying to be set on a copy of a slice from a DataFrame\n",
            "\n",
            "See the caveats in the documentation: http://pandas.pydata.org/pandas-docs/stable/indexing.html#indexing-view-versus-copy\n",
            "  \"\"\"Entry point for launching an IPython kernel.\n"
          ],
          "name": "stderr"
        }
      ]
    },
    {
      "cell_type": "code",
      "metadata": {
        "id": "8uU8PZkTUBNi",
        "colab_type": "code",
        "outputId": "02a8f872-2635-4ccc-d447-2842b9e13989",
        "colab": {
          "base_uri": "https://localhost:8080/",
          "height": 34
        }
      },
      "source": [
        "training_app_3000[\"background\"][training_app_3000[\"background\"] == \"\"]"
      ],
      "execution_count": 0,
      "outputs": [
        {
          "output_type": "execute_result",
          "data": {
            "text/plain": [
              "Series([], Name: background, dtype: object)"
            ]
          },
          "metadata": {
            "tags": []
          },
          "execution_count": 89
        }
      ]
    },
    {
      "cell_type": "code",
      "metadata": {
        "id": "iJ9bQzCDULr_",
        "colab_type": "code",
        "colab": {}
      },
      "source": [
        ""
      ],
      "execution_count": 0,
      "outputs": []
    },
    {
      "cell_type": "code",
      "metadata": {
        "id": "vF2GrsF3UQxE",
        "colab_type": "code",
        "colab": {}
      },
      "source": [
        "testset_app_3000[\"background\"] = testset_app_3000[\"xml\"].map(whole_xml_to_background).map(remove_linebreak_from_claim)"
      ],
      "execution_count": 0,
      "outputs": []
    },
    {
      "cell_type": "code",
      "metadata": {
        "id": "J4-zrvwaUXck",
        "colab_type": "code",
        "outputId": "ec42abd8-67d7-480c-f87b-6cf638e1ed5f",
        "colab": {
          "base_uri": "https://localhost:8080/",
          "height": 34
        }
      },
      "source": [
        "testset_app_3000[\"background\"][testset_app_3000[\"background\"] == \"\"].index"
      ],
      "execution_count": 0,
      "outputs": [
        {
          "output_type": "execute_result",
          "data": {
            "text/plain": [
              "Int64Index([], dtype='int64')"
            ]
          },
          "metadata": {
            "tags": []
          },
          "execution_count": 91
        }
      ]
    },
    {
      "cell_type": "code",
      "metadata": {
        "id": "WTVk3c93UcYd",
        "colab_type": "code",
        "outputId": "a76884ea-2f36-461a-d211-5af14ed52409",
        "colab": {
          "base_uri": "https://localhost:8080/",
          "height": 196
        }
      },
      "source": [
        "testset_app_3000.head()"
      ],
      "execution_count": 0,
      "outputs": [
        {
          "output_type": "execute_result",
          "data": {
            "text/html": [
              "<div>\n",
              "<style scoped>\n",
              "    .dataframe tbody tr th:only-of-type {\n",
              "        vertical-align: middle;\n",
              "    }\n",
              "\n",
              "    .dataframe tbody tr th {\n",
              "        vertical-align: top;\n",
              "    }\n",
              "\n",
              "    .dataframe thead th {\n",
              "        text-align: right;\n",
              "    }\n",
              "</style>\n",
              "<table border=\"1\" class=\"dataframe\">\n",
              "  <thead>\n",
              "    <tr style=\"text-align: right;\">\n",
              "      <th></th>\n",
              "      <th>app_id</th>\n",
              "      <th>xml</th>\n",
              "      <th>background</th>\n",
              "    </tr>\n",
              "  </thead>\n",
              "  <tbody>\n",
              "    <tr>\n",
              "      <th>0</th>\n",
              "      <td>12211548</td>\n",
              "      <td>&lt;us-patent-application lang=\"EN\" dtd-version=\"...</td>\n",
              "      <td>FIELD OF THE INVENTION The present invention r...</td>\n",
              "    </tr>\n",
              "    <tr>\n",
              "      <th>1</th>\n",
              "      <td>12765236</td>\n",
              "      <td>&lt;us-patent-application lang=\"EN\" dtd-version=\"...</td>\n",
              "      <td>The field of the invention is that of dental c...</td>\n",
              "    </tr>\n",
              "    <tr>\n",
              "      <th>2</th>\n",
              "      <td>12827269</td>\n",
              "      <td>&lt;us-patent-application lang=\"EN\" dtd-version=\"...</td>\n",
              "      <td>TECHNICAL FIELD Embodiments of the present inv...</td>\n",
              "    </tr>\n",
              "    <tr>\n",
              "      <th>3</th>\n",
              "      <td>14436491</td>\n",
              "      <td>&lt;us-patent-application lang=\"EN\" dtd-version=\"...</td>\n",
              "      <td>BACKGROUND Cancer is thought to occur as a res...</td>\n",
              "    </tr>\n",
              "    <tr>\n",
              "      <th>4</th>\n",
              "      <td>13633425</td>\n",
              "      <td>&lt;us-patent-application lang=\"EN\" dtd-version=\"...</td>\n",
              "      <td>CROSS-REFERENCE TO RELATED APPLICATIONS The pr...</td>\n",
              "    </tr>\n",
              "  </tbody>\n",
              "</table>\n",
              "</div>"
            ],
            "text/plain": [
              "     app_id  ...                                         background\n",
              "0  12211548  ...  FIELD OF THE INVENTION The present invention r...\n",
              "1  12765236  ...  The field of the invention is that of dental c...\n",
              "2  12827269  ...  TECHNICAL FIELD Embodiments of the present inv...\n",
              "3  14436491  ...  BACKGROUND Cancer is thought to occur as a res...\n",
              "4  13633425  ...  CROSS-REFERENCE TO RELATED APPLICATIONS The pr...\n",
              "\n",
              "[5 rows x 3 columns]"
            ]
          },
          "metadata": {
            "tags": []
          },
          "execution_count": 92
        }
      ]
    },
    {
      "cell_type": "code",
      "metadata": {
        "id": "aH5kP4e-Ud0E",
        "colab_type": "code",
        "colab": {}
      },
      "source": [
        "grants[\"background\"] = grants[\"xml\"].map(whole_xml_to_background_grant).map(remove_linebreak_from_claim)"
      ],
      "execution_count": 0,
      "outputs": []
    },
    {
      "cell_type": "code",
      "metadata": {
        "id": "ccsqhwVmU5gs",
        "colab_type": "code",
        "outputId": "75f5dee2-194e-46bf-abb7-2e6687523101",
        "colab": {
          "base_uri": "https://localhost:8080/",
          "height": 34
        }
      },
      "source": [
        "grants[\"background\"][grants[\"background\"] == \"\"].index"
      ],
      "execution_count": 0,
      "outputs": [
        {
          "output_type": "execute_result",
          "data": {
            "text/plain": [
              "Int64Index([2309], dtype='int64')"
            ]
          },
          "metadata": {
            "tags": []
          },
          "execution_count": 105
        }
      ]
    },
    {
      "cell_type": "code",
      "metadata": {
        "id": "7P9O1dhcU9i0",
        "colab_type": "code",
        "outputId": "41ee67ad-fb69-4752-8941-06aa90ed3bfe",
        "colab": {
          "base_uri": "https://localhost:8080/",
          "height": 104
        }
      },
      "source": [
        "grants[\"background\"][2309] = \"background of the invention\""
      ],
      "execution_count": 0,
      "outputs": [
        {
          "output_type": "stream",
          "text": [
            "/usr/local/lib/python3.6/dist-packages/ipykernel_launcher.py:1: SettingWithCopyWarning: \n",
            "A value is trying to be set on a copy of a slice from a DataFrame\n",
            "\n",
            "See the caveats in the documentation: http://pandas.pydata.org/pandas-docs/stable/indexing.html#indexing-view-versus-copy\n",
            "  \"\"\"Entry point for launching an IPython kernel.\n"
          ],
          "name": "stderr"
        }
      ]
    },
    {
      "cell_type": "code",
      "metadata": {
        "id": "YVmgNdJfW5sW",
        "colab_type": "code",
        "outputId": "35247efc-51a5-475d-b0c0-30fc0101fb41",
        "colab": {
          "base_uri": "https://localhost:8080/",
          "height": 34
        }
      },
      "source": [
        "grants[\"background\"][grants[\"background\"] == \"\"]"
      ],
      "execution_count": 0,
      "outputs": [
        {
          "output_type": "execute_result",
          "data": {
            "text/plain": [
              "Series([], Name: background, dtype: object)"
            ]
          },
          "metadata": {
            "tags": []
          },
          "execution_count": 109
        }
      ]
    },
    {
      "cell_type": "code",
      "metadata": {
        "id": "TJtA4zRxXAG6",
        "colab_type": "code",
        "outputId": "45535d02-29de-499a-914f-d1169bba1b65",
        "colab": {
          "base_uri": "https://localhost:8080/",
          "height": 196
        }
      },
      "source": [
        "grants.head()"
      ],
      "execution_count": 0,
      "outputs": [
        {
          "output_type": "execute_result",
          "data": {
            "text/html": [
              "<div>\n",
              "<style scoped>\n",
              "    .dataframe tbody tr th:only-of-type {\n",
              "        vertical-align: middle;\n",
              "    }\n",
              "\n",
              "    .dataframe tbody tr th {\n",
              "        vertical-align: top;\n",
              "    }\n",
              "\n",
              "    .dataframe thead th {\n",
              "        text-align: right;\n",
              "    }\n",
              "</style>\n",
              "<table border=\"1\" class=\"dataframe\">\n",
              "  <thead>\n",
              "    <tr style=\"text-align: right;\">\n",
              "      <th></th>\n",
              "      <th>parsed</th>\n",
              "      <th>xml</th>\n",
              "      <th>background</th>\n",
              "    </tr>\n",
              "  </thead>\n",
              "  <tbody>\n",
              "    <tr>\n",
              "      <th>0</th>\n",
              "      <td>6837113</td>\n",
              "      <td>&lt;us-patent-grant lang=\"EN\" dtd-version=\"v40 20...</td>\n",
              "      <td>CROSS-REFERENCE TO RELATED APPLICATIONS Not Ap...</td>\n",
              "    </tr>\n",
              "    <tr>\n",
              "      <th>1</th>\n",
              "      <td>6837224</td>\n",
              "      <td>&lt;us-patent-grant lang=\"EN\" dtd-version=\"v40 20...</td>\n",
              "      <td>BACKGROUND OF THE INVENTION 1. Field of the In...</td>\n",
              "    </tr>\n",
              "    <tr>\n",
              "      <th>2</th>\n",
              "      <td>6837699</td>\n",
              "      <td>&lt;us-patent-grant lang=\"EN\" dtd-version=\"v40 20...</td>\n",
              "      <td>BACKGROUND OF THE INVENTION 1) Field of the In...</td>\n",
              "    </tr>\n",
              "    <tr>\n",
              "      <th>3</th>\n",
              "      <td>6837886</td>\n",
              "      <td>&lt;us-patent-grant lang=\"EN\" dtd-version=\"v40 20...</td>\n",
              "      <td>BACKGROUND OF THE INVENTION 1. Field of the In...</td>\n",
              "    </tr>\n",
              "    <tr>\n",
              "      <th>4</th>\n",
              "      <td>6837901</td>\n",
              "      <td>&lt;us-patent-grant lang=\"EN\" dtd-version=\"v40 20...</td>\n",
              "      <td>FIELD OF THE INVENTION The present invention g...</td>\n",
              "    </tr>\n",
              "  </tbody>\n",
              "</table>\n",
              "</div>"
            ],
            "text/plain": [
              "    parsed  ...                                         background\n",
              "0  6837113  ...  CROSS-REFERENCE TO RELATED APPLICATIONS Not Ap...\n",
              "1  6837224  ...  BACKGROUND OF THE INVENTION 1. Field of the In...\n",
              "2  6837699  ...  BACKGROUND OF THE INVENTION 1) Field of the In...\n",
              "3  6837886  ...  BACKGROUND OF THE INVENTION 1. Field of the In...\n",
              "4  6837901  ...  FIELD OF THE INVENTION The present invention g...\n",
              "\n",
              "[5 rows x 3 columns]"
            ]
          },
          "metadata": {
            "tags": []
          },
          "execution_count": 110
        }
      ]
    },
    {
      "cell_type": "code",
      "metadata": {
        "id": "CeWVWB_GXD3k",
        "colab_type": "code",
        "colab": {}
      },
      "source": [
        ""
      ],
      "execution_count": 0,
      "outputs": []
    },
    {
      "cell_type": "code",
      "metadata": {
        "id": "2_NBuN2AYhXr",
        "colab_type": "code",
        "colab": {}
      },
      "source": [
        "import re\n",
        "CLAIM_PAT = re.compile(r'<claims[^>]*>(.*)</claims>',re.MULTILINE|re.DOTALL)\n",
        "TAG_PAT = re.compile(r\"<.*?>\")\n",
        "LB_PAT = re.compile(r'[\\t\\n\\r\\f\\v][\" \"]*')\n",
        "CANCELED_PAT = re.compile(r'[0-9]+.*\\. \\(canceled\\)[\" \"]')\n",
        "NUM_PAT = re.compile(r'[\" \"]?[0-9]+[\" \"]?\\.[\" \"]?')\n",
        "\n",
        "def whole_xml_to_claim_xml(whole):\n",
        "    mat = CLAIM_PAT.search(whole)\n",
        "    return mat.group(1)\n",
        "def whole_xml_to_claim(whole):\n",
        "    return TAG_PAT.sub(' ', whole_xml_to_claim_xml(whole))\n",
        "\n",
        "def remove_linebreak_from_claim(claim):\n",
        "    '''\n",
        "    Remove line break symbol \"\\n\" with space(s).\n",
        "    '''\n",
        "    return LB_PAT.sub('', claim)\n",
        "\n",
        "def remove_canceled_claim(claim):\n",
        "    return CANCELED_PAT.sub('', claim)\n",
        "  \n",
        "def remove_claim_numbers(claim):\n",
        "    return NUM_PAT.sub('', claim)  "
      ],
      "execution_count": 0,
      "outputs": []
    },
    {
      "cell_type": "code",
      "metadata": {
        "id": "mNG26vc-YlDk",
        "colab_type": "code",
        "colab": {}
      },
      "source": [
        "training_app_3000[\"claim\"] = training_app_3000[\"xml\"].map(whole_xml_to_claim).map(remove_canceled_claim).map(remove_claim_numbers).map(remove_linebreak_from_claim)\n",
        "testset_app_3000[\"claim\"] = testset_app_3000[\"xml\"].map(whole_xml_to_claim).map(remove_canceled_claim).map(remove_claim_numbers).map(remove_linebreak_from_claim)\n",
        "grants[\"claim\"] = grants[\"xml\"].map(whole_xml_to_claim).map(remove_canceled_claim).map(remove_claim_numbers).map(remove_linebreak_from_claim)"
      ],
      "execution_count": 0,
      "outputs": []
    },
    {
      "cell_type": "code",
      "metadata": {
        "id": "bGmBzjWYYodD",
        "colab_type": "code",
        "colab": {}
      },
      "source": [
        "training_app_3000 = training_app_3000.drop(\"xml\", axis=1)\n",
        "testset_app_3000 = testset_app_3000.drop(\"xml\", axis=1)\n",
        "grants = grants.drop(\"xml\", axis=1)"
      ],
      "execution_count": 0,
      "outputs": []
    },
    {
      "cell_type": "code",
      "metadata": {
        "id": "hmCScCPLY2eQ",
        "colab_type": "code",
        "outputId": "76b5b1eb-8c87-4e53-b43c-138b1ebc1c0c",
        "colab": {
          "base_uri": "https://localhost:8080/",
          "height": 196
        }
      },
      "source": [
        "training_app_3000.head()"
      ],
      "execution_count": 0,
      "outputs": [
        {
          "output_type": "execute_result",
          "data": {
            "text/html": [
              "<div>\n",
              "<style scoped>\n",
              "    .dataframe tbody tr th:only-of-type {\n",
              "        vertical-align: middle;\n",
              "    }\n",
              "\n",
              "    .dataframe tbody tr th {\n",
              "        vertical-align: top;\n",
              "    }\n",
              "\n",
              "    .dataframe thead th {\n",
              "        text-align: right;\n",
              "    }\n",
              "</style>\n",
              "<table border=\"1\" class=\"dataframe\">\n",
              "  <thead>\n",
              "    <tr style=\"text-align: right;\">\n",
              "      <th></th>\n",
              "      <th>app_id</th>\n",
              "      <th>background</th>\n",
              "      <th>claim</th>\n",
              "    </tr>\n",
              "  </thead>\n",
              "  <tbody>\n",
              "    <tr>\n",
              "      <th>0</th>\n",
              "      <td>12130785</td>\n",
              "      <td>FIELD OF THE INVENTION The present disclosure ...</td>\n",
              "      <td>A system for differentiating noise from an arr...</td>\n",
              "    </tr>\n",
              "    <tr>\n",
              "      <th>1</th>\n",
              "      <td>12652424</td>\n",
              "      <td>BACKGROUND An organization may store data in a...</td>\n",
              "      <td>A method of allocating resources in a data war...</td>\n",
              "    </tr>\n",
              "    <tr>\n",
              "      <th>2</th>\n",
              "      <td>12214532</td>\n",
              "      <td>The disclosure of Japanese Patent Application ...</td>\n",
              "      <td>A controlling method of a media processing app...</td>\n",
              "    </tr>\n",
              "    <tr>\n",
              "      <th>3</th>\n",
              "      <td>14204411</td>\n",
              "      <td>BACKGROUND OF THE INVENTION 1. Field of the In...</td>\n",
              "      <td>An electronic percussion instrument comprising...</td>\n",
              "    </tr>\n",
              "    <tr>\n",
              "      <th>4</th>\n",
              "      <td>13090122</td>\n",
              "      <td>FIELD OF THE INVENTION The present invention e...</td>\n",
              "      <td>A composition comprising at least one active a...</td>\n",
              "    </tr>\n",
              "  </tbody>\n",
              "</table>\n",
              "</div>"
            ],
            "text/plain": [
              "     app_id  ...                                              claim\n",
              "0  12130785  ...  A system for differentiating noise from an arr...\n",
              "1  12652424  ...  A method of allocating resources in a data war...\n",
              "2  12214532  ...  A controlling method of a media processing app...\n",
              "3  14204411  ...  An electronic percussion instrument comprising...\n",
              "4  13090122  ...  A composition comprising at least one active a...\n",
              "\n",
              "[5 rows x 3 columns]"
            ]
          },
          "metadata": {
            "tags": []
          },
          "execution_count": 115
        }
      ]
    },
    {
      "cell_type": "code",
      "metadata": {
        "id": "U9iLZN49ZCKg",
        "colab_type": "code",
        "outputId": "ec57a8bb-27bb-48d9-f157-2f07b376f540",
        "colab": {
          "base_uri": "https://localhost:8080/",
          "height": 196
        }
      },
      "source": [
        "testset_app_3000.head()"
      ],
      "execution_count": 0,
      "outputs": [
        {
          "output_type": "execute_result",
          "data": {
            "text/html": [
              "<div>\n",
              "<style scoped>\n",
              "    .dataframe tbody tr th:only-of-type {\n",
              "        vertical-align: middle;\n",
              "    }\n",
              "\n",
              "    .dataframe tbody tr th {\n",
              "        vertical-align: top;\n",
              "    }\n",
              "\n",
              "    .dataframe thead th {\n",
              "        text-align: right;\n",
              "    }\n",
              "</style>\n",
              "<table border=\"1\" class=\"dataframe\">\n",
              "  <thead>\n",
              "    <tr style=\"text-align: right;\">\n",
              "      <th></th>\n",
              "      <th>app_id</th>\n",
              "      <th>background</th>\n",
              "      <th>claim</th>\n",
              "    </tr>\n",
              "  </thead>\n",
              "  <tbody>\n",
              "    <tr>\n",
              "      <th>0</th>\n",
              "      <td>12211548</td>\n",
              "      <td>FIELD OF THE INVENTION The present invention r...</td>\n",
              "      <td>A method for ranking an entity against a group...</td>\n",
              "    </tr>\n",
              "    <tr>\n",
              "      <th>1</th>\n",
              "      <td>12765236</td>\n",
              "      <td>The field of the invention is that of dental c...</td>\n",
              "      <td>A dental composition comprising:(1) at least o...</td>\n",
              "    </tr>\n",
              "    <tr>\n",
              "      <th>2</th>\n",
              "      <td>12827269</td>\n",
              "      <td>TECHNICAL FIELD Embodiments of the present inv...</td>\n",
              "      <td>A vehicle, comprising:a chassis; a platform su...</td>\n",
              "    </tr>\n",
              "    <tr>\n",
              "      <th>3</th>\n",
              "      <td>14436491</td>\n",
              "      <td>BACKGROUND Cancer is thought to occur as a res...</td>\n",
              "      <td>A conjugate comprising a GM-CSF polypeptide an...</td>\n",
              "    </tr>\n",
              "    <tr>\n",
              "      <th>4</th>\n",
              "      <td>13633425</td>\n",
              "      <td>CROSS-REFERENCE TO RELATED APPLICATIONS The pr...</td>\n",
              "      <td>A method for manufacturing a stack package, co...</td>\n",
              "    </tr>\n",
              "  </tbody>\n",
              "</table>\n",
              "</div>"
            ],
            "text/plain": [
              "     app_id  ...                                              claim\n",
              "0  12211548  ...  A method for ranking an entity against a group...\n",
              "1  12765236  ...  A dental composition comprising:(1) at least o...\n",
              "2  12827269  ...  A vehicle, comprising:a chassis; a platform su...\n",
              "3  14436491  ...  A conjugate comprising a GM-CSF polypeptide an...\n",
              "4  13633425  ...  A method for manufacturing a stack package, co...\n",
              "\n",
              "[5 rows x 3 columns]"
            ]
          },
          "metadata": {
            "tags": []
          },
          "execution_count": 116
        }
      ]
    },
    {
      "cell_type": "code",
      "metadata": {
        "id": "dwRDQj3KZE44",
        "colab_type": "code",
        "outputId": "fa18dc3c-0c3a-4c0e-a181-7df64083aba5",
        "colab": {
          "base_uri": "https://localhost:8080/",
          "height": 196
        }
      },
      "source": [
        "grants.head()"
      ],
      "execution_count": 0,
      "outputs": [
        {
          "output_type": "execute_result",
          "data": {
            "text/html": [
              "<div>\n",
              "<style scoped>\n",
              "    .dataframe tbody tr th:only-of-type {\n",
              "        vertical-align: middle;\n",
              "    }\n",
              "\n",
              "    .dataframe tbody tr th {\n",
              "        vertical-align: top;\n",
              "    }\n",
              "\n",
              "    .dataframe thead th {\n",
              "        text-align: right;\n",
              "    }\n",
              "</style>\n",
              "<table border=\"1\" class=\"dataframe\">\n",
              "  <thead>\n",
              "    <tr style=\"text-align: right;\">\n",
              "      <th></th>\n",
              "      <th>parsed</th>\n",
              "      <th>background</th>\n",
              "      <th>claim</th>\n",
              "    </tr>\n",
              "  </thead>\n",
              "  <tbody>\n",
              "    <tr>\n",
              "      <th>0</th>\n",
              "      <td>6837113</td>\n",
              "      <td>CROSS-REFERENCE TO RELATED APPLICATIONS Not Ap...</td>\n",
              "      <td>A method for determining an estimated velocity...</td>\n",
              "    </tr>\n",
              "    <tr>\n",
              "      <th>1</th>\n",
              "      <td>6837224</td>\n",
              "      <td>BACKGROUND OF THE INVENTION 1. Field of the In...</td>\n",
              "      <td>An evaporated fuel treatment device for intern...</td>\n",
              "    </tr>\n",
              "    <tr>\n",
              "      <th>2</th>\n",
              "      <td>6837699</td>\n",
              "      <td>BACKGROUND OF THE INVENTION 1) Field of the In...</td>\n",
              "      <td>An apparatus for clamping used in molding appl...</td>\n",
              "    </tr>\n",
              "    <tr>\n",
              "      <th>3</th>\n",
              "      <td>6837886</td>\n",
              "      <td>BACKGROUND OF THE INVENTION 1. Field of the In...</td>\n",
              "      <td>A system, comprising:a catheter having a braid...</td>\n",
              "    </tr>\n",
              "    <tr>\n",
              "      <th>4</th>\n",
              "      <td>6837901</td>\n",
              "      <td>FIELD OF THE INVENTION The present invention g...</td>\n",
              "      <td>The method of delivering a shape memory stent ...</td>\n",
              "    </tr>\n",
              "  </tbody>\n",
              "</table>\n",
              "</div>"
            ],
            "text/plain": [
              "    parsed  ...                                              claim\n",
              "0  6837113  ...  A method for determining an estimated velocity...\n",
              "1  6837224  ...  An evaporated fuel treatment device for intern...\n",
              "2  6837699  ...  An apparatus for clamping used in molding appl...\n",
              "3  6837886  ...  A system, comprising:a catheter having a braid...\n",
              "4  6837901  ...  The method of delivering a shape memory stent ...\n",
              "\n",
              "[5 rows x 3 columns]"
            ]
          },
          "metadata": {
            "tags": []
          },
          "execution_count": 117
        }
      ]
    },
    {
      "cell_type": "code",
      "metadata": {
        "id": "CEjbMIb1ZGg6",
        "colab_type": "code",
        "colab": {}
      },
      "source": [
        "train_data = pd.merge(training_app_3000, citations_info, on='app_id')[['app_id', 'claim', 'background', 'parsed']]\n",
        "test_data = pd.merge(testset_app_3000, citations_info, on='app_id')[['app_id', 'claim', 'background', 'parsed']]"
      ],
      "execution_count": 0,
      "outputs": []
    },
    {
      "cell_type": "code",
      "metadata": {
        "id": "Fn4s93QqZbTB",
        "colab_type": "code",
        "colab": {}
      },
      "source": [
        "train_data['label'] = 1\n",
        "test_data['label'] = 1"
      ],
      "execution_count": 0,
      "outputs": []
    },
    {
      "cell_type": "code",
      "metadata": {
        "id": "XK1AFKz-ZlLl",
        "colab_type": "code",
        "colab": {}
      },
      "source": [
        "train_data = train_data.merge(grants, how='inner', on='parsed')\n",
        "test_data = test_data.merge(grants, how='inner', on='parsed')"
      ],
      "execution_count": 0,
      "outputs": []
    },
    {
      "cell_type": "code",
      "metadata": {
        "id": "ZEpIrdRFZvnN",
        "colab_type": "code",
        "outputId": "6949276d-e26c-4419-a365-1dcedf1a86bd",
        "colab": {
          "base_uri": "https://localhost:8080/",
          "height": 280
        }
      },
      "source": [
        "train_data.head()"
      ],
      "execution_count": 0,
      "outputs": [
        {
          "output_type": "execute_result",
          "data": {
            "text/html": [
              "<div>\n",
              "<style scoped>\n",
              "    .dataframe tbody tr th:only-of-type {\n",
              "        vertical-align: middle;\n",
              "    }\n",
              "\n",
              "    .dataframe tbody tr th {\n",
              "        vertical-align: top;\n",
              "    }\n",
              "\n",
              "    .dataframe thead th {\n",
              "        text-align: right;\n",
              "    }\n",
              "</style>\n",
              "<table border=\"1\" class=\"dataframe\">\n",
              "  <thead>\n",
              "    <tr style=\"text-align: right;\">\n",
              "      <th></th>\n",
              "      <th>app_id</th>\n",
              "      <th>claim_x</th>\n",
              "      <th>background_x</th>\n",
              "      <th>parsed</th>\n",
              "      <th>label</th>\n",
              "      <th>background_y</th>\n",
              "      <th>claim_y</th>\n",
              "    </tr>\n",
              "  </thead>\n",
              "  <tbody>\n",
              "    <tr>\n",
              "      <th>0</th>\n",
              "      <td>12130785</td>\n",
              "      <td>A system for differentiating noise from an arr...</td>\n",
              "      <td>FIELD OF THE INVENTION The present disclosure ...</td>\n",
              "      <td>7212849</td>\n",
              "      <td>1</td>\n",
              "      <td>CROSS-REFERENCE TO RELATED APPLICATIONS This a...</td>\n",
              "      <td>A cardiac rhythm management (CRM) system, comp...</td>\n",
              "    </tr>\n",
              "    <tr>\n",
              "      <th>1</th>\n",
              "      <td>12652424</td>\n",
              "      <td>A method of allocating resources in a data war...</td>\n",
              "      <td>BACKGROUND An organization may store data in a...</td>\n",
              "      <td>7814459</td>\n",
              "      <td>1</td>\n",
              "      <td>TRADEMARKS IBM&amp;#xae; is a registered trademark...</td>\n",
              "      <td>A computer-implemented method of automated dat...</td>\n",
              "    </tr>\n",
              "    <tr>\n",
              "      <th>2</th>\n",
              "      <td>12652424</td>\n",
              "      <td>A method of allocating resources in a data war...</td>\n",
              "      <td>BACKGROUND An organization may store data in a...</td>\n",
              "      <td>7814459</td>\n",
              "      <td>1</td>\n",
              "      <td>TRADEMARKS IBM&amp;#xae; is a registered trademark...</td>\n",
              "      <td>A computer-implemented method of automated dat...</td>\n",
              "    </tr>\n",
              "    <tr>\n",
              "      <th>3</th>\n",
              "      <td>12214532</td>\n",
              "      <td>A controlling method of a media processing app...</td>\n",
              "      <td>The disclosure of Japanese Patent Application ...</td>\n",
              "      <td>7652956</td>\n",
              "      <td>1</td>\n",
              "      <td>This application is a 371 of PCT/JP05/10057, f...</td>\n",
              "      <td>A disc drive comprising:a housing having forme...</td>\n",
              "    </tr>\n",
              "    <tr>\n",
              "      <th>4</th>\n",
              "      <td>14204411</td>\n",
              "      <td>An electronic percussion instrument comprising...</td>\n",
              "      <td>BACKGROUND OF THE INVENTION 1. Field of the In...</td>\n",
              "      <td>7439432</td>\n",
              "      <td>1</td>\n",
              "      <td>BACKGROUND OF THE INVENTION 1. Field of the In...</td>\n",
              "      <td>A pad for an electronic drum, comprising:a bod...</td>\n",
              "    </tr>\n",
              "  </tbody>\n",
              "</table>\n",
              "</div>"
            ],
            "text/plain": [
              "     app_id  ...                                            claim_y\n",
              "0  12130785  ...  A cardiac rhythm management (CRM) system, comp...\n",
              "1  12652424  ...  A computer-implemented method of automated dat...\n",
              "2  12652424  ...  A computer-implemented method of automated dat...\n",
              "3  12214532  ...  A disc drive comprising:a housing having forme...\n",
              "4  14204411  ...  A pad for an electronic drum, comprising:a bod...\n",
              "\n",
              "[5 rows x 7 columns]"
            ]
          },
          "metadata": {
            "tags": []
          },
          "execution_count": 125
        }
      ]
    },
    {
      "cell_type": "code",
      "metadata": {
        "id": "T4gue8YnZxAH",
        "colab_type": "code",
        "outputId": "c0f4264a-8f6a-4ceb-992c-8ea2f0f5a5ab",
        "colab": {
          "base_uri": "https://localhost:8080/",
          "height": 280
        }
      },
      "source": [
        "test_data.head()"
      ],
      "execution_count": 0,
      "outputs": [
        {
          "output_type": "execute_result",
          "data": {
            "text/html": [
              "<div>\n",
              "<style scoped>\n",
              "    .dataframe tbody tr th:only-of-type {\n",
              "        vertical-align: middle;\n",
              "    }\n",
              "\n",
              "    .dataframe tbody tr th {\n",
              "        vertical-align: top;\n",
              "    }\n",
              "\n",
              "    .dataframe thead th {\n",
              "        text-align: right;\n",
              "    }\n",
              "</style>\n",
              "<table border=\"1\" class=\"dataframe\">\n",
              "  <thead>\n",
              "    <tr style=\"text-align: right;\">\n",
              "      <th></th>\n",
              "      <th>app_id</th>\n",
              "      <th>claim_x</th>\n",
              "      <th>background_x</th>\n",
              "      <th>parsed</th>\n",
              "      <th>label</th>\n",
              "      <th>background_y</th>\n",
              "      <th>claim_y</th>\n",
              "    </tr>\n",
              "  </thead>\n",
              "  <tbody>\n",
              "    <tr>\n",
              "      <th>0</th>\n",
              "      <td>12211548</td>\n",
              "      <td>A method for ranking an entity against a group...</td>\n",
              "      <td>FIELD OF THE INVENTION The present invention r...</td>\n",
              "      <td>7092898</td>\n",
              "      <td>1</td>\n",
              "      <td>CROSS-REFERENCE TO SUBMITTED APPENDICIES The f...</td>\n",
              "      <td>A data processing method using a computer netw...</td>\n",
              "    </tr>\n",
              "    <tr>\n",
              "      <th>1</th>\n",
              "      <td>12765236</td>\n",
              "      <td>A dental composition comprising:(1) at least o...</td>\n",
              "      <td>The field of the invention is that of dental c...</td>\n",
              "      <td>7740482</td>\n",
              "      <td>1</td>\n",
              "      <td>BACKGROUND 1 Filed of the Invention The field ...</td>\n",
              "      <td>A dental composition comprising:(1) at least o...</td>\n",
              "    </tr>\n",
              "    <tr>\n",
              "      <th>2</th>\n",
              "      <td>12827269</td>\n",
              "      <td>A vehicle, comprising:a chassis; a platform su...</td>\n",
              "      <td>TECHNICAL FIELD Embodiments of the present inv...</td>\n",
              "      <td>7213662</td>\n",
              "      <td>1</td>\n",
              "      <td>BACKGROUND OF THE INVENTION The present invent...</td>\n",
              "      <td>A mower having a pair of drive wheels operably...</td>\n",
              "    </tr>\n",
              "    <tr>\n",
              "      <th>3</th>\n",
              "      <td>14436491</td>\n",
              "      <td>A conjugate comprising a GM-CSF polypeptide an...</td>\n",
              "      <td>BACKGROUND Cancer is thought to occur as a res...</td>\n",
              "      <td>7217421</td>\n",
              "      <td>1</td>\n",
              "      <td>FIELD OF THE INVENTION The present invention r...</td>\n",
              "      <td>A composition for generating an immune respons...</td>\n",
              "    </tr>\n",
              "    <tr>\n",
              "      <th>4</th>\n",
              "      <td>13633425</td>\n",
              "      <td>A method for manufacturing a stack package, co...</td>\n",
              "      <td>CROSS-REFERENCE TO RELATED APPLICATIONS The pr...</td>\n",
              "      <td>7989943</td>\n",
              "      <td>1</td>\n",
              "      <td>CROSS-REFERENCE TO RELATED APPLICATIONS The pr...</td>\n",
              "      <td>A stacked semiconductor package comprising:a s...</td>\n",
              "    </tr>\n",
              "  </tbody>\n",
              "</table>\n",
              "</div>"
            ],
            "text/plain": [
              "     app_id  ...                                            claim_y\n",
              "0  12211548  ...  A data processing method using a computer netw...\n",
              "1  12765236  ...  A dental composition comprising:(1) at least o...\n",
              "2  12827269  ...  A mower having a pair of drive wheels operably...\n",
              "3  14436491  ...  A composition for generating an immune respons...\n",
              "4  13633425  ...  A stacked semiconductor package comprising:a s...\n",
              "\n",
              "[5 rows x 7 columns]"
            ]
          },
          "metadata": {
            "tags": []
          },
          "execution_count": 126
        }
      ]
    },
    {
      "cell_type": "code",
      "metadata": {
        "id": "vzm0c1KaaLTa",
        "colab_type": "code",
        "colab": {}
      },
      "source": [
        "def pick_up_uncited_grants(df, app_id, n=1, random_state=23):\n",
        "    '''\n",
        "    Randomly pick up uncited grant pair to a given app_id for generating negative samples.\n",
        "    '''\n",
        "    n_rows = df[ df['app_id'] != app_id ].sample(n=n, random_state=random_state)\n",
        "    \n",
        "    return [n_rows['parsed'].values[0], 0 ,n_rows['claim_y'].values[0], n_rows['background_y'].values[0]]"
      ],
      "execution_count": 0,
      "outputs": []
    },
    {
      "cell_type": "code",
      "metadata": {
        "id": "z70BvZ_majJ1",
        "colab_type": "code",
        "outputId": "7ef5f1b0-4362-4352-bf5b-d81d97af2c2b",
        "colab": {
          "base_uri": "https://localhost:8080/",
          "height": 280
        }
      },
      "source": [
        "seed = 23\n",
        "\n",
        "train_non_cited_data = pd.DataFrame([\n",
        "    [app_id, claimx, backgroundx] + pick_up_uncited_grants(train_data, app_id, random_state=seed+idx)\n",
        "    for idx, (app_id, claimx, backgroundx)\n",
        "    in enumerate(zip(train_data['app_id'], train_data['claim_x'], train_data['background_x']))\n",
        "])\n",
        "\n",
        "train_non_cited_data.columns = train_data.columns\n",
        "\n",
        "train_non_cited_data.head()"
      ],
      "execution_count": 0,
      "outputs": [
        {
          "output_type": "execute_result",
          "data": {
            "text/html": [
              "<div>\n",
              "<style scoped>\n",
              "    .dataframe tbody tr th:only-of-type {\n",
              "        vertical-align: middle;\n",
              "    }\n",
              "\n",
              "    .dataframe tbody tr th {\n",
              "        vertical-align: top;\n",
              "    }\n",
              "\n",
              "    .dataframe thead th {\n",
              "        text-align: right;\n",
              "    }\n",
              "</style>\n",
              "<table border=\"1\" class=\"dataframe\">\n",
              "  <thead>\n",
              "    <tr style=\"text-align: right;\">\n",
              "      <th></th>\n",
              "      <th>app_id</th>\n",
              "      <th>claim_x</th>\n",
              "      <th>background_x</th>\n",
              "      <th>parsed</th>\n",
              "      <th>label</th>\n",
              "      <th>background_y</th>\n",
              "      <th>claim_y</th>\n",
              "    </tr>\n",
              "  </thead>\n",
              "  <tbody>\n",
              "    <tr>\n",
              "      <th>0</th>\n",
              "      <td>12130785</td>\n",
              "      <td>A system for differentiating noise from an arr...</td>\n",
              "      <td>FIELD OF THE INVENTION The present disclosure ...</td>\n",
              "      <td>7848141</td>\n",
              "      <td>0</td>\n",
              "      <td>A multi-level cell copyback program method in ...</td>\n",
              "      <td>CROSS-REFERENCE TO RELATED APPLICATIONS This a...</td>\n",
              "    </tr>\n",
              "    <tr>\n",
              "      <th>1</th>\n",
              "      <td>12652424</td>\n",
              "      <td>A method of allocating resources in a data war...</td>\n",
              "      <td>BACKGROUND An organization may store data in a...</td>\n",
              "      <td>7353145</td>\n",
              "      <td>0</td>\n",
              "      <td>A computer implemented method for correcting a...</td>\n",
              "      <td>CROSS REFERENCE TO RELATED APPLICATIONS This a...</td>\n",
              "    </tr>\n",
              "    <tr>\n",
              "      <th>2</th>\n",
              "      <td>12652424</td>\n",
              "      <td>A method of allocating resources in a data war...</td>\n",
              "      <td>BACKGROUND An organization may store data in a...</td>\n",
              "      <td>6928488</td>\n",
              "      <td>0</td>\n",
              "      <td>A serialization and deserialization architectu...</td>\n",
              "      <td>TECHNICAL FIELD The present invention relates ...</td>\n",
              "    </tr>\n",
              "    <tr>\n",
              "      <th>3</th>\n",
              "      <td>12214532</td>\n",
              "      <td>A controlling method of a media processing app...</td>\n",
              "      <td>The disclosure of Japanese Patent Application ...</td>\n",
              "      <td>7287122</td>\n",
              "      <td>0</td>\n",
              "      <td>A method of managing a cache structure of a mu...</td>\n",
              "      <td>BACKGROUND OF THE INVENTION 1. Field of the In...</td>\n",
              "    </tr>\n",
              "    <tr>\n",
              "      <th>4</th>\n",
              "      <td>14204411</td>\n",
              "      <td>An electronic percussion instrument comprising...</td>\n",
              "      <td>BACKGROUND OF THE INVENTION 1. Field of the In...</td>\n",
              "      <td>7058343</td>\n",
              "      <td>0</td>\n",
              "      <td>A non-marking media consumable material for us...</td>\n",
              "      <td>BACKGROUND 1. Field This invention is directed...</td>\n",
              "    </tr>\n",
              "  </tbody>\n",
              "</table>\n",
              "</div>"
            ],
            "text/plain": [
              "     app_id  ...                                            claim_y\n",
              "0  12130785  ...  CROSS-REFERENCE TO RELATED APPLICATIONS This a...\n",
              "1  12652424  ...  CROSS REFERENCE TO RELATED APPLICATIONS This a...\n",
              "2  12652424  ...  TECHNICAL FIELD The present invention relates ...\n",
              "3  12214532  ...  BACKGROUND OF THE INVENTION 1. Field of the In...\n",
              "4  14204411  ...  BACKGROUND 1. Field This invention is directed...\n",
              "\n",
              "[5 rows x 7 columns]"
            ]
          },
          "metadata": {
            "tags": []
          },
          "execution_count": 129
        }
      ]
    },
    {
      "cell_type": "code",
      "metadata": {
        "id": "SFaDIdQ8bH2v",
        "colab_type": "code",
        "outputId": "2696f699-b3f1-479b-b1f5-e61078bf6402",
        "colab": {
          "base_uri": "https://localhost:8080/",
          "height": 280
        }
      },
      "source": [
        "seed = 23\n",
        "\n",
        "test_non_cited_data = pd.DataFrame([\n",
        "    [app_id, claimx, backgroundx] + pick_up_uncited_grants(test_data, app_id, random_state=seed+idx)\n",
        "    for idx, (app_id, claimx, backgroundx)\n",
        "    in enumerate(zip(test_data['app_id'], test_data['claim_x'], test_data['background_x']))\n",
        "])\n",
        "\n",
        "test_non_cited_data.columns = test_data.columns\n",
        "\n",
        "test_non_cited_data.head()"
      ],
      "execution_count": 0,
      "outputs": [
        {
          "output_type": "execute_result",
          "data": {
            "text/html": [
              "<div>\n",
              "<style scoped>\n",
              "    .dataframe tbody tr th:only-of-type {\n",
              "        vertical-align: middle;\n",
              "    }\n",
              "\n",
              "    .dataframe tbody tr th {\n",
              "        vertical-align: top;\n",
              "    }\n",
              "\n",
              "    .dataframe thead th {\n",
              "        text-align: right;\n",
              "    }\n",
              "</style>\n",
              "<table border=\"1\" class=\"dataframe\">\n",
              "  <thead>\n",
              "    <tr style=\"text-align: right;\">\n",
              "      <th></th>\n",
              "      <th>app_id</th>\n",
              "      <th>claim_x</th>\n",
              "      <th>background_x</th>\n",
              "      <th>parsed</th>\n",
              "      <th>label</th>\n",
              "      <th>background_y</th>\n",
              "      <th>claim_y</th>\n",
              "    </tr>\n",
              "  </thead>\n",
              "  <tbody>\n",
              "    <tr>\n",
              "      <th>0</th>\n",
              "      <td>12211548</td>\n",
              "      <td>A method for ranking an entity against a group...</td>\n",
              "      <td>FIELD OF THE INVENTION The present invention r...</td>\n",
              "      <td>6989640</td>\n",
              "      <td>0</td>\n",
              "      <td>An actuator driving device of a working machin...</td>\n",
              "      <td>TECHNICAL FIELD The present invention relates ...</td>\n",
              "    </tr>\n",
              "    <tr>\n",
              "      <th>1</th>\n",
              "      <td>12765236</td>\n",
              "      <td>A dental composition comprising:(1) at least o...</td>\n",
              "      <td>The field of the invention is that of dental c...</td>\n",
              "      <td>6969674</td>\n",
              "      <td>0</td>\n",
              "      <td>A method for making a fine pitch flip chip sub...</td>\n",
              "      <td>FIELD OF THE INVENTION The invention relates t...</td>\n",
              "    </tr>\n",
              "    <tr>\n",
              "      <th>2</th>\n",
              "      <td>12827269</td>\n",
              "      <td>A vehicle, comprising:a chassis; a platform su...</td>\n",
              "      <td>TECHNICAL FIELD Embodiments of the present inv...</td>\n",
              "      <td>8012334</td>\n",
              "      <td>0</td>\n",
              "      <td>A composition comprising one or more sources o...</td>\n",
              "      <td>The present invention is directed to metal pla...</td>\n",
              "    </tr>\n",
              "    <tr>\n",
              "      <th>3</th>\n",
              "      <td>14436491</td>\n",
              "      <td>A conjugate comprising a GM-CSF polypeptide an...</td>\n",
              "      <td>BACKGROUND Cancer is thought to occur as a res...</td>\n",
              "      <td>7523553</td>\n",
              "      <td>0</td>\n",
              "      <td>A method of manufacturing an ink jet recording...</td>\n",
              "      <td>BACKGROUND OF THE INVENTION 1. Field of the In...</td>\n",
              "    </tr>\n",
              "    <tr>\n",
              "      <th>4</th>\n",
              "      <td>13633425</td>\n",
              "      <td>A method for manufacturing a stack package, co...</td>\n",
              "      <td>CROSS-REFERENCE TO RELATED APPLICATIONS The pr...</td>\n",
              "      <td>6901791</td>\n",
              "      <td>0</td>\n",
              "      <td>A method for diagnosing a fuel supply system o...</td>\n",
              "      <td>FIELD OF THE INVENTION The present invention r...</td>\n",
              "    </tr>\n",
              "  </tbody>\n",
              "</table>\n",
              "</div>"
            ],
            "text/plain": [
              "     app_id  ...                                            claim_y\n",
              "0  12211548  ...  TECHNICAL FIELD The present invention relates ...\n",
              "1  12765236  ...  FIELD OF THE INVENTION The invention relates t...\n",
              "2  12827269  ...  The present invention is directed to metal pla...\n",
              "3  14436491  ...  BACKGROUND OF THE INVENTION 1. Field of the In...\n",
              "4  13633425  ...  FIELD OF THE INVENTION The present invention r...\n",
              "\n",
              "[5 rows x 7 columns]"
            ]
          },
          "metadata": {
            "tags": []
          },
          "execution_count": 130
        }
      ]
    },
    {
      "cell_type": "code",
      "metadata": {
        "id": "ns5RRTfibe4i",
        "colab_type": "code",
        "colab": {}
      },
      "source": [
        "train_data = pd.concat([train_data, train_non_cited_data]).reset_index(drop=True)\n",
        "test_data = pd.concat([test_data, test_non_cited_data]).reset_index(drop=True)\n",
        "\n",
        "train_data = train_data.loc[:, ['index', 'app_id', 'claim_x', 'background_x','parsed', 'claim_y', 'background_y', 'label']]\n",
        "test_data = test_data.loc[:, ['index', 'app_id', 'claim_x', 'background_x', 'parsed', 'claim_y', 'background_y', 'label']]\n",
        "\n",
        "train_data.columns = ['index', 'app_id', 'claim_app', 'background_app','parsed', 'claim_grant', 'background_grant', 'label']\n",
        "test_data.columns = ['index', 'app_id', 'claim_app', 'background_app','parsed', 'claim_grant', 'background_grant', 'label']"
      ],
      "execution_count": 0,
      "outputs": []
    },
    {
      "cell_type": "code",
      "metadata": {
        "id": "ptgSchTrcy-0",
        "colab_type": "code",
        "colab": {}
      },
      "source": [
        "train_data = train_data.drop(\"index\", axis=1)\n",
        "test_data = test_data.drop(\"index\", axis=1)"
      ],
      "execution_count": 0,
      "outputs": []
    },
    {
      "cell_type": "code",
      "metadata": {
        "id": "AIzvdqJqc0_Y",
        "colab_type": "code",
        "colab": {}
      },
      "source": [
        "train_data = train_data.sample(frac=1, random_state=seed).reset_index(drop=True)\n",
        "test_data = test_data.sample(frac=1, random_state=seed).reset_index(drop=True)"
      ],
      "execution_count": 0,
      "outputs": []
    },
    {
      "cell_type": "code",
      "metadata": {
        "id": "kmhLxY73dYqj",
        "colab_type": "code",
        "outputId": "ae79cfd5-f1ad-4575-9430-23c00f7c7f4d",
        "colab": {
          "base_uri": "https://localhost:8080/",
          "height": 280
        }
      },
      "source": [
        "train_data.head()"
      ],
      "execution_count": 0,
      "outputs": [
        {
          "output_type": "execute_result",
          "data": {
            "text/html": [
              "<div>\n",
              "<style scoped>\n",
              "    .dataframe tbody tr th:only-of-type {\n",
              "        vertical-align: middle;\n",
              "    }\n",
              "\n",
              "    .dataframe tbody tr th {\n",
              "        vertical-align: top;\n",
              "    }\n",
              "\n",
              "    .dataframe thead th {\n",
              "        text-align: right;\n",
              "    }\n",
              "</style>\n",
              "<table border=\"1\" class=\"dataframe\">\n",
              "  <thead>\n",
              "    <tr style=\"text-align: right;\">\n",
              "      <th></th>\n",
              "      <th>app_id</th>\n",
              "      <th>claim_app</th>\n",
              "      <th>background_app</th>\n",
              "      <th>parsed</th>\n",
              "      <th>claim_grant</th>\n",
              "      <th>background_grant</th>\n",
              "      <th>label</th>\n",
              "    </tr>\n",
              "  </thead>\n",
              "  <tbody>\n",
              "    <tr>\n",
              "      <th>0</th>\n",
              "      <td>15116396</td>\n",
              "      <td>Ringed tubular sheath comprising:two internal ...</td>\n",
              "      <td>The invention relates to a ringed tubular shea...</td>\n",
              "      <td>7706961</td>\n",
              "      <td>BACKGROUND OF THE INVENTION 1. Field of the In...</td>\n",
              "      <td>A method of controlling a diesel engine, compr...</td>\n",
              "      <td>0</td>\n",
              "    </tr>\n",
              "    <tr>\n",
              "      <th>1</th>\n",
              "      <td>12312598</td>\n",
              "      <td>An exhaust purification system of an internal ...</td>\n",
              "      <td>TECHNICAL FIELD The present invention relates ...</td>\n",
              "      <td>7150145</td>\n",
              "      <td>A method for controlling dosage of an external...</td>\n",
              "      <td>This invention relates generally to nitrogen o...</td>\n",
              "      <td>1</td>\n",
              "    </tr>\n",
              "    <tr>\n",
              "      <th>2</th>\n",
              "      <td>13835416</td>\n",
              "      <td>A shell-type gyroscope comprising:a resonator ...</td>\n",
              "      <td>TECHNICAL FIELD The present invention relates ...</td>\n",
              "      <td>8150872</td>\n",
              "      <td>FIELD OF THE INVENTION The present invention r...</td>\n",
              "      <td>A query system, comprising:a computing device ...</td>\n",
              "      <td>0</td>\n",
              "    </tr>\n",
              "    <tr>\n",
              "      <th>3</th>\n",
              "      <td>13709382</td>\n",
              "      <td>A bicycle rear derailleur comprising:a base me...</td>\n",
              "      <td>BACKGROUND 1. Field of the Invention This inve...</td>\n",
              "      <td>6997835</td>\n",
              "      <td>A derailleur for a bicycle comprising:a base m...</td>\n",
              "      <td>BACKGROUND OF THE INVENTION The present invent...</td>\n",
              "      <td>1</td>\n",
              "    </tr>\n",
              "    <tr>\n",
              "      <th>4</th>\n",
              "      <td>14927045</td>\n",
              "      <td>A manufacturing method of a display device, co...</td>\n",
              "      <td>RELATED APPLICATIONS This application claims p...</td>\n",
              "      <td>7273403</td>\n",
              "      <td>A method of manufacturing flat display apparat...</td>\n",
              "      <td>BACKGROUND OF THE INVENTION 1. Field of the In...</td>\n",
              "      <td>1</td>\n",
              "    </tr>\n",
              "  </tbody>\n",
              "</table>\n",
              "</div>"
            ],
            "text/plain": [
              "     app_id  ... label\n",
              "0  15116396  ...     0\n",
              "1  12312598  ...     1\n",
              "2  13835416  ...     0\n",
              "3  13709382  ...     1\n",
              "4  14927045  ...     1\n",
              "\n",
              "[5 rows x 7 columns]"
            ]
          },
          "metadata": {
            "tags": []
          },
          "execution_count": 136
        }
      ]
    },
    {
      "cell_type": "code",
      "metadata": {
        "id": "OXQ0k2E_dZ4y",
        "colab_type": "code",
        "outputId": "7a667920-3d31-4897-ddc5-432e64b20fcd",
        "colab": {
          "base_uri": "https://localhost:8080/",
          "height": 69
        }
      },
      "source": [
        "import gzip\n",
        "import pickle\n",
        "\n",
        "filename = \"train_data_with_background.pkl.gz\"\n",
        "\n",
        "with gzip.open(filename, 'w') as f:\n",
        "  pickle.dump(train_data, f)\n",
        "!gsutil cp {filename} gs://mlstudy-phys/data/"
      ],
      "execution_count": 0,
      "outputs": [
        {
          "output_type": "stream",
          "text": [
            "Copying file://train_data_with_background.pkl.gz [Content-Type=application/octet-stream]...\n",
            "-\n",
            "Operation completed over 1 objects/20.8 MiB.                                     \n"
          ],
          "name": "stdout"
        }
      ]
    },
    {
      "cell_type": "code",
      "metadata": {
        "id": "lGgUa2wtdttN",
        "colab_type": "code",
        "outputId": "8595b145-6483-4d01-ed2a-61e766f0f9d3",
        "colab": {
          "base_uri": "https://localhost:8080/",
          "height": 69
        }
      },
      "source": [
        "import gzip\n",
        "import pickle\n",
        "\n",
        "filename = \"test_data_with_background.pkl.gz\"\n",
        "\n",
        "with gzip.open(filename, 'w') as f:\n",
        "  pickle.dump(test_data, f)\n",
        "!gsutil cp {filename} gs://mlstudy-phys/data/"
      ],
      "execution_count": 0,
      "outputs": [
        {
          "output_type": "stream",
          "text": [
            "Copying file://test_data_with_background.pkl.gz [Content-Type=application/octet-stream]...\n",
            "-\n",
            "Operation completed over 1 objects/20.8 MiB.                                     \n"
          ],
          "name": "stdout"
        }
      ]
    },
    {
      "cell_type": "code",
      "metadata": {
        "id": "AQFZ3Uj7dzag",
        "colab_type": "code",
        "outputId": "5badedef-dbe7-43c6-de2a-be8d75539995",
        "colab": {
          "base_uri": "https://localhost:8080/",
          "height": 196
        }
      },
      "source": [
        "training_app_3000.head()"
      ],
      "execution_count": 0,
      "outputs": [
        {
          "output_type": "execute_result",
          "data": {
            "text/html": [
              "<div>\n",
              "<style scoped>\n",
              "    .dataframe tbody tr th:only-of-type {\n",
              "        vertical-align: middle;\n",
              "    }\n",
              "\n",
              "    .dataframe tbody tr th {\n",
              "        vertical-align: top;\n",
              "    }\n",
              "\n",
              "    .dataframe thead th {\n",
              "        text-align: right;\n",
              "    }\n",
              "</style>\n",
              "<table border=\"1\" class=\"dataframe\">\n",
              "  <thead>\n",
              "    <tr style=\"text-align: right;\">\n",
              "      <th></th>\n",
              "      <th>app_id</th>\n",
              "      <th>background</th>\n",
              "      <th>claim</th>\n",
              "    </tr>\n",
              "  </thead>\n",
              "  <tbody>\n",
              "    <tr>\n",
              "      <th>0</th>\n",
              "      <td>12130785</td>\n",
              "      <td>FIELD OF THE INVENTION The present disclosure ...</td>\n",
              "      <td>A system for differentiating noise from an arr...</td>\n",
              "    </tr>\n",
              "    <tr>\n",
              "      <th>1</th>\n",
              "      <td>12652424</td>\n",
              "      <td>BACKGROUND An organization may store data in a...</td>\n",
              "      <td>A method of allocating resources in a data war...</td>\n",
              "    </tr>\n",
              "    <tr>\n",
              "      <th>2</th>\n",
              "      <td>12214532</td>\n",
              "      <td>The disclosure of Japanese Patent Application ...</td>\n",
              "      <td>A controlling method of a media processing app...</td>\n",
              "    </tr>\n",
              "    <tr>\n",
              "      <th>3</th>\n",
              "      <td>14204411</td>\n",
              "      <td>BACKGROUND OF THE INVENTION 1. Field of the In...</td>\n",
              "      <td>An electronic percussion instrument comprising...</td>\n",
              "    </tr>\n",
              "    <tr>\n",
              "      <th>4</th>\n",
              "      <td>13090122</td>\n",
              "      <td>FIELD OF THE INVENTION The present invention e...</td>\n",
              "      <td>A composition comprising at least one active a...</td>\n",
              "    </tr>\n",
              "  </tbody>\n",
              "</table>\n",
              "</div>"
            ],
            "text/plain": [
              "     app_id  ...                                              claim\n",
              "0  12130785  ...  A system for differentiating noise from an arr...\n",
              "1  12652424  ...  A method of allocating resources in a data war...\n",
              "2  12214532  ...  A controlling method of a media processing app...\n",
              "3  14204411  ...  An electronic percussion instrument comprising...\n",
              "4  13090122  ...  A composition comprising at least one active a...\n",
              "\n",
              "[5 rows x 3 columns]"
            ]
          },
          "metadata": {
            "tags": []
          },
          "execution_count": 139
        }
      ]
    },
    {
      "cell_type": "code",
      "metadata": {
        "id": "NygIPCzNd68c",
        "colab_type": "code",
        "outputId": "4197b21d-4553-4343-9143-712aa0ff6bc6",
        "colab": {
          "base_uri": "https://localhost:8080/",
          "height": 69
        }
      },
      "source": [
        "import gzip\n",
        "import pickle\n",
        "\n",
        "filename = \"training_app_3000_with_background.pkl.gz\"\n",
        "\n",
        "with gzip.open(filename, 'w') as f:\n",
        "  pickle.dump(training_app_3000, f)\n",
        "!gsutil cp {filename} gs://mlstudy-phys/data/"
      ],
      "execution_count": 0,
      "outputs": [
        {
          "output_type": "stream",
          "text": [
            "Copying file://training_app_3000_with_background.pkl.gz [Content-Type=application/octet-stream]...\n",
            "-\n",
            "Operation completed over 1 objects/8.5 MiB.                                      \n"
          ],
          "name": "stdout"
        }
      ]
    },
    {
      "cell_type": "code",
      "metadata": {
        "id": "jDD2bgMWeFOY",
        "colab_type": "code",
        "outputId": "f5624095-cbfe-469f-9803-b49049bb299b",
        "colab": {
          "base_uri": "https://localhost:8080/",
          "height": 196
        }
      },
      "source": [
        "testset_app_3000.head()"
      ],
      "execution_count": 0,
      "outputs": [
        {
          "output_type": "execute_result",
          "data": {
            "text/html": [
              "<div>\n",
              "<style scoped>\n",
              "    .dataframe tbody tr th:only-of-type {\n",
              "        vertical-align: middle;\n",
              "    }\n",
              "\n",
              "    .dataframe tbody tr th {\n",
              "        vertical-align: top;\n",
              "    }\n",
              "\n",
              "    .dataframe thead th {\n",
              "        text-align: right;\n",
              "    }\n",
              "</style>\n",
              "<table border=\"1\" class=\"dataframe\">\n",
              "  <thead>\n",
              "    <tr style=\"text-align: right;\">\n",
              "      <th></th>\n",
              "      <th>app_id</th>\n",
              "      <th>background</th>\n",
              "      <th>claim</th>\n",
              "    </tr>\n",
              "  </thead>\n",
              "  <tbody>\n",
              "    <tr>\n",
              "      <th>0</th>\n",
              "      <td>12211548</td>\n",
              "      <td>FIELD OF THE INVENTION The present invention r...</td>\n",
              "      <td>A method for ranking an entity against a group...</td>\n",
              "    </tr>\n",
              "    <tr>\n",
              "      <th>1</th>\n",
              "      <td>12765236</td>\n",
              "      <td>The field of the invention is that of dental c...</td>\n",
              "      <td>A dental composition comprising:(1) at least o...</td>\n",
              "    </tr>\n",
              "    <tr>\n",
              "      <th>2</th>\n",
              "      <td>12827269</td>\n",
              "      <td>TECHNICAL FIELD Embodiments of the present inv...</td>\n",
              "      <td>A vehicle, comprising:a chassis; a platform su...</td>\n",
              "    </tr>\n",
              "    <tr>\n",
              "      <th>3</th>\n",
              "      <td>14436491</td>\n",
              "      <td>BACKGROUND Cancer is thought to occur as a res...</td>\n",
              "      <td>A conjugate comprising a GM-CSF polypeptide an...</td>\n",
              "    </tr>\n",
              "    <tr>\n",
              "      <th>4</th>\n",
              "      <td>13633425</td>\n",
              "      <td>CROSS-REFERENCE TO RELATED APPLICATIONS The pr...</td>\n",
              "      <td>A method for manufacturing a stack package, co...</td>\n",
              "    </tr>\n",
              "  </tbody>\n",
              "</table>\n",
              "</div>"
            ],
            "text/plain": [
              "     app_id  ...                                              claim\n",
              "0  12211548  ...  A method for ranking an entity against a group...\n",
              "1  12765236  ...  A dental composition comprising:(1) at least o...\n",
              "2  12827269  ...  A vehicle, comprising:a chassis; a platform su...\n",
              "3  14436491  ...  A conjugate comprising a GM-CSF polypeptide an...\n",
              "4  13633425  ...  A method for manufacturing a stack package, co...\n",
              "\n",
              "[5 rows x 3 columns]"
            ]
          },
          "metadata": {
            "tags": []
          },
          "execution_count": 141
        }
      ]
    },
    {
      "cell_type": "code",
      "metadata": {
        "id": "hmSiC924eIRw",
        "colab_type": "code",
        "outputId": "afe37f4d-b132-446a-9541-67faf9186e6f",
        "colab": {
          "base_uri": "https://localhost:8080/",
          "height": 69
        }
      },
      "source": [
        "import gzip\n",
        "import pickle\n",
        "\n",
        "filename = \"testset_app_3000_with_background.pkl.gz\"\n",
        "\n",
        "with gzip.open(filename, 'w') as f:\n",
        "  pickle.dump(testset_app_3000, f)\n",
        "!gsutil cp {filename} gs://mlstudy-phys/data/"
      ],
      "execution_count": 0,
      "outputs": [
        {
          "output_type": "stream",
          "text": [
            "Copying file://testset_app_3000_with_background.pkl.gz [Content-Type=application/octet-stream]...\n",
            "/ [1 files][  8.5 MiB/  8.5 MiB]                                                \n",
            "Operation completed over 1 objects/8.5 MiB.                                      \n"
          ],
          "name": "stdout"
        }
      ]
    },
    {
      "cell_type": "code",
      "metadata": {
        "id": "gNEYICOleNUq",
        "colab_type": "code",
        "outputId": "14716770-c538-41a6-d95a-de5ff6da7a61",
        "colab": {
          "base_uri": "https://localhost:8080/",
          "height": 196
        }
      },
      "source": [
        "grants.head()"
      ],
      "execution_count": 0,
      "outputs": [
        {
          "output_type": "execute_result",
          "data": {
            "text/html": [
              "<div>\n",
              "<style scoped>\n",
              "    .dataframe tbody tr th:only-of-type {\n",
              "        vertical-align: middle;\n",
              "    }\n",
              "\n",
              "    .dataframe tbody tr th {\n",
              "        vertical-align: top;\n",
              "    }\n",
              "\n",
              "    .dataframe thead th {\n",
              "        text-align: right;\n",
              "    }\n",
              "</style>\n",
              "<table border=\"1\" class=\"dataframe\">\n",
              "  <thead>\n",
              "    <tr style=\"text-align: right;\">\n",
              "      <th></th>\n",
              "      <th>parsed</th>\n",
              "      <th>background</th>\n",
              "      <th>claim</th>\n",
              "    </tr>\n",
              "  </thead>\n",
              "  <tbody>\n",
              "    <tr>\n",
              "      <th>0</th>\n",
              "      <td>6837113</td>\n",
              "      <td>CROSS-REFERENCE TO RELATED APPLICATIONS Not Ap...</td>\n",
              "      <td>A method for determining an estimated velocity...</td>\n",
              "    </tr>\n",
              "    <tr>\n",
              "      <th>1</th>\n",
              "      <td>6837224</td>\n",
              "      <td>BACKGROUND OF THE INVENTION 1. Field of the In...</td>\n",
              "      <td>An evaporated fuel treatment device for intern...</td>\n",
              "    </tr>\n",
              "    <tr>\n",
              "      <th>2</th>\n",
              "      <td>6837699</td>\n",
              "      <td>BACKGROUND OF THE INVENTION 1) Field of the In...</td>\n",
              "      <td>An apparatus for clamping used in molding appl...</td>\n",
              "    </tr>\n",
              "    <tr>\n",
              "      <th>3</th>\n",
              "      <td>6837886</td>\n",
              "      <td>BACKGROUND OF THE INVENTION 1. Field of the In...</td>\n",
              "      <td>A system, comprising:a catheter having a braid...</td>\n",
              "    </tr>\n",
              "    <tr>\n",
              "      <th>4</th>\n",
              "      <td>6837901</td>\n",
              "      <td>FIELD OF THE INVENTION The present invention g...</td>\n",
              "      <td>The method of delivering a shape memory stent ...</td>\n",
              "    </tr>\n",
              "  </tbody>\n",
              "</table>\n",
              "</div>"
            ],
            "text/plain": [
              "    parsed  ...                                              claim\n",
              "0  6837113  ...  A method for determining an estimated velocity...\n",
              "1  6837224  ...  An evaporated fuel treatment device for intern...\n",
              "2  6837699  ...  An apparatus for clamping used in molding appl...\n",
              "3  6837886  ...  A system, comprising:a catheter having a braid...\n",
              "4  6837901  ...  The method of delivering a shape memory stent ...\n",
              "\n",
              "[5 rows x 3 columns]"
            ]
          },
          "metadata": {
            "tags": []
          },
          "execution_count": 143
        }
      ]
    },
    {
      "cell_type": "code",
      "metadata": {
        "id": "sBOSkLZ2ePM7",
        "colab_type": "code",
        "outputId": "057e59ae-c7b5-4111-cc0b-d54154ceab47",
        "colab": {
          "base_uri": "https://localhost:8080/",
          "height": 69
        }
      },
      "source": [
        "import gzip\n",
        "import pickle\n",
        "\n",
        "filename = \"grants_for_3000+3000_with_background.pkl.gz\"\n",
        "\n",
        "with gzip.open(filename, 'w') as f:\n",
        "  pickle.dump(grants, f)\n",
        "!gsutil cp {filename} gs://mlstudy-phys/data/"
      ],
      "execution_count": 0,
      "outputs": [
        {
          "output_type": "stream",
          "text": [
            "Copying file://grants_for_3000+3000_with_background.pkl.gz [Content-Type=application/octet-stream]...\n",
            "-\n",
            "Operation completed over 1 objects/23.8 MiB.                                     \n"
          ],
          "name": "stdout"
        }
      ]
    },
    {
      "cell_type": "code",
      "metadata": {
        "id": "PU97tx7-eZYv",
        "colab_type": "code",
        "colab": {}
      },
      "source": [
        ""
      ],
      "execution_count": 0,
      "outputs": []
    }
  ]
}