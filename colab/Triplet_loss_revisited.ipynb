{
  "nbformat": 4,
  "nbformat_minor": 0,
  "metadata": {
    "colab": {
      "name": "Triplet_loss_revisited.ipynb",
      "version": "0.3.2",
      "provenance": [],
      "include_colab_link": true
    },
    "kernelspec": {
      "name": "python3",
      "display_name": "Python 3"
    },
    "accelerator": "GPU"
  },
  "cells": [
    {
      "cell_type": "markdown",
      "metadata": {
        "id": "view-in-github",
        "colab_type": "text"
      },
      "source": [
        "<a href=\"https://colab.research.google.com/github/susumu2357/US-patent-analysis/blob/master/colab/Triplet_loss_revisited.ipynb\" target=\"_parent\"><img src=\"https://colab.research.google.com/assets/colab-badge.svg\" alt=\"Open In Colab\"/></a>"
      ]
    },
    {
      "cell_type": "code",
      "metadata": {
        "id": "P_gKQ_FCjJnh",
        "colab_type": "code",
        "colab": {}
      },
      "source": [
        "from google.colab import auth\n",
        "auth.authenticate_user()"
      ],
      "execution_count": 0,
      "outputs": []
    },
    {
      "cell_type": "code",
      "metadata": {
        "id": "-oJo2G8FjKcn",
        "colab_type": "code",
        "outputId": "fac0f171-f184-4bed-c761-68c23ed39632",
        "colab": {
          "base_uri": "https://localhost:8080/",
          "height": 228
        }
      },
      "source": [
        "!mkdir -p ./data\n",
        "\n",
        "!gsutil cp gs://mlstudy-phys/data/grants_for_3000+3000.df.gz ./data/ \n",
        "!gsutil cp gs://mlstudy-phys/data/testset_app_3000.df.gz ./data/\n",
        "!gsutil cp gs://mlstudy-phys/data/training_app_3000.df.gz ./data/\n",
        "!gsutil cp gs://mlstudy-phys/data/citations_info_3000+3000.df.gz ./data/"
      ],
      "execution_count": 2,
      "outputs": [
        {
          "output_type": "stream",
          "text": [
            "Copying gs://mlstudy-phys/data/grants_for_3000+3000.df.gz...\n",
            "\\ [1 files][129.4 MiB/129.4 MiB]                                                \n",
            "Operation completed over 1 objects/129.4 MiB.                                    \n",
            "Copying gs://mlstudy-phys/data/testset_app_3000.df.gz...\n",
            "\\ [1 files][ 45.5 MiB/ 45.5 MiB]                                                \n",
            "Operation completed over 1 objects/45.5 MiB.                                     \n",
            "Copying gs://mlstudy-phys/data/training_app_3000.df.gz...\n",
            "- [1 files][ 45.0 MiB/ 45.0 MiB]                                                \n",
            "Operation completed over 1 objects/45.0 MiB.                                     \n",
            "Copying gs://mlstudy-phys/data/citations_info_3000+3000.df.gz...\n",
            "/ [1 files][506.5 KiB/506.5 KiB]                                                \n",
            "Operation completed over 1 objects/506.5 KiB.                                    \n"
          ],
          "name": "stdout"
        }
      ]
    },
    {
      "cell_type": "code",
      "metadata": {
        "id": "XZ7D-Gm-Gd9u",
        "colab_type": "code",
        "colab": {}
      },
      "source": [
        "import pandas as pd\n",
        "\n",
        "grants = pd.read_pickle(\"./data/grants_for_3000+3000.df.gz\")\n",
        "test_app = pd.read_pickle(\"./data/testset_app_3000.df.gz\")\n",
        "train_app = pd.read_pickle(\"./data/training_app_3000.df.gz\")\n",
        "citations = pd.read_pickle(\"./data/citations_info_3000+3000.df.gz\")\n",
        "\n",
        "citations = citations[citations[\"action_type\"] == 102]\n",
        "cite_app = citations[\"app_id\"]\n",
        "cite_grant = citations [\"parsed\"]\n",
        "cite_relation = pd.concat([cite_app, cite_grant], axis=1)"
      ],
      "execution_count": 0,
      "outputs": []
    },
    {
      "cell_type": "code",
      "metadata": {
        "id": "1XWaFHLPGfS9",
        "colab_type": "code",
        "outputId": "91aa27ea-f333-4705-87be-27bccc8d9046",
        "colab": {
          "base_uri": "https://localhost:8080/",
          "height": 70
        }
      },
      "source": [
        "import gzip\n",
        "import pickle\n",
        "\n",
        "filename = \"train_app_w2v_claim_background_IPC.pkl.gz\"\n",
        "\n",
        "!gsutil cp gs://mlstudy-phys/data/{filename} ./\n",
        "\n",
        "with gzip.open(filename, 'rb') as f:\n",
        "  train_app_feature = pickle.load(f)"
      ],
      "execution_count": 4,
      "outputs": [
        {
          "output_type": "stream",
          "text": [
            "Copying gs://mlstudy-phys/data/train_app_w2v_claim_background_IPC.pkl.gz...\n",
            "/ [1 files][  2.5 MiB/  2.5 MiB]                                                \n",
            "Operation completed over 1 objects/2.5 MiB.                                      \n"
          ],
          "name": "stdout"
        }
      ]
    },
    {
      "cell_type": "code",
      "metadata": {
        "id": "nZsaBI6PGjn1",
        "colab_type": "code",
        "outputId": "ac0d6054-b585-4233-c944-15666c11f0d9",
        "colab": {
          "base_uri": "https://localhost:8080/",
          "height": 70
        }
      },
      "source": [
        "filename = \"test_app_w2v_claim_background_IPC.pkl.gz\"\n",
        "\n",
        "!gsutil cp gs://mlstudy-phys/data/{filename} ./\n",
        "\n",
        "with gzip.open(filename, 'rb') as f:\n",
        "  test_app_feature = pickle.load(f)"
      ],
      "execution_count": 5,
      "outputs": [
        {
          "output_type": "stream",
          "text": [
            "Copying gs://mlstudy-phys/data/test_app_w2v_claim_background_IPC.pkl.gz...\n",
            "/ [1 files][  2.5 MiB/  2.5 MiB]                                                \n",
            "Operation completed over 1 objects/2.5 MiB.                                      \n"
          ],
          "name": "stdout"
        }
      ]
    },
    {
      "cell_type": "code",
      "metadata": {
        "id": "FjX3sgQqGkpq",
        "colab_type": "code",
        "outputId": "5227cdc8-229e-47d0-e38f-df39c60ae9af",
        "colab": {
          "base_uri": "https://localhost:8080/",
          "height": 70
        }
      },
      "source": [
        "filename = \"grant_w2v_claim_background_IPC.pkl.gz\"\n",
        "\n",
        "!gsutil cp gs://mlstudy-phys/data/{filename} ./\n",
        "\n",
        "with gzip.open(filename, 'rb') as f:\n",
        "  grant_feature = pickle.load(f)"
      ],
      "execution_count": 6,
      "outputs": [
        {
          "output_type": "stream",
          "text": [
            "Copying gs://mlstudy-phys/data/grant_w2v_claim_background_IPC.pkl.gz...\n",
            "/ [1 files][  5.3 MiB/  5.3 MiB]                                                \n",
            "Operation completed over 1 objects/5.3 MiB.                                      \n"
          ],
          "name": "stdout"
        }
      ]
    },
    {
      "cell_type": "code",
      "metadata": {
        "id": "ybiD3jPukELo",
        "colab_type": "code",
        "colab": {}
      },
      "source": [
        ""
      ],
      "execution_count": 0,
      "outputs": []
    },
    {
      "cell_type": "code",
      "metadata": {
        "id": "q4ol2i-nGmD-",
        "colab_type": "code",
        "colab": {}
      },
      "source": [
        "train_data = pd.merge(train_app, cite_relation, on='app_id')[[\"app_id\", \"parsed\"]]\n",
        "test_data = pd.merge(test_app, cite_relation, on='app_id')[[\"app_id\", \"parsed\"]]"
      ],
      "execution_count": 0,
      "outputs": []
    },
    {
      "cell_type": "code",
      "metadata": {
        "id": "KHVxIx2jIOU9",
        "colab_type": "code",
        "colab": {}
      },
      "source": [
        "train_data = train_data.drop_duplicates()"
      ],
      "execution_count": 0,
      "outputs": []
    },
    {
      "cell_type": "code",
      "metadata": {
        "id": "GStte1RkIxY3",
        "colab_type": "code",
        "outputId": "6c89dac1-9c25-4304-fa4b-33934680e1ce",
        "colab": {
          "base_uri": "https://localhost:8080/",
          "height": 34
        }
      },
      "source": [
        "train_data = train_data[~train_data[\"app_id\"].duplicated()]\n",
        "train_data.shape"
      ],
      "execution_count": 9,
      "outputs": [
        {
          "output_type": "execute_result",
          "data": {
            "text/plain": [
              "(3000, 2)"
            ]
          },
          "metadata": {
            "tags": []
          },
          "execution_count": 9
        }
      ]
    },
    {
      "cell_type": "code",
      "metadata": {
        "id": "QRVotODBLYu2",
        "colab_type": "code",
        "outputId": "d91e860e-59b0-4756-d29f-0b6933734217",
        "colab": {
          "base_uri": "https://localhost:8080/",
          "height": 34
        }
      },
      "source": [
        "test_data = test_data.drop_duplicates()\n",
        "test_data = test_data[~test_data[\"app_id\"].duplicated()]\n",
        "test_data.shape"
      ],
      "execution_count": 10,
      "outputs": [
        {
          "output_type": "execute_result",
          "data": {
            "text/plain": [
              "(3000, 2)"
            ]
          },
          "metadata": {
            "tags": []
          },
          "execution_count": 10
        }
      ]
    },
    {
      "cell_type": "code",
      "metadata": {
        "id": "Q9qEalPEMJ2e",
        "colab_type": "code",
        "colab": {}
      },
      "source": [
        "train_data= train_data.reset_index(drop=True)\n",
        "test_data = test_data.reset_index(drop=True)"
      ],
      "execution_count": 0,
      "outputs": []
    },
    {
      "cell_type": "code",
      "metadata": {
        "id": "gfppJ90dG_IN",
        "colab_type": "code",
        "outputId": "15514dff-6cb0-4881-d739-a3721523cd11",
        "colab": {
          "base_uri": "https://localhost:8080/",
          "height": 52
        }
      },
      "source": [
        "%%time\n",
        "\n",
        "train_app_x = []\n",
        "train_grant_x = []\n",
        "\n",
        "for i in range(len(train_data)):\n",
        "  app_id = train_data[\"app_id\"][i]\n",
        "  idx_app = train_app[train_app[\"app_id\"] == app_id ].index.values[0]\n",
        "\n",
        "  parsed = train_data[\"parsed\"][i]\n",
        "  idx_grant = grants[grants[\"parsed\"] == parsed].index.values[0] \n",
        "  \n",
        "  f1 = train_app_feature[idx_app]\n",
        "  f2 = grant_feature[idx_grant]\n",
        "  \n",
        "  train_app_x.append(f1)\n",
        "  train_grant_x.append(f2)  "
      ],
      "execution_count": 12,
      "outputs": [
        {
          "output_type": "stream",
          "text": [
            "CPU times: user 5.37 s, sys: 62 ms, total: 5.43 s\n",
            "Wall time: 5.36 s\n"
          ],
          "name": "stdout"
        }
      ]
    },
    {
      "cell_type": "code",
      "metadata": {
        "id": "eHekwoXhHWPG",
        "colab_type": "code",
        "outputId": "a1dc1813-0a78-40ee-a8fb-53fa38437a9a",
        "colab": {
          "base_uri": "https://localhost:8080/",
          "height": 34
        }
      },
      "source": [
        "import numpy as np\n",
        "\n",
        "train_app_x = np.array(train_app_x)\n",
        "train_grant_x = np.array(train_grant_x)\n",
        "\n",
        "train_app_x.shape, train_grant_x.shape"
      ],
      "execution_count": 13,
      "outputs": [
        {
          "output_type": "execute_result",
          "data": {
            "text/plain": [
              "((3000, 208), (3000, 208))"
            ]
          },
          "metadata": {
            "tags": []
          },
          "execution_count": 13
        }
      ]
    },
    {
      "cell_type": "code",
      "metadata": {
        "id": "MrC7WBBpHcjm",
        "colab_type": "code",
        "outputId": "ee021886-ae95-4912-b9a1-13c8717cca44",
        "colab": {
          "base_uri": "https://localhost:8080/",
          "height": 52
        }
      },
      "source": [
        "%%time\n",
        "\n",
        "test_app_x = []\n",
        "test_grant_x = []\n",
        "\n",
        "for i in range(len(test_data)):\n",
        "  app_id = test_data[\"app_id\"][i]\n",
        "  idx_app = test_app[test_app[\"app_id\"] == app_id ].index.values[0]\n",
        "\n",
        "  parsed = test_data[\"parsed\"][i]\n",
        "  idx_grant = grants[grants[\"parsed\"] == parsed].index.values[0]\n",
        "  \n",
        "  f1 = test_app_feature[idx_app] \n",
        "  f2 = grant_feature[idx_grant]\n",
        "  \n",
        "  test_app_x.append(f1)\n",
        "  test_grant_x.append(f2)"
      ],
      "execution_count": 14,
      "outputs": [
        {
          "output_type": "stream",
          "text": [
            "CPU times: user 5.29 s, sys: 23.6 ms, total: 5.32 s\n",
            "Wall time: 5.32 s\n"
          ],
          "name": "stdout"
        }
      ]
    },
    {
      "cell_type": "code",
      "metadata": {
        "id": "CWSgozTsMvf3",
        "colab_type": "code",
        "outputId": "1535f543-45d3-46ae-8442-151c90698ae4",
        "colab": {
          "base_uri": "https://localhost:8080/",
          "height": 34
        }
      },
      "source": [
        "test_app_x = np.array(test_app_x)\n",
        "test_grant_x = np.array(test_grant_x)\n",
        "\n",
        "test_app_x.shape, test_grant_x.shape"
      ],
      "execution_count": 15,
      "outputs": [
        {
          "output_type": "execute_result",
          "data": {
            "text/plain": [
              "((3000, 208), (3000, 208))"
            ]
          },
          "metadata": {
            "tags": []
          },
          "execution_count": 15
        }
      ]
    },
    {
      "cell_type": "code",
      "metadata": {
        "id": "wJb33usIM9qb",
        "colab_type": "code",
        "colab": {}
      },
      "source": [
        "from __future__ import absolute_import, division, print_function, unicode_literals\n",
        "\n",
        "import tensorflow as tf\n",
        "\n",
        "from tqdm import tqdm_notebook as tqdm\n",
        "\n",
        "tf.enable_eager_execution()"
      ],
      "execution_count": 0,
      "outputs": []
    },
    {
      "cell_type": "code",
      "metadata": {
        "id": "4XwYt7arj0yd",
        "colab_type": "code",
        "colab": {}
      },
      "source": [
        ""
      ],
      "execution_count": 0,
      "outputs": []
    },
    {
      "cell_type": "code",
      "metadata": {
        "id": "SS8VkAQVj3tA",
        "colab_type": "code",
        "colab": {}
      },
      "source": [
        "import math\n",
        "\n",
        "class Model(object):    \n",
        "  \n",
        "    def __init__(self, input_shape, output_shape):\n",
        "        self.input_shape = input_shape\n",
        "        self.output_shape = output_shape\n",
        "        self.W1 = tf.Variable( tf.random_normal( [self.input_shape, self.output_shape] ) , name='W1')\n",
        "        self.B1 = tf.Variable( tf.random_normal( [self.output_shape] ) , name='B1', trainable=True) \n",
        "        self.W2 = tf.Variable( tf.random_normal( [self.input_shape, self.output_shape] ), name='W2')\n",
        "        self.B2 = tf.Variable( tf.random_normal( [self.output_shape] ) , name='B2') \n",
        "        self.variables = [self.W1, self.B1, self.W2, self.B2]\n",
        "    \n",
        "    def frwrd_pass(self, X_app, X_grant):\n",
        "        X_app = tf.cast(X_app, tf.double)\n",
        "        X_grant = tf.cast(X_grant, tf.double)\n",
        "        self.W1 = tf.cast(self.W1, tf.double)\n",
        "        self.W2 = tf.cast(self.W2, tf.double)\n",
        "        self.B1 = tf.cast(self.B1, tf.double)\n",
        "        self.B2 = tf.cast(self.B2, tf.double)\n",
        "\n",
        "        app_f = tf.matmul( X_app, self.W1 ) + self.B1\n",
        "        grant_f = tf.matmul( X_grant, self.W2 ) + self.B2\n",
        "        \n",
        "        normalized_app_f = tf.nn.l2_normalize(app_f, axis=1)\n",
        "        normalized_grant_f = tf.nn.l2_normalize(grant_f, axis=1)        \n",
        "        \n",
        "        cos = tf.reduce_sum(normalized_app_f*normalized_grant_f, axis=1)                \n",
        "        \n",
        "        return tf.acos(cos) + 1e-12\n",
        "      \n",
        "#     def predict(self, X_app, X_grant):      \n",
        "#         X_app = tf.cast(X_app, tf.double)\n",
        "#         X_grant = tf.cast(X_grant, tf.double)\n",
        "#         self.W1 = tf.cast(self.W1, tf.double)\n",
        "#         self.W2 = tf.cast(self.W2, tf.double)\n",
        "#         self.B1 = tf.cast(self.B1, tf.double)\n",
        "#         self.B2 = tf.cast(self.B2, tf.double)\n",
        "\n",
        "#         app_f = tf.matmul( X_app, self.W1 ) + self.B1\n",
        "#         grant_f = tf.matmul( X_grant, self.W2 ) + self.B2\n",
        "        \n",
        "#         normalized_app_f = tf.nn.l2_normalize(app_f, axis=1)\n",
        "#         normalized_grant_f = tf.nn.l2_normalize(grant_f, axis=1)\n",
        "        \n",
        "#         cos = tf.reduce_sum(normalized_app_f*normalized_grant_f, axis=1)                \n",
        "        \n",
        "#         return tf.acos(cos)          "
      ],
      "execution_count": 0,
      "outputs": []
    },
    {
      "cell_type": "code",
      "metadata": {
        "id": "Lk8SDnYzkSdB",
        "colab_type": "code",
        "colab": {}
      },
      "source": [
        "import math\n",
        "import random\n",
        "\n",
        "TOP_K = 5\n",
        "SAMPLES = 1\n",
        "\n",
        "def copy_app(one_app_f, length):\n",
        "  \n",
        "  for i in range(math.ceil(math.log2(length))):\n",
        "    one_app_f = np.vstack((one_app_f,one_app_f))\n",
        "\n",
        "  one_test_f = one_app_f[0:length]\n",
        "\n",
        "  return one_test_f\n",
        "\n",
        "# finding hard pair in every iterations. too slow.\n",
        "def rand_hard_pair(one_app, grants):\n",
        "  \n",
        "  apps = copy_app(one_app, len(grants))\n",
        "#   angles = model.predict(apps, grants).numpy()\n",
        "  angles = model.frwrd_pass(apps, grants).numpy()\n",
        "  id_list = [np.where(angles == sorted_angle)[0][0] for sorted_angle in sorted(angles, reverse=True)] \n",
        "  id_sample = random.sample(id_list[0:TOP_K], SAMPLES)  \n",
        "  \n",
        "  return grants[id_sample[0]]"
      ],
      "execution_count": 0,
      "outputs": []
    },
    {
      "cell_type": "code",
      "metadata": {
        "id": "fBs4pgackS2k",
        "colab_type": "code",
        "outputId": "76a153b4-a50c-4f7e-e319-4c73b89681c3",
        "colab": {
          "base_uri": "https://localhost:8080/",
          "height": 402
        }
      },
      "source": [
        "import math\n",
        "\n",
        "loss_history = []\n",
        "\n",
        "model = Model(input_shape=208, output_shape=100)\n",
        "BATCH_SIZE = 100\n",
        "EPOCHS = 5\n",
        "\n",
        "margin = math.pi/6\n",
        "\n",
        "for i in tqdm(range(EPOCHS)):\n",
        "  rnd_idx = np.random.permutation(len(train_app_x))\n",
        "  train_app_x_rnd = train_app_x[rnd_idx,:]\n",
        "  train_grant_x_rnd = train_grant_x[rnd_idx,:]\n",
        "\n",
        "  for idx in range(0, len(train_app_x), BATCH_SIZE):\n",
        "    with tf.GradientTape() as tape:      \n",
        "      positive_angle = model.frwrd_pass(train_app_x_rnd[idx:idx+BATCH_SIZE], train_grant_x_rnd[idx:idx+BATCH_SIZE])\n",
        "      \n",
        "      grants_negative = [rand_hard_pair(app, np.roll(train_grant_x_rnd[idx:idx+BATCH_SIZE], -i, axis=0)[0:BATCH_SIZE-1]) for i, app \n",
        "                             in enumerate(train_app_x_rnd[idx:idx+BATCH_SIZE])]\n",
        "      grants_negative = np.array(grants_negative).reshape([BATCH_SIZE,208])      \n",
        "      negative_angle = model.frwrd_pass(train_app_x_rnd[idx:idx+BATCH_SIZE], grants_negative)      \n",
        "\n",
        "      losses = tf.maximum( negative_angle - positive_angle + margin, 0.0)\n",
        "      loss = tf.reduce_mean(losses)\n",
        "      print(loss.numpy())\n",
        "\n",
        "      global_step = tf.Variable(0, trainable=False, name='global_step')\n",
        "      learning_rate = tf.train.exponential_decay(0.01, global_step, EPOCHS, 0.96, staircase=True)\n",
        "      optimizer = tf.train.AdamOptimizer(learning_rate)\n",
        "      loss_history.append(loss.numpy())\n",
        "      grads = tape.gradient(loss, model.variables)\n",
        "      optimizer.apply_gradients(zip(grads, model.variables), global_step=global_step)\n"
      ],
      "execution_count": 43,
      "outputs": [
        {
          "output_type": "display_data",
          "data": {
            "application/vnd.jupyter.widget-view+json": {
              "model_id": "77dcc6e6ae8c49b38ead376a182668f5",
              "version_minor": 0,
              "version_major": 2
            },
            "text/plain": [
              "HBox(children=(IntProgress(value=0, max=5), HTML(value='')))"
            ]
          },
          "metadata": {
            "tags": []
          }
        },
        {
          "output_type": "stream",
          "text": [
            "0.6423065391997733\n",
            "0.6423676291729103\n",
            "\n"
          ],
          "name": "stdout"
        },
        {
          "output_type": "error",
          "ename": "ValueError",
          "evalue": "ignored",
          "traceback": [
            "\u001b[0;31m---------------------------------------------------------------------------\u001b[0m",
            "\u001b[0;31mValueError\u001b[0m                                Traceback (most recent call last)",
            "\u001b[0;32m<ipython-input-43-6fa662f1fbda>\u001b[0m in \u001b[0;36m<module>\u001b[0;34m()\u001b[0m\n\u001b[1;32m     32\u001b[0m       \u001b[0mloss_history\u001b[0m\u001b[0;34m.\u001b[0m\u001b[0mappend\u001b[0m\u001b[0;34m(\u001b[0m\u001b[0mloss\u001b[0m\u001b[0;34m.\u001b[0m\u001b[0mnumpy\u001b[0m\u001b[0;34m(\u001b[0m\u001b[0;34m)\u001b[0m\u001b[0;34m)\u001b[0m\u001b[0;34m\u001b[0m\u001b[0;34m\u001b[0m\u001b[0m\n\u001b[1;32m     33\u001b[0m       \u001b[0mgrads\u001b[0m \u001b[0;34m=\u001b[0m \u001b[0mtape\u001b[0m\u001b[0;34m.\u001b[0m\u001b[0mgradient\u001b[0m\u001b[0;34m(\u001b[0m\u001b[0mloss\u001b[0m\u001b[0;34m,\u001b[0m \u001b[0mmodel\u001b[0m\u001b[0;34m.\u001b[0m\u001b[0mvariables\u001b[0m\u001b[0;34m)\u001b[0m\u001b[0;34m\u001b[0m\u001b[0;34m\u001b[0m\u001b[0m\n\u001b[0;32m---> 34\u001b[0;31m       \u001b[0moptimizer\u001b[0m\u001b[0;34m.\u001b[0m\u001b[0mapply_gradients\u001b[0m\u001b[0;34m(\u001b[0m\u001b[0mzip\u001b[0m\u001b[0;34m(\u001b[0m\u001b[0mgrads\u001b[0m\u001b[0;34m,\u001b[0m \u001b[0mmodel\u001b[0m\u001b[0;34m.\u001b[0m\u001b[0mvariables\u001b[0m\u001b[0;34m)\u001b[0m\u001b[0;34m,\u001b[0m \u001b[0mglobal_step\u001b[0m\u001b[0;34m=\u001b[0m\u001b[0mglobal_step\u001b[0m\u001b[0;34m)\u001b[0m\u001b[0;34m\u001b[0m\u001b[0;34m\u001b[0m\u001b[0m\n\u001b[0m",
            "\u001b[0;32m/usr/local/lib/python3.6/dist-packages/tensorflow/python/training/optimizer.py\u001b[0m in \u001b[0;36mapply_gradients\u001b[0;34m(self, grads_and_vars, global_step, name)\u001b[0m\n\u001b[1;32m    593\u001b[0m     \u001b[0;32mif\u001b[0m \u001b[0;32mnot\u001b[0m \u001b[0mvar_list\u001b[0m\u001b[0;34m:\u001b[0m\u001b[0;34m\u001b[0m\u001b[0;34m\u001b[0m\u001b[0m\n\u001b[1;32m    594\u001b[0m       raise ValueError(\"No gradients provided for any variable: %s.\" %\n\u001b[0;32m--> 595\u001b[0;31m                        ([str(v) for _, v, _ in converted_grads_and_vars],))\n\u001b[0m\u001b[1;32m    596\u001b[0m     \u001b[0;32mwith\u001b[0m \u001b[0mops\u001b[0m\u001b[0;34m.\u001b[0m\u001b[0minit_scope\u001b[0m\u001b[0;34m(\u001b[0m\u001b[0;34m)\u001b[0m\u001b[0;34m:\u001b[0m\u001b[0;34m\u001b[0m\u001b[0;34m\u001b[0m\u001b[0m\n\u001b[1;32m    597\u001b[0m       \u001b[0mself\u001b[0m\u001b[0;34m.\u001b[0m\u001b[0m_create_slots\u001b[0m\u001b[0;34m(\u001b[0m\u001b[0mvar_list\u001b[0m\u001b[0;34m)\u001b[0m\u001b[0;34m\u001b[0m\u001b[0;34m\u001b[0m\u001b[0m\n",
            "\u001b[0;31mValueError\u001b[0m: No gradients provided for any variable: [\"<tf.Variable 'W1:0' shape=(208, 100) dtype=float32, numpy=\\narray([[-0.6381697 , -1.0645405 ,  1.0190258 , ...,  0.99240464,\\n        -0.33401024,  1.21619   ],\\n       [ 0.31716615,  1.1559222 , -1.0147494 , ..., -0.16551915,\\n         1.2681218 ,  2.2400107 ],\\n       [ 0.74364287, -0.07651791,  0.23524143, ...,  0.6168981 ,\\n         0.7848803 ,  1.269195  ],\\n       ...,\\n       [-0.16340502, -1.3593311 ,  0.237777  , ..., -0.9763891 ,\\n        -1.274572  ,  1.3907245 ],\\n       [-0.6947652 ,  0.39705434, -1.107544  , ...,  3.4387538 ,\\n         1.9334975 , -0.7192896 ],\\n       [-0.00508983,  0.79394704,  0.8061814 , ..., -0.2772585 ,\\n        -0.24289839,  0.6712813 ]], dtype=float32)>\", \"<tf.Variable 'B1:0' shape=(100,) dtype=float32, numpy=\\narray([ 4.5697877e-01,  8.5241246e-01,  1.5877793e-03, -1.8190761e+00,\\n       -6.5108138e-01, -1.4346497e+00, -1.8740171e+00, -5.7359385e-01,\\n       -2.0516334e-01,  3.9092535e-01,  4.5893332e-01,  5.6421614e-01,\\n       -1.1302762e+00, -7.7882206e-01,  1.9152949e+00,  8.0825913e-01,\\n        2.2769127e+00, -1.6207906e+00, -1.3861662e-01,  1.5210205e+00,\\n       -8.5924298e-02, -1.2798979e+00,  6.5532398e-01, -1.5070753e+00,\\n        1.6198350e+00, -1.2906958e-01, -7.3467797e-01,  1.5282324e-03,\\n       -1.4838438e+00, -1.4772518e+00, -1.8682104e-01,  5.4082948e-01,\\n       -9.4406813e-01, -8.9455789e-01,  1.9128523e+00, -6.5902394e-01,\\n       -8.0277133e-01,  ..."
          ]
        }
      ]
    },
    {
      "cell_type": "code",
      "metadata": {
        "id": "OeCNVa8cp_JX",
        "colab_type": "code",
        "outputId": "960feddf-a3bf-463c-8c3b-55bfbfef8776",
        "colab": {
          "base_uri": "https://localhost:8080/",
          "height": 34
        }
      },
      "source": [
        "tf.trainable_variables()"
      ],
      "execution_count": 20,
      "outputs": [
        {
          "output_type": "execute_result",
          "data": {
            "text/plain": [
              "[]"
            ]
          },
          "metadata": {
            "tags": []
          },
          "execution_count": 20
        }
      ]
    },
    {
      "cell_type": "code",
      "metadata": {
        "id": "lJLHYMUwsMTS",
        "colab_type": "code",
        "colab": {
          "base_uri": "https://localhost:8080/",
          "height": 286
        },
        "outputId": "1655075c-aac4-4dda-ff1b-5b3f86d062b2"
      },
      "source": [
        "from matplotlib import pyplot as plt \n",
        "plt.plot(loss_history)"
      ],
      "execution_count": 26,
      "outputs": [
        {
          "output_type": "execute_result",
          "data": {
            "text/plain": [
              "[<matplotlib.lines.Line2D at 0x7f5bf14251d0>]"
            ]
          },
          "metadata": {
            "tags": []
          },
          "execution_count": 26
        },
        {
          "output_type": "display_data",
          "data": {
            "image/png": "[encoded data removed]",
            "text/plain": [
              "<Figure size 432x288 with 1 Axes>"
            ]
          },
          "metadata": {
            "tags": []
          }
        }
      ]
    },
    {
      "cell_type": "code",
      "metadata": {
        "id": "uon-MhB8nN5I",
        "colab_type": "code",
        "colab": {}
      },
      "source": [
        ""
      ],
      "execution_count": 0,
      "outputs": []
    }
  ]
}