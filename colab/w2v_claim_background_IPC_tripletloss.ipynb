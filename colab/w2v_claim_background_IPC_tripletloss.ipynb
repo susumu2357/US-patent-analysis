{
  "nbformat": 4,
  "nbformat_minor": 0,
  "metadata": {
    "colab": {
      "name": "w2v_claim_background_IPC_tripletloss.ipynb",
      "version": "0.3.2",
      "provenance": [],
      "include_colab_link": true
    },
    "kernelspec": {
      "name": "python3",
      "display_name": "Python 3"
    }
  },
  "cells": [
    {
      "cell_type": "markdown",
      "metadata": {
        "id": "view-in-github",
        "colab_type": "text"
      },
      "source": [
        "<a href=\"https://colab.research.google.com/github/susumu2357/US-patent-analysis/blob/master/colab/w2v_claim_background_IPC_tripletloss.ipynb\" target=\"_parent\"><img src=\"https://colab.research.google.com/assets/colab-badge.svg\" alt=\"Open In Colab\"/></a>"
      ]
    },
    {
      "cell_type": "code",
      "metadata": {
        "id": "A9zV8IVmPona",
        "colab_type": "code",
        "colab": {}
      },
      "source": [
        "from google.colab import auth\n",
        "auth.authenticate_user()"
      ],
      "execution_count": 0,
      "outputs": []
    },
    {
      "cell_type": "code",
      "metadata": {
        "id": "EI90NvntP6Eq",
        "colab_type": "code",
        "colab": {}
      },
      "source": [
        "import pandas as pd\n",
        "import numpy as np\n",
        "from gensim.models import Word2Vec\n",
        "\n",
        "import multiprocessing\n",
        "CPUNUM = multiprocessing.cpu_count()"
      ],
      "execution_count": 0,
      "outputs": []
    },
    {
      "cell_type": "code",
      "metadata": {
        "id": "2IhcSH3dPvkC",
        "colab_type": "code",
        "outputId": "885bb465-a614-4dbc-96bf-15430aace103",
        "colab": {
          "base_uri": "https://localhost:8080/",
          "height": 228
        }
      },
      "source": [
        "!mkdir -p ./data\n",
        "\n",
        "!gsutil cp gs://mlstudy-phys/data/grants_for_3000+3000.df.gz ./data/ \n",
        "!gsutil cp gs://mlstudy-phys/data/testset_app_3000.df.gz ./data/\n",
        "!gsutil cp gs://mlstudy-phys/data/training_app_3000.df.gz ./data/\n",
        "!gsutil cp gs://mlstudy-phys/data/citations_info_3000+3000.df.gz ./data/ "
      ],
      "execution_count": 0,
      "outputs": [
        {
          "output_type": "stream",
          "text": [
            "Copying gs://mlstudy-phys/data/grants_for_3000+3000.df.gz...\n",
            "\\ [1 files][129.4 MiB/129.4 MiB]                                                \n",
            "Operation completed over 1 objects/129.4 MiB.                                    \n",
            "Copying gs://mlstudy-phys/data/testset_app_3000.df.gz...\n",
            "- [1 files][ 45.5 MiB/ 45.5 MiB]                                                \n",
            "Operation completed over 1 objects/45.5 MiB.                                     \n",
            "Copying gs://mlstudy-phys/data/training_app_3000.df.gz...\n",
            "- [1 files][ 45.0 MiB/ 45.0 MiB]                                                \n",
            "Operation completed over 1 objects/45.0 MiB.                                     \n",
            "Copying gs://mlstudy-phys/data/citations_info_3000+3000.df.gz...\n",
            "/ [1 files][506.5 KiB/506.5 KiB]                                                \n",
            "Operation completed over 1 objects/506.5 KiB.                                    \n"
          ],
          "name": "stdout"
        }
      ]
    },
    {
      "cell_type": "code",
      "metadata": {
        "id": "mEQphs6xPzTA",
        "colab_type": "code",
        "colab": {}
      },
      "source": [
        "grants = pd.read_pickle(\"./data/grants_for_3000+3000.df.gz\")\n",
        "test_app = pd.read_pickle(\"./data/testset_app_3000.df.gz\")\n",
        "train_app = pd.read_pickle(\"./data/training_app_3000.df.gz\")\n",
        "citations = pd.read_pickle(\"./data/citations_info_3000+3000.df.gz\")\n",
        "\n",
        "citations = citations[citations[\"action_type\"] == 102]\n",
        "cite_app = citations[\"app_id\"]\n",
        "cite_grant = citations [\"parsed\"]\n",
        "cite_relation = pd.concat([cite_app, cite_grant], axis=1)"
      ],
      "execution_count": 0,
      "outputs": []
    },
    {
      "cell_type": "code",
      "metadata": {
        "id": "Xpf0S6esP0w-",
        "colab_type": "code",
        "colab": {}
      },
      "source": [
        "import re\n",
        "CLAIM_PAT = re.compile(r'<claims[^>]*>(.*)</claims>',re.MULTILINE|re.DOTALL)\n",
        "TAG_PAT = re.compile(r\"<.*?>\")\n",
        "LB_PAT = re.compile(r'[\\t\\n\\r\\f\\v][\" \"]*')\n",
        "CANCELED_PAT = re.compile(r'[0-9]+.*\\. \\(canceled\\)[\" \"]')\n",
        "NUM_PAT = re.compile(r'[\" \"]?[0-9]+[\" \"]?\\.[\" \"]?')\n",
        "\n",
        "def whole_xml_to_claim_xml(whole):\n",
        "    mat = CLAIM_PAT.search(whole)\n",
        "    return mat.group(1)\n",
        "def whole_xml_to_claim(whole):\n",
        "    return TAG_PAT.sub(' ', whole_xml_to_claim_xml(whole))\n",
        "\n",
        "def remove_linebreak_from_claim(claim):\n",
        "    '''\n",
        "    Remove line break symbol \"\\n\" with space(s).\n",
        "    '''\n",
        "    return LB_PAT.sub('', claim)\n",
        "\n",
        "def remove_canceled_claim(claim):\n",
        "    return CANCELED_PAT.sub('', claim)\n",
        "  \n",
        "def remove_claim_numbers(claim):\n",
        "    return NUM_PAT.sub('', claim)  "
      ],
      "execution_count": 0,
      "outputs": []
    },
    {
      "cell_type": "code",
      "metadata": {
        "id": "DanUlm95P29E",
        "colab_type": "code",
        "colab": {}
      },
      "source": [
        "grants[\"claim_cited_grant\"] = grants[\"xml\"].map(whole_xml_to_claim).map(remove_canceled_claim).map(remove_claim_numbers).map(remove_linebreak_from_claim)\n",
        "test_app[\"claim_app\"] = test_app[\"xml\"].map(whole_xml_to_claim).map(remove_canceled_claim).map(remove_claim_numbers).map(remove_linebreak_from_claim)\n",
        "train_app[\"claim_app\"] = train_app[\"xml\"].map(whole_xml_to_claim).map(remove_canceled_claim).map(remove_claim_numbers).map(remove_linebreak_from_claim)"
      ],
      "execution_count": 0,
      "outputs": []
    },
    {
      "cell_type": "code",
      "metadata": {
        "id": "TdsMq2RuQBjh",
        "colab_type": "code",
        "colab": {}
      },
      "source": [
        "import re\n",
        "BACKGROUND_TO_SUMMARY = re.compile(r'<\\?summary-of-invention[^>]*>(.*)<\\?summary-of-invention[^>]*>',re.MULTILINE|re.DOTALL)\n",
        "BACKGROUND_TO_SUMMARY_GRANT = re.compile(r'<\\?BRFSUM[^>]*>(.*)<\\?BRFSUM[^>]*>',re.MULTILINE|re.DOTALL)\n",
        "\n",
        "TAG_PAT = re.compile(r\"<.*?>\")\n",
        "LB_PAT = re.compile(r'[\\t\\n\\r\\f\\v][\" \"]*')\n",
        "\n",
        "def whole_xml_to_background_xml(whole):\n",
        "    mat = BACKGROUND_TO_SUMMARY.search(whole)\n",
        "    if mat is None:\n",
        "      return \"\"\n",
        "    else:\n",
        "      return mat.group(1)\n",
        "  \n",
        "def whole_xml_to_background(whole):\n",
        "    return TAG_PAT.sub(' ', whole_xml_to_background_xml(whole))\n",
        "\n",
        "def whole_xml_to_background_xml_grant(whole):\n",
        "    mat = BACKGROUND_TO_SUMMARY_GRANT.search(whole)\n",
        "    if mat is None:\n",
        "      return \"\"\n",
        "    else:\n",
        "      return mat.group(1)\n",
        "  \n",
        "def whole_xml_to_background_grant(whole):\n",
        "    return TAG_PAT.sub(' ', whole_xml_to_background_xml_grant(whole))\n",
        "\n",
        "def remove_linebreak_from_claim(claim):\n",
        "    '''\n",
        "    Remove line break symbol \"\\n\" with space(s).\n",
        "    '''\n",
        "    return LB_PAT.sub('', claim)"
      ],
      "execution_count": 0,
      "outputs": []
    },
    {
      "cell_type": "code",
      "metadata": {
        "id": "PHhNXFuYQC70",
        "colab_type": "code",
        "colab": {}
      },
      "source": [
        "train_app[\"background\"] = train_app[\"xml\"].map(whole_xml_to_background).map(remove_linebreak_from_claim)\n",
        "test_app[\"background\"] = test_app[\"xml\"].map(whole_xml_to_background).map(remove_linebreak_from_claim)\n",
        "grants[\"background\"] = grants[\"xml\"].map(whole_xml_to_background_grant).map(remove_linebreak_from_claim)"
      ],
      "execution_count": 0,
      "outputs": []
    },
    {
      "cell_type": "code",
      "metadata": {
        "id": "hQS4QQMqQEWr",
        "colab_type": "code",
        "outputId": "6296a2d1-8ddf-41bc-9e06-b7b2c189f2e2",
        "colab": {
          "base_uri": "https://localhost:8080/",
          "height": 195
        }
      },
      "source": [
        "grants = grants.drop(\"xml\" ,axis=1)\n",
        "grants.head()"
      ],
      "execution_count": 0,
      "outputs": [
        {
          "output_type": "execute_result",
          "data": {
            "text/html": [
              "<div>\n",
              "<style scoped>\n",
              "    .dataframe tbody tr th:only-of-type {\n",
              "        vertical-align: middle;\n",
              "    }\n",
              "\n",
              "    .dataframe tbody tr th {\n",
              "        vertical-align: top;\n",
              "    }\n",
              "\n",
              "    .dataframe thead th {\n",
              "        text-align: right;\n",
              "    }\n",
              "</style>\n",
              "<table border=\"1\" class=\"dataframe\">\n",
              "  <thead>\n",
              "    <tr style=\"text-align: right;\">\n",
              "      <th></th>\n",
              "      <th>parsed</th>\n",
              "      <th>claim_cited_grant</th>\n",
              "      <th>background</th>\n",
              "    </tr>\n",
              "  </thead>\n",
              "  <tbody>\n",
              "    <tr>\n",
              "      <th>0</th>\n",
              "      <td>6837113</td>\n",
              "      <td>A method for determining an estimated velocity...</td>\n",
              "      <td>CROSS-REFERENCE TO RELATED APPLICATIONS Not Ap...</td>\n",
              "    </tr>\n",
              "    <tr>\n",
              "      <th>1</th>\n",
              "      <td>6837224</td>\n",
              "      <td>An evaporated fuel treatment device for intern...</td>\n",
              "      <td>BACKGROUND OF THE INVENTION 1. Field of the In...</td>\n",
              "    </tr>\n",
              "    <tr>\n",
              "      <th>2</th>\n",
              "      <td>6837699</td>\n",
              "      <td>An apparatus for clamping used in molding appl...</td>\n",
              "      <td>BACKGROUND OF THE INVENTION 1) Field of the In...</td>\n",
              "    </tr>\n",
              "    <tr>\n",
              "      <th>3</th>\n",
              "      <td>6837886</td>\n",
              "      <td>A system, comprising:a catheter having a braid...</td>\n",
              "      <td>BACKGROUND OF THE INVENTION 1. Field of the In...</td>\n",
              "    </tr>\n",
              "    <tr>\n",
              "      <th>4</th>\n",
              "      <td>6837901</td>\n",
              "      <td>The method of delivering a shape memory stent ...</td>\n",
              "      <td>FIELD OF THE INVENTION The present invention g...</td>\n",
              "    </tr>\n",
              "  </tbody>\n",
              "</table>\n",
              "</div>"
            ],
            "text/plain": [
              "    parsed  ...                                         background\n",
              "0  6837113  ...  CROSS-REFERENCE TO RELATED APPLICATIONS Not Ap...\n",
              "1  6837224  ...  BACKGROUND OF THE INVENTION 1. Field of the In...\n",
              "2  6837699  ...  BACKGROUND OF THE INVENTION 1) Field of the In...\n",
              "3  6837886  ...  BACKGROUND OF THE INVENTION 1. Field of the In...\n",
              "4  6837901  ...  FIELD OF THE INVENTION The present invention g...\n",
              "\n",
              "[5 rows x 3 columns]"
            ]
          },
          "metadata": {
            "tags": []
          },
          "execution_count": 9
        }
      ]
    },
    {
      "cell_type": "code",
      "metadata": {
        "id": "FdI_28ntQG_T",
        "colab_type": "code",
        "outputId": "f2146a05-467a-4010-b5e2-128b15476ad3",
        "colab": {
          "base_uri": "https://localhost:8080/",
          "height": 195
        }
      },
      "source": [
        "test_app = test_app.drop(\"xml\" ,axis=1)\n",
        "test_app.head()"
      ],
      "execution_count": 0,
      "outputs": [
        {
          "output_type": "execute_result",
          "data": {
            "text/html": [
              "<div>\n",
              "<style scoped>\n",
              "    .dataframe tbody tr th:only-of-type {\n",
              "        vertical-align: middle;\n",
              "    }\n",
              "\n",
              "    .dataframe tbody tr th {\n",
              "        vertical-align: top;\n",
              "    }\n",
              "\n",
              "    .dataframe thead th {\n",
              "        text-align: right;\n",
              "    }\n",
              "</style>\n",
              "<table border=\"1\" class=\"dataframe\">\n",
              "  <thead>\n",
              "    <tr style=\"text-align: right;\">\n",
              "      <th></th>\n",
              "      <th>app_id</th>\n",
              "      <th>claim_app</th>\n",
              "      <th>background</th>\n",
              "    </tr>\n",
              "  </thead>\n",
              "  <tbody>\n",
              "    <tr>\n",
              "      <th>0</th>\n",
              "      <td>12211548</td>\n",
              "      <td>A method for ranking an entity against a group...</td>\n",
              "      <td>FIELD OF THE INVENTION The present invention r...</td>\n",
              "    </tr>\n",
              "    <tr>\n",
              "      <th>1</th>\n",
              "      <td>12765236</td>\n",
              "      <td>A dental composition comprising:(1) at least o...</td>\n",
              "      <td>The field of the invention is that of dental c...</td>\n",
              "    </tr>\n",
              "    <tr>\n",
              "      <th>2</th>\n",
              "      <td>12827269</td>\n",
              "      <td>A vehicle, comprising:a chassis; a platform su...</td>\n",
              "      <td>TECHNICAL FIELD Embodiments of the present inv...</td>\n",
              "    </tr>\n",
              "    <tr>\n",
              "      <th>3</th>\n",
              "      <td>14436491</td>\n",
              "      <td>A conjugate comprising a GM-CSF polypeptide an...</td>\n",
              "      <td>BACKGROUND Cancer is thought to occur as a res...</td>\n",
              "    </tr>\n",
              "    <tr>\n",
              "      <th>4</th>\n",
              "      <td>13633425</td>\n",
              "      <td>A method for manufacturing a stack package, co...</td>\n",
              "      <td>CROSS-REFERENCE TO RELATED APPLICATIONS The pr...</td>\n",
              "    </tr>\n",
              "  </tbody>\n",
              "</table>\n",
              "</div>"
            ],
            "text/plain": [
              "     app_id  ...                                         background\n",
              "0  12211548  ...  FIELD OF THE INVENTION The present invention r...\n",
              "1  12765236  ...  The field of the invention is that of dental c...\n",
              "2  12827269  ...  TECHNICAL FIELD Embodiments of the present inv...\n",
              "3  14436491  ...  BACKGROUND Cancer is thought to occur as a res...\n",
              "4  13633425  ...  CROSS-REFERENCE TO RELATED APPLICATIONS The pr...\n",
              "\n",
              "[5 rows x 3 columns]"
            ]
          },
          "metadata": {
            "tags": []
          },
          "execution_count": 10
        }
      ]
    },
    {
      "cell_type": "code",
      "metadata": {
        "id": "pJQMfVb2QIJu",
        "colab_type": "code",
        "outputId": "621d22a3-91bc-40c0-e031-61d9fd559ff5",
        "colab": {
          "base_uri": "https://localhost:8080/",
          "height": 195
        }
      },
      "source": [
        "train_app = train_app.drop(\"xml\" ,axis=1)\n",
        "train_app.head()"
      ],
      "execution_count": 0,
      "outputs": [
        {
          "output_type": "execute_result",
          "data": {
            "text/html": [
              "<div>\n",
              "<style scoped>\n",
              "    .dataframe tbody tr th:only-of-type {\n",
              "        vertical-align: middle;\n",
              "    }\n",
              "\n",
              "    .dataframe tbody tr th {\n",
              "        vertical-align: top;\n",
              "    }\n",
              "\n",
              "    .dataframe thead th {\n",
              "        text-align: right;\n",
              "    }\n",
              "</style>\n",
              "<table border=\"1\" class=\"dataframe\">\n",
              "  <thead>\n",
              "    <tr style=\"text-align: right;\">\n",
              "      <th></th>\n",
              "      <th>app_id</th>\n",
              "      <th>claim_app</th>\n",
              "      <th>background</th>\n",
              "    </tr>\n",
              "  </thead>\n",
              "  <tbody>\n",
              "    <tr>\n",
              "      <th>0</th>\n",
              "      <td>12130785</td>\n",
              "      <td>A system for differentiating noise from an arr...</td>\n",
              "      <td>FIELD OF THE INVENTION The present disclosure ...</td>\n",
              "    </tr>\n",
              "    <tr>\n",
              "      <th>1</th>\n",
              "      <td>12652424</td>\n",
              "      <td>A method of allocating resources in a data war...</td>\n",
              "      <td>BACKGROUND An organization may store data in a...</td>\n",
              "    </tr>\n",
              "    <tr>\n",
              "      <th>2</th>\n",
              "      <td>12214532</td>\n",
              "      <td>A controlling method of a media processing app...</td>\n",
              "      <td>The disclosure of Japanese Patent Application ...</td>\n",
              "    </tr>\n",
              "    <tr>\n",
              "      <th>3</th>\n",
              "      <td>14204411</td>\n",
              "      <td>An electronic percussion instrument comprising...</td>\n",
              "      <td>BACKGROUND OF THE INVENTION 1. Field of the In...</td>\n",
              "    </tr>\n",
              "    <tr>\n",
              "      <th>4</th>\n",
              "      <td>13090122</td>\n",
              "      <td>A composition comprising at least one active a...</td>\n",
              "      <td>FIELD OF THE INVENTION The present invention e...</td>\n",
              "    </tr>\n",
              "  </tbody>\n",
              "</table>\n",
              "</div>"
            ],
            "text/plain": [
              "     app_id  ...                                         background\n",
              "0  12130785  ...  FIELD OF THE INVENTION The present disclosure ...\n",
              "1  12652424  ...  BACKGROUND An organization may store data in a...\n",
              "2  12214532  ...  The disclosure of Japanese Patent Application ...\n",
              "3  14204411  ...  BACKGROUND OF THE INVENTION 1. Field of the In...\n",
              "4  13090122  ...  FIELD OF THE INVENTION The present invention e...\n",
              "\n",
              "[5 rows x 3 columns]"
            ]
          },
          "metadata": {
            "tags": []
          },
          "execution_count": 11
        }
      ]
    },
    {
      "cell_type": "code",
      "metadata": {
        "id": "csyKBhIdmvc7",
        "colab_type": "code",
        "outputId": "af610ec8-5b38-453b-b1e5-4d515a4a302e",
        "colab": {
          "base_uri": "https://localhost:8080/",
          "height": 34
        }
      },
      "source": [
        "grants[\"background\"][grants[\"background\"] == \"\"].index"
      ],
      "execution_count": 0,
      "outputs": [
        {
          "output_type": "execute_result",
          "data": {
            "text/plain": [
              "Int64Index([2309], dtype='int64')"
            ]
          },
          "metadata": {
            "tags": []
          },
          "execution_count": 12
        }
      ]
    },
    {
      "cell_type": "code",
      "metadata": {
        "id": "xd0js47UQ9xO",
        "colab_type": "code",
        "outputId": "7ae1f198-2ca3-416b-b8c2-ded9a12924bf",
        "colab": {
          "base_uri": "https://localhost:8080/",
          "height": 105
        }
      },
      "source": [
        "grants[\"background\"][2309] = \"background of the invention\""
      ],
      "execution_count": 0,
      "outputs": [
        {
          "output_type": "stream",
          "text": [
            "/usr/local/lib/python3.6/dist-packages/ipykernel_launcher.py:1: SettingWithCopyWarning: \n",
            "A value is trying to be set on a copy of a slice from a DataFrame\n",
            "\n",
            "See the caveats in the documentation: http://pandas.pydata.org/pandas-docs/stable/indexing.html#indexing-view-versus-copy\n",
            "  \"\"\"Entry point for launching an IPython kernel.\n"
          ],
          "name": "stderr"
        }
      ]
    },
    {
      "cell_type": "code",
      "metadata": {
        "id": "Ue6uh3XxQynh",
        "colab_type": "code",
        "colab": {}
      },
      "source": [
        "claim_app_list = train_app['claim_app'].map(lambda x:x.split()).tolist()\n",
        "claim_grant_list = grants['claim_cited_grant'].map(lambda x:x.split()).tolist()\n",
        "background_app_list = train_app['background'].map(lambda x:x.split()).tolist()\n",
        "background_grant_list = grants['background'].map(lambda x:x.split()).tolist()"
      ],
      "execution_count": 0,
      "outputs": []
    },
    {
      "cell_type": "code",
      "metadata": {
        "id": "px-BWCUPnReJ",
        "colab_type": "code",
        "outputId": "76da9a15-d5ea-46f9-f114-4fcf7f3e4175",
        "colab": {
          "base_uri": "https://localhost:8080/",
          "height": 193
        }
      },
      "source": [
        "claim_app_list[0][0:10]"
      ],
      "execution_count": 0,
      "outputs": [
        {
          "output_type": "execute_result",
          "data": {
            "text/plain": [
              "['A',\n",
              " 'system',\n",
              " 'for',\n",
              " 'differentiating',\n",
              " 'noise',\n",
              " 'from',\n",
              " 'an',\n",
              " 'arrhythmia',\n",
              " 'of',\n",
              " 'a']"
            ]
          },
          "metadata": {
            "tags": []
          },
          "execution_count": 15
        }
      ]
    },
    {
      "cell_type": "code",
      "metadata": {
        "id": "4e8qjQytnXNa",
        "colab_type": "code",
        "outputId": "6e0ae812-e88c-4a07-dfb4-7461a5e19486",
        "colab": {
          "base_uri": "https://localhost:8080/",
          "height": 193
        }
      },
      "source": [
        "background_app_list[0][0:10]"
      ],
      "execution_count": 0,
      "outputs": [
        {
          "output_type": "execute_result",
          "data": {
            "text/plain": [
              "['FIELD',\n",
              " 'OF',\n",
              " 'THE',\n",
              " 'INVENTION',\n",
              " 'The',\n",
              " 'present',\n",
              " 'disclosure',\n",
              " 'generally',\n",
              " 'relates',\n",
              " 'to']"
            ]
          },
          "metadata": {
            "tags": []
          },
          "execution_count": 16
        }
      ]
    },
    {
      "cell_type": "code",
      "metadata": {
        "id": "EfJkotWCntdH",
        "colab_type": "code",
        "outputId": "9f597bc8-c2bd-4b9b-a01f-afb801745d91",
        "colab": {
          "base_uri": "https://localhost:8080/",
          "height": 193
        }
      },
      "source": [
        "claim_grant_list[0][0:10]"
      ],
      "execution_count": 0,
      "outputs": [
        {
          "output_type": "execute_result",
          "data": {
            "text/plain": [
              "['A',\n",
              " 'method',\n",
              " 'for',\n",
              " 'determining',\n",
              " 'an',\n",
              " 'estimated',\n",
              " 'velocity',\n",
              " 'of',\n",
              " 'a',\n",
              " 'fluid']"
            ]
          },
          "metadata": {
            "tags": []
          },
          "execution_count": 17
        }
      ]
    },
    {
      "cell_type": "code",
      "metadata": {
        "id": "3FsJeqgpnwG-",
        "colab_type": "code",
        "outputId": "4cb032b8-8c5a-4488-bfd7-87ea713b95ae",
        "colab": {
          "base_uri": "https://localhost:8080/",
          "height": 193
        }
      },
      "source": [
        "background_grant_list[0][0:10]"
      ],
      "execution_count": 0,
      "outputs": [
        {
          "output_type": "execute_result",
          "data": {
            "text/plain": [
              "['CROSS-REFERENCE',\n",
              " 'TO',\n",
              " 'RELATED',\n",
              " 'APPLICATIONS',\n",
              " 'Not',\n",
              " 'Applicable.',\n",
              " 'STATEMENT',\n",
              " 'REGARDING',\n",
              " 'FEDERALLY',\n",
              " 'SPONSORED']"
            ]
          },
          "metadata": {
            "tags": []
          },
          "execution_count": 18
        }
      ]
    },
    {
      "cell_type": "code",
      "metadata": {
        "id": "JKrAKZwrnjgG",
        "colab_type": "code",
        "colab": {}
      },
      "source": [
        "claim_list = np.concatenate((claim_app_list, claim_grant_list))\n",
        "background_list = np.concatenate((background_app_list, background_grant_list))"
      ],
      "execution_count": 0,
      "outputs": []
    },
    {
      "cell_type": "code",
      "metadata": {
        "id": "rLVQR445n0ex",
        "colab_type": "code",
        "outputId": "bb641686-6e2f-42ed-a3ad-58d9b243ef67",
        "colab": {
          "base_uri": "https://localhost:8080/",
          "height": 34
        }
      },
      "source": [
        "claim_list.shape"
      ],
      "execution_count": 0,
      "outputs": [
        {
          "output_type": "execute_result",
          "data": {
            "text/plain": [
              "(9440,)"
            ]
          },
          "metadata": {
            "tags": []
          },
          "execution_count": 20
        }
      ]
    },
    {
      "cell_type": "code",
      "metadata": {
        "id": "97jPse7kn8c8",
        "colab_type": "code",
        "outputId": "cd31eb71-3c12-4683-ac36-663796f6968e",
        "colab": {
          "base_uri": "https://localhost:8080/",
          "height": 34
        }
      },
      "source": [
        "background_list.shape"
      ],
      "execution_count": 0,
      "outputs": [
        {
          "output_type": "execute_result",
          "data": {
            "text/plain": [
              "(9440,)"
            ]
          },
          "metadata": {
            "tags": []
          },
          "execution_count": 21
        }
      ]
    },
    {
      "cell_type": "code",
      "metadata": {
        "id": "GkMMGtTFoGAV",
        "colab_type": "code",
        "colab": {}
      },
      "source": [
        "corpus = np.concatenate((claim_list, background_list))"
      ],
      "execution_count": 0,
      "outputs": []
    },
    {
      "cell_type": "code",
      "metadata": {
        "id": "Oac8k3RSoY2r",
        "colab_type": "code",
        "outputId": "cb30b789-fb5f-4518-d31c-ebac46f0f69a",
        "colab": {
          "base_uri": "https://localhost:8080/",
          "height": 52
        }
      },
      "source": [
        "%%time\n",
        "\n",
        "w2v = Word2Vec(corpus, size=100, window=5, min_count=5, workers=CPUNUM, iter=10, hs=1)"
      ],
      "execution_count": 0,
      "outputs": [
        {
          "output_type": "stream",
          "text": [
            "CPU times: user 22min 26s, sys: 4.08 s, total: 22min 30s\n",
            "Wall time: 11min 30s\n"
          ],
          "name": "stdout"
        }
      ]
    },
    {
      "cell_type": "code",
      "metadata": {
        "id": "z751s-tPocio",
        "colab_type": "code",
        "outputId": "4f1fb64f-2513-4b50-d15e-24ddf3af37af",
        "colab": {
          "base_uri": "https://localhost:8080/",
          "height": 283
        }
      },
      "source": [
        "w2v.most_similar('generator')"
      ],
      "execution_count": 0,
      "outputs": [
        {
          "output_type": "stream",
          "text": [
            "/usr/local/lib/python3.6/dist-packages/ipykernel_launcher.py:1: DeprecationWarning: Call to deprecated `most_similar` (Method will be removed in 4.0.0, use self.wv.most_similar() instead).\n",
            "  \"\"\"Entry point for launching an IPython kernel.\n",
            "/usr/local/lib/python3.6/dist-packages/gensim/matutils.py:737: FutureWarning: Conversion of the second argument of issubdtype from `int` to `np.signedinteger` is deprecated. In future, it will be treated as `np.int64 == np.dtype(int).type`.\n",
            "  if np.issubdtype(vec.dtype, np.int):\n"
          ],
          "name": "stderr"
        },
        {
          "output_type": "execute_result",
          "data": {
            "text/plain": [
              "[('generator,', 0.7458025217056274),\n",
              " ('generators', 0.5942373275756836),\n",
              " ('controller', 0.5696372389793396),\n",
              " ('detector', 0.5422559976577759),\n",
              " ('comparator', 0.5274053812026978),\n",
              " ('processor', 0.52706378698349),\n",
              " ('converter', 0.5255592465400696),\n",
              " ('pulse', 0.5197961330413818),\n",
              " ('microcontroller', 0.515791654586792),\n",
              " ('motor', 0.5120790004730225)]"
            ]
          },
          "metadata": {
            "tags": []
          },
          "execution_count": 24
        }
      ]
    },
    {
      "cell_type": "code",
      "metadata": {
        "id": "djk2rX6uojnQ",
        "colab_type": "code",
        "colab": {}
      },
      "source": [
        ""
      ],
      "execution_count": 0,
      "outputs": []
    },
    {
      "cell_type": "code",
      "metadata": {
        "id": "eSwLhusZoj_N",
        "colab_type": "code",
        "colab": {}
      },
      "source": [
        "def text_to_vec(text):\n",
        "    words = text.split()\n",
        "    filtered_words = []\n",
        "    \n",
        "    for word in words:\n",
        "        if word in w2v.wv.vocab:\n",
        "            filtered_words.append(word)\n",
        "    vec = np.average(w2v[filtered_words], axis=0)\n",
        "    return vec"
      ],
      "execution_count": 0,
      "outputs": []
    },
    {
      "cell_type": "code",
      "metadata": {
        "id": "oCSLc7tiqhr6",
        "colab_type": "code",
        "outputId": "60ff5098-e0ee-4916-adff-17dd1c970213",
        "colab": {
          "base_uri": "https://localhost:8080/",
          "height": 87
        }
      },
      "source": [
        "%%time\n",
        "\n",
        "train_app_claim_w2v = np.array([text_to_vec(claim) for claim in train_app['claim_app']])\n",
        "\n",
        "train_app_background_w2v = np.array([text_to_vec(background) for background in train_app['background']])"
      ],
      "execution_count": 0,
      "outputs": [
        {
          "output_type": "stream",
          "text": [
            "/usr/local/lib/python3.6/dist-packages/ipykernel_launcher.py:8: DeprecationWarning: Call to deprecated `__getitem__` (Method will be removed in 4.0.0, use self.wv.__getitem__() instead).\n",
            "  \n"
          ],
          "name": "stderr"
        },
        {
          "output_type": "stream",
          "text": [
            "CPU times: user 26.4 s, sys: 191 ms, total: 26.6 s\n",
            "Wall time: 26.6 s\n"
          ],
          "name": "stdout"
        }
      ]
    },
    {
      "cell_type": "code",
      "metadata": {
        "id": "zA_PSO6VtNa1",
        "colab_type": "code",
        "colab": {}
      },
      "source": [
        "train_app_feature = np.concatenate([train_app_claim_w2v, train_app_background_w2v], 1)"
      ],
      "execution_count": 0,
      "outputs": []
    },
    {
      "cell_type": "code",
      "metadata": {
        "id": "clURUX9Xr8Vi",
        "colab_type": "code",
        "colab": {}
      },
      "source": [
        "train_app[train_app['background']==\"\"].index"
      ],
      "execution_count": 0,
      "outputs": []
    },
    {
      "cell_type": "code",
      "metadata": {
        "id": "rEz00GXSsGj7",
        "colab_type": "code",
        "outputId": "48e0aa24-33a1-475f-e636-48451cfd3318",
        "colab": {
          "base_uri": "https://localhost:8080/",
          "height": 105
        }
      },
      "source": [
        "train_app[\"background\"][213] = \"background of the invention\""
      ],
      "execution_count": 0,
      "outputs": [
        {
          "output_type": "stream",
          "text": [
            "/usr/local/lib/python3.6/dist-packages/ipykernel_launcher.py:1: SettingWithCopyWarning: \n",
            "A value is trying to be set on a copy of a slice from a DataFrame\n",
            "\n",
            "See the caveats in the documentation: http://pandas.pydata.org/pandas-docs/stable/indexing.html#indexing-view-versus-copy\n",
            "  \"\"\"Entry point for launching an IPython kernel.\n"
          ],
          "name": "stderr"
        }
      ]
    },
    {
      "cell_type": "code",
      "metadata": {
        "id": "WNUyz0kcsXw_",
        "colab_type": "code",
        "colab": {}
      },
      "source": [
        "test_app[test_app['background']==\"\"].index"
      ],
      "execution_count": 0,
      "outputs": []
    },
    {
      "cell_type": "code",
      "metadata": {
        "id": "6ZRkQTnwsbTq",
        "colab_type": "code",
        "colab": {}
      },
      "source": [
        "grants[grants['background']==\"\"].index"
      ],
      "execution_count": 0,
      "outputs": []
    },
    {
      "cell_type": "code",
      "metadata": {
        "id": "Xu3RQ6sMokjr",
        "colab_type": "code",
        "outputId": "22e066d0-36a8-4dd1-cea0-111aee7ef24d",
        "colab": {
          "base_uri": "https://localhost:8080/",
          "height": 87
        }
      },
      "source": [
        "%%time\n",
        "\n",
        "test_app_claim_w2v = np.array([text_to_vec(claim) for claim in test_app['claim_app']])\n",
        "\n",
        "test_app_background_w2v = np.array([text_to_vec(background) for background in test_app['background']])"
      ],
      "execution_count": 0,
      "outputs": [
        {
          "output_type": "stream",
          "text": [
            "/usr/local/lib/python3.6/dist-packages/ipykernel_launcher.py:8: DeprecationWarning: Call to deprecated `__getitem__` (Method will be removed in 4.0.0, use self.wv.__getitem__() instead).\n",
            "  \n"
          ],
          "name": "stderr"
        },
        {
          "output_type": "stream",
          "text": [
            "CPU times: user 26.5 s, sys: 136 ms, total: 26.6 s\n",
            "Wall time: 26.6 s\n"
          ],
          "name": "stdout"
        }
      ]
    },
    {
      "cell_type": "code",
      "metadata": {
        "id": "JYW5C2NKtR89",
        "colab_type": "code",
        "colab": {}
      },
      "source": [
        "test_app_feature = np.concatenate([test_app_claim_w2v, test_app_background_w2v], 1)"
      ],
      "execution_count": 0,
      "outputs": []
    },
    {
      "cell_type": "code",
      "metadata": {
        "id": "9VJg4EeNq01A",
        "colab_type": "code",
        "outputId": "4a67bf0e-283f-44c5-804b-45f116d88db1",
        "colab": {
          "base_uri": "https://localhost:8080/",
          "height": 87
        }
      },
      "source": [
        "%%time\n",
        "\n",
        "grant_claim_w2v = np.array([text_to_vec(claim) for claim in grants['claim_cited_grant']])\n",
        "\n",
        "grant_background_w2v = np.array([text_to_vec(background) for background in grants['background']])"
      ],
      "execution_count": 0,
      "outputs": [
        {
          "output_type": "stream",
          "text": [
            "/usr/local/lib/python3.6/dist-packages/ipykernel_launcher.py:8: DeprecationWarning: Call to deprecated `__getitem__` (Method will be removed in 4.0.0, use self.wv.__getitem__() instead).\n",
            "  \n"
          ],
          "name": "stderr"
        },
        {
          "output_type": "stream",
          "text": [
            "CPU times: user 1min 15s, sys: 502 ms, total: 1min 16s\n",
            "Wall time: 1min 16s\n"
          ],
          "name": "stdout"
        }
      ]
    },
    {
      "cell_type": "code",
      "metadata": {
        "id": "nIgm0xURtUe2",
        "colab_type": "code",
        "colab": {}
      },
      "source": [
        "grant_feature = np.concatenate([grant_claim_w2v, grant_background_w2v], 1)"
      ],
      "execution_count": 0,
      "outputs": []
    },
    {
      "cell_type": "code",
      "metadata": {
        "id": "XFnkWrjFptRb",
        "colab_type": "code",
        "outputId": "8f2ff8a3-5b80-4ca9-ad67-7630bd9a61e0",
        "colab": {
          "base_uri": "https://localhost:8080/",
          "height": 70
        }
      },
      "source": [
        "import gzip\n",
        "import pickle\n",
        "\n",
        "filename = \"train_ipc_section.pkl.gz\"\n",
        "\n",
        "!gsutil cp gs://mlstudy-phys/data/{filename} ./\n",
        "\n",
        "with gzip.open(filename, 'rb') as f:\n",
        "  train_ipc = pickle.load(f)"
      ],
      "execution_count": 0,
      "outputs": [
        {
          "output_type": "stream",
          "text": [
            "Copying gs://mlstudy-phys/data/train_ipc_section.pkl.gz...\n",
            "/ [1 files][ 49.1 KiB/ 49.1 KiB]                                                \n",
            "Operation completed over 1 objects/49.1 KiB.                                     \n"
          ],
          "name": "stdout"
        }
      ]
    },
    {
      "cell_type": "code",
      "metadata": {
        "id": "ATZPmvAwo96U",
        "colab_type": "code",
        "outputId": "609e0f31-a21c-4ff4-aec2-14ebcfb898ef",
        "colab": {
          "base_uri": "https://localhost:8080/",
          "height": 70
        }
      },
      "source": [
        "filename = \"test_ipc_section.pkl.gz\"\n",
        "\n",
        "!gsutil cp gs://mlstudy-phys/data/{filename} ./\n",
        "\n",
        "with gzip.open(filename, 'rb') as f:\n",
        "  test_ipc = pickle.load(f)"
      ],
      "execution_count": 0,
      "outputs": [
        {
          "output_type": "stream",
          "text": [
            "Copying gs://mlstudy-phys/data/test_ipc_section.pkl.gz...\n",
            "/ [1 files][ 49.2 KiB/ 49.2 KiB]                                                \n",
            "Operation completed over 1 objects/49.2 KiB.                                     \n"
          ],
          "name": "stdout"
        }
      ]
    },
    {
      "cell_type": "code",
      "metadata": {
        "id": "AVcgACVNpiRH",
        "colab_type": "code",
        "outputId": "04f4d977-7f2b-47a8-b0f9-3a301c699297",
        "colab": {
          "base_uri": "https://localhost:8080/",
          "height": 70
        }
      },
      "source": [
        "filename = \"grant_ipc_section.pkl.gz\"\n",
        "\n",
        "!gsutil cp gs://mlstudy-phys/data/{filename} ./\n",
        "\n",
        "with gzip.open(filename, 'rb') as f:\n",
        "  grant_ipc = pickle.load(f)"
      ],
      "execution_count": 0,
      "outputs": [
        {
          "output_type": "stream",
          "text": [
            "Copying gs://mlstudy-phys/data/grant_ipc_section.pkl.gz...\n",
            "/ [1 files][101.3 KiB/101.3 KiB]                                                \n",
            "Operation completed over 1 objects/101.3 KiB.                                    \n"
          ],
          "name": "stdout"
        }
      ]
    },
    {
      "cell_type": "code",
      "metadata": {
        "id": "rIz9afA1qHFo",
        "colab_type": "code",
        "outputId": "0bc24d92-7f5f-425d-99d1-5ea7ce8658e9",
        "colab": {
          "base_uri": "https://localhost:8080/",
          "height": 34
        }
      },
      "source": [
        "train_ipc_list = [elm for elm in train_ipc.values]\n",
        "train_ipc_list = np.array(train_ipc_list).reshape(3000,8)\n",
        "train_new_feature = np.concatenate([train_app_feature, train_ipc_list], 1)\n",
        "train_new_feature.shape"
      ],
      "execution_count": 0,
      "outputs": [
        {
          "output_type": "execute_result",
          "data": {
            "text/plain": [
              "(3000, 208)"
            ]
          },
          "metadata": {
            "tags": []
          },
          "execution_count": 37
        }
      ]
    },
    {
      "cell_type": "code",
      "metadata": {
        "id": "j2YBNdUetC5A",
        "colab_type": "code",
        "outputId": "b2474884-8a2a-4261-d891-fd5f2b209222",
        "colab": {
          "base_uri": "https://localhost:8080/",
          "height": 34
        }
      },
      "source": [
        "test_ipc_list = [elm for elm in test_ipc.values]\n",
        "test_ipc_list = np.array(test_ipc_list).reshape(3000,8)\n",
        "test_new_feature = np.concatenate([test_app_feature, test_ipc_list], 1)\n",
        "test_new_feature.shape"
      ],
      "execution_count": 0,
      "outputs": [
        {
          "output_type": "execute_result",
          "data": {
            "text/plain": [
              "(3000, 208)"
            ]
          },
          "metadata": {
            "tags": []
          },
          "execution_count": 38
        }
      ]
    },
    {
      "cell_type": "code",
      "metadata": {
        "id": "8DJiIbYTtiES",
        "colab_type": "code",
        "outputId": "86a77b87-de17-423f-8769-58b2e84cfb99",
        "colab": {
          "base_uri": "https://localhost:8080/",
          "height": 34
        }
      },
      "source": [
        "grant_ipc_list = [elm for elm in grant_ipc.values]\n",
        "grant_ipc_list = np.array(grant_ipc_list).reshape(6440,8)\n",
        "grant_new_feature = np.concatenate([grant_feature, grant_ipc_list], 1)\n",
        "grant_new_feature.shape"
      ],
      "execution_count": 0,
      "outputs": [
        {
          "output_type": "execute_result",
          "data": {
            "text/plain": [
              "(6440, 208)"
            ]
          },
          "metadata": {
            "tags": []
          },
          "execution_count": 39
        }
      ]
    },
    {
      "cell_type": "code",
      "metadata": {
        "id": "a6yniOpfttkF",
        "colab_type": "code",
        "colab": {}
      },
      "source": [
        "import math\n",
        "import tensorflow as tf\n",
        "\n",
        "tf.enable_eager_execution()"
      ],
      "execution_count": 0,
      "outputs": []
    },
    {
      "cell_type": "code",
      "metadata": {
        "id": "I1Az-8r9tuZt",
        "colab_type": "code",
        "colab": {}
      },
      "source": [
        "# LOSS FUNCTIONS\n",
        "\n",
        "# EUCLIDEAN DISTANCE\n",
        "# def dist(a, b):\n",
        "#     with tf.name_scope('dist'):\n",
        "#         # assuming that 'a' has dimensions 18 x 100 and 'b' has dimensions \n",
        "#         # 34x100, we would like to produce a vector with all distances,\n",
        "#         # having the shape 18 x 34.\n",
        "#         # we hence first cast 'a' to a shape 18 x 1 x 100\n",
        "#         # and then 'b' to a shape 1 x 34 x 100. \n",
        "#         # rules of broadcasting then give us a tensor of 18 x 34 x 100\n",
        "#         # summing over the last axis only (axis=-1) gives us the desired\n",
        "#         # 18 x 34 shape\n",
        "#         diffs = tf.expand_dims(a, axis=1) - tf.expand_dims(b, axis=0)\n",
        "#         return tf.sqrt(tf.reduce_sum(tf.square(diffs), axis=-1) + 1e-12)\n",
        "\n",
        "# COSINE DISTANCE\n",
        "def dist(a, b):\n",
        "    with tf.name_scope('dist'):\n",
        "        prods = tf.math.multiply(tf.expand_dims(a, axis=1), tf.expand_dims(b, axis=0))\n",
        "        unnormalized_dist = tf.subtract(tf.constant(1.0, dtype=tf.float32),\n",
        "                                        tf.reduce_sum(prods, axis=-1))\n",
        "        normalized_dist = tf.multiply(unnormalized_dist, 0.5)\n",
        "\n",
        "        return normalized_dist + 1e-12\n",
        "\n",
        "# angle distance\n",
        "def dist_2(a, b):\n",
        "    with tf.name_scope('dist'):\n",
        "        prods = tf.math.multiply(tf.expand_dims(a, axis=1), tf.expand_dims(b, axis=0))\n",
        "        angle = tf.math.acos(tf.reduce_sum(prods, axis=-1))\n",
        "        normalized_angle = tf.div(angle, tf.constant(math.pi))\n",
        "\n",
        "        return normalized_angle + 1e-12\n",
        "      \n",
        "def calc_cited_mask(data_dict):\n",
        "    aids_one_hot = tf.equal(tf.expand_dims(data_dict['app_ids_u'], axis=1),\n",
        "                            tf.expand_dims(data_dict['app_ids'], axis=0))\n",
        "    gids_one_hot = tf.equal(tf.expand_dims(data_dict['grant_ids'], axis=1),\n",
        "                            tf.expand_dims(data_dict['grant_ids_u'], axis=0))\n",
        "    cited_mask = tf.matmul(tf.cast(aids_one_hot, tf.int32), \n",
        "                           tf.cast(gids_one_hot, tf.int32))\n",
        "    cited_mask = tf.equal(cited_mask, 1)\n",
        "    return cited_mask\n",
        "  \n",
        "def batch_hard(dists, cited_mask, margin=0.2):\n",
        "    # Assume that app_ids_unique has shape (18, ) and grant_ids_unique (34,)\n",
        "    # app_ids and grant_ids have the same length, 36. This implies \n",
        "    # that there are 2 grants that appear twice.\n",
        "    # We construct a mask for same identity of shape 18 x 34\n",
        "    negative_mask = tf.logical_not(cited_mask)\n",
        "    positive_mask = cited_mask\n",
        "    furthest_positive = tf.reduce_max(dists*tf.cast(positive_mask, tf.float32),\n",
        "                                      axis=1)\n",
        "    closest_negative = tf.map_fn(lambda x:tf.reduce_min(\n",
        "                                 tf.boolean_mask(x[0], x[1])),\n",
        "                                 (dists, negative_mask), tf.float32)\n",
        "    diff = furthest_positive - closest_negative\n",
        "    loss = tf.maximum(diff + margin, 0.0)\n",
        "    return loss\n",
        "  \n",
        "def calc_ranks(rdists, cited_mask):\n",
        "    _, indices = tf.nn.top_k(-rdists, k=rdists.shape[1])\n",
        "    _, indices = tf.nn.top_k(-indices, k=rdists.shape[1])\n",
        "    indices = indices +1\n",
        "    sorted_ranks = tf.sort(tf.reshape(tf.cast(cited_mask, tf.int32) * indices, \n",
        "                                      [-1]))\n",
        "    unique, vals, counts = tf.unique_with_counts(sorted_ranks)\n",
        "    return dict(zip(unique.numpy(), counts.numpy()))\n",
        "  "
      ],
      "execution_count": 0,
      "outputs": []
    },
    {
      "cell_type": "code",
      "metadata": {
        "id": "7Cz1o91PtxWC",
        "colab_type": "code",
        "colab": {}
      },
      "source": [
        "class Model(object):\n",
        "    def __init__(self, input_shape, output_shape):\n",
        "        self.input_shape = input_shape\n",
        "        self.output_shape = output_shape\n",
        "        self.W = tf.Variable( tf.random_normal( [self.input_shape, self.output_shape] ), name='weight' )\n",
        "        self.B = tf.Variable( tf.random_normal( [self.output_shape] ), name='bias' ) \n",
        "        self.variables = [ self.W, self.B ]\n",
        "    \n",
        "    def frwrd_pass(self,X_train):\n",
        "        out = tf.matmul( X_train, self.W ) + self.B\n",
        "        normalized_out = tf.nn.l2_normalize(out, axis=1)\n",
        "        return normalized_out"
      ],
      "execution_count": 0,
      "outputs": []
    },
    {
      "cell_type": "code",
      "metadata": {
        "id": "ohF1kA8EtzJp",
        "colab_type": "code",
        "colab": {}
      },
      "source": [
        "train_normalized_feature_dict_3000 = { \n",
        "    k:v/np.linalg.norm(v) for k,v in zip(train_app['app_id'], train_new_feature[:, ])\n",
        "}\n",
        "\n",
        "grants_normalized_feature_dict_6000 = { \n",
        "    \n",
        "    k:v/np.linalg.norm(v) for k,v in zip(grants['parsed'], grant_new_feature[:, ])\n",
        "}\n",
        "\n",
        "test_normalized_feature_dict_3000 = { \n",
        "    k:v/np.linalg.norm(v) for k,v in zip(test_app['app_id'], test_new_feature[:, ])\n",
        "}"
      ],
      "execution_count": 0,
      "outputs": []
    },
    {
      "cell_type": "code",
      "metadata": {
        "id": "CmrMdR07t8yM",
        "colab_type": "code",
        "colab": {}
      },
      "source": [
        "train_apps_df = pd.DataFrame.from_dict(train_normalized_feature_dict_3000).T\n",
        "grants_target_df = pd.DataFrame.from_dict(grants_normalized_feature_dict_6000).T\n",
        "test_apps_df = pd.DataFrame.from_dict(test_normalized_feature_dict_3000).T"
      ],
      "execution_count": 0,
      "outputs": []
    },
    {
      "cell_type": "code",
      "metadata": {
        "id": "jvD1DNNkuDBW",
        "colab_type": "code",
        "colab": {}
      },
      "source": [
        "def make_dict_from_chunk(df):\n",
        "    app_ids_u = df.index.values\n",
        "    cited_df = citations_info_target.loc[:, ['app_id', 'parsed']]\\\n",
        "                   .drop_duplicates().set_index('app_id')\\\n",
        "                   .loc[app_ids_u, ['parsed']].reset_index()\n",
        "    app_ids = cited_df.app_id.values\n",
        "    grant_ids = cited_df.parsed.values\n",
        "    grant_ids_u = cited_df.parsed.unique()\n",
        "    app_ids_u_blob = df.reindex(app_ids_u).values\n",
        "    grant_ids_u_blob = grants_target_df.reindex(grant_ids_u).values\n",
        "    data_dict = {'app_ids_u':app_ids_u, 'app_ids':app_ids, \n",
        "                 'app_ids_u_blob': app_ids_u_blob,\n",
        "                 \n",
        "                 'grant_ids_u':grant_ids_u, 'grant_ids':grant_ids,\n",
        "                 'grant_ids_u_blob':grant_ids_u_blob}\n",
        "    return data_dict\n",
        "\n",
        "def get_batch(b_size=20, df=train_apps_df):\n",
        "    df = df.sample(frac=1)\n",
        "    for chunk in np.array_split(df, b_size):\n",
        "        yield make_dict_from_chunk(chunk)"
      ],
      "execution_count": 0,
      "outputs": []
    },
    {
      "cell_type": "code",
      "metadata": {
        "id": "dkmTVgX2uENV",
        "colab_type": "code",
        "colab": {}
      },
      "source": [
        "from tqdm import tqdm_notebook as tqdm"
      ],
      "execution_count": 0,
      "outputs": []
    },
    {
      "cell_type": "code",
      "metadata": {
        "id": "FGXj4kIwuVCu",
        "colab_type": "code",
        "outputId": "f1ba2078-f668-4a51-b339-475868bfd108",
        "colab": {
          "base_uri": "https://localhost:8080/",
          "height": 70
        }
      },
      "source": [
        "!gsutil cp gs://mlstudy-phys/data/citations_info_3000+3000.df.gz ./\n",
        "\n",
        "citations_info_target = pd.read_pickle(\"./citations_info_3000+3000.df.gz\")"
      ],
      "execution_count": 0,
      "outputs": [
        {
          "output_type": "stream",
          "text": [
            "Copying gs://mlstudy-phys/data/citations_info_3000+3000.df.gz...\n",
            "/ [0 files][    0.0 B/506.5 KiB]                                                \r/ [1 files][506.5 KiB/506.5 KiB]                                                \r\n",
            "Operation completed over 1 objects/506.5 KiB.                                    \n"
          ],
          "name": "stdout"
        }
      ]
    },
    {
      "cell_type": "code",
      "metadata": {
        "id": "izH9HGRfuFxH",
        "colab_type": "code",
        "outputId": "216d6af4-084a-4a0c-8656-c93f58537eeb",
        "colab": {
          "base_uri": "https://localhost:8080/",
          "height": 545
        }
      },
      "source": [
        "loss_history = []\n",
        "model_apps = Model(input_shape=208, output_shape=100)\n",
        "model = Model(input_shape=208, output_shape=100)\n",
        "EPOCHS = 30\n",
        "BATCH_SIZE = 100\n",
        "\n",
        "dev_data_dict = make_dict_from_chunk(test_apps_df.iloc[:200])\n",
        "train_check_data_dict = make_dict_from_chunk(train_apps_df.iloc[:100])\n",
        "\n",
        "def calc_dists_for_model(dd, model):\n",
        "  app_ids_u_emb = model.frwrd_pass(dd['app_ids_u_blob'].astype('float32'))\n",
        "  grant_ids_u_emb = model.frwrd_pass(dd['grant_ids_u_blob'].astype('float32'))\n",
        "\n",
        "  # angle distance\n",
        "  dists = dist_2(app_ids_u_emb, grant_ids_u_emb)\n",
        "  return dists\n",
        "\n",
        "for i in tqdm(range(EPOCHS)):\n",
        "  for data_dict in get_batch():\n",
        "    #data_dict = train_check_data_dict\n",
        "    with tf.GradientTape() as tape:\n",
        "        dists = calc_dists_for_model(data_dict, model)\n",
        "        cited_mask = calc_cited_mask(data_dict)\n",
        "        losses = batch_hard(dists, cited_mask)\n",
        "        loss = tf.reduce_mean(losses)\n",
        "    \n",
        "    global_step = tf.Variable(0, trainable=False, name='global_step')\n",
        "    learning_rate = tf.train.exponential_decay(0.01, global_step, EPOCHS, 0.96, staircase=True)\n",
        "    optimizer = tf.train.AdamOptimizer(learning_rate)\n",
        "    loss_history.append(loss.numpy())\n",
        "    grads = tape.gradient(loss, model.variables)\n",
        "    optimizer.apply_gradients(zip(grads, model.variables), global_step=global_step)\n",
        "  \n",
        "  #after every epoch, we would like to check our ranking score on the dev_data_dict,\n",
        "  #as well as on some subset of our training data dict\n",
        "  dev_dists = calc_dists_for_model(dev_data_dict, model)\n",
        "  dev_cited_mask = calc_cited_mask(dev_data_dict)\n",
        "  dev_ranks = calc_ranks(dev_dists, dev_cited_mask)\n",
        "  top_5_ranks = sum(list(dev_ranks.values())[1:6])/200.0\n",
        "  top_1_rank = list(dev_ranks.values())[1]/200.0\n",
        "  print('Top 5 ranks (%): ' + str(top_5_ranks) + ', ' + 'Top 1 rank (%): '+str(top_1_rank))\n",
        "  #train_dists = calc_dists_for_model(train_check_data_dict, model)\n",
        "  #cited_mask = calc_cited_mask(train_check_data_dict)\n",
        "  #train_ranks = calc_ranks(train_dists, cited_mask)\n",
        "  #print(train_ranks)\n",
        "  #print(loss.numpy())\n",
        "  #print(tf.cast(cited_mask, tf.int32).numpy())\n",
        "  #print(train_dists)\n",
        "  #print(dev_ranks)\n",
        "  "
      ],
      "execution_count": 0,
      "outputs": [
        {
          "output_type": "display_data",
          "data": {
            "application/vnd.jupyter.widget-view+json": {
              "model_id": "d953705a25b242c4b9997931dc7fc0b1",
              "version_minor": 0,
              "version_major": 2
            },
            "text/plain": [
              "HBox(children=(IntProgress(value=0, max=30), HTML(value='')))"
            ]
          },
          "metadata": {
            "tags": []
          }
        },
        {
          "output_type": "stream",
          "text": [
            "Top 5 ranks (%): 0.85, Top 1 rank (%): 0.515\n",
            "Top 5 ranks (%): 0.885, Top 1 rank (%): 0.545\n",
            "Top 5 ranks (%): 0.895, Top 1 rank (%): 0.595\n",
            "Top 5 ranks (%): 0.89, Top 1 rank (%): 0.6\n",
            "Top 5 ranks (%): 0.89, Top 1 rank (%): 0.605\n",
            "Top 5 ranks (%): 0.905, Top 1 rank (%): 0.615\n",
            "Top 5 ranks (%): 0.91, Top 1 rank (%): 0.615\n",
            "Top 5 ranks (%): 0.91, Top 1 rank (%): 0.635\n",
            "Top 5 ranks (%): 0.92, Top 1 rank (%): 0.63\n",
            "Top 5 ranks (%): 0.92, Top 1 rank (%): 0.63\n",
            "Top 5 ranks (%): 0.925, Top 1 rank (%): 0.625\n",
            "Top 5 ranks (%): 0.93, Top 1 rank (%): 0.63\n",
            "Top 5 ranks (%): 0.92, Top 1 rank (%): 0.62\n",
            "Top 5 ranks (%): 0.915, Top 1 rank (%): 0.61\n",
            "Top 5 ranks (%): 0.925, Top 1 rank (%): 0.615\n",
            "Top 5 ranks (%): 0.93, Top 1 rank (%): 0.635\n",
            "Top 5 ranks (%): 0.925, Top 1 rank (%): 0.64\n",
            "Top 5 ranks (%): 0.935, Top 1 rank (%): 0.63\n",
            "Top 5 ranks (%): 0.92, Top 1 rank (%): 0.625\n",
            "Top 5 ranks (%): 0.925, Top 1 rank (%): 0.62\n",
            "Top 5 ranks (%): 0.925, Top 1 rank (%): 0.655\n",
            "Top 5 ranks (%): 0.93, Top 1 rank (%): 0.64\n",
            "Top 5 ranks (%): 0.935, Top 1 rank (%): 0.645\n",
            "Top 5 ranks (%): 0.93, Top 1 rank (%): 0.63\n",
            "Top 5 ranks (%): 0.94, Top 1 rank (%): 0.63\n",
            "Top 5 ranks (%): 0.925, Top 1 rank (%): 0.635\n",
            "Top 5 ranks (%): 0.93, Top 1 rank (%): 0.64\n",
            "Top 5 ranks (%): 0.925, Top 1 rank (%): 0.645\n",
            "Top 5 ranks (%): 0.915, Top 1 rank (%): 0.635\n",
            "Top 5 ranks (%): 0.93, Top 1 rank (%): 0.645\n"
          ],
          "name": "stdout"
        }
      ]
    },
    {
      "cell_type": "code",
      "metadata": {
        "id": "buMKzbTHuNKF",
        "colab_type": "code",
        "outputId": "b3896092-afca-4986-bdc3-9b2d373922af",
        "colab": {
          "base_uri": "https://localhost:8080/",
          "height": 286
        }
      },
      "source": [
        "## Result of angle distance\n",
        "from matplotlib import pyplot as plt \n",
        "plt.plot(loss_history)"
      ],
      "execution_count": 0,
      "outputs": [
        {
          "output_type": "execute_result",
          "data": {
            "text/plain": [
              "[<matplotlib.lines.Line2D at 0x7f6b9dbeda90>]"
            ]
          },
          "metadata": {
            "tags": []
          },
          "execution_count": 77
        },
        {
          "output_type": "display_data",
          "data": {
            "image/png": "[encoded data removed]",
            "text/plain": [
              "<Figure size 432x288 with 1 Axes>"
            ]
          },
          "metadata": {
            "tags": []
          }
        }
      ]
    },
    {
      "cell_type": "code",
      "metadata": {
        "id": "hCD_rw4pujCM",
        "colab_type": "code",
        "colab": {}
      },
      "source": [
        "def to_extracted_features(normalized_feature_dict, model):\n",
        "  # doc_id is app_id for application, pared for grants.\n",
        "  sorted_keys = sorted(normalized_feature_dict.keys())\n",
        "\n",
        "  input_tensors = tf.convert_to_tensor(\n",
        "      np.array([ normalized_feature_dict[k] for k in sorted_keys ]),\n",
        "      dtype=tf.float32)\n",
        "  extracted_features = model.frwrd_pass(input_tensors).numpy()\n",
        "  return pd.DataFrame({ \n",
        "    'doc_id':sorted_keys, 'extracted_feature':[ v/np.linalg.norm(v) for v in extracted_features ]})"
      ],
      "execution_count": 0,
      "outputs": []
    },
    {
      "cell_type": "code",
      "metadata": {
        "id": "0OBaKTW2ukbV",
        "colab_type": "code",
        "colab": {}
      },
      "source": [
        "def sort_similarity_by_value(sim_dict, app_id):\n",
        "    '''\n",
        "    input:\n",
        "        sim_dict: similary dictionary\n",
        "        app_id: target application id\n",
        "    return:\n",
        "        [(parsed1, sim1), (parsed2, sim2), ...] sorted by similarities\n",
        "    '''\n",
        "    return [(parsed, sim_dict[app_id][parsed]) for parsed in sorted(sim_dict[app_id], key=sim_dict[app_id].get)]\n",
        "  \n",
        "  \n",
        "def get_cited_grants(citations_info_target, app_id):\n",
        "    '''\n",
        "    input:\n",
        "        citations_info_target: DataFrame of citation relationships\n",
        "        app_id: target application id\n",
        "    return:\n",
        "        {parsed1, parsed2, ...} that are cited to reject app_id\n",
        "    '''\n",
        "    return set(citations_info_target[citations_info_target['app_id'] == app_id]['parsed'])\n",
        "  \n",
        "def make_uncited_grants_for_app_id(sim_dict, citations_info_target, app_id, sidx, eidx, num, shuffle=True):\n",
        "    '''\n",
        "    input:\n",
        "        sim_dict: \n",
        "        citations_info_target:\n",
        "        app_id: target application id\n",
        "        sidx: start index to slice the sorted (parsed, sim) list\n",
        "        eidx: end index to slice the sorted (parsed, sim) list\n",
        "        num: number of grants that will be returned\n",
        "    return:\n",
        "        [parsed_1, parsed_2, ..., parsed_num] that are NOT cited to reject app_id\n",
        "    '''\n",
        "    sorted_grants_list = sort_similarity_by_value(sim_dict, app_id)\n",
        "    sorted_grants_list = sorted_grants_list[sidx:eidx]\n",
        "    if shuffle:\n",
        "        random.shuffle(sorted_grants_list)\n",
        "    \n",
        "    cited_grants = get_cited_grants(citations_info_target, app_id)\n",
        "    uncited_grants = []\n",
        "    \n",
        "    idx = 0\n",
        "    while len(uncited_grants) != num:\n",
        "        grant_id, _ = sorted_grants_list[idx]\n",
        "        if not grant_id in cited_grants:\n",
        "            uncited_grants.append(grant_id)\n",
        "        idx += 1\n",
        "    \n",
        "    return uncited_grants  "
      ],
      "execution_count": 0,
      "outputs": []
    },
    {
      "cell_type": "code",
      "metadata": {
        "id": "7T8KtB8Cumq5",
        "colab_type": "code",
        "colab": {}
      },
      "source": [
        "import collections\n",
        "\n",
        "def calc_all_ranks(all_app_ids, sim_dic):\n",
        "  all_ranks = []\n",
        "\n",
        "  for app_id in all_app_ids:\n",
        "      cited_grants = get_cited_grants(citations_info_target, app_id)\n",
        "      sorted_kv = reversed(sort_similarity_by_value(sim_dic, app_id))  # higher score, similar patent\n",
        "\n",
        "      idx = 1\n",
        "      for k,v in sorted_kv:\n",
        "          if k in cited_grants:\n",
        "              all_ranks.append(idx)\n",
        "          idx += 1\n",
        "  return all_ranks\n",
        "\n",
        "def calc_all_ranks_counter(all_app_ids, sim_dic):\n",
        "  return collections.Counter(calc_all_ranks(all_app_ids, sim_dic))"
      ],
      "execution_count": 0,
      "outputs": []
    },
    {
      "cell_type": "code",
      "metadata": {
        "id": "ZqhSe7LhupCF",
        "colab_type": "code",
        "colab": {}
      },
      "source": [
        "test_extracted_features_df = to_extracted_features(test_normalized_feature_dict_3000, model)\n",
        "grants_extracted_features_df = to_extracted_features(grants_normalized_feature_dict_6000, model)"
      ],
      "execution_count": 0,
      "outputs": []
    },
    {
      "cell_type": "code",
      "metadata": {
        "id": "5gpknj_guqlU",
        "colab_type": "code",
        "colab": {}
      },
      "source": [
        "# angle distance\n",
        "\n",
        "def create_sim_dict(test_extracted_df, grants_extracted_df):\n",
        "  return {\n",
        "    app_id:{# parsed:np.sum(test_f*grants_f)\n",
        "            parsed:math.pi - np.arccos(np.sum(test_f*grants_f))\n",
        "            for parsed, grants_f \n",
        "            in zip(grants_extracted_df['doc_id'], grants_extracted_df['extracted_feature']) } \n",
        "    for app_id, test_f \n",
        "    in zip(test_extracted_df['doc_id'], test_extracted_df['extracted_feature'])\n",
        "  }"
      ],
      "execution_count": 0,
      "outputs": []
    },
    {
      "cell_type": "code",
      "metadata": {
        "id": "qgYN_E82usHH",
        "colab_type": "code",
        "outputId": "3e51bf0f-0e97-4f12-9186-bebdf927325c",
        "colab": {
          "base_uri": "https://localhost:8080/",
          "height": 90
        }
      },
      "source": [
        "## Result of angle distance\n",
        "%%time\n",
        "\n",
        "sim_dict_by_extracted = create_sim_dict(test_extracted_features_df, grants_extracted_features_df)\n",
        "counter = calc_all_ranks_counter(test_extracted_features_df['doc_id'], sim_dict_by_extracted)\n",
        "print(counter)"
      ],
      "execution_count": 0,
      "outputs": [
        {
          "output_type": "stream",
          "text": [
            "Counter({1: 776, 2: 281, 3: 181, 4: 117, 5: 107, 7: 81, 6: 81, 8: 56, 11: 53, 9: 53, 10: 45, 13: 45, 12: 45, 14: 42, 16: 39, 20: 38, 15: 38, 18: 31, 21: 29, 17: 27, 19: 27, 23: 24, 22: 22, 31: 21, 24: 19, 25: 18, 28: 18, 29: 17, 43: 16, 35: 15, 26: 15, 32: 14, 33: 13, 27: 13, 39: 13, 36: 13, 51: 12, 41: 12, 42: 11, 34: 11, 55: 10, 57: 10, 50: 10, 60: 10, 100: 10, 30: 10, 65: 9, 59: 9, 45: 9, 61: 9, 56: 9, 94: 9, 40: 9, 75: 9, 49: 8, 37: 8, 46: 8, 62: 8, 48: 8, 44: 8, 38: 8, 81: 7, 74: 7, 69: 7, 66: 7, 96: 6, 47: 6, 77: 6, 68: 6, 53: 6, 129: 6, 79: 6, 186: 6, 52: 6, 98: 5, 108: 5, 118: 5, 80: 5, 142: 5, 71: 5, 76: 5, 99: 5, 63: 5, 121: 5, 95: 5, 86: 5, 141: 4, 97: 4, 106: 4, 177: 4, 174: 4, 160: 4, 54: 4, 89: 4, 82: 4, 90: 4, 78: 4, 72: 4, 135: 4, 119: 4, 123: 4, 128: 4, 91: 4, 109: 4, 101: 4, 146: 4, 88: 4, 64: 4, 112: 3, 229: 3, 84: 3, 246: 3, 264: 3, 222: 3, 185: 3, 114: 3, 110: 3, 87: 3, 155: 3, 145: 3, 231: 3, 205: 3, 107: 3, 92: 3, 111: 3, 178: 3, 244: 3, 83: 3, 1454: 2, 353: 2, 105: 2, 176: 2, 184: 2, 377: 2, 73: 2, 157: 2, 227: 2, 133: 2, 144: 2, 162: 2, 159: 2, 214: 2, 237: 2, 422: 2, 191: 2, 471: 2, 139: 2, 104: 2, 202: 2, 286: 2, 103: 2, 239: 2, 544: 2, 132: 2, 115: 2, 85: 2, 411: 2, 263: 2, 147: 2, 354: 2, 298: 2, 158: 2, 391: 2, 336: 2, 249: 2, 136: 2, 284: 2, 70: 2, 203: 2, 125: 2, 58: 2, 102: 2, 207: 1, 250: 1, 1158: 1, 1841: 1, 3225: 1, 1211: 1, 1307: 1, 415: 1, 182: 1, 276: 1, 1141: 1, 283: 1, 150: 1, 1415: 1, 1035: 1, 293: 1, 1177: 1, 1229: 1, 603: 1, 571: 1, 1345: 1, 339: 1, 565: 1, 3217: 1, 962: 1, 428: 1, 700: 1, 224: 1, 197: 1, 678: 1, 4459: 1, 2257: 1, 318: 1, 3424: 1, 4416: 1, 1232: 1, 1369: 1, 572: 1, 171: 1, 366: 1, 982: 1, 148: 1, 590: 1, 5299: 1, 122: 1, 883: 1, 2197: 1, 808: 1, 997: 1, 361: 1, 816: 1, 381: 1, 674: 1, 1054: 1, 395: 1, 1400: 1, 510: 1, 599: 1, 858: 1, 394: 1, 131: 1, 1476: 1, 290: 1, 1813: 1, 779: 1, 275: 1, 766: 1, 3615: 1, 524: 1, 665: 1, 1147: 1, 254: 1, 167: 1, 1022: 1, 754: 1, 412: 1, 1094: 1, 1543: 1, 399: 1, 215: 1, 427: 1, 187: 1, 491: 1, 601: 1, 211: 1, 2244: 1, 299: 1, 331: 1, 287: 1, 257: 1, 164: 1, 201: 1, 3348: 1, 362: 1, 585: 1, 1244: 1, 204: 1, 3499: 1, 582: 1, 563: 1, 180: 1, 887: 1, 210: 1, 226: 1, 803: 1, 569: 1, 170: 1, 1123: 1, 1224: 1, 643: 1, 1058: 1, 278: 1, 3182: 1, 117: 1, 289: 1, 493: 1, 420: 1, 1770: 1, 342: 1, 137: 1, 1564: 1, 310: 1, 516: 1, 188: 1, 830: 1, 208: 1, 219: 1, 161: 1, 1754: 1, 448: 1, 124: 1, 272: 1, 508: 1, 648: 1, 1112: 1, 1736: 1, 1764: 1, 907: 1, 140: 1, 371: 1, 499: 1, 1160: 1, 291: 1, 527: 1, 242: 1, 1318: 1, 885: 1, 1044: 1, 683: 1, 154: 1, 120: 1, 983: 1, 282: 1, 134: 1, 494: 1, 348: 1, 4311: 1, 181: 1, 1059: 1, 93: 1, 811: 1, 519: 1, 1876: 1, 273: 1, 636: 1, 2329: 1, 1327: 1, 865: 1, 641: 1, 588: 1, 505: 1, 359: 1, 465: 1, 3159: 1, 1343: 1, 175: 1, 1140: 1, 903: 1, 285: 1, 1464: 1, 196: 1, 537: 1, 475: 1, 405: 1, 843: 1, 906: 1, 710: 1, 319: 1, 6208: 1, 308: 1, 67: 1, 1020: 1, 380: 1, 580: 1, 149: 1, 163: 1, 800: 1, 189: 1, 587: 1, 1513: 1, 446: 1, 2866: 1, 1223: 1, 485: 1, 1288: 1, 116: 1, 610: 1, 3491: 1, 324: 1, 1175: 1, 604: 1, 1309: 1, 307: 1, 225: 1, 421: 1, 1647: 1, 192: 1, 387: 1, 370: 1, 306: 1, 1051: 1, 269: 1, 230: 1, 365: 1, 542: 1, 561: 1, 957: 1, 451: 1, 165: 1, 1914: 1, 340: 1, 2192: 1, 1269: 1, 1701: 1, 151: 1, 248: 1})\n",
            "CPU times: user 6min, sys: 8.18 s, total: 6min 9s\n",
            "Wall time: 6min 14s\n"
          ],
          "name": "stdout"
        }
      ]
    },
    {
      "cell_type": "code",
      "metadata": {
        "id": "ctfevO5TuwuT",
        "colab_type": "code",
        "outputId": "724f1cfd-5bf1-4a0d-f130-c7f5ea070cf1",
        "colab": {
          "base_uri": "https://localhost:8080/",
          "height": 34
        }
      },
      "source": [
        "similarities = [ list(sim_dict_by_extracted[doc_id].values()) for doc_id in test_extracted_features_df['doc_id']]\n",
        "sim_arr = np.array(similarities)\n",
        "sim_arr.shape"
      ],
      "execution_count": 0,
      "outputs": [
        {
          "output_type": "execute_result",
          "data": {
            "text/plain": [
              "(3000, 6440)"
            ]
          },
          "metadata": {
            "tags": []
          },
          "execution_count": 80
        }
      ]
    },
    {
      "cell_type": "code",
      "metadata": {
        "id": "S8ZWsIPEwT2d",
        "colab_type": "code",
        "colab": {}
      },
      "source": [
        "def test_label(app_id, grant, cite_relation):\n",
        "  cited_parsed = cite_relation[cite_relation[\"app_id\"] == app_id][\"parsed\"]\n",
        "  return [ 1 if parsed == cited_parsed.values[0] else 0 for parsed in grant[\"parsed\"] ]"
      ],
      "execution_count": 0,
      "outputs": []
    },
    {
      "cell_type": "code",
      "metadata": {
        "id": "9aRSiH6Su0vz",
        "colab_type": "code",
        "outputId": "af8b77e8-766d-442e-8d38-f0d3f911dbe0",
        "colab": {
          "base_uri": "https://localhost:8080/",
          "height": 52
        }
      },
      "source": [
        "%%time\n",
        "\n",
        "ranking = []\n",
        "\n",
        "for num in range(len(similarities)):\n",
        "\n",
        "  app_id = test_extracted_features_df['doc_id'][num]\n",
        "  label = pd.Series(test_label(app_id, grants, citations_info_target))\n",
        "    \n",
        "  i, = np.where(label == 1)\n",
        "  cited_index = i[0]\n",
        "  rank = sorted(similarities[num], reverse=True).index(similarities[num][cited_index])\n",
        "  ranking.append(rank)"
      ],
      "execution_count": 0,
      "outputs": [
        {
          "output_type": "stream",
          "text": [
            "CPU times: user 1min 12s, sys: 22.5 ms, total: 1min 12s\n",
            "Wall time: 1min 12s\n"
          ],
          "name": "stdout"
        }
      ]
    },
    {
      "cell_type": "code",
      "metadata": {
        "id": "qhnTmi3pu3Ea",
        "colab_type": "code",
        "outputId": "74dd6102-18d1-4f5b-bd64-3c43a787667f",
        "colab": {
          "base_uri": "https://localhost:8080/",
          "height": 52
        }
      },
      "source": [
        "%%time\n",
        "\n",
        "ranking_arr = np.array(ranking)\n",
        "\n",
        "positive_counts = [sum(ranking_arr <= thrd) for thrd in range(len(grants))]"
      ],
      "execution_count": 0,
      "outputs": [
        {
          "output_type": "stream",
          "text": [
            "CPU times: user 1min 24s, sys: 22.7 ms, total: 1min 25s\n",
            "Wall time: 1min 25s\n"
          ],
          "name": "stdout"
        }
      ]
    },
    {
      "cell_type": "code",
      "metadata": {
        "id": "TGwTtQ0wu3kl",
        "colab_type": "code",
        "colab": {}
      },
      "source": [
        ""
      ],
      "execution_count": 0,
      "outputs": []
    },
    {
      "cell_type": "code",
      "metadata": {
        "id": "Q7f109Miu32e",
        "colab_type": "code",
        "outputId": "496460e3-6222-4276-d15f-fd32bc4cd80b",
        "colab": {
          "base_uri": "https://localhost:8080/",
          "height": 281
        }
      },
      "source": [
        "import matplotlib.pyplot as plt\n",
        "\n",
        "plt.hist(ranking, alpha=1, bins=100, label=\"w2v claim+background+IPC with triplet loss model\")\n",
        "plt.title(\"Cited grants rank\")\n",
        "plt.legend()\n",
        "plt.show()"
      ],
      "execution_count": 0,
      "outputs": [
        {
          "output_type": "display_data",
          "data": {
            "image/png": "[encoded data removed]",
            "text/plain": [
              "<Figure size 432x288 with 1 Axes>"
            ]
          },
          "metadata": {
            "tags": []
          }
        }
      ]
    },
    {
      "cell_type": "code",
      "metadata": {
        "id": "BpPzfzXgx05D",
        "colab_type": "code",
        "outputId": "9a554358-41ca-45ca-d8c9-ae5b15cf52e9",
        "colab": {
          "base_uri": "https://localhost:8080/",
          "height": 281
        }
      },
      "source": [
        "import matplotlib.pyplot as plt\n",
        "\n",
        "plt.hist(ranking, alpha=1, bins=100, label=\"w2v claim+background+IPC with triplet loss model\")\n",
        "plt.title(\"Cited grants rank\")\n",
        "plt.yscale('log')\n",
        "plt.legend()\n",
        "plt.show()"
      ],
      "execution_count": 0,
      "outputs": [
        {
          "output_type": "display_data",
          "data": {
            "image/png": "[encoded data removed]",
            "text/plain": [
              "<Figure size 432x288 with 1 Axes>"
            ]
          },
          "metadata": {
            "tags": []
          }
        }
      ]
    },
    {
      "cell_type": "code",
      "metadata": {
        "id": "x2PyDSGNu9zw",
        "colab_type": "code",
        "outputId": "24125594-a258-405c-8253-8c635430b82c",
        "colab": {
          "base_uri": "https://localhost:8080/",
          "height": 281
        }
      },
      "source": [
        "plt.plot(range(len(grants)), positive_counts, label=\"w2v claim+background+IPC with triplet loss model\")\n",
        "plt.title(\"rank vs covered num\")\n",
        "plt.legend()\n",
        "plt.show()"
      ],
      "execution_count": 0,
      "outputs": [
        {
          "output_type": "display_data",
          "data": {
            "image/png": "[encoded data removed]",
            "text/plain": [
              "<Figure size 432x288 with 1 Axes>"
            ]
          },
          "metadata": {
            "tags": []
          }
        }
      ]
    },
    {
      "cell_type": "code",
      "metadata": {
        "id": "N_OeE22ivDDP",
        "colab_type": "code",
        "outputId": "f3b0644b-3c9a-4774-8e36-83dc8eb1fbd7",
        "colab": {
          "base_uri": "https://localhost:8080/",
          "height": 281
        }
      },
      "source": [
        "plt.plot(range(200), (np.array(positive_counts)/len(ranking))[0:200], label=\"w2v claim+background+IPC with triplet loss model\")\n",
        "plt.title(\"rank vs covered rate, till 200\")\n",
        "plt.legend()\n",
        "plt.show()"
      ],
      "execution_count": 0,
      "outputs": [
        {
          "output_type": "display_data",
          "data": {
            "image/png": "[encoded data removed]",
            "text/plain": [
              "<Figure size 432x288 with 1 Axes>"
            ]
          },
          "metadata": {
            "tags": []
          }
        }
      ]
    },
    {
      "cell_type": "code",
      "metadata": {
        "id": "vNEOIvncvH2Y",
        "colab_type": "code",
        "outputId": "04474afe-3283-4898-932c-34835064152f",
        "colab": {
          "base_uri": "https://localhost:8080/",
          "height": 281
        }
      },
      "source": [
        "plt.plot(range(100), (np.array(positive_counts)/len(ranking))[0:100], label=\"w2v claim+background+IPC with triplet loss model\")\n",
        "plt.title(\"rank vs covered rate, till 100\")\n",
        "plt.legend()\n",
        "plt.show()"
      ],
      "execution_count": 0,
      "outputs": [
        {
          "output_type": "display_data",
          "data": {
            "image/png": "[encoded data removed]",
            "text/plain": [
              "<Figure size 432x288 with 1 Axes>"
            ]
          },
          "metadata": {
            "tags": []
          }
        }
      ]
    },
    {
      "cell_type": "code",
      "metadata": {
        "id": "6uZs83-0vLbj",
        "colab_type": "code",
        "outputId": "9bc94bd9-3b3b-4f2e-8e0d-6fdd87b7ac7e",
        "colab": {
          "base_uri": "https://localhost:8080/",
          "height": 281
        }
      },
      "source": [
        "plt.plot(range(10), (np.array(positive_counts)/len(ranking))[0:10], label=\"w2v claim+background+IPC with triplet loss model\")\n",
        "plt.title(\"rank vs covered rate, till 10\")\n",
        "plt.legend()\n",
        "plt.show()"
      ],
      "execution_count": 0,
      "outputs": [
        {
          "output_type": "display_data",
          "data": {
            "image/png": "[encoded data removed]",
            "text/plain": [
              "<Figure size 432x288 with 1 Axes>"
            ]
          },
          "metadata": {
            "tags": []
          }
        }
      ]
    },
    {
      "cell_type": "code",
      "metadata": {
        "id": "Sxzg0uUPvNWn",
        "colab_type": "code",
        "outputId": "487bac35-bb7b-48b0-936b-0a23cfdab5f0",
        "colab": {
          "base_uri": "https://localhost:8080/",
          "height": 87
        }
      },
      "source": [
        "print(\"w2v claim+background+IPC with triplet loss top 10   : {:.3f}\".format( (np.array(positive_counts)/len(ranking))[10]))\n",
        "print(\"w2v claim+background+IPC with triplet loss top 100  : {:.3f}\".format( (np.array(positive_counts)/len(ranking))[100]))\n",
        "print(\"w2v claim+background+IPC with triplet loss top 200  : {:.3f}\\n\".format( (np.array(positive_counts)/len(ranking))[200]))"
      ],
      "execution_count": 0,
      "outputs": [
        {
          "output_type": "stream",
          "text": [
            "w2v claim+background+IPC with triplet loss top 10   : 0.558\n",
            "w2v claim+background+IPC with triplet loss top 100  : 0.868\n",
            "w2v claim+background+IPC with triplet loss top 200  : 0.919\n",
            "\n"
          ],
          "name": "stdout"
        }
      ]
    },
    {
      "cell_type": "markdown",
      "metadata": {
        "id": "nX0uAv5VxEk5",
        "colab_type": "text"
      },
      "source": [
        "BERT pair prediction top 10    : 0.397\n",
        "\n",
        "BERT pair prediction top 100  : 0.814\n",
        "\n",
        "BERT pair prediction top 200  : 0.905"
      ]
    },
    {
      "cell_type": "markdown",
      "metadata": {
        "id": "b03Qyy3tzYd8",
        "colab_type": "text"
      },
      "source": [
        "cosine distance\n",
        "\n",
        "\n",
        "w2v claim+background+IPC with triplet loss top 10   : 0.554\n",
        "\n",
        "w2v claim+background+IPC with triplet loss top 100  : 0.849\n",
        "\n",
        "w2v claim+background+IPC with triplet loss top 200  : 0.906"
      ]
    },
    {
      "cell_type": "code",
      "metadata": {
        "id": "6XTrxDUBOqP_",
        "colab_type": "code",
        "colab": {}
      },
      "source": [
        ""
      ],
      "execution_count": 0,
      "outputs": []
    }
  ]
}