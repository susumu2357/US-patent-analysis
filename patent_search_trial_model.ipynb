{
  "nbformat": 4,
  "nbformat_minor": 0,
  "metadata": {
    "colab": {
      "name": "patent search trial model",
      "provenance": [],
      "collapsed_sections": [],
      "toc_visible": true,
      "authorship_tag": "ABX9TyNXDD+b2vUWsgjlc1sCUJIA",
      "include_colab_link": true
    },
    "kernelspec": {
      "name": "python3",
      "display_name": "Python 3"
    }
  },
  "cells": [
    {
      "cell_type": "markdown",
      "metadata": {
        "id": "view-in-github",
        "colab_type": "text"
      },
      "source": [
        "<a href=\"https://colab.research.google.com/github/susumu2357/US-patent-analysis/blob/master/patent_search_trial_model.ipynb\" target=\"_parent\"><img src=\"https://colab.research.google.com/assets/colab-badge.svg\" alt=\"Open In Colab\"/></a>"
      ]
    },
    {
      "cell_type": "markdown",
      "metadata": {
        "id": "qYwNFFTeqFkW",
        "colab_type": "text"
      },
      "source": [
        "#1. Data storage authentication\n",
        "Please execute the below cell, copy and paste the authentication code.\n",
        "\n",
        "You can execute the cell by pressing Shift+Enter or clicking the play button at left of the cell."
      ]
    },
    {
      "cell_type": "code",
      "metadata": {
        "id": "I0G0U4B5aO2j",
        "colab_type": "code",
        "colab": {}
      },
      "source": [
        "from google.colab import auth\n",
        "auth.authenticate_user()"
      ],
      "execution_count": 0,
      "outputs": []
    },
    {
      "cell_type": "markdown",
      "metadata": {
        "id": "61N8a7yBqr79",
        "colab_type": "text"
      },
      "source": [
        "#2. Load data\n",
        "In this trial model, 6440 patent publications are used as candidate proior arts."
      ]
    },
    {
      "cell_type": "code",
      "metadata": {
        "id": "qyq-1XtYXW_b",
        "colab_type": "code",
        "outputId": "fd776bb8-206b-4f40-d760-eb41f5fd6c6a",
        "colab": {
          "base_uri": "https://localhost:8080/",
          "height": 326
        }
      },
      "source": [
        "#@title Please execute this cell. { display-mode: \"form\" }\n",
        "\n",
        "import pandas as pd\n",
        "import numpy as np\n",
        "import math\n",
        "import gzip\n",
        "import pickle\n",
        "from gensim.models import Word2Vec\n",
        "import tensorflow as tf\n",
        "tf.enable_eager_execution()\n",
        "\n",
        "from google.colab import widgets\n",
        "import urllib.parse\n",
        "\n",
        "filename = \"app3000_grant6000.model\"\n",
        "!gsutil cp gs://mlstudy-phys/data/{filename} ./\n",
        "w2v = Word2Vec.load(\"app3000_grant6000.model\")\n",
        "\n",
        "filename = \"app3000_grant6000_W.pkl.gz\"\n",
        "!gsutil cp gs://mlstudy-phys/data/{filename} ./\n",
        "with gzip.open(filename, 'rb') as f:\n",
        "  app3000_grant6000_W = pickle.load(f)\n",
        "\n",
        "filename = \"app3000_grant6000_B.pkl.gz\"\n",
        "!gsutil cp gs://mlstudy-phys/data/{filename} ./\n",
        "with gzip.open(filename, 'rb') as f:\n",
        "  app3000_grant6000_B = pickle.load(f)\n",
        "\n",
        "class Model(object):\n",
        "    def __init__(self, W, B):\n",
        "        self.W = W\n",
        "        self.B = B \n",
        "        self.variables = [ self.W, self.B ]\n",
        "    \n",
        "    def frwrd_pass(self,X_train):\n",
        "        out = tf.matmul( X_train, self.W ) + self.B\n",
        "        normalized_out = tf.nn.l2_normalize(out, axis=1)\n",
        "        return normalized_out\n",
        "\n",
        "model = Model(W=app3000_grant6000_W, B=app3000_grant6000_B)\n",
        "\n",
        "filename = \"grants_tf_feature_dict_6000.pkl.gz\"\n",
        "!gsutil cp gs://mlstudy-phys/data/{filename} ./\n",
        "with gzip.open(filename, 'rb') as f:\n",
        "  grants_tf_feature_dict_6000 = pickle.load(f)\n",
        "\n",
        "filename = \"grants_6000_kind_title.pkl.gz\"\n",
        "!gsutil cp gs://mlstudy-phys/data/{filename} ./\n",
        "with gzip.open(filename, 'rb') as f:\n",
        "  grants_6000_kind_title = pickle.load(f)\n",
        "\n",
        "kind_dict = { \n",
        "    k: v for k,v in zip(grants_6000_kind_title['parsed'], grants_6000_kind_title['kind_code'])\n",
        "}\n",
        "\n",
        "title_dict = { \n",
        "    k: v for k,v in zip(grants_6000_kind_title['parsed'], grants_6000_kind_title['title'])\n",
        "}"
      ],
      "execution_count": 0,
      "outputs": [
        {
          "output_type": "stream",
          "text": [
            "Copying gs://mlstudy-phys/data/app3000_grant6000.model...\n",
            "/ [1 files][167.2 MiB/167.2 MiB]                                                \n",
            "Operation completed over 1 objects/167.2 MiB.                                    \n"
          ],
          "name": "stdout"
        },
        {
          "output_type": "stream",
          "text": [
            "/usr/local/lib/python3.6/dist-packages/smart_open/smart_open_lib.py:402: UserWarning: This function is deprecated, use smart_open.open instead. See the migration notes for details: https://github.com/RaRe-Technologies/smart_open/blob/master/README.rst#migrating-to-the-new-open-function\n",
            "  'See the migration notes for details: %s' % _MIGRATION_NOTES_URL\n"
          ],
          "name": "stderr"
        },
        {
          "output_type": "stream",
          "text": [
            "Copying gs://mlstudy-phys/data/app3000_grant6000_W.pkl.gz...\n",
            "/ [0 files][    0.0 B/ 75.8 KiB]                                                \r/ [1 files][ 75.8 KiB/ 75.8 KiB]                                                \r\n",
            "Operation completed over 1 objects/75.8 KiB.                                     \n",
            "Copying gs://mlstudy-phys/data/app3000_grant6000_B.pkl.gz...\n",
            "/ [1 files][  815.0 B/  815.0 B]                                                \n",
            "Operation completed over 1 objects/815.0 B.                                      \n",
            "Copying gs://mlstudy-phys/data/grants_tf_feature_dict_6000.pkl.gz...\n",
            "/ [1 files][  2.5 MiB/  2.5 MiB]                                                \n",
            "Operation completed over 1 objects/2.5 MiB.                                      \n",
            "Copying gs://mlstudy-phys/data/grants_6000_kind_title.pkl.gz...\n",
            "/ [1 files][180.6 KiB/180.6 KiB]                                                \n",
            "Operation completed over 1 objects/180.6 KiB.                                    \n"
          ],
          "name": "stdout"
        }
      ]
    },
    {
      "cell_type": "markdown",
      "metadata": {
        "id": "KnlltFX3suMe",
        "colab_type": "text"
      },
      "source": [
        "#3. Input search word\n",
        "Claim text is a necessary input. You can input single claim, multiple claims and/or arbitrary text describing the features of the invention.\n",
        "\n",
        "Background of the invention and IPC (International Patent Classification) are optional.\n",
        "Background of the invention can be an arbitrary text describing related technology of the invention.\n",
        "In this model, you can choose major IPC codes upto three categories. For your information, brief desctiptions of IPC code are listed below:\n",
        "\n",
        "|Code | Brief description|\n",
        "|---|---|\n",
        "|A | HUMAN NECESSITIES|\n",
        "|B | PERFORMING OPERATIONS; TRANSPORTING|\n",
        "|C| CHEMISTRY; METALLURGY|\n",
        "|D| TEXTILES; PAPER|\n",
        "|E| FIXED CONSTRUCTIONS|\n",
        "|F| MECHANICAL ENGINEERING; LIGHTING; HEATING; WEAPONS; BLASTING|\n",
        "|G| PHYSICS|\n",
        "|H| ELECTRICITY|"
      ]
    },
    {
      "cell_type": "code",
      "metadata": {
        "id": "uooKnGzsbRAA",
        "colab_type": "code",
        "colab": {}
      },
      "source": [
        "#@title Input calim, background of the invention(optional), and IPC(optional) { display-mode: \"form\" }\n",
        "\n",
        "claim = 'An electronic percussion instrument comprising: a frame; a head, which is made of an elastic material with a higher flexibility than the frame, wherein the head has a main area including a main strike area, which is disposed in a front side of the frame and which is mainly subjected to a striking operation, and an auxiliary area which includes a fixing part is fixed to the frame but does not include the main strike area; and an impact sensor which converts a vibration occurring on the main strike area subjected to a striking operation into an electric signal, wherein at least part of the main area of the head is connected to the auxiliary area via a connecting part which is reduced in thickness in comparison with the auxiliary area.' #@param {type:\"string\"}\n",
        "background_of_the_invention = \"[0001] 1. Field of the Invention [0002] The present invention relates to an electronic percussion instrument including an impact sensor which converts vibration of a head being struck with a beater into an electric signal so as to generate an electronic musical sound. [0003] The present application claims priority on Japanese Patent Application No. 2013-49035 and Japanese Patent Application No. 2014-47225, the entire content of which is incorporated herein by reference. [0004] 2. Description of the Related Art [0005] Conventionally-known electronic percussion instruments are designed to generate an electronic musical sound based on an electric signal output from an impact sensor which detects vibration of a head being struck with a beater. Patent Literature Document 1 (PLT1) discloses an electronic percussion instrument serving as an electronic bass drum with a circular head, made of an elastic material, whose periphery is engaged with a frame. An impact sensor is attached to the back of a strike area corresponding to the center of a head via a center cushion with an outer periphery encompassed by a ring-shaped damper cushion. A vibrating wave occurs when the strike area of a head is being struck with a beater. A vibrating wave is transmitted toward the periphery of a head, bounced back, and then attenuated by the damper cushion. [0006] The electronic percussion instrument of PLT1 generates an impulsive sound (i.e. a sound directly caused by an impact of a head being struck with a beater) independently of an electronic musical sound which is generated based on an electric signal output from an impact sensor which detects vibration occurring on a head being struck with a beater. Due to an impact of a head, a large vibration occurs in the entirety of the internal area of a head (i.e. an area which exists inwardly of the periphery of a head) compared to the periphery of a head which is fixed to the frame, thus causing a large impulsive sound. A large impulsive sound accompanied with an electronic musical sound is offensive to human's ears, and therefore an impulsive sound may degrade the sound quality of an electronic percussion instrument in terms of articulation. [0007] It is necessary to reduce an impulsive sound accompanied with an electronic musical sound because both the pitch and the tone color of an impulsive sound significantly affect the sound quality of an electronic percussion instrument. For example, it is not preferable for an electronic percussion instrument to generate a high-pitch impulsive sound with a low volume which may degrade sound quality.\" #@param {type:\"string\"}\n",
        "\n",
        "if background_of_the_invention == \"\":\n",
        "  background_of_the_invention = \"Backgraound of the invention.\"\n",
        "\n",
        "IPC_1 = 'G' #@param [\"\", \"A\", \"B\", \"C\", \"D\", \"E\", \"F\", \"G\", \"H\"]\n",
        "IPC_2 = '' #@param [\"\", \"A\", \"B\", \"C\", \"D\", \"E\", \"F\", \"G\", \"H\"]\n",
        "IPC_3 = '' #@param [\"\", \"A\", \"B\", \"C\", \"D\", \"E\", \"F\", \"G\", \"H\"]\n"
      ],
      "execution_count": 0,
      "outputs": []
    },
    {
      "cell_type": "markdown",
      "metadata": {
        "id": "t6UgP5ijx8ME",
        "colab_type": "text"
      },
      "source": [
        "#4. Calculate the search result\n",
        "\n",
        "You can set the number of documents.\n",
        "\n",
        "Distance represents how close to the inputted invention.\n",
        "The results are sorted by distance."
      ]
    },
    {
      "cell_type": "code",
      "metadata": {
        "id": "1sUmrfIkbVib",
        "colab_type": "code",
        "outputId": "32ebd207-e8ca-4a33-dc98-70cf79df526f",
        "colab": {
          "base_uri": "https://localhost:8080/",
          "height": 1000
        }
      },
      "source": [
        "#@title Show the result { display-mode: \"form\" }\n",
        "\n",
        "def text_to_vec(text):\n",
        "    words = text.split()\n",
        "    filtered_words = []\n",
        "    \n",
        "    for word in words:\n",
        "        if word in w2v.wv.vocab:\n",
        "            filtered_words.append(word)\n",
        "    vec = np.average(w2v[filtered_words], axis=0)\n",
        "    return vec\n",
        "\n",
        "tmp_vec = np.concatenate([text_to_vec(claim) , text_to_vec(background_of_the_invention)])\n",
        "\n",
        "section_to_vec_dict = {\n",
        "    \"A\":[0,0,0,0,0,0,0,1],\n",
        "    \"B\":[0,0,0,0,0,0,1,0],\n",
        "    \"C\":[0,0,0,0,0,1,0,0],\n",
        "    \"D\":[0,0,0,0,1,0,0,0],\n",
        "    \"E\":[0,0,0,1,0,0,0,0],\n",
        "    \"F\":[0,0,1,0,0,0,0,0],\n",
        "    \"G\":[0,1,0,0,0,0,0,0],\n",
        "    \"H\":[1,0,0,0,0,0,0,0],    \n",
        "}\n",
        "\n",
        "def section_to_vec(list):\n",
        "  vec = np.zeros(8)\n",
        "  for section in list:\n",
        "    if section not in section_to_vec_dict.keys():\n",
        "      vec = vec + np.zeros(8)\n",
        "    else:\n",
        "      vec = vec + np.array(section_to_vec_dict[section])\n",
        "  return vec/np.linalg.norm(vec) if np.linalg.norm(vec) >0 else vec\n",
        "\n",
        "IPC = list(IPC_1)+list(IPC_2)+list(IPC_3)\n",
        "IPC_vec = section_to_vec(IPC)\n",
        "\n",
        "feature_vec = np.concatenate([tmp_vec, IPC_vec])\n",
        "feature_vec = feature_vec/np.linalg.norm(feature_vec)\n",
        "feature_vec = feature_vec.reshape([1, len(feature_vec)])\n",
        "\n",
        "input_tensor = tf.convert_to_tensor(feature_vec, dtype=tf.float32)\n",
        "tf_vec = model.frwrd_pass(input_tensor)\n",
        "\n",
        "def angle_distance(a, b):\n",
        "    with tf.name_scope('dist'):\n",
        "        prods = tf.math.multiply(a, b)\n",
        "        angle = tf.math.acos(tf.reduce_sum(prods))\n",
        "        out = tf.math.divide(angle, tf.constant(math.pi))\n",
        "\n",
        "        return out + 1e-12\n",
        "\n",
        "results_dict = {\n",
        "    k:angle_distance(tf_vec[0], v).numpy() for k,v \n",
        "    in grants_tf_feature_dict_6000.items()\n",
        "}\n",
        "\n",
        "sorted_results = sorted(results_dict.items(), key=lambda x:x[1])\n",
        "\n",
        "Top_K =  50#@param {type:\"number\"}\n",
        "\n",
        "grid = widgets.Grid(Top_K+1, 4, header_row=True, header_column=True)\n",
        "with grid.output_to(0, 0):\n",
        "  print(\"Ranking\")\n",
        "\n",
        "with grid.output_to(0, 1):\n",
        "  print(\"Title of the invention\")\n",
        "\n",
        "with grid.output_to(0, 2):\n",
        "  print(\"Google Patents URL\")\n",
        "\n",
        "with grid.output_to(0, 3):\n",
        "  print(\"distance\")\n",
        "\n",
        "for i, (num, dist) in enumerate(sorted_results[0:Top_K]):\n",
        "  with grid.output_to(i+1, 0):\n",
        "    print(i+1)\n",
        "\n",
        "  with grid.output_to(i+1, 1):\n",
        "    title = title_dict[num]\n",
        "    print(title+\"\\n\")\n",
        "\n",
        "  with grid.output_to(i+1, 2):\n",
        "    kind = kind_dict[num]\n",
        "    s = urllib.parse.quote('patents.google.com/patent/US'+str(num)+str(kind))\n",
        "    print('https://'+s)\n",
        "\n",
        "  with grid.output_to(i+1, 3):\n",
        "    print(dist)"
      ],
      "execution_count": 0,
      "outputs": [
        {
          "output_type": "stream",
          "text": [
            "/usr/local/lib/python3.6/dist-packages/ipykernel_launcher.py:9: DeprecationWarning: Call to deprecated `__getitem__` (Method will be removed in 4.0.0, use self.wv.__getitem__() instead).\n",
            "  if __name__ == '__main__':\n"
          ],
          "name": "stderr"
        },
        {
          "output_type": "display_data",
          "data": {
            "text/html": [
              "<style>\n",
              "       table#id18, #id18 > tbody > tr > th, #id18 > tbody > tr > td {\n",
              "         border: 1px solid lightgray;\n",
              "         border-collapse:collapse;\n",
              "         \n",
              "        }</style>"
            ],
            "text/plain": [
              "<IPython.core.display.HTML object>"
            ]
          },
          "metadata": {
            "tags": [
              "outputarea_id18"
            ]
          }
        },
        {
          "output_type": "display_data",
          "data": {
            "text/html": [
              "<table id=id18><tr><th id=id18-0-0></th><th id=id18-0-1></th><th id=id18-0-2></th><th id=id18-0-3></th></tr><tr><th id=id18-1-0></th><td id=id18-1-1></td><td id=id18-1-2></td><td id=id18-1-3></td></tr><tr><th id=id18-2-0></th><td id=id18-2-1></td><td id=id18-2-2></td><td id=id18-2-3></td></tr><tr><th id=id18-3-0></th><td id=id18-3-1></td><td id=id18-3-2></td><td id=id18-3-3></td></tr><tr><th id=id18-4-0></th><td id=id18-4-1></td><td id=id18-4-2></td><td id=id18-4-3></td></tr><tr><th id=id18-5-0></th><td id=id18-5-1></td><td id=id18-5-2></td><td id=id18-5-3></td></tr><tr><th id=id18-6-0></th><td id=id18-6-1></td><td id=id18-6-2></td><td id=id18-6-3></td></tr><tr><th id=id18-7-0></th><td id=id18-7-1></td><td id=id18-7-2></td><td id=id18-7-3></td></tr><tr><th id=id18-8-0></th><td id=id18-8-1></td><td id=id18-8-2></td><td id=id18-8-3></td></tr><tr><th id=id18-9-0></th><td id=id18-9-1></td><td id=id18-9-2></td><td id=id18-9-3></td></tr><tr><th id=id18-10-0></th><td id=id18-10-1></td><td id=id18-10-2></td><td id=id18-10-3></td></tr><tr><th id=id18-11-0></th><td id=id18-11-1></td><td id=id18-11-2></td><td id=id18-11-3></td></tr><tr><th id=id18-12-0></th><td id=id18-12-1></td><td id=id18-12-2></td><td id=id18-12-3></td></tr><tr><th id=id18-13-0></th><td id=id18-13-1></td><td id=id18-13-2></td><td id=id18-13-3></td></tr><tr><th id=id18-14-0></th><td id=id18-14-1></td><td id=id18-14-2></td><td id=id18-14-3></td></tr><tr><th id=id18-15-0></th><td id=id18-15-1></td><td id=id18-15-2></td><td id=id18-15-3></td></tr><tr><th id=id18-16-0></th><td id=id18-16-1></td><td id=id18-16-2></td><td id=id18-16-3></td></tr><tr><th id=id18-17-0></th><td id=id18-17-1></td><td id=id18-17-2></td><td id=id18-17-3></td></tr><tr><th id=id18-18-0></th><td id=id18-18-1></td><td id=id18-18-2></td><td id=id18-18-3></td></tr><tr><th id=id18-19-0></th><td id=id18-19-1></td><td id=id18-19-2></td><td id=id18-19-3></td></tr><tr><th id=id18-20-0></th><td id=id18-20-1></td><td id=id18-20-2></td><td id=id18-20-3></td></tr><tr><th id=id18-21-0></th><td id=id18-21-1></td><td id=id18-21-2></td><td id=id18-21-3></td></tr><tr><th id=id18-22-0></th><td id=id18-22-1></td><td id=id18-22-2></td><td id=id18-22-3></td></tr><tr><th id=id18-23-0></th><td id=id18-23-1></td><td id=id18-23-2></td><td id=id18-23-3></td></tr><tr><th id=id18-24-0></th><td id=id18-24-1></td><td id=id18-24-2></td><td id=id18-24-3></td></tr><tr><th id=id18-25-0></th><td id=id18-25-1></td><td id=id18-25-2></td><td id=id18-25-3></td></tr><tr><th id=id18-26-0></th><td id=id18-26-1></td><td id=id18-26-2></td><td id=id18-26-3></td></tr><tr><th id=id18-27-0></th><td id=id18-27-1></td><td id=id18-27-2></td><td id=id18-27-3></td></tr><tr><th id=id18-28-0></th><td id=id18-28-1></td><td id=id18-28-2></td><td id=id18-28-3></td></tr><tr><th id=id18-29-0></th><td id=id18-29-1></td><td id=id18-29-2></td><td id=id18-29-3></td></tr><tr><th id=id18-30-0></th><td id=id18-30-1></td><td id=id18-30-2></td><td id=id18-30-3></td></tr><tr><th id=id18-31-0></th><td id=id18-31-1></td><td id=id18-31-2></td><td id=id18-31-3></td></tr><tr><th id=id18-32-0></th><td id=id18-32-1></td><td id=id18-32-2></td><td id=id18-32-3></td></tr><tr><th id=id18-33-0></th><td id=id18-33-1></td><td id=id18-33-2></td><td id=id18-33-3></td></tr><tr><th id=id18-34-0></th><td id=id18-34-1></td><td id=id18-34-2></td><td id=id18-34-3></td></tr><tr><th id=id18-35-0></th><td id=id18-35-1></td><td id=id18-35-2></td><td id=id18-35-3></td></tr><tr><th id=id18-36-0></th><td id=id18-36-1></td><td id=id18-36-2></td><td id=id18-36-3></td></tr><tr><th id=id18-37-0></th><td id=id18-37-1></td><td id=id18-37-2></td><td id=id18-37-3></td></tr><tr><th id=id18-38-0></th><td id=id18-38-1></td><td id=id18-38-2></td><td id=id18-38-3></td></tr><tr><th id=id18-39-0></th><td id=id18-39-1></td><td id=id18-39-2></td><td id=id18-39-3></td></tr><tr><th id=id18-40-0></th><td id=id18-40-1></td><td id=id18-40-2></td><td id=id18-40-3></td></tr><tr><th id=id18-41-0></th><td id=id18-41-1></td><td id=id18-41-2></td><td id=id18-41-3></td></tr><tr><th id=id18-42-0></th><td id=id18-42-1></td><td id=id18-42-2></td><td id=id18-42-3></td></tr><tr><th id=id18-43-0></th><td id=id18-43-1></td><td id=id18-43-2></td><td id=id18-43-3></td></tr><tr><th id=id18-44-0></th><td id=id18-44-1></td><td id=id18-44-2></td><td id=id18-44-3></td></tr><tr><th id=id18-45-0></th><td id=id18-45-1></td><td id=id18-45-2></td><td id=id18-45-3></td></tr><tr><th id=id18-46-0></th><td id=id18-46-1></td><td id=id18-46-2></td><td id=id18-46-3></td></tr><tr><th id=id18-47-0></th><td id=id18-47-1></td><td id=id18-47-2></td><td id=id18-47-3></td></tr><tr><th id=id18-48-0></th><td id=id18-48-1></td><td id=id18-48-2></td><td id=id18-48-3></td></tr><tr><th id=id18-49-0></th><td id=id18-49-1></td><td id=id18-49-2></td><td id=id18-49-3></td></tr><tr><th id=id18-50-0></th><td id=id18-50-1></td><td id=id18-50-2></td><td id=id18-50-3></td></tr></table>"
            ],
            "text/plain": [
              "<IPython.core.display.HTML object>"
            ]
          },
          "metadata": {
            "tags": [
              "outputarea_id18"
            ]
          }
        },
        {
          "output_type": "display_data",
          "data": {
            "application/javascript": [
              "window[\"65725aac-5ac6-11ea-b93d-0242ac1c0002\"] = google.colab.output.getActiveOutputArea();\n",
              "//# sourceURL=js_a583d2e047"
            ],
            "text/plain": [
              "<IPython.core.display.Javascript object>"
            ]
          },
          "metadata": {
            "tags": [
              "id18-0-0",
              "outputarea_id18"
            ]
          }
        },
        {
          "output_type": "display_data",
          "data": {
            "application/javascript": [
              "window[\"6572af16-5ac6-11ea-b93d-0242ac1c0002\"] = document.querySelector(\"#id18-0-0\");\n",
              "//# sourceURL=js_c940411e56"
            ],
            "text/plain": [
              "<IPython.core.display.Javascript object>"
            ]
          },
          "metadata": {
            "tags": [
              "id18-0-0",
              "outputarea_id18"
            ]
          }
        },
        {
          "output_type": "display_data",
          "data": {
            "application/javascript": [
              "window[\"6572eef4-5ac6-11ea-b93d-0242ac1c0002\"] = google.colab.output.setActiveOutputArea(window[\"6572af16-5ac6-11ea-b93d-0242ac1c0002\"]);\n",
              "//# sourceURL=js_ca043c08f0"
            ],
            "text/plain": [
              "<IPython.core.display.Javascript object>"
            ]
          },
          "metadata": {
            "tags": [
              "id18-0-0",
              "outputarea_id18"
            ]
          }
        },
        {
          "output_type": "stream",
          "text": [
            "Ranking\n"
          ],
          "name": "stdout"
        },
        {
          "output_type": "display_data",
          "data": {
            "application/javascript": [
              "window[\"6573dc74-5ac6-11ea-b93d-0242ac1c0002\"] = google.colab.output.setActiveOutputArea(window[\"65725aac-5ac6-11ea-b93d-0242ac1c0002\"]);\n",
              "//# sourceURL=js_a6ad876e98"
            ],
            "text/plain": [
              "<IPython.core.display.Javascript object>"
            ]
          },
          "metadata": {
            "tags": [
              "id18-0-0",
              "outputarea_id18"
            ]
          }
        },
        {
          "output_type": "display_data",
          "data": {
            "application/javascript": [
              "window[\"65754776-5ac6-11ea-b93d-0242ac1c0002\"] = google.colab.output.getActiveOutputArea();\n",
              "//# sourceURL=js_987be9e3aa"
            ],
            "text/plain": [
              "<IPython.core.display.Javascript object>"
            ]
          },
          "metadata": {
            "tags": [
              "id18-0-1",
              "outputarea_id18"
            ]
          }
        },
        {
          "output_type": "display_data",
          "data": {
            "application/javascript": [
              "window[\"65758ff6-5ac6-11ea-b93d-0242ac1c0002\"] = document.querySelector(\"#id18-0-1\");\n",
              "//# sourceURL=js_dd757f7767"
            ],
            "text/plain": [
              "<IPython.core.display.Javascript object>"
            ]
          },
          "metadata": {
            "tags": [
              "id18-0-1",
              "outputarea_id18"
            ]
          }
        },
        {
          "output_type": "display_data",
          "data": {
            "application/javascript": [
              "window[\"6575eece-5ac6-11ea-b93d-0242ac1c0002\"] = google.colab.output.setActiveOutputArea(window[\"65758ff6-5ac6-11ea-b93d-0242ac1c0002\"]);\n",
              "//# sourceURL=js_cf00f7988f"
            ],
            "text/plain": [
              "<IPython.core.display.Javascript object>"
            ]
          },
          "metadata": {
            "tags": [
              "id18-0-1",
              "outputarea_id18"
            ]
          }
        },
        {
          "output_type": "stream",
          "text": [
            "Title of the invention\n"
          ],
          "name": "stdout"
        },
        {
          "output_type": "display_data",
          "data": {
            "application/javascript": [
              "window[\"65770638-5ac6-11ea-b93d-0242ac1c0002\"] = google.colab.output.setActiveOutputArea(window[\"65754776-5ac6-11ea-b93d-0242ac1c0002\"]);\n",
              "//# sourceURL=js_dcd8b8da38"
            ],
            "text/plain": [
              "<IPython.core.display.Javascript object>"
            ]
          },
          "metadata": {
            "tags": [
              "id18-0-1",
              "outputarea_id18"
            ]
          }
        },
        {
          "output_type": "display_data",
          "data": {
            "application/javascript": [
              "window[\"657a73ae-5ac6-11ea-b93d-0242ac1c0002\"] = google.colab.output.getActiveOutputArea();\n",
              "//# sourceURL=js_5713ff6d0e"
            ],
            "text/plain": [
              "<IPython.core.display.Javascript object>"
            ]
          },
          "metadata": {
            "tags": [
              "id18-0-2",
              "outputarea_id18"
            ]
          }
        },
        {
          "output_type": "display_data",
          "data": {
            "application/javascript": [
              "window[\"657ae528-5ac6-11ea-b93d-0242ac1c0002\"] = document.querySelector(\"#id18-0-2\");\n",
              "//# sourceURL=js_cdf1e53416"
            ],
            "text/plain": [
              "<IPython.core.display.Javascript object>"
            ]
          },
          "metadata": {
            "tags": [
              "id18-0-2",
              "outputarea_id18"
            ]
          }
        },
        {
          "output_type": "display_data",
          "data": {
            "application/javascript": [
              "window[\"657b4a72-5ac6-11ea-b93d-0242ac1c0002\"] = google.colab.output.setActiveOutputArea(window[\"657ae528-5ac6-11ea-b93d-0242ac1c0002\"]);\n",
              "//# sourceURL=js_62b204caf4"
            ],
            "text/plain": [
              "<IPython.core.display.Javascript object>"
            ]
          },
          "metadata": {
            "tags": [
              "id18-0-2",
              "outputarea_id18"
            ]
          }
        },
        {
          "output_type": "stream",
          "text": [
            "Google Patents URL\n"
          ],
          "name": "stdout"
        },
        {
          "output_type": "display_data",
          "data": {
            "application/javascript": [
              "window[\"657c8b3a-5ac6-11ea-b93d-0242ac1c0002\"] = google.colab.output.setActiveOutputArea(window[\"657a73ae-5ac6-11ea-b93d-0242ac1c0002\"]);\n",
              "//# sourceURL=js_36b9fb6b23"
            ],
            "text/plain": [
              "<IPython.core.display.Javascript object>"
            ]
          },
          "metadata": {
            "tags": [
              "id18-0-2",
              "outputarea_id18"
            ]
          }
        },
        {
          "output_type": "display_data",
          "data": {
            "application/javascript": [
              "window[\"657e7544-5ac6-11ea-b93d-0242ac1c0002\"] = google.colab.output.getActiveOutputArea();\n",
              "//# sourceURL=js_f6842217bd"
            ],
            "text/plain": [
              "<IPython.core.display.Javascript object>"
            ]
          },
          "metadata": {
            "tags": [
              "id18-0-3",
              "outputarea_id18"
            ]
          }
        },
        {
          "output_type": "display_data",
          "data": {
            "application/javascript": [
              "window[\"657ecf9e-5ac6-11ea-b93d-0242ac1c0002\"] = document.querySelector(\"#id18-0-3\");\n",
              "//# sourceURL=js_0010a37a1b"
            ],
            "text/plain": [
              "<IPython.core.display.Javascript object>"
            ]
          },
          "metadata": {
            "tags": [
              "id18-0-3",
              "outputarea_id18"
            ]
          }
        },
        {
          "output_type": "display_data",
          "data": {
            "application/javascript": [
              "window[\"657f34a2-5ac6-11ea-b93d-0242ac1c0002\"] = google.colab.output.setActiveOutputArea(window[\"657ecf9e-5ac6-11ea-b93d-0242ac1c0002\"]);\n",
              "//# sourceURL=js_135f7ddee8"
            ],
            "text/plain": [
              "<IPython.core.display.Javascript object>"
            ]
          },
          "metadata": {
            "tags": [
              "id18-0-3",
              "outputarea_id18"
            ]
          }
        },
        {
          "output_type": "stream",
          "text": [
            "distance\n"
          ],
          "name": "stdout"
        },
        {
          "output_type": "display_data",
          "data": {
            "application/javascript": [
              "window[\"658071c8-5ac6-11ea-b93d-0242ac1c0002\"] = google.colab.output.setActiveOutputArea(window[\"657e7544-5ac6-11ea-b93d-0242ac1c0002\"]);\n",
              "//# sourceURL=js_3b2ca501b2"
            ],
            "text/plain": [
              "<IPython.core.display.Javascript object>"
            ]
          },
          "metadata": {
            "tags": [
              "id18-0-3",
              "outputarea_id18"
            ]
          }
        },
        {
          "output_type": "display_data",
          "data": {
            "application/javascript": [
              "window[\"6582606e-5ac6-11ea-b93d-0242ac1c0002\"] = google.colab.output.getActiveOutputArea();\n",
              "//# sourceURL=js_667bd1ddcf"
            ],
            "text/plain": [
              "<IPython.core.display.Javascript object>"
            ]
          },
          "metadata": {
            "tags": [
              "id18-1-0",
              "outputarea_id18"
            ]
          }
        },
        {
          "output_type": "display_data",
          "data": {
            "application/javascript": [
              "window[\"6582b7f8-5ac6-11ea-b93d-0242ac1c0002\"] = document.querySelector(\"#id18-1-0\");\n",
              "//# sourceURL=js_dbe65bac47"
            ],
            "text/plain": [
              "<IPython.core.display.Javascript object>"
            ]
          },
          "metadata": {
            "tags": [
              "id18-1-0",
              "outputarea_id18"
            ]
          }
        },
        {
          "output_type": "display_data",
          "data": {
            "application/javascript": [
              "window[\"658317e8-5ac6-11ea-b93d-0242ac1c0002\"] = google.colab.output.setActiveOutputArea(window[\"6582b7f8-5ac6-11ea-b93d-0242ac1c0002\"]);\n",
              "//# sourceURL=js_28bc53fe53"
            ],
            "text/plain": [
              "<IPython.core.display.Javascript object>"
            ]
          },
          "metadata": {
            "tags": [
              "id18-1-0",
              "outputarea_id18"
            ]
          }
        },
        {
          "output_type": "stream",
          "text": [
            "1\n"
          ],
          "name": "stdout"
        },
        {
          "output_type": "display_data",
          "data": {
            "application/javascript": [
              "window[\"65843c90-5ac6-11ea-b93d-0242ac1c0002\"] = google.colab.output.setActiveOutputArea(window[\"6582606e-5ac6-11ea-b93d-0242ac1c0002\"]);\n",
              "//# sourceURL=js_6b68741425"
            ],
            "text/plain": [
              "<IPython.core.display.Javascript object>"
            ]
          },
          "metadata": {
            "tags": [
              "id18-1-0",
              "outputarea_id18"
            ]
          }
        },
        {
          "output_type": "display_data",
          "data": {
            "application/javascript": [
              "window[\"658601ba-5ac6-11ea-b93d-0242ac1c0002\"] = google.colab.output.getActiveOutputArea();\n",
              "//# sourceURL=js_eb4a321022"
            ],
            "text/plain": [
              "<IPython.core.display.Javascript object>"
            ]
          },
          "metadata": {
            "tags": [
              "id18-1-1",
              "outputarea_id18"
            ]
          }
        },
        {
          "output_type": "display_data",
          "data": {
            "application/javascript": [
              "window[\"65865552-5ac6-11ea-b93d-0242ac1c0002\"] = document.querySelector(\"#id18-1-1\");\n",
              "//# sourceURL=js_06864149f2"
            ],
            "text/plain": [
              "<IPython.core.display.Javascript object>"
            ]
          },
          "metadata": {
            "tags": [
              "id18-1-1",
              "outputarea_id18"
            ]
          }
        },
        {
          "output_type": "display_data",
          "data": {
            "application/javascript": [
              "window[\"6586c2ee-5ac6-11ea-b93d-0242ac1c0002\"] = google.colab.output.setActiveOutputArea(window[\"65865552-5ac6-11ea-b93d-0242ac1c0002\"]);\n",
              "//# sourceURL=js_b884ce8683"
            ],
            "text/plain": [
              "<IPython.core.display.Javascript object>"
            ]
          },
          "metadata": {
            "tags": [
              "id18-1-1",
              "outputarea_id18"
            ]
          }
        },
        {
          "output_type": "stream",
          "text": [
            "Subminiature bone vibrating speaker using the diaphragm and mobile phone thereby\n",
            "\n"
          ],
          "name": "stdout"
        },
        {
          "output_type": "display_data",
          "data": {
            "application/javascript": [
              "window[\"6587e566-5ac6-11ea-b93d-0242ac1c0002\"] = google.colab.output.setActiveOutputArea(window[\"658601ba-5ac6-11ea-b93d-0242ac1c0002\"]);\n",
              "//# sourceURL=js_3abdc9b1d2"
            ],
            "text/plain": [
              "<IPython.core.display.Javascript object>"
            ]
          },
          "metadata": {
            "tags": [
              "id18-1-1",
              "outputarea_id18"
            ]
          }
        },
        {
          "output_type": "display_data",
          "data": {
            "application/javascript": [
              "window[\"65899f32-5ac6-11ea-b93d-0242ac1c0002\"] = google.colab.output.getActiveOutputArea();\n",
              "//# sourceURL=js_6c20dbcfda"
            ],
            "text/plain": [
              "<IPython.core.display.Javascript object>"
            ]
          },
          "metadata": {
            "tags": [
              "id18-1-2",
              "outputarea_id18"
            ]
          }
        },
        {
          "output_type": "display_data",
          "data": {
            "application/javascript": [
              "window[\"658a04e0-5ac6-11ea-b93d-0242ac1c0002\"] = document.querySelector(\"#id18-1-2\");\n",
              "//# sourceURL=js_0b081de8e3"
            ],
            "text/plain": [
              "<IPython.core.display.Javascript object>"
            ]
          },
          "metadata": {
            "tags": [
              "id18-1-2",
              "outputarea_id18"
            ]
          }
        },
        {
          "output_type": "display_data",
          "data": {
            "application/javascript": [
              "window[\"658a71e6-5ac6-11ea-b93d-0242ac1c0002\"] = google.colab.output.setActiveOutputArea(window[\"658a04e0-5ac6-11ea-b93d-0242ac1c0002\"]);\n",
              "//# sourceURL=js_9d3958aa68"
            ],
            "text/plain": [
              "<IPython.core.display.Javascript object>"
            ]
          },
          "metadata": {
            "tags": [
              "id18-1-2",
              "outputarea_id18"
            ]
          }
        },
        {
          "output_type": "stream",
          "text": [
            "https://patents.google.com/patent/US7319773B2\n"
          ],
          "name": "stdout"
        },
        {
          "output_type": "display_data",
          "data": {
            "application/javascript": [
              "window[\"658ba926-5ac6-11ea-b93d-0242ac1c0002\"] = google.colab.output.setActiveOutputArea(window[\"65899f32-5ac6-11ea-b93d-0242ac1c0002\"]);\n",
              "//# sourceURL=js_1cef5d39cb"
            ],
            "text/plain": [
              "<IPython.core.display.Javascript object>"
            ]
          },
          "metadata": {
            "tags": [
              "id18-1-2",
              "outputarea_id18"
            ]
          }
        },
        {
          "output_type": "display_data",
          "data": {
            "application/javascript": [
              "window[\"658d5da2-5ac6-11ea-b93d-0242ac1c0002\"] = google.colab.output.getActiveOutputArea();\n",
              "//# sourceURL=js_6e6916d264"
            ],
            "text/plain": [
              "<IPython.core.display.Javascript object>"
            ]
          },
          "metadata": {
            "tags": [
              "id18-1-3",
              "outputarea_id18"
            ]
          }
        },
        {
          "output_type": "display_data",
          "data": {
            "application/javascript": [
              "window[\"658dc5a8-5ac6-11ea-b93d-0242ac1c0002\"] = document.querySelector(\"#id18-1-3\");\n",
              "//# sourceURL=js_db49988a04"
            ],
            "text/plain": [
              "<IPython.core.display.Javascript object>"
            ]
          },
          "metadata": {
            "tags": [
              "id18-1-3",
              "outputarea_id18"
            ]
          }
        },
        {
          "output_type": "display_data",
          "data": {
            "application/javascript": [
              "window[\"658e10da-5ac6-11ea-b93d-0242ac1c0002\"] = google.colab.output.setActiveOutputArea(window[\"658dc5a8-5ac6-11ea-b93d-0242ac1c0002\"]);\n",
              "//# sourceURL=js_62e9bf60e4"
            ],
            "text/plain": [
              "<IPython.core.display.Javascript object>"
            ]
          },
          "metadata": {
            "tags": [
              "id18-1-3",
              "outputarea_id18"
            ]
          }
        },
        {
          "output_type": "stream",
          "text": [
            "0.27622038\n"
          ],
          "name": "stdout"
        },
        {
          "output_type": "display_data",
          "data": {
            "application/javascript": [
              "window[\"658f407c-5ac6-11ea-b93d-0242ac1c0002\"] = google.colab.output.setActiveOutputArea(window[\"658d5da2-5ac6-11ea-b93d-0242ac1c0002\"]);\n",
              "//# sourceURL=js_c61b70a13b"
            ],
            "text/plain": [
              "<IPython.core.display.Javascript object>"
            ]
          },
          "metadata": {
            "tags": [
              "id18-1-3",
              "outputarea_id18"
            ]
          }
        },
        {
          "output_type": "display_data",
          "data": {
            "application/javascript": [
              "window[\"6590f4d0-5ac6-11ea-b93d-0242ac1c0002\"] = google.colab.output.getActiveOutputArea();\n",
              "//# sourceURL=js_826a772672"
            ],
            "text/plain": [
              "<IPython.core.display.Javascript object>"
            ]
          },
          "metadata": {
            "tags": [
              "id18-2-0",
              "outputarea_id18"
            ]
          }
        },
        {
          "output_type": "display_data",
          "data": {
            "application/javascript": [
              "window[\"65915d94-5ac6-11ea-b93d-0242ac1c0002\"] = document.querySelector(\"#id18-2-0\");\n",
              "//# sourceURL=js_a9b99ad5cf"
            ],
            "text/plain": [
              "<IPython.core.display.Javascript object>"
            ]
          },
          "metadata": {
            "tags": [
              "id18-2-0",
              "outputarea_id18"
            ]
          }
        },
        {
          "output_type": "display_data",
          "data": {
            "application/javascript": [
              "window[\"6591b1fe-5ac6-11ea-b93d-0242ac1c0002\"] = google.colab.output.setActiveOutputArea(window[\"65915d94-5ac6-11ea-b93d-0242ac1c0002\"]);\n",
              "//# sourceURL=js_8311022847"
            ],
            "text/plain": [
              "<IPython.core.display.Javascript object>"
            ]
          },
          "metadata": {
            "tags": [
              "id18-2-0",
              "outputarea_id18"
            ]
          }
        },
        {
          "output_type": "stream",
          "text": [
            "2\n"
          ],
          "name": "stdout"
        },
        {
          "output_type": "display_data",
          "data": {
            "application/javascript": [
              "window[\"6592d228-5ac6-11ea-b93d-0242ac1c0002\"] = google.colab.output.setActiveOutputArea(window[\"6590f4d0-5ac6-11ea-b93d-0242ac1c0002\"]);\n",
              "//# sourceURL=js_f22b36ac73"
            ],
            "text/plain": [
              "<IPython.core.display.Javascript object>"
            ]
          },
          "metadata": {
            "tags": [
              "id18-2-0",
              "outputarea_id18"
            ]
          }
        },
        {
          "output_type": "display_data",
          "data": {
            "application/javascript": [
              "window[\"65948ad2-5ac6-11ea-b93d-0242ac1c0002\"] = google.colab.output.getActiveOutputArea();\n",
              "//# sourceURL=js_46ce8fbc48"
            ],
            "text/plain": [
              "<IPython.core.display.Javascript object>"
            ]
          },
          "metadata": {
            "tags": [
              "id18-2-1",
              "outputarea_id18"
            ]
          }
        },
        {
          "output_type": "display_data",
          "data": {
            "application/javascript": [
              "window[\"6594f33c-5ac6-11ea-b93d-0242ac1c0002\"] = document.querySelector(\"#id18-2-1\");\n",
              "//# sourceURL=js_33f64490c9"
            ],
            "text/plain": [
              "<IPython.core.display.Javascript object>"
            ]
          },
          "metadata": {
            "tags": [
              "id18-2-1",
              "outputarea_id18"
            ]
          }
        },
        {
          "output_type": "display_data",
          "data": {
            "application/javascript": [
              "window[\"65955e58-5ac6-11ea-b93d-0242ac1c0002\"] = google.colab.output.setActiveOutputArea(window[\"6594f33c-5ac6-11ea-b93d-0242ac1c0002\"]);\n",
              "//# sourceURL=js_5f7a5ea192"
            ],
            "text/plain": [
              "<IPython.core.display.Javascript object>"
            ]
          },
          "metadata": {
            "tags": [
              "id18-2-1",
              "outputarea_id18"
            ]
          }
        },
        {
          "output_type": "stream",
          "text": [
            "Card reader device for a cell phone and method of use\n",
            "\n"
          ],
          "name": "stdout"
        },
        {
          "output_type": "display_data",
          "data": {
            "application/javascript": [
              "window[\"6596cc5c-5ac6-11ea-b93d-0242ac1c0002\"] = google.colab.output.setActiveOutputArea(window[\"65948ad2-5ac6-11ea-b93d-0242ac1c0002\"]);\n",
              "//# sourceURL=js_4037330701"
            ],
            "text/plain": [
              "<IPython.core.display.Javascript object>"
            ]
          },
          "metadata": {
            "tags": [
              "id18-2-1",
              "outputarea_id18"
            ]
          }
        },
        {
          "output_type": "display_data",
          "data": {
            "application/javascript": [
              "window[\"65989550-5ac6-11ea-b93d-0242ac1c0002\"] = google.colab.output.getActiveOutputArea();\n",
              "//# sourceURL=js_1ff98130e9"
            ],
            "text/plain": [
              "<IPython.core.display.Javascript object>"
            ]
          },
          "metadata": {
            "tags": [
              "id18-2-2",
              "outputarea_id18"
            ]
          }
        },
        {
          "output_type": "display_data",
          "data": {
            "application/javascript": [
              "window[\"6599099a-5ac6-11ea-b93d-0242ac1c0002\"] = document.querySelector(\"#id18-2-2\");\n",
              "//# sourceURL=js_db5536c3e0"
            ],
            "text/plain": [
              "<IPython.core.display.Javascript object>"
            ]
          },
          "metadata": {
            "tags": [
              "id18-2-2",
              "outputarea_id18"
            ]
          }
        },
        {
          "output_type": "display_data",
          "data": {
            "application/javascript": [
              "window[\"6599740c-5ac6-11ea-b93d-0242ac1c0002\"] = google.colab.output.setActiveOutputArea(window[\"6599099a-5ac6-11ea-b93d-0242ac1c0002\"]);\n",
              "//# sourceURL=js_105e978da3"
            ],
            "text/plain": [
              "<IPython.core.display.Javascript object>"
            ]
          },
          "metadata": {
            "tags": [
              "id18-2-2",
              "outputarea_id18"
            ]
          }
        },
        {
          "output_type": "stream",
          "text": [
            "https://patents.google.com/patent/US7810729B2\n"
          ],
          "name": "stdout"
        },
        {
          "output_type": "display_data",
          "data": {
            "application/javascript": [
              "window[\"659ab66e-5ac6-11ea-b93d-0242ac1c0002\"] = google.colab.output.setActiveOutputArea(window[\"65989550-5ac6-11ea-b93d-0242ac1c0002\"]);\n",
              "//# sourceURL=js_b9b1e60396"
            ],
            "text/plain": [
              "<IPython.core.display.Javascript object>"
            ]
          },
          "metadata": {
            "tags": [
              "id18-2-2",
              "outputarea_id18"
            ]
          }
        },
        {
          "output_type": "display_data",
          "data": {
            "application/javascript": [
              "window[\"659c95ba-5ac6-11ea-b93d-0242ac1c0002\"] = google.colab.output.getActiveOutputArea();\n",
              "//# sourceURL=js_5deb7ad1e8"
            ],
            "text/plain": [
              "<IPython.core.display.Javascript object>"
            ]
          },
          "metadata": {
            "tags": [
              "id18-2-3",
              "outputarea_id18"
            ]
          }
        },
        {
          "output_type": "display_data",
          "data": {
            "application/javascript": [
              "window[\"659d14ae-5ac6-11ea-b93d-0242ac1c0002\"] = document.querySelector(\"#id18-2-3\");\n",
              "//# sourceURL=js_541ca36bb8"
            ],
            "text/plain": [
              "<IPython.core.display.Javascript object>"
            ]
          },
          "metadata": {
            "tags": [
              "id18-2-3",
              "outputarea_id18"
            ]
          }
        },
        {
          "output_type": "display_data",
          "data": {
            "application/javascript": [
              "window[\"659d8498-5ac6-11ea-b93d-0242ac1c0002\"] = google.colab.output.setActiveOutputArea(window[\"659d14ae-5ac6-11ea-b93d-0242ac1c0002\"]);\n",
              "//# sourceURL=js_6f964c6669"
            ],
            "text/plain": [
              "<IPython.core.display.Javascript object>"
            ]
          },
          "metadata": {
            "tags": [
              "id18-2-3",
              "outputarea_id18"
            ]
          }
        },
        {
          "output_type": "stream",
          "text": [
            "0.31106448\n"
          ],
          "name": "stdout"
        },
        {
          "output_type": "display_data",
          "data": {
            "application/javascript": [
              "window[\"659e918a-5ac6-11ea-b93d-0242ac1c0002\"] = google.colab.output.setActiveOutputArea(window[\"659c95ba-5ac6-11ea-b93d-0242ac1c0002\"]);\n",
              "//# sourceURL=js_1f292b41e6"
            ],
            "text/plain": [
              "<IPython.core.display.Javascript object>"
            ]
          },
          "metadata": {
            "tags": [
              "id18-2-3",
              "outputarea_id18"
            ]
          }
        },
        {
          "output_type": "display_data",
          "data": {
            "application/javascript": [
              "window[\"65a064ec-5ac6-11ea-b93d-0242ac1c0002\"] = google.colab.output.getActiveOutputArea();\n",
              "//# sourceURL=js_52a776b5af"
            ],
            "text/plain": [
              "<IPython.core.display.Javascript object>"
            ]
          },
          "metadata": {
            "tags": [
              "id18-3-0",
              "outputarea_id18"
            ]
          }
        },
        {
          "output_type": "display_data",
          "data": {
            "application/javascript": [
              "window[\"65a0bd98-5ac6-11ea-b93d-0242ac1c0002\"] = document.querySelector(\"#id18-3-0\");\n",
              "//# sourceURL=js_2106ee866a"
            ],
            "text/plain": [
              "<IPython.core.display.Javascript object>"
            ]
          },
          "metadata": {
            "tags": [
              "id18-3-0",
              "outputarea_id18"
            ]
          }
        },
        {
          "output_type": "display_data",
          "data": {
            "application/javascript": [
              "window[\"65a12c4c-5ac6-11ea-b93d-0242ac1c0002\"] = google.colab.output.setActiveOutputArea(window[\"65a0bd98-5ac6-11ea-b93d-0242ac1c0002\"]);\n",
              "//# sourceURL=js_c80d897e98"
            ],
            "text/plain": [
              "<IPython.core.display.Javascript object>"
            ]
          },
          "metadata": {
            "tags": [
              "id18-3-0",
              "outputarea_id18"
            ]
          }
        },
        {
          "output_type": "stream",
          "text": [
            "3\n"
          ],
          "name": "stdout"
        },
        {
          "output_type": "display_data",
          "data": {
            "application/javascript": [
              "window[\"65a2640e-5ac6-11ea-b93d-0242ac1c0002\"] = google.colab.output.setActiveOutputArea(window[\"65a064ec-5ac6-11ea-b93d-0242ac1c0002\"]);\n",
              "//# sourceURL=js_ea64f5e0ce"
            ],
            "text/plain": [
              "<IPython.core.display.Javascript object>"
            ]
          },
          "metadata": {
            "tags": [
              "id18-3-0",
              "outputarea_id18"
            ]
          }
        },
        {
          "output_type": "display_data",
          "data": {
            "application/javascript": [
              "window[\"65a455b6-5ac6-11ea-b93d-0242ac1c0002\"] = google.colab.output.getActiveOutputArea();\n",
              "//# sourceURL=js_f43e990a20"
            ],
            "text/plain": [
              "<IPython.core.display.Javascript object>"
            ]
          },
          "metadata": {
            "tags": [
              "id18-3-1",
              "outputarea_id18"
            ]
          }
        },
        {
          "output_type": "display_data",
          "data": {
            "application/javascript": [
              "window[\"65a4bfba-5ac6-11ea-b93d-0242ac1c0002\"] = document.querySelector(\"#id18-3-1\");\n",
              "//# sourceURL=js_b7a827c788"
            ],
            "text/plain": [
              "<IPython.core.display.Javascript object>"
            ]
          },
          "metadata": {
            "tags": [
              "id18-3-1",
              "outputarea_id18"
            ]
          }
        },
        {
          "output_type": "display_data",
          "data": {
            "application/javascript": [
              "window[\"65a54c3c-5ac6-11ea-b93d-0242ac1c0002\"] = google.colab.output.setActiveOutputArea(window[\"65a4bfba-5ac6-11ea-b93d-0242ac1c0002\"]);\n",
              "//# sourceURL=js_fc038ca72f"
            ],
            "text/plain": [
              "<IPython.core.display.Javascript object>"
            ]
          },
          "metadata": {
            "tags": [
              "id18-3-1",
              "outputarea_id18"
            ]
          }
        },
        {
          "output_type": "stream",
          "text": [
            "Pad for electronic drum and electronic drum\n",
            "\n"
          ],
          "name": "stdout"
        },
        {
          "output_type": "display_data",
          "data": {
            "application/javascript": [
              "window[\"65a798ac-5ac6-11ea-b93d-0242ac1c0002\"] = google.colab.output.setActiveOutputArea(window[\"65a455b6-5ac6-11ea-b93d-0242ac1c0002\"]);\n",
              "//# sourceURL=js_899177ed11"
            ],
            "text/plain": [
              "<IPython.core.display.Javascript object>"
            ]
          },
          "metadata": {
            "tags": [
              "id18-3-1",
              "outputarea_id18"
            ]
          }
        },
        {
          "output_type": "display_data",
          "data": {
            "application/javascript": [
              "window[\"65a94846-5ac6-11ea-b93d-0242ac1c0002\"] = google.colab.output.getActiveOutputArea();\n",
              "//# sourceURL=js_f7ab66cdb8"
            ],
            "text/plain": [
              "<IPython.core.display.Javascript object>"
            ]
          },
          "metadata": {
            "tags": [
              "id18-3-2",
              "outputarea_id18"
            ]
          }
        },
        {
          "output_type": "display_data",
          "data": {
            "application/javascript": [
              "window[\"65a9ad9a-5ac6-11ea-b93d-0242ac1c0002\"] = document.querySelector(\"#id18-3-2\");\n",
              "//# sourceURL=js_4d68808525"
            ],
            "text/plain": [
              "<IPython.core.display.Javascript object>"
            ]
          },
          "metadata": {
            "tags": [
              "id18-3-2",
              "outputarea_id18"
            ]
          }
        },
        {
          "output_type": "display_data",
          "data": {
            "application/javascript": [
              "window[\"65aa0eac-5ac6-11ea-b93d-0242ac1c0002\"] = google.colab.output.setActiveOutputArea(window[\"65a9ad9a-5ac6-11ea-b93d-0242ac1c0002\"]);\n",
              "//# sourceURL=js_ab30f49183"
            ],
            "text/plain": [
              "<IPython.core.display.Javascript object>"
            ]
          },
          "metadata": {
            "tags": [
              "id18-3-2",
              "outputarea_id18"
            ]
          }
        },
        {
          "output_type": "stream",
          "text": [
            "https://patents.google.com/patent/US7439432B2\n"
          ],
          "name": "stdout"
        },
        {
          "output_type": "display_data",
          "data": {
            "application/javascript": [
              "window[\"65ab6a0e-5ac6-11ea-b93d-0242ac1c0002\"] = google.colab.output.setActiveOutputArea(window[\"65a94846-5ac6-11ea-b93d-0242ac1c0002\"]);\n",
              "//# sourceURL=js_018c649cf1"
            ],
            "text/plain": [
              "<IPython.core.display.Javascript object>"
            ]
          },
          "metadata": {
            "tags": [
              "id18-3-2",
              "outputarea_id18"
            ]
          }
        },
        {
          "output_type": "display_data",
          "data": {
            "application/javascript": [
              "window[\"65ad5968-5ac6-11ea-b93d-0242ac1c0002\"] = google.colab.output.getActiveOutputArea();\n",
              "//# sourceURL=js_0a294722ac"
            ],
            "text/plain": [
              "<IPython.core.display.Javascript object>"
            ]
          },
          "metadata": {
            "tags": [
              "id18-3-3",
              "outputarea_id18"
            ]
          }
        },
        {
          "output_type": "display_data",
          "data": {
            "application/javascript": [
              "window[\"65adb73c-5ac6-11ea-b93d-0242ac1c0002\"] = document.querySelector(\"#id18-3-3\");\n",
              "//# sourceURL=js_1480810fa3"
            ],
            "text/plain": [
              "<IPython.core.display.Javascript object>"
            ]
          },
          "metadata": {
            "tags": [
              "id18-3-3",
              "outputarea_id18"
            ]
          }
        },
        {
          "output_type": "display_data",
          "data": {
            "application/javascript": [
              "window[\"65ae0386-5ac6-11ea-b93d-0242ac1c0002\"] = google.colab.output.setActiveOutputArea(window[\"65adb73c-5ac6-11ea-b93d-0242ac1c0002\"]);\n",
              "//# sourceURL=js_3183d34861"
            ],
            "text/plain": [
              "<IPython.core.display.Javascript object>"
            ]
          },
          "metadata": {
            "tags": [
              "id18-3-3",
              "outputarea_id18"
            ]
          }
        },
        {
          "output_type": "stream",
          "text": [
            "0.3134476\n"
          ],
          "name": "stdout"
        },
        {
          "output_type": "display_data",
          "data": {
            "application/javascript": [
              "window[\"65af3864-5ac6-11ea-b93d-0242ac1c0002\"] = google.colab.output.setActiveOutputArea(window[\"65ad5968-5ac6-11ea-b93d-0242ac1c0002\"]);\n",
              "//# sourceURL=js_d57ad8fed1"
            ],
            "text/plain": [
              "<IPython.core.display.Javascript object>"
            ]
          },
          "metadata": {
            "tags": [
              "id18-3-3",
              "outputarea_id18"
            ]
          }
        },
        {
          "output_type": "display_data",
          "data": {
            "application/javascript": [
              "window[\"65b0bdb0-5ac6-11ea-b93d-0242ac1c0002\"] = google.colab.output.getActiveOutputArea();\n",
              "//# sourceURL=js_dfdaaea23f"
            ],
            "text/plain": [
              "<IPython.core.display.Javascript object>"
            ]
          },
          "metadata": {
            "tags": [
              "id18-4-0",
              "outputarea_id18"
            ]
          }
        },
        {
          "output_type": "display_data",
          "data": {
            "application/javascript": [
              "window[\"65b12584-5ac6-11ea-b93d-0242ac1c0002\"] = document.querySelector(\"#id18-4-0\");\n",
              "//# sourceURL=js_e9e5fcf7a6"
            ],
            "text/plain": [
              "<IPython.core.display.Javascript object>"
            ]
          },
          "metadata": {
            "tags": [
              "id18-4-0",
              "outputarea_id18"
            ]
          }
        },
        {
          "output_type": "display_data",
          "data": {
            "application/javascript": [
              "window[\"65b17200-5ac6-11ea-b93d-0242ac1c0002\"] = google.colab.output.setActiveOutputArea(window[\"65b12584-5ac6-11ea-b93d-0242ac1c0002\"]);\n",
              "//# sourceURL=js_2a4bf4c7bb"
            ],
            "text/plain": [
              "<IPython.core.display.Javascript object>"
            ]
          },
          "metadata": {
            "tags": [
              "id18-4-0",
              "outputarea_id18"
            ]
          }
        },
        {
          "output_type": "stream",
          "text": [
            "4\n"
          ],
          "name": "stdout"
        },
        {
          "output_type": "display_data",
          "data": {
            "application/javascript": [
              "window[\"65b2a67a-5ac6-11ea-b93d-0242ac1c0002\"] = google.colab.output.setActiveOutputArea(window[\"65b0bdb0-5ac6-11ea-b93d-0242ac1c0002\"]);\n",
              "//# sourceURL=js_b23f6d669f"
            ],
            "text/plain": [
              "<IPython.core.display.Javascript object>"
            ]
          },
          "metadata": {
            "tags": [
              "id18-4-0",
              "outputarea_id18"
            ]
          }
        },
        {
          "output_type": "display_data",
          "data": {
            "application/javascript": [
              "window[\"65b47554-5ac6-11ea-b93d-0242ac1c0002\"] = google.colab.output.getActiveOutputArea();\n",
              "//# sourceURL=js_3d7cb7f607"
            ],
            "text/plain": [
              "<IPython.core.display.Javascript object>"
            ]
          },
          "metadata": {
            "tags": [
              "id18-4-1",
              "outputarea_id18"
            ]
          }
        },
        {
          "output_type": "display_data",
          "data": {
            "application/javascript": [
              "window[\"65b4d170-5ac6-11ea-b93d-0242ac1c0002\"] = document.querySelector(\"#id18-4-1\");\n",
              "//# sourceURL=js_6ad27e0af1"
            ],
            "text/plain": [
              "<IPython.core.display.Javascript object>"
            ]
          },
          "metadata": {
            "tags": [
              "id18-4-1",
              "outputarea_id18"
            ]
          }
        },
        {
          "output_type": "display_data",
          "data": {
            "application/javascript": [
              "window[\"65b53624-5ac6-11ea-b93d-0242ac1c0002\"] = google.colab.output.setActiveOutputArea(window[\"65b4d170-5ac6-11ea-b93d-0242ac1c0002\"]);\n",
              "//# sourceURL=js_6f40c35255"
            ],
            "text/plain": [
              "<IPython.core.display.Javascript object>"
            ]
          },
          "metadata": {
            "tags": [
              "id18-4-1",
              "outputarea_id18"
            ]
          }
        },
        {
          "output_type": "stream",
          "text": [
            "Force Sensor\n",
            "\n"
          ],
          "name": "stdout"
        },
        {
          "output_type": "display_data",
          "data": {
            "application/javascript": [
              "window[\"65b67976-5ac6-11ea-b93d-0242ac1c0002\"] = google.colab.output.setActiveOutputArea(window[\"65b47554-5ac6-11ea-b93d-0242ac1c0002\"]);\n",
              "//# sourceURL=js_c2162dd126"
            ],
            "text/plain": [
              "<IPython.core.display.Javascript object>"
            ]
          },
          "metadata": {
            "tags": [
              "id18-4-1",
              "outputarea_id18"
            ]
          }
        },
        {
          "output_type": "display_data",
          "data": {
            "application/javascript": [
              "window[\"65b82ba4-5ac6-11ea-b93d-0242ac1c0002\"] = google.colab.output.getActiveOutputArea();\n",
              "//# sourceURL=js_26e646e982"
            ],
            "text/plain": [
              "<IPython.core.display.Javascript object>"
            ]
          },
          "metadata": {
            "tags": [
              "id18-4-2",
              "outputarea_id18"
            ]
          }
        },
        {
          "output_type": "display_data",
          "data": {
            "application/javascript": [
              "window[\"65b88ab8-5ac6-11ea-b93d-0242ac1c0002\"] = document.querySelector(\"#id18-4-2\");\n",
              "//# sourceURL=js_b6c8b8a626"
            ],
            "text/plain": [
              "<IPython.core.display.Javascript object>"
            ]
          },
          "metadata": {
            "tags": [
              "id18-4-2",
              "outputarea_id18"
            ]
          }
        },
        {
          "output_type": "display_data",
          "data": {
            "application/javascript": [
              "window[\"65b8daf4-5ac6-11ea-b93d-0242ac1c0002\"] = google.colab.output.setActiveOutputArea(window[\"65b88ab8-5ac6-11ea-b93d-0242ac1c0002\"]);\n",
              "//# sourceURL=js_009701a5c9"
            ],
            "text/plain": [
              "<IPython.core.display.Javascript object>"
            ]
          },
          "metadata": {
            "tags": [
              "id18-4-2",
              "outputarea_id18"
            ]
          }
        },
        {
          "output_type": "stream",
          "text": [
            "https://patents.google.com/patent/US7757571B2\n"
          ],
          "name": "stdout"
        },
        {
          "output_type": "display_data",
          "data": {
            "application/javascript": [
              "window[\"65ba0e42-5ac6-11ea-b93d-0242ac1c0002\"] = google.colab.output.setActiveOutputArea(window[\"65b82ba4-5ac6-11ea-b93d-0242ac1c0002\"]);\n",
              "//# sourceURL=js_a726d657f9"
            ],
            "text/plain": [
              "<IPython.core.display.Javascript object>"
            ]
          },
          "metadata": {
            "tags": [
              "id18-4-2",
              "outputarea_id18"
            ]
          }
        },
        {
          "output_type": "display_data",
          "data": {
            "application/javascript": [
              "window[\"65bb9ad2-5ac6-11ea-b93d-0242ac1c0002\"] = google.colab.output.getActiveOutputArea();\n",
              "//# sourceURL=js_9112811056"
            ],
            "text/plain": [
              "<IPython.core.display.Javascript object>"
            ]
          },
          "metadata": {
            "tags": [
              "id18-4-3",
              "outputarea_id18"
            ]
          }
        },
        {
          "output_type": "display_data",
          "data": {
            "application/javascript": [
              "window[\"65bbf518-5ac6-11ea-b93d-0242ac1c0002\"] = document.querySelector(\"#id18-4-3\");\n",
              "//# sourceURL=js_7ff83f0b01"
            ],
            "text/plain": [
              "<IPython.core.display.Javascript object>"
            ]
          },
          "metadata": {
            "tags": [
              "id18-4-3",
              "outputarea_id18"
            ]
          }
        },
        {
          "output_type": "display_data",
          "data": {
            "application/javascript": [
              "window[\"65bc43ec-5ac6-11ea-b93d-0242ac1c0002\"] = google.colab.output.setActiveOutputArea(window[\"65bbf518-5ac6-11ea-b93d-0242ac1c0002\"]);\n",
              "//# sourceURL=js_949cc33d25"
            ],
            "text/plain": [
              "<IPython.core.display.Javascript object>"
            ]
          },
          "metadata": {
            "tags": [
              "id18-4-3",
              "outputarea_id18"
            ]
          }
        },
        {
          "output_type": "stream",
          "text": [
            "0.3174185\n"
          ],
          "name": "stdout"
        },
        {
          "output_type": "display_data",
          "data": {
            "application/javascript": [
              "window[\"65bd70aa-5ac6-11ea-b93d-0242ac1c0002\"] = google.colab.output.setActiveOutputArea(window[\"65bb9ad2-5ac6-11ea-b93d-0242ac1c0002\"]);\n",
              "//# sourceURL=js_e5dc2cc199"
            ],
            "text/plain": [
              "<IPython.core.display.Javascript object>"
            ]
          },
          "metadata": {
            "tags": [
              "id18-4-3",
              "outputarea_id18"
            ]
          }
        },
        {
          "output_type": "display_data",
          "data": {
            "application/javascript": [
              "window[\"65bef5ce-5ac6-11ea-b93d-0242ac1c0002\"] = google.colab.output.getActiveOutputArea();\n",
              "//# sourceURL=js_85ec52cf73"
            ],
            "text/plain": [
              "<IPython.core.display.Javascript object>"
            ]
          },
          "metadata": {
            "tags": [
              "id18-5-0",
              "outputarea_id18"
            ]
          }
        },
        {
          "output_type": "display_data",
          "data": {
            "application/javascript": [
              "window[\"65bf47cc-5ac6-11ea-b93d-0242ac1c0002\"] = document.querySelector(\"#id18-5-0\");\n",
              "//# sourceURL=js_fea459fea3"
            ],
            "text/plain": [
              "<IPython.core.display.Javascript object>"
            ]
          },
          "metadata": {
            "tags": [
              "id18-5-0",
              "outputarea_id18"
            ]
          }
        },
        {
          "output_type": "display_data",
          "data": {
            "application/javascript": [
              "window[\"65bfaac8-5ac6-11ea-b93d-0242ac1c0002\"] = google.colab.output.setActiveOutputArea(window[\"65bf47cc-5ac6-11ea-b93d-0242ac1c0002\"]);\n",
              "//# sourceURL=js_99e05fdd4a"
            ],
            "text/plain": [
              "<IPython.core.display.Javascript object>"
            ]
          },
          "metadata": {
            "tags": [
              "id18-5-0",
              "outputarea_id18"
            ]
          }
        },
        {
          "output_type": "stream",
          "text": [
            "5\n"
          ],
          "name": "stdout"
        },
        {
          "output_type": "display_data",
          "data": {
            "application/javascript": [
              "window[\"65c0cbb0-5ac6-11ea-b93d-0242ac1c0002\"] = google.colab.output.setActiveOutputArea(window[\"65bef5ce-5ac6-11ea-b93d-0242ac1c0002\"]);\n",
              "//# sourceURL=js_db8a148c56"
            ],
            "text/plain": [
              "<IPython.core.display.Javascript object>"
            ]
          },
          "metadata": {
            "tags": [
              "id18-5-0",
              "outputarea_id18"
            ]
          }
        },
        {
          "output_type": "display_data",
          "data": {
            "application/javascript": [
              "window[\"65c27a64-5ac6-11ea-b93d-0242ac1c0002\"] = google.colab.output.getActiveOutputArea();\n",
              "//# sourceURL=js_21fa2160e6"
            ],
            "text/plain": [
              "<IPython.core.display.Javascript object>"
            ]
          },
          "metadata": {
            "tags": [
              "id18-5-1",
              "outputarea_id18"
            ]
          }
        },
        {
          "output_type": "display_data",
          "data": {
            "application/javascript": [
              "window[\"65c2cf78-5ac6-11ea-b93d-0242ac1c0002\"] = document.querySelector(\"#id18-5-1\");\n",
              "//# sourceURL=js_081ed3a5d8"
            ],
            "text/plain": [
              "<IPython.core.display.Javascript object>"
            ]
          },
          "metadata": {
            "tags": [
              "id18-5-1",
              "outputarea_id18"
            ]
          }
        },
        {
          "output_type": "display_data",
          "data": {
            "application/javascript": [
              "window[\"65c32b6c-5ac6-11ea-b93d-0242ac1c0002\"] = google.colab.output.setActiveOutputArea(window[\"65c2cf78-5ac6-11ea-b93d-0242ac1c0002\"]);\n",
              "//# sourceURL=js_c8ee9de5e7"
            ],
            "text/plain": [
              "<IPython.core.display.Javascript object>"
            ]
          },
          "metadata": {
            "tags": [
              "id18-5-1",
              "outputarea_id18"
            ]
          }
        },
        {
          "output_type": "stream",
          "text": [
            "Drive apparatus and device with same\n",
            "\n"
          ],
          "name": "stdout"
        },
        {
          "output_type": "display_data",
          "data": {
            "application/javascript": [
              "window[\"65c443da-5ac6-11ea-b93d-0242ac1c0002\"] = google.colab.output.setActiveOutputArea(window[\"65c27a64-5ac6-11ea-b93d-0242ac1c0002\"]);\n",
              "//# sourceURL=js_4ce1595380"
            ],
            "text/plain": [
              "<IPython.core.display.Javascript object>"
            ]
          },
          "metadata": {
            "tags": [
              "id18-5-1",
              "outputarea_id18"
            ]
          }
        },
        {
          "output_type": "display_data",
          "data": {
            "application/javascript": [
              "window[\"65c5ff2c-5ac6-11ea-b93d-0242ac1c0002\"] = google.colab.output.getActiveOutputArea();\n",
              "//# sourceURL=js_7ea4dcbda3"
            ],
            "text/plain": [
              "<IPython.core.display.Javascript object>"
            ]
          },
          "metadata": {
            "tags": [
              "id18-5-2",
              "outputarea_id18"
            ]
          }
        },
        {
          "output_type": "display_data",
          "data": {
            "application/javascript": [
              "window[\"65c6508a-5ac6-11ea-b93d-0242ac1c0002\"] = document.querySelector(\"#id18-5-2\");\n",
              "//# sourceURL=js_355e04f974"
            ],
            "text/plain": [
              "<IPython.core.display.Javascript object>"
            ]
          },
          "metadata": {
            "tags": [
              "id18-5-2",
              "outputarea_id18"
            ]
          }
        },
        {
          "output_type": "display_data",
          "data": {
            "application/javascript": [
              "window[\"65c6b2d2-5ac6-11ea-b93d-0242ac1c0002\"] = google.colab.output.setActiveOutputArea(window[\"65c6508a-5ac6-11ea-b93d-0242ac1c0002\"]);\n",
              "//# sourceURL=js_fec951eb64"
            ],
            "text/plain": [
              "<IPython.core.display.Javascript object>"
            ]
          },
          "metadata": {
            "tags": [
              "id18-5-2",
              "outputarea_id18"
            ]
          }
        },
        {
          "output_type": "stream",
          "text": [
            "https://patents.google.com/patent/US7378777B2\n"
          ],
          "name": "stdout"
        },
        {
          "output_type": "display_data",
          "data": {
            "application/javascript": [
              "window[\"65c7c88e-5ac6-11ea-b93d-0242ac1c0002\"] = google.colab.output.setActiveOutputArea(window[\"65c5ff2c-5ac6-11ea-b93d-0242ac1c0002\"]);\n",
              "//# sourceURL=js_6585d61390"
            ],
            "text/plain": [
              "<IPython.core.display.Javascript object>"
            ]
          },
          "metadata": {
            "tags": [
              "id18-5-2",
              "outputarea_id18"
            ]
          }
        },
        {
          "output_type": "display_data",
          "data": {
            "application/javascript": [
              "window[\"65c98df4-5ac6-11ea-b93d-0242ac1c0002\"] = google.colab.output.getActiveOutputArea();\n",
              "//# sourceURL=js_6f736a5021"
            ],
            "text/plain": [
              "<IPython.core.display.Javascript object>"
            ]
          },
          "metadata": {
            "tags": [
              "id18-5-3",
              "outputarea_id18"
            ]
          }
        },
        {
          "output_type": "display_data",
          "data": {
            "application/javascript": [
              "window[\"65c9fb54-5ac6-11ea-b93d-0242ac1c0002\"] = document.querySelector(\"#id18-5-3\");\n",
              "//# sourceURL=js_59458c66ed"
            ],
            "text/plain": [
              "<IPython.core.display.Javascript object>"
            ]
          },
          "metadata": {
            "tags": [
              "id18-5-3",
              "outputarea_id18"
            ]
          }
        },
        {
          "output_type": "display_data",
          "data": {
            "application/javascript": [
              "window[\"65ca5b26-5ac6-11ea-b93d-0242ac1c0002\"] = google.colab.output.setActiveOutputArea(window[\"65c9fb54-5ac6-11ea-b93d-0242ac1c0002\"]);\n",
              "//# sourceURL=js_3087e5a5b8"
            ],
            "text/plain": [
              "<IPython.core.display.Javascript object>"
            ]
          },
          "metadata": {
            "tags": [
              "id18-5-3",
              "outputarea_id18"
            ]
          }
        },
        {
          "output_type": "stream",
          "text": [
            "0.31958744\n"
          ],
          "name": "stdout"
        },
        {
          "output_type": "display_data",
          "data": {
            "application/javascript": [
              "window[\"65cb86e0-5ac6-11ea-b93d-0242ac1c0002\"] = google.colab.output.setActiveOutputArea(window[\"65c98df4-5ac6-11ea-b93d-0242ac1c0002\"]);\n",
              "//# sourceURL=js_3be8833e25"
            ],
            "text/plain": [
              "<IPython.core.display.Javascript object>"
            ]
          },
          "metadata": {
            "tags": [
              "id18-5-3",
              "outputarea_id18"
            ]
          }
        },
        {
          "output_type": "display_data",
          "data": {
            "application/javascript": [
              "window[\"65cd362a-5ac6-11ea-b93d-0242ac1c0002\"] = google.colab.output.getActiveOutputArea();\n",
              "//# sourceURL=js_4ae8393c04"
            ],
            "text/plain": [
              "<IPython.core.display.Javascript object>"
            ]
          },
          "metadata": {
            "tags": [
              "id18-6-0",
              "outputarea_id18"
            ]
          }
        },
        {
          "output_type": "display_data",
          "data": {
            "application/javascript": [
              "window[\"65cd8832-5ac6-11ea-b93d-0242ac1c0002\"] = document.querySelector(\"#id18-6-0\");\n",
              "//# sourceURL=js_a01b5b00d9"
            ],
            "text/plain": [
              "<IPython.core.display.Javascript object>"
            ]
          },
          "metadata": {
            "tags": [
              "id18-6-0",
              "outputarea_id18"
            ]
          }
        },
        {
          "output_type": "display_data",
          "data": {
            "application/javascript": [
              "window[\"65cdf056-5ac6-11ea-b93d-0242ac1c0002\"] = google.colab.output.setActiveOutputArea(window[\"65cd8832-5ac6-11ea-b93d-0242ac1c0002\"]);\n",
              "//# sourceURL=js_39b9c2cf04"
            ],
            "text/plain": [
              "<IPython.core.display.Javascript object>"
            ]
          },
          "metadata": {
            "tags": [
              "id18-6-0",
              "outputarea_id18"
            ]
          }
        },
        {
          "output_type": "stream",
          "text": [
            "6\n"
          ],
          "name": "stdout"
        },
        {
          "output_type": "display_data",
          "data": {
            "application/javascript": [
              "window[\"65cf1c60-5ac6-11ea-b93d-0242ac1c0002\"] = google.colab.output.setActiveOutputArea(window[\"65cd362a-5ac6-11ea-b93d-0242ac1c0002\"]);\n",
              "//# sourceURL=js_99ef3c9cd2"
            ],
            "text/plain": [
              "<IPython.core.display.Javascript object>"
            ]
          },
          "metadata": {
            "tags": [
              "id18-6-0",
              "outputarea_id18"
            ]
          }
        },
        {
          "output_type": "display_data",
          "data": {
            "application/javascript": [
              "window[\"65d0cc36-5ac6-11ea-b93d-0242ac1c0002\"] = google.colab.output.getActiveOutputArea();\n",
              "//# sourceURL=js_988f586027"
            ],
            "text/plain": [
              "<IPython.core.display.Javascript object>"
            ]
          },
          "metadata": {
            "tags": [
              "id18-6-1",
              "outputarea_id18"
            ]
          }
        },
        {
          "output_type": "display_data",
          "data": {
            "application/javascript": [
              "window[\"65d11de4-5ac6-11ea-b93d-0242ac1c0002\"] = document.querySelector(\"#id18-6-1\");\n",
              "//# sourceURL=js_cbb874a74c"
            ],
            "text/plain": [
              "<IPython.core.display.Javascript object>"
            ]
          },
          "metadata": {
            "tags": [
              "id18-6-1",
              "outputarea_id18"
            ]
          }
        },
        {
          "output_type": "display_data",
          "data": {
            "application/javascript": [
              "window[\"65d181b2-5ac6-11ea-b93d-0242ac1c0002\"] = google.colab.output.setActiveOutputArea(window[\"65d11de4-5ac6-11ea-b93d-0242ac1c0002\"]);\n",
              "//# sourceURL=js_9fd4af3ee6"
            ],
            "text/plain": [
              "<IPython.core.display.Javascript object>"
            ]
          },
          "metadata": {
            "tags": [
              "id18-6-1",
              "outputarea_id18"
            ]
          }
        },
        {
          "output_type": "stream",
          "text": [
            "Electronic drum\n",
            "\n"
          ],
          "name": "stdout"
        },
        {
          "output_type": "display_data",
          "data": {
            "application/javascript": [
              "window[\"65d28fe4-5ac6-11ea-b93d-0242ac1c0002\"] = google.colab.output.setActiveOutputArea(window[\"65d0cc36-5ac6-11ea-b93d-0242ac1c0002\"]);\n",
              "//# sourceURL=js_ab8fc3f435"
            ],
            "text/plain": [
              "<IPython.core.display.Javascript object>"
            ]
          },
          "metadata": {
            "tags": [
              "id18-6-1",
              "outputarea_id18"
            ]
          }
        },
        {
          "output_type": "display_data",
          "data": {
            "application/javascript": [
              "window[\"65d4304c-5ac6-11ea-b93d-0242ac1c0002\"] = google.colab.output.getActiveOutputArea();\n",
              "//# sourceURL=js_92556b0bef"
            ],
            "text/plain": [
              "<IPython.core.display.Javascript object>"
            ]
          },
          "metadata": {
            "tags": [
              "id18-6-2",
              "outputarea_id18"
            ]
          }
        },
        {
          "output_type": "display_data",
          "data": {
            "application/javascript": [
              "window[\"65d48ea2-5ac6-11ea-b93d-0242ac1c0002\"] = document.querySelector(\"#id18-6-2\");\n",
              "//# sourceURL=js_17589e483a"
            ],
            "text/plain": [
              "<IPython.core.display.Javascript object>"
            ]
          },
          "metadata": {
            "tags": [
              "id18-6-2",
              "outputarea_id18"
            ]
          }
        },
        {
          "output_type": "display_data",
          "data": {
            "application/javascript": [
              "window[\"65d4f464-5ac6-11ea-b93d-0242ac1c0002\"] = google.colab.output.setActiveOutputArea(window[\"65d48ea2-5ac6-11ea-b93d-0242ac1c0002\"]);\n",
              "//# sourceURL=js_2abe4e5478"
            ],
            "text/plain": [
              "<IPython.core.display.Javascript object>"
            ]
          },
          "metadata": {
            "tags": [
              "id18-6-2",
              "outputarea_id18"
            ]
          }
        },
        {
          "output_type": "stream",
          "text": [
            "https://patents.google.com/patent/US7473840B2\n"
          ],
          "name": "stdout"
        },
        {
          "output_type": "display_data",
          "data": {
            "application/javascript": [
              "window[\"65d6148e-5ac6-11ea-b93d-0242ac1c0002\"] = google.colab.output.setActiveOutputArea(window[\"65d4304c-5ac6-11ea-b93d-0242ac1c0002\"]);\n",
              "//# sourceURL=js_041e336368"
            ],
            "text/plain": [
              "<IPython.core.display.Javascript object>"
            ]
          },
          "metadata": {
            "tags": [
              "id18-6-2",
              "outputarea_id18"
            ]
          }
        },
        {
          "output_type": "display_data",
          "data": {
            "application/javascript": [
              "window[\"65d7b906-5ac6-11ea-b93d-0242ac1c0002\"] = google.colab.output.getActiveOutputArea();\n",
              "//# sourceURL=js_0f35ded9c4"
            ],
            "text/plain": [
              "<IPython.core.display.Javascript object>"
            ]
          },
          "metadata": {
            "tags": [
              "id18-6-3",
              "outputarea_id18"
            ]
          }
        },
        {
          "output_type": "display_data",
          "data": {
            "application/javascript": [
              "window[\"65d807a8-5ac6-11ea-b93d-0242ac1c0002\"] = document.querySelector(\"#id18-6-3\");\n",
              "//# sourceURL=js_f90ee8f7a6"
            ],
            "text/plain": [
              "<IPython.core.display.Javascript object>"
            ]
          },
          "metadata": {
            "tags": [
              "id18-6-3",
              "outputarea_id18"
            ]
          }
        },
        {
          "output_type": "display_data",
          "data": {
            "application/javascript": [
              "window[\"65d864fa-5ac6-11ea-b93d-0242ac1c0002\"] = google.colab.output.setActiveOutputArea(window[\"65d807a8-5ac6-11ea-b93d-0242ac1c0002\"]);\n",
              "//# sourceURL=js_9ea28ed6fa"
            ],
            "text/plain": [
              "<IPython.core.display.Javascript object>"
            ]
          },
          "metadata": {
            "tags": [
              "id18-6-3",
              "outputarea_id18"
            ]
          }
        },
        {
          "output_type": "stream",
          "text": [
            "0.32117468\n"
          ],
          "name": "stdout"
        },
        {
          "output_type": "display_data",
          "data": {
            "application/javascript": [
              "window[\"65d98b0a-5ac6-11ea-b93d-0242ac1c0002\"] = google.colab.output.setActiveOutputArea(window[\"65d7b906-5ac6-11ea-b93d-0242ac1c0002\"]);\n",
              "//# sourceURL=js_e14755df37"
            ],
            "text/plain": [
              "<IPython.core.display.Javascript object>"
            ]
          },
          "metadata": {
            "tags": [
              "id18-6-3",
              "outputarea_id18"
            ]
          }
        },
        {
          "output_type": "display_data",
          "data": {
            "application/javascript": [
              "window[\"65db40a8-5ac6-11ea-b93d-0242ac1c0002\"] = google.colab.output.getActiveOutputArea();\n",
              "//# sourceURL=js_a74c8ff5b2"
            ],
            "text/plain": [
              "<IPython.core.display.Javascript object>"
            ]
          },
          "metadata": {
            "tags": [
              "id18-7-0",
              "outputarea_id18"
            ]
          }
        },
        {
          "output_type": "display_data",
          "data": {
            "application/javascript": [
              "window[\"65db913e-5ac6-11ea-b93d-0242ac1c0002\"] = document.querySelector(\"#id18-7-0\");\n",
              "//# sourceURL=js_735fd484d4"
            ],
            "text/plain": [
              "<IPython.core.display.Javascript object>"
            ]
          },
          "metadata": {
            "tags": [
              "id18-7-0",
              "outputarea_id18"
            ]
          }
        },
        {
          "output_type": "display_data",
          "data": {
            "application/javascript": [
              "window[\"65dbec6a-5ac6-11ea-b93d-0242ac1c0002\"] = google.colab.output.setActiveOutputArea(window[\"65db913e-5ac6-11ea-b93d-0242ac1c0002\"]);\n",
              "//# sourceURL=js_5fd2259137"
            ],
            "text/plain": [
              "<IPython.core.display.Javascript object>"
            ]
          },
          "metadata": {
            "tags": [
              "id18-7-0",
              "outputarea_id18"
            ]
          }
        },
        {
          "output_type": "stream",
          "text": [
            "7\n"
          ],
          "name": "stdout"
        },
        {
          "output_type": "display_data",
          "data": {
            "application/javascript": [
              "window[\"65dcff88-5ac6-11ea-b93d-0242ac1c0002\"] = google.colab.output.setActiveOutputArea(window[\"65db40a8-5ac6-11ea-b93d-0242ac1c0002\"]);\n",
              "//# sourceURL=js_f05cbeea95"
            ],
            "text/plain": [
              "<IPython.core.display.Javascript object>"
            ]
          },
          "metadata": {
            "tags": [
              "id18-7-0",
              "outputarea_id18"
            ]
          }
        },
        {
          "output_type": "display_data",
          "data": {
            "application/javascript": [
              "window[\"65deae3c-5ac6-11ea-b93d-0242ac1c0002\"] = google.colab.output.getActiveOutputArea();\n",
              "//# sourceURL=js_29253ffbb3"
            ],
            "text/plain": [
              "<IPython.core.display.Javascript object>"
            ]
          },
          "metadata": {
            "tags": [
              "id18-7-1",
              "outputarea_id18"
            ]
          }
        },
        {
          "output_type": "display_data",
          "data": {
            "application/javascript": [
              "window[\"65defca2-5ac6-11ea-b93d-0242ac1c0002\"] = document.querySelector(\"#id18-7-1\");\n",
              "//# sourceURL=js_8e526ac604"
            ],
            "text/plain": [
              "<IPython.core.display.Javascript object>"
            ]
          },
          "metadata": {
            "tags": [
              "id18-7-1",
              "outputarea_id18"
            ]
          }
        },
        {
          "output_type": "display_data",
          "data": {
            "application/javascript": [
              "window[\"65df52d8-5ac6-11ea-b93d-0242ac1c0002\"] = google.colab.output.setActiveOutputArea(window[\"65defca2-5ac6-11ea-b93d-0242ac1c0002\"]);\n",
              "//# sourceURL=js_7f08ff5e72"
            ],
            "text/plain": [
              "<IPython.core.display.Javascript object>"
            ]
          },
          "metadata": {
            "tags": [
              "id18-7-1",
              "outputarea_id18"
            ]
          }
        },
        {
          "output_type": "stream",
          "text": [
            "Noise attenuating headset\n",
            "\n"
          ],
          "name": "stdout"
        },
        {
          "output_type": "display_data",
          "data": {
            "application/javascript": [
              "window[\"65e073e8-5ac6-11ea-b93d-0242ac1c0002\"] = google.colab.output.setActiveOutputArea(window[\"65deae3c-5ac6-11ea-b93d-0242ac1c0002\"]);\n",
              "//# sourceURL=js_f94bc3b0c0"
            ],
            "text/plain": [
              "<IPython.core.display.Javascript object>"
            ]
          },
          "metadata": {
            "tags": [
              "id18-7-1",
              "outputarea_id18"
            ]
          }
        },
        {
          "output_type": "display_data",
          "data": {
            "application/javascript": [
              "window[\"65e2263e-5ac6-11ea-b93d-0242ac1c0002\"] = google.colab.output.getActiveOutputArea();\n",
              "//# sourceURL=js_ccd00c638e"
            ],
            "text/plain": [
              "<IPython.core.display.Javascript object>"
            ]
          },
          "metadata": {
            "tags": [
              "id18-7-2",
              "outputarea_id18"
            ]
          }
        },
        {
          "output_type": "display_data",
          "data": {
            "application/javascript": [
              "window[\"65e2726a-5ac6-11ea-b93d-0242ac1c0002\"] = document.querySelector(\"#id18-7-2\");\n",
              "//# sourceURL=js_1fd027e35c"
            ],
            "text/plain": [
              "<IPython.core.display.Javascript object>"
            ]
          },
          "metadata": {
            "tags": [
              "id18-7-2",
              "outputarea_id18"
            ]
          }
        },
        {
          "output_type": "display_data",
          "data": {
            "application/javascript": [
              "window[\"65e2cb2a-5ac6-11ea-b93d-0242ac1c0002\"] = google.colab.output.setActiveOutputArea(window[\"65e2726a-5ac6-11ea-b93d-0242ac1c0002\"]);\n",
              "//# sourceURL=js_10affafea7"
            ],
            "text/plain": [
              "<IPython.core.display.Javascript object>"
            ]
          },
          "metadata": {
            "tags": [
              "id18-7-2",
              "outputarea_id18"
            ]
          }
        },
        {
          "output_type": "stream",
          "text": [
            "https://patents.google.com/patent/US7609844B2\n"
          ],
          "name": "stdout"
        },
        {
          "output_type": "display_data",
          "data": {
            "application/javascript": [
              "window[\"65e3f068-5ac6-11ea-b93d-0242ac1c0002\"] = google.colab.output.setActiveOutputArea(window[\"65e2263e-5ac6-11ea-b93d-0242ac1c0002\"]);\n",
              "//# sourceURL=js_392767e8f3"
            ],
            "text/plain": [
              "<IPython.core.display.Javascript object>"
            ]
          },
          "metadata": {
            "tags": [
              "id18-7-2",
              "outputarea_id18"
            ]
          }
        },
        {
          "output_type": "display_data",
          "data": {
            "application/javascript": [
              "window[\"65e59346-5ac6-11ea-b93d-0242ac1c0002\"] = google.colab.output.getActiveOutputArea();\n",
              "//# sourceURL=js_ed696bcc38"
            ],
            "text/plain": [
              "<IPython.core.display.Javascript object>"
            ]
          },
          "metadata": {
            "tags": [
              "id18-7-3",
              "outputarea_id18"
            ]
          }
        },
        {
          "output_type": "display_data",
          "data": {
            "application/javascript": [
              "window[\"65e5ed00-5ac6-11ea-b93d-0242ac1c0002\"] = document.querySelector(\"#id18-7-3\");\n",
              "//# sourceURL=js_0a11273cb1"
            ],
            "text/plain": [
              "<IPython.core.display.Javascript object>"
            ]
          },
          "metadata": {
            "tags": [
              "id18-7-3",
              "outputarea_id18"
            ]
          }
        },
        {
          "output_type": "display_data",
          "data": {
            "application/javascript": [
              "window[\"65e65a4c-5ac6-11ea-b93d-0242ac1c0002\"] = google.colab.output.setActiveOutputArea(window[\"65e5ed00-5ac6-11ea-b93d-0242ac1c0002\"]);\n",
              "//# sourceURL=js_e58e19dd02"
            ],
            "text/plain": [
              "<IPython.core.display.Javascript object>"
            ]
          },
          "metadata": {
            "tags": [
              "id18-7-3",
              "outputarea_id18"
            ]
          }
        },
        {
          "output_type": "stream",
          "text": [
            "0.32184657\n"
          ],
          "name": "stdout"
        },
        {
          "output_type": "display_data",
          "data": {
            "application/javascript": [
              "window[\"65e78818-5ac6-11ea-b93d-0242ac1c0002\"] = google.colab.output.setActiveOutputArea(window[\"65e59346-5ac6-11ea-b93d-0242ac1c0002\"]);\n",
              "//# sourceURL=js_06268b27a6"
            ],
            "text/plain": [
              "<IPython.core.display.Javascript object>"
            ]
          },
          "metadata": {
            "tags": [
              "id18-7-3",
              "outputarea_id18"
            ]
          }
        },
        {
          "output_type": "display_data",
          "data": {
            "application/javascript": [
              "window[\"65e92dc6-5ac6-11ea-b93d-0242ac1c0002\"] = google.colab.output.getActiveOutputArea();\n",
              "//# sourceURL=js_11ff3834b2"
            ],
            "text/plain": [
              "<IPython.core.display.Javascript object>"
            ]
          },
          "metadata": {
            "tags": [
              "id18-8-0",
              "outputarea_id18"
            ]
          }
        },
        {
          "output_type": "display_data",
          "data": {
            "application/javascript": [
              "window[\"65e9830c-5ac6-11ea-b93d-0242ac1c0002\"] = document.querySelector(\"#id18-8-0\");\n",
              "//# sourceURL=js_b1cf599955"
            ],
            "text/plain": [
              "<IPython.core.display.Javascript object>"
            ]
          },
          "metadata": {
            "tags": [
              "id18-8-0",
              "outputarea_id18"
            ]
          }
        },
        {
          "output_type": "display_data",
          "data": {
            "application/javascript": [
              "window[\"65e9e284-5ac6-11ea-b93d-0242ac1c0002\"] = google.colab.output.setActiveOutputArea(window[\"65e9830c-5ac6-11ea-b93d-0242ac1c0002\"]);\n",
              "//# sourceURL=js_6e27807e38"
            ],
            "text/plain": [
              "<IPython.core.display.Javascript object>"
            ]
          },
          "metadata": {
            "tags": [
              "id18-8-0",
              "outputarea_id18"
            ]
          }
        },
        {
          "output_type": "stream",
          "text": [
            "8\n"
          ],
          "name": "stdout"
        },
        {
          "output_type": "display_data",
          "data": {
            "application/javascript": [
              "window[\"65eb0074-5ac6-11ea-b93d-0242ac1c0002\"] = google.colab.output.setActiveOutputArea(window[\"65e92dc6-5ac6-11ea-b93d-0242ac1c0002\"]);\n",
              "//# sourceURL=js_66754dd39a"
            ],
            "text/plain": [
              "<IPython.core.display.Javascript object>"
            ]
          },
          "metadata": {
            "tags": [
              "id18-8-0",
              "outputarea_id18"
            ]
          }
        },
        {
          "output_type": "display_data",
          "data": {
            "application/javascript": [
              "window[\"65ecb784-5ac6-11ea-b93d-0242ac1c0002\"] = google.colab.output.getActiveOutputArea();\n",
              "//# sourceURL=js_928490673e"
            ],
            "text/plain": [
              "<IPython.core.display.Javascript object>"
            ]
          },
          "metadata": {
            "tags": [
              "id18-8-1",
              "outputarea_id18"
            ]
          }
        },
        {
          "output_type": "display_data",
          "data": {
            "application/javascript": [
              "window[\"65ed0662-5ac6-11ea-b93d-0242ac1c0002\"] = document.querySelector(\"#id18-8-1\");\n",
              "//# sourceURL=js_00d2afc0b3"
            ],
            "text/plain": [
              "<IPython.core.display.Javascript object>"
            ]
          },
          "metadata": {
            "tags": [
              "id18-8-1",
              "outputarea_id18"
            ]
          }
        },
        {
          "output_type": "display_data",
          "data": {
            "application/javascript": [
              "window[\"65ed6e18-5ac6-11ea-b93d-0242ac1c0002\"] = google.colab.output.setActiveOutputArea(window[\"65ed0662-5ac6-11ea-b93d-0242ac1c0002\"]);\n",
              "//# sourceURL=js_5ef8c455ce"
            ],
            "text/plain": [
              "<IPython.core.display.Javascript object>"
            ]
          },
          "metadata": {
            "tags": [
              "id18-8-1",
              "outputarea_id18"
            ]
          }
        },
        {
          "output_type": "stream",
          "text": [
            "Method for broadcasting a magnetic stripe data packet from an electronic smart card\n",
            "\n"
          ],
          "name": "stdout"
        },
        {
          "output_type": "display_data",
          "data": {
            "application/javascript": [
              "window[\"65ee8730-5ac6-11ea-b93d-0242ac1c0002\"] = google.colab.output.setActiveOutputArea(window[\"65ecb784-5ac6-11ea-b93d-0242ac1c0002\"]);\n",
              "//# sourceURL=js_002805a03b"
            ],
            "text/plain": [
              "<IPython.core.display.Javascript object>"
            ]
          },
          "metadata": {
            "tags": [
              "id18-8-1",
              "outputarea_id18"
            ]
          }
        },
        {
          "output_type": "display_data",
          "data": {
            "application/javascript": [
              "window[\"65f01e88-5ac6-11ea-b93d-0242ac1c0002\"] = google.colab.output.getActiveOutputArea();\n",
              "//# sourceURL=js_ad53930d14"
            ],
            "text/plain": [
              "<IPython.core.display.Javascript object>"
            ]
          },
          "metadata": {
            "tags": [
              "id18-8-2",
              "outputarea_id18"
            ]
          }
        },
        {
          "output_type": "display_data",
          "data": {
            "application/javascript": [
              "window[\"65f08a44-5ac6-11ea-b93d-0242ac1c0002\"] = document.querySelector(\"#id18-8-2\");\n",
              "//# sourceURL=js_ac1106dffe"
            ],
            "text/plain": [
              "<IPython.core.display.Javascript object>"
            ]
          },
          "metadata": {
            "tags": [
              "id18-8-2",
              "outputarea_id18"
            ]
          }
        },
        {
          "output_type": "display_data",
          "data": {
            "application/javascript": [
              "window[\"65f0e30e-5ac6-11ea-b93d-0242ac1c0002\"] = google.colab.output.setActiveOutputArea(window[\"65f08a44-5ac6-11ea-b93d-0242ac1c0002\"]);\n",
              "//# sourceURL=js_f2b257b08f"
            ],
            "text/plain": [
              "<IPython.core.display.Javascript object>"
            ]
          },
          "metadata": {
            "tags": [
              "id18-8-2",
              "outputarea_id18"
            ]
          }
        },
        {
          "output_type": "stream",
          "text": [
            "https://patents.google.com/patent/US8317103B1\n"
          ],
          "name": "stdout"
        },
        {
          "output_type": "display_data",
          "data": {
            "application/javascript": [
              "window[\"65f229e4-5ac6-11ea-b93d-0242ac1c0002\"] = google.colab.output.setActiveOutputArea(window[\"65f01e88-5ac6-11ea-b93d-0242ac1c0002\"]);\n",
              "//# sourceURL=js_d177184302"
            ],
            "text/plain": [
              "<IPython.core.display.Javascript object>"
            ]
          },
          "metadata": {
            "tags": [
              "id18-8-2",
              "outputarea_id18"
            ]
          }
        },
        {
          "output_type": "display_data",
          "data": {
            "application/javascript": [
              "window[\"65f3d1e0-5ac6-11ea-b93d-0242ac1c0002\"] = google.colab.output.getActiveOutputArea();\n",
              "//# sourceURL=js_ca000e82f0"
            ],
            "text/plain": [
              "<IPython.core.display.Javascript object>"
            ]
          },
          "metadata": {
            "tags": [
              "id18-8-3",
              "outputarea_id18"
            ]
          }
        },
        {
          "output_type": "display_data",
          "data": {
            "application/javascript": [
              "window[\"65f432c0-5ac6-11ea-b93d-0242ac1c0002\"] = document.querySelector(\"#id18-8-3\");\n",
              "//# sourceURL=js_3c489df352"
            ],
            "text/plain": [
              "<IPython.core.display.Javascript object>"
            ]
          },
          "metadata": {
            "tags": [
              "id18-8-3",
              "outputarea_id18"
            ]
          }
        },
        {
          "output_type": "display_data",
          "data": {
            "application/javascript": [
              "window[\"65f472e4-5ac6-11ea-b93d-0242ac1c0002\"] = google.colab.output.setActiveOutputArea(window[\"65f432c0-5ac6-11ea-b93d-0242ac1c0002\"]);\n",
              "//# sourceURL=js_cd5ba1b276"
            ],
            "text/plain": [
              "<IPython.core.display.Javascript object>"
            ]
          },
          "metadata": {
            "tags": [
              "id18-8-3",
              "outputarea_id18"
            ]
          }
        },
        {
          "output_type": "stream",
          "text": [
            "0.33339673\n"
          ],
          "name": "stdout"
        },
        {
          "output_type": "display_data",
          "data": {
            "application/javascript": [
              "window[\"65f537d8-5ac6-11ea-b93d-0242ac1c0002\"] = google.colab.output.setActiveOutputArea(window[\"65f3d1e0-5ac6-11ea-b93d-0242ac1c0002\"]);\n",
              "//# sourceURL=js_3a9f4022f3"
            ],
            "text/plain": [
              "<IPython.core.display.Javascript object>"
            ]
          },
          "metadata": {
            "tags": [
              "id18-8-3",
              "outputarea_id18"
            ]
          }
        },
        {
          "output_type": "display_data",
          "data": {
            "application/javascript": [
              "window[\"65f6b518-5ac6-11ea-b93d-0242ac1c0002\"] = google.colab.output.getActiveOutputArea();\n",
              "//# sourceURL=js_0780aa3261"
            ],
            "text/plain": [
              "<IPython.core.display.Javascript object>"
            ]
          },
          "metadata": {
            "tags": [
              "id18-9-0",
              "outputarea_id18"
            ]
          }
        },
        {
          "output_type": "display_data",
          "data": {
            "application/javascript": [
              "window[\"65f7212e-5ac6-11ea-b93d-0242ac1c0002\"] = document.querySelector(\"#id18-9-0\");\n",
              "//# sourceURL=js_9875db8b71"
            ],
            "text/plain": [
              "<IPython.core.display.Javascript object>"
            ]
          },
          "metadata": {
            "tags": [
              "id18-9-0",
              "outputarea_id18"
            ]
          }
        },
        {
          "output_type": "display_data",
          "data": {
            "application/javascript": [
              "window[\"65f78452-5ac6-11ea-b93d-0242ac1c0002\"] = google.colab.output.setActiveOutputArea(window[\"65f7212e-5ac6-11ea-b93d-0242ac1c0002\"]);\n",
              "//# sourceURL=js_6a1dc245fb"
            ],
            "text/plain": [
              "<IPython.core.display.Javascript object>"
            ]
          },
          "metadata": {
            "tags": [
              "id18-9-0",
              "outputarea_id18"
            ]
          }
        },
        {
          "output_type": "stream",
          "text": [
            "9\n"
          ],
          "name": "stdout"
        },
        {
          "output_type": "display_data",
          "data": {
            "application/javascript": [
              "window[\"65f8b552-5ac6-11ea-b93d-0242ac1c0002\"] = google.colab.output.setActiveOutputArea(window[\"65f6b518-5ac6-11ea-b93d-0242ac1c0002\"]);\n",
              "//# sourceURL=js_79a8656ce5"
            ],
            "text/plain": [
              "<IPython.core.display.Javascript object>"
            ]
          },
          "metadata": {
            "tags": [
              "id18-9-0",
              "outputarea_id18"
            ]
          }
        },
        {
          "output_type": "display_data",
          "data": {
            "application/javascript": [
              "window[\"65fa7b30-5ac6-11ea-b93d-0242ac1c0002\"] = google.colab.output.getActiveOutputArea();\n",
              "//# sourceURL=js_b593d648e0"
            ],
            "text/plain": [
              "<IPython.core.display.Javascript object>"
            ]
          },
          "metadata": {
            "tags": [
              "id18-9-1",
              "outputarea_id18"
            ]
          }
        },
        {
          "output_type": "display_data",
          "data": {
            "application/javascript": [
              "window[\"65fade4a-5ac6-11ea-b93d-0242ac1c0002\"] = document.querySelector(\"#id18-9-1\");\n",
              "//# sourceURL=js_517ca41b60"
            ],
            "text/plain": [
              "<IPython.core.display.Javascript object>"
            ]
          },
          "metadata": {
            "tags": [
              "id18-9-1",
              "outputarea_id18"
            ]
          }
        },
        {
          "output_type": "display_data",
          "data": {
            "application/javascript": [
              "window[\"65fb2242-5ac6-11ea-b93d-0242ac1c0002\"] = google.colab.output.setActiveOutputArea(window[\"65fade4a-5ac6-11ea-b93d-0242ac1c0002\"]);\n",
              "//# sourceURL=js_0eeed2e3be"
            ],
            "text/plain": [
              "<IPython.core.display.Javascript object>"
            ]
          },
          "metadata": {
            "tags": [
              "id18-9-1",
              "outputarea_id18"
            ]
          }
        },
        {
          "output_type": "stream",
          "text": [
            "Electronic torque wrench\n",
            "\n"
          ],
          "name": "stdout"
        },
        {
          "output_type": "display_data",
          "data": {
            "application/javascript": [
              "window[\"65fc6b84-5ac6-11ea-b93d-0242ac1c0002\"] = google.colab.output.setActiveOutputArea(window[\"65fa7b30-5ac6-11ea-b93d-0242ac1c0002\"]);\n",
              "//# sourceURL=js_7b3881610d"
            ],
            "text/plain": [
              "<IPython.core.display.Javascript object>"
            ]
          },
          "metadata": {
            "tags": [
              "id18-9-1",
              "outputarea_id18"
            ]
          }
        },
        {
          "output_type": "display_data",
          "data": {
            "application/javascript": [
              "window[\"65fe2b36-5ac6-11ea-b93d-0242ac1c0002\"] = google.colab.output.getActiveOutputArea();\n",
              "//# sourceURL=js_d5beac6816"
            ],
            "text/plain": [
              "<IPython.core.display.Javascript object>"
            ]
          },
          "metadata": {
            "tags": [
              "id18-9-2",
              "outputarea_id18"
            ]
          }
        },
        {
          "output_type": "display_data",
          "data": {
            "application/javascript": [
              "window[\"65fe9378-5ac6-11ea-b93d-0242ac1c0002\"] = document.querySelector(\"#id18-9-2\");\n",
              "//# sourceURL=js_1e79bc3d6e"
            ],
            "text/plain": [
              "<IPython.core.display.Javascript object>"
            ]
          },
          "metadata": {
            "tags": [
              "id18-9-2",
              "outputarea_id18"
            ]
          }
        },
        {
          "output_type": "display_data",
          "data": {
            "application/javascript": [
              "window[\"65feedbe-5ac6-11ea-b93d-0242ac1c0002\"] = google.colab.output.setActiveOutputArea(window[\"65fe9378-5ac6-11ea-b93d-0242ac1c0002\"]);\n",
              "//# sourceURL=js_54fd4e5a13"
            ],
            "text/plain": [
              "<IPython.core.display.Javascript object>"
            ]
          },
          "metadata": {
            "tags": [
              "id18-9-2",
              "outputarea_id18"
            ]
          }
        },
        {
          "output_type": "stream",
          "text": [
            "https://patents.google.com/patent/US7313990B1\n"
          ],
          "name": "stdout"
        },
        {
          "output_type": "display_data",
          "data": {
            "application/javascript": [
              "window[\"66004010-5ac6-11ea-b93d-0242ac1c0002\"] = google.colab.output.setActiveOutputArea(window[\"65fe2b36-5ac6-11ea-b93d-0242ac1c0002\"]);\n",
              "//# sourceURL=js_e30e5f13c5"
            ],
            "text/plain": [
              "<IPython.core.display.Javascript object>"
            ]
          },
          "metadata": {
            "tags": [
              "id18-9-2",
              "outputarea_id18"
            ]
          }
        },
        {
          "output_type": "display_data",
          "data": {
            "application/javascript": [
              "window[\"6601f658-5ac6-11ea-b93d-0242ac1c0002\"] = google.colab.output.getActiveOutputArea();\n",
              "//# sourceURL=js_cca1cd1b81"
            ],
            "text/plain": [
              "<IPython.core.display.Javascript object>"
            ]
          },
          "metadata": {
            "tags": [
              "id18-9-3",
              "outputarea_id18"
            ]
          }
        },
        {
          "output_type": "display_data",
          "data": {
            "application/javascript": [
              "window[\"6602678c-5ac6-11ea-b93d-0242ac1c0002\"] = document.querySelector(\"#id18-9-3\");\n",
              "//# sourceURL=js_0847004f44"
            ],
            "text/plain": [
              "<IPython.core.display.Javascript object>"
            ]
          },
          "metadata": {
            "tags": [
              "id18-9-3",
              "outputarea_id18"
            ]
          }
        },
        {
          "output_type": "display_data",
          "data": {
            "application/javascript": [
              "window[\"6602c7d6-5ac6-11ea-b93d-0242ac1c0002\"] = google.colab.output.setActiveOutputArea(window[\"6602678c-5ac6-11ea-b93d-0242ac1c0002\"]);\n",
              "//# sourceURL=js_8f4e593a76"
            ],
            "text/plain": [
              "<IPython.core.display.Javascript object>"
            ]
          },
          "metadata": {
            "tags": [
              "id18-9-3",
              "outputarea_id18"
            ]
          }
        },
        {
          "output_type": "stream",
          "text": [
            "0.33508152\n"
          ],
          "name": "stdout"
        },
        {
          "output_type": "display_data",
          "data": {
            "application/javascript": [
              "window[\"6603dd88-5ac6-11ea-b93d-0242ac1c0002\"] = google.colab.output.setActiveOutputArea(window[\"6601f658-5ac6-11ea-b93d-0242ac1c0002\"]);\n",
              "//# sourceURL=js_686326cb33"
            ],
            "text/plain": [
              "<IPython.core.display.Javascript object>"
            ]
          },
          "metadata": {
            "tags": [
              "id18-9-3",
              "outputarea_id18"
            ]
          }
        },
        {
          "output_type": "display_data",
          "data": {
            "application/javascript": [
              "window[\"66057b70-5ac6-11ea-b93d-0242ac1c0002\"] = google.colab.output.getActiveOutputArea();\n",
              "//# sourceURL=js_a91d076cd9"
            ],
            "text/plain": [
              "<IPython.core.display.Javascript object>"
            ]
          },
          "metadata": {
            "tags": [
              "id18-10-0",
              "outputarea_id18"
            ]
          }
        },
        {
          "output_type": "display_data",
          "data": {
            "application/javascript": [
              "window[\"6605ce22-5ac6-11ea-b93d-0242ac1c0002\"] = document.querySelector(\"#id18-10-0\");\n",
              "//# sourceURL=js_9c32680946"
            ],
            "text/plain": [
              "<IPython.core.display.Javascript object>"
            ]
          },
          "metadata": {
            "tags": [
              "id18-10-0",
              "outputarea_id18"
            ]
          }
        },
        {
          "output_type": "display_data",
          "data": {
            "application/javascript": [
              "window[\"66063a92-5ac6-11ea-b93d-0242ac1c0002\"] = google.colab.output.setActiveOutputArea(window[\"6605ce22-5ac6-11ea-b93d-0242ac1c0002\"]);\n",
              "//# sourceURL=js_4d325219d0"
            ],
            "text/plain": [
              "<IPython.core.display.Javascript object>"
            ]
          },
          "metadata": {
            "tags": [
              "id18-10-0",
              "outputarea_id18"
            ]
          }
        },
        {
          "output_type": "stream",
          "text": [
            "10\n"
          ],
          "name": "stdout"
        },
        {
          "output_type": "display_data",
          "data": {
            "application/javascript": [
              "window[\"66077754-5ac6-11ea-b93d-0242ac1c0002\"] = google.colab.output.setActiveOutputArea(window[\"66057b70-5ac6-11ea-b93d-0242ac1c0002\"]);\n",
              "//# sourceURL=js_1b7dad172b"
            ],
            "text/plain": [
              "<IPython.core.display.Javascript object>"
            ]
          },
          "metadata": {
            "tags": [
              "id18-10-0",
              "outputarea_id18"
            ]
          }
        },
        {
          "output_type": "display_data",
          "data": {
            "application/javascript": [
              "window[\"66091f50-5ac6-11ea-b93d-0242ac1c0002\"] = google.colab.output.getActiveOutputArea();\n",
              "//# sourceURL=js_c205c46e6f"
            ],
            "text/plain": [
              "<IPython.core.display.Javascript object>"
            ]
          },
          "metadata": {
            "tags": [
              "id18-10-1",
              "outputarea_id18"
            ]
          }
        },
        {
          "output_type": "display_data",
          "data": {
            "application/javascript": [
              "window[\"66096ece-5ac6-11ea-b93d-0242ac1c0002\"] = document.querySelector(\"#id18-10-1\");\n",
              "//# sourceURL=js_4d8c868cbc"
            ],
            "text/plain": [
              "<IPython.core.display.Javascript object>"
            ]
          },
          "metadata": {
            "tags": [
              "id18-10-1",
              "outputarea_id18"
            ]
          }
        },
        {
          "output_type": "display_data",
          "data": {
            "application/javascript": [
              "window[\"6609bdd4-5ac6-11ea-b93d-0242ac1c0002\"] = google.colab.output.setActiveOutputArea(window[\"66096ece-5ac6-11ea-b93d-0242ac1c0002\"]);\n",
              "//# sourceURL=js_0f5f9d560d"
            ],
            "text/plain": [
              "<IPython.core.display.Javascript object>"
            ]
          },
          "metadata": {
            "tags": [
              "id18-10-1",
              "outputarea_id18"
            ]
          }
        },
        {
          "output_type": "stream",
          "text": [
            "Head gimbal assembly including dampening for air bearing vibration\n",
            "\n"
          ],
          "name": "stdout"
        },
        {
          "output_type": "display_data",
          "data": {
            "application/javascript": [
              "window[\"660ad4b2-5ac6-11ea-b93d-0242ac1c0002\"] = google.colab.output.setActiveOutputArea(window[\"66091f50-5ac6-11ea-b93d-0242ac1c0002\"]);\n",
              "//# sourceURL=js_debc5e6588"
            ],
            "text/plain": [
              "<IPython.core.display.Javascript object>"
            ]
          },
          "metadata": {
            "tags": [
              "id18-10-1",
              "outputarea_id18"
            ]
          }
        },
        {
          "output_type": "display_data",
          "data": {
            "application/javascript": [
              "window[\"660c6caa-5ac6-11ea-b93d-0242ac1c0002\"] = google.colab.output.getActiveOutputArea();\n",
              "//# sourceURL=js_d89e9a1f7a"
            ],
            "text/plain": [
              "<IPython.core.display.Javascript object>"
            ]
          },
          "metadata": {
            "tags": [
              "id18-10-2",
              "outputarea_id18"
            ]
          }
        },
        {
          "output_type": "display_data",
          "data": {
            "application/javascript": [
              "window[\"660ccc40-5ac6-11ea-b93d-0242ac1c0002\"] = document.querySelector(\"#id18-10-2\");\n",
              "//# sourceURL=js_c65bfdf875"
            ],
            "text/plain": [
              "<IPython.core.display.Javascript object>"
            ]
          },
          "metadata": {
            "tags": [
              "id18-10-2",
              "outputarea_id18"
            ]
          }
        },
        {
          "output_type": "display_data",
          "data": {
            "application/javascript": [
              "window[\"660d25e6-5ac6-11ea-b93d-0242ac1c0002\"] = google.colab.output.setActiveOutputArea(window[\"660ccc40-5ac6-11ea-b93d-0242ac1c0002\"]);\n",
              "//# sourceURL=js_600120f25f"
            ],
            "text/plain": [
              "<IPython.core.display.Javascript object>"
            ]
          },
          "metadata": {
            "tags": [
              "id18-10-2",
              "outputarea_id18"
            ]
          }
        },
        {
          "output_type": "stream",
          "text": [
            "https://patents.google.com/patent/US6967821B2\n"
          ],
          "name": "stdout"
        },
        {
          "output_type": "display_data",
          "data": {
            "application/javascript": [
              "window[\"660e5218-5ac6-11ea-b93d-0242ac1c0002\"] = google.colab.output.setActiveOutputArea(window[\"660c6caa-5ac6-11ea-b93d-0242ac1c0002\"]);\n",
              "//# sourceURL=js_dbcc04b57a"
            ],
            "text/plain": [
              "<IPython.core.display.Javascript object>"
            ]
          },
          "metadata": {
            "tags": [
              "id18-10-2",
              "outputarea_id18"
            ]
          }
        },
        {
          "output_type": "display_data",
          "data": {
            "application/javascript": [
              "window[\"660ff23a-5ac6-11ea-b93d-0242ac1c0002\"] = google.colab.output.getActiveOutputArea();\n",
              "//# sourceURL=js_da7765fade"
            ],
            "text/plain": [
              "<IPython.core.display.Javascript object>"
            ]
          },
          "metadata": {
            "tags": [
              "id18-10-3",
              "outputarea_id18"
            ]
          }
        },
        {
          "output_type": "display_data",
          "data": {
            "application/javascript": [
              "window[\"66104f8c-5ac6-11ea-b93d-0242ac1c0002\"] = document.querySelector(\"#id18-10-3\");\n",
              "//# sourceURL=js_30f2a23132"
            ],
            "text/plain": [
              "<IPython.core.display.Javascript object>"
            ]
          },
          "metadata": {
            "tags": [
              "id18-10-3",
              "outputarea_id18"
            ]
          }
        },
        {
          "output_type": "display_data",
          "data": {
            "application/javascript": [
              "window[\"6610b86e-5ac6-11ea-b93d-0242ac1c0002\"] = google.colab.output.setActiveOutputArea(window[\"66104f8c-5ac6-11ea-b93d-0242ac1c0002\"]);\n",
              "//# sourceURL=js_0333091eae"
            ],
            "text/plain": [
              "<IPython.core.display.Javascript object>"
            ]
          },
          "metadata": {
            "tags": [
              "id18-10-3",
              "outputarea_id18"
            ]
          }
        },
        {
          "output_type": "stream",
          "text": [
            "0.33553955\n"
          ],
          "name": "stdout"
        },
        {
          "output_type": "display_data",
          "data": {
            "application/javascript": [
              "window[\"6611e28e-5ac6-11ea-b93d-0242ac1c0002\"] = google.colab.output.setActiveOutputArea(window[\"660ff23a-5ac6-11ea-b93d-0242ac1c0002\"]);\n",
              "//# sourceURL=js_e3c49e0b15"
            ],
            "text/plain": [
              "<IPython.core.display.Javascript object>"
            ]
          },
          "metadata": {
            "tags": [
              "id18-10-3",
              "outputarea_id18"
            ]
          }
        },
        {
          "output_type": "display_data",
          "data": {
            "application/javascript": [
              "window[\"661372a2-5ac6-11ea-b93d-0242ac1c0002\"] = google.colab.output.getActiveOutputArea();\n",
              "//# sourceURL=js_d1969017c1"
            ],
            "text/plain": [
              "<IPython.core.display.Javascript object>"
            ]
          },
          "metadata": {
            "tags": [
              "id18-11-0",
              "outputarea_id18"
            ]
          }
        },
        {
          "output_type": "display_data",
          "data": {
            "application/javascript": [
              "window[\"6613cd7e-5ac6-11ea-b93d-0242ac1c0002\"] = document.querySelector(\"#id18-11-0\");\n",
              "//# sourceURL=js_d120ef6079"
            ],
            "text/plain": [
              "<IPython.core.display.Javascript object>"
            ]
          },
          "metadata": {
            "tags": [
              "id18-11-0",
              "outputarea_id18"
            ]
          }
        },
        {
          "output_type": "display_data",
          "data": {
            "application/javascript": [
              "window[\"66142256-5ac6-11ea-b93d-0242ac1c0002\"] = google.colab.output.setActiveOutputArea(window[\"6613cd7e-5ac6-11ea-b93d-0242ac1c0002\"]);\n",
              "//# sourceURL=js_d3507d9e94"
            ],
            "text/plain": [
              "<IPython.core.display.Javascript object>"
            ]
          },
          "metadata": {
            "tags": [
              "id18-11-0",
              "outputarea_id18"
            ]
          }
        },
        {
          "output_type": "stream",
          "text": [
            "11\n"
          ],
          "name": "stdout"
        },
        {
          "output_type": "display_data",
          "data": {
            "application/javascript": [
              "window[\"66153b46-5ac6-11ea-b93d-0242ac1c0002\"] = google.colab.output.setActiveOutputArea(window[\"661372a2-5ac6-11ea-b93d-0242ac1c0002\"]);\n",
              "//# sourceURL=js_f8b2c546b8"
            ],
            "text/plain": [
              "<IPython.core.display.Javascript object>"
            ]
          },
          "metadata": {
            "tags": [
              "id18-11-0",
              "outputarea_id18"
            ]
          }
        },
        {
          "output_type": "display_data",
          "data": {
            "application/javascript": [
              "window[\"6616d0c8-5ac6-11ea-b93d-0242ac1c0002\"] = google.colab.output.getActiveOutputArea();\n",
              "//# sourceURL=js_69320a4c6d"
            ],
            "text/plain": [
              "<IPython.core.display.Javascript object>"
            ]
          },
          "metadata": {
            "tags": [
              "id18-11-1",
              "outputarea_id18"
            ]
          }
        },
        {
          "output_type": "display_data",
          "data": {
            "application/javascript": [
              "window[\"66171baa-5ac6-11ea-b93d-0242ac1c0002\"] = document.querySelector(\"#id18-11-1\");\n",
              "//# sourceURL=js_34f8192587"
            ],
            "text/plain": [
              "<IPython.core.display.Javascript object>"
            ]
          },
          "metadata": {
            "tags": [
              "id18-11-1",
              "outputarea_id18"
            ]
          }
        },
        {
          "output_type": "display_data",
          "data": {
            "application/javascript": [
              "window[\"66176420-5ac6-11ea-b93d-0242ac1c0002\"] = google.colab.output.setActiveOutputArea(window[\"66171baa-5ac6-11ea-b93d-0242ac1c0002\"]);\n",
              "//# sourceURL=js_6c859ce4ac"
            ],
            "text/plain": [
              "<IPython.core.display.Javascript object>"
            ]
          },
          "metadata": {
            "tags": [
              "id18-11-1",
              "outputarea_id18"
            ]
          }
        },
        {
          "output_type": "stream",
          "text": [
            "Active vibration control system for hybrid vehicle\n",
            "\n"
          ],
          "name": "stdout"
        },
        {
          "output_type": "display_data",
          "data": {
            "application/javascript": [
              "window[\"66186f8c-5ac6-11ea-b93d-0242ac1c0002\"] = google.colab.output.setActiveOutputArea(window[\"6616d0c8-5ac6-11ea-b93d-0242ac1c0002\"]);\n",
              "//# sourceURL=js_6417565586"
            ],
            "text/plain": [
              "<IPython.core.display.Javascript object>"
            ]
          },
          "metadata": {
            "tags": [
              "id18-11-1",
              "outputarea_id18"
            ]
          }
        },
        {
          "output_type": "display_data",
          "data": {
            "application/javascript": [
              "window[\"6619f424-5ac6-11ea-b93d-0242ac1c0002\"] = google.colab.output.getActiveOutputArea();\n",
              "//# sourceURL=js_5de6973620"
            ],
            "text/plain": [
              "<IPython.core.display.Javascript object>"
            ]
          },
          "metadata": {
            "tags": [
              "id18-11-2",
              "outputarea_id18"
            ]
          }
        },
        {
          "output_type": "display_data",
          "data": {
            "application/javascript": [
              "window[\"661a4b40-5ac6-11ea-b93d-0242ac1c0002\"] = document.querySelector(\"#id18-11-2\");\n",
              "//# sourceURL=js_eb2ffc611d"
            ],
            "text/plain": [
              "<IPython.core.display.Javascript object>"
            ]
          },
          "metadata": {
            "tags": [
              "id18-11-2",
              "outputarea_id18"
            ]
          }
        },
        {
          "output_type": "display_data",
          "data": {
            "application/javascript": [
              "window[\"661a978a-5ac6-11ea-b93d-0242ac1c0002\"] = google.colab.output.setActiveOutputArea(window[\"661a4b40-5ac6-11ea-b93d-0242ac1c0002\"]);\n",
              "//# sourceURL=js_f0015501c9"
            ],
            "text/plain": [
              "<IPython.core.display.Javascript object>"
            ]
          },
          "metadata": {
            "tags": [
              "id18-11-2",
              "outputarea_id18"
            ]
          }
        },
        {
          "output_type": "stream",
          "text": [
            "https://patents.google.com/patent/US7633257B2\n"
          ],
          "name": "stdout"
        },
        {
          "output_type": "display_data",
          "data": {
            "application/javascript": [
              "window[\"661bbd68-5ac6-11ea-b93d-0242ac1c0002\"] = google.colab.output.setActiveOutputArea(window[\"6619f424-5ac6-11ea-b93d-0242ac1c0002\"]);\n",
              "//# sourceURL=js_45879b9755"
            ],
            "text/plain": [
              "<IPython.core.display.Javascript object>"
            ]
          },
          "metadata": {
            "tags": [
              "id18-11-2",
              "outputarea_id18"
            ]
          }
        },
        {
          "output_type": "display_data",
          "data": {
            "application/javascript": [
              "window[\"661d1e24-5ac6-11ea-b93d-0242ac1c0002\"] = google.colab.output.getActiveOutputArea();\n",
              "//# sourceURL=js_13253a26f8"
            ],
            "text/plain": [
              "<IPython.core.display.Javascript object>"
            ]
          },
          "metadata": {
            "tags": [
              "id18-11-3",
              "outputarea_id18"
            ]
          }
        },
        {
          "output_type": "display_data",
          "data": {
            "application/javascript": [
              "window[\"661d5b82-5ac6-11ea-b93d-0242ac1c0002\"] = document.querySelector(\"#id18-11-3\");\n",
              "//# sourceURL=js_6199dab4a3"
            ],
            "text/plain": [
              "<IPython.core.display.Javascript object>"
            ]
          },
          "metadata": {
            "tags": [
              "id18-11-3",
              "outputarea_id18"
            ]
          }
        },
        {
          "output_type": "display_data",
          "data": {
            "application/javascript": [
              "window[\"661d90ca-5ac6-11ea-b93d-0242ac1c0002\"] = google.colab.output.setActiveOutputArea(window[\"661d5b82-5ac6-11ea-b93d-0242ac1c0002\"]);\n",
              "//# sourceURL=js_5e2890cf64"
            ],
            "text/plain": [
              "<IPython.core.display.Javascript object>"
            ]
          },
          "metadata": {
            "tags": [
              "id18-11-3",
              "outputarea_id18"
            ]
          }
        },
        {
          "output_type": "stream",
          "text": [
            "0.33784065\n"
          ],
          "name": "stdout"
        },
        {
          "output_type": "display_data",
          "data": {
            "application/javascript": [
              "window[\"661ed3a4-5ac6-11ea-b93d-0242ac1c0002\"] = google.colab.output.setActiveOutputArea(window[\"661d1e24-5ac6-11ea-b93d-0242ac1c0002\"]);\n",
              "//# sourceURL=js_746970b0e5"
            ],
            "text/plain": [
              "<IPython.core.display.Javascript object>"
            ]
          },
          "metadata": {
            "tags": [
              "id18-11-3",
              "outputarea_id18"
            ]
          }
        },
        {
          "output_type": "display_data",
          "data": {
            "application/javascript": [
              "window[\"66217302-5ac6-11ea-b93d-0242ac1c0002\"] = google.colab.output.getActiveOutputArea();\n",
              "//# sourceURL=js_f306373cf6"
            ],
            "text/plain": [
              "<IPython.core.display.Javascript object>"
            ]
          },
          "metadata": {
            "tags": [
              "id18-12-0",
              "outputarea_id18"
            ]
          }
        },
        {
          "output_type": "display_data",
          "data": {
            "application/javascript": [
              "window[\"6621d87e-5ac6-11ea-b93d-0242ac1c0002\"] = document.querySelector(\"#id18-12-0\");\n",
              "//# sourceURL=js_89fb6e727b"
            ],
            "text/plain": [
              "<IPython.core.display.Javascript object>"
            ]
          },
          "metadata": {
            "tags": [
              "id18-12-0",
              "outputarea_id18"
            ]
          }
        },
        {
          "output_type": "display_data",
          "data": {
            "application/javascript": [
              "window[\"66222fe0-5ac6-11ea-b93d-0242ac1c0002\"] = google.colab.output.setActiveOutputArea(window[\"6621d87e-5ac6-11ea-b93d-0242ac1c0002\"]);\n",
              "//# sourceURL=js_4a036161ec"
            ],
            "text/plain": [
              "<IPython.core.display.Javascript object>"
            ]
          },
          "metadata": {
            "tags": [
              "id18-12-0",
              "outputarea_id18"
            ]
          }
        },
        {
          "output_type": "stream",
          "text": [
            "12\n"
          ],
          "name": "stdout"
        },
        {
          "output_type": "display_data",
          "data": {
            "application/javascript": [
              "window[\"66235848-5ac6-11ea-b93d-0242ac1c0002\"] = google.colab.output.setActiveOutputArea(window[\"66217302-5ac6-11ea-b93d-0242ac1c0002\"]);\n",
              "//# sourceURL=js_93d9a58f7f"
            ],
            "text/plain": [
              "<IPython.core.display.Javascript object>"
            ]
          },
          "metadata": {
            "tags": [
              "id18-12-0",
              "outputarea_id18"
            ]
          }
        },
        {
          "output_type": "display_data",
          "data": {
            "application/javascript": [
              "window[\"6624f48c-5ac6-11ea-b93d-0242ac1c0002\"] = google.colab.output.getActiveOutputArea();\n",
              "//# sourceURL=js_5040eb7447"
            ],
            "text/plain": [
              "<IPython.core.display.Javascript object>"
            ]
          },
          "metadata": {
            "tags": [
              "id18-12-1",
              "outputarea_id18"
            ]
          }
        },
        {
          "output_type": "display_data",
          "data": {
            "application/javascript": [
              "window[\"66256db8-5ac6-11ea-b93d-0242ac1c0002\"] = document.querySelector(\"#id18-12-1\");\n",
              "//# sourceURL=js_4b713939cd"
            ],
            "text/plain": [
              "<IPython.core.display.Javascript object>"
            ]
          },
          "metadata": {
            "tags": [
              "id18-12-1",
              "outputarea_id18"
            ]
          }
        },
        {
          "output_type": "display_data",
          "data": {
            "application/javascript": [
              "window[\"6625c146-5ac6-11ea-b93d-0242ac1c0002\"] = google.colab.output.setActiveOutputArea(window[\"66256db8-5ac6-11ea-b93d-0242ac1c0002\"]);\n",
              "//# sourceURL=js_859cac7667"
            ],
            "text/plain": [
              "<IPython.core.display.Javascript object>"
            ]
          },
          "metadata": {
            "tags": [
              "id18-12-1",
              "outputarea_id18"
            ]
          }
        },
        {
          "output_type": "stream",
          "text": [
            "Lens module and electronic apparatus\n",
            "\n"
          ],
          "name": "stdout"
        },
        {
          "output_type": "display_data",
          "data": {
            "application/javascript": [
              "window[\"6626de50-5ac6-11ea-b93d-0242ac1c0002\"] = google.colab.output.setActiveOutputArea(window[\"6624f48c-5ac6-11ea-b93d-0242ac1c0002\"]);\n",
              "//# sourceURL=js_0ac49afc8e"
            ],
            "text/plain": [
              "<IPython.core.display.Javascript object>"
            ]
          },
          "metadata": {
            "tags": [
              "id18-12-1",
              "outputarea_id18"
            ]
          }
        },
        {
          "output_type": "display_data",
          "data": {
            "application/javascript": [
              "window[\"662870e4-5ac6-11ea-b93d-0242ac1c0002\"] = google.colab.output.getActiveOutputArea();\n",
              "//# sourceURL=js_56532fe729"
            ],
            "text/plain": [
              "<IPython.core.display.Javascript object>"
            ]
          },
          "metadata": {
            "tags": [
              "id18-12-2",
              "outputarea_id18"
            ]
          }
        },
        {
          "output_type": "display_data",
          "data": {
            "application/javascript": [
              "window[\"6628ccc4-5ac6-11ea-b93d-0242ac1c0002\"] = document.querySelector(\"#id18-12-2\");\n",
              "//# sourceURL=js_bb5b0b4bb5"
            ],
            "text/plain": [
              "<IPython.core.display.Javascript object>"
            ]
          },
          "metadata": {
            "tags": [
              "id18-12-2",
              "outputarea_id18"
            ]
          }
        },
        {
          "output_type": "display_data",
          "data": {
            "application/javascript": [
              "window[\"66291878-5ac6-11ea-b93d-0242ac1c0002\"] = google.colab.output.setActiveOutputArea(window[\"6628ccc4-5ac6-11ea-b93d-0242ac1c0002\"]);\n",
              "//# sourceURL=js_c14ddae230"
            ],
            "text/plain": [
              "<IPython.core.display.Javascript object>"
            ]
          },
          "metadata": {
            "tags": [
              "id18-12-2",
              "outputarea_id18"
            ]
          }
        },
        {
          "output_type": "stream",
          "text": [
            "https://patents.google.com/patent/US7894147B2\n"
          ],
          "name": "stdout"
        },
        {
          "output_type": "display_data",
          "data": {
            "application/javascript": [
              "window[\"662a265a-5ac6-11ea-b93d-0242ac1c0002\"] = google.colab.output.setActiveOutputArea(window[\"662870e4-5ac6-11ea-b93d-0242ac1c0002\"]);\n",
              "//# sourceURL=js_48bd5f9b50"
            ],
            "text/plain": [
              "<IPython.core.display.Javascript object>"
            ]
          },
          "metadata": {
            "tags": [
              "id18-12-2",
              "outputarea_id18"
            ]
          }
        },
        {
          "output_type": "display_data",
          "data": {
            "application/javascript": [
              "window[\"662bc1c2-5ac6-11ea-b93d-0242ac1c0002\"] = google.colab.output.getActiveOutputArea();\n",
              "//# sourceURL=js_610f541588"
            ],
            "text/plain": [
              "<IPython.core.display.Javascript object>"
            ]
          },
          "metadata": {
            "tags": [
              "id18-12-3",
              "outputarea_id18"
            ]
          }
        },
        {
          "output_type": "display_data",
          "data": {
            "application/javascript": [
              "window[\"662c14ce-5ac6-11ea-b93d-0242ac1c0002\"] = document.querySelector(\"#id18-12-3\");\n",
              "//# sourceURL=js_3f8fd78cf1"
            ],
            "text/plain": [
              "<IPython.core.display.Javascript object>"
            ]
          },
          "metadata": {
            "tags": [
              "id18-12-3",
              "outputarea_id18"
            ]
          }
        },
        {
          "output_type": "display_data",
          "data": {
            "application/javascript": [
              "window[\"662c72c0-5ac6-11ea-b93d-0242ac1c0002\"] = google.colab.output.setActiveOutputArea(window[\"662c14ce-5ac6-11ea-b93d-0242ac1c0002\"]);\n",
              "//# sourceURL=js_ea709f3a5f"
            ],
            "text/plain": [
              "<IPython.core.display.Javascript object>"
            ]
          },
          "metadata": {
            "tags": [
              "id18-12-3",
              "outputarea_id18"
            ]
          }
        },
        {
          "output_type": "stream",
          "text": [
            "0.33877063\n"
          ],
          "name": "stdout"
        },
        {
          "output_type": "display_data",
          "data": {
            "application/javascript": [
              "window[\"662d94c0-5ac6-11ea-b93d-0242ac1c0002\"] = google.colab.output.setActiveOutputArea(window[\"662bc1c2-5ac6-11ea-b93d-0242ac1c0002\"]);\n",
              "//# sourceURL=js_9109d93b9b"
            ],
            "text/plain": [
              "<IPython.core.display.Javascript object>"
            ]
          },
          "metadata": {
            "tags": [
              "id18-12-3",
              "outputarea_id18"
            ]
          }
        },
        {
          "output_type": "display_data",
          "data": {
            "application/javascript": [
              "window[\"662f314a-5ac6-11ea-b93d-0242ac1c0002\"] = google.colab.output.getActiveOutputArea();\n",
              "//# sourceURL=js_3c7ddeb9d8"
            ],
            "text/plain": [
              "<IPython.core.display.Javascript object>"
            ]
          },
          "metadata": {
            "tags": [
              "id18-13-0",
              "outputarea_id18"
            ]
          }
        },
        {
          "output_type": "display_data",
          "data": {
            "application/javascript": [
              "window[\"662f8adc-5ac6-11ea-b93d-0242ac1c0002\"] = document.querySelector(\"#id18-13-0\");\n",
              "//# sourceURL=js_8d0225baec"
            ],
            "text/plain": [
              "<IPython.core.display.Javascript object>"
            ]
          },
          "metadata": {
            "tags": [
              "id18-13-0",
              "outputarea_id18"
            ]
          }
        },
        {
          "output_type": "display_data",
          "data": {
            "application/javascript": [
              "window[\"662fd802-5ac6-11ea-b93d-0242ac1c0002\"] = google.colab.output.setActiveOutputArea(window[\"662f8adc-5ac6-11ea-b93d-0242ac1c0002\"]);\n",
              "//# sourceURL=js_33b6da7f02"
            ],
            "text/plain": [
              "<IPython.core.display.Javascript object>"
            ]
          },
          "metadata": {
            "tags": [
              "id18-13-0",
              "outputarea_id18"
            ]
          }
        },
        {
          "output_type": "stream",
          "text": [
            "13\n"
          ],
          "name": "stdout"
        },
        {
          "output_type": "display_data",
          "data": {
            "application/javascript": [
              "window[\"6630f4bc-5ac6-11ea-b93d-0242ac1c0002\"] = google.colab.output.setActiveOutputArea(window[\"662f314a-5ac6-11ea-b93d-0242ac1c0002\"]);\n",
              "//# sourceURL=js_a66a49fd4d"
            ],
            "text/plain": [
              "<IPython.core.display.Javascript object>"
            ]
          },
          "metadata": {
            "tags": [
              "id18-13-0",
              "outputarea_id18"
            ]
          }
        },
        {
          "output_type": "display_data",
          "data": {
            "application/javascript": [
              "window[\"6632869c-5ac6-11ea-b93d-0242ac1c0002\"] = google.colab.output.getActiveOutputArea();\n",
              "//# sourceURL=js_4a10446c3c"
            ],
            "text/plain": [
              "<IPython.core.display.Javascript object>"
            ]
          },
          "metadata": {
            "tags": [
              "id18-13-1",
              "outputarea_id18"
            ]
          }
        },
        {
          "output_type": "display_data",
          "data": {
            "application/javascript": [
              "window[\"6632e13c-5ac6-11ea-b93d-0242ac1c0002\"] = document.querySelector(\"#id18-13-1\");\n",
              "//# sourceURL=js_e105ebf253"
            ],
            "text/plain": [
              "<IPython.core.display.Javascript object>"
            ]
          },
          "metadata": {
            "tags": [
              "id18-13-1",
              "outputarea_id18"
            ]
          }
        },
        {
          "output_type": "display_data",
          "data": {
            "application/javascript": [
              "window[\"66332ab6-5ac6-11ea-b93d-0242ac1c0002\"] = google.colab.output.setActiveOutputArea(window[\"6632e13c-5ac6-11ea-b93d-0242ac1c0002\"]);\n",
              "//# sourceURL=js_65edfd3c40"
            ],
            "text/plain": [
              "<IPython.core.display.Javascript object>"
            ]
          },
          "metadata": {
            "tags": [
              "id18-13-1",
              "outputarea_id18"
            ]
          }
        },
        {
          "output_type": "stream",
          "text": [
            "Structure for earphones with multiple sound tracks\n",
            "\n"
          ],
          "name": "stdout"
        },
        {
          "output_type": "display_data",
          "data": {
            "application/javascript": [
              "window[\"66344900-5ac6-11ea-b93d-0242ac1c0002\"] = google.colab.output.setActiveOutputArea(window[\"6632869c-5ac6-11ea-b93d-0242ac1c0002\"]);\n",
              "//# sourceURL=js_635d1f323a"
            ],
            "text/plain": [
              "<IPython.core.display.Javascript object>"
            ]
          },
          "metadata": {
            "tags": [
              "id18-13-1",
              "outputarea_id18"
            ]
          }
        },
        {
          "output_type": "display_data",
          "data": {
            "application/javascript": [
              "window[\"6635fa8e-5ac6-11ea-b93d-0242ac1c0002\"] = google.colab.output.getActiveOutputArea();\n",
              "//# sourceURL=js_8be1d26f53"
            ],
            "text/plain": [
              "<IPython.core.display.Javascript object>"
            ]
          },
          "metadata": {
            "tags": [
              "id18-13-2",
              "outputarea_id18"
            ]
          }
        },
        {
          "output_type": "display_data",
          "data": {
            "application/javascript": [
              "window[\"66364d9a-5ac6-11ea-b93d-0242ac1c0002\"] = document.querySelector(\"#id18-13-2\");\n",
              "//# sourceURL=js_6a85cf5835"
            ],
            "text/plain": [
              "<IPython.core.display.Javascript object>"
            ]
          },
          "metadata": {
            "tags": [
              "id18-13-2",
              "outputarea_id18"
            ]
          }
        },
        {
          "output_type": "display_data",
          "data": {
            "application/javascript": [
              "window[\"6636afba-5ac6-11ea-b93d-0242ac1c0002\"] = google.colab.output.setActiveOutputArea(window[\"66364d9a-5ac6-11ea-b93d-0242ac1c0002\"]);\n",
              "//# sourceURL=js_bb70abceac"
            ],
            "text/plain": [
              "<IPython.core.display.Javascript object>"
            ]
          },
          "metadata": {
            "tags": [
              "id18-13-2",
              "outputarea_id18"
            ]
          }
        },
        {
          "output_type": "stream",
          "text": [
            "https://patents.google.com/patent/US7436973B2\n"
          ],
          "name": "stdout"
        },
        {
          "output_type": "display_data",
          "data": {
            "application/javascript": [
              "window[\"6637c2ec-5ac6-11ea-b93d-0242ac1c0002\"] = google.colab.output.setActiveOutputArea(window[\"6635fa8e-5ac6-11ea-b93d-0242ac1c0002\"]);\n",
              "//# sourceURL=js_72db2df162"
            ],
            "text/plain": [
              "<IPython.core.display.Javascript object>"
            ]
          },
          "metadata": {
            "tags": [
              "id18-13-2",
              "outputarea_id18"
            ]
          }
        },
        {
          "output_type": "display_data",
          "data": {
            "application/javascript": [
              "window[\"6639434c-5ac6-11ea-b93d-0242ac1c0002\"] = google.colab.output.getActiveOutputArea();\n",
              "//# sourceURL=js_bd487d3a98"
            ],
            "text/plain": [
              "<IPython.core.display.Javascript object>"
            ]
          },
          "metadata": {
            "tags": [
              "id18-13-3",
              "outputarea_id18"
            ]
          }
        },
        {
          "output_type": "display_data",
          "data": {
            "application/javascript": [
              "window[\"66399dec-5ac6-11ea-b93d-0242ac1c0002\"] = document.querySelector(\"#id18-13-3\");\n",
              "//# sourceURL=js_21e9d67cfc"
            ],
            "text/plain": [
              "<IPython.core.display.Javascript object>"
            ]
          },
          "metadata": {
            "tags": [
              "id18-13-3",
              "outputarea_id18"
            ]
          }
        },
        {
          "output_type": "display_data",
          "data": {
            "application/javascript": [
              "window[\"6639f17a-5ac6-11ea-b93d-0242ac1c0002\"] = google.colab.output.setActiveOutputArea(window[\"66399dec-5ac6-11ea-b93d-0242ac1c0002\"]);\n",
              "//# sourceURL=js_9ebc48674a"
            ],
            "text/plain": [
              "<IPython.core.display.Javascript object>"
            ]
          },
          "metadata": {
            "tags": [
              "id18-13-3",
              "outputarea_id18"
            ]
          }
        },
        {
          "output_type": "stream",
          "text": [
            "0.33934557\n"
          ],
          "name": "stdout"
        },
        {
          "output_type": "display_data",
          "data": {
            "application/javascript": [
              "window[\"663b0a92-5ac6-11ea-b93d-0242ac1c0002\"] = google.colab.output.setActiveOutputArea(window[\"6639434c-5ac6-11ea-b93d-0242ac1c0002\"]);\n",
              "//# sourceURL=js_42e106b86c"
            ],
            "text/plain": [
              "<IPython.core.display.Javascript object>"
            ]
          },
          "metadata": {
            "tags": [
              "id18-13-3",
              "outputarea_id18"
            ]
          }
        },
        {
          "output_type": "display_data",
          "data": {
            "application/javascript": [
              "window[\"663c96e6-5ac6-11ea-b93d-0242ac1c0002\"] = google.colab.output.getActiveOutputArea();\n",
              "//# sourceURL=js_d7b80368e3"
            ],
            "text/plain": [
              "<IPython.core.display.Javascript object>"
            ]
          },
          "metadata": {
            "tags": [
              "id18-14-0",
              "outputarea_id18"
            ]
          }
        },
        {
          "output_type": "display_data",
          "data": {
            "application/javascript": [
              "window[\"663cee70-5ac6-11ea-b93d-0242ac1c0002\"] = document.querySelector(\"#id18-14-0\");\n",
              "//# sourceURL=js_0b2d305ea6"
            ],
            "text/plain": [
              "<IPython.core.display.Javascript object>"
            ]
          },
          "metadata": {
            "tags": [
              "id18-14-0",
              "outputarea_id18"
            ]
          }
        },
        {
          "output_type": "display_data",
          "data": {
            "application/javascript": [
              "window[\"663d591e-5ac6-11ea-b93d-0242ac1c0002\"] = google.colab.output.setActiveOutputArea(window[\"663cee70-5ac6-11ea-b93d-0242ac1c0002\"]);\n",
              "//# sourceURL=js_79c16ba157"
            ],
            "text/plain": [
              "<IPython.core.display.Javascript object>"
            ]
          },
          "metadata": {
            "tags": [
              "id18-14-0",
              "outputarea_id18"
            ]
          }
        },
        {
          "output_type": "stream",
          "text": [
            "14\n"
          ],
          "name": "stdout"
        },
        {
          "output_type": "display_data",
          "data": {
            "application/javascript": [
              "window[\"663e7b82-5ac6-11ea-b93d-0242ac1c0002\"] = google.colab.output.setActiveOutputArea(window[\"663c96e6-5ac6-11ea-b93d-0242ac1c0002\"]);\n",
              "//# sourceURL=js_f6cc8fbee9"
            ],
            "text/plain": [
              "<IPython.core.display.Javascript object>"
            ]
          },
          "metadata": {
            "tags": [
              "id18-14-0",
              "outputarea_id18"
            ]
          }
        },
        {
          "output_type": "display_data",
          "data": {
            "application/javascript": [
              "window[\"66402770-5ac6-11ea-b93d-0242ac1c0002\"] = google.colab.output.getActiveOutputArea();\n",
              "//# sourceURL=js_85d21796ef"
            ],
            "text/plain": [
              "<IPython.core.display.Javascript object>"
            ]
          },
          "metadata": {
            "tags": [
              "id18-14-1",
              "outputarea_id18"
            ]
          }
        },
        {
          "output_type": "display_data",
          "data": {
            "application/javascript": [
              "window[\"66407450-5ac6-11ea-b93d-0242ac1c0002\"] = document.querySelector(\"#id18-14-1\");\n",
              "//# sourceURL=js_5cbe1f2649"
            ],
            "text/plain": [
              "<IPython.core.display.Javascript object>"
            ]
          },
          "metadata": {
            "tags": [
              "id18-14-1",
              "outputarea_id18"
            ]
          }
        },
        {
          "output_type": "display_data",
          "data": {
            "application/javascript": [
              "window[\"6640d8dc-5ac6-11ea-b93d-0242ac1c0002\"] = google.colab.output.setActiveOutputArea(window[\"66407450-5ac6-11ea-b93d-0242ac1c0002\"]);\n",
              "//# sourceURL=js_ee41e28270"
            ],
            "text/plain": [
              "<IPython.core.display.Javascript object>"
            ]
          },
          "metadata": {
            "tags": [
              "id18-14-1",
              "outputarea_id18"
            ]
          }
        },
        {
          "output_type": "stream",
          "text": [
            "Torque sensor with a resin housing and a method of manufacturing the same\n",
            "\n"
          ],
          "name": "stdout"
        },
        {
          "output_type": "display_data",
          "data": {
            "application/javascript": [
              "window[\"66420374-5ac6-11ea-b93d-0242ac1c0002\"] = google.colab.output.setActiveOutputArea(window[\"66402770-5ac6-11ea-b93d-0242ac1c0002\"]);\n",
              "//# sourceURL=js_c264640dd6"
            ],
            "text/plain": [
              "<IPython.core.display.Javascript object>"
            ]
          },
          "metadata": {
            "tags": [
              "id18-14-1",
              "outputarea_id18"
            ]
          }
        },
        {
          "output_type": "display_data",
          "data": {
            "application/javascript": [
              "window[\"66439f72-5ac6-11ea-b93d-0242ac1c0002\"] = google.colab.output.getActiveOutputArea();\n",
              "//# sourceURL=js_4f73e7e863"
            ],
            "text/plain": [
              "<IPython.core.display.Javascript object>"
            ]
          },
          "metadata": {
            "tags": [
              "id18-14-2",
              "outputarea_id18"
            ]
          }
        },
        {
          "output_type": "display_data",
          "data": {
            "application/javascript": [
              "window[\"6644021e-5ac6-11ea-b93d-0242ac1c0002\"] = document.querySelector(\"#id18-14-2\");\n",
              "//# sourceURL=js_98242ef77b"
            ],
            "text/plain": [
              "<IPython.core.display.Javascript object>"
            ]
          },
          "metadata": {
            "tags": [
              "id18-14-2",
              "outputarea_id18"
            ]
          }
        },
        {
          "output_type": "display_data",
          "data": {
            "application/javascript": [
              "window[\"66445b88-5ac6-11ea-b93d-0242ac1c0002\"] = google.colab.output.setActiveOutputArea(window[\"6644021e-5ac6-11ea-b93d-0242ac1c0002\"]);\n",
              "//# sourceURL=js_e41cced1ba"
            ],
            "text/plain": [
              "<IPython.core.display.Javascript object>"
            ]
          },
          "metadata": {
            "tags": [
              "id18-14-2",
              "outputarea_id18"
            ]
          }
        },
        {
          "output_type": "stream",
          "text": [
            "https://patents.google.com/patent/US7624653B2\n"
          ],
          "name": "stdout"
        },
        {
          "output_type": "display_data",
          "data": {
            "application/javascript": [
              "window[\"66459fac-5ac6-11ea-b93d-0242ac1c0002\"] = google.colab.output.setActiveOutputArea(window[\"66439f72-5ac6-11ea-b93d-0242ac1c0002\"]);\n",
              "//# sourceURL=js_37221cfeb7"
            ],
            "text/plain": [
              "<IPython.core.display.Javascript object>"
            ]
          },
          "metadata": {
            "tags": [
              "id18-14-2",
              "outputarea_id18"
            ]
          }
        },
        {
          "output_type": "display_data",
          "data": {
            "application/javascript": [
              "window[\"664733da-5ac6-11ea-b93d-0242ac1c0002\"] = google.colab.output.getActiveOutputArea();\n",
              "//# sourceURL=js_4321522391"
            ],
            "text/plain": [
              "<IPython.core.display.Javascript object>"
            ]
          },
          "metadata": {
            "tags": [
              "id18-14-3",
              "outputarea_id18"
            ]
          }
        },
        {
          "output_type": "display_data",
          "data": {
            "application/javascript": [
              "window[\"66477f7a-5ac6-11ea-b93d-0242ac1c0002\"] = document.querySelector(\"#id18-14-3\");\n",
              "//# sourceURL=js_aec861303e"
            ],
            "text/plain": [
              "<IPython.core.display.Javascript object>"
            ]
          },
          "metadata": {
            "tags": [
              "id18-14-3",
              "outputarea_id18"
            ]
          }
        },
        {
          "output_type": "display_data",
          "data": {
            "application/javascript": [
              "window[\"6647d4ca-5ac6-11ea-b93d-0242ac1c0002\"] = google.colab.output.setActiveOutputArea(window[\"66477f7a-5ac6-11ea-b93d-0242ac1c0002\"]);\n",
              "//# sourceURL=js_81464d1acd"
            ],
            "text/plain": [
              "<IPython.core.display.Javascript object>"
            ]
          },
          "metadata": {
            "tags": [
              "id18-14-3",
              "outputarea_id18"
            ]
          }
        },
        {
          "output_type": "stream",
          "text": [
            "0.34142622\n"
          ],
          "name": "stdout"
        },
        {
          "output_type": "display_data",
          "data": {
            "application/javascript": [
              "window[\"6648d9e2-5ac6-11ea-b93d-0242ac1c0002\"] = google.colab.output.setActiveOutputArea(window[\"664733da-5ac6-11ea-b93d-0242ac1c0002\"]);\n",
              "//# sourceURL=js_99c23495b5"
            ],
            "text/plain": [
              "<IPython.core.display.Javascript object>"
            ]
          },
          "metadata": {
            "tags": [
              "id18-14-3",
              "outputarea_id18"
            ]
          }
        },
        {
          "output_type": "display_data",
          "data": {
            "application/javascript": [
              "window[\"664a5c7c-5ac6-11ea-b93d-0242ac1c0002\"] = google.colab.output.getActiveOutputArea();\n",
              "//# sourceURL=js_4647bbc7e3"
            ],
            "text/plain": [
              "<IPython.core.display.Javascript object>"
            ]
          },
          "metadata": {
            "tags": [
              "id18-15-0",
              "outputarea_id18"
            ]
          }
        },
        {
          "output_type": "display_data",
          "data": {
            "application/javascript": [
              "window[\"664ab7ee-5ac6-11ea-b93d-0242ac1c0002\"] = document.querySelector(\"#id18-15-0\");\n",
              "//# sourceURL=js_26c5b1e721"
            ],
            "text/plain": [
              "<IPython.core.display.Javascript object>"
            ]
          },
          "metadata": {
            "tags": [
              "id18-15-0",
              "outputarea_id18"
            ]
          }
        },
        {
          "output_type": "display_data",
          "data": {
            "application/javascript": [
              "window[\"664b0d70-5ac6-11ea-b93d-0242ac1c0002\"] = google.colab.output.setActiveOutputArea(window[\"664ab7ee-5ac6-11ea-b93d-0242ac1c0002\"]);\n",
              "//# sourceURL=js_a733add7b0"
            ],
            "text/plain": [
              "<IPython.core.display.Javascript object>"
            ]
          },
          "metadata": {
            "tags": [
              "id18-15-0",
              "outputarea_id18"
            ]
          }
        },
        {
          "output_type": "stream",
          "text": [
            "15\n"
          ],
          "name": "stdout"
        },
        {
          "output_type": "display_data",
          "data": {
            "application/javascript": [
              "window[\"664c3c36-5ac6-11ea-b93d-0242ac1c0002\"] = google.colab.output.setActiveOutputArea(window[\"664a5c7c-5ac6-11ea-b93d-0242ac1c0002\"]);\n",
              "//# sourceURL=js_ca42b3a99d"
            ],
            "text/plain": [
              "<IPython.core.display.Javascript object>"
            ]
          },
          "metadata": {
            "tags": [
              "id18-15-0",
              "outputarea_id18"
            ]
          }
        },
        {
          "output_type": "display_data",
          "data": {
            "application/javascript": [
              "window[\"664dbd04-5ac6-11ea-b93d-0242ac1c0002\"] = google.colab.output.getActiveOutputArea();\n",
              "//# sourceURL=js_bd278c6560"
            ],
            "text/plain": [
              "<IPython.core.display.Javascript object>"
            ]
          },
          "metadata": {
            "tags": [
              "id18-15-1",
              "outputarea_id18"
            ]
          }
        },
        {
          "output_type": "display_data",
          "data": {
            "application/javascript": [
              "window[\"664e2276-5ac6-11ea-b93d-0242ac1c0002\"] = document.querySelector(\"#id18-15-1\");\n",
              "//# sourceURL=js_cc0f269597"
            ],
            "text/plain": [
              "<IPython.core.display.Javascript object>"
            ]
          },
          "metadata": {
            "tags": [
              "id18-15-1",
              "outputarea_id18"
            ]
          }
        },
        {
          "output_type": "display_data",
          "data": {
            "application/javascript": [
              "window[\"664e705a-5ac6-11ea-b93d-0242ac1c0002\"] = google.colab.output.setActiveOutputArea(window[\"664e2276-5ac6-11ea-b93d-0242ac1c0002\"]);\n",
              "//# sourceURL=js_46990acf15"
            ],
            "text/plain": [
              "<IPython.core.display.Javascript object>"
            ]
          },
          "metadata": {
            "tags": [
              "id18-15-1",
              "outputarea_id18"
            ]
          }
        },
        {
          "output_type": "stream",
          "text": [
            "System and method for the delivery of electronic books\n",
            "\n"
          ],
          "name": "stdout"
        },
        {
          "output_type": "display_data",
          "data": {
            "application/javascript": [
              "window[\"664f90ca-5ac6-11ea-b93d-0242ac1c0002\"] = google.colab.output.setActiveOutputArea(window[\"664dbd04-5ac6-11ea-b93d-0242ac1c0002\"]);\n",
              "//# sourceURL=js_8c9cef81cd"
            ],
            "text/plain": [
              "<IPython.core.display.Javascript object>"
            ]
          },
          "metadata": {
            "tags": [
              "id18-15-1",
              "outputarea_id18"
            ]
          }
        },
        {
          "output_type": "display_data",
          "data": {
            "application/javascript": [
              "window[\"66512912-5ac6-11ea-b93d-0242ac1c0002\"] = google.colab.output.getActiveOutputArea();\n",
              "//# sourceURL=js_d12bd44abf"
            ],
            "text/plain": [
              "<IPython.core.display.Javascript object>"
            ]
          },
          "metadata": {
            "tags": [
              "id18-15-2",
              "outputarea_id18"
            ]
          }
        },
        {
          "output_type": "display_data",
          "data": {
            "application/javascript": [
              "window[\"665184e8-5ac6-11ea-b93d-0242ac1c0002\"] = document.querySelector(\"#id18-15-2\");\n",
              "//# sourceURL=js_2438e793c9"
            ],
            "text/plain": [
              "<IPython.core.display.Javascript object>"
            ]
          },
          "metadata": {
            "tags": [
              "id18-15-2",
              "outputarea_id18"
            ]
          }
        },
        {
          "output_type": "display_data",
          "data": {
            "application/javascript": [
              "window[\"6651dc86-5ac6-11ea-b93d-0242ac1c0002\"] = google.colab.output.setActiveOutputArea(window[\"665184e8-5ac6-11ea-b93d-0242ac1c0002\"]);\n",
              "//# sourceURL=js_78f99cd98d"
            ],
            "text/plain": [
              "<IPython.core.display.Javascript object>"
            ]
          },
          "metadata": {
            "tags": [
              "id18-15-2",
              "outputarea_id18"
            ]
          }
        },
        {
          "output_type": "stream",
          "text": [
            "https://patents.google.com/patent/US7020663B2\n"
          ],
          "name": "stdout"
        },
        {
          "output_type": "display_data",
          "data": {
            "application/javascript": [
              "window[\"66530b10-5ac6-11ea-b93d-0242ac1c0002\"] = google.colab.output.setActiveOutputArea(window[\"66512912-5ac6-11ea-b93d-0242ac1c0002\"]);\n",
              "//# sourceURL=js_2417f2fa18"
            ],
            "text/plain": [
              "<IPython.core.display.Javascript object>"
            ]
          },
          "metadata": {
            "tags": [
              "id18-15-2",
              "outputarea_id18"
            ]
          }
        },
        {
          "output_type": "display_data",
          "data": {
            "application/javascript": [
              "window[\"665497be-5ac6-11ea-b93d-0242ac1c0002\"] = google.colab.output.getActiveOutputArea();\n",
              "//# sourceURL=js_94e73fb7b5"
            ],
            "text/plain": [
              "<IPython.core.display.Javascript object>"
            ]
          },
          "metadata": {
            "tags": [
              "id18-15-3",
              "outputarea_id18"
            ]
          }
        },
        {
          "output_type": "display_data",
          "data": {
            "application/javascript": [
              "window[\"6654eb1a-5ac6-11ea-b93d-0242ac1c0002\"] = document.querySelector(\"#id18-15-3\");\n",
              "//# sourceURL=js_d6544f34fd"
            ],
            "text/plain": [
              "<IPython.core.display.Javascript object>"
            ]
          },
          "metadata": {
            "tags": [
              "id18-15-3",
              "outputarea_id18"
            ]
          }
        },
        {
          "output_type": "display_data",
          "data": {
            "application/javascript": [
              "window[\"66554510-5ac6-11ea-b93d-0242ac1c0002\"] = google.colab.output.setActiveOutputArea(window[\"6654eb1a-5ac6-11ea-b93d-0242ac1c0002\"]);\n",
              "//# sourceURL=js_384a598dda"
            ],
            "text/plain": [
              "<IPython.core.display.Javascript object>"
            ]
          },
          "metadata": {
            "tags": [
              "id18-15-3",
              "outputarea_id18"
            ]
          }
        },
        {
          "output_type": "stream",
          "text": [
            "0.3418257\n"
          ],
          "name": "stdout"
        },
        {
          "output_type": "display_data",
          "data": {
            "application/javascript": [
              "window[\"6656770a-5ac6-11ea-b93d-0242ac1c0002\"] = google.colab.output.setActiveOutputArea(window[\"665497be-5ac6-11ea-b93d-0242ac1c0002\"]);\n",
              "//# sourceURL=js_d7909b5d43"
            ],
            "text/plain": [
              "<IPython.core.display.Javascript object>"
            ]
          },
          "metadata": {
            "tags": [
              "id18-15-3",
              "outputarea_id18"
            ]
          }
        },
        {
          "output_type": "display_data",
          "data": {
            "application/javascript": [
              "window[\"665811c8-5ac6-11ea-b93d-0242ac1c0002\"] = google.colab.output.getActiveOutputArea();\n",
              "//# sourceURL=js_937d1d4312"
            ],
            "text/plain": [
              "<IPython.core.display.Javascript object>"
            ]
          },
          "metadata": {
            "tags": [
              "id18-16-0",
              "outputarea_id18"
            ]
          }
        },
        {
          "output_type": "display_data",
          "data": {
            "application/javascript": [
              "window[\"66586c0e-5ac6-11ea-b93d-0242ac1c0002\"] = document.querySelector(\"#id18-16-0\");\n",
              "//# sourceURL=js_3490b696ce"
            ],
            "text/plain": [
              "<IPython.core.display.Javascript object>"
            ]
          },
          "metadata": {
            "tags": [
              "id18-16-0",
              "outputarea_id18"
            ]
          }
        },
        {
          "output_type": "display_data",
          "data": {
            "application/javascript": [
              "window[\"6658c082-5ac6-11ea-b93d-0242ac1c0002\"] = google.colab.output.setActiveOutputArea(window[\"66586c0e-5ac6-11ea-b93d-0242ac1c0002\"]);\n",
              "//# sourceURL=js_061e9e160b"
            ],
            "text/plain": [
              "<IPython.core.display.Javascript object>"
            ]
          },
          "metadata": {
            "tags": [
              "id18-16-0",
              "outputarea_id18"
            ]
          }
        },
        {
          "output_type": "stream",
          "text": [
            "16\n"
          ],
          "name": "stdout"
        },
        {
          "output_type": "display_data",
          "data": {
            "application/javascript": [
              "window[\"6659dc9c-5ac6-11ea-b93d-0242ac1c0002\"] = google.colab.output.setActiveOutputArea(window[\"665811c8-5ac6-11ea-b93d-0242ac1c0002\"]);\n",
              "//# sourceURL=js_19fb52ba3f"
            ],
            "text/plain": [
              "<IPython.core.display.Javascript object>"
            ]
          },
          "metadata": {
            "tags": [
              "id18-16-0",
              "outputarea_id18"
            ]
          }
        },
        {
          "output_type": "display_data",
          "data": {
            "application/javascript": [
              "window[\"665b7a34-5ac6-11ea-b93d-0242ac1c0002\"] = google.colab.output.getActiveOutputArea();\n",
              "//# sourceURL=js_bdd0963d1a"
            ],
            "text/plain": [
              "<IPython.core.display.Javascript object>"
            ]
          },
          "metadata": {
            "tags": [
              "id18-16-1",
              "outputarea_id18"
            ]
          }
        },
        {
          "output_type": "display_data",
          "data": {
            "application/javascript": [
              "window[\"665bd22c-5ac6-11ea-b93d-0242ac1c0002\"] = document.querySelector(\"#id18-16-1\");\n",
              "//# sourceURL=js_5ea3a905f7"
            ],
            "text/plain": [
              "<IPython.core.display.Javascript object>"
            ]
          },
          "metadata": {
            "tags": [
              "id18-16-1",
              "outputarea_id18"
            ]
          }
        },
        {
          "output_type": "display_data",
          "data": {
            "application/javascript": [
              "window[\"665c33ca-5ac6-11ea-b93d-0242ac1c0002\"] = google.colab.output.setActiveOutputArea(window[\"665bd22c-5ac6-11ea-b93d-0242ac1c0002\"]);\n",
              "//# sourceURL=js_c09e279ef2"
            ],
            "text/plain": [
              "<IPython.core.display.Javascript object>"
            ]
          },
          "metadata": {
            "tags": [
              "id18-16-1",
              "outputarea_id18"
            ]
          }
        },
        {
          "output_type": "stream",
          "text": [
            "Perpendicular magnetic recording head and magnetic disc apparatus\n",
            "\n"
          ],
          "name": "stdout"
        },
        {
          "output_type": "display_data",
          "data": {
            "application/javascript": [
              "window[\"665d4b7a-5ac6-11ea-b93d-0242ac1c0002\"] = google.colab.output.setActiveOutputArea(window[\"665b7a34-5ac6-11ea-b93d-0242ac1c0002\"]);\n",
              "//# sourceURL=js_a4c5b68b0c"
            ],
            "text/plain": [
              "<IPython.core.display.Javascript object>"
            ]
          },
          "metadata": {
            "tags": [
              "id18-16-1",
              "outputarea_id18"
            ]
          }
        },
        {
          "output_type": "display_data",
          "data": {
            "application/javascript": [
              "window[\"665ef312-5ac6-11ea-b93d-0242ac1c0002\"] = google.colab.output.getActiveOutputArea();\n",
              "//# sourceURL=js_f636e57cf9"
            ],
            "text/plain": [
              "<IPython.core.display.Javascript object>"
            ]
          },
          "metadata": {
            "tags": [
              "id18-16-2",
              "outputarea_id18"
            ]
          }
        },
        {
          "output_type": "display_data",
          "data": {
            "application/javascript": [
              "window[\"665f3d9a-5ac6-11ea-b93d-0242ac1c0002\"] = document.querySelector(\"#id18-16-2\");\n",
              "//# sourceURL=js_5284426cb0"
            ],
            "text/plain": [
              "<IPython.core.display.Javascript object>"
            ]
          },
          "metadata": {
            "tags": [
              "id18-16-2",
              "outputarea_id18"
            ]
          }
        },
        {
          "output_type": "display_data",
          "data": {
            "application/javascript": [
              "window[\"665f9c36-5ac6-11ea-b93d-0242ac1c0002\"] = google.colab.output.setActiveOutputArea(window[\"665f3d9a-5ac6-11ea-b93d-0242ac1c0002\"]);\n",
              "//# sourceURL=js_0f14d9e643"
            ],
            "text/plain": [
              "<IPython.core.display.Javascript object>"
            ]
          },
          "metadata": {
            "tags": [
              "id18-16-2",
              "outputarea_id18"
            ]
          }
        },
        {
          "output_type": "stream",
          "text": [
            "https://patents.google.com/patent/US7394620B2\n"
          ],
          "name": "stdout"
        },
        {
          "output_type": "display_data",
          "data": {
            "application/javascript": [
              "window[\"6660c3c2-5ac6-11ea-b93d-0242ac1c0002\"] = google.colab.output.setActiveOutputArea(window[\"665ef312-5ac6-11ea-b93d-0242ac1c0002\"]);\n",
              "//# sourceURL=js_c8abd7ff52"
            ],
            "text/plain": [
              "<IPython.core.display.Javascript object>"
            ]
          },
          "metadata": {
            "tags": [
              "id18-16-2",
              "outputarea_id18"
            ]
          }
        },
        {
          "output_type": "display_data",
          "data": {
            "application/javascript": [
              "window[\"666225c8-5ac6-11ea-b93d-0242ac1c0002\"] = google.colab.output.getActiveOutputArea();\n",
              "//# sourceURL=js_74e8def6c3"
            ],
            "text/plain": [
              "<IPython.core.display.Javascript object>"
            ]
          },
          "metadata": {
            "tags": [
              "id18-16-3",
              "outputarea_id18"
            ]
          }
        },
        {
          "output_type": "display_data",
          "data": {
            "application/javascript": [
              "window[\"6662ab06-5ac6-11ea-b93d-0242ac1c0002\"] = document.querySelector(\"#id18-16-3\");\n",
              "//# sourceURL=js_37dce4ff65"
            ],
            "text/plain": [
              "<IPython.core.display.Javascript object>"
            ]
          },
          "metadata": {
            "tags": [
              "id18-16-3",
              "outputarea_id18"
            ]
          }
        },
        {
          "output_type": "display_data",
          "data": {
            "application/javascript": [
              "window[\"6662f46c-5ac6-11ea-b93d-0242ac1c0002\"] = google.colab.output.setActiveOutputArea(window[\"6662ab06-5ac6-11ea-b93d-0242ac1c0002\"]);\n",
              "//# sourceURL=js_8dbb98b32d"
            ],
            "text/plain": [
              "<IPython.core.display.Javascript object>"
            ]
          },
          "metadata": {
            "tags": [
              "id18-16-3",
              "outputarea_id18"
            ]
          }
        },
        {
          "output_type": "stream",
          "text": [
            "0.34544918\n"
          ],
          "name": "stdout"
        },
        {
          "output_type": "display_data",
          "data": {
            "application/javascript": [
              "window[\"666426a2-5ac6-11ea-b93d-0242ac1c0002\"] = google.colab.output.setActiveOutputArea(window[\"666225c8-5ac6-11ea-b93d-0242ac1c0002\"]);\n",
              "//# sourceURL=js_559e72654d"
            ],
            "text/plain": [
              "<IPython.core.display.Javascript object>"
            ]
          },
          "metadata": {
            "tags": [
              "id18-16-3",
              "outputarea_id18"
            ]
          }
        },
        {
          "output_type": "display_data",
          "data": {
            "application/javascript": [
              "window[\"6665a0c2-5ac6-11ea-b93d-0242ac1c0002\"] = google.colab.output.getActiveOutputArea();\n",
              "//# sourceURL=js_57ec76d261"
            ],
            "text/plain": [
              "<IPython.core.display.Javascript object>"
            ]
          },
          "metadata": {
            "tags": [
              "id18-17-0",
              "outputarea_id18"
            ]
          }
        },
        {
          "output_type": "display_data",
          "data": {
            "application/javascript": [
              "window[\"666603a0-5ac6-11ea-b93d-0242ac1c0002\"] = document.querySelector(\"#id18-17-0\");\n",
              "//# sourceURL=js_8028d38a24"
            ],
            "text/plain": [
              "<IPython.core.display.Javascript object>"
            ]
          },
          "metadata": {
            "tags": [
              "id18-17-0",
              "outputarea_id18"
            ]
          }
        },
        {
          "output_type": "display_data",
          "data": {
            "application/javascript": [
              "window[\"66665936-5ac6-11ea-b93d-0242ac1c0002\"] = google.colab.output.setActiveOutputArea(window[\"666603a0-5ac6-11ea-b93d-0242ac1c0002\"]);\n",
              "//# sourceURL=js_6a30db06f9"
            ],
            "text/plain": [
              "<IPython.core.display.Javascript object>"
            ]
          },
          "metadata": {
            "tags": [
              "id18-17-0",
              "outputarea_id18"
            ]
          }
        },
        {
          "output_type": "stream",
          "text": [
            "17\n"
          ],
          "name": "stdout"
        },
        {
          "output_type": "display_data",
          "data": {
            "application/javascript": [
              "window[\"6667a020-5ac6-11ea-b93d-0242ac1c0002\"] = google.colab.output.setActiveOutputArea(window[\"6665a0c2-5ac6-11ea-b93d-0242ac1c0002\"]);\n",
              "//# sourceURL=js_b3469fdb90"
            ],
            "text/plain": [
              "<IPython.core.display.Javascript object>"
            ]
          },
          "metadata": {
            "tags": [
              "id18-17-0",
              "outputarea_id18"
            ]
          }
        },
        {
          "output_type": "display_data",
          "data": {
            "application/javascript": [
              "window[\"66692076-5ac6-11ea-b93d-0242ac1c0002\"] = google.colab.output.getActiveOutputArea();\n",
              "//# sourceURL=js_7cfc6eabfe"
            ],
            "text/plain": [
              "<IPython.core.display.Javascript object>"
            ]
          },
          "metadata": {
            "tags": [
              "id18-17-1",
              "outputarea_id18"
            ]
          }
        },
        {
          "output_type": "display_data",
          "data": {
            "application/javascript": [
              "window[\"66697580-5ac6-11ea-b93d-0242ac1c0002\"] = document.querySelector(\"#id18-17-1\");\n",
              "//# sourceURL=js_fe0e1596de"
            ],
            "text/plain": [
              "<IPython.core.display.Javascript object>"
            ]
          },
          "metadata": {
            "tags": [
              "id18-17-1",
              "outputarea_id18"
            ]
          }
        },
        {
          "output_type": "display_data",
          "data": {
            "application/javascript": [
              "window[\"6669c008-5ac6-11ea-b93d-0242ac1c0002\"] = google.colab.output.setActiveOutputArea(window[\"66697580-5ac6-11ea-b93d-0242ac1c0002\"]);\n",
              "//# sourceURL=js_20cb42dbe2"
            ],
            "text/plain": [
              "<IPython.core.display.Javascript object>"
            ]
          },
          "metadata": {
            "tags": [
              "id18-17-1",
              "outputarea_id18"
            ]
          }
        },
        {
          "output_type": "stream",
          "text": [
            "Lens driving device\n",
            "\n"
          ],
          "name": "stdout"
        },
        {
          "output_type": "display_data",
          "data": {
            "application/javascript": [
              "window[\"666aece4-5ac6-11ea-b93d-0242ac1c0002\"] = google.colab.output.setActiveOutputArea(window[\"66692076-5ac6-11ea-b93d-0242ac1c0002\"]);\n",
              "//# sourceURL=js_65ce9a5c7c"
            ],
            "text/plain": [
              "<IPython.core.display.Javascript object>"
            ]
          },
          "metadata": {
            "tags": [
              "id18-17-1",
              "outputarea_id18"
            ]
          }
        },
        {
          "output_type": "display_data",
          "data": {
            "application/javascript": [
              "window[\"666e0334-5ac6-11ea-b93d-0242ac1c0002\"] = google.colab.output.getActiveOutputArea();\n",
              "//# sourceURL=js_b026f0818f"
            ],
            "text/plain": [
              "<IPython.core.display.Javascript object>"
            ]
          },
          "metadata": {
            "tags": [
              "id18-17-2",
              "outputarea_id18"
            ]
          }
        },
        {
          "output_type": "display_data",
          "data": {
            "application/javascript": [
              "window[\"666e6a68-5ac6-11ea-b93d-0242ac1c0002\"] = document.querySelector(\"#id18-17-2\");\n",
              "//# sourceURL=js_ad75d5bc2e"
            ],
            "text/plain": [
              "<IPython.core.display.Javascript object>"
            ]
          },
          "metadata": {
            "tags": [
              "id18-17-2",
              "outputarea_id18"
            ]
          }
        },
        {
          "output_type": "display_data",
          "data": {
            "application/javascript": [
              "window[\"666ecd6e-5ac6-11ea-b93d-0242ac1c0002\"] = google.colab.output.setActiveOutputArea(window[\"666e6a68-5ac6-11ea-b93d-0242ac1c0002\"]);\n",
              "//# sourceURL=js_48f7af6275"
            ],
            "text/plain": [
              "<IPython.core.display.Javascript object>"
            ]
          },
          "metadata": {
            "tags": [
              "id18-17-2",
              "outputarea_id18"
            ]
          }
        },
        {
          "output_type": "stream",
          "text": [
            "https://patents.google.com/patent/US7706089B2\n"
          ],
          "name": "stdout"
        },
        {
          "output_type": "display_data",
          "data": {
            "application/javascript": [
              "window[\"66701926-5ac6-11ea-b93d-0242ac1c0002\"] = google.colab.output.setActiveOutputArea(window[\"666e0334-5ac6-11ea-b93d-0242ac1c0002\"]);\n",
              "//# sourceURL=js_62283ff7da"
            ],
            "text/plain": [
              "<IPython.core.display.Javascript object>"
            ]
          },
          "metadata": {
            "tags": [
              "id18-17-2",
              "outputarea_id18"
            ]
          }
        },
        {
          "output_type": "display_data",
          "data": {
            "application/javascript": [
              "window[\"6671ce88-5ac6-11ea-b93d-0242ac1c0002\"] = google.colab.output.getActiveOutputArea();\n",
              "//# sourceURL=js_cca362466d"
            ],
            "text/plain": [
              "<IPython.core.display.Javascript object>"
            ]
          },
          "metadata": {
            "tags": [
              "id18-17-3",
              "outputarea_id18"
            ]
          }
        },
        {
          "output_type": "display_data",
          "data": {
            "application/javascript": [
              "window[\"66723e0e-5ac6-11ea-b93d-0242ac1c0002\"] = document.querySelector(\"#id18-17-3\");\n",
              "//# sourceURL=js_93b283b812"
            ],
            "text/plain": [
              "<IPython.core.display.Javascript object>"
            ]
          },
          "metadata": {
            "tags": [
              "id18-17-3",
              "outputarea_id18"
            ]
          }
        },
        {
          "output_type": "display_data",
          "data": {
            "application/javascript": [
              "window[\"6672b17c-5ac6-11ea-b93d-0242ac1c0002\"] = google.colab.output.setActiveOutputArea(window[\"66723e0e-5ac6-11ea-b93d-0242ac1c0002\"]);\n",
              "//# sourceURL=js_0c0d71f93d"
            ],
            "text/plain": [
              "<IPython.core.display.Javascript object>"
            ]
          },
          "metadata": {
            "tags": [
              "id18-17-3",
              "outputarea_id18"
            ]
          }
        },
        {
          "output_type": "stream",
          "text": [
            "0.34545243\n"
          ],
          "name": "stdout"
        },
        {
          "output_type": "display_data",
          "data": {
            "application/javascript": [
              "window[\"6673cf9e-5ac6-11ea-b93d-0242ac1c0002\"] = google.colab.output.setActiveOutputArea(window[\"6671ce88-5ac6-11ea-b93d-0242ac1c0002\"]);\n",
              "//# sourceURL=js_acc63004b9"
            ],
            "text/plain": [
              "<IPython.core.display.Javascript object>"
            ]
          },
          "metadata": {
            "tags": [
              "id18-17-3",
              "outputarea_id18"
            ]
          }
        },
        {
          "output_type": "display_data",
          "data": {
            "application/javascript": [
              "window[\"6675aa3a-5ac6-11ea-b93d-0242ac1c0002\"] = google.colab.output.getActiveOutputArea();\n",
              "//# sourceURL=js_5a1a3ced0a"
            ],
            "text/plain": [
              "<IPython.core.display.Javascript object>"
            ]
          },
          "metadata": {
            "tags": [
              "id18-18-0",
              "outputarea_id18"
            ]
          }
        },
        {
          "output_type": "display_data",
          "data": {
            "application/javascript": [
              "window[\"6675f648-5ac6-11ea-b93d-0242ac1c0002\"] = document.querySelector(\"#id18-18-0\");\n",
              "//# sourceURL=js_cf10affdd1"
            ],
            "text/plain": [
              "<IPython.core.display.Javascript object>"
            ]
          },
          "metadata": {
            "tags": [
              "id18-18-0",
              "outputarea_id18"
            ]
          }
        },
        {
          "output_type": "display_data",
          "data": {
            "application/javascript": [
              "window[\"667656a6-5ac6-11ea-b93d-0242ac1c0002\"] = google.colab.output.setActiveOutputArea(window[\"6675f648-5ac6-11ea-b93d-0242ac1c0002\"]);\n",
              "//# sourceURL=js_f7a8ea4595"
            ],
            "text/plain": [
              "<IPython.core.display.Javascript object>"
            ]
          },
          "metadata": {
            "tags": [
              "id18-18-0",
              "outputarea_id18"
            ]
          }
        },
        {
          "output_type": "stream",
          "text": [
            "18\n"
          ],
          "name": "stdout"
        },
        {
          "output_type": "display_data",
          "data": {
            "application/javascript": [
              "window[\"6677b870-5ac6-11ea-b93d-0242ac1c0002\"] = google.colab.output.setActiveOutputArea(window[\"6675aa3a-5ac6-11ea-b93d-0242ac1c0002\"]);\n",
              "//# sourceURL=js_dbc9dba64b"
            ],
            "text/plain": [
              "<IPython.core.display.Javascript object>"
            ]
          },
          "metadata": {
            "tags": [
              "id18-18-0",
              "outputarea_id18"
            ]
          }
        },
        {
          "output_type": "display_data",
          "data": {
            "application/javascript": [
              "window[\"667965b2-5ac6-11ea-b93d-0242ac1c0002\"] = google.colab.output.getActiveOutputArea();\n",
              "//# sourceURL=js_664d75e4e1"
            ],
            "text/plain": [
              "<IPython.core.display.Javascript object>"
            ]
          },
          "metadata": {
            "tags": [
              "id18-18-1",
              "outputarea_id18"
            ]
          }
        },
        {
          "output_type": "display_data",
          "data": {
            "application/javascript": [
              "window[\"6679e154-5ac6-11ea-b93d-0242ac1c0002\"] = document.querySelector(\"#id18-18-1\");\n",
              "//# sourceURL=js_e4528293df"
            ],
            "text/plain": [
              "<IPython.core.display.Javascript object>"
            ]
          },
          "metadata": {
            "tags": [
              "id18-18-1",
              "outputarea_id18"
            ]
          }
        },
        {
          "output_type": "display_data",
          "data": {
            "application/javascript": [
              "window[\"667a40d6-5ac6-11ea-b93d-0242ac1c0002\"] = google.colab.output.setActiveOutputArea(window[\"6679e154-5ac6-11ea-b93d-0242ac1c0002\"]);\n",
              "//# sourceURL=js_f0755d1e79"
            ],
            "text/plain": [
              "<IPython.core.display.Javascript object>"
            ]
          },
          "metadata": {
            "tags": [
              "id18-18-1",
              "outputarea_id18"
            ]
          }
        },
        {
          "output_type": "stream",
          "text": [
            "Perpendicular magnetic recording head with side shield and magnetic disk apparatus\n",
            "\n"
          ],
          "name": "stdout"
        },
        {
          "output_type": "display_data",
          "data": {
            "application/javascript": [
              "window[\"667b7ece-5ac6-11ea-b93d-0242ac1c0002\"] = google.colab.output.setActiveOutputArea(window[\"667965b2-5ac6-11ea-b93d-0242ac1c0002\"]);\n",
              "//# sourceURL=js_c6a9c13e49"
            ],
            "text/plain": [
              "<IPython.core.display.Javascript object>"
            ]
          },
          "metadata": {
            "tags": [
              "id18-18-1",
              "outputarea_id18"
            ]
          }
        },
        {
          "output_type": "display_data",
          "data": {
            "application/javascript": [
              "window[\"667d672a-5ac6-11ea-b93d-0242ac1c0002\"] = google.colab.output.getActiveOutputArea();\n",
              "//# sourceURL=js_fc6a1ee7e8"
            ],
            "text/plain": [
              "<IPython.core.display.Javascript object>"
            ]
          },
          "metadata": {
            "tags": [
              "id18-18-2",
              "outputarea_id18"
            ]
          }
        },
        {
          "output_type": "display_data",
          "data": {
            "application/javascript": [
              "window[\"667de402-5ac6-11ea-b93d-0242ac1c0002\"] = document.querySelector(\"#id18-18-2\");\n",
              "//# sourceURL=js_30631feb1a"
            ],
            "text/plain": [
              "<IPython.core.display.Javascript object>"
            ]
          },
          "metadata": {
            "tags": [
              "id18-18-2",
              "outputarea_id18"
            ]
          }
        },
        {
          "output_type": "display_data",
          "data": {
            "application/javascript": [
              "window[\"667e3ccc-5ac6-11ea-b93d-0242ac1c0002\"] = google.colab.output.setActiveOutputArea(window[\"667de402-5ac6-11ea-b93d-0242ac1c0002\"]);\n",
              "//# sourceURL=js_c6b7da8d7f"
            ],
            "text/plain": [
              "<IPython.core.display.Javascript object>"
            ]
          },
          "metadata": {
            "tags": [
              "id18-18-2",
              "outputarea_id18"
            ]
          }
        },
        {
          "output_type": "stream",
          "text": [
            "https://patents.google.com/patent/US8169741B2\n"
          ],
          "name": "stdout"
        },
        {
          "output_type": "display_data",
          "data": {
            "application/javascript": [
              "window[\"667f7e0c-5ac6-11ea-b93d-0242ac1c0002\"] = google.colab.output.setActiveOutputArea(window[\"667d672a-5ac6-11ea-b93d-0242ac1c0002\"]);\n",
              "//# sourceURL=js_dea3b22b54"
            ],
            "text/plain": [
              "<IPython.core.display.Javascript object>"
            ]
          },
          "metadata": {
            "tags": [
              "id18-18-2",
              "outputarea_id18"
            ]
          }
        },
        {
          "output_type": "display_data",
          "data": {
            "application/javascript": [
              "window[\"66815cc2-5ac6-11ea-b93d-0242ac1c0002\"] = google.colab.output.getActiveOutputArea();\n",
              "//# sourceURL=js_64a62f53ea"
            ],
            "text/plain": [
              "<IPython.core.display.Javascript object>"
            ]
          },
          "metadata": {
            "tags": [
              "id18-18-3",
              "outputarea_id18"
            ]
          }
        },
        {
          "output_type": "display_data",
          "data": {
            "application/javascript": [
              "window[\"6681b334-5ac6-11ea-b93d-0242ac1c0002\"] = document.querySelector(\"#id18-18-3\");\n",
              "//# sourceURL=js_f5c2445125"
            ],
            "text/plain": [
              "<IPython.core.display.Javascript object>"
            ]
          },
          "metadata": {
            "tags": [
              "id18-18-3",
              "outputarea_id18"
            ]
          }
        },
        {
          "output_type": "display_data",
          "data": {
            "application/javascript": [
              "window[\"66820e38-5ac6-11ea-b93d-0242ac1c0002\"] = google.colab.output.setActiveOutputArea(window[\"6681b334-5ac6-11ea-b93d-0242ac1c0002\"]);\n",
              "//# sourceURL=js_baf103a446"
            ],
            "text/plain": [
              "<IPython.core.display.Javascript object>"
            ]
          },
          "metadata": {
            "tags": [
              "id18-18-3",
              "outputarea_id18"
            ]
          }
        },
        {
          "output_type": "stream",
          "text": [
            "0.34663805\n"
          ],
          "name": "stdout"
        },
        {
          "output_type": "display_data",
          "data": {
            "application/javascript": [
              "window[\"66834a50-5ac6-11ea-b93d-0242ac1c0002\"] = google.colab.output.setActiveOutputArea(window[\"66815cc2-5ac6-11ea-b93d-0242ac1c0002\"]);\n",
              "//# sourceURL=js_13d0b39cc7"
            ],
            "text/plain": [
              "<IPython.core.display.Javascript object>"
            ]
          },
          "metadata": {
            "tags": [
              "id18-18-3",
              "outputarea_id18"
            ]
          }
        },
        {
          "output_type": "display_data",
          "data": {
            "application/javascript": [
              "window[\"668520fa-5ac6-11ea-b93d-0242ac1c0002\"] = google.colab.output.getActiveOutputArea();\n",
              "//# sourceURL=js_9aafcc4af3"
            ],
            "text/plain": [
              "<IPython.core.display.Javascript object>"
            ]
          },
          "metadata": {
            "tags": [
              "id18-19-0",
              "outputarea_id18"
            ]
          }
        },
        {
          "output_type": "display_data",
          "data": {
            "application/javascript": [
              "window[\"66858374-5ac6-11ea-b93d-0242ac1c0002\"] = document.querySelector(\"#id18-19-0\");\n",
              "//# sourceURL=js_772697be6c"
            ],
            "text/plain": [
              "<IPython.core.display.Javascript object>"
            ]
          },
          "metadata": {
            "tags": [
              "id18-19-0",
              "outputarea_id18"
            ]
          }
        },
        {
          "output_type": "display_data",
          "data": {
            "application/javascript": [
              "window[\"6685e878-5ac6-11ea-b93d-0242ac1c0002\"] = google.colab.output.setActiveOutputArea(window[\"66858374-5ac6-11ea-b93d-0242ac1c0002\"]);\n",
              "//# sourceURL=js_6a4117bc61"
            ],
            "text/plain": [
              "<IPython.core.display.Javascript object>"
            ]
          },
          "metadata": {
            "tags": [
              "id18-19-0",
              "outputarea_id18"
            ]
          }
        },
        {
          "output_type": "stream",
          "text": [
            "19\n"
          ],
          "name": "stdout"
        },
        {
          "output_type": "display_data",
          "data": {
            "application/javascript": [
              "window[\"668732f0-5ac6-11ea-b93d-0242ac1c0002\"] = google.colab.output.setActiveOutputArea(window[\"668520fa-5ac6-11ea-b93d-0242ac1c0002\"]);\n",
              "//# sourceURL=js_84b11a86fd"
            ],
            "text/plain": [
              "<IPython.core.display.Javascript object>"
            ]
          },
          "metadata": {
            "tags": [
              "id18-19-0",
              "outputarea_id18"
            ]
          }
        },
        {
          "output_type": "display_data",
          "data": {
            "application/javascript": [
              "window[\"66890436-5ac6-11ea-b93d-0242ac1c0002\"] = google.colab.output.getActiveOutputArea();\n",
              "//# sourceURL=js_f922f52b64"
            ],
            "text/plain": [
              "<IPython.core.display.Javascript object>"
            ]
          },
          "metadata": {
            "tags": [
              "id18-19-1",
              "outputarea_id18"
            ]
          }
        },
        {
          "output_type": "display_data",
          "data": {
            "application/javascript": [
              "window[\"668975f6-5ac6-11ea-b93d-0242ac1c0002\"] = document.querySelector(\"#id18-19-1\");\n",
              "//# sourceURL=js_934eb0dd50"
            ],
            "text/plain": [
              "<IPython.core.display.Javascript object>"
            ]
          },
          "metadata": {
            "tags": [
              "id18-19-1",
              "outputarea_id18"
            ]
          }
        },
        {
          "output_type": "display_data",
          "data": {
            "application/javascript": [
              "window[\"6689e752-5ac6-11ea-b93d-0242ac1c0002\"] = google.colab.output.setActiveOutputArea(window[\"668975f6-5ac6-11ea-b93d-0242ac1c0002\"]);\n",
              "//# sourceURL=js_23ed4cf4de"
            ],
            "text/plain": [
              "<IPython.core.display.Javascript object>"
            ]
          },
          "metadata": {
            "tags": [
              "id18-19-1",
              "outputarea_id18"
            ]
          }
        },
        {
          "output_type": "stream",
          "text": [
            "System and method for acoustic chaos and sonic infrared imaging\n",
            "\n"
          ],
          "name": "stdout"
        },
        {
          "output_type": "display_data",
          "data": {
            "application/javascript": [
              "window[\"668b21da-5ac6-11ea-b93d-0242ac1c0002\"] = google.colab.output.setActiveOutputArea(window[\"66890436-5ac6-11ea-b93d-0242ac1c0002\"]);\n",
              "//# sourceURL=js_e20cf1f10f"
            ],
            "text/plain": [
              "<IPython.core.display.Javascript object>"
            ]
          },
          "metadata": {
            "tags": [
              "id18-19-1",
              "outputarea_id18"
            ]
          }
        },
        {
          "output_type": "display_data",
          "data": {
            "application/javascript": [
              "window[\"668cdbe2-5ac6-11ea-b93d-0242ac1c0002\"] = google.colab.output.getActiveOutputArea();\n",
              "//# sourceURL=js_7bad693b9a"
            ],
            "text/plain": [
              "<IPython.core.display.Javascript object>"
            ]
          },
          "metadata": {
            "tags": [
              "id18-19-2",
              "outputarea_id18"
            ]
          }
        },
        {
          "output_type": "display_data",
          "data": {
            "application/javascript": [
              "window[\"668d325e-5ac6-11ea-b93d-0242ac1c0002\"] = document.querySelector(\"#id18-19-2\");\n",
              "//# sourceURL=js_7a8150e1a5"
            ],
            "text/plain": [
              "<IPython.core.display.Javascript object>"
            ]
          },
          "metadata": {
            "tags": [
              "id18-19-2",
              "outputarea_id18"
            ]
          }
        },
        {
          "output_type": "display_data",
          "data": {
            "application/javascript": [
              "window[\"668d7d18-5ac6-11ea-b93d-0242ac1c0002\"] = google.colab.output.setActiveOutputArea(window[\"668d325e-5ac6-11ea-b93d-0242ac1c0002\"]);\n",
              "//# sourceURL=js_08c3f0b6af"
            ],
            "text/plain": [
              "<IPython.core.display.Javascript object>"
            ]
          },
          "metadata": {
            "tags": [
              "id18-19-2",
              "outputarea_id18"
            ]
          }
        },
        {
          "output_type": "stream",
          "text": [
            "https://patents.google.com/patent/US6998616B2\n"
          ],
          "name": "stdout"
        },
        {
          "output_type": "display_data",
          "data": {
            "application/javascript": [
              "window[\"668f1894-5ac6-11ea-b93d-0242ac1c0002\"] = google.colab.output.setActiveOutputArea(window[\"668cdbe2-5ac6-11ea-b93d-0242ac1c0002\"]);\n",
              "//# sourceURL=js_cc8c7caf23"
            ],
            "text/plain": [
              "<IPython.core.display.Javascript object>"
            ]
          },
          "metadata": {
            "tags": [
              "id18-19-2",
              "outputarea_id18"
            ]
          }
        },
        {
          "output_type": "display_data",
          "data": {
            "application/javascript": [
              "window[\"6690b47e-5ac6-11ea-b93d-0242ac1c0002\"] = google.colab.output.getActiveOutputArea();\n",
              "//# sourceURL=js_a3d8a574b0"
            ],
            "text/plain": [
              "<IPython.core.display.Javascript object>"
            ]
          },
          "metadata": {
            "tags": [
              "id18-19-3",
              "outputarea_id18"
            ]
          }
        },
        {
          "output_type": "display_data",
          "data": {
            "application/javascript": [
              "window[\"66911360-5ac6-11ea-b93d-0242ac1c0002\"] = document.querySelector(\"#id18-19-3\");\n",
              "//# sourceURL=js_bcf1b4da65"
            ],
            "text/plain": [
              "<IPython.core.display.Javascript object>"
            ]
          },
          "metadata": {
            "tags": [
              "id18-19-3",
              "outputarea_id18"
            ]
          }
        },
        {
          "output_type": "display_data",
          "data": {
            "application/javascript": [
              "window[\"66916586-5ac6-11ea-b93d-0242ac1c0002\"] = google.colab.output.setActiveOutputArea(window[\"66911360-5ac6-11ea-b93d-0242ac1c0002\"]);\n",
              "//# sourceURL=js_50ac5a0e07"
            ],
            "text/plain": [
              "<IPython.core.display.Javascript object>"
            ]
          },
          "metadata": {
            "tags": [
              "id18-19-3",
              "outputarea_id18"
            ]
          }
        },
        {
          "output_type": "stream",
          "text": [
            "0.34689793\n"
          ],
          "name": "stdout"
        },
        {
          "output_type": "display_data",
          "data": {
            "application/javascript": [
              "window[\"669286e6-5ac6-11ea-b93d-0242ac1c0002\"] = google.colab.output.setActiveOutputArea(window[\"6690b47e-5ac6-11ea-b93d-0242ac1c0002\"]);\n",
              "//# sourceURL=js_9cdbf57467"
            ],
            "text/plain": [
              "<IPython.core.display.Javascript object>"
            ]
          },
          "metadata": {
            "tags": [
              "id18-19-3",
              "outputarea_id18"
            ]
          }
        },
        {
          "output_type": "display_data",
          "data": {
            "application/javascript": [
              "window[\"66941e48-5ac6-11ea-b93d-0242ac1c0002\"] = google.colab.output.getActiveOutputArea();\n",
              "//# sourceURL=js_a8905a8bff"
            ],
            "text/plain": [
              "<IPython.core.display.Javascript object>"
            ]
          },
          "metadata": {
            "tags": [
              "id18-20-0",
              "outputarea_id18"
            ]
          }
        },
        {
          "output_type": "display_data",
          "data": {
            "application/javascript": [
              "window[\"669484dc-5ac6-11ea-b93d-0242ac1c0002\"] = document.querySelector(\"#id18-20-0\");\n",
              "//# sourceURL=js_1425942a1f"
            ],
            "text/plain": [
              "<IPython.core.display.Javascript object>"
            ]
          },
          "metadata": {
            "tags": [
              "id18-20-0",
              "outputarea_id18"
            ]
          }
        },
        {
          "output_type": "display_data",
          "data": {
            "application/javascript": [
              "window[\"6694d892-5ac6-11ea-b93d-0242ac1c0002\"] = google.colab.output.setActiveOutputArea(window[\"669484dc-5ac6-11ea-b93d-0242ac1c0002\"]);\n",
              "//# sourceURL=js_4fd9fe66b1"
            ],
            "text/plain": [
              "<IPython.core.display.Javascript object>"
            ]
          },
          "metadata": {
            "tags": [
              "id18-20-0",
              "outputarea_id18"
            ]
          }
        },
        {
          "output_type": "stream",
          "text": [
            "20\n"
          ],
          "name": "stdout"
        },
        {
          "output_type": "display_data",
          "data": {
            "application/javascript": [
              "window[\"66960d8e-5ac6-11ea-b93d-0242ac1c0002\"] = google.colab.output.setActiveOutputArea(window[\"66941e48-5ac6-11ea-b93d-0242ac1c0002\"]);\n",
              "//# sourceURL=js_079dc08c04"
            ],
            "text/plain": [
              "<IPython.core.display.Javascript object>"
            ]
          },
          "metadata": {
            "tags": [
              "id18-20-0",
              "outputarea_id18"
            ]
          }
        },
        {
          "output_type": "display_data",
          "data": {
            "application/javascript": [
              "window[\"6697a388-5ac6-11ea-b93d-0242ac1c0002\"] = google.colab.output.getActiveOutputArea();\n",
              "//# sourceURL=js_bea467d983"
            ],
            "text/plain": [
              "<IPython.core.display.Javascript object>"
            ]
          },
          "metadata": {
            "tags": [
              "id18-20-1",
              "outputarea_id18"
            ]
          }
        },
        {
          "output_type": "display_data",
          "data": {
            "application/javascript": [
              "window[\"66981570-5ac6-11ea-b93d-0242ac1c0002\"] = document.querySelector(\"#id18-20-1\");\n",
              "//# sourceURL=js_34ba2254a9"
            ],
            "text/plain": [
              "<IPython.core.display.Javascript object>"
            ]
          },
          "metadata": {
            "tags": [
              "id18-20-1",
              "outputarea_id18"
            ]
          }
        },
        {
          "output_type": "display_data",
          "data": {
            "application/javascript": [
              "window[\"669869f8-5ac6-11ea-b93d-0242ac1c0002\"] = google.colab.output.setActiveOutputArea(window[\"66981570-5ac6-11ea-b93d-0242ac1c0002\"]);\n",
              "//# sourceURL=js_9203f1a350"
            ],
            "text/plain": [
              "<IPython.core.display.Javascript object>"
            ]
          },
          "metadata": {
            "tags": [
              "id18-20-1",
              "outputarea_id18"
            ]
          }
        },
        {
          "output_type": "stream",
          "text": [
            "Apparatus for reducing the incidence of tampering with automatic fire sprinkler assemblies\n",
            "\n"
          ],
          "name": "stdout"
        },
        {
          "output_type": "display_data",
          "data": {
            "application/javascript": [
              "window[\"6699a21e-5ac6-11ea-b93d-0242ac1c0002\"] = google.colab.output.setActiveOutputArea(window[\"6697a388-5ac6-11ea-b93d-0242ac1c0002\"]);\n",
              "//# sourceURL=js_e06b7da805"
            ],
            "text/plain": [
              "<IPython.core.display.Javascript object>"
            ]
          },
          "metadata": {
            "tags": [
              "id18-20-1",
              "outputarea_id18"
            ]
          }
        },
        {
          "output_type": "display_data",
          "data": {
            "application/javascript": [
              "window[\"669b51b8-5ac6-11ea-b93d-0242ac1c0002\"] = google.colab.output.getActiveOutputArea();\n",
              "//# sourceURL=js_616d0f79b4"
            ],
            "text/plain": [
              "<IPython.core.display.Javascript object>"
            ]
          },
          "metadata": {
            "tags": [
              "id18-20-2",
              "outputarea_id18"
            ]
          }
        },
        {
          "output_type": "display_data",
          "data": {
            "application/javascript": [
              "window[\"669bb496-5ac6-11ea-b93d-0242ac1c0002\"] = document.querySelector(\"#id18-20-2\");\n",
              "//# sourceURL=js_33a40c5ec7"
            ],
            "text/plain": [
              "<IPython.core.display.Javascript object>"
            ]
          },
          "metadata": {
            "tags": [
              "id18-20-2",
              "outputarea_id18"
            ]
          }
        },
        {
          "output_type": "display_data",
          "data": {
            "application/javascript": [
              "window[\"669c1b02-5ac6-11ea-b93d-0242ac1c0002\"] = google.colab.output.setActiveOutputArea(window[\"669bb496-5ac6-11ea-b93d-0242ac1c0002\"]);\n",
              "//# sourceURL=js_3f0d092d2b"
            ],
            "text/plain": [
              "<IPython.core.display.Javascript object>"
            ]
          },
          "metadata": {
            "tags": [
              "id18-20-2",
              "outputarea_id18"
            ]
          }
        },
        {
          "output_type": "stream",
          "text": [
            "https://patents.google.com/patent/US8002046B2\n"
          ],
          "name": "stdout"
        },
        {
          "output_type": "display_data",
          "data": {
            "application/javascript": [
              "window[\"669d841a-5ac6-11ea-b93d-0242ac1c0002\"] = google.colab.output.setActiveOutputArea(window[\"669b51b8-5ac6-11ea-b93d-0242ac1c0002\"]);\n",
              "//# sourceURL=js_f2dd9237f0"
            ],
            "text/plain": [
              "<IPython.core.display.Javascript object>"
            ]
          },
          "metadata": {
            "tags": [
              "id18-20-2",
              "outputarea_id18"
            ]
          }
        },
        {
          "output_type": "display_data",
          "data": {
            "application/javascript": [
              "window[\"669f63a2-5ac6-11ea-b93d-0242ac1c0002\"] = google.colab.output.getActiveOutputArea();\n",
              "//# sourceURL=js_5b5cb77cd4"
            ],
            "text/plain": [
              "<IPython.core.display.Javascript object>"
            ]
          },
          "metadata": {
            "tags": [
              "id18-20-3",
              "outputarea_id18"
            ]
          }
        },
        {
          "output_type": "display_data",
          "data": {
            "application/javascript": [
              "window[\"669fcc52-5ac6-11ea-b93d-0242ac1c0002\"] = document.querySelector(\"#id18-20-3\");\n",
              "//# sourceURL=js_7c20e4e0dd"
            ],
            "text/plain": [
              "<IPython.core.display.Javascript object>"
            ]
          },
          "metadata": {
            "tags": [
              "id18-20-3",
              "outputarea_id18"
            ]
          }
        },
        {
          "output_type": "display_data",
          "data": {
            "application/javascript": [
              "window[\"66a02ee0-5ac6-11ea-b93d-0242ac1c0002\"] = google.colab.output.setActiveOutputArea(window[\"669fcc52-5ac6-11ea-b93d-0242ac1c0002\"]);\n",
              "//# sourceURL=js_c2f358f981"
            ],
            "text/plain": [
              "<IPython.core.display.Javascript object>"
            ]
          },
          "metadata": {
            "tags": [
              "id18-20-3",
              "outputarea_id18"
            ]
          }
        },
        {
          "output_type": "stream",
          "text": [
            "0.34805933\n"
          ],
          "name": "stdout"
        },
        {
          "output_type": "display_data",
          "data": {
            "application/javascript": [
              "window[\"66a18a7e-5ac6-11ea-b93d-0242ac1c0002\"] = google.colab.output.setActiveOutputArea(window[\"669f63a2-5ac6-11ea-b93d-0242ac1c0002\"]);\n",
              "//# sourceURL=js_09dfd5c660"
            ],
            "text/plain": [
              "<IPython.core.display.Javascript object>"
            ]
          },
          "metadata": {
            "tags": [
              "id18-20-3",
              "outputarea_id18"
            ]
          }
        },
        {
          "output_type": "display_data",
          "data": {
            "application/javascript": [
              "window[\"66a36bc8-5ac6-11ea-b93d-0242ac1c0002\"] = google.colab.output.getActiveOutputArea();\n",
              "//# sourceURL=js_df49cf57cf"
            ],
            "text/plain": [
              "<IPython.core.display.Javascript object>"
            ]
          },
          "metadata": {
            "tags": [
              "id18-21-0",
              "outputarea_id18"
            ]
          }
        },
        {
          "output_type": "display_data",
          "data": {
            "application/javascript": [
              "window[\"66a3e634-5ac6-11ea-b93d-0242ac1c0002\"] = document.querySelector(\"#id18-21-0\");\n",
              "//# sourceURL=js_b310bf2b68"
            ],
            "text/plain": [
              "<IPython.core.display.Javascript object>"
            ]
          },
          "metadata": {
            "tags": [
              "id18-21-0",
              "outputarea_id18"
            ]
          }
        },
        {
          "output_type": "display_data",
          "data": {
            "application/javascript": [
              "window[\"66a44c64-5ac6-11ea-b93d-0242ac1c0002\"] = google.colab.output.setActiveOutputArea(window[\"66a3e634-5ac6-11ea-b93d-0242ac1c0002\"]);\n",
              "//# sourceURL=js_3e9c9bf765"
            ],
            "text/plain": [
              "<IPython.core.display.Javascript object>"
            ]
          },
          "metadata": {
            "tags": [
              "id18-21-0",
              "outputarea_id18"
            ]
          }
        },
        {
          "output_type": "stream",
          "text": [
            "21\n"
          ],
          "name": "stdout"
        },
        {
          "output_type": "display_data",
          "data": {
            "application/javascript": [
              "window[\"66a5990c-5ac6-11ea-b93d-0242ac1c0002\"] = google.colab.output.setActiveOutputArea(window[\"66a36bc8-5ac6-11ea-b93d-0242ac1c0002\"]);\n",
              "//# sourceURL=js_46f9575e72"
            ],
            "text/plain": [
              "<IPython.core.display.Javascript object>"
            ]
          },
          "metadata": {
            "tags": [
              "id18-21-0",
              "outputarea_id18"
            ]
          }
        },
        {
          "output_type": "display_data",
          "data": {
            "application/javascript": [
              "window[\"66a76ac0-5ac6-11ea-b93d-0242ac1c0002\"] = google.colab.output.getActiveOutputArea();\n",
              "//# sourceURL=js_47bf8b054b"
            ],
            "text/plain": [
              "<IPython.core.display.Javascript object>"
            ]
          },
          "metadata": {
            "tags": [
              "id18-21-1",
              "outputarea_id18"
            ]
          }
        },
        {
          "output_type": "display_data",
          "data": {
            "application/javascript": [
              "window[\"66a7ccd6-5ac6-11ea-b93d-0242ac1c0002\"] = document.querySelector(\"#id18-21-1\");\n",
              "//# sourceURL=js_d5d4eeb19f"
            ],
            "text/plain": [
              "<IPython.core.display.Javascript object>"
            ]
          },
          "metadata": {
            "tags": [
              "id18-21-1",
              "outputarea_id18"
            ]
          }
        },
        {
          "output_type": "display_data",
          "data": {
            "application/javascript": [
              "window[\"66a828fc-5ac6-11ea-b93d-0242ac1c0002\"] = google.colab.output.setActiveOutputArea(window[\"66a7ccd6-5ac6-11ea-b93d-0242ac1c0002\"]);\n",
              "//# sourceURL=js_d11fd095b2"
            ],
            "text/plain": [
              "<IPython.core.display.Javascript object>"
            ]
          },
          "metadata": {
            "tags": [
              "id18-21-1",
              "outputarea_id18"
            ]
          }
        },
        {
          "output_type": "stream",
          "text": [
            "Orthodontic appliance\n",
            "\n"
          ],
          "name": "stdout"
        },
        {
          "output_type": "display_data",
          "data": {
            "application/javascript": [
              "window[\"66a96cd0-5ac6-11ea-b93d-0242ac1c0002\"] = google.colab.output.setActiveOutputArea(window[\"66a76ac0-5ac6-11ea-b93d-0242ac1c0002\"]);\n",
              "//# sourceURL=js_d23614039f"
            ],
            "text/plain": [
              "<IPython.core.display.Javascript object>"
            ]
          },
          "metadata": {
            "tags": [
              "id18-21-1",
              "outputarea_id18"
            ]
          }
        },
        {
          "output_type": "display_data",
          "data": {
            "application/javascript": [
              "window[\"66ab3f38-5ac6-11ea-b93d-0242ac1c0002\"] = google.colab.output.getActiveOutputArea();\n",
              "//# sourceURL=js_a0ef49cfc8"
            ],
            "text/plain": [
              "<IPython.core.display.Javascript object>"
            ]
          },
          "metadata": {
            "tags": [
              "id18-21-2",
              "outputarea_id18"
            ]
          }
        },
        {
          "output_type": "display_data",
          "data": {
            "application/javascript": [
              "window[\"66abaaae-5ac6-11ea-b93d-0242ac1c0002\"] = document.querySelector(\"#id18-21-2\");\n",
              "//# sourceURL=js_dbb518206d"
            ],
            "text/plain": [
              "<IPython.core.display.Javascript object>"
            ]
          },
          "metadata": {
            "tags": [
              "id18-21-2",
              "outputarea_id18"
            ]
          }
        },
        {
          "output_type": "display_data",
          "data": {
            "application/javascript": [
              "window[\"66abff2c-5ac6-11ea-b93d-0242ac1c0002\"] = google.colab.output.setActiveOutputArea(window[\"66abaaae-5ac6-11ea-b93d-0242ac1c0002\"]);\n",
              "//# sourceURL=js_c198f73875"
            ],
            "text/plain": [
              "<IPython.core.display.Javascript object>"
            ]
          },
          "metadata": {
            "tags": [
              "id18-21-2",
              "outputarea_id18"
            ]
          }
        },
        {
          "output_type": "stream",
          "text": [
            "https://patents.google.com/patent/US8152521B2\n"
          ],
          "name": "stdout"
        },
        {
          "output_type": "display_data",
          "data": {
            "application/javascript": [
              "window[\"66ad38ba-5ac6-11ea-b93d-0242ac1c0002\"] = google.colab.output.setActiveOutputArea(window[\"66ab3f38-5ac6-11ea-b93d-0242ac1c0002\"]);\n",
              "//# sourceURL=js_ee61eb2275"
            ],
            "text/plain": [
              "<IPython.core.display.Javascript object>"
            ]
          },
          "metadata": {
            "tags": [
              "id18-21-2",
              "outputarea_id18"
            ]
          }
        },
        {
          "output_type": "display_data",
          "data": {
            "application/javascript": [
              "window[\"66af1ac2-5ac6-11ea-b93d-0242ac1c0002\"] = google.colab.output.getActiveOutputArea();\n",
              "//# sourceURL=js_4b8742e9dc"
            ],
            "text/plain": [
              "<IPython.core.display.Javascript object>"
            ]
          },
          "metadata": {
            "tags": [
              "id18-21-3",
              "outputarea_id18"
            ]
          }
        },
        {
          "output_type": "display_data",
          "data": {
            "application/javascript": [
              "window[\"66af7b2a-5ac6-11ea-b93d-0242ac1c0002\"] = document.querySelector(\"#id18-21-3\");\n",
              "//# sourceURL=js_c7dbd9c966"
            ],
            "text/plain": [
              "<IPython.core.display.Javascript object>"
            ]
          },
          "metadata": {
            "tags": [
              "id18-21-3",
              "outputarea_id18"
            ]
          }
        },
        {
          "output_type": "display_data",
          "data": {
            "application/javascript": [
              "window[\"66afe48e-5ac6-11ea-b93d-0242ac1c0002\"] = google.colab.output.setActiveOutputArea(window[\"66af7b2a-5ac6-11ea-b93d-0242ac1c0002\"]);\n",
              "//# sourceURL=js_8c7c3f377d"
            ],
            "text/plain": [
              "<IPython.core.display.Javascript object>"
            ]
          },
          "metadata": {
            "tags": [
              "id18-21-3",
              "outputarea_id18"
            ]
          }
        },
        {
          "output_type": "stream",
          "text": [
            "0.34885007\n"
          ],
          "name": "stdout"
        },
        {
          "output_type": "display_data",
          "data": {
            "application/javascript": [
              "window[\"66b15e4a-5ac6-11ea-b93d-0242ac1c0002\"] = google.colab.output.setActiveOutputArea(window[\"66af1ac2-5ac6-11ea-b93d-0242ac1c0002\"]);\n",
              "//# sourceURL=js_8f97fbc96e"
            ],
            "text/plain": [
              "<IPython.core.display.Javascript object>"
            ]
          },
          "metadata": {
            "tags": [
              "id18-21-3",
              "outputarea_id18"
            ]
          }
        },
        {
          "output_type": "display_data",
          "data": {
            "application/javascript": [
              "window[\"66b31406-5ac6-11ea-b93d-0242ac1c0002\"] = google.colab.output.getActiveOutputArea();\n",
              "//# sourceURL=js_7dab80184e"
            ],
            "text/plain": [
              "<IPython.core.display.Javascript object>"
            ]
          },
          "metadata": {
            "tags": [
              "id18-22-0",
              "outputarea_id18"
            ]
          }
        },
        {
          "output_type": "display_data",
          "data": {
            "application/javascript": [
              "window[\"66b38026-5ac6-11ea-b93d-0242ac1c0002\"] = document.querySelector(\"#id18-22-0\");\n",
              "//# sourceURL=js_8d388daf02"
            ],
            "text/plain": [
              "<IPython.core.display.Javascript object>"
            ]
          },
          "metadata": {
            "tags": [
              "id18-22-0",
              "outputarea_id18"
            ]
          }
        },
        {
          "output_type": "display_data",
          "data": {
            "application/javascript": [
              "window[\"66b3f204-5ac6-11ea-b93d-0242ac1c0002\"] = google.colab.output.setActiveOutputArea(window[\"66b38026-5ac6-11ea-b93d-0242ac1c0002\"]);\n",
              "//# sourceURL=js_e1ea9c5f6a"
            ],
            "text/plain": [
              "<IPython.core.display.Javascript object>"
            ]
          },
          "metadata": {
            "tags": [
              "id18-22-0",
              "outputarea_id18"
            ]
          }
        },
        {
          "output_type": "stream",
          "text": [
            "22\n"
          ],
          "name": "stdout"
        },
        {
          "output_type": "display_data",
          "data": {
            "application/javascript": [
              "window[\"66b541d6-5ac6-11ea-b93d-0242ac1c0002\"] = google.colab.output.setActiveOutputArea(window[\"66b31406-5ac6-11ea-b93d-0242ac1c0002\"]);\n",
              "//# sourceURL=js_91c85d44c2"
            ],
            "text/plain": [
              "<IPython.core.display.Javascript object>"
            ]
          },
          "metadata": {
            "tags": [
              "id18-22-0",
              "outputarea_id18"
            ]
          }
        },
        {
          "output_type": "display_data",
          "data": {
            "application/javascript": [
              "window[\"66b72d16-5ac6-11ea-b93d-0242ac1c0002\"] = google.colab.output.getActiveOutputArea();\n",
              "//# sourceURL=js_0389b05fea"
            ],
            "text/plain": [
              "<IPython.core.display.Javascript object>"
            ]
          },
          "metadata": {
            "tags": [
              "id18-22-1",
              "outputarea_id18"
            ]
          }
        },
        {
          "output_type": "display_data",
          "data": {
            "application/javascript": [
              "window[\"66b78a9a-5ac6-11ea-b93d-0242ac1c0002\"] = document.querySelector(\"#id18-22-1\");\n",
              "//# sourceURL=js_c8dcfbe054"
            ],
            "text/plain": [
              "<IPython.core.display.Javascript object>"
            ]
          },
          "metadata": {
            "tags": [
              "id18-22-1",
              "outputarea_id18"
            ]
          }
        },
        {
          "output_type": "display_data",
          "data": {
            "application/javascript": [
              "window[\"66b812a8-5ac6-11ea-b93d-0242ac1c0002\"] = google.colab.output.setActiveOutputArea(window[\"66b78a9a-5ac6-11ea-b93d-0242ac1c0002\"]);\n",
              "//# sourceURL=js_2a24eeee51"
            ],
            "text/plain": [
              "<IPython.core.display.Javascript object>"
            ]
          },
          "metadata": {
            "tags": [
              "id18-22-1",
              "outputarea_id18"
            ]
          }
        },
        {
          "output_type": "stream",
          "text": [
            "Magnetic head positioning control device, magnetic head certifier, magnetic disk certifier and head cartridge\n",
            "\n"
          ],
          "name": "stdout"
        },
        {
          "output_type": "display_data",
          "data": {
            "application/javascript": [
              "window[\"66b96004-5ac6-11ea-b93d-0242ac1c0002\"] = google.colab.output.setActiveOutputArea(window[\"66b72d16-5ac6-11ea-b93d-0242ac1c0002\"]);\n",
              "//# sourceURL=js_738a2a2057"
            ],
            "text/plain": [
              "<IPython.core.display.Javascript object>"
            ]
          },
          "metadata": {
            "tags": [
              "id18-22-1",
              "outputarea_id18"
            ]
          }
        },
        {
          "output_type": "display_data",
          "data": {
            "application/javascript": [
              "window[\"66bb4928-5ac6-11ea-b93d-0242ac1c0002\"] = google.colab.output.getActiveOutputArea();\n",
              "//# sourceURL=js_e7ecf5a11c"
            ],
            "text/plain": [
              "<IPython.core.display.Javascript object>"
            ]
          },
          "metadata": {
            "tags": [
              "id18-22-2",
              "outputarea_id18"
            ]
          }
        },
        {
          "output_type": "display_data",
          "data": {
            "application/javascript": [
              "window[\"66bbaada-5ac6-11ea-b93d-0242ac1c0002\"] = document.querySelector(\"#id18-22-2\");\n",
              "//# sourceURL=js_88c90437c6"
            ],
            "text/plain": [
              "<IPython.core.display.Javascript object>"
            ]
          },
          "metadata": {
            "tags": [
              "id18-22-2",
              "outputarea_id18"
            ]
          }
        },
        {
          "output_type": "display_data",
          "data": {
            "application/javascript": [
              "window[\"66bc0584-5ac6-11ea-b93d-0242ac1c0002\"] = google.colab.output.setActiveOutputArea(window[\"66bbaada-5ac6-11ea-b93d-0242ac1c0002\"]);\n",
              "//# sourceURL=js_762f95100c"
            ],
            "text/plain": [
              "<IPython.core.display.Javascript object>"
            ]
          },
          "metadata": {
            "tags": [
              "id18-22-2",
              "outputarea_id18"
            ]
          }
        },
        {
          "output_type": "stream",
          "text": [
            "https://patents.google.com/patent/US7035039B2\n"
          ],
          "name": "stdout"
        },
        {
          "output_type": "display_data",
          "data": {
            "application/javascript": [
              "window[\"66bd4e9e-5ac6-11ea-b93d-0242ac1c0002\"] = google.colab.output.setActiveOutputArea(window[\"66bb4928-5ac6-11ea-b93d-0242ac1c0002\"]);\n",
              "//# sourceURL=js_40c29e746a"
            ],
            "text/plain": [
              "<IPython.core.display.Javascript object>"
            ]
          },
          "metadata": {
            "tags": [
              "id18-22-2",
              "outputarea_id18"
            ]
          }
        },
        {
          "output_type": "display_data",
          "data": {
            "application/javascript": [
              "window[\"66bf2d68-5ac6-11ea-b93d-0242ac1c0002\"] = google.colab.output.getActiveOutputArea();\n",
              "//# sourceURL=js_99b875e698"
            ],
            "text/plain": [
              "<IPython.core.display.Javascript object>"
            ]
          },
          "metadata": {
            "tags": [
              "id18-22-3",
              "outputarea_id18"
            ]
          }
        },
        {
          "output_type": "display_data",
          "data": {
            "application/javascript": [
              "window[\"66bf9212-5ac6-11ea-b93d-0242ac1c0002\"] = document.querySelector(\"#id18-22-3\");\n",
              "//# sourceURL=js_955f24c8dc"
            ],
            "text/plain": [
              "<IPython.core.display.Javascript object>"
            ]
          },
          "metadata": {
            "tags": [
              "id18-22-3",
              "outputarea_id18"
            ]
          }
        },
        {
          "output_type": "display_data",
          "data": {
            "application/javascript": [
              "window[\"66bff96e-5ac6-11ea-b93d-0242ac1c0002\"] = google.colab.output.setActiveOutputArea(window[\"66bf9212-5ac6-11ea-b93d-0242ac1c0002\"]);\n",
              "//# sourceURL=js_8859d3de80"
            ],
            "text/plain": [
              "<IPython.core.display.Javascript object>"
            ]
          },
          "metadata": {
            "tags": [
              "id18-22-3",
              "outputarea_id18"
            ]
          }
        },
        {
          "output_type": "stream",
          "text": [
            "0.35060617\n"
          ],
          "name": "stdout"
        },
        {
          "output_type": "display_data",
          "data": {
            "application/javascript": [
              "window[\"66c119e8-5ac6-11ea-b93d-0242ac1c0002\"] = google.colab.output.setActiveOutputArea(window[\"66bf2d68-5ac6-11ea-b93d-0242ac1c0002\"]);\n",
              "//# sourceURL=js_7bfdbb0fd4"
            ],
            "text/plain": [
              "<IPython.core.display.Javascript object>"
            ]
          },
          "metadata": {
            "tags": [
              "id18-22-3",
              "outputarea_id18"
            ]
          }
        },
        {
          "output_type": "display_data",
          "data": {
            "application/javascript": [
              "window[\"66c2f1a0-5ac6-11ea-b93d-0242ac1c0002\"] = google.colab.output.getActiveOutputArea();\n",
              "//# sourceURL=js_d9c26b3880"
            ],
            "text/plain": [
              "<IPython.core.display.Javascript object>"
            ]
          },
          "metadata": {
            "tags": [
              "id18-23-0",
              "outputarea_id18"
            ]
          }
        },
        {
          "output_type": "display_data",
          "data": {
            "application/javascript": [
              "window[\"66c351ea-5ac6-11ea-b93d-0242ac1c0002\"] = document.querySelector(\"#id18-23-0\");\n",
              "//# sourceURL=js_5c36891348"
            ],
            "text/plain": [
              "<IPython.core.display.Javascript object>"
            ]
          },
          "metadata": {
            "tags": [
              "id18-23-0",
              "outputarea_id18"
            ]
          }
        },
        {
          "output_type": "display_data",
          "data": {
            "application/javascript": [
              "window[\"66c3b4be-5ac6-11ea-b93d-0242ac1c0002\"] = google.colab.output.setActiveOutputArea(window[\"66c351ea-5ac6-11ea-b93d-0242ac1c0002\"]);\n",
              "//# sourceURL=js_fa5f95f082"
            ],
            "text/plain": [
              "<IPython.core.display.Javascript object>"
            ]
          },
          "metadata": {
            "tags": [
              "id18-23-0",
              "outputarea_id18"
            ]
          }
        },
        {
          "output_type": "stream",
          "text": [
            "23\n"
          ],
          "name": "stdout"
        },
        {
          "output_type": "display_data",
          "data": {
            "application/javascript": [
              "window[\"66c4de70-5ac6-11ea-b93d-0242ac1c0002\"] = google.colab.output.setActiveOutputArea(window[\"66c2f1a0-5ac6-11ea-b93d-0242ac1c0002\"]);\n",
              "//# sourceURL=js_046e49a684"
            ],
            "text/plain": [
              "<IPython.core.display.Javascript object>"
            ]
          },
          "metadata": {
            "tags": [
              "id18-23-0",
              "outputarea_id18"
            ]
          }
        },
        {
          "output_type": "display_data",
          "data": {
            "application/javascript": [
              "window[\"66c6aab6-5ac6-11ea-b93d-0242ac1c0002\"] = google.colab.output.getActiveOutputArea();\n",
              "//# sourceURL=js_7f928da663"
            ],
            "text/plain": [
              "<IPython.core.display.Javascript object>"
            ]
          },
          "metadata": {
            "tags": [
              "id18-23-1",
              "outputarea_id18"
            ]
          }
        },
        {
          "output_type": "display_data",
          "data": {
            "application/javascript": [
              "window[\"66c7183e-5ac6-11ea-b93d-0242ac1c0002\"] = document.querySelector(\"#id18-23-1\");\n",
              "//# sourceURL=js_98e9335b7f"
            ],
            "text/plain": [
              "<IPython.core.display.Javascript object>"
            ]
          },
          "metadata": {
            "tags": [
              "id18-23-1",
              "outputarea_id18"
            ]
          }
        },
        {
          "output_type": "display_data",
          "data": {
            "application/javascript": [
              "window[\"66c76a1e-5ac6-11ea-b93d-0242ac1c0002\"] = google.colab.output.setActiveOutputArea(window[\"66c7183e-5ac6-11ea-b93d-0242ac1c0002\"]);\n",
              "//# sourceURL=js_651c6f6951"
            ],
            "text/plain": [
              "<IPython.core.display.Javascript object>"
            ]
          },
          "metadata": {
            "tags": [
              "id18-23-1",
              "outputarea_id18"
            ]
          }
        },
        {
          "output_type": "stream",
          "text": [
            "Hard disk drive\n",
            "\n"
          ],
          "name": "stdout"
        },
        {
          "output_type": "display_data",
          "data": {
            "application/javascript": [
              "window[\"66c8af6e-5ac6-11ea-b93d-0242ac1c0002\"] = google.colab.output.setActiveOutputArea(window[\"66c6aab6-5ac6-11ea-b93d-0242ac1c0002\"]);\n",
              "//# sourceURL=js_bdb09db94d"
            ],
            "text/plain": [
              "<IPython.core.display.Javascript object>"
            ]
          },
          "metadata": {
            "tags": [
              "id18-23-1",
              "outputarea_id18"
            ]
          }
        },
        {
          "output_type": "display_data",
          "data": {
            "application/javascript": [
              "window[\"66ca7268-5ac6-11ea-b93d-0242ac1c0002\"] = google.colab.output.getActiveOutputArea();\n",
              "//# sourceURL=js_3064f0dec2"
            ],
            "text/plain": [
              "<IPython.core.display.Javascript object>"
            ]
          },
          "metadata": {
            "tags": [
              "id18-23-2",
              "outputarea_id18"
            ]
          }
        },
        {
          "output_type": "display_data",
          "data": {
            "application/javascript": [
              "window[\"66caf0b2-5ac6-11ea-b93d-0242ac1c0002\"] = document.querySelector(\"#id18-23-2\");\n",
              "//# sourceURL=js_3bf50f4c5f"
            ],
            "text/plain": [
              "<IPython.core.display.Javascript object>"
            ]
          },
          "metadata": {
            "tags": [
              "id18-23-2",
              "outputarea_id18"
            ]
          }
        },
        {
          "output_type": "display_data",
          "data": {
            "application/javascript": [
              "window[\"66cb5be2-5ac6-11ea-b93d-0242ac1c0002\"] = google.colab.output.setActiveOutputArea(window[\"66caf0b2-5ac6-11ea-b93d-0242ac1c0002\"]);\n",
              "//# sourceURL=js_68af68829e"
            ],
            "text/plain": [
              "<IPython.core.display.Javascript object>"
            ]
          },
          "metadata": {
            "tags": [
              "id18-23-2",
              "outputarea_id18"
            ]
          }
        },
        {
          "output_type": "stream",
          "text": [
            "https://patents.google.com/patent/US7667925B2\n"
          ],
          "name": "stdout"
        },
        {
          "output_type": "display_data",
          "data": {
            "application/javascript": [
              "window[\"66cca3e4-5ac6-11ea-b93d-0242ac1c0002\"] = google.colab.output.setActiveOutputArea(window[\"66ca7268-5ac6-11ea-b93d-0242ac1c0002\"]);\n",
              "//# sourceURL=js_3bfc982a1c"
            ],
            "text/plain": [
              "<IPython.core.display.Javascript object>"
            ]
          },
          "metadata": {
            "tags": [
              "id18-23-2",
              "outputarea_id18"
            ]
          }
        },
        {
          "output_type": "display_data",
          "data": {
            "application/javascript": [
              "window[\"66ce78ae-5ac6-11ea-b93d-0242ac1c0002\"] = google.colab.output.getActiveOutputArea();\n",
              "//# sourceURL=js_23a6ae78a7"
            ],
            "text/plain": [
              "<IPython.core.display.Javascript object>"
            ]
          },
          "metadata": {
            "tags": [
              "id18-23-3",
              "outputarea_id18"
            ]
          }
        },
        {
          "output_type": "display_data",
          "data": {
            "application/javascript": [
              "window[\"66cee5fa-5ac6-11ea-b93d-0242ac1c0002\"] = document.querySelector(\"#id18-23-3\");\n",
              "//# sourceURL=js_f39762921e"
            ],
            "text/plain": [
              "<IPython.core.display.Javascript object>"
            ]
          },
          "metadata": {
            "tags": [
              "id18-23-3",
              "outputarea_id18"
            ]
          }
        },
        {
          "output_type": "display_data",
          "data": {
            "application/javascript": [
              "window[\"66cf3712-5ac6-11ea-b93d-0242ac1c0002\"] = google.colab.output.setActiveOutputArea(window[\"66cee5fa-5ac6-11ea-b93d-0242ac1c0002\"]);\n",
              "//# sourceURL=js_3a503f8048"
            ],
            "text/plain": [
              "<IPython.core.display.Javascript object>"
            ]
          },
          "metadata": {
            "tags": [
              "id18-23-3",
              "outputarea_id18"
            ]
          }
        },
        {
          "output_type": "stream",
          "text": [
            "0.35134262\n"
          ],
          "name": "stdout"
        },
        {
          "output_type": "display_data",
          "data": {
            "application/javascript": [
              "window[\"66d01de4-5ac6-11ea-b93d-0242ac1c0002\"] = google.colab.output.setActiveOutputArea(window[\"66ce78ae-5ac6-11ea-b93d-0242ac1c0002\"]);\n",
              "//# sourceURL=js_2815ca3ba7"
            ],
            "text/plain": [
              "<IPython.core.display.Javascript object>"
            ]
          },
          "metadata": {
            "tags": [
              "id18-23-3",
              "outputarea_id18"
            ]
          }
        },
        {
          "output_type": "display_data",
          "data": {
            "application/javascript": [
              "window[\"66d22666-5ac6-11ea-b93d-0242ac1c0002\"] = google.colab.output.getActiveOutputArea();\n",
              "//# sourceURL=js_e9876e3ecc"
            ],
            "text/plain": [
              "<IPython.core.display.Javascript object>"
            ]
          },
          "metadata": {
            "tags": [
              "id18-24-0",
              "outputarea_id18"
            ]
          }
        },
        {
          "output_type": "display_data",
          "data": {
            "application/javascript": [
              "window[\"66d28f02-5ac6-11ea-b93d-0242ac1c0002\"] = document.querySelector(\"#id18-24-0\");\n",
              "//# sourceURL=js_82b712eff9"
            ],
            "text/plain": [
              "<IPython.core.display.Javascript object>"
            ]
          },
          "metadata": {
            "tags": [
              "id18-24-0",
              "outputarea_id18"
            ]
          }
        },
        {
          "output_type": "display_data",
          "data": {
            "application/javascript": [
              "window[\"66d2f190-5ac6-11ea-b93d-0242ac1c0002\"] = google.colab.output.setActiveOutputArea(window[\"66d28f02-5ac6-11ea-b93d-0242ac1c0002\"]);\n",
              "//# sourceURL=js_ff03d914be"
            ],
            "text/plain": [
              "<IPython.core.display.Javascript object>"
            ]
          },
          "metadata": {
            "tags": [
              "id18-24-0",
              "outputarea_id18"
            ]
          }
        },
        {
          "output_type": "stream",
          "text": [
            "24\n"
          ],
          "name": "stdout"
        },
        {
          "output_type": "display_data",
          "data": {
            "application/javascript": [
              "window[\"66d4353c-5ac6-11ea-b93d-0242ac1c0002\"] = google.colab.output.setActiveOutputArea(window[\"66d22666-5ac6-11ea-b93d-0242ac1c0002\"]);\n",
              "//# sourceURL=js_3720259fa6"
            ],
            "text/plain": [
              "<IPython.core.display.Javascript object>"
            ]
          },
          "metadata": {
            "tags": [
              "id18-24-0",
              "outputarea_id18"
            ]
          }
        },
        {
          "output_type": "display_data",
          "data": {
            "application/javascript": [
              "window[\"66d5a854-5ac6-11ea-b93d-0242ac1c0002\"] = google.colab.output.getActiveOutputArea();\n",
              "//# sourceURL=js_f42453692e"
            ],
            "text/plain": [
              "<IPython.core.display.Javascript object>"
            ]
          },
          "metadata": {
            "tags": [
              "id18-24-1",
              "outputarea_id18"
            ]
          }
        },
        {
          "output_type": "display_data",
          "data": {
            "application/javascript": [
              "window[\"66d5dee6-5ac6-11ea-b93d-0242ac1c0002\"] = document.querySelector(\"#id18-24-1\");\n",
              "//# sourceURL=js_0ed0e80f1c"
            ],
            "text/plain": [
              "<IPython.core.display.Javascript object>"
            ]
          },
          "metadata": {
            "tags": [
              "id18-24-1",
              "outputarea_id18"
            ]
          }
        },
        {
          "output_type": "display_data",
          "data": {
            "application/javascript": [
              "window[\"66d63314-5ac6-11ea-b93d-0242ac1c0002\"] = google.colab.output.setActiveOutputArea(window[\"66d5dee6-5ac6-11ea-b93d-0242ac1c0002\"]);\n",
              "//# sourceURL=js_031b009a58"
            ],
            "text/plain": [
              "<IPython.core.display.Javascript object>"
            ]
          },
          "metadata": {
            "tags": [
              "id18-24-1",
              "outputarea_id18"
            ]
          }
        },
        {
          "output_type": "stream",
          "text": [
            "Folding digital scale\n",
            "\n"
          ],
          "name": "stdout"
        },
        {
          "output_type": "display_data",
          "data": {
            "application/javascript": [
              "window[\"66d8d0e2-5ac6-11ea-b93d-0242ac1c0002\"] = google.colab.output.setActiveOutputArea(window[\"66d5a854-5ac6-11ea-b93d-0242ac1c0002\"]);\n",
              "//# sourceURL=js_3e27392c51"
            ],
            "text/plain": [
              "<IPython.core.display.Javascript object>"
            ]
          },
          "metadata": {
            "tags": [
              "id18-24-1",
              "outputarea_id18"
            ]
          }
        },
        {
          "output_type": "display_data",
          "data": {
            "application/javascript": [
              "window[\"66daa6d8-5ac6-11ea-b93d-0242ac1c0002\"] = google.colab.output.getActiveOutputArea();\n",
              "//# sourceURL=js_c1b8a74f0f"
            ],
            "text/plain": [
              "<IPython.core.display.Javascript object>"
            ]
          },
          "metadata": {
            "tags": [
              "id18-24-2",
              "outputarea_id18"
            ]
          }
        },
        {
          "output_type": "display_data",
          "data": {
            "application/javascript": [
              "window[\"66daf548-5ac6-11ea-b93d-0242ac1c0002\"] = document.querySelector(\"#id18-24-2\");\n",
              "//# sourceURL=js_ce200b8755"
            ],
            "text/plain": [
              "<IPython.core.display.Javascript object>"
            ]
          },
          "metadata": {
            "tags": [
              "id18-24-2",
              "outputarea_id18"
            ]
          }
        },
        {
          "output_type": "display_data",
          "data": {
            "application/javascript": [
              "window[\"66db520e-5ac6-11ea-b93d-0242ac1c0002\"] = google.colab.output.setActiveOutputArea(window[\"66daf548-5ac6-11ea-b93d-0242ac1c0002\"]);\n",
              "//# sourceURL=js_b2ecdc4360"
            ],
            "text/plain": [
              "<IPython.core.display.Javascript object>"
            ]
          },
          "metadata": {
            "tags": [
              "id18-24-2",
              "outputarea_id18"
            ]
          }
        },
        {
          "output_type": "stream",
          "text": [
            "https://patents.google.com/patent/US7047827B1\n"
          ],
          "name": "stdout"
        },
        {
          "output_type": "display_data",
          "data": {
            "application/javascript": [
              "window[\"66dc9ace-5ac6-11ea-b93d-0242ac1c0002\"] = google.colab.output.setActiveOutputArea(window[\"66daa6d8-5ac6-11ea-b93d-0242ac1c0002\"]);\n",
              "//# sourceURL=js_3825b82bc8"
            ],
            "text/plain": [
              "<IPython.core.display.Javascript object>"
            ]
          },
          "metadata": {
            "tags": [
              "id18-24-2",
              "outputarea_id18"
            ]
          }
        },
        {
          "output_type": "display_data",
          "data": {
            "application/javascript": [
              "window[\"66de77e0-5ac6-11ea-b93d-0242ac1c0002\"] = google.colab.output.getActiveOutputArea();\n",
              "//# sourceURL=js_5899bd4cff"
            ],
            "text/plain": [
              "<IPython.core.display.Javascript object>"
            ]
          },
          "metadata": {
            "tags": [
              "id18-24-3",
              "outputarea_id18"
            ]
          }
        },
        {
          "output_type": "display_data",
          "data": {
            "application/javascript": [
              "window[\"66ded758-5ac6-11ea-b93d-0242ac1c0002\"] = document.querySelector(\"#id18-24-3\");\n",
              "//# sourceURL=js_f5b21825d1"
            ],
            "text/plain": [
              "<IPython.core.display.Javascript object>"
            ]
          },
          "metadata": {
            "tags": [
              "id18-24-3",
              "outputarea_id18"
            ]
          }
        },
        {
          "output_type": "display_data",
          "data": {
            "application/javascript": [
              "window[\"66df302c-5ac6-11ea-b93d-0242ac1c0002\"] = google.colab.output.setActiveOutputArea(window[\"66ded758-5ac6-11ea-b93d-0242ac1c0002\"]);\n",
              "//# sourceURL=js_f3fc6eb2b9"
            ],
            "text/plain": [
              "<IPython.core.display.Javascript object>"
            ]
          },
          "metadata": {
            "tags": [
              "id18-24-3",
              "outputarea_id18"
            ]
          }
        },
        {
          "output_type": "stream",
          "text": [
            "0.35181308\n"
          ],
          "name": "stdout"
        },
        {
          "output_type": "display_data",
          "data": {
            "application/javascript": [
              "window[\"66e07446-5ac6-11ea-b93d-0242ac1c0002\"] = google.colab.output.setActiveOutputArea(window[\"66de77e0-5ac6-11ea-b93d-0242ac1c0002\"]);\n",
              "//# sourceURL=js_50a1b76f9f"
            ],
            "text/plain": [
              "<IPython.core.display.Javascript object>"
            ]
          },
          "metadata": {
            "tags": [
              "id18-24-3",
              "outputarea_id18"
            ]
          }
        },
        {
          "output_type": "display_data",
          "data": {
            "application/javascript": [
              "window[\"66e23466-5ac6-11ea-b93d-0242ac1c0002\"] = google.colab.output.getActiveOutputArea();\n",
              "//# sourceURL=js_9ffe5ee8e1"
            ],
            "text/plain": [
              "<IPython.core.display.Javascript object>"
            ]
          },
          "metadata": {
            "tags": [
              "id18-25-0",
              "outputarea_id18"
            ]
          }
        },
        {
          "output_type": "display_data",
          "data": {
            "application/javascript": [
              "window[\"66e28ee8-5ac6-11ea-b93d-0242ac1c0002\"] = document.querySelector(\"#id18-25-0\");\n",
              "//# sourceURL=js_b8989fa953"
            ],
            "text/plain": [
              "<IPython.core.display.Javascript object>"
            ]
          },
          "metadata": {
            "tags": [
              "id18-25-0",
              "outputarea_id18"
            ]
          }
        },
        {
          "output_type": "display_data",
          "data": {
            "application/javascript": [
              "window[\"66e2e758-5ac6-11ea-b93d-0242ac1c0002\"] = google.colab.output.setActiveOutputArea(window[\"66e28ee8-5ac6-11ea-b93d-0242ac1c0002\"]);\n",
              "//# sourceURL=js_624ad149ce"
            ],
            "text/plain": [
              "<IPython.core.display.Javascript object>"
            ]
          },
          "metadata": {
            "tags": [
              "id18-25-0",
              "outputarea_id18"
            ]
          }
        },
        {
          "output_type": "stream",
          "text": [
            "25\n"
          ],
          "name": "stdout"
        },
        {
          "output_type": "display_data",
          "data": {
            "application/javascript": [
              "window[\"66e41fb0-5ac6-11ea-b93d-0242ac1c0002\"] = google.colab.output.setActiveOutputArea(window[\"66e23466-5ac6-11ea-b93d-0242ac1c0002\"]);\n",
              "//# sourceURL=js_c88baa1829"
            ],
            "text/plain": [
              "<IPython.core.display.Javascript object>"
            ]
          },
          "metadata": {
            "tags": [
              "id18-25-0",
              "outputarea_id18"
            ]
          }
        },
        {
          "output_type": "display_data",
          "data": {
            "application/javascript": [
              "window[\"66e6008c-5ac6-11ea-b93d-0242ac1c0002\"] = google.colab.output.getActiveOutputArea();\n",
              "//# sourceURL=js_da866f2b9e"
            ],
            "text/plain": [
              "<IPython.core.display.Javascript object>"
            ]
          },
          "metadata": {
            "tags": [
              "id18-25-1",
              "outputarea_id18"
            ]
          }
        },
        {
          "output_type": "display_data",
          "data": {
            "application/javascript": [
              "window[\"66e66568-5ac6-11ea-b93d-0242ac1c0002\"] = document.querySelector(\"#id18-25-1\");\n",
              "//# sourceURL=js_6821542a37"
            ],
            "text/plain": [
              "<IPython.core.display.Javascript object>"
            ]
          },
          "metadata": {
            "tags": [
              "id18-25-1",
              "outputarea_id18"
            ]
          }
        },
        {
          "output_type": "display_data",
          "data": {
            "application/javascript": [
              "window[\"66e6b8a6-5ac6-11ea-b93d-0242ac1c0002\"] = google.colab.output.setActiveOutputArea(window[\"66e66568-5ac6-11ea-b93d-0242ac1c0002\"]);\n",
              "//# sourceURL=js_cf2ceab406"
            ],
            "text/plain": [
              "<IPython.core.display.Javascript object>"
            ]
          },
          "metadata": {
            "tags": [
              "id18-25-1",
              "outputarea_id18"
            ]
          }
        },
        {
          "output_type": "stream",
          "text": [
            "Bearing with integrated rotation sensor\n",
            "\n"
          ],
          "name": "stdout"
        },
        {
          "output_type": "display_data",
          "data": {
            "application/javascript": [
              "window[\"66e810ac-5ac6-11ea-b93d-0242ac1c0002\"] = google.colab.output.setActiveOutputArea(window[\"66e6008c-5ac6-11ea-b93d-0242ac1c0002\"]);\n",
              "//# sourceURL=js_c7aa98239c"
            ],
            "text/plain": [
              "<IPython.core.display.Javascript object>"
            ]
          },
          "metadata": {
            "tags": [
              "id18-25-1",
              "outputarea_id18"
            ]
          }
        },
        {
          "output_type": "display_data",
          "data": {
            "application/javascript": [
              "window[\"66e9d126-5ac6-11ea-b93d-0242ac1c0002\"] = google.colab.output.getActiveOutputArea();\n",
              "//# sourceURL=js_9adf3392c1"
            ],
            "text/plain": [
              "<IPython.core.display.Javascript object>"
            ]
          },
          "metadata": {
            "tags": [
              "id18-25-2",
              "outputarea_id18"
            ]
          }
        },
        {
          "output_type": "display_data",
          "data": {
            "application/javascript": [
              "window[\"66ea3364-5ac6-11ea-b93d-0242ac1c0002\"] = document.querySelector(\"#id18-25-2\");\n",
              "//# sourceURL=js_3bf972a630"
            ],
            "text/plain": [
              "<IPython.core.display.Javascript object>"
            ]
          },
          "metadata": {
            "tags": [
              "id18-25-2",
              "outputarea_id18"
            ]
          }
        },
        {
          "output_type": "display_data",
          "data": {
            "application/javascript": [
              "window[\"66eaa204-5ac6-11ea-b93d-0242ac1c0002\"] = google.colab.output.setActiveOutputArea(window[\"66ea3364-5ac6-11ea-b93d-0242ac1c0002\"]);\n",
              "//# sourceURL=js_85a0108e87"
            ],
            "text/plain": [
              "<IPython.core.display.Javascript object>"
            ]
          },
          "metadata": {
            "tags": [
              "id18-25-2",
              "outputarea_id18"
            ]
          }
        },
        {
          "output_type": "stream",
          "text": [
            "https://patents.google.com/patent/US7307414B2\n"
          ],
          "name": "stdout"
        },
        {
          "output_type": "display_data",
          "data": {
            "application/javascript": [
              "window[\"66ebe5ba-5ac6-11ea-b93d-0242ac1c0002\"] = google.colab.output.setActiveOutputArea(window[\"66e9d126-5ac6-11ea-b93d-0242ac1c0002\"]);\n",
              "//# sourceURL=js_8aafc035cd"
            ],
            "text/plain": [
              "<IPython.core.display.Javascript object>"
            ]
          },
          "metadata": {
            "tags": [
              "id18-25-2",
              "outputarea_id18"
            ]
          }
        },
        {
          "output_type": "display_data",
          "data": {
            "application/javascript": [
              "window[\"66edae22-5ac6-11ea-b93d-0242ac1c0002\"] = google.colab.output.getActiveOutputArea();\n",
              "//# sourceURL=js_3ef327e6a9"
            ],
            "text/plain": [
              "<IPython.core.display.Javascript object>"
            ]
          },
          "metadata": {
            "tags": [
              "id18-25-3",
              "outputarea_id18"
            ]
          }
        },
        {
          "output_type": "display_data",
          "data": {
            "application/javascript": [
              "window[\"66ee04ee-5ac6-11ea-b93d-0242ac1c0002\"] = document.querySelector(\"#id18-25-3\");\n",
              "//# sourceURL=js_61ceed1afa"
            ],
            "text/plain": [
              "<IPython.core.display.Javascript object>"
            ]
          },
          "metadata": {
            "tags": [
              "id18-25-3",
              "outputarea_id18"
            ]
          }
        },
        {
          "output_type": "display_data",
          "data": {
            "application/javascript": [
              "window[\"66ee8144-5ac6-11ea-b93d-0242ac1c0002\"] = google.colab.output.setActiveOutputArea(window[\"66ee04ee-5ac6-11ea-b93d-0242ac1c0002\"]);\n",
              "//# sourceURL=js_530eec9472"
            ],
            "text/plain": [
              "<IPython.core.display.Javascript object>"
            ]
          },
          "metadata": {
            "tags": [
              "id18-25-3",
              "outputarea_id18"
            ]
          }
        },
        {
          "output_type": "stream",
          "text": [
            "0.35232183\n"
          ],
          "name": "stdout"
        },
        {
          "output_type": "display_data",
          "data": {
            "application/javascript": [
              "window[\"66efc0a4-5ac6-11ea-b93d-0242ac1c0002\"] = google.colab.output.setActiveOutputArea(window[\"66edae22-5ac6-11ea-b93d-0242ac1c0002\"]);\n",
              "//# sourceURL=js_ea04d3b0e4"
            ],
            "text/plain": [
              "<IPython.core.display.Javascript object>"
            ]
          },
          "metadata": {
            "tags": [
              "id18-25-3",
              "outputarea_id18"
            ]
          }
        },
        {
          "output_type": "display_data",
          "data": {
            "application/javascript": [
              "window[\"66f1b40e-5ac6-11ea-b93d-0242ac1c0002\"] = google.colab.output.getActiveOutputArea();\n",
              "//# sourceURL=js_24646f4c01"
            ],
            "text/plain": [
              "<IPython.core.display.Javascript object>"
            ]
          },
          "metadata": {
            "tags": [
              "id18-26-0",
              "outputarea_id18"
            ]
          }
        },
        {
          "output_type": "display_data",
          "data": {
            "application/javascript": [
              "window[\"66f218a4-5ac6-11ea-b93d-0242ac1c0002\"] = document.querySelector(\"#id18-26-0\");\n",
              "//# sourceURL=js_5eac709f4a"
            ],
            "text/plain": [
              "<IPython.core.display.Javascript object>"
            ]
          },
          "metadata": {
            "tags": [
              "id18-26-0",
              "outputarea_id18"
            ]
          }
        },
        {
          "output_type": "display_data",
          "data": {
            "application/javascript": [
              "window[\"66f26ba6-5ac6-11ea-b93d-0242ac1c0002\"] = google.colab.output.setActiveOutputArea(window[\"66f218a4-5ac6-11ea-b93d-0242ac1c0002\"]);\n",
              "//# sourceURL=js_ab7a583d2f"
            ],
            "text/plain": [
              "<IPython.core.display.Javascript object>"
            ]
          },
          "metadata": {
            "tags": [
              "id18-26-0",
              "outputarea_id18"
            ]
          }
        },
        {
          "output_type": "stream",
          "text": [
            "26\n"
          ],
          "name": "stdout"
        },
        {
          "output_type": "display_data",
          "data": {
            "application/javascript": [
              "window[\"66f3c924-5ac6-11ea-b93d-0242ac1c0002\"] = google.colab.output.setActiveOutputArea(window[\"66f1b40e-5ac6-11ea-b93d-0242ac1c0002\"]);\n",
              "//# sourceURL=js_62b955cdf4"
            ],
            "text/plain": [
              "<IPython.core.display.Javascript object>"
            ]
          },
          "metadata": {
            "tags": [
              "id18-26-0",
              "outputarea_id18"
            ]
          }
        },
        {
          "output_type": "display_data",
          "data": {
            "application/javascript": [
              "window[\"66f5b5cc-5ac6-11ea-b93d-0242ac1c0002\"] = google.colab.output.getActiveOutputArea();\n",
              "//# sourceURL=js_e90a82647d"
            ],
            "text/plain": [
              "<IPython.core.display.Javascript object>"
            ]
          },
          "metadata": {
            "tags": [
              "id18-26-1",
              "outputarea_id18"
            ]
          }
        },
        {
          "output_type": "display_data",
          "data": {
            "application/javascript": [
              "window[\"66f60da6-5ac6-11ea-b93d-0242ac1c0002\"] = document.querySelector(\"#id18-26-1\");\n",
              "//# sourceURL=js_c0f026d56a"
            ],
            "text/plain": [
              "<IPython.core.display.Javascript object>"
            ]
          },
          "metadata": {
            "tags": [
              "id18-26-1",
              "outputarea_id18"
            ]
          }
        },
        {
          "output_type": "display_data",
          "data": {
            "application/javascript": [
              "window[\"66f66daa-5ac6-11ea-b93d-0242ac1c0002\"] = google.colab.output.setActiveOutputArea(window[\"66f60da6-5ac6-11ea-b93d-0242ac1c0002\"]);\n",
              "//# sourceURL=js_849e099dde"
            ],
            "text/plain": [
              "<IPython.core.display.Javascript object>"
            ]
          },
          "metadata": {
            "tags": [
              "id18-26-1",
              "outputarea_id18"
            ]
          }
        },
        {
          "output_type": "stream",
          "text": [
            "Lens driving module\n",
            "\n"
          ],
          "name": "stdout"
        },
        {
          "output_type": "display_data",
          "data": {
            "application/javascript": [
              "window[\"66f7c1d2-5ac6-11ea-b93d-0242ac1c0002\"] = google.colab.output.setActiveOutputArea(window[\"66f5b5cc-5ac6-11ea-b93d-0242ac1c0002\"]);\n",
              "//# sourceURL=js_e8718f0e65"
            ],
            "text/plain": [
              "<IPython.core.display.Javascript object>"
            ]
          },
          "metadata": {
            "tags": [
              "id18-26-1",
              "outputarea_id18"
            ]
          }
        },
        {
          "output_type": "display_data",
          "data": {
            "application/javascript": [
              "window[\"66f97702-5ac6-11ea-b93d-0242ac1c0002\"] = google.colab.output.getActiveOutputArea();\n",
              "//# sourceURL=js_af82cffae6"
            ],
            "text/plain": [
              "<IPython.core.display.Javascript object>"
            ]
          },
          "metadata": {
            "tags": [
              "id18-26-2",
              "outputarea_id18"
            ]
          }
        },
        {
          "output_type": "display_data",
          "data": {
            "application/javascript": [
              "window[\"66f9da4e-5ac6-11ea-b93d-0242ac1c0002\"] = document.querySelector(\"#id18-26-2\");\n",
              "//# sourceURL=js_9c84de6782"
            ],
            "text/plain": [
              "<IPython.core.display.Javascript object>"
            ]
          },
          "metadata": {
            "tags": [
              "id18-26-2",
              "outputarea_id18"
            ]
          }
        },
        {
          "output_type": "display_data",
          "data": {
            "application/javascript": [
              "window[\"66fa3db8-5ac6-11ea-b93d-0242ac1c0002\"] = google.colab.output.setActiveOutputArea(window[\"66f9da4e-5ac6-11ea-b93d-0242ac1c0002\"]);\n",
              "//# sourceURL=js_0622a57a63"
            ],
            "text/plain": [
              "<IPython.core.display.Javascript object>"
            ]
          },
          "metadata": {
            "tags": [
              "id18-26-2",
              "outputarea_id18"
            ]
          }
        },
        {
          "output_type": "stream",
          "text": [
            "https://patents.google.com/patent/US7839586B2\n"
          ],
          "name": "stdout"
        },
        {
          "output_type": "display_data",
          "data": {
            "application/javascript": [
              "window[\"66fb89fc-5ac6-11ea-b93d-0242ac1c0002\"] = google.colab.output.setActiveOutputArea(window[\"66f97702-5ac6-11ea-b93d-0242ac1c0002\"]);\n",
              "//# sourceURL=js_e66f1f8dcd"
            ],
            "text/plain": [
              "<IPython.core.display.Javascript object>"
            ]
          },
          "metadata": {
            "tags": [
              "id18-26-2",
              "outputarea_id18"
            ]
          }
        },
        {
          "output_type": "display_data",
          "data": {
            "application/javascript": [
              "window[\"66fd698e-5ac6-11ea-b93d-0242ac1c0002\"] = google.colab.output.getActiveOutputArea();\n",
              "//# sourceURL=js_381d7ad442"
            ],
            "text/plain": [
              "<IPython.core.display.Javascript object>"
            ]
          },
          "metadata": {
            "tags": [
              "id18-26-3",
              "outputarea_id18"
            ]
          }
        },
        {
          "output_type": "display_data",
          "data": {
            "application/javascript": [
              "window[\"66fdbeb6-5ac6-11ea-b93d-0242ac1c0002\"] = document.querySelector(\"#id18-26-3\");\n",
              "//# sourceURL=js_9e7fcbb920"
            ],
            "text/plain": [
              "<IPython.core.display.Javascript object>"
            ]
          },
          "metadata": {
            "tags": [
              "id18-26-3",
              "outputarea_id18"
            ]
          }
        },
        {
          "output_type": "display_data",
          "data": {
            "application/javascript": [
              "window[\"66fe1c58-5ac6-11ea-b93d-0242ac1c0002\"] = google.colab.output.setActiveOutputArea(window[\"66fdbeb6-5ac6-11ea-b93d-0242ac1c0002\"]);\n",
              "//# sourceURL=js_92fdfbfc92"
            ],
            "text/plain": [
              "<IPython.core.display.Javascript object>"
            ]
          },
          "metadata": {
            "tags": [
              "id18-26-3",
              "outputarea_id18"
            ]
          }
        },
        {
          "output_type": "stream",
          "text": [
            "0.35400125\n"
          ],
          "name": "stdout"
        },
        {
          "output_type": "display_data",
          "data": {
            "application/javascript": [
              "window[\"66ff5622-5ac6-11ea-b93d-0242ac1c0002\"] = google.colab.output.setActiveOutputArea(window[\"66fd698e-5ac6-11ea-b93d-0242ac1c0002\"]);\n",
              "//# sourceURL=js_187e1c7650"
            ],
            "text/plain": [
              "<IPython.core.display.Javascript object>"
            ]
          },
          "metadata": {
            "tags": [
              "id18-26-3",
              "outputarea_id18"
            ]
          }
        },
        {
          "output_type": "display_data",
          "data": {
            "application/javascript": [
              "window[\"67013154-5ac6-11ea-b93d-0242ac1c0002\"] = google.colab.output.getActiveOutputArea();\n",
              "//# sourceURL=js_8a7ffdbee4"
            ],
            "text/plain": [
              "<IPython.core.display.Javascript object>"
            ]
          },
          "metadata": {
            "tags": [
              "id18-27-0",
              "outputarea_id18"
            ]
          }
        },
        {
          "output_type": "display_data",
          "data": {
            "application/javascript": [
              "window[\"6701916c-5ac6-11ea-b93d-0242ac1c0002\"] = document.querySelector(\"#id18-27-0\");\n",
              "//# sourceURL=js_5df04c0978"
            ],
            "text/plain": [
              "<IPython.core.display.Javascript object>"
            ]
          },
          "metadata": {
            "tags": [
              "id18-27-0",
              "outputarea_id18"
            ]
          }
        },
        {
          "output_type": "display_data",
          "data": {
            "application/javascript": [
              "window[\"6701f51c-5ac6-11ea-b93d-0242ac1c0002\"] = google.colab.output.setActiveOutputArea(window[\"6701916c-5ac6-11ea-b93d-0242ac1c0002\"]);\n",
              "//# sourceURL=js_24d9e95df4"
            ],
            "text/plain": [
              "<IPython.core.display.Javascript object>"
            ]
          },
          "metadata": {
            "tags": [
              "id18-27-0",
              "outputarea_id18"
            ]
          }
        },
        {
          "output_type": "stream",
          "text": [
            "27\n"
          ],
          "name": "stdout"
        },
        {
          "output_type": "display_data",
          "data": {
            "application/javascript": [
              "window[\"67035f06-5ac6-11ea-b93d-0242ac1c0002\"] = google.colab.output.setActiveOutputArea(window[\"67013154-5ac6-11ea-b93d-0242ac1c0002\"]);\n",
              "//# sourceURL=js_1d34d81644"
            ],
            "text/plain": [
              "<IPython.core.display.Javascript object>"
            ]
          },
          "metadata": {
            "tags": [
              "id18-27-0",
              "outputarea_id18"
            ]
          }
        },
        {
          "output_type": "display_data",
          "data": {
            "application/javascript": [
              "window[\"67051d14-5ac6-11ea-b93d-0242ac1c0002\"] = google.colab.output.getActiveOutputArea();\n",
              "//# sourceURL=js_9a1a344a2e"
            ],
            "text/plain": [
              "<IPython.core.display.Javascript object>"
            ]
          },
          "metadata": {
            "tags": [
              "id18-27-1",
              "outputarea_id18"
            ]
          }
        },
        {
          "output_type": "display_data",
          "data": {
            "application/javascript": [
              "window[\"6705901e-5ac6-11ea-b93d-0242ac1c0002\"] = document.querySelector(\"#id18-27-1\");\n",
              "//# sourceURL=js_cb68b8a291"
            ],
            "text/plain": [
              "<IPython.core.display.Javascript object>"
            ]
          },
          "metadata": {
            "tags": [
              "id18-27-1",
              "outputarea_id18"
            ]
          }
        },
        {
          "output_type": "display_data",
          "data": {
            "application/javascript": [
              "window[\"6705f27a-5ac6-11ea-b93d-0242ac1c0002\"] = google.colab.output.setActiveOutputArea(window[\"6705901e-5ac6-11ea-b93d-0242ac1c0002\"]);\n",
              "//# sourceURL=js_a443aa6e08"
            ],
            "text/plain": [
              "<IPython.core.display.Javascript object>"
            ]
          },
          "metadata": {
            "tags": [
              "id18-27-1",
              "outputarea_id18"
            ]
          }
        },
        {
          "output_type": "stream",
          "text": [
            "Thin-film magnetic head for perpendicular magnetic recording and method of making the same\n",
            "\n"
          ],
          "name": "stdout"
        },
        {
          "output_type": "display_data",
          "data": {
            "application/javascript": [
              "window[\"67072cbc-5ac6-11ea-b93d-0242ac1c0002\"] = google.colab.output.setActiveOutputArea(window[\"67051d14-5ac6-11ea-b93d-0242ac1c0002\"]);\n",
              "//# sourceURL=js_f3de2fa82a"
            ],
            "text/plain": [
              "<IPython.core.display.Javascript object>"
            ]
          },
          "metadata": {
            "tags": [
              "id18-27-1",
              "outputarea_id18"
            ]
          }
        },
        {
          "output_type": "display_data",
          "data": {
            "application/javascript": [
              "window[\"67092418-5ac6-11ea-b93d-0242ac1c0002\"] = google.colab.output.getActiveOutputArea();\n",
              "//# sourceURL=js_7e5052824b"
            ],
            "text/plain": [
              "<IPython.core.display.Javascript object>"
            ]
          },
          "metadata": {
            "tags": [
              "id18-27-2",
              "outputarea_id18"
            ]
          }
        },
        {
          "output_type": "display_data",
          "data": {
            "application/javascript": [
              "window[\"67097030-5ac6-11ea-b93d-0242ac1c0002\"] = document.querySelector(\"#id18-27-2\");\n",
              "//# sourceURL=js_a1e9e9dd32"
            ],
            "text/plain": [
              "<IPython.core.display.Javascript object>"
            ]
          },
          "metadata": {
            "tags": [
              "id18-27-2",
              "outputarea_id18"
            ]
          }
        },
        {
          "output_type": "display_data",
          "data": {
            "application/javascript": [
              "window[\"6709e4b6-5ac6-11ea-b93d-0242ac1c0002\"] = google.colab.output.setActiveOutputArea(window[\"67097030-5ac6-11ea-b93d-0242ac1c0002\"]);\n",
              "//# sourceURL=js_9a4842d950"
            ],
            "text/plain": [
              "<IPython.core.display.Javascript object>"
            ]
          },
          "metadata": {
            "tags": [
              "id18-27-2",
              "outputarea_id18"
            ]
          }
        },
        {
          "output_type": "stream",
          "text": [
            "https://patents.google.com/patent/US8000064B2\n"
          ],
          "name": "stdout"
        },
        {
          "output_type": "display_data",
          "data": {
            "application/javascript": [
              "window[\"670b29c0-5ac6-11ea-b93d-0242ac1c0002\"] = google.colab.output.setActiveOutputArea(window[\"67092418-5ac6-11ea-b93d-0242ac1c0002\"]);\n",
              "//# sourceURL=js_3bec15efcd"
            ],
            "text/plain": [
              "<IPython.core.display.Javascript object>"
            ]
          },
          "metadata": {
            "tags": [
              "id18-27-2",
              "outputarea_id18"
            ]
          }
        },
        {
          "output_type": "display_data",
          "data": {
            "application/javascript": [
              "window[\"670d057e-5ac6-11ea-b93d-0242ac1c0002\"] = google.colab.output.getActiveOutputArea();\n",
              "//# sourceURL=js_57ea9be4f5"
            ],
            "text/plain": [
              "<IPython.core.display.Javascript object>"
            ]
          },
          "metadata": {
            "tags": [
              "id18-27-3",
              "outputarea_id18"
            ]
          }
        },
        {
          "output_type": "display_data",
          "data": {
            "application/javascript": [
              "window[\"670d6e38-5ac6-11ea-b93d-0242ac1c0002\"] = document.querySelector(\"#id18-27-3\");\n",
              "//# sourceURL=js_46a527dbd0"
            ],
            "text/plain": [
              "<IPython.core.display.Javascript object>"
            ]
          },
          "metadata": {
            "tags": [
              "id18-27-3",
              "outputarea_id18"
            ]
          }
        },
        {
          "output_type": "display_data",
          "data": {
            "application/javascript": [
              "window[\"670dce14-5ac6-11ea-b93d-0242ac1c0002\"] = google.colab.output.setActiveOutputArea(window[\"670d6e38-5ac6-11ea-b93d-0242ac1c0002\"]);\n",
              "//# sourceURL=js_edd888bc3a"
            ],
            "text/plain": [
              "<IPython.core.display.Javascript object>"
            ]
          },
          "metadata": {
            "tags": [
              "id18-27-3",
              "outputarea_id18"
            ]
          }
        },
        {
          "output_type": "stream",
          "text": [
            "0.3548255\n"
          ],
          "name": "stdout"
        },
        {
          "output_type": "display_data",
          "data": {
            "application/javascript": [
              "window[\"670f0fa4-5ac6-11ea-b93d-0242ac1c0002\"] = google.colab.output.setActiveOutputArea(window[\"670d057e-5ac6-11ea-b93d-0242ac1c0002\"]);\n",
              "//# sourceURL=js_b41c521bc9"
            ],
            "text/plain": [
              "<IPython.core.display.Javascript object>"
            ]
          },
          "metadata": {
            "tags": [
              "id18-27-3",
              "outputarea_id18"
            ]
          }
        },
        {
          "output_type": "display_data",
          "data": {
            "application/javascript": [
              "window[\"6710d870-5ac6-11ea-b93d-0242ac1c0002\"] = google.colab.output.getActiveOutputArea();\n",
              "//# sourceURL=js_85c632cf11"
            ],
            "text/plain": [
              "<IPython.core.display.Javascript object>"
            ]
          },
          "metadata": {
            "tags": [
              "id18-28-0",
              "outputarea_id18"
            ]
          }
        },
        {
          "output_type": "display_data",
          "data": {
            "application/javascript": [
              "window[\"671144ae-5ac6-11ea-b93d-0242ac1c0002\"] = document.querySelector(\"#id18-28-0\");\n",
              "//# sourceURL=js_52faabbf67"
            ],
            "text/plain": [
              "<IPython.core.display.Javascript object>"
            ]
          },
          "metadata": {
            "tags": [
              "id18-28-0",
              "outputarea_id18"
            ]
          }
        },
        {
          "output_type": "display_data",
          "data": {
            "application/javascript": [
              "window[\"6711af48-5ac6-11ea-b93d-0242ac1c0002\"] = google.colab.output.setActiveOutputArea(window[\"671144ae-5ac6-11ea-b93d-0242ac1c0002\"]);\n",
              "//# sourceURL=js_20e75f2817"
            ],
            "text/plain": [
              "<IPython.core.display.Javascript object>"
            ]
          },
          "metadata": {
            "tags": [
              "id18-28-0",
              "outputarea_id18"
            ]
          }
        },
        {
          "output_type": "stream",
          "text": [
            "28\n"
          ],
          "name": "stdout"
        },
        {
          "output_type": "display_data",
          "data": {
            "application/javascript": [
              "window[\"6712d670-5ac6-11ea-b93d-0242ac1c0002\"] = google.colab.output.setActiveOutputArea(window[\"6710d870-5ac6-11ea-b93d-0242ac1c0002\"]);\n",
              "//# sourceURL=js_9ab9ead40c"
            ],
            "text/plain": [
              "<IPython.core.display.Javascript object>"
            ]
          },
          "metadata": {
            "tags": [
              "id18-28-0",
              "outputarea_id18"
            ]
          }
        },
        {
          "output_type": "display_data",
          "data": {
            "application/javascript": [
              "window[\"6714caca-5ac6-11ea-b93d-0242ac1c0002\"] = google.colab.output.getActiveOutputArea();\n",
              "//# sourceURL=js_d46e83f92c"
            ],
            "text/plain": [
              "<IPython.core.display.Javascript object>"
            ]
          },
          "metadata": {
            "tags": [
              "id18-28-1",
              "outputarea_id18"
            ]
          }
        },
        {
          "output_type": "display_data",
          "data": {
            "application/javascript": [
              "window[\"6715385c-5ac6-11ea-b93d-0242ac1c0002\"] = document.querySelector(\"#id18-28-1\");\n",
              "//# sourceURL=js_b341af9aad"
            ],
            "text/plain": [
              "<IPython.core.display.Javascript object>"
            ]
          },
          "metadata": {
            "tags": [
              "id18-28-1",
              "outputarea_id18"
            ]
          }
        },
        {
          "output_type": "display_data",
          "data": {
            "application/javascript": [
              "window[\"67159eaa-5ac6-11ea-b93d-0242ac1c0002\"] = google.colab.output.setActiveOutputArea(window[\"6715385c-5ac6-11ea-b93d-0242ac1c0002\"]);\n",
              "//# sourceURL=js_cdb31c61ee"
            ],
            "text/plain": [
              "<IPython.core.display.Javascript object>"
            ]
          },
          "metadata": {
            "tags": [
              "id18-28-1",
              "outputarea_id18"
            ]
          }
        },
        {
          "output_type": "stream",
          "text": [
            "Magnetic display device\n",
            "\n"
          ],
          "name": "stdout"
        },
        {
          "output_type": "display_data",
          "data": {
            "application/javascript": [
              "window[\"6716ed0a-5ac6-11ea-b93d-0242ac1c0002\"] = google.colab.output.setActiveOutputArea(window[\"6714caca-5ac6-11ea-b93d-0242ac1c0002\"]);\n",
              "//# sourceURL=js_48eddaf175"
            ],
            "text/plain": [
              "<IPython.core.display.Javascript object>"
            ]
          },
          "metadata": {
            "tags": [
              "id18-28-1",
              "outputarea_id18"
            ]
          }
        },
        {
          "output_type": "display_data",
          "data": {
            "application/javascript": [
              "window[\"6718b07c-5ac6-11ea-b93d-0242ac1c0002\"] = google.colab.output.getActiveOutputArea();\n",
              "//# sourceURL=js_660a45f364"
            ],
            "text/plain": [
              "<IPython.core.display.Javascript object>"
            ]
          },
          "metadata": {
            "tags": [
              "id18-28-2",
              "outputarea_id18"
            ]
          }
        },
        {
          "output_type": "display_data",
          "data": {
            "application/javascript": [
              "window[\"67190996-5ac6-11ea-b93d-0242ac1c0002\"] = document.querySelector(\"#id18-28-2\");\n",
              "//# sourceURL=js_602a869c97"
            ],
            "text/plain": [
              "<IPython.core.display.Javascript object>"
            ]
          },
          "metadata": {
            "tags": [
              "id18-28-2",
              "outputarea_id18"
            ]
          }
        },
        {
          "output_type": "display_data",
          "data": {
            "application/javascript": [
              "window[\"6719688c-5ac6-11ea-b93d-0242ac1c0002\"] = google.colab.output.setActiveOutputArea(window[\"67190996-5ac6-11ea-b93d-0242ac1c0002\"]);\n",
              "//# sourceURL=js_40bf59c6e4"
            ],
            "text/plain": [
              "<IPython.core.display.Javascript object>"
            ]
          },
          "metadata": {
            "tags": [
              "id18-28-2",
              "outputarea_id18"
            ]
          }
        },
        {
          "output_type": "stream",
          "text": [
            "https://patents.google.com/patent/US6943772B2\n"
          ],
          "name": "stdout"
        },
        {
          "output_type": "display_data",
          "data": {
            "application/javascript": [
              "window[\"671ada8c-5ac6-11ea-b93d-0242ac1c0002\"] = google.colab.output.setActiveOutputArea(window[\"6718b07c-5ac6-11ea-b93d-0242ac1c0002\"]);\n",
              "//# sourceURL=js_9e8de047b7"
            ],
            "text/plain": [
              "<IPython.core.display.Javascript object>"
            ]
          },
          "metadata": {
            "tags": [
              "id18-28-2",
              "outputarea_id18"
            ]
          }
        },
        {
          "output_type": "display_data",
          "data": {
            "application/javascript": [
              "window[\"671c5bbe-5ac6-11ea-b93d-0242ac1c0002\"] = google.colab.output.getActiveOutputArea();\n",
              "//# sourceURL=js_de363ed79f"
            ],
            "text/plain": [
              "<IPython.core.display.Javascript object>"
            ]
          },
          "metadata": {
            "tags": [
              "id18-28-3",
              "outputarea_id18"
            ]
          }
        },
        {
          "output_type": "display_data",
          "data": {
            "application/javascript": [
              "window[\"671ce28c-5ac6-11ea-b93d-0242ac1c0002\"] = document.querySelector(\"#id18-28-3\");\n",
              "//# sourceURL=js_4fbde24fbb"
            ],
            "text/plain": [
              "<IPython.core.display.Javascript object>"
            ]
          },
          "metadata": {
            "tags": [
              "id18-28-3",
              "outputarea_id18"
            ]
          }
        },
        {
          "output_type": "display_data",
          "data": {
            "application/javascript": [
              "window[\"671d58f2-5ac6-11ea-b93d-0242ac1c0002\"] = google.colab.output.setActiveOutputArea(window[\"671ce28c-5ac6-11ea-b93d-0242ac1c0002\"]);\n",
              "//# sourceURL=js_6028f185bd"
            ],
            "text/plain": [
              "<IPython.core.display.Javascript object>"
            ]
          },
          "metadata": {
            "tags": [
              "id18-28-3",
              "outputarea_id18"
            ]
          }
        },
        {
          "output_type": "stream",
          "text": [
            "0.35528618\n"
          ],
          "name": "stdout"
        },
        {
          "output_type": "display_data",
          "data": {
            "application/javascript": [
              "window[\"671ea66c-5ac6-11ea-b93d-0242ac1c0002\"] = google.colab.output.setActiveOutputArea(window[\"671c5bbe-5ac6-11ea-b93d-0242ac1c0002\"]);\n",
              "//# sourceURL=js_88b0bcda16"
            ],
            "text/plain": [
              "<IPython.core.display.Javascript object>"
            ]
          },
          "metadata": {
            "tags": [
              "id18-28-3",
              "outputarea_id18"
            ]
          }
        },
        {
          "output_type": "display_data",
          "data": {
            "application/javascript": [
              "window[\"6720b2a4-5ac6-11ea-b93d-0242ac1c0002\"] = google.colab.output.getActiveOutputArea();\n",
              "//# sourceURL=js_3da3dfe023"
            ],
            "text/plain": [
              "<IPython.core.display.Javascript object>"
            ]
          },
          "metadata": {
            "tags": [
              "id18-29-0",
              "outputarea_id18"
            ]
          }
        },
        {
          "output_type": "display_data",
          "data": {
            "application/javascript": [
              "window[\"6721027c-5ac6-11ea-b93d-0242ac1c0002\"] = document.querySelector(\"#id18-29-0\");\n",
              "//# sourceURL=js_6760c36f51"
            ],
            "text/plain": [
              "<IPython.core.display.Javascript object>"
            ]
          },
          "metadata": {
            "tags": [
              "id18-29-0",
              "outputarea_id18"
            ]
          }
        },
        {
          "output_type": "display_data",
          "data": {
            "application/javascript": [
              "window[\"6721597a-5ac6-11ea-b93d-0242ac1c0002\"] = google.colab.output.setActiveOutputArea(window[\"6721027c-5ac6-11ea-b93d-0242ac1c0002\"]);\n",
              "//# sourceURL=js_067c1235e1"
            ],
            "text/plain": [
              "<IPython.core.display.Javascript object>"
            ]
          },
          "metadata": {
            "tags": [
              "id18-29-0",
              "outputarea_id18"
            ]
          }
        },
        {
          "output_type": "stream",
          "text": [
            "29\n"
          ],
          "name": "stdout"
        },
        {
          "output_type": "display_data",
          "data": {
            "application/javascript": [
              "window[\"67226d4c-5ac6-11ea-b93d-0242ac1c0002\"] = google.colab.output.setActiveOutputArea(window[\"6720b2a4-5ac6-11ea-b93d-0242ac1c0002\"]);\n",
              "//# sourceURL=js_1a766bc34c"
            ],
            "text/plain": [
              "<IPython.core.display.Javascript object>"
            ]
          },
          "metadata": {
            "tags": [
              "id18-29-0",
              "outputarea_id18"
            ]
          }
        },
        {
          "output_type": "display_data",
          "data": {
            "application/javascript": [
              "window[\"67254288-5ac6-11ea-b93d-0242ac1c0002\"] = google.colab.output.getActiveOutputArea();\n",
              "//# sourceURL=js_b35b161f87"
            ],
            "text/plain": [
              "<IPython.core.display.Javascript object>"
            ]
          },
          "metadata": {
            "tags": [
              "id18-29-1",
              "outputarea_id18"
            ]
          }
        },
        {
          "output_type": "display_data",
          "data": {
            "application/javascript": [
              "window[\"6725a93a-5ac6-11ea-b93d-0242ac1c0002\"] = document.querySelector(\"#id18-29-1\");\n",
              "//# sourceURL=js_ad8e18e071"
            ],
            "text/plain": [
              "<IPython.core.display.Javascript object>"
            ]
          },
          "metadata": {
            "tags": [
              "id18-29-1",
              "outputarea_id18"
            ]
          }
        },
        {
          "output_type": "display_data",
          "data": {
            "application/javascript": [
              "window[\"6725feee-5ac6-11ea-b93d-0242ac1c0002\"] = google.colab.output.setActiveOutputArea(window[\"6725a93a-5ac6-11ea-b93d-0242ac1c0002\"]);\n",
              "//# sourceURL=js_043f44ced9"
            ],
            "text/plain": [
              "<IPython.core.display.Javascript object>"
            ]
          },
          "metadata": {
            "tags": [
              "id18-29-1",
              "outputarea_id18"
            ]
          }
        },
        {
          "output_type": "stream",
          "text": [
            "Dual diaphragm speaker\n",
            "\n"
          ],
          "name": "stdout"
        },
        {
          "output_type": "display_data",
          "data": {
            "application/javascript": [
              "window[\"67271cfc-5ac6-11ea-b93d-0242ac1c0002\"] = google.colab.output.setActiveOutputArea(window[\"67254288-5ac6-11ea-b93d-0242ac1c0002\"]);\n",
              "//# sourceURL=js_35365e4c93"
            ],
            "text/plain": [
              "<IPython.core.display.Javascript object>"
            ]
          },
          "metadata": {
            "tags": [
              "id18-29-1",
              "outputarea_id18"
            ]
          }
        },
        {
          "output_type": "display_data",
          "data": {
            "application/javascript": [
              "window[\"6728dbb4-5ac6-11ea-b93d-0242ac1c0002\"] = google.colab.output.getActiveOutputArea();\n",
              "//# sourceURL=js_6e87a6b04d"
            ],
            "text/plain": [
              "<IPython.core.display.Javascript object>"
            ]
          },
          "metadata": {
            "tags": [
              "id18-29-2",
              "outputarea_id18"
            ]
          }
        },
        {
          "output_type": "display_data",
          "data": {
            "application/javascript": [
              "window[\"67293b86-5ac6-11ea-b93d-0242ac1c0002\"] = document.querySelector(\"#id18-29-2\");\n",
              "//# sourceURL=js_cc16579ea4"
            ],
            "text/plain": [
              "<IPython.core.display.Javascript object>"
            ]
          },
          "metadata": {
            "tags": [
              "id18-29-2",
              "outputarea_id18"
            ]
          }
        },
        {
          "output_type": "display_data",
          "data": {
            "application/javascript": [
              "window[\"6729970c-5ac6-11ea-b93d-0242ac1c0002\"] = google.colab.output.setActiveOutputArea(window[\"67293b86-5ac6-11ea-b93d-0242ac1c0002\"]);\n",
              "//# sourceURL=js_3f1b32131c"
            ],
            "text/plain": [
              "<IPython.core.display.Javascript object>"
            ]
          },
          "metadata": {
            "tags": [
              "id18-29-2",
              "outputarea_id18"
            ]
          }
        },
        {
          "output_type": "stream",
          "text": [
            "https://patents.google.com/patent/US7039206B2\n"
          ],
          "name": "stdout"
        },
        {
          "output_type": "display_data",
          "data": {
            "application/javascript": [
              "window[\"672ac9a6-5ac6-11ea-b93d-0242ac1c0002\"] = google.colab.output.setActiveOutputArea(window[\"6728dbb4-5ac6-11ea-b93d-0242ac1c0002\"]);\n",
              "//# sourceURL=js_c623a0afd1"
            ],
            "text/plain": [
              "<IPython.core.display.Javascript object>"
            ]
          },
          "metadata": {
            "tags": [
              "id18-29-2",
              "outputarea_id18"
            ]
          }
        },
        {
          "output_type": "display_data",
          "data": {
            "application/javascript": [
              "window[\"672c66f8-5ac6-11ea-b93d-0242ac1c0002\"] = google.colab.output.getActiveOutputArea();\n",
              "//# sourceURL=js_832fac7ccb"
            ],
            "text/plain": [
              "<IPython.core.display.Javascript object>"
            ]
          },
          "metadata": {
            "tags": [
              "id18-29-3",
              "outputarea_id18"
            ]
          }
        },
        {
          "output_type": "display_data",
          "data": {
            "application/javascript": [
              "window[\"672cb798-5ac6-11ea-b93d-0242ac1c0002\"] = document.querySelector(\"#id18-29-3\");\n",
              "//# sourceURL=js_2afba287bd"
            ],
            "text/plain": [
              "<IPython.core.display.Javascript object>"
            ]
          },
          "metadata": {
            "tags": [
              "id18-29-3",
              "outputarea_id18"
            ]
          }
        },
        {
          "output_type": "display_data",
          "data": {
            "application/javascript": [
              "window[\"672d0ae0-5ac6-11ea-b93d-0242ac1c0002\"] = google.colab.output.setActiveOutputArea(window[\"672cb798-5ac6-11ea-b93d-0242ac1c0002\"]);\n",
              "//# sourceURL=js_f1d9d4445c"
            ],
            "text/plain": [
              "<IPython.core.display.Javascript object>"
            ]
          },
          "metadata": {
            "tags": [
              "id18-29-3",
              "outputarea_id18"
            ]
          }
        },
        {
          "output_type": "stream",
          "text": [
            "0.35623163\n"
          ],
          "name": "stdout"
        },
        {
          "output_type": "display_data",
          "data": {
            "application/javascript": [
              "window[\"672e3276-5ac6-11ea-b93d-0242ac1c0002\"] = google.colab.output.setActiveOutputArea(window[\"672c66f8-5ac6-11ea-b93d-0242ac1c0002\"]);\n",
              "//# sourceURL=js_c613adb448"
            ],
            "text/plain": [
              "<IPython.core.display.Javascript object>"
            ]
          },
          "metadata": {
            "tags": [
              "id18-29-3",
              "outputarea_id18"
            ]
          }
        },
        {
          "output_type": "display_data",
          "data": {
            "application/javascript": [
              "window[\"672fef44-5ac6-11ea-b93d-0242ac1c0002\"] = google.colab.output.getActiveOutputArea();\n",
              "//# sourceURL=js_7770d64c2f"
            ],
            "text/plain": [
              "<IPython.core.display.Javascript object>"
            ]
          },
          "metadata": {
            "tags": [
              "id18-30-0",
              "outputarea_id18"
            ]
          }
        },
        {
          "output_type": "display_data",
          "data": {
            "application/javascript": [
              "window[\"67303ee0-5ac6-11ea-b93d-0242ac1c0002\"] = document.querySelector(\"#id18-30-0\");\n",
              "//# sourceURL=js_3a1583b1af"
            ],
            "text/plain": [
              "<IPython.core.display.Javascript object>"
            ]
          },
          "metadata": {
            "tags": [
              "id18-30-0",
              "outputarea_id18"
            ]
          }
        },
        {
          "output_type": "display_data",
          "data": {
            "application/javascript": [
              "window[\"67309638-5ac6-11ea-b93d-0242ac1c0002\"] = google.colab.output.setActiveOutputArea(window[\"67303ee0-5ac6-11ea-b93d-0242ac1c0002\"]);\n",
              "//# sourceURL=js_192f73c75b"
            ],
            "text/plain": [
              "<IPython.core.display.Javascript object>"
            ]
          },
          "metadata": {
            "tags": [
              "id18-30-0",
              "outputarea_id18"
            ]
          }
        },
        {
          "output_type": "stream",
          "text": [
            "30\n"
          ],
          "name": "stdout"
        },
        {
          "output_type": "display_data",
          "data": {
            "application/javascript": [
              "window[\"6731c332-5ac6-11ea-b93d-0242ac1c0002\"] = google.colab.output.setActiveOutputArea(window[\"672fef44-5ac6-11ea-b93d-0242ac1c0002\"]);\n",
              "//# sourceURL=js_de8f087830"
            ],
            "text/plain": [
              "<IPython.core.display.Javascript object>"
            ]
          },
          "metadata": {
            "tags": [
              "id18-30-0",
              "outputarea_id18"
            ]
          }
        },
        {
          "output_type": "display_data",
          "data": {
            "application/javascript": [
              "window[\"6733a8dc-5ac6-11ea-b93d-0242ac1c0002\"] = google.colab.output.getActiveOutputArea();\n",
              "//# sourceURL=js_b2c859bc30"
            ],
            "text/plain": [
              "<IPython.core.display.Javascript object>"
            ]
          },
          "metadata": {
            "tags": [
              "id18-30-1",
              "outputarea_id18"
            ]
          }
        },
        {
          "output_type": "display_data",
          "data": {
            "application/javascript": [
              "window[\"673409b2-5ac6-11ea-b93d-0242ac1c0002\"] = document.querySelector(\"#id18-30-1\");\n",
              "//# sourceURL=js_9a0041cc68"
            ],
            "text/plain": [
              "<IPython.core.display.Javascript object>"
            ]
          },
          "metadata": {
            "tags": [
              "id18-30-1",
              "outputarea_id18"
            ]
          }
        },
        {
          "output_type": "display_data",
          "data": {
            "application/javascript": [
              "window[\"67347078-5ac6-11ea-b93d-0242ac1c0002\"] = google.colab.output.setActiveOutputArea(window[\"673409b2-5ac6-11ea-b93d-0242ac1c0002\"]);\n",
              "//# sourceURL=js_32bd4ef5a5"
            ],
            "text/plain": [
              "<IPython.core.display.Javascript object>"
            ]
          },
          "metadata": {
            "tags": [
              "id18-30-1",
              "outputarea_id18"
            ]
          }
        },
        {
          "output_type": "stream",
          "text": [
            "Optical unit with shake correcting function and photographic optical device\n",
            "\n"
          ],
          "name": "stdout"
        },
        {
          "output_type": "display_data",
          "data": {
            "application/javascript": [
              "window[\"6735c7ac-5ac6-11ea-b93d-0242ac1c0002\"] = google.colab.output.setActiveOutputArea(window[\"6733a8dc-5ac6-11ea-b93d-0242ac1c0002\"]);\n",
              "//# sourceURL=js_75f336356b"
            ],
            "text/plain": [
              "<IPython.core.display.Javascript object>"
            ]
          },
          "metadata": {
            "tags": [
              "id18-30-1",
              "outputarea_id18"
            ]
          }
        },
        {
          "output_type": "display_data",
          "data": {
            "application/javascript": [
              "window[\"67379f14-5ac6-11ea-b93d-0242ac1c0002\"] = google.colab.output.getActiveOutputArea();\n",
              "//# sourceURL=js_9b6fb4a3e5"
            ],
            "text/plain": [
              "<IPython.core.display.Javascript object>"
            ]
          },
          "metadata": {
            "tags": [
              "id18-30-2",
              "outputarea_id18"
            ]
          }
        },
        {
          "output_type": "display_data",
          "data": {
            "application/javascript": [
              "window[\"6737fe50-5ac6-11ea-b93d-0242ac1c0002\"] = document.querySelector(\"#id18-30-2\");\n",
              "//# sourceURL=js_0ce0114e68"
            ],
            "text/plain": [
              "<IPython.core.display.Javascript object>"
            ]
          },
          "metadata": {
            "tags": [
              "id18-30-2",
              "outputarea_id18"
            ]
          }
        },
        {
          "output_type": "display_data",
          "data": {
            "application/javascript": [
              "window[\"67385efe-5ac6-11ea-b93d-0242ac1c0002\"] = google.colab.output.setActiveOutputArea(window[\"6737fe50-5ac6-11ea-b93d-0242ac1c0002\"]);\n",
              "//# sourceURL=js_706b5c292a"
            ],
            "text/plain": [
              "<IPython.core.display.Javascript object>"
            ]
          },
          "metadata": {
            "tags": [
              "id18-30-2",
              "outputarea_id18"
            ]
          }
        },
        {
          "output_type": "stream",
          "text": [
            "https://patents.google.com/patent/US8238736B2\n"
          ],
          "name": "stdout"
        },
        {
          "output_type": "display_data",
          "data": {
            "application/javascript": [
              "window[\"6739a62e-5ac6-11ea-b93d-0242ac1c0002\"] = google.colab.output.setActiveOutputArea(window[\"67379f14-5ac6-11ea-b93d-0242ac1c0002\"]);\n",
              "//# sourceURL=js_40d06f05a4"
            ],
            "text/plain": [
              "<IPython.core.display.Javascript object>"
            ]
          },
          "metadata": {
            "tags": [
              "id18-30-2",
              "outputarea_id18"
            ]
          }
        },
        {
          "output_type": "display_data",
          "data": {
            "application/javascript": [
              "window[\"673b7c38-5ac6-11ea-b93d-0242ac1c0002\"] = google.colab.output.getActiveOutputArea();\n",
              "//# sourceURL=js_fb26ef2e30"
            ],
            "text/plain": [
              "<IPython.core.display.Javascript object>"
            ]
          },
          "metadata": {
            "tags": [
              "id18-30-3",
              "outputarea_id18"
            ]
          }
        },
        {
          "output_type": "display_data",
          "data": {
            "application/javascript": [
              "window[\"673bcd14-5ac6-11ea-b93d-0242ac1c0002\"] = document.querySelector(\"#id18-30-3\");\n",
              "//# sourceURL=js_a4b0d958b6"
            ],
            "text/plain": [
              "<IPython.core.display.Javascript object>"
            ]
          },
          "metadata": {
            "tags": [
              "id18-30-3",
              "outputarea_id18"
            ]
          }
        },
        {
          "output_type": "display_data",
          "data": {
            "application/javascript": [
              "window[\"673c2192-5ac6-11ea-b93d-0242ac1c0002\"] = google.colab.output.setActiveOutputArea(window[\"673bcd14-5ac6-11ea-b93d-0242ac1c0002\"]);\n",
              "//# sourceURL=js_491b7d6914"
            ],
            "text/plain": [
              "<IPython.core.display.Javascript object>"
            ]
          },
          "metadata": {
            "tags": [
              "id18-30-3",
              "outputarea_id18"
            ]
          }
        },
        {
          "output_type": "stream",
          "text": [
            "0.35667855\n"
          ],
          "name": "stdout"
        },
        {
          "output_type": "display_data",
          "data": {
            "application/javascript": [
              "window[\"673d6b38-5ac6-11ea-b93d-0242ac1c0002\"] = google.colab.output.setActiveOutputArea(window[\"673b7c38-5ac6-11ea-b93d-0242ac1c0002\"]);\n",
              "//# sourceURL=js_6ca5f15651"
            ],
            "text/plain": [
              "<IPython.core.display.Javascript object>"
            ]
          },
          "metadata": {
            "tags": [
              "id18-30-3",
              "outputarea_id18"
            ]
          }
        },
        {
          "output_type": "display_data",
          "data": {
            "application/javascript": [
              "window[\"673f2d56-5ac6-11ea-b93d-0242ac1c0002\"] = google.colab.output.getActiveOutputArea();\n",
              "//# sourceURL=js_42dd952eef"
            ],
            "text/plain": [
              "<IPython.core.display.Javascript object>"
            ]
          },
          "metadata": {
            "tags": [
              "id18-31-0",
              "outputarea_id18"
            ]
          }
        },
        {
          "output_type": "display_data",
          "data": {
            "application/javascript": [
              "window[\"673f7658-5ac6-11ea-b93d-0242ac1c0002\"] = document.querySelector(\"#id18-31-0\");\n",
              "//# sourceURL=js_543d374139"
            ],
            "text/plain": [
              "<IPython.core.display.Javascript object>"
            ]
          },
          "metadata": {
            "tags": [
              "id18-31-0",
              "outputarea_id18"
            ]
          }
        },
        {
          "output_type": "display_data",
          "data": {
            "application/javascript": [
              "window[\"673fcb58-5ac6-11ea-b93d-0242ac1c0002\"] = google.colab.output.setActiveOutputArea(window[\"673f7658-5ac6-11ea-b93d-0242ac1c0002\"]);\n",
              "//# sourceURL=js_229c789b04"
            ],
            "text/plain": [
              "<IPython.core.display.Javascript object>"
            ]
          },
          "metadata": {
            "tags": [
              "id18-31-0",
              "outputarea_id18"
            ]
          }
        },
        {
          "output_type": "stream",
          "text": [
            "31\n"
          ],
          "name": "stdout"
        },
        {
          "output_type": "display_data",
          "data": {
            "application/javascript": [
              "window[\"67412e08-5ac6-11ea-b93d-0242ac1c0002\"] = google.colab.output.setActiveOutputArea(window[\"673f2d56-5ac6-11ea-b93d-0242ac1c0002\"]);\n",
              "//# sourceURL=js_9d4646dbde"
            ],
            "text/plain": [
              "<IPython.core.display.Javascript object>"
            ]
          },
          "metadata": {
            "tags": [
              "id18-31-0",
              "outputarea_id18"
            ]
          }
        },
        {
          "output_type": "display_data",
          "data": {
            "application/javascript": [
              "window[\"67430e4e-5ac6-11ea-b93d-0242ac1c0002\"] = google.colab.output.getActiveOutputArea();\n",
              "//# sourceURL=js_0a4e2abe45"
            ],
            "text/plain": [
              "<IPython.core.display.Javascript object>"
            ]
          },
          "metadata": {
            "tags": [
              "id18-31-1",
              "outputarea_id18"
            ]
          }
        },
        {
          "output_type": "display_data",
          "data": {
            "application/javascript": [
              "window[\"67437c62-5ac6-11ea-b93d-0242ac1c0002\"] = document.querySelector(\"#id18-31-1\");\n",
              "//# sourceURL=js_7f3a9a9b1f"
            ],
            "text/plain": [
              "<IPython.core.display.Javascript object>"
            ]
          },
          "metadata": {
            "tags": [
              "id18-31-1",
              "outputarea_id18"
            ]
          }
        },
        {
          "output_type": "display_data",
          "data": {
            "application/javascript": [
              "window[\"6743e4c2-5ac6-11ea-b93d-0242ac1c0002\"] = google.colab.output.setActiveOutputArea(window[\"67437c62-5ac6-11ea-b93d-0242ac1c0002\"]);\n",
              "//# sourceURL=js_b88757515c"
            ],
            "text/plain": [
              "<IPython.core.display.Javascript object>"
            ]
          },
          "metadata": {
            "tags": [
              "id18-31-1",
              "outputarea_id18"
            ]
          }
        },
        {
          "output_type": "stream",
          "text": [
            "Disk drive servo\n",
            "\n"
          ],
          "name": "stdout"
        },
        {
          "output_type": "display_data",
          "data": {
            "application/javascript": [
              "window[\"6745227e-5ac6-11ea-b93d-0242ac1c0002\"] = google.colab.output.setActiveOutputArea(window[\"67430e4e-5ac6-11ea-b93d-0242ac1c0002\"]);\n",
              "//# sourceURL=js_93a4ff89f4"
            ],
            "text/plain": [
              "<IPython.core.display.Javascript object>"
            ]
          },
          "metadata": {
            "tags": [
              "id18-31-1",
              "outputarea_id18"
            ]
          }
        },
        {
          "output_type": "display_data",
          "data": {
            "application/javascript": [
              "window[\"674704e0-5ac6-11ea-b93d-0242ac1c0002\"] = google.colab.output.getActiveOutputArea();\n",
              "//# sourceURL=js_214f48fbe5"
            ],
            "text/plain": [
              "<IPython.core.display.Javascript object>"
            ]
          },
          "metadata": {
            "tags": [
              "id18-31-2",
              "outputarea_id18"
            ]
          }
        },
        {
          "output_type": "display_data",
          "data": {
            "application/javascript": [
              "window[\"67476ea8-5ac6-11ea-b93d-0242ac1c0002\"] = document.querySelector(\"#id18-31-2\");\n",
              "//# sourceURL=js_7be058a5b0"
            ],
            "text/plain": [
              "<IPython.core.display.Javascript object>"
            ]
          },
          "metadata": {
            "tags": [
              "id18-31-2",
              "outputarea_id18"
            ]
          }
        },
        {
          "output_type": "display_data",
          "data": {
            "application/javascript": [
              "window[\"6747bec6-5ac6-11ea-b93d-0242ac1c0002\"] = google.colab.output.setActiveOutputArea(window[\"67476ea8-5ac6-11ea-b93d-0242ac1c0002\"]);\n",
              "//# sourceURL=js_1474ec1bc7"
            ],
            "text/plain": [
              "<IPython.core.display.Javascript object>"
            ]
          },
          "metadata": {
            "tags": [
              "id18-31-2",
              "outputarea_id18"
            ]
          }
        },
        {
          "output_type": "stream",
          "text": [
            "https://patents.google.com/patent/US7440224B2\n"
          ],
          "name": "stdout"
        },
        {
          "output_type": "display_data",
          "data": {
            "application/javascript": [
              "window[\"67490ce0-5ac6-11ea-b93d-0242ac1c0002\"] = google.colab.output.setActiveOutputArea(window[\"674704e0-5ac6-11ea-b93d-0242ac1c0002\"]);\n",
              "//# sourceURL=js_0f3fd66915"
            ],
            "text/plain": [
              "<IPython.core.display.Javascript object>"
            ]
          },
          "metadata": {
            "tags": [
              "id18-31-2",
              "outputarea_id18"
            ]
          }
        },
        {
          "output_type": "display_data",
          "data": {
            "application/javascript": [
              "window[\"674af7f8-5ac6-11ea-b93d-0242ac1c0002\"] = google.colab.output.getActiveOutputArea();\n",
              "//# sourceURL=js_5369ed3be6"
            ],
            "text/plain": [
              "<IPython.core.display.Javascript object>"
            ]
          },
          "metadata": {
            "tags": [
              "id18-31-3",
              "outputarea_id18"
            ]
          }
        },
        {
          "output_type": "display_data",
          "data": {
            "application/javascript": [
              "window[\"674b5ca2-5ac6-11ea-b93d-0242ac1c0002\"] = document.querySelector(\"#id18-31-3\");\n",
              "//# sourceURL=js_0c9d839552"
            ],
            "text/plain": [
              "<IPython.core.display.Javascript object>"
            ]
          },
          "metadata": {
            "tags": [
              "id18-31-3",
              "outputarea_id18"
            ]
          }
        },
        {
          "output_type": "display_data",
          "data": {
            "application/javascript": [
              "window[\"674bc548-5ac6-11ea-b93d-0242ac1c0002\"] = google.colab.output.setActiveOutputArea(window[\"674b5ca2-5ac6-11ea-b93d-0242ac1c0002\"]);\n",
              "//# sourceURL=js_89003346b8"
            ],
            "text/plain": [
              "<IPython.core.display.Javascript object>"
            ]
          },
          "metadata": {
            "tags": [
              "id18-31-3",
              "outputarea_id18"
            ]
          }
        },
        {
          "output_type": "stream",
          "text": [
            "0.35667998\n"
          ],
          "name": "stdout"
        },
        {
          "output_type": "display_data",
          "data": {
            "application/javascript": [
              "window[\"674d0d36-5ac6-11ea-b93d-0242ac1c0002\"] = google.colab.output.setActiveOutputArea(window[\"674af7f8-5ac6-11ea-b93d-0242ac1c0002\"]);\n",
              "//# sourceURL=js_c91d5fa40f"
            ],
            "text/plain": [
              "<IPython.core.display.Javascript object>"
            ]
          },
          "metadata": {
            "tags": [
              "id18-31-3",
              "outputarea_id18"
            ]
          }
        },
        {
          "output_type": "display_data",
          "data": {
            "application/javascript": [
              "window[\"674f0618-5ac6-11ea-b93d-0242ac1c0002\"] = google.colab.output.getActiveOutputArea();\n",
              "//# sourceURL=js_c3e6d6502f"
            ],
            "text/plain": [
              "<IPython.core.display.Javascript object>"
            ]
          },
          "metadata": {
            "tags": [
              "id18-32-0",
              "outputarea_id18"
            ]
          }
        },
        {
          "output_type": "display_data",
          "data": {
            "application/javascript": [
              "window[\"674f6806-5ac6-11ea-b93d-0242ac1c0002\"] = document.querySelector(\"#id18-32-0\");\n",
              "//# sourceURL=js_f2f18cd450"
            ],
            "text/plain": [
              "<IPython.core.display.Javascript object>"
            ]
          },
          "metadata": {
            "tags": [
              "id18-32-0",
              "outputarea_id18"
            ]
          }
        },
        {
          "output_type": "display_data",
          "data": {
            "application/javascript": [
              "window[\"674fca8a-5ac6-11ea-b93d-0242ac1c0002\"] = google.colab.output.setActiveOutputArea(window[\"674f6806-5ac6-11ea-b93d-0242ac1c0002\"]);\n",
              "//# sourceURL=js_6f83e2d8d7"
            ],
            "text/plain": [
              "<IPython.core.display.Javascript object>"
            ]
          },
          "metadata": {
            "tags": [
              "id18-32-0",
              "outputarea_id18"
            ]
          }
        },
        {
          "output_type": "stream",
          "text": [
            "32\n"
          ],
          "name": "stdout"
        },
        {
          "output_type": "display_data",
          "data": {
            "application/javascript": [
              "window[\"6751162e-5ac6-11ea-b93d-0242ac1c0002\"] = google.colab.output.setActiveOutputArea(window[\"674f0618-5ac6-11ea-b93d-0242ac1c0002\"]);\n",
              "//# sourceURL=js_3df829c8a9"
            ],
            "text/plain": [
              "<IPython.core.display.Javascript object>"
            ]
          },
          "metadata": {
            "tags": [
              "id18-32-0",
              "outputarea_id18"
            ]
          }
        },
        {
          "output_type": "display_data",
          "data": {
            "application/javascript": [
              "window[\"6752de8c-5ac6-11ea-b93d-0242ac1c0002\"] = google.colab.output.getActiveOutputArea();\n",
              "//# sourceURL=js_19c56967a7"
            ],
            "text/plain": [
              "<IPython.core.display.Javascript object>"
            ]
          },
          "metadata": {
            "tags": [
              "id18-32-1",
              "outputarea_id18"
            ]
          }
        },
        {
          "output_type": "display_data",
          "data": {
            "application/javascript": [
              "window[\"67533f08-5ac6-11ea-b93d-0242ac1c0002\"] = document.querySelector(\"#id18-32-1\");\n",
              "//# sourceURL=js_a40c7feade"
            ],
            "text/plain": [
              "<IPython.core.display.Javascript object>"
            ]
          },
          "metadata": {
            "tags": [
              "id18-32-1",
              "outputarea_id18"
            ]
          }
        },
        {
          "output_type": "display_data",
          "data": {
            "application/javascript": [
              "window[\"6753a29a-5ac6-11ea-b93d-0242ac1c0002\"] = google.colab.output.setActiveOutputArea(window[\"67533f08-5ac6-11ea-b93d-0242ac1c0002\"]);\n",
              "//# sourceURL=js_03938f7c34"
            ],
            "text/plain": [
              "<IPython.core.display.Javascript object>"
            ]
          },
          "metadata": {
            "tags": [
              "id18-32-1",
              "outputarea_id18"
            ]
          }
        },
        {
          "output_type": "stream",
          "text": [
            "Optical unit with shake correcting function\n",
            "\n"
          ],
          "name": "stdout"
        },
        {
          "output_type": "display_data",
          "data": {
            "application/javascript": [
              "window[\"6754e1a0-5ac6-11ea-b93d-0242ac1c0002\"] = google.colab.output.setActiveOutputArea(window[\"6752de8c-5ac6-11ea-b93d-0242ac1c0002\"]);\n",
              "//# sourceURL=js_51b756adf9"
            ],
            "text/plain": [
              "<IPython.core.display.Javascript object>"
            ]
          },
          "metadata": {
            "tags": [
              "id18-32-1",
              "outputarea_id18"
            ]
          }
        },
        {
          "output_type": "display_data",
          "data": {
            "application/javascript": [
              "window[\"6756961c-5ac6-11ea-b93d-0242ac1c0002\"] = google.colab.output.getActiveOutputArea();\n",
              "//# sourceURL=js_63105e642e"
            ],
            "text/plain": [
              "<IPython.core.display.Javascript object>"
            ]
          },
          "metadata": {
            "tags": [
              "id18-32-2",
              "outputarea_id18"
            ]
          }
        },
        {
          "output_type": "display_data",
          "data": {
            "application/javascript": [
              "window[\"67570b92-5ac6-11ea-b93d-0242ac1c0002\"] = document.querySelector(\"#id18-32-2\");\n",
              "//# sourceURL=js_a6d36b2c83"
            ],
            "text/plain": [
              "<IPython.core.display.Javascript object>"
            ]
          },
          "metadata": {
            "tags": [
              "id18-32-2",
              "outputarea_id18"
            ]
          }
        },
        {
          "output_type": "display_data",
          "data": {
            "application/javascript": [
              "window[\"67577d02-5ac6-11ea-b93d-0242ac1c0002\"] = google.colab.output.setActiveOutputArea(window[\"67570b92-5ac6-11ea-b93d-0242ac1c0002\"]);\n",
              "//# sourceURL=js_beaa4d3c35"
            ],
            "text/plain": [
              "<IPython.core.display.Javascript object>"
            ]
          },
          "metadata": {
            "tags": [
              "id18-32-2",
              "outputarea_id18"
            ]
          }
        },
        {
          "output_type": "stream",
          "text": [
            "https://patents.google.com/patent/US8224169B2\n"
          ],
          "name": "stdout"
        },
        {
          "output_type": "display_data",
          "data": {
            "application/javascript": [
              "window[\"6758da94-5ac6-11ea-b93d-0242ac1c0002\"] = google.colab.output.setActiveOutputArea(window[\"6756961c-5ac6-11ea-b93d-0242ac1c0002\"]);\n",
              "//# sourceURL=js_5d23f8c566"
            ],
            "text/plain": [
              "<IPython.core.display.Javascript object>"
            ]
          },
          "metadata": {
            "tags": [
              "id18-32-2",
              "outputarea_id18"
            ]
          }
        },
        {
          "output_type": "display_data",
          "data": {
            "application/javascript": [
              "window[\"675ac0d4-5ac6-11ea-b93d-0242ac1c0002\"] = google.colab.output.getActiveOutputArea();\n",
              "//# sourceURL=js_babef9c29c"
            ],
            "text/plain": [
              "<IPython.core.display.Javascript object>"
            ]
          },
          "metadata": {
            "tags": [
              "id18-32-3",
              "outputarea_id18"
            ]
          }
        },
        {
          "output_type": "display_data",
          "data": {
            "application/javascript": [
              "window[\"675b0dfa-5ac6-11ea-b93d-0242ac1c0002\"] = document.querySelector(\"#id18-32-3\");\n",
              "//# sourceURL=js_46e6aaaf6b"
            ],
            "text/plain": [
              "<IPython.core.display.Javascript object>"
            ]
          },
          "metadata": {
            "tags": [
              "id18-32-3",
              "outputarea_id18"
            ]
          }
        },
        {
          "output_type": "display_data",
          "data": {
            "application/javascript": [
              "window[\"675b7d4e-5ac6-11ea-b93d-0242ac1c0002\"] = google.colab.output.setActiveOutputArea(window[\"675b0dfa-5ac6-11ea-b93d-0242ac1c0002\"]);\n",
              "//# sourceURL=js_1bd873cfb5"
            ],
            "text/plain": [
              "<IPython.core.display.Javascript object>"
            ]
          },
          "metadata": {
            "tags": [
              "id18-32-3",
              "outputarea_id18"
            ]
          }
        },
        {
          "output_type": "stream",
          "text": [
            "0.35794574\n"
          ],
          "name": "stdout"
        },
        {
          "output_type": "display_data",
          "data": {
            "application/javascript": [
              "window[\"675cb6dc-5ac6-11ea-b93d-0242ac1c0002\"] = google.colab.output.setActiveOutputArea(window[\"675ac0d4-5ac6-11ea-b93d-0242ac1c0002\"]);\n",
              "//# sourceURL=js_c56e389ec9"
            ],
            "text/plain": [
              "<IPython.core.display.Javascript object>"
            ]
          },
          "metadata": {
            "tags": [
              "id18-32-3",
              "outputarea_id18"
            ]
          }
        },
        {
          "output_type": "display_data",
          "data": {
            "application/javascript": [
              "window[\"675e7dfa-5ac6-11ea-b93d-0242ac1c0002\"] = google.colab.output.getActiveOutputArea();\n",
              "//# sourceURL=js_926030587e"
            ],
            "text/plain": [
              "<IPython.core.display.Javascript object>"
            ]
          },
          "metadata": {
            "tags": [
              "id18-33-0",
              "outputarea_id18"
            ]
          }
        },
        {
          "output_type": "display_data",
          "data": {
            "application/javascript": [
              "window[\"675ee664-5ac6-11ea-b93d-0242ac1c0002\"] = document.querySelector(\"#id18-33-0\");\n",
              "//# sourceURL=js_035134f5d8"
            ],
            "text/plain": [
              "<IPython.core.display.Javascript object>"
            ]
          },
          "metadata": {
            "tags": [
              "id18-33-0",
              "outputarea_id18"
            ]
          }
        },
        {
          "output_type": "display_data",
          "data": {
            "application/javascript": [
              "window[\"675f446a-5ac6-11ea-b93d-0242ac1c0002\"] = google.colab.output.setActiveOutputArea(window[\"675ee664-5ac6-11ea-b93d-0242ac1c0002\"]);\n",
              "//# sourceURL=js_600d7f256a"
            ],
            "text/plain": [
              "<IPython.core.display.Javascript object>"
            ]
          },
          "metadata": {
            "tags": [
              "id18-33-0",
              "outputarea_id18"
            ]
          }
        },
        {
          "output_type": "stream",
          "text": [
            "33\n"
          ],
          "name": "stdout"
        },
        {
          "output_type": "display_data",
          "data": {
            "application/javascript": [
              "window[\"676080be-5ac6-11ea-b93d-0242ac1c0002\"] = google.colab.output.setActiveOutputArea(window[\"675e7dfa-5ac6-11ea-b93d-0242ac1c0002\"]);\n",
              "//# sourceURL=js_03d8341911"
            ],
            "text/plain": [
              "<IPython.core.display.Javascript object>"
            ]
          },
          "metadata": {
            "tags": [
              "id18-33-0",
              "outputarea_id18"
            ]
          }
        },
        {
          "output_type": "display_data",
          "data": {
            "application/javascript": [
              "window[\"676270b8-5ac6-11ea-b93d-0242ac1c0002\"] = google.colab.output.getActiveOutputArea();\n",
              "//# sourceURL=js_ac968784d8"
            ],
            "text/plain": [
              "<IPython.core.display.Javascript object>"
            ]
          },
          "metadata": {
            "tags": [
              "id18-33-1",
              "outputarea_id18"
            ]
          }
        },
        {
          "output_type": "display_data",
          "data": {
            "application/javascript": [
              "window[\"6762d792-5ac6-11ea-b93d-0242ac1c0002\"] = document.querySelector(\"#id18-33-1\");\n",
              "//# sourceURL=js_ba05d8f240"
            ],
            "text/plain": [
              "<IPython.core.display.Javascript object>"
            ]
          },
          "metadata": {
            "tags": [
              "id18-33-1",
              "outputarea_id18"
            ]
          }
        },
        {
          "output_type": "display_data",
          "data": {
            "application/javascript": [
              "window[\"67633214-5ac6-11ea-b93d-0242ac1c0002\"] = google.colab.output.setActiveOutputArea(window[\"6762d792-5ac6-11ea-b93d-0242ac1c0002\"]);\n",
              "//# sourceURL=js_1c63bd6e39"
            ],
            "text/plain": [
              "<IPython.core.display.Javascript object>"
            ]
          },
          "metadata": {
            "tags": [
              "id18-33-1",
              "outputarea_id18"
            ]
          }
        },
        {
          "output_type": "stream",
          "text": [
            "Orientation device\n",
            "\n"
          ],
          "name": "stdout"
        },
        {
          "output_type": "display_data",
          "data": {
            "application/javascript": [
              "window[\"67647124-5ac6-11ea-b93d-0242ac1c0002\"] = google.colab.output.setActiveOutputArea(window[\"676270b8-5ac6-11ea-b93d-0242ac1c0002\"]);\n",
              "//# sourceURL=js_de014e8493"
            ],
            "text/plain": [
              "<IPython.core.display.Javascript object>"
            ]
          },
          "metadata": {
            "tags": [
              "id18-33-1",
              "outputarea_id18"
            ]
          }
        },
        {
          "output_type": "display_data",
          "data": {
            "application/javascript": [
              "window[\"6766532c-5ac6-11ea-b93d-0242ac1c0002\"] = google.colab.output.getActiveOutputArea();\n",
              "//# sourceURL=js_8ffbbf2a42"
            ],
            "text/plain": [
              "<IPython.core.display.Javascript object>"
            ]
          },
          "metadata": {
            "tags": [
              "id18-33-2",
              "outputarea_id18"
            ]
          }
        },
        {
          "output_type": "display_data",
          "data": {
            "application/javascript": [
              "window[\"6766bc36-5ac6-11ea-b93d-0242ac1c0002\"] = document.querySelector(\"#id18-33-2\");\n",
              "//# sourceURL=js_a285880ee7"
            ],
            "text/plain": [
              "<IPython.core.display.Javascript object>"
            ]
          },
          "metadata": {
            "tags": [
              "id18-33-2",
              "outputarea_id18"
            ]
          }
        },
        {
          "output_type": "display_data",
          "data": {
            "application/javascript": [
              "window[\"67671c80-5ac6-11ea-b93d-0242ac1c0002\"] = google.colab.output.setActiveOutputArea(window[\"6766bc36-5ac6-11ea-b93d-0242ac1c0002\"]);\n",
              "//# sourceURL=js_7e0f0fa4cf"
            ],
            "text/plain": [
              "<IPython.core.display.Javascript object>"
            ]
          },
          "metadata": {
            "tags": [
              "id18-33-2",
              "outputarea_id18"
            ]
          }
        },
        {
          "output_type": "stream",
          "text": [
            "https://patents.google.com/patent/US6987460B2\n"
          ],
          "name": "stdout"
        },
        {
          "output_type": "display_data",
          "data": {
            "application/javascript": [
              "window[\"6768645a-5ac6-11ea-b93d-0242ac1c0002\"] = google.colab.output.setActiveOutputArea(window[\"6766532c-5ac6-11ea-b93d-0242ac1c0002\"]);\n",
              "//# sourceURL=js_c65e484fd0"
            ],
            "text/plain": [
              "<IPython.core.display.Javascript object>"
            ]
          },
          "metadata": {
            "tags": [
              "id18-33-2",
              "outputarea_id18"
            ]
          }
        },
        {
          "output_type": "display_data",
          "data": {
            "application/javascript": [
              "window[\"676a3726-5ac6-11ea-b93d-0242ac1c0002\"] = google.colab.output.getActiveOutputArea();\n",
              "//# sourceURL=js_54427c93d0"
            ],
            "text/plain": [
              "<IPython.core.display.Javascript object>"
            ]
          },
          "metadata": {
            "tags": [
              "id18-33-3",
              "outputarea_id18"
            ]
          }
        },
        {
          "output_type": "display_data",
          "data": {
            "application/javascript": [
              "window[\"676aaa08-5ac6-11ea-b93d-0242ac1c0002\"] = document.querySelector(\"#id18-33-3\");\n",
              "//# sourceURL=js_7a0a3a654a"
            ],
            "text/plain": [
              "<IPython.core.display.Javascript object>"
            ]
          },
          "metadata": {
            "tags": [
              "id18-33-3",
              "outputarea_id18"
            ]
          }
        },
        {
          "output_type": "display_data",
          "data": {
            "application/javascript": [
              "window[\"676b085e-5ac6-11ea-b93d-0242ac1c0002\"] = google.colab.output.setActiveOutputArea(window[\"676aaa08-5ac6-11ea-b93d-0242ac1c0002\"]);\n",
              "//# sourceURL=js_936dbf94b4"
            ],
            "text/plain": [
              "<IPython.core.display.Javascript object>"
            ]
          },
          "metadata": {
            "tags": [
              "id18-33-3",
              "outputarea_id18"
            ]
          }
        },
        {
          "output_type": "stream",
          "text": [
            "0.35813755\n"
          ],
          "name": "stdout"
        },
        {
          "output_type": "display_data",
          "data": {
            "application/javascript": [
              "window[\"676c5f56-5ac6-11ea-b93d-0242ac1c0002\"] = google.colab.output.setActiveOutputArea(window[\"676a3726-5ac6-11ea-b93d-0242ac1c0002\"]);\n",
              "//# sourceURL=js_5174cf4d4a"
            ],
            "text/plain": [
              "<IPython.core.display.Javascript object>"
            ]
          },
          "metadata": {
            "tags": [
              "id18-33-3",
              "outputarea_id18"
            ]
          }
        },
        {
          "output_type": "display_data",
          "data": {
            "application/javascript": [
              "window[\"676e4992-5ac6-11ea-b93d-0242ac1c0002\"] = google.colab.output.getActiveOutputArea();\n",
              "//# sourceURL=js_9287401ae7"
            ],
            "text/plain": [
              "<IPython.core.display.Javascript object>"
            ]
          },
          "metadata": {
            "tags": [
              "id18-34-0",
              "outputarea_id18"
            ]
          }
        },
        {
          "output_type": "display_data",
          "data": {
            "application/javascript": [
              "window[\"676ea928-5ac6-11ea-b93d-0242ac1c0002\"] = document.querySelector(\"#id18-34-0\");\n",
              "//# sourceURL=js_83f48abbc3"
            ],
            "text/plain": [
              "<IPython.core.display.Javascript object>"
            ]
          },
          "metadata": {
            "tags": [
              "id18-34-0",
              "outputarea_id18"
            ]
          }
        },
        {
          "output_type": "display_data",
          "data": {
            "application/javascript": [
              "window[\"676f141c-5ac6-11ea-b93d-0242ac1c0002\"] = google.colab.output.setActiveOutputArea(window[\"676ea928-5ac6-11ea-b93d-0242ac1c0002\"]);\n",
              "//# sourceURL=js_d92c0d1890"
            ],
            "text/plain": [
              "<IPython.core.display.Javascript object>"
            ]
          },
          "metadata": {
            "tags": [
              "id18-34-0",
              "outputarea_id18"
            ]
          }
        },
        {
          "output_type": "stream",
          "text": [
            "34\n"
          ],
          "name": "stdout"
        },
        {
          "output_type": "display_data",
          "data": {
            "application/javascript": [
              "window[\"67704940-5ac6-11ea-b93d-0242ac1c0002\"] = google.colab.output.setActiveOutputArea(window[\"676e4992-5ac6-11ea-b93d-0242ac1c0002\"]);\n",
              "//# sourceURL=js_ac93163f99"
            ],
            "text/plain": [
              "<IPython.core.display.Javascript object>"
            ]
          },
          "metadata": {
            "tags": [
              "id18-34-0",
              "outputarea_id18"
            ]
          }
        },
        {
          "output_type": "display_data",
          "data": {
            "application/javascript": [
              "window[\"6771f83a-5ac6-11ea-b93d-0242ac1c0002\"] = google.colab.output.getActiveOutputArea();\n",
              "//# sourceURL=js_a5d9db7206"
            ],
            "text/plain": [
              "<IPython.core.display.Javascript object>"
            ]
          },
          "metadata": {
            "tags": [
              "id18-34-1",
              "outputarea_id18"
            ]
          }
        },
        {
          "output_type": "display_data",
          "data": {
            "application/javascript": [
              "window[\"677275d0-5ac6-11ea-b93d-0242ac1c0002\"] = document.querySelector(\"#id18-34-1\");\n",
              "//# sourceURL=js_ab4e24732b"
            ],
            "text/plain": [
              "<IPython.core.display.Javascript object>"
            ]
          },
          "metadata": {
            "tags": [
              "id18-34-1",
              "outputarea_id18"
            ]
          }
        },
        {
          "output_type": "display_data",
          "data": {
            "application/javascript": [
              "window[\"6772d926-5ac6-11ea-b93d-0242ac1c0002\"] = google.colab.output.setActiveOutputArea(window[\"677275d0-5ac6-11ea-b93d-0242ac1c0002\"]);\n",
              "//# sourceURL=js_2be4482c18"
            ],
            "text/plain": [
              "<IPython.core.display.Javascript object>"
            ]
          },
          "metadata": {
            "tags": [
              "id18-34-1",
              "outputarea_id18"
            ]
          }
        },
        {
          "output_type": "stream",
          "text": [
            "Driving device, position controller provided with driving device, and camera provided with position controller\n",
            "\n"
          ],
          "name": "stdout"
        },
        {
          "output_type": "display_data",
          "data": {
            "application/javascript": [
              "window[\"67741d68-5ac6-11ea-b93d-0242ac1c0002\"] = google.colab.output.setActiveOutputArea(window[\"6771f83a-5ac6-11ea-b93d-0242ac1c0002\"]);\n",
              "//# sourceURL=js_da650c2909"
            ],
            "text/plain": [
              "<IPython.core.display.Javascript object>"
            ]
          },
          "metadata": {
            "tags": [
              "id18-34-1",
              "outputarea_id18"
            ]
          }
        },
        {
          "output_type": "display_data",
          "data": {
            "application/javascript": [
              "window[\"67760308-5ac6-11ea-b93d-0242ac1c0002\"] = google.colab.output.getActiveOutputArea();\n",
              "//# sourceURL=js_099c55d6e2"
            ],
            "text/plain": [
              "<IPython.core.display.Javascript object>"
            ]
          },
          "metadata": {
            "tags": [
              "id18-34-2",
              "outputarea_id18"
            ]
          }
        },
        {
          "output_type": "display_data",
          "data": {
            "application/javascript": [
              "window[\"67766e60-5ac6-11ea-b93d-0242ac1c0002\"] = document.querySelector(\"#id18-34-2\");\n",
              "//# sourceURL=js_ae0160360d"
            ],
            "text/plain": [
              "<IPython.core.display.Javascript object>"
            ]
          },
          "metadata": {
            "tags": [
              "id18-34-2",
              "outputarea_id18"
            ]
          }
        },
        {
          "output_type": "display_data",
          "data": {
            "application/javascript": [
              "window[\"6776c02c-5ac6-11ea-b93d-0242ac1c0002\"] = google.colab.output.setActiveOutputArea(window[\"67766e60-5ac6-11ea-b93d-0242ac1c0002\"]);\n",
              "//# sourceURL=js_70ea79c901"
            ],
            "text/plain": [
              "<IPython.core.display.Javascript object>"
            ]
          },
          "metadata": {
            "tags": [
              "id18-34-2",
              "outputarea_id18"
            ]
          }
        },
        {
          "output_type": "stream",
          "text": [
            "https://patents.google.com/patent/US7085484B2\n"
          ],
          "name": "stdout"
        },
        {
          "output_type": "display_data",
          "data": {
            "application/javascript": [
              "window[\"67781d00-5ac6-11ea-b93d-0242ac1c0002\"] = google.colab.output.setActiveOutputArea(window[\"67760308-5ac6-11ea-b93d-0242ac1c0002\"]);\n",
              "//# sourceURL=js_3b69a67a5f"
            ],
            "text/plain": [
              "<IPython.core.display.Javascript object>"
            ]
          },
          "metadata": {
            "tags": [
              "id18-34-2",
              "outputarea_id18"
            ]
          }
        },
        {
          "output_type": "display_data",
          "data": {
            "application/javascript": [
              "window[\"6779fe2c-5ac6-11ea-b93d-0242ac1c0002\"] = google.colab.output.getActiveOutputArea();\n",
              "//# sourceURL=js_99b8ad12ca"
            ],
            "text/plain": [
              "<IPython.core.display.Javascript object>"
            ]
          },
          "metadata": {
            "tags": [
              "id18-34-3",
              "outputarea_id18"
            ]
          }
        },
        {
          "output_type": "display_data",
          "data": {
            "application/javascript": [
              "window[\"677a5c32-5ac6-11ea-b93d-0242ac1c0002\"] = document.querySelector(\"#id18-34-3\");\n",
              "//# sourceURL=js_4d8dc82930"
            ],
            "text/plain": [
              "<IPython.core.display.Javascript object>"
            ]
          },
          "metadata": {
            "tags": [
              "id18-34-3",
              "outputarea_id18"
            ]
          }
        },
        {
          "output_type": "display_data",
          "data": {
            "application/javascript": [
              "window[\"677aaf20-5ac6-11ea-b93d-0242ac1c0002\"] = google.colab.output.setActiveOutputArea(window[\"677a5c32-5ac6-11ea-b93d-0242ac1c0002\"]);\n",
              "//# sourceURL=js_caa19d8aa5"
            ],
            "text/plain": [
              "<IPython.core.display.Javascript object>"
            ]
          },
          "metadata": {
            "tags": [
              "id18-34-3",
              "outputarea_id18"
            ]
          }
        },
        {
          "output_type": "stream",
          "text": [
            "0.35843527\n"
          ],
          "name": "stdout"
        },
        {
          "output_type": "display_data",
          "data": {
            "application/javascript": [
              "window[\"677bf3bc-5ac6-11ea-b93d-0242ac1c0002\"] = google.colab.output.setActiveOutputArea(window[\"6779fe2c-5ac6-11ea-b93d-0242ac1c0002\"]);\n",
              "//# sourceURL=js_a6035ca5d1"
            ],
            "text/plain": [
              "<IPython.core.display.Javascript object>"
            ]
          },
          "metadata": {
            "tags": [
              "id18-34-3",
              "outputarea_id18"
            ]
          }
        },
        {
          "output_type": "display_data",
          "data": {
            "application/javascript": [
              "window[\"677dcb2e-5ac6-11ea-b93d-0242ac1c0002\"] = google.colab.output.getActiveOutputArea();\n",
              "//# sourceURL=js_ba24d0f43e"
            ],
            "text/plain": [
              "<IPython.core.display.Javascript object>"
            ]
          },
          "metadata": {
            "tags": [
              "id18-35-0",
              "outputarea_id18"
            ]
          }
        },
        {
          "output_type": "display_data",
          "data": {
            "application/javascript": [
              "window[\"677e3a46-5ac6-11ea-b93d-0242ac1c0002\"] = document.querySelector(\"#id18-35-0\");\n",
              "//# sourceURL=js_e69290d50c"
            ],
            "text/plain": [
              "<IPython.core.display.Javascript object>"
            ]
          },
          "metadata": {
            "tags": [
              "id18-35-0",
              "outputarea_id18"
            ]
          }
        },
        {
          "output_type": "display_data",
          "data": {
            "application/javascript": [
              "window[\"677ea2c4-5ac6-11ea-b93d-0242ac1c0002\"] = google.colab.output.setActiveOutputArea(window[\"677e3a46-5ac6-11ea-b93d-0242ac1c0002\"]);\n",
              "//# sourceURL=js_e9682cb824"
            ],
            "text/plain": [
              "<IPython.core.display.Javascript object>"
            ]
          },
          "metadata": {
            "tags": [
              "id18-35-0",
              "outputarea_id18"
            ]
          }
        },
        {
          "output_type": "stream",
          "text": [
            "35\n"
          ],
          "name": "stdout"
        },
        {
          "output_type": "display_data",
          "data": {
            "application/javascript": [
              "window[\"677fcabe-5ac6-11ea-b93d-0242ac1c0002\"] = google.colab.output.setActiveOutputArea(window[\"677dcb2e-5ac6-11ea-b93d-0242ac1c0002\"]);\n",
              "//# sourceURL=js_b4899e9d37"
            ],
            "text/plain": [
              "<IPython.core.display.Javascript object>"
            ]
          },
          "metadata": {
            "tags": [
              "id18-35-0",
              "outputarea_id18"
            ]
          }
        },
        {
          "output_type": "display_data",
          "data": {
            "application/javascript": [
              "window[\"6781a55a-5ac6-11ea-b93d-0242ac1c0002\"] = google.colab.output.getActiveOutputArea();\n",
              "//# sourceURL=js_6a80a75e36"
            ],
            "text/plain": [
              "<IPython.core.display.Javascript object>"
            ]
          },
          "metadata": {
            "tags": [
              "id18-35-1",
              "outputarea_id18"
            ]
          }
        },
        {
          "output_type": "display_data",
          "data": {
            "application/javascript": [
              "window[\"6781f942-5ac6-11ea-b93d-0242ac1c0002\"] = document.querySelector(\"#id18-35-1\");\n",
              "//# sourceURL=js_f86f866919"
            ],
            "text/plain": [
              "<IPython.core.display.Javascript object>"
            ]
          },
          "metadata": {
            "tags": [
              "id18-35-1",
              "outputarea_id18"
            ]
          }
        },
        {
          "output_type": "display_data",
          "data": {
            "application/javascript": [
              "window[\"67824fd2-5ac6-11ea-b93d-0242ac1c0002\"] = google.colab.output.setActiveOutputArea(window[\"6781f942-5ac6-11ea-b93d-0242ac1c0002\"]);\n",
              "//# sourceURL=js_a92a19c779"
            ],
            "text/plain": [
              "<IPython.core.display.Javascript object>"
            ]
          },
          "metadata": {
            "tags": [
              "id18-35-1",
              "outputarea_id18"
            ]
          }
        },
        {
          "output_type": "stream",
          "text": [
            "Music headphones for manual control of ambient sound\n",
            "\n"
          ],
          "name": "stdout"
        },
        {
          "output_type": "display_data",
          "data": {
            "application/javascript": [
              "window[\"6783a8d2-5ac6-11ea-b93d-0242ac1c0002\"] = google.colab.output.setActiveOutputArea(window[\"6781a55a-5ac6-11ea-b93d-0242ac1c0002\"]);\n",
              "//# sourceURL=js_c9fd9667e8"
            ],
            "text/plain": [
              "<IPython.core.display.Javascript object>"
            ]
          },
          "metadata": {
            "tags": [
              "id18-35-1",
              "outputarea_id18"
            ]
          }
        },
        {
          "output_type": "display_data",
          "data": {
            "application/javascript": [
              "window[\"67857f40-5ac6-11ea-b93d-0242ac1c0002\"] = google.colab.output.getActiveOutputArea();\n",
              "//# sourceURL=js_d67144289c"
            ],
            "text/plain": [
              "<IPython.core.display.Javascript object>"
            ]
          },
          "metadata": {
            "tags": [
              "id18-35-2",
              "outputarea_id18"
            ]
          }
        },
        {
          "output_type": "display_data",
          "data": {
            "application/javascript": [
              "window[\"6785e5b6-5ac6-11ea-b93d-0242ac1c0002\"] = document.querySelector(\"#id18-35-2\");\n",
              "//# sourceURL=js_88c26d9ddd"
            ],
            "text/plain": [
              "<IPython.core.display.Javascript object>"
            ]
          },
          "metadata": {
            "tags": [
              "id18-35-2",
              "outputarea_id18"
            ]
          }
        },
        {
          "output_type": "display_data",
          "data": {
            "application/javascript": [
              "window[\"67864d26-5ac6-11ea-b93d-0242ac1c0002\"] = google.colab.output.setActiveOutputArea(window[\"6785e5b6-5ac6-11ea-b93d-0242ac1c0002\"]);\n",
              "//# sourceURL=js_b4b95a7c38"
            ],
            "text/plain": [
              "<IPython.core.display.Javascript object>"
            ]
          },
          "metadata": {
            "tags": [
              "id18-35-2",
              "outputarea_id18"
            ]
          }
        },
        {
          "output_type": "stream",
          "text": [
            "https://patents.google.com/patent/US8023663B2\n"
          ],
          "name": "stdout"
        },
        {
          "output_type": "display_data",
          "data": {
            "application/javascript": [
              "window[\"6787d4d4-5ac6-11ea-b93d-0242ac1c0002\"] = google.colab.output.setActiveOutputArea(window[\"67857f40-5ac6-11ea-b93d-0242ac1c0002\"]);\n",
              "//# sourceURL=js_93d129a300"
            ],
            "text/plain": [
              "<IPython.core.display.Javascript object>"
            ]
          },
          "metadata": {
            "tags": [
              "id18-35-2",
              "outputarea_id18"
            ]
          }
        },
        {
          "output_type": "display_data",
          "data": {
            "application/javascript": [
              "window[\"6789a516-5ac6-11ea-b93d-0242ac1c0002\"] = google.colab.output.getActiveOutputArea();\n",
              "//# sourceURL=js_48af2c4fbb"
            ],
            "text/plain": [
              "<IPython.core.display.Javascript object>"
            ]
          },
          "metadata": {
            "tags": [
              "id18-35-3",
              "outputarea_id18"
            ]
          }
        },
        {
          "output_type": "display_data",
          "data": {
            "application/javascript": [
              "window[\"6789f5a2-5ac6-11ea-b93d-0242ac1c0002\"] = document.querySelector(\"#id18-35-3\");\n",
              "//# sourceURL=js_b2156ac60f"
            ],
            "text/plain": [
              "<IPython.core.display.Javascript object>"
            ]
          },
          "metadata": {
            "tags": [
              "id18-35-3",
              "outputarea_id18"
            ]
          }
        },
        {
          "output_type": "display_data",
          "data": {
            "application/javascript": [
              "window[\"678a691a-5ac6-11ea-b93d-0242ac1c0002\"] = google.colab.output.setActiveOutputArea(window[\"6789f5a2-5ac6-11ea-b93d-0242ac1c0002\"]);\n",
              "//# sourceURL=js_9f4e222714"
            ],
            "text/plain": [
              "<IPython.core.display.Javascript object>"
            ]
          },
          "metadata": {
            "tags": [
              "id18-35-3",
              "outputarea_id18"
            ]
          }
        },
        {
          "output_type": "stream",
          "text": [
            "0.3590434\n"
          ],
          "name": "stdout"
        },
        {
          "output_type": "display_data",
          "data": {
            "application/javascript": [
              "window[\"678b94e8-5ac6-11ea-b93d-0242ac1c0002\"] = google.colab.output.setActiveOutputArea(window[\"6789a516-5ac6-11ea-b93d-0242ac1c0002\"]);\n",
              "//# sourceURL=js_66be3250fb"
            ],
            "text/plain": [
              "<IPython.core.display.Javascript object>"
            ]
          },
          "metadata": {
            "tags": [
              "id18-35-3",
              "outputarea_id18"
            ]
          }
        },
        {
          "output_type": "display_data",
          "data": {
            "application/javascript": [
              "window[\"678d03e6-5ac6-11ea-b93d-0242ac1c0002\"] = google.colab.output.getActiveOutputArea();\n",
              "//# sourceURL=js_496950ca3a"
            ],
            "text/plain": [
              "<IPython.core.display.Javascript object>"
            ]
          },
          "metadata": {
            "tags": [
              "id18-36-0",
              "outputarea_id18"
            ]
          }
        },
        {
          "output_type": "display_data",
          "data": {
            "application/javascript": [
              "window[\"678d83d4-5ac6-11ea-b93d-0242ac1c0002\"] = document.querySelector(\"#id18-36-0\");\n",
              "//# sourceURL=js_e251beb9cd"
            ],
            "text/plain": [
              "<IPython.core.display.Javascript object>"
            ]
          },
          "metadata": {
            "tags": [
              "id18-36-0",
              "outputarea_id18"
            ]
          }
        },
        {
          "output_type": "display_data",
          "data": {
            "application/javascript": [
              "window[\"678e0700-5ac6-11ea-b93d-0242ac1c0002\"] = google.colab.output.setActiveOutputArea(window[\"678d83d4-5ac6-11ea-b93d-0242ac1c0002\"]);\n",
              "//# sourceURL=js_b7991b171a"
            ],
            "text/plain": [
              "<IPython.core.display.Javascript object>"
            ]
          },
          "metadata": {
            "tags": [
              "id18-36-0",
              "outputarea_id18"
            ]
          }
        },
        {
          "output_type": "stream",
          "text": [
            "36\n"
          ],
          "name": "stdout"
        },
        {
          "output_type": "display_data",
          "data": {
            "application/javascript": [
              "window[\"678fee58-5ac6-11ea-b93d-0242ac1c0002\"] = google.colab.output.setActiveOutputArea(window[\"678d03e6-5ac6-11ea-b93d-0242ac1c0002\"]);\n",
              "//# sourceURL=js_1818f5e498"
            ],
            "text/plain": [
              "<IPython.core.display.Javascript object>"
            ]
          },
          "metadata": {
            "tags": [
              "id18-36-0",
              "outputarea_id18"
            ]
          }
        },
        {
          "output_type": "display_data",
          "data": {
            "application/javascript": [
              "window[\"679186be-5ac6-11ea-b93d-0242ac1c0002\"] = google.colab.output.getActiveOutputArea();\n",
              "//# sourceURL=js_353ae33c81"
            ],
            "text/plain": [
              "<IPython.core.display.Javascript object>"
            ]
          },
          "metadata": {
            "tags": [
              "id18-36-1",
              "outputarea_id18"
            ]
          }
        },
        {
          "output_type": "display_data",
          "data": {
            "application/javascript": [
              "window[\"6791ebe0-5ac6-11ea-b93d-0242ac1c0002\"] = document.querySelector(\"#id18-36-1\");\n",
              "//# sourceURL=js_323cda33a8"
            ],
            "text/plain": [
              "<IPython.core.display.Javascript object>"
            ]
          },
          "metadata": {
            "tags": [
              "id18-36-1",
              "outputarea_id18"
            ]
          }
        },
        {
          "output_type": "display_data",
          "data": {
            "application/javascript": [
              "window[\"679242d4-5ac6-11ea-b93d-0242ac1c0002\"] = google.colab.output.setActiveOutputArea(window[\"6791ebe0-5ac6-11ea-b93d-0242ac1c0002\"]);\n",
              "//# sourceURL=js_90fa0aa93b"
            ],
            "text/plain": [
              "<IPython.core.display.Javascript object>"
            ]
          },
          "metadata": {
            "tags": [
              "id18-36-1",
              "outputarea_id18"
            ]
          }
        },
        {
          "output_type": "stream",
          "text": [
            "Piezoelectric resonator, filter, and duplexer\n",
            "\n"
          ],
          "name": "stdout"
        },
        {
          "output_type": "display_data",
          "data": {
            "application/javascript": [
              "window[\"6793bcd6-5ac6-11ea-b93d-0242ac1c0002\"] = google.colab.output.setActiveOutputArea(window[\"679186be-5ac6-11ea-b93d-0242ac1c0002\"]);\n",
              "//# sourceURL=js_5c5069b4f2"
            ],
            "text/plain": [
              "<IPython.core.display.Javascript object>"
            ]
          },
          "metadata": {
            "tags": [
              "id18-36-1",
              "outputarea_id18"
            ]
          }
        },
        {
          "output_type": "display_data",
          "data": {
            "application/javascript": [
              "window[\"67959b32-5ac6-11ea-b93d-0242ac1c0002\"] = google.colab.output.getActiveOutputArea();\n",
              "//# sourceURL=js_c663ec4850"
            ],
            "text/plain": [
              "<IPython.core.display.Javascript object>"
            ]
          },
          "metadata": {
            "tags": [
              "id18-36-2",
              "outputarea_id18"
            ]
          }
        },
        {
          "output_type": "display_data",
          "data": {
            "application/javascript": [
              "window[\"6795ffe6-5ac6-11ea-b93d-0242ac1c0002\"] = document.querySelector(\"#id18-36-2\");\n",
              "//# sourceURL=js_b44a00ca92"
            ],
            "text/plain": [
              "<IPython.core.display.Javascript object>"
            ]
          },
          "metadata": {
            "tags": [
              "id18-36-2",
              "outputarea_id18"
            ]
          }
        },
        {
          "output_type": "display_data",
          "data": {
            "application/javascript": [
              "window[\"67965266-5ac6-11ea-b93d-0242ac1c0002\"] = google.colab.output.setActiveOutputArea(window[\"6795ffe6-5ac6-11ea-b93d-0242ac1c0002\"]);\n",
              "//# sourceURL=js_ebfa78ed8e"
            ],
            "text/plain": [
              "<IPython.core.display.Javascript object>"
            ]
          },
          "metadata": {
            "tags": [
              "id18-36-2",
              "outputarea_id18"
            ]
          }
        },
        {
          "output_type": "stream",
          "text": [
            "https://patents.google.com/patent/US7259498B2\n"
          ],
          "name": "stdout"
        },
        {
          "output_type": "display_data",
          "data": {
            "application/javascript": [
              "window[\"67973104-5ac6-11ea-b93d-0242ac1c0002\"] = google.colab.output.setActiveOutputArea(window[\"67959b32-5ac6-11ea-b93d-0242ac1c0002\"]);\n",
              "//# sourceURL=js_ba6a97f758"
            ],
            "text/plain": [
              "<IPython.core.display.Javascript object>"
            ]
          },
          "metadata": {
            "tags": [
              "id18-36-2",
              "outputarea_id18"
            ]
          }
        },
        {
          "output_type": "display_data",
          "data": {
            "application/javascript": [
              "window[\"67991ec4-5ac6-11ea-b93d-0242ac1c0002\"] = google.colab.output.getActiveOutputArea();\n",
              "//# sourceURL=js_f329f9f941"
            ],
            "text/plain": [
              "<IPython.core.display.Javascript object>"
            ]
          },
          "metadata": {
            "tags": [
              "id18-36-3",
              "outputarea_id18"
            ]
          }
        },
        {
          "output_type": "display_data",
          "data": {
            "application/javascript": [
              "window[\"679977d4-5ac6-11ea-b93d-0242ac1c0002\"] = document.querySelector(\"#id18-36-3\");\n",
              "//# sourceURL=js_065c803115"
            ],
            "text/plain": [
              "<IPython.core.display.Javascript object>"
            ]
          },
          "metadata": {
            "tags": [
              "id18-36-3",
              "outputarea_id18"
            ]
          }
        },
        {
          "output_type": "display_data",
          "data": {
            "application/javascript": [
              "window[\"6799c1da-5ac6-11ea-b93d-0242ac1c0002\"] = google.colab.output.setActiveOutputArea(window[\"679977d4-5ac6-11ea-b93d-0242ac1c0002\"]);\n",
              "//# sourceURL=js_f7a5f28ee3"
            ],
            "text/plain": [
              "<IPython.core.display.Javascript object>"
            ]
          },
          "metadata": {
            "tags": [
              "id18-36-3",
              "outputarea_id18"
            ]
          }
        },
        {
          "output_type": "stream",
          "text": [
            "0.3602914\n"
          ],
          "name": "stdout"
        },
        {
          "output_type": "display_data",
          "data": {
            "application/javascript": [
              "window[\"679adfd4-5ac6-11ea-b93d-0242ac1c0002\"] = google.colab.output.setActiveOutputArea(window[\"67991ec4-5ac6-11ea-b93d-0242ac1c0002\"]);\n",
              "//# sourceURL=js_98d2c35190"
            ],
            "text/plain": [
              "<IPython.core.display.Javascript object>"
            ]
          },
          "metadata": {
            "tags": [
              "id18-36-3",
              "outputarea_id18"
            ]
          }
        },
        {
          "output_type": "display_data",
          "data": {
            "application/javascript": [
              "window[\"679c6a5c-5ac6-11ea-b93d-0242ac1c0002\"] = google.colab.output.getActiveOutputArea();\n",
              "//# sourceURL=js_0e300a2d3b"
            ],
            "text/plain": [
              "<IPython.core.display.Javascript object>"
            ]
          },
          "metadata": {
            "tags": [
              "id18-37-0",
              "outputarea_id18"
            ]
          }
        },
        {
          "output_type": "display_data",
          "data": {
            "application/javascript": [
              "window[\"679cbac0-5ac6-11ea-b93d-0242ac1c0002\"] = document.querySelector(\"#id18-37-0\");\n",
              "//# sourceURL=js_484bfef27d"
            ],
            "text/plain": [
              "<IPython.core.display.Javascript object>"
            ]
          },
          "metadata": {
            "tags": [
              "id18-37-0",
              "outputarea_id18"
            ]
          }
        },
        {
          "output_type": "display_data",
          "data": {
            "application/javascript": [
              "window[\"679d11a0-5ac6-11ea-b93d-0242ac1c0002\"] = google.colab.output.setActiveOutputArea(window[\"679cbac0-5ac6-11ea-b93d-0242ac1c0002\"]);\n",
              "//# sourceURL=js_88c0bf22a9"
            ],
            "text/plain": [
              "<IPython.core.display.Javascript object>"
            ]
          },
          "metadata": {
            "tags": [
              "id18-37-0",
              "outputarea_id18"
            ]
          }
        },
        {
          "output_type": "stream",
          "text": [
            "37\n"
          ],
          "name": "stdout"
        },
        {
          "output_type": "display_data",
          "data": {
            "application/javascript": [
              "window[\"679e2838-5ac6-11ea-b93d-0242ac1c0002\"] = google.colab.output.setActiveOutputArea(window[\"679c6a5c-5ac6-11ea-b93d-0242ac1c0002\"]);\n",
              "//# sourceURL=js_87b604a1d1"
            ],
            "text/plain": [
              "<IPython.core.display.Javascript object>"
            ]
          },
          "metadata": {
            "tags": [
              "id18-37-0",
              "outputarea_id18"
            ]
          }
        },
        {
          "output_type": "display_data",
          "data": {
            "application/javascript": [
              "window[\"679fc832-5ac6-11ea-b93d-0242ac1c0002\"] = google.colab.output.getActiveOutputArea();\n",
              "//# sourceURL=js_60c84e0f97"
            ],
            "text/plain": [
              "<IPython.core.display.Javascript object>"
            ]
          },
          "metadata": {
            "tags": [
              "id18-37-1",
              "outputarea_id18"
            ]
          }
        },
        {
          "output_type": "display_data",
          "data": {
            "application/javascript": [
              "window[\"67a01256-5ac6-11ea-b93d-0242ac1c0002\"] = document.querySelector(\"#id18-37-1\");\n",
              "//# sourceURL=js_fab7dc6454"
            ],
            "text/plain": [
              "<IPython.core.display.Javascript object>"
            ]
          },
          "metadata": {
            "tags": [
              "id18-37-1",
              "outputarea_id18"
            ]
          }
        },
        {
          "output_type": "display_data",
          "data": {
            "application/javascript": [
              "window[\"67a06b66-5ac6-11ea-b93d-0242ac1c0002\"] = google.colab.output.setActiveOutputArea(window[\"67a01256-5ac6-11ea-b93d-0242ac1c0002\"]);\n",
              "//# sourceURL=js_ede2b141a7"
            ],
            "text/plain": [
              "<IPython.core.display.Javascript object>"
            ]
          },
          "metadata": {
            "tags": [
              "id18-37-1",
              "outputarea_id18"
            ]
          }
        },
        {
          "output_type": "stream",
          "text": [
            "Tilt and swivel chair and mechanism therefor\n",
            "\n"
          ],
          "name": "stdout"
        },
        {
          "output_type": "display_data",
          "data": {
            "application/javascript": [
              "window[\"67a193ba-5ac6-11ea-b93d-0242ac1c0002\"] = google.colab.output.setActiveOutputArea(window[\"679fc832-5ac6-11ea-b93d-0242ac1c0002\"]);\n",
              "//# sourceURL=js_946da19a34"
            ],
            "text/plain": [
              "<IPython.core.display.Javascript object>"
            ]
          },
          "metadata": {
            "tags": [
              "id18-37-1",
              "outputarea_id18"
            ]
          }
        },
        {
          "output_type": "display_data",
          "data": {
            "application/javascript": [
              "window[\"67a3266c-5ac6-11ea-b93d-0242ac1c0002\"] = google.colab.output.getActiveOutputArea();\n",
              "//# sourceURL=js_292d150716"
            ],
            "text/plain": [
              "<IPython.core.display.Javascript object>"
            ]
          },
          "metadata": {
            "tags": [
              "id18-37-2",
              "outputarea_id18"
            ]
          }
        },
        {
          "output_type": "display_data",
          "data": {
            "application/javascript": [
              "window[\"67a37964-5ac6-11ea-b93d-0242ac1c0002\"] = document.querySelector(\"#id18-37-2\");\n",
              "//# sourceURL=js_41d42547f3"
            ],
            "text/plain": [
              "<IPython.core.display.Javascript object>"
            ]
          },
          "metadata": {
            "tags": [
              "id18-37-2",
              "outputarea_id18"
            ]
          }
        },
        {
          "output_type": "display_data",
          "data": {
            "application/javascript": [
              "window[\"67a3d922-5ac6-11ea-b93d-0242ac1c0002\"] = google.colab.output.setActiveOutputArea(window[\"67a37964-5ac6-11ea-b93d-0242ac1c0002\"]);\n",
              "//# sourceURL=js_799a3967e3"
            ],
            "text/plain": [
              "<IPython.core.display.Javascript object>"
            ]
          },
          "metadata": {
            "tags": [
              "id18-37-2",
              "outputarea_id18"
            ]
          }
        },
        {
          "output_type": "stream",
          "text": [
            "https://patents.google.com/patent/US7547067B2\n"
          ],
          "name": "stdout"
        },
        {
          "output_type": "display_data",
          "data": {
            "application/javascript": [
              "window[\"67a5118e-5ac6-11ea-b93d-0242ac1c0002\"] = google.colab.output.setActiveOutputArea(window[\"67a3266c-5ac6-11ea-b93d-0242ac1c0002\"]);\n",
              "//# sourceURL=js_33692ba491"
            ],
            "text/plain": [
              "<IPython.core.display.Javascript object>"
            ]
          },
          "metadata": {
            "tags": [
              "id18-37-2",
              "outputarea_id18"
            ]
          }
        },
        {
          "output_type": "display_data",
          "data": {
            "application/javascript": [
              "window[\"67a6af58-5ac6-11ea-b93d-0242ac1c0002\"] = google.colab.output.getActiveOutputArea();\n",
              "//# sourceURL=js_89c8b2c892"
            ],
            "text/plain": [
              "<IPython.core.display.Javascript object>"
            ]
          },
          "metadata": {
            "tags": [
              "id18-37-3",
              "outputarea_id18"
            ]
          }
        },
        {
          "output_type": "display_data",
          "data": {
            "application/javascript": [
              "window[\"67a716be-5ac6-11ea-b93d-0242ac1c0002\"] = document.querySelector(\"#id18-37-3\");\n",
              "//# sourceURL=js_a8fac4b904"
            ],
            "text/plain": [
              "<IPython.core.display.Javascript object>"
            ]
          },
          "metadata": {
            "tags": [
              "id18-37-3",
              "outputarea_id18"
            ]
          }
        },
        {
          "output_type": "display_data",
          "data": {
            "application/javascript": [
              "window[\"67a76556-5ac6-11ea-b93d-0242ac1c0002\"] = google.colab.output.setActiveOutputArea(window[\"67a716be-5ac6-11ea-b93d-0242ac1c0002\"]);\n",
              "//# sourceURL=js_645f522618"
            ],
            "text/plain": [
              "<IPython.core.display.Javascript object>"
            ]
          },
          "metadata": {
            "tags": [
              "id18-37-3",
              "outputarea_id18"
            ]
          }
        },
        {
          "output_type": "stream",
          "text": [
            "0.36148587\n"
          ],
          "name": "stdout"
        },
        {
          "output_type": "display_data",
          "data": {
            "application/javascript": [
              "window[\"67a88f08-5ac6-11ea-b93d-0242ac1c0002\"] = google.colab.output.setActiveOutputArea(window[\"67a6af58-5ac6-11ea-b93d-0242ac1c0002\"]);\n",
              "//# sourceURL=js_2b9a06e763"
            ],
            "text/plain": [
              "<IPython.core.display.Javascript object>"
            ]
          },
          "metadata": {
            "tags": [
              "id18-37-3",
              "outputarea_id18"
            ]
          }
        },
        {
          "output_type": "display_data",
          "data": {
            "application/javascript": [
              "window[\"67aa29d0-5ac6-11ea-b93d-0242ac1c0002\"] = google.colab.output.getActiveOutputArea();\n",
              "//# sourceURL=js_18707a6ad6"
            ],
            "text/plain": [
              "<IPython.core.display.Javascript object>"
            ]
          },
          "metadata": {
            "tags": [
              "id18-38-0",
              "outputarea_id18"
            ]
          }
        },
        {
          "output_type": "display_data",
          "data": {
            "application/javascript": [
              "window[\"67aa70b6-5ac6-11ea-b93d-0242ac1c0002\"] = document.querySelector(\"#id18-38-0\");\n",
              "//# sourceURL=js_2a5f2e3c33"
            ],
            "text/plain": [
              "<IPython.core.display.Javascript object>"
            ]
          },
          "metadata": {
            "tags": [
              "id18-38-0",
              "outputarea_id18"
            ]
          }
        },
        {
          "output_type": "display_data",
          "data": {
            "application/javascript": [
              "window[\"67aad5b0-5ac6-11ea-b93d-0242ac1c0002\"] = google.colab.output.setActiveOutputArea(window[\"67aa70b6-5ac6-11ea-b93d-0242ac1c0002\"]);\n",
              "//# sourceURL=js_43f902bab3"
            ],
            "text/plain": [
              "<IPython.core.display.Javascript object>"
            ]
          },
          "metadata": {
            "tags": [
              "id18-38-0",
              "outputarea_id18"
            ]
          }
        },
        {
          "output_type": "stream",
          "text": [
            "38\n"
          ],
          "name": "stdout"
        },
        {
          "output_type": "display_data",
          "data": {
            "application/javascript": [
              "window[\"67abf756-5ac6-11ea-b93d-0242ac1c0002\"] = google.colab.output.setActiveOutputArea(window[\"67aa29d0-5ac6-11ea-b93d-0242ac1c0002\"]);\n",
              "//# sourceURL=js_20d8b8fa02"
            ],
            "text/plain": [
              "<IPython.core.display.Javascript object>"
            ]
          },
          "metadata": {
            "tags": [
              "id18-38-0",
              "outputarea_id18"
            ]
          }
        },
        {
          "output_type": "display_data",
          "data": {
            "application/javascript": [
              "window[\"67ad8602-5ac6-11ea-b93d-0242ac1c0002\"] = google.colab.output.getActiveOutputArea();\n",
              "//# sourceURL=js_d4ddb9b147"
            ],
            "text/plain": [
              "<IPython.core.display.Javascript object>"
            ]
          },
          "metadata": {
            "tags": [
              "id18-38-1",
              "outputarea_id18"
            ]
          }
        },
        {
          "output_type": "display_data",
          "data": {
            "application/javascript": [
              "window[\"67ade084-5ac6-11ea-b93d-0242ac1c0002\"] = document.querySelector(\"#id18-38-1\");\n",
              "//# sourceURL=js_44f01d9e91"
            ],
            "text/plain": [
              "<IPython.core.display.Javascript object>"
            ]
          },
          "metadata": {
            "tags": [
              "id18-38-1",
              "outputarea_id18"
            ]
          }
        },
        {
          "output_type": "display_data",
          "data": {
            "application/javascript": [
              "window[\"67ae3cf0-5ac6-11ea-b93d-0242ac1c0002\"] = google.colab.output.setActiveOutputArea(window[\"67ade084-5ac6-11ea-b93d-0242ac1c0002\"]);\n",
              "//# sourceURL=js_86ed783e53"
            ],
            "text/plain": [
              "<IPython.core.display.Javascript object>"
            ]
          },
          "metadata": {
            "tags": [
              "id18-38-1",
              "outputarea_id18"
            ]
          }
        },
        {
          "output_type": "stream",
          "text": [
            "Event recorder for portable media device\n",
            "\n"
          ],
          "name": "stdout"
        },
        {
          "output_type": "display_data",
          "data": {
            "application/javascript": [
              "window[\"67af4b5e-5ac6-11ea-b93d-0242ac1c0002\"] = google.colab.output.setActiveOutputArea(window[\"67ad8602-5ac6-11ea-b93d-0242ac1c0002\"]);\n",
              "//# sourceURL=js_24c7f85ffe"
            ],
            "text/plain": [
              "<IPython.core.display.Javascript object>"
            ]
          },
          "metadata": {
            "tags": [
              "id18-38-1",
              "outputarea_id18"
            ]
          }
        },
        {
          "output_type": "display_data",
          "data": {
            "application/javascript": [
              "window[\"67b0e612-5ac6-11ea-b93d-0242ac1c0002\"] = google.colab.output.getActiveOutputArea();\n",
              "//# sourceURL=js_cdf3e53b11"
            ],
            "text/plain": [
              "<IPython.core.display.Javascript object>"
            ]
          },
          "metadata": {
            "tags": [
              "id18-38-2",
              "outputarea_id18"
            ]
          }
        },
        {
          "output_type": "display_data",
          "data": {
            "application/javascript": [
              "window[\"67b14418-5ac6-11ea-b93d-0242ac1c0002\"] = document.querySelector(\"#id18-38-2\");\n",
              "//# sourceURL=js_d2aae4dad5"
            ],
            "text/plain": [
              "<IPython.core.display.Javascript object>"
            ]
          },
          "metadata": {
            "tags": [
              "id18-38-2",
              "outputarea_id18"
            ]
          }
        },
        {
          "output_type": "display_data",
          "data": {
            "application/javascript": [
              "window[\"67b1ba06-5ac6-11ea-b93d-0242ac1c0002\"] = google.colab.output.setActiveOutputArea(window[\"67b14418-5ac6-11ea-b93d-0242ac1c0002\"]);\n",
              "//# sourceURL=js_2ff38b08b5"
            ],
            "text/plain": [
              "<IPython.core.display.Javascript object>"
            ]
          },
          "metadata": {
            "tags": [
              "id18-38-2",
              "outputarea_id18"
            ]
          }
        },
        {
          "output_type": "stream",
          "text": [
            "https://patents.google.com/patent/US7589629B2\n"
          ],
          "name": "stdout"
        },
        {
          "output_type": "display_data",
          "data": {
            "application/javascript": [
              "window[\"67b2d9c2-5ac6-11ea-b93d-0242ac1c0002\"] = google.colab.output.setActiveOutputArea(window[\"67b0e612-5ac6-11ea-b93d-0242ac1c0002\"]);\n",
              "//# sourceURL=js_4b7e7fff32"
            ],
            "text/plain": [
              "<IPython.core.display.Javascript object>"
            ]
          },
          "metadata": {
            "tags": [
              "id18-38-2",
              "outputarea_id18"
            ]
          }
        },
        {
          "output_type": "display_data",
          "data": {
            "application/javascript": [
              "window[\"67b45964-5ac6-11ea-b93d-0242ac1c0002\"] = google.colab.output.getActiveOutputArea();\n",
              "//# sourceURL=js_e3ecd53e40"
            ],
            "text/plain": [
              "<IPython.core.display.Javascript object>"
            ]
          },
          "metadata": {
            "tags": [
              "id18-38-3",
              "outputarea_id18"
            ]
          }
        },
        {
          "output_type": "display_data",
          "data": {
            "application/javascript": [
              "window[\"67b4a3d8-5ac6-11ea-b93d-0242ac1c0002\"] = document.querySelector(\"#id18-38-3\");\n",
              "//# sourceURL=js_f8a39ec125"
            ],
            "text/plain": [
              "<IPython.core.display.Javascript object>"
            ]
          },
          "metadata": {
            "tags": [
              "id18-38-3",
              "outputarea_id18"
            ]
          }
        },
        {
          "output_type": "display_data",
          "data": {
            "application/javascript": [
              "window[\"67b50b70-5ac6-11ea-b93d-0242ac1c0002\"] = google.colab.output.setActiveOutputArea(window[\"67b4a3d8-5ac6-11ea-b93d-0242ac1c0002\"]);\n",
              "//# sourceURL=js_ab7f401a2e"
            ],
            "text/plain": [
              "<IPython.core.display.Javascript object>"
            ]
          },
          "metadata": {
            "tags": [
              "id18-38-3",
              "outputarea_id18"
            ]
          }
        },
        {
          "output_type": "stream",
          "text": [
            "0.36429787\n"
          ],
          "name": "stdout"
        },
        {
          "output_type": "display_data",
          "data": {
            "application/javascript": [
              "window[\"67b61c0e-5ac6-11ea-b93d-0242ac1c0002\"] = google.colab.output.setActiveOutputArea(window[\"67b45964-5ac6-11ea-b93d-0242ac1c0002\"]);\n",
              "//# sourceURL=js_23948e24d1"
            ],
            "text/plain": [
              "<IPython.core.display.Javascript object>"
            ]
          },
          "metadata": {
            "tags": [
              "id18-38-3",
              "outputarea_id18"
            ]
          }
        },
        {
          "output_type": "display_data",
          "data": {
            "application/javascript": [
              "window[\"67b7d530-5ac6-11ea-b93d-0242ac1c0002\"] = google.colab.output.getActiveOutputArea();\n",
              "//# sourceURL=js_543b74326a"
            ],
            "text/plain": [
              "<IPython.core.display.Javascript object>"
            ]
          },
          "metadata": {
            "tags": [
              "id18-39-0",
              "outputarea_id18"
            ]
          }
        },
        {
          "output_type": "display_data",
          "data": {
            "application/javascript": [
              "window[\"67b8370a-5ac6-11ea-b93d-0242ac1c0002\"] = document.querySelector(\"#id18-39-0\");\n",
              "//# sourceURL=js_259300f89b"
            ],
            "text/plain": [
              "<IPython.core.display.Javascript object>"
            ]
          },
          "metadata": {
            "tags": [
              "id18-39-0",
              "outputarea_id18"
            ]
          }
        },
        {
          "output_type": "display_data",
          "data": {
            "application/javascript": [
              "window[\"67b8858e-5ac6-11ea-b93d-0242ac1c0002\"] = google.colab.output.setActiveOutputArea(window[\"67b8370a-5ac6-11ea-b93d-0242ac1c0002\"]);\n",
              "//# sourceURL=js_e0889c75eb"
            ],
            "text/plain": [
              "<IPython.core.display.Javascript object>"
            ]
          },
          "metadata": {
            "tags": [
              "id18-39-0",
              "outputarea_id18"
            ]
          }
        },
        {
          "output_type": "stream",
          "text": [
            "39\n"
          ],
          "name": "stdout"
        },
        {
          "output_type": "display_data",
          "data": {
            "application/javascript": [
              "window[\"67b998a2-5ac6-11ea-b93d-0242ac1c0002\"] = google.colab.output.setActiveOutputArea(window[\"67b7d530-5ac6-11ea-b93d-0242ac1c0002\"]);\n",
              "//# sourceURL=js_3769c713df"
            ],
            "text/plain": [
              "<IPython.core.display.Javascript object>"
            ]
          },
          "metadata": {
            "tags": [
              "id18-39-0",
              "outputarea_id18"
            ]
          }
        },
        {
          "output_type": "display_data",
          "data": {
            "application/javascript": [
              "window[\"67bb42f6-5ac6-11ea-b93d-0242ac1c0002\"] = google.colab.output.getActiveOutputArea();\n",
              "//# sourceURL=js_5deb9ab8b0"
            ],
            "text/plain": [
              "<IPython.core.display.Javascript object>"
            ]
          },
          "metadata": {
            "tags": [
              "id18-39-1",
              "outputarea_id18"
            ]
          }
        },
        {
          "output_type": "display_data",
          "data": {
            "application/javascript": [
              "window[\"67bb8f04-5ac6-11ea-b93d-0242ac1c0002\"] = document.querySelector(\"#id18-39-1\");\n",
              "//# sourceURL=js_63122caa9c"
            ],
            "text/plain": [
              "<IPython.core.display.Javascript object>"
            ]
          },
          "metadata": {
            "tags": [
              "id18-39-1",
              "outputarea_id18"
            ]
          }
        },
        {
          "output_type": "display_data",
          "data": {
            "application/javascript": [
              "window[\"67bbec06-5ac6-11ea-b93d-0242ac1c0002\"] = google.colab.output.setActiveOutputArea(window[\"67bb8f04-5ac6-11ea-b93d-0242ac1c0002\"]);\n",
              "//# sourceURL=js_eb699d8d57"
            ],
            "text/plain": [
              "<IPython.core.display.Javascript object>"
            ]
          },
          "metadata": {
            "tags": [
              "id18-39-1",
              "outputarea_id18"
            ]
          }
        },
        {
          "output_type": "stream",
          "text": [
            "Horizontal linear vibrator\n",
            "\n"
          ],
          "name": "stdout"
        },
        {
          "output_type": "display_data",
          "data": {
            "application/javascript": [
              "window[\"67bd1874-5ac6-11ea-b93d-0242ac1c0002\"] = google.colab.output.setActiveOutputArea(window[\"67bb42f6-5ac6-11ea-b93d-0242ac1c0002\"]);\n",
              "//# sourceURL=js_a8f5f5c4e0"
            ],
            "text/plain": [
              "<IPython.core.display.Javascript object>"
            ]
          },
          "metadata": {
            "tags": [
              "id18-39-1",
              "outputarea_id18"
            ]
          }
        },
        {
          "output_type": "display_data",
          "data": {
            "application/javascript": [
              "window[\"67bea0ae-5ac6-11ea-b93d-0242ac1c0002\"] = google.colab.output.getActiveOutputArea();\n",
              "//# sourceURL=js_333866068c"
            ],
            "text/plain": [
              "<IPython.core.display.Javascript object>"
            ]
          },
          "metadata": {
            "tags": [
              "id18-39-2",
              "outputarea_id18"
            ]
          }
        },
        {
          "output_type": "display_data",
          "data": {
            "application/javascript": [
              "window[\"67bf027e-5ac6-11ea-b93d-0242ac1c0002\"] = document.querySelector(\"#id18-39-2\");\n",
              "//# sourceURL=js_cd5bd4a80a"
            ],
            "text/plain": [
              "<IPython.core.display.Javascript object>"
            ]
          },
          "metadata": {
            "tags": [
              "id18-39-2",
              "outputarea_id18"
            ]
          }
        },
        {
          "output_type": "display_data",
          "data": {
            "application/javascript": [
              "window[\"67bf4d1a-5ac6-11ea-b93d-0242ac1c0002\"] = google.colab.output.setActiveOutputArea(window[\"67bf027e-5ac6-11ea-b93d-0242ac1c0002\"]);\n",
              "//# sourceURL=js_9a2ef48eab"
            ],
            "text/plain": [
              "<IPython.core.display.Javascript object>"
            ]
          },
          "metadata": {
            "tags": [
              "id18-39-2",
              "outputarea_id18"
            ]
          }
        },
        {
          "output_type": "stream",
          "text": [
            "https://patents.google.com/patent/US7999421B2\n"
          ],
          "name": "stdout"
        },
        {
          "output_type": "display_data",
          "data": {
            "application/javascript": [
              "window[\"67c0596c-5ac6-11ea-b93d-0242ac1c0002\"] = google.colab.output.setActiveOutputArea(window[\"67bea0ae-5ac6-11ea-b93d-0242ac1c0002\"]);\n",
              "//# sourceURL=js_2f5233ce93"
            ],
            "text/plain": [
              "<IPython.core.display.Javascript object>"
            ]
          },
          "metadata": {
            "tags": [
              "id18-39-2",
              "outputarea_id18"
            ]
          }
        },
        {
          "output_type": "display_data",
          "data": {
            "application/javascript": [
              "window[\"67c2071c-5ac6-11ea-b93d-0242ac1c0002\"] = google.colab.output.getActiveOutputArea();\n",
              "//# sourceURL=js_e34da9576d"
            ],
            "text/plain": [
              "<IPython.core.display.Javascript object>"
            ]
          },
          "metadata": {
            "tags": [
              "id18-39-3",
              "outputarea_id18"
            ]
          }
        },
        {
          "output_type": "display_data",
          "data": {
            "application/javascript": [
              "window[\"67c25cda-5ac6-11ea-b93d-0242ac1c0002\"] = document.querySelector(\"#id18-39-3\");\n",
              "//# sourceURL=js_4b1326b5b9"
            ],
            "text/plain": [
              "<IPython.core.display.Javascript object>"
            ]
          },
          "metadata": {
            "tags": [
              "id18-39-3",
              "outputarea_id18"
            ]
          }
        },
        {
          "output_type": "display_data",
          "data": {
            "application/javascript": [
              "window[\"67c2b068-5ac6-11ea-b93d-0242ac1c0002\"] = google.colab.output.setActiveOutputArea(window[\"67c25cda-5ac6-11ea-b93d-0242ac1c0002\"]);\n",
              "//# sourceURL=js_9a7b4bcff7"
            ],
            "text/plain": [
              "<IPython.core.display.Javascript object>"
            ]
          },
          "metadata": {
            "tags": [
              "id18-39-3",
              "outputarea_id18"
            ]
          }
        },
        {
          "output_type": "stream",
          "text": [
            "0.36461085\n"
          ],
          "name": "stdout"
        },
        {
          "output_type": "display_data",
          "data": {
            "application/javascript": [
              "window[\"67c3b5f8-5ac6-11ea-b93d-0242ac1c0002\"] = google.colab.output.setActiveOutputArea(window[\"67c2071c-5ac6-11ea-b93d-0242ac1c0002\"]);\n",
              "//# sourceURL=js_7ec86f2ee1"
            ],
            "text/plain": [
              "<IPython.core.display.Javascript object>"
            ]
          },
          "metadata": {
            "tags": [
              "id18-39-3",
              "outputarea_id18"
            ]
          }
        },
        {
          "output_type": "display_data",
          "data": {
            "application/javascript": [
              "window[\"67c549ae-5ac6-11ea-b93d-0242ac1c0002\"] = google.colab.output.getActiveOutputArea();\n",
              "//# sourceURL=js_e72cb26f48"
            ],
            "text/plain": [
              "<IPython.core.display.Javascript object>"
            ]
          },
          "metadata": {
            "tags": [
              "id18-40-0",
              "outputarea_id18"
            ]
          }
        },
        {
          "output_type": "display_data",
          "data": {
            "application/javascript": [
              "window[\"67c5a62e-5ac6-11ea-b93d-0242ac1c0002\"] = document.querySelector(\"#id18-40-0\");\n",
              "//# sourceURL=js_eb9ec34a92"
            ],
            "text/plain": [
              "<IPython.core.display.Javascript object>"
            ]
          },
          "metadata": {
            "tags": [
              "id18-40-0",
              "outputarea_id18"
            ]
          }
        },
        {
          "output_type": "display_data",
          "data": {
            "application/javascript": [
              "window[\"67c60c0e-5ac6-11ea-b93d-0242ac1c0002\"] = google.colab.output.setActiveOutputArea(window[\"67c5a62e-5ac6-11ea-b93d-0242ac1c0002\"]);\n",
              "//# sourceURL=js_adf67846c3"
            ],
            "text/plain": [
              "<IPython.core.display.Javascript object>"
            ]
          },
          "metadata": {
            "tags": [
              "id18-40-0",
              "outputarea_id18"
            ]
          }
        },
        {
          "output_type": "stream",
          "text": [
            "40\n"
          ],
          "name": "stdout"
        },
        {
          "output_type": "display_data",
          "data": {
            "application/javascript": [
              "window[\"67c73124-5ac6-11ea-b93d-0242ac1c0002\"] = google.colab.output.setActiveOutputArea(window[\"67c549ae-5ac6-11ea-b93d-0242ac1c0002\"]);\n",
              "//# sourceURL=js_a29d218826"
            ],
            "text/plain": [
              "<IPython.core.display.Javascript object>"
            ]
          },
          "metadata": {
            "tags": [
              "id18-40-0",
              "outputarea_id18"
            ]
          }
        },
        {
          "output_type": "display_data",
          "data": {
            "application/javascript": [
              "window[\"67c8aaae-5ac6-11ea-b93d-0242ac1c0002\"] = google.colab.output.getActiveOutputArea();\n",
              "//# sourceURL=js_4ddbc61df3"
            ],
            "text/plain": [
              "<IPython.core.display.Javascript object>"
            ]
          },
          "metadata": {
            "tags": [
              "id18-40-1",
              "outputarea_id18"
            ]
          }
        },
        {
          "output_type": "display_data",
          "data": {
            "application/javascript": [
              "window[\"67c902b0-5ac6-11ea-b93d-0242ac1c0002\"] = document.querySelector(\"#id18-40-1\");\n",
              "//# sourceURL=js_69c39e330a"
            ],
            "text/plain": [
              "<IPython.core.display.Javascript object>"
            ]
          },
          "metadata": {
            "tags": [
              "id18-40-1",
              "outputarea_id18"
            ]
          }
        },
        {
          "output_type": "display_data",
          "data": {
            "application/javascript": [
              "window[\"67c95d5a-5ac6-11ea-b93d-0242ac1c0002\"] = google.colab.output.setActiveOutputArea(window[\"67c902b0-5ac6-11ea-b93d-0242ac1c0002\"]);\n",
              "//# sourceURL=js_ccff080d6d"
            ],
            "text/plain": [
              "<IPython.core.display.Javascript object>"
            ]
          },
          "metadata": {
            "tags": [
              "id18-40-1",
              "outputarea_id18"
            ]
          }
        },
        {
          "output_type": "stream",
          "text": [
            "Device and method for detecting a substance of a liquid\n",
            "\n"
          ],
          "name": "stdout"
        },
        {
          "output_type": "display_data",
          "data": {
            "application/javascript": [
              "window[\"67ca9026-5ac6-11ea-b93d-0242ac1c0002\"] = google.colab.output.setActiveOutputArea(window[\"67c8aaae-5ac6-11ea-b93d-0242ac1c0002\"]);\n",
              "//# sourceURL=js_10203bdcb3"
            ],
            "text/plain": [
              "<IPython.core.display.Javascript object>"
            ]
          },
          "metadata": {
            "tags": [
              "id18-40-1",
              "outputarea_id18"
            ]
          }
        },
        {
          "output_type": "display_data",
          "data": {
            "application/javascript": [
              "window[\"67cc2328-5ac6-11ea-b93d-0242ac1c0002\"] = google.colab.output.getActiveOutputArea();\n",
              "//# sourceURL=js_cb942bfcee"
            ],
            "text/plain": [
              "<IPython.core.display.Javascript object>"
            ]
          },
          "metadata": {
            "tags": [
              "id18-40-2",
              "outputarea_id18"
            ]
          }
        },
        {
          "output_type": "display_data",
          "data": {
            "application/javascript": [
              "window[\"67cc7a30-5ac6-11ea-b93d-0242ac1c0002\"] = document.querySelector(\"#id18-40-2\");\n",
              "//# sourceURL=js_c3ece10f4e"
            ],
            "text/plain": [
              "<IPython.core.display.Javascript object>"
            ]
          },
          "metadata": {
            "tags": [
              "id18-40-2",
              "outputarea_id18"
            ]
          }
        },
        {
          "output_type": "display_data",
          "data": {
            "application/javascript": [
              "window[\"67ccd78c-5ac6-11ea-b93d-0242ac1c0002\"] = google.colab.output.setActiveOutputArea(window[\"67cc7a30-5ac6-11ea-b93d-0242ac1c0002\"]);\n",
              "//# sourceURL=js_fcf461b2fc"
            ],
            "text/plain": [
              "<IPython.core.display.Javascript object>"
            ]
          },
          "metadata": {
            "tags": [
              "id18-40-2",
              "outputarea_id18"
            ]
          }
        },
        {
          "output_type": "stream",
          "text": [
            "https://patents.google.com/patent/US7468608B2\n"
          ],
          "name": "stdout"
        },
        {
          "output_type": "display_data",
          "data": {
            "application/javascript": [
              "window[\"67cdfbbc-5ac6-11ea-b93d-0242ac1c0002\"] = google.colab.output.setActiveOutputArea(window[\"67cc2328-5ac6-11ea-b93d-0242ac1c0002\"]);\n",
              "//# sourceURL=js_14eb1fd7a1"
            ],
            "text/plain": [
              "<IPython.core.display.Javascript object>"
            ]
          },
          "metadata": {
            "tags": [
              "id18-40-2",
              "outputarea_id18"
            ]
          }
        },
        {
          "output_type": "display_data",
          "data": {
            "application/javascript": [
              "window[\"67cfa12e-5ac6-11ea-b93d-0242ac1c0002\"] = google.colab.output.getActiveOutputArea();\n",
              "//# sourceURL=js_9527cac285"
            ],
            "text/plain": [
              "<IPython.core.display.Javascript object>"
            ]
          },
          "metadata": {
            "tags": [
              "id18-40-3",
              "outputarea_id18"
            ]
          }
        },
        {
          "output_type": "display_data",
          "data": {
            "application/javascript": [
              "window[\"67d0059c-5ac6-11ea-b93d-0242ac1c0002\"] = document.querySelector(\"#id18-40-3\");\n",
              "//# sourceURL=js_0e1828ed23"
            ],
            "text/plain": [
              "<IPython.core.display.Javascript object>"
            ]
          },
          "metadata": {
            "tags": [
              "id18-40-3",
              "outputarea_id18"
            ]
          }
        },
        {
          "output_type": "display_data",
          "data": {
            "application/javascript": [
              "window[\"67d05416-5ac6-11ea-b93d-0242ac1c0002\"] = google.colab.output.setActiveOutputArea(window[\"67d0059c-5ac6-11ea-b93d-0242ac1c0002\"]);\n",
              "//# sourceURL=js_66e8b86532"
            ],
            "text/plain": [
              "<IPython.core.display.Javascript object>"
            ]
          },
          "metadata": {
            "tags": [
              "id18-40-3",
              "outputarea_id18"
            ]
          }
        },
        {
          "output_type": "stream",
          "text": [
            "0.3649085\n"
          ],
          "name": "stdout"
        },
        {
          "output_type": "display_data",
          "data": {
            "application/javascript": [
              "window[\"67d17738-5ac6-11ea-b93d-0242ac1c0002\"] = google.colab.output.setActiveOutputArea(window[\"67cfa12e-5ac6-11ea-b93d-0242ac1c0002\"]);\n",
              "//# sourceURL=js_635608ddd0"
            ],
            "text/plain": [
              "<IPython.core.display.Javascript object>"
            ]
          },
          "metadata": {
            "tags": [
              "id18-40-3",
              "outputarea_id18"
            ]
          }
        },
        {
          "output_type": "display_data",
          "data": {
            "application/javascript": [
              "window[\"67d30d5a-5ac6-11ea-b93d-0242ac1c0002\"] = google.colab.output.getActiveOutputArea();\n",
              "//# sourceURL=js_99bc0e89ea"
            ],
            "text/plain": [
              "<IPython.core.display.Javascript object>"
            ]
          },
          "metadata": {
            "tags": [
              "id18-41-0",
              "outputarea_id18"
            ]
          }
        },
        {
          "output_type": "display_data",
          "data": {
            "application/javascript": [
              "window[\"67d3675a-5ac6-11ea-b93d-0242ac1c0002\"] = document.querySelector(\"#id18-41-0\");\n",
              "//# sourceURL=js_eddae11af2"
            ],
            "text/plain": [
              "<IPython.core.display.Javascript object>"
            ]
          },
          "metadata": {
            "tags": [
              "id18-41-0",
              "outputarea_id18"
            ]
          }
        },
        {
          "output_type": "display_data",
          "data": {
            "application/javascript": [
              "window[\"67d3be8a-5ac6-11ea-b93d-0242ac1c0002\"] = google.colab.output.setActiveOutputArea(window[\"67d3675a-5ac6-11ea-b93d-0242ac1c0002\"]);\n",
              "//# sourceURL=js_83d2759237"
            ],
            "text/plain": [
              "<IPython.core.display.Javascript object>"
            ]
          },
          "metadata": {
            "tags": [
              "id18-41-0",
              "outputarea_id18"
            ]
          }
        },
        {
          "output_type": "stream",
          "text": [
            "41\n"
          ],
          "name": "stdout"
        },
        {
          "output_type": "display_data",
          "data": {
            "application/javascript": [
              "window[\"67d4e6ac-5ac6-11ea-b93d-0242ac1c0002\"] = google.colab.output.setActiveOutputArea(window[\"67d30d5a-5ac6-11ea-b93d-0242ac1c0002\"]);\n",
              "//# sourceURL=js_018259d84b"
            ],
            "text/plain": [
              "<IPython.core.display.Javascript object>"
            ]
          },
          "metadata": {
            "tags": [
              "id18-41-0",
              "outputarea_id18"
            ]
          }
        },
        {
          "output_type": "display_data",
          "data": {
            "application/javascript": [
              "window[\"67d69204-5ac6-11ea-b93d-0242ac1c0002\"] = google.colab.output.getActiveOutputArea();\n",
              "//# sourceURL=js_516915c975"
            ],
            "text/plain": [
              "<IPython.core.display.Javascript object>"
            ]
          },
          "metadata": {
            "tags": [
              "id18-41-1",
              "outputarea_id18"
            ]
          }
        },
        {
          "output_type": "display_data",
          "data": {
            "application/javascript": [
              "window[\"67d6ee70-5ac6-11ea-b93d-0242ac1c0002\"] = document.querySelector(\"#id18-41-1\");\n",
              "//# sourceURL=js_2374e9f824"
            ],
            "text/plain": [
              "<IPython.core.display.Javascript object>"
            ]
          },
          "metadata": {
            "tags": [
              "id18-41-1",
              "outputarea_id18"
            ]
          }
        },
        {
          "output_type": "display_data",
          "data": {
            "application/javascript": [
              "window[\"67d74dfc-5ac6-11ea-b93d-0242ac1c0002\"] = google.colab.output.setActiveOutputArea(window[\"67d6ee70-5ac6-11ea-b93d-0242ac1c0002\"]);\n",
              "//# sourceURL=js_b687b9143b"
            ],
            "text/plain": [
              "<IPython.core.display.Javascript object>"
            ]
          },
          "metadata": {
            "tags": [
              "id18-41-1",
              "outputarea_id18"
            ]
          }
        },
        {
          "output_type": "stream",
          "text": [
            "Cockpit of an automotive vehicle with a steering wheel and an adjustable seat\n",
            "\n"
          ],
          "name": "stdout"
        },
        {
          "output_type": "display_data",
          "data": {
            "application/javascript": [
              "window[\"67d89bbc-5ac6-11ea-b93d-0242ac1c0002\"] = google.colab.output.setActiveOutputArea(window[\"67d69204-5ac6-11ea-b93d-0242ac1c0002\"]);\n",
              "//# sourceURL=js_d622e9a278"
            ],
            "text/plain": [
              "<IPython.core.display.Javascript object>"
            ]
          },
          "metadata": {
            "tags": [
              "id18-41-1",
              "outputarea_id18"
            ]
          }
        },
        {
          "output_type": "display_data",
          "data": {
            "application/javascript": [
              "window[\"67db605e-5ac6-11ea-b93d-0242ac1c0002\"] = google.colab.output.getActiveOutputArea();\n",
              "//# sourceURL=js_8aaff1693b"
            ],
            "text/plain": [
              "<IPython.core.display.Javascript object>"
            ]
          },
          "metadata": {
            "tags": [
              "id18-41-2",
              "outputarea_id18"
            ]
          }
        },
        {
          "output_type": "display_data",
          "data": {
            "application/javascript": [
              "window[\"67dbccf6-5ac6-11ea-b93d-0242ac1c0002\"] = document.querySelector(\"#id18-41-2\");\n",
              "//# sourceURL=js_d3192ca3ec"
            ],
            "text/plain": [
              "<IPython.core.display.Javascript object>"
            ]
          },
          "metadata": {
            "tags": [
              "id18-41-2",
              "outputarea_id18"
            ]
          }
        },
        {
          "output_type": "display_data",
          "data": {
            "application/javascript": [
              "window[\"67dc33da-5ac6-11ea-b93d-0242ac1c0002\"] = google.colab.output.setActiveOutputArea(window[\"67dbccf6-5ac6-11ea-b93d-0242ac1c0002\"]);\n",
              "//# sourceURL=js_1c1b043bea"
            ],
            "text/plain": [
              "<IPython.core.display.Javascript object>"
            ]
          },
          "metadata": {
            "tags": [
              "id18-41-2",
              "outputarea_id18"
            ]
          }
        },
        {
          "output_type": "stream",
          "text": [
            "https://patents.google.com/patent/US7512470B2\n"
          ],
          "name": "stdout"
        },
        {
          "output_type": "display_data",
          "data": {
            "application/javascript": [
              "window[\"67dd838e-5ac6-11ea-b93d-0242ac1c0002\"] = google.colab.output.setActiveOutputArea(window[\"67db605e-5ac6-11ea-b93d-0242ac1c0002\"]);\n",
              "//# sourceURL=js_a1fda442f8"
            ],
            "text/plain": [
              "<IPython.core.display.Javascript object>"
            ]
          },
          "metadata": {
            "tags": [
              "id18-41-2",
              "outputarea_id18"
            ]
          }
        },
        {
          "output_type": "display_data",
          "data": {
            "application/javascript": [
              "window[\"67df4e80-5ac6-11ea-b93d-0242ac1c0002\"] = google.colab.output.getActiveOutputArea();\n",
              "//# sourceURL=js_94fa925cba"
            ],
            "text/plain": [
              "<IPython.core.display.Javascript object>"
            ]
          },
          "metadata": {
            "tags": [
              "id18-41-3",
              "outputarea_id18"
            ]
          }
        },
        {
          "output_type": "display_data",
          "data": {
            "application/javascript": [
              "window[\"67dfa4ca-5ac6-11ea-b93d-0242ac1c0002\"] = document.querySelector(\"#id18-41-3\");\n",
              "//# sourceURL=js_5dc21018c7"
            ],
            "text/plain": [
              "<IPython.core.display.Javascript object>"
            ]
          },
          "metadata": {
            "tags": [
              "id18-41-3",
              "outputarea_id18"
            ]
          }
        },
        {
          "output_type": "display_data",
          "data": {
            "application/javascript": [
              "window[\"67e01a72-5ac6-11ea-b93d-0242ac1c0002\"] = google.colab.output.setActiveOutputArea(window[\"67dfa4ca-5ac6-11ea-b93d-0242ac1c0002\"]);\n",
              "//# sourceURL=js_647389dc3d"
            ],
            "text/plain": [
              "<IPython.core.display.Javascript object>"
            ]
          },
          "metadata": {
            "tags": [
              "id18-41-3",
              "outputarea_id18"
            ]
          }
        },
        {
          "output_type": "stream",
          "text": [
            "0.36491612\n"
          ],
          "name": "stdout"
        },
        {
          "output_type": "display_data",
          "data": {
            "application/javascript": [
              "window[\"67e14dca-5ac6-11ea-b93d-0242ac1c0002\"] = google.colab.output.setActiveOutputArea(window[\"67df4e80-5ac6-11ea-b93d-0242ac1c0002\"]);\n",
              "//# sourceURL=js_7d54f38175"
            ],
            "text/plain": [
              "<IPython.core.display.Javascript object>"
            ]
          },
          "metadata": {
            "tags": [
              "id18-41-3",
              "outputarea_id18"
            ]
          }
        },
        {
          "output_type": "display_data",
          "data": {
            "application/javascript": [
              "window[\"67e3481e-5ac6-11ea-b93d-0242ac1c0002\"] = google.colab.output.getActiveOutputArea();\n",
              "//# sourceURL=js_f3b7f6f081"
            ],
            "text/plain": [
              "<IPython.core.display.Javascript object>"
            ]
          },
          "metadata": {
            "tags": [
              "id18-42-0",
              "outputarea_id18"
            ]
          }
        },
        {
          "output_type": "display_data",
          "data": {
            "application/javascript": [
              "window[\"67e3a21e-5ac6-11ea-b93d-0242ac1c0002\"] = document.querySelector(\"#id18-42-0\");\n",
              "//# sourceURL=js_c503c7b607"
            ],
            "text/plain": [
              "<IPython.core.display.Javascript object>"
            ]
          },
          "metadata": {
            "tags": [
              "id18-42-0",
              "outputarea_id18"
            ]
          }
        },
        {
          "output_type": "display_data",
          "data": {
            "application/javascript": [
              "window[\"67e405e2-5ac6-11ea-b93d-0242ac1c0002\"] = google.colab.output.setActiveOutputArea(window[\"67e3a21e-5ac6-11ea-b93d-0242ac1c0002\"]);\n",
              "//# sourceURL=js_d2b5e143a2"
            ],
            "text/plain": [
              "<IPython.core.display.Javascript object>"
            ]
          },
          "metadata": {
            "tags": [
              "id18-42-0",
              "outputarea_id18"
            ]
          }
        },
        {
          "output_type": "stream",
          "text": [
            "42\n"
          ],
          "name": "stdout"
        },
        {
          "output_type": "display_data",
          "data": {
            "application/javascript": [
              "window[\"67e53dcc-5ac6-11ea-b93d-0242ac1c0002\"] = google.colab.output.setActiveOutputArea(window[\"67e3481e-5ac6-11ea-b93d-0242ac1c0002\"]);\n",
              "//# sourceURL=js_920d219bd8"
            ],
            "text/plain": [
              "<IPython.core.display.Javascript object>"
            ]
          },
          "metadata": {
            "tags": [
              "id18-42-0",
              "outputarea_id18"
            ]
          }
        },
        {
          "output_type": "display_data",
          "data": {
            "application/javascript": [
              "window[\"67e6e528-5ac6-11ea-b93d-0242ac1c0002\"] = google.colab.output.getActiveOutputArea();\n",
              "//# sourceURL=js_23337325ed"
            ],
            "text/plain": [
              "<IPython.core.display.Javascript object>"
            ]
          },
          "metadata": {
            "tags": [
              "id18-42-1",
              "outputarea_id18"
            ]
          }
        },
        {
          "output_type": "display_data",
          "data": {
            "application/javascript": [
              "window[\"67e7349c-5ac6-11ea-b93d-0242ac1c0002\"] = document.querySelector(\"#id18-42-1\");\n",
              "//# sourceURL=js_dd48ee930b"
            ],
            "text/plain": [
              "<IPython.core.display.Javascript object>"
            ]
          },
          "metadata": {
            "tags": [
              "id18-42-1",
              "outputarea_id18"
            ]
          }
        },
        {
          "output_type": "display_data",
          "data": {
            "application/javascript": [
              "window[\"67e78550-5ac6-11ea-b93d-0242ac1c0002\"] = google.colab.output.setActiveOutputArea(window[\"67e7349c-5ac6-11ea-b93d-0242ac1c0002\"]);\n",
              "//# sourceURL=js_8318e06707"
            ],
            "text/plain": [
              "<IPython.core.display.Javascript object>"
            ]
          },
          "metadata": {
            "tags": [
              "id18-42-1",
              "outputarea_id18"
            ]
          }
        },
        {
          "output_type": "stream",
          "text": [
            "Active acoustic control with flexible joints in gradient coil design for MRI\n",
            "\n"
          ],
          "name": "stdout"
        },
        {
          "output_type": "display_data",
          "data": {
            "application/javascript": [
              "window[\"67e8c2a8-5ac6-11ea-b93d-0242ac1c0002\"] = google.colab.output.setActiveOutputArea(window[\"67e6e528-5ac6-11ea-b93d-0242ac1c0002\"]);\n",
              "//# sourceURL=js_5d13e3472f"
            ],
            "text/plain": [
              "<IPython.core.display.Javascript object>"
            ]
          },
          "metadata": {
            "tags": [
              "id18-42-1",
              "outputarea_id18"
            ]
          }
        },
        {
          "output_type": "display_data",
          "data": {
            "application/javascript": [
              "window[\"67ea6766-5ac6-11ea-b93d-0242ac1c0002\"] = google.colab.output.getActiveOutputArea();\n",
              "//# sourceURL=js_39eefa89c7"
            ],
            "text/plain": [
              "<IPython.core.display.Javascript object>"
            ]
          },
          "metadata": {
            "tags": [
              "id18-42-2",
              "outputarea_id18"
            ]
          }
        },
        {
          "output_type": "display_data",
          "data": {
            "application/javascript": [
              "window[\"67eac63e-5ac6-11ea-b93d-0242ac1c0002\"] = document.querySelector(\"#id18-42-2\");\n",
              "//# sourceURL=js_b7fb8417e2"
            ],
            "text/plain": [
              "<IPython.core.display.Javascript object>"
            ]
          },
          "metadata": {
            "tags": [
              "id18-42-2",
              "outputarea_id18"
            ]
          }
        },
        {
          "output_type": "display_data",
          "data": {
            "application/javascript": [
              "window[\"67eb1a62-5ac6-11ea-b93d-0242ac1c0002\"] = google.colab.output.setActiveOutputArea(window[\"67eac63e-5ac6-11ea-b93d-0242ac1c0002\"]);\n",
              "//# sourceURL=js_b2c975e691"
            ],
            "text/plain": [
              "<IPython.core.display.Javascript object>"
            ]
          },
          "metadata": {
            "tags": [
              "id18-42-2",
              "outputarea_id18"
            ]
          }
        },
        {
          "output_type": "stream",
          "text": [
            "https://patents.google.com/patent/US7030610B2\n"
          ],
          "name": "stdout"
        },
        {
          "output_type": "display_data",
          "data": {
            "application/javascript": [
              "window[\"67ec39f6-5ac6-11ea-b93d-0242ac1c0002\"] = google.colab.output.setActiveOutputArea(window[\"67ea6766-5ac6-11ea-b93d-0242ac1c0002\"]);\n",
              "//# sourceURL=js_1a4fe33ee7"
            ],
            "text/plain": [
              "<IPython.core.display.Javascript object>"
            ]
          },
          "metadata": {
            "tags": [
              "id18-42-2",
              "outputarea_id18"
            ]
          }
        },
        {
          "output_type": "display_data",
          "data": {
            "application/javascript": [
              "window[\"67edd612-5ac6-11ea-b93d-0242ac1c0002\"] = google.colab.output.getActiveOutputArea();\n",
              "//# sourceURL=js_1794ced625"
            ],
            "text/plain": [
              "<IPython.core.display.Javascript object>"
            ]
          },
          "metadata": {
            "tags": [
              "id18-42-3",
              "outputarea_id18"
            ]
          }
        },
        {
          "output_type": "display_data",
          "data": {
            "application/javascript": [
              "window[\"67ee2004-5ac6-11ea-b93d-0242ac1c0002\"] = document.querySelector(\"#id18-42-3\");\n",
              "//# sourceURL=js_7ec7bbbba9"
            ],
            "text/plain": [
              "<IPython.core.display.Javascript object>"
            ]
          },
          "metadata": {
            "tags": [
              "id18-42-3",
              "outputarea_id18"
            ]
          }
        },
        {
          "output_type": "display_data",
          "data": {
            "application/javascript": [
              "window[\"67ee67e4-5ac6-11ea-b93d-0242ac1c0002\"] = google.colab.output.setActiveOutputArea(window[\"67ee2004-5ac6-11ea-b93d-0242ac1c0002\"]);\n",
              "//# sourceURL=js_1d602607f9"
            ],
            "text/plain": [
              "<IPython.core.display.Javascript object>"
            ]
          },
          "metadata": {
            "tags": [
              "id18-42-3",
              "outputarea_id18"
            ]
          }
        },
        {
          "output_type": "stream",
          "text": [
            "0.36516923\n"
          ],
          "name": "stdout"
        },
        {
          "output_type": "display_data",
          "data": {
            "application/javascript": [
              "window[\"67ef8d22-5ac6-11ea-b93d-0242ac1c0002\"] = google.colab.output.setActiveOutputArea(window[\"67edd612-5ac6-11ea-b93d-0242ac1c0002\"]);\n",
              "//# sourceURL=js_bb7779e497"
            ],
            "text/plain": [
              "<IPython.core.display.Javascript object>"
            ]
          },
          "metadata": {
            "tags": [
              "id18-42-3",
              "outputarea_id18"
            ]
          }
        },
        {
          "output_type": "display_data",
          "data": {
            "application/javascript": [
              "window[\"67f14108-5ac6-11ea-b93d-0242ac1c0002\"] = google.colab.output.getActiveOutputArea();\n",
              "//# sourceURL=js_4f8c971491"
            ],
            "text/plain": [
              "<IPython.core.display.Javascript object>"
            ]
          },
          "metadata": {
            "tags": [
              "id18-43-0",
              "outputarea_id18"
            ]
          }
        },
        {
          "output_type": "display_data",
          "data": {
            "application/javascript": [
              "window[\"67f19a22-5ac6-11ea-b93d-0242ac1c0002\"] = document.querySelector(\"#id18-43-0\");\n",
              "//# sourceURL=js_1ba69daf04"
            ],
            "text/plain": [
              "<IPython.core.display.Javascript object>"
            ]
          },
          "metadata": {
            "tags": [
              "id18-43-0",
              "outputarea_id18"
            ]
          }
        },
        {
          "output_type": "display_data",
          "data": {
            "application/javascript": [
              "window[\"67f1f81e-5ac6-11ea-b93d-0242ac1c0002\"] = google.colab.output.setActiveOutputArea(window[\"67f19a22-5ac6-11ea-b93d-0242ac1c0002\"]);\n",
              "//# sourceURL=js_73f17ca5a3"
            ],
            "text/plain": [
              "<IPython.core.display.Javascript object>"
            ]
          },
          "metadata": {
            "tags": [
              "id18-43-0",
              "outputarea_id18"
            ]
          }
        },
        {
          "output_type": "stream",
          "text": [
            "43\n"
          ],
          "name": "stdout"
        },
        {
          "output_type": "display_data",
          "data": {
            "application/javascript": [
              "window[\"67f32a22-5ac6-11ea-b93d-0242ac1c0002\"] = google.colab.output.setActiveOutputArea(window[\"67f14108-5ac6-11ea-b93d-0242ac1c0002\"]);\n",
              "//# sourceURL=js_889e66ffc3"
            ],
            "text/plain": [
              "<IPython.core.display.Javascript object>"
            ]
          },
          "metadata": {
            "tags": [
              "id18-43-0",
              "outputarea_id18"
            ]
          }
        },
        {
          "output_type": "display_data",
          "data": {
            "application/javascript": [
              "window[\"67f4c814-5ac6-11ea-b93d-0242ac1c0002\"] = google.colab.output.getActiveOutputArea();\n",
              "//# sourceURL=js_32c18efc4d"
            ],
            "text/plain": [
              "<IPython.core.display.Javascript object>"
            ]
          },
          "metadata": {
            "tags": [
              "id18-43-1",
              "outputarea_id18"
            ]
          }
        },
        {
          "output_type": "display_data",
          "data": {
            "application/javascript": [
              "window[\"67f52002-5ac6-11ea-b93d-0242ac1c0002\"] = document.querySelector(\"#id18-43-1\");\n",
              "//# sourceURL=js_b884cba1d5"
            ],
            "text/plain": [
              "<IPython.core.display.Javascript object>"
            ]
          },
          "metadata": {
            "tags": [
              "id18-43-1",
              "outputarea_id18"
            ]
          }
        },
        {
          "output_type": "display_data",
          "data": {
            "application/javascript": [
              "window[\"67f57a66-5ac6-11ea-b93d-0242ac1c0002\"] = google.colab.output.setActiveOutputArea(window[\"67f52002-5ac6-11ea-b93d-0242ac1c0002\"]);\n",
              "//# sourceURL=js_3e3434a461"
            ],
            "text/plain": [
              "<IPython.core.display.Javascript object>"
            ]
          },
          "metadata": {
            "tags": [
              "id18-43-1",
              "outputarea_id18"
            ]
          }
        },
        {
          "output_type": "stream",
          "text": [
            "Magnetic head with spin oscillation device(s) and magnetic recording device\n",
            "\n"
          ],
          "name": "stdout"
        },
        {
          "output_type": "display_data",
          "data": {
            "application/javascript": [
              "window[\"67f6513e-5ac6-11ea-b93d-0242ac1c0002\"] = google.colab.output.setActiveOutputArea(window[\"67f4c814-5ac6-11ea-b93d-0242ac1c0002\"]);\n",
              "//# sourceURL=js_6db6eebd1b"
            ],
            "text/plain": [
              "<IPython.core.display.Javascript object>"
            ]
          },
          "metadata": {
            "tags": [
              "id18-43-1",
              "outputarea_id18"
            ]
          }
        },
        {
          "output_type": "display_data",
          "data": {
            "application/javascript": [
              "window[\"67f7c4a6-5ac6-11ea-b93d-0242ac1c0002\"] = google.colab.output.getActiveOutputArea();\n",
              "//# sourceURL=js_9d82ea5f7f"
            ],
            "text/plain": [
              "<IPython.core.display.Javascript object>"
            ]
          },
          "metadata": {
            "tags": [
              "id18-43-2",
              "outputarea_id18"
            ]
          }
        },
        {
          "output_type": "display_data",
          "data": {
            "application/javascript": [
              "window[\"67f81f64-5ac6-11ea-b93d-0242ac1c0002\"] = document.querySelector(\"#id18-43-2\");\n",
              "//# sourceURL=js_17c79a45ac"
            ],
            "text/plain": [
              "<IPython.core.display.Javascript object>"
            ]
          },
          "metadata": {
            "tags": [
              "id18-43-2",
              "outputarea_id18"
            ]
          }
        },
        {
          "output_type": "display_data",
          "data": {
            "application/javascript": [
              "window[\"67f88030-5ac6-11ea-b93d-0242ac1c0002\"] = google.colab.output.setActiveOutputArea(window[\"67f81f64-5ac6-11ea-b93d-0242ac1c0002\"]);\n",
              "//# sourceURL=js_a30359cd9e"
            ],
            "text/plain": [
              "<IPython.core.display.Javascript object>"
            ]
          },
          "metadata": {
            "tags": [
              "id18-43-2",
              "outputarea_id18"
            ]
          }
        },
        {
          "output_type": "stream",
          "text": [
            "https://patents.google.com/patent/US8270112B2\n"
          ],
          "name": "stdout"
        },
        {
          "output_type": "display_data",
          "data": {
            "application/javascript": [
              "window[\"67f9bd60-5ac6-11ea-b93d-0242ac1c0002\"] = google.colab.output.setActiveOutputArea(window[\"67f7c4a6-5ac6-11ea-b93d-0242ac1c0002\"]);\n",
              "//# sourceURL=js_91bc10686f"
            ],
            "text/plain": [
              "<IPython.core.display.Javascript object>"
            ]
          },
          "metadata": {
            "tags": [
              "id18-43-2",
              "outputarea_id18"
            ]
          }
        },
        {
          "output_type": "display_data",
          "data": {
            "application/javascript": [
              "window[\"67fb5562-5ac6-11ea-b93d-0242ac1c0002\"] = google.colab.output.getActiveOutputArea();\n",
              "//# sourceURL=js_487afdd631"
            ],
            "text/plain": [
              "<IPython.core.display.Javascript object>"
            ]
          },
          "metadata": {
            "tags": [
              "id18-43-3",
              "outputarea_id18"
            ]
          }
        },
        {
          "output_type": "display_data",
          "data": {
            "application/javascript": [
              "window[\"67fbc812-5ac6-11ea-b93d-0242ac1c0002\"] = document.querySelector(\"#id18-43-3\");\n",
              "//# sourceURL=js_2e110a3156"
            ],
            "text/plain": [
              "<IPython.core.display.Javascript object>"
            ]
          },
          "metadata": {
            "tags": [
              "id18-43-3",
              "outputarea_id18"
            ]
          }
        },
        {
          "output_type": "display_data",
          "data": {
            "application/javascript": [
              "window[\"67fc1830-5ac6-11ea-b93d-0242ac1c0002\"] = google.colab.output.setActiveOutputArea(window[\"67fbc812-5ac6-11ea-b93d-0242ac1c0002\"]);\n",
              "//# sourceURL=js_2a79f389ce"
            ],
            "text/plain": [
              "<IPython.core.display.Javascript object>"
            ]
          },
          "metadata": {
            "tags": [
              "id18-43-3",
              "outputarea_id18"
            ]
          }
        },
        {
          "output_type": "stream",
          "text": [
            "0.3656802\n"
          ],
          "name": "stdout"
        },
        {
          "output_type": "display_data",
          "data": {
            "application/javascript": [
              "window[\"67fd49a8-5ac6-11ea-b93d-0242ac1c0002\"] = google.colab.output.setActiveOutputArea(window[\"67fb5562-5ac6-11ea-b93d-0242ac1c0002\"]);\n",
              "//# sourceURL=js_fac2f41bcf"
            ],
            "text/plain": [
              "<IPython.core.display.Javascript object>"
            ]
          },
          "metadata": {
            "tags": [
              "id18-43-3",
              "outputarea_id18"
            ]
          }
        },
        {
          "output_type": "display_data",
          "data": {
            "application/javascript": [
              "window[\"67ff28d6-5ac6-11ea-b93d-0242ac1c0002\"] = google.colab.output.getActiveOutputArea();\n",
              "//# sourceURL=js_6365f24309"
            ],
            "text/plain": [
              "<IPython.core.display.Javascript object>"
            ]
          },
          "metadata": {
            "tags": [
              "id18-44-0",
              "outputarea_id18"
            ]
          }
        },
        {
          "output_type": "display_data",
          "data": {
            "application/javascript": [
              "window[\"67ff76ba-5ac6-11ea-b93d-0242ac1c0002\"] = document.querySelector(\"#id18-44-0\");\n",
              "//# sourceURL=js_d126237f79"
            ],
            "text/plain": [
              "<IPython.core.display.Javascript object>"
            ]
          },
          "metadata": {
            "tags": [
              "id18-44-0",
              "outputarea_id18"
            ]
          }
        },
        {
          "output_type": "display_data",
          "data": {
            "application/javascript": [
              "window[\"67ffd7fe-5ac6-11ea-b93d-0242ac1c0002\"] = google.colab.output.setActiveOutputArea(window[\"67ff76ba-5ac6-11ea-b93d-0242ac1c0002\"]);\n",
              "//# sourceURL=js_d8c4d4aee6"
            ],
            "text/plain": [
              "<IPython.core.display.Javascript object>"
            ]
          },
          "metadata": {
            "tags": [
              "id18-44-0",
              "outputarea_id18"
            ]
          }
        },
        {
          "output_type": "stream",
          "text": [
            "44\n"
          ],
          "name": "stdout"
        },
        {
          "output_type": "display_data",
          "data": {
            "application/javascript": [
              "window[\"680108fe-5ac6-11ea-b93d-0242ac1c0002\"] = google.colab.output.setActiveOutputArea(window[\"67ff28d6-5ac6-11ea-b93d-0242ac1c0002\"]);\n",
              "//# sourceURL=js_7e005384c8"
            ],
            "text/plain": [
              "<IPython.core.display.Javascript object>"
            ]
          },
          "metadata": {
            "tags": [
              "id18-44-0",
              "outputarea_id18"
            ]
          }
        },
        {
          "output_type": "display_data",
          "data": {
            "application/javascript": [
              "window[\"6802c6da-5ac6-11ea-b93d-0242ac1c0002\"] = google.colab.output.getActiveOutputArea();\n",
              "//# sourceURL=js_35660bc682"
            ],
            "text/plain": [
              "<IPython.core.display.Javascript object>"
            ]
          },
          "metadata": {
            "tags": [
              "id18-44-1",
              "outputarea_id18"
            ]
          }
        },
        {
          "output_type": "display_data",
          "data": {
            "application/javascript": [
              "window[\"68031860-5ac6-11ea-b93d-0242ac1c0002\"] = document.querySelector(\"#id18-44-1\");\n",
              "//# sourceURL=js_85c72e1efa"
            ],
            "text/plain": [
              "<IPython.core.display.Javascript object>"
            ]
          },
          "metadata": {
            "tags": [
              "id18-44-1",
              "outputarea_id18"
            ]
          }
        },
        {
          "output_type": "display_data",
          "data": {
            "application/javascript": [
              "window[\"6803873c-5ac6-11ea-b93d-0242ac1c0002\"] = google.colab.output.setActiveOutputArea(window[\"68031860-5ac6-11ea-b93d-0242ac1c0002\"]);\n",
              "//# sourceURL=js_8cc3d035c6"
            ],
            "text/plain": [
              "<IPython.core.display.Javascript object>"
            ]
          },
          "metadata": {
            "tags": [
              "id18-44-1",
              "outputarea_id18"
            ]
          }
        },
        {
          "output_type": "stream",
          "text": [
            "Apparatus and method for incorporating tactile control and tactile feedback into a human-machine interface\n",
            "\n"
          ],
          "name": "stdout"
        },
        {
          "output_type": "display_data",
          "data": {
            "application/javascript": [
              "window[\"6804ac8e-5ac6-11ea-b93d-0242ac1c0002\"] = google.colab.output.setActiveOutputArea(window[\"6802c6da-5ac6-11ea-b93d-0242ac1c0002\"]);\n",
              "//# sourceURL=js_2a1d062751"
            ],
            "text/plain": [
              "<IPython.core.display.Javascript object>"
            ]
          },
          "metadata": {
            "tags": [
              "id18-44-1",
              "outputarea_id18"
            ]
          }
        },
        {
          "output_type": "display_data",
          "data": {
            "application/javascript": [
              "window[\"68066b64-5ac6-11ea-b93d-0242ac1c0002\"] = google.colab.output.getActiveOutputArea();\n",
              "//# sourceURL=js_574969de60"
            ],
            "text/plain": [
              "<IPython.core.display.Javascript object>"
            ]
          },
          "metadata": {
            "tags": [
              "id18-44-2",
              "outputarea_id18"
            ]
          }
        },
        {
          "output_type": "display_data",
          "data": {
            "application/javascript": [
              "window[\"6806c384-5ac6-11ea-b93d-0242ac1c0002\"] = document.querySelector(\"#id18-44-2\");\n",
              "//# sourceURL=js_2ac5925708"
            ],
            "text/plain": [
              "<IPython.core.display.Javascript object>"
            ]
          },
          "metadata": {
            "tags": [
              "id18-44-2",
              "outputarea_id18"
            ]
          }
        },
        {
          "output_type": "display_data",
          "data": {
            "application/javascript": [
              "window[\"68071dde-5ac6-11ea-b93d-0242ac1c0002\"] = google.colab.output.setActiveOutputArea(window[\"6806c384-5ac6-11ea-b93d-0242ac1c0002\"]);\n",
              "//# sourceURL=js_4c6ea08d2d"
            ],
            "text/plain": [
              "<IPython.core.display.Javascript object>"
            ]
          },
          "metadata": {
            "tags": [
              "id18-44-2",
              "outputarea_id18"
            ]
          }
        },
        {
          "output_type": "stream",
          "text": [
            "https://patents.google.com/patent/US7245292B1\n"
          ],
          "name": "stdout"
        },
        {
          "output_type": "display_data",
          "data": {
            "application/javascript": [
              "window[\"68083070-5ac6-11ea-b93d-0242ac1c0002\"] = google.colab.output.setActiveOutputArea(window[\"68066b64-5ac6-11ea-b93d-0242ac1c0002\"]);\n",
              "//# sourceURL=js_5b44fa6ea8"
            ],
            "text/plain": [
              "<IPython.core.display.Javascript object>"
            ]
          },
          "metadata": {
            "tags": [
              "id18-44-2",
              "outputarea_id18"
            ]
          }
        },
        {
          "output_type": "display_data",
          "data": {
            "application/javascript": [
              "window[\"6809d3d0-5ac6-11ea-b93d-0242ac1c0002\"] = google.colab.output.getActiveOutputArea();\n",
              "//# sourceURL=js_25bf4bc833"
            ],
            "text/plain": [
              "<IPython.core.display.Javascript object>"
            ]
          },
          "metadata": {
            "tags": [
              "id18-44-3",
              "outputarea_id18"
            ]
          }
        },
        {
          "output_type": "display_data",
          "data": {
            "application/javascript": [
              "window[\"680a233a-5ac6-11ea-b93d-0242ac1c0002\"] = document.querySelector(\"#id18-44-3\");\n",
              "//# sourceURL=js_0a03f116ec"
            ],
            "text/plain": [
              "<IPython.core.display.Javascript object>"
            ]
          },
          "metadata": {
            "tags": [
              "id18-44-3",
              "outputarea_id18"
            ]
          }
        },
        {
          "output_type": "display_data",
          "data": {
            "application/javascript": [
              "window[\"680a6fb6-5ac6-11ea-b93d-0242ac1c0002\"] = google.colab.output.setActiveOutputArea(window[\"680a233a-5ac6-11ea-b93d-0242ac1c0002\"]);\n",
              "//# sourceURL=js_be7f1771a9"
            ],
            "text/plain": [
              "<IPython.core.display.Javascript object>"
            ]
          },
          "metadata": {
            "tags": [
              "id18-44-3",
              "outputarea_id18"
            ]
          }
        },
        {
          "output_type": "stream",
          "text": [
            "0.36586663\n"
          ],
          "name": "stdout"
        },
        {
          "output_type": "display_data",
          "data": {
            "application/javascript": [
              "window[\"680b804a-5ac6-11ea-b93d-0242ac1c0002\"] = google.colab.output.setActiveOutputArea(window[\"6809d3d0-5ac6-11ea-b93d-0242ac1c0002\"]);\n",
              "//# sourceURL=js_6d22aac0c1"
            ],
            "text/plain": [
              "<IPython.core.display.Javascript object>"
            ]
          },
          "metadata": {
            "tags": [
              "id18-44-3",
              "outputarea_id18"
            ]
          }
        },
        {
          "output_type": "display_data",
          "data": {
            "application/javascript": [
              "window[\"680d0dd4-5ac6-11ea-b93d-0242ac1c0002\"] = google.colab.output.getActiveOutputArea();\n",
              "//# sourceURL=js_15a80dea77"
            ],
            "text/plain": [
              "<IPython.core.display.Javascript object>"
            ]
          },
          "metadata": {
            "tags": [
              "id18-45-0",
              "outputarea_id18"
            ]
          }
        },
        {
          "output_type": "display_data",
          "data": {
            "application/javascript": [
              "window[\"680d5b4a-5ac6-11ea-b93d-0242ac1c0002\"] = document.querySelector(\"#id18-45-0\");\n",
              "//# sourceURL=js_ecdbcbd2ad"
            ],
            "text/plain": [
              "<IPython.core.display.Javascript object>"
            ]
          },
          "metadata": {
            "tags": [
              "id18-45-0",
              "outputarea_id18"
            ]
          }
        },
        {
          "output_type": "display_data",
          "data": {
            "application/javascript": [
              "window[\"680dbc66-5ac6-11ea-b93d-0242ac1c0002\"] = google.colab.output.setActiveOutputArea(window[\"680d5b4a-5ac6-11ea-b93d-0242ac1c0002\"]);\n",
              "//# sourceURL=js_50bda3413a"
            ],
            "text/plain": [
              "<IPython.core.display.Javascript object>"
            ]
          },
          "metadata": {
            "tags": [
              "id18-45-0",
              "outputarea_id18"
            ]
          }
        },
        {
          "output_type": "stream",
          "text": [
            "45\n"
          ],
          "name": "stdout"
        },
        {
          "output_type": "display_data",
          "data": {
            "application/javascript": [
              "window[\"680ed47a-5ac6-11ea-b93d-0242ac1c0002\"] = google.colab.output.setActiveOutputArea(window[\"680d0dd4-5ac6-11ea-b93d-0242ac1c0002\"]);\n",
              "//# sourceURL=js_0bd2439a3d"
            ],
            "text/plain": [
              "<IPython.core.display.Javascript object>"
            ]
          },
          "metadata": {
            "tags": [
              "id18-45-0",
              "outputarea_id18"
            ]
          }
        },
        {
          "output_type": "display_data",
          "data": {
            "application/javascript": [
              "window[\"68105ae8-5ac6-11ea-b93d-0242ac1c0002\"] = google.colab.output.getActiveOutputArea();\n",
              "//# sourceURL=js_1878288846"
            ],
            "text/plain": [
              "<IPython.core.display.Javascript object>"
            ]
          },
          "metadata": {
            "tags": [
              "id18-45-1",
              "outputarea_id18"
            ]
          }
        },
        {
          "output_type": "display_data",
          "data": {
            "application/javascript": [
              "window[\"6810d126-5ac6-11ea-b93d-0242ac1c0002\"] = document.querySelector(\"#id18-45-1\");\n",
              "//# sourceURL=js_3dfa7b4377"
            ],
            "text/plain": [
              "<IPython.core.display.Javascript object>"
            ]
          },
          "metadata": {
            "tags": [
              "id18-45-1",
              "outputarea_id18"
            ]
          }
        },
        {
          "output_type": "display_data",
          "data": {
            "application/javascript": [
              "window[\"68115a9c-5ac6-11ea-b93d-0242ac1c0002\"] = google.colab.output.setActiveOutputArea(window[\"6810d126-5ac6-11ea-b93d-0242ac1c0002\"]);\n",
              "//# sourceURL=js_c7fe370be2"
            ],
            "text/plain": [
              "<IPython.core.display.Javascript object>"
            ]
          },
          "metadata": {
            "tags": [
              "id18-45-1",
              "outputarea_id18"
            ]
          }
        },
        {
          "output_type": "stream",
          "text": [
            "Audio generating method and apparatus based on motion\n",
            "\n"
          ],
          "name": "stdout"
        },
        {
          "output_type": "display_data",
          "data": {
            "application/javascript": [
              "window[\"68129970-5ac6-11ea-b93d-0242ac1c0002\"] = google.colab.output.setActiveOutputArea(window[\"68105ae8-5ac6-11ea-b93d-0242ac1c0002\"]);\n",
              "//# sourceURL=js_b2d862dcb4"
            ],
            "text/plain": [
              "<IPython.core.display.Javascript object>"
            ]
          },
          "metadata": {
            "tags": [
              "id18-45-1",
              "outputarea_id18"
            ]
          }
        },
        {
          "output_type": "display_data",
          "data": {
            "application/javascript": [
              "window[\"681461ce-5ac6-11ea-b93d-0242ac1c0002\"] = google.colab.output.getActiveOutputArea();\n",
              "//# sourceURL=js_6d71aa5c39"
            ],
            "text/plain": [
              "<IPython.core.display.Javascript object>"
            ]
          },
          "metadata": {
            "tags": [
              "id18-45-2",
              "outputarea_id18"
            ]
          }
        },
        {
          "output_type": "display_data",
          "data": {
            "application/javascript": [
              "window[\"6814c1fa-5ac6-11ea-b93d-0242ac1c0002\"] = document.querySelector(\"#id18-45-2\");\n",
              "//# sourceURL=js_3d7d84023e"
            ],
            "text/plain": [
              "<IPython.core.display.Javascript object>"
            ]
          },
          "metadata": {
            "tags": [
              "id18-45-2",
              "outputarea_id18"
            ]
          }
        },
        {
          "output_type": "display_data",
          "data": {
            "application/javascript": [
              "window[\"68152a3c-5ac6-11ea-b93d-0242ac1c0002\"] = google.colab.output.setActiveOutputArea(window[\"6814c1fa-5ac6-11ea-b93d-0242ac1c0002\"]);\n",
              "//# sourceURL=js_bbb6030ab4"
            ],
            "text/plain": [
              "<IPython.core.display.Javascript object>"
            ]
          },
          "metadata": {
            "tags": [
              "id18-45-2",
              "outputarea_id18"
            ]
          }
        },
        {
          "output_type": "stream",
          "text": [
            "https://patents.google.com/patent/US7474197B2\n"
          ],
          "name": "stdout"
        },
        {
          "output_type": "display_data",
          "data": {
            "application/javascript": [
              "window[\"68166578-5ac6-11ea-b93d-0242ac1c0002\"] = google.colab.output.setActiveOutputArea(window[\"681461ce-5ac6-11ea-b93d-0242ac1c0002\"]);\n",
              "//# sourceURL=js_a0a1c53b88"
            ],
            "text/plain": [
              "<IPython.core.display.Javascript object>"
            ]
          },
          "metadata": {
            "tags": [
              "id18-45-2",
              "outputarea_id18"
            ]
          }
        },
        {
          "output_type": "display_data",
          "data": {
            "application/javascript": [
              "window[\"6818133c-5ac6-11ea-b93d-0242ac1c0002\"] = google.colab.output.getActiveOutputArea();\n",
              "//# sourceURL=js_12e3fd8f91"
            ],
            "text/plain": [
              "<IPython.core.display.Javascript object>"
            ]
          },
          "metadata": {
            "tags": [
              "id18-45-3",
              "outputarea_id18"
            ]
          }
        },
        {
          "output_type": "display_data",
          "data": {
            "application/javascript": [
              "window[\"68185f0e-5ac6-11ea-b93d-0242ac1c0002\"] = document.querySelector(\"#id18-45-3\");\n",
              "//# sourceURL=js_fd4360a170"
            ],
            "text/plain": [
              "<IPython.core.display.Javascript object>"
            ]
          },
          "metadata": {
            "tags": [
              "id18-45-3",
              "outputarea_id18"
            ]
          }
        },
        {
          "output_type": "display_data",
          "data": {
            "application/javascript": [
              "window[\"6818bbb6-5ac6-11ea-b93d-0242ac1c0002\"] = google.colab.output.setActiveOutputArea(window[\"68185f0e-5ac6-11ea-b93d-0242ac1c0002\"]);\n",
              "//# sourceURL=js_3ea3f914bc"
            ],
            "text/plain": [
              "<IPython.core.display.Javascript object>"
            ]
          },
          "metadata": {
            "tags": [
              "id18-45-3",
              "outputarea_id18"
            ]
          }
        },
        {
          "output_type": "stream",
          "text": [
            "0.36618456\n"
          ],
          "name": "stdout"
        },
        {
          "output_type": "display_data",
          "data": {
            "application/javascript": [
              "window[\"6819c7ea-5ac6-11ea-b93d-0242ac1c0002\"] = google.colab.output.setActiveOutputArea(window[\"6818133c-5ac6-11ea-b93d-0242ac1c0002\"]);\n",
              "//# sourceURL=js_bbb042061c"
            ],
            "text/plain": [
              "<IPython.core.display.Javascript object>"
            ]
          },
          "metadata": {
            "tags": [
              "id18-45-3",
              "outputarea_id18"
            ]
          }
        },
        {
          "output_type": "display_data",
          "data": {
            "application/javascript": [
              "window[\"681b9246-5ac6-11ea-b93d-0242ac1c0002\"] = google.colab.output.getActiveOutputArea();\n",
              "//# sourceURL=js_9db8d8f2fc"
            ],
            "text/plain": [
              "<IPython.core.display.Javascript object>"
            ]
          },
          "metadata": {
            "tags": [
              "id18-46-0",
              "outputarea_id18"
            ]
          }
        },
        {
          "output_type": "display_data",
          "data": {
            "application/javascript": [
              "window[\"681bef34-5ac6-11ea-b93d-0242ac1c0002\"] = document.querySelector(\"#id18-46-0\");\n",
              "//# sourceURL=js_8301409c1f"
            ],
            "text/plain": [
              "<IPython.core.display.Javascript object>"
            ]
          },
          "metadata": {
            "tags": [
              "id18-46-0",
              "outputarea_id18"
            ]
          }
        },
        {
          "output_type": "display_data",
          "data": {
            "application/javascript": [
              "window[\"681c3f20-5ac6-11ea-b93d-0242ac1c0002\"] = google.colab.output.setActiveOutputArea(window[\"681bef34-5ac6-11ea-b93d-0242ac1c0002\"]);\n",
              "//# sourceURL=js_2725dc42e2"
            ],
            "text/plain": [
              "<IPython.core.display.Javascript object>"
            ]
          },
          "metadata": {
            "tags": [
              "id18-46-0",
              "outputarea_id18"
            ]
          }
        },
        {
          "output_type": "stream",
          "text": [
            "46\n"
          ],
          "name": "stdout"
        },
        {
          "output_type": "display_data",
          "data": {
            "application/javascript": [
              "window[\"681d55d6-5ac6-11ea-b93d-0242ac1c0002\"] = google.colab.output.setActiveOutputArea(window[\"681b9246-5ac6-11ea-b93d-0242ac1c0002\"]);\n",
              "//# sourceURL=js_f357714225"
            ],
            "text/plain": [
              "<IPython.core.display.Javascript object>"
            ]
          },
          "metadata": {
            "tags": [
              "id18-46-0",
              "outputarea_id18"
            ]
          }
        },
        {
          "output_type": "display_data",
          "data": {
            "application/javascript": [
              "window[\"681eee5a-5ac6-11ea-b93d-0242ac1c0002\"] = google.colab.output.getActiveOutputArea();\n",
              "//# sourceURL=js_f1365a8bd0"
            ],
            "text/plain": [
              "<IPython.core.display.Javascript object>"
            ]
          },
          "metadata": {
            "tags": [
              "id18-46-1",
              "outputarea_id18"
            ]
          }
        },
        {
          "output_type": "display_data",
          "data": {
            "application/javascript": [
              "window[\"681f3e32-5ac6-11ea-b93d-0242ac1c0002\"] = document.querySelector(\"#id18-46-1\");\n",
              "//# sourceURL=js_e82f65c66f"
            ],
            "text/plain": [
              "<IPython.core.display.Javascript object>"
            ]
          },
          "metadata": {
            "tags": [
              "id18-46-1",
              "outputarea_id18"
            ]
          }
        },
        {
          "output_type": "display_data",
          "data": {
            "application/javascript": [
              "window[\"681fa12e-5ac6-11ea-b93d-0242ac1c0002\"] = google.colab.output.setActiveOutputArea(window[\"681f3e32-5ac6-11ea-b93d-0242ac1c0002\"]);\n",
              "//# sourceURL=js_381e2303e5"
            ],
            "text/plain": [
              "<IPython.core.display.Javascript object>"
            ]
          },
          "metadata": {
            "tags": [
              "id18-46-1",
              "outputarea_id18"
            ]
          }
        },
        {
          "output_type": "stream",
          "text": [
            "Image forming device\n",
            "\n"
          ],
          "name": "stdout"
        },
        {
          "output_type": "display_data",
          "data": {
            "application/javascript": [
              "window[\"6820bcee-5ac6-11ea-b93d-0242ac1c0002\"] = google.colab.output.setActiveOutputArea(window[\"681eee5a-5ac6-11ea-b93d-0242ac1c0002\"]);\n",
              "//# sourceURL=js_70950320ef"
            ],
            "text/plain": [
              "<IPython.core.display.Javascript object>"
            ]
          },
          "metadata": {
            "tags": [
              "id18-46-1",
              "outputarea_id18"
            ]
          }
        },
        {
          "output_type": "display_data",
          "data": {
            "application/javascript": [
              "window[\"68225c20-5ac6-11ea-b93d-0242ac1c0002\"] = google.colab.output.getActiveOutputArea();\n",
              "//# sourceURL=js_db87b60660"
            ],
            "text/plain": [
              "<IPython.core.display.Javascript object>"
            ]
          },
          "metadata": {
            "tags": [
              "id18-46-2",
              "outputarea_id18"
            ]
          }
        },
        {
          "output_type": "display_data",
          "data": {
            "application/javascript": [
              "window[\"6822ac2a-5ac6-11ea-b93d-0242ac1c0002\"] = document.querySelector(\"#id18-46-2\");\n",
              "//# sourceURL=js_6a0b41495c"
            ],
            "text/plain": [
              "<IPython.core.display.Javascript object>"
            ]
          },
          "metadata": {
            "tags": [
              "id18-46-2",
              "outputarea_id18"
            ]
          }
        },
        {
          "output_type": "display_data",
          "data": {
            "application/javascript": [
              "window[\"6823080a-5ac6-11ea-b93d-0242ac1c0002\"] = google.colab.output.setActiveOutputArea(window[\"6822ac2a-5ac6-11ea-b93d-0242ac1c0002\"]);\n",
              "//# sourceURL=js_e15cb886d3"
            ],
            "text/plain": [
              "<IPython.core.display.Javascript object>"
            ]
          },
          "metadata": {
            "tags": [
              "id18-46-2",
              "outputarea_id18"
            ]
          }
        },
        {
          "output_type": "stream",
          "text": [
            "https://patents.google.com/patent/US7110692B2\n"
          ],
          "name": "stdout"
        },
        {
          "output_type": "display_data",
          "data": {
            "application/javascript": [
              "window[\"6824151a-5ac6-11ea-b93d-0242ac1c0002\"] = google.colab.output.setActiveOutputArea(window[\"68225c20-5ac6-11ea-b93d-0242ac1c0002\"]);\n",
              "//# sourceURL=js_8bfb9f63e6"
            ],
            "text/plain": [
              "<IPython.core.display.Javascript object>"
            ]
          },
          "metadata": {
            "tags": [
              "id18-46-2",
              "outputarea_id18"
            ]
          }
        },
        {
          "output_type": "display_data",
          "data": {
            "application/javascript": [
              "window[\"68253cba-5ac6-11ea-b93d-0242ac1c0002\"] = google.colab.output.getActiveOutputArea();\n",
              "//# sourceURL=js_a913f562cc"
            ],
            "text/plain": [
              "<IPython.core.display.Javascript object>"
            ]
          },
          "metadata": {
            "tags": [
              "id18-46-3",
              "outputarea_id18"
            ]
          }
        },
        {
          "output_type": "display_data",
          "data": {
            "application/javascript": [
              "window[\"682578f6-5ac6-11ea-b93d-0242ac1c0002\"] = document.querySelector(\"#id18-46-3\");\n",
              "//# sourceURL=js_7e8d1c8a0a"
            ],
            "text/plain": [
              "<IPython.core.display.Javascript object>"
            ]
          },
          "metadata": {
            "tags": [
              "id18-46-3",
              "outputarea_id18"
            ]
          }
        },
        {
          "output_type": "display_data",
          "data": {
            "application/javascript": [
              "window[\"6825b88e-5ac6-11ea-b93d-0242ac1c0002\"] = google.colab.output.setActiveOutputArea(window[\"682578f6-5ac6-11ea-b93d-0242ac1c0002\"]);\n",
              "//# sourceURL=js_c9d9ee7f5a"
            ],
            "text/plain": [
              "<IPython.core.display.Javascript object>"
            ]
          },
          "metadata": {
            "tags": [
              "id18-46-3",
              "outputarea_id18"
            ]
          }
        },
        {
          "output_type": "stream",
          "text": [
            "0.3670376\n"
          ],
          "name": "stdout"
        },
        {
          "output_type": "display_data",
          "data": {
            "application/javascript": [
              "window[\"68266450-5ac6-11ea-b93d-0242ac1c0002\"] = google.colab.output.setActiveOutputArea(window[\"68253cba-5ac6-11ea-b93d-0242ac1c0002\"]);\n",
              "//# sourceURL=js_be43517129"
            ],
            "text/plain": [
              "<IPython.core.display.Javascript object>"
            ]
          },
          "metadata": {
            "tags": [
              "id18-46-3",
              "outputarea_id18"
            ]
          }
        },
        {
          "output_type": "display_data",
          "data": {
            "application/javascript": [
              "window[\"682777fa-5ac6-11ea-b93d-0242ac1c0002\"] = google.colab.output.getActiveOutputArea();\n",
              "//# sourceURL=js_08e0feb299"
            ],
            "text/plain": [
              "<IPython.core.display.Javascript object>"
            ]
          },
          "metadata": {
            "tags": [
              "id18-47-0",
              "outputarea_id18"
            ]
          }
        },
        {
          "output_type": "display_data",
          "data": {
            "application/javascript": [
              "window[\"6827bed6-5ac6-11ea-b93d-0242ac1c0002\"] = document.querySelector(\"#id18-47-0\");\n",
              "//# sourceURL=js_8238faaea6"
            ],
            "text/plain": [
              "<IPython.core.display.Javascript object>"
            ]
          },
          "metadata": {
            "tags": [
              "id18-47-0",
              "outputarea_id18"
            ]
          }
        },
        {
          "output_type": "display_data",
          "data": {
            "application/javascript": [
              "window[\"6827fd6a-5ac6-11ea-b93d-0242ac1c0002\"] = google.colab.output.setActiveOutputArea(window[\"6827bed6-5ac6-11ea-b93d-0242ac1c0002\"]);\n",
              "//# sourceURL=js_ee8abd04e1"
            ],
            "text/plain": [
              "<IPython.core.display.Javascript object>"
            ]
          },
          "metadata": {
            "tags": [
              "id18-47-0",
              "outputarea_id18"
            ]
          }
        },
        {
          "output_type": "stream",
          "text": [
            "47\n"
          ],
          "name": "stdout"
        },
        {
          "output_type": "display_data",
          "data": {
            "application/javascript": [
              "window[\"6828bb6a-5ac6-11ea-b93d-0242ac1c0002\"] = google.colab.output.setActiveOutputArea(window[\"682777fa-5ac6-11ea-b93d-0242ac1c0002\"]);\n",
              "//# sourceURL=js_a2086810d9"
            ],
            "text/plain": [
              "<IPython.core.display.Javascript object>"
            ]
          },
          "metadata": {
            "tags": [
              "id18-47-0",
              "outputarea_id18"
            ]
          }
        },
        {
          "output_type": "display_data",
          "data": {
            "application/javascript": [
              "window[\"6829b1a0-5ac6-11ea-b93d-0242ac1c0002\"] = google.colab.output.getActiveOutputArea();\n",
              "//# sourceURL=js_fc22d63676"
            ],
            "text/plain": [
              "<IPython.core.display.Javascript object>"
            ]
          },
          "metadata": {
            "tags": [
              "id18-47-1",
              "outputarea_id18"
            ]
          }
        },
        {
          "output_type": "display_data",
          "data": {
            "application/javascript": [
              "window[\"6829ef1c-5ac6-11ea-b93d-0242ac1c0002\"] = document.querySelector(\"#id18-47-1\");\n",
              "//# sourceURL=js_40a112eec9"
            ],
            "text/plain": [
              "<IPython.core.display.Javascript object>"
            ]
          },
          "metadata": {
            "tags": [
              "id18-47-1",
              "outputarea_id18"
            ]
          }
        },
        {
          "output_type": "display_data",
          "data": {
            "application/javascript": [
              "window[\"682a2e5a-5ac6-11ea-b93d-0242ac1c0002\"] = google.colab.output.setActiveOutputArea(window[\"6829ef1c-5ac6-11ea-b93d-0242ac1c0002\"]);\n",
              "//# sourceURL=js_26892c52f9"
            ],
            "text/plain": [
              "<IPython.core.display.Javascript object>"
            ]
          },
          "metadata": {
            "tags": [
              "id18-47-1",
              "outputarea_id18"
            ]
          }
        },
        {
          "output_type": "stream",
          "text": [
            "Asynchronous and synchronous gesture recognition\n",
            "\n"
          ],
          "name": "stdout"
        },
        {
          "output_type": "display_data",
          "data": {
            "application/javascript": [
              "window[\"682ad9d6-5ac6-11ea-b93d-0242ac1c0002\"] = google.colab.output.setActiveOutputArea(window[\"6829b1a0-5ac6-11ea-b93d-0242ac1c0002\"]);\n",
              "//# sourceURL=js_b64714548a"
            ],
            "text/plain": [
              "<IPython.core.display.Javascript object>"
            ]
          },
          "metadata": {
            "tags": [
              "id18-47-1",
              "outputarea_id18"
            ]
          }
        },
        {
          "output_type": "display_data",
          "data": {
            "application/javascript": [
              "window[\"682c7804-5ac6-11ea-b93d-0242ac1c0002\"] = google.colab.output.getActiveOutputArea();\n",
              "//# sourceURL=js_35638b1ae8"
            ],
            "text/plain": [
              "<IPython.core.display.Javascript object>"
            ]
          },
          "metadata": {
            "tags": [
              "id18-47-2",
              "outputarea_id18"
            ]
          }
        },
        {
          "output_type": "display_data",
          "data": {
            "application/javascript": [
              "window[\"682cbe7c-5ac6-11ea-b93d-0242ac1c0002\"] = document.querySelector(\"#id18-47-2\");\n",
              "//# sourceURL=js_8117df681a"
            ],
            "text/plain": [
              "<IPython.core.display.Javascript object>"
            ]
          },
          "metadata": {
            "tags": [
              "id18-47-2",
              "outputarea_id18"
            ]
          }
        },
        {
          "output_type": "display_data",
          "data": {
            "application/javascript": [
              "window[\"682dd654-5ac6-11ea-b93d-0242ac1c0002\"] = google.colab.output.setActiveOutputArea(window[\"682cbe7c-5ac6-11ea-b93d-0242ac1c0002\"]);\n",
              "//# sourceURL=js_73c88a6422"
            ],
            "text/plain": [
              "<IPython.core.display.Javascript object>"
            ]
          },
          "metadata": {
            "tags": [
              "id18-47-2",
              "outputarea_id18"
            ]
          }
        },
        {
          "output_type": "stream",
          "text": [
            "https://patents.google.com/patent/US7614019B2\n"
          ],
          "name": "stdout"
        },
        {
          "output_type": "display_data",
          "data": {
            "application/javascript": [
              "window[\"682eeaf8-5ac6-11ea-b93d-0242ac1c0002\"] = google.colab.output.setActiveOutputArea(window[\"682c7804-5ac6-11ea-b93d-0242ac1c0002\"]);\n",
              "//# sourceURL=js_b7be6f669a"
            ],
            "text/plain": [
              "<IPython.core.display.Javascript object>"
            ]
          },
          "metadata": {
            "tags": [
              "id18-47-2",
              "outputarea_id18"
            ]
          }
        },
        {
          "output_type": "display_data",
          "data": {
            "application/javascript": [
              "window[\"68306892-5ac6-11ea-b93d-0242ac1c0002\"] = google.colab.output.getActiveOutputArea();\n",
              "//# sourceURL=js_01e3492165"
            ],
            "text/plain": [
              "<IPython.core.display.Javascript object>"
            ]
          },
          "metadata": {
            "tags": [
              "id18-47-3",
              "outputarea_id18"
            ]
          }
        },
        {
          "output_type": "display_data",
          "data": {
            "application/javascript": [
              "window[\"6830b6bc-5ac6-11ea-b93d-0242ac1c0002\"] = document.querySelector(\"#id18-47-3\");\n",
              "//# sourceURL=js_705a2211ae"
            ],
            "text/plain": [
              "<IPython.core.display.Javascript object>"
            ]
          },
          "metadata": {
            "tags": [
              "id18-47-3",
              "outputarea_id18"
            ]
          }
        },
        {
          "output_type": "display_data",
          "data": {
            "application/javascript": [
              "window[\"6831110c-5ac6-11ea-b93d-0242ac1c0002\"] = google.colab.output.setActiveOutputArea(window[\"6830b6bc-5ac6-11ea-b93d-0242ac1c0002\"]);\n",
              "//# sourceURL=js_7d1746a845"
            ],
            "text/plain": [
              "<IPython.core.display.Javascript object>"
            ]
          },
          "metadata": {
            "tags": [
              "id18-47-3",
              "outputarea_id18"
            ]
          }
        },
        {
          "output_type": "stream",
          "text": [
            "0.36790532\n"
          ],
          "name": "stdout"
        },
        {
          "output_type": "display_data",
          "data": {
            "application/javascript": [
              "window[\"68324054-5ac6-11ea-b93d-0242ac1c0002\"] = google.colab.output.setActiveOutputArea(window[\"68306892-5ac6-11ea-b93d-0242ac1c0002\"]);\n",
              "//# sourceURL=js_8fb5dc5616"
            ],
            "text/plain": [
              "<IPython.core.display.Javascript object>"
            ]
          },
          "metadata": {
            "tags": [
              "id18-47-3",
              "outputarea_id18"
            ]
          }
        },
        {
          "output_type": "display_data",
          "data": {
            "application/javascript": [
              "window[\"6833cdde-5ac6-11ea-b93d-0242ac1c0002\"] = google.colab.output.getActiveOutputArea();\n",
              "//# sourceURL=js_7e33fcd6b4"
            ],
            "text/plain": [
              "<IPython.core.display.Javascript object>"
            ]
          },
          "metadata": {
            "tags": [
              "id18-48-0",
              "outputarea_id18"
            ]
          }
        },
        {
          "output_type": "display_data",
          "data": {
            "application/javascript": [
              "window[\"683424fa-5ac6-11ea-b93d-0242ac1c0002\"] = document.querySelector(\"#id18-48-0\");\n",
              "//# sourceURL=js_6f86b87ae9"
            ],
            "text/plain": [
              "<IPython.core.display.Javascript object>"
            ]
          },
          "metadata": {
            "tags": [
              "id18-48-0",
              "outputarea_id18"
            ]
          }
        },
        {
          "output_type": "display_data",
          "data": {
            "application/javascript": [
              "window[\"683471d0-5ac6-11ea-b93d-0242ac1c0002\"] = google.colab.output.setActiveOutputArea(window[\"683424fa-5ac6-11ea-b93d-0242ac1c0002\"]);\n",
              "//# sourceURL=js_6f911e242c"
            ],
            "text/plain": [
              "<IPython.core.display.Javascript object>"
            ]
          },
          "metadata": {
            "tags": [
              "id18-48-0",
              "outputarea_id18"
            ]
          }
        },
        {
          "output_type": "stream",
          "text": [
            "48\n"
          ],
          "name": "stdout"
        },
        {
          "output_type": "display_data",
          "data": {
            "application/javascript": [
              "window[\"68357a94-5ac6-11ea-b93d-0242ac1c0002\"] = google.colab.output.setActiveOutputArea(window[\"6833cdde-5ac6-11ea-b93d-0242ac1c0002\"]);\n",
              "//# sourceURL=js_a5909bef02"
            ],
            "text/plain": [
              "<IPython.core.display.Javascript object>"
            ]
          },
          "metadata": {
            "tags": [
              "id18-48-0",
              "outputarea_id18"
            ]
          }
        },
        {
          "output_type": "display_data",
          "data": {
            "application/javascript": [
              "window[\"6836ebcc-5ac6-11ea-b93d-0242ac1c0002\"] = google.colab.output.getActiveOutputArea();\n",
              "//# sourceURL=js_99d98165bf"
            ],
            "text/plain": [
              "<IPython.core.display.Javascript object>"
            ]
          },
          "metadata": {
            "tags": [
              "id18-48-1",
              "outputarea_id18"
            ]
          }
        },
        {
          "output_type": "display_data",
          "data": {
            "application/javascript": [
              "window[\"683749dc-5ac6-11ea-b93d-0242ac1c0002\"] = document.querySelector(\"#id18-48-1\");\n",
              "//# sourceURL=js_a2ca899835"
            ],
            "text/plain": [
              "<IPython.core.display.Javascript object>"
            ]
          },
          "metadata": {
            "tags": [
              "id18-48-1",
              "outputarea_id18"
            ]
          }
        },
        {
          "output_type": "display_data",
          "data": {
            "application/javascript": [
              "window[\"6837a1ca-5ac6-11ea-b93d-0242ac1c0002\"] = google.colab.output.setActiveOutputArea(window[\"683749dc-5ac6-11ea-b93d-0242ac1c0002\"]);\n",
              "//# sourceURL=js_5fa2ea7571"
            ],
            "text/plain": [
              "<IPython.core.display.Javascript object>"
            ]
          },
          "metadata": {
            "tags": [
              "id18-48-1",
              "outputarea_id18"
            ]
          }
        },
        {
          "output_type": "stream",
          "text": [
            "Portable high speed communication device peripheral connectivity\n",
            "\n"
          ],
          "name": "stdout"
        },
        {
          "output_type": "display_data",
          "data": {
            "application/javascript": [
              "window[\"6838c15e-5ac6-11ea-b93d-0242ac1c0002\"] = google.colab.output.setActiveOutputArea(window[\"6836ebcc-5ac6-11ea-b93d-0242ac1c0002\"]);\n",
              "//# sourceURL=js_a16bd91c2c"
            ],
            "text/plain": [
              "<IPython.core.display.Javascript object>"
            ]
          },
          "metadata": {
            "tags": [
              "id18-48-1",
              "outputarea_id18"
            ]
          }
        },
        {
          "output_type": "display_data",
          "data": {
            "application/javascript": [
              "window[\"683a7a30-5ac6-11ea-b93d-0242ac1c0002\"] = google.colab.output.getActiveOutputArea();\n",
              "//# sourceURL=js_ee92a50355"
            ],
            "text/plain": [
              "<IPython.core.display.Javascript object>"
            ]
          },
          "metadata": {
            "tags": [
              "id18-48-2",
              "outputarea_id18"
            ]
          }
        },
        {
          "output_type": "display_data",
          "data": {
            "application/javascript": [
              "window[\"683ac7ce-5ac6-11ea-b93d-0242ac1c0002\"] = document.querySelector(\"#id18-48-2\");\n",
              "//# sourceURL=js_d55b56b010"
            ],
            "text/plain": [
              "<IPython.core.display.Javascript object>"
            ]
          },
          "metadata": {
            "tags": [
              "id18-48-2",
              "outputarea_id18"
            ]
          }
        },
        {
          "output_type": "display_data",
          "data": {
            "application/javascript": [
              "window[\"683b17ba-5ac6-11ea-b93d-0242ac1c0002\"] = google.colab.output.setActiveOutputArea(window[\"683ac7ce-5ac6-11ea-b93d-0242ac1c0002\"]);\n",
              "//# sourceURL=js_1e64081b71"
            ],
            "text/plain": [
              "<IPython.core.display.Javascript object>"
            ]
          },
          "metadata": {
            "tags": [
              "id18-48-2",
              "outputarea_id18"
            ]
          }
        },
        {
          "output_type": "stream",
          "text": [
            "https://patents.google.com/patent/US6915327B1\n"
          ],
          "name": "stdout"
        },
        {
          "output_type": "display_data",
          "data": {
            "application/javascript": [
              "window[\"683c5fda-5ac6-11ea-b93d-0242ac1c0002\"] = google.colab.output.setActiveOutputArea(window[\"683a7a30-5ac6-11ea-b93d-0242ac1c0002\"]);\n",
              "//# sourceURL=js_54c1526ddd"
            ],
            "text/plain": [
              "<IPython.core.display.Javascript object>"
            ]
          },
          "metadata": {
            "tags": [
              "id18-48-2",
              "outputarea_id18"
            ]
          }
        },
        {
          "output_type": "display_data",
          "data": {
            "application/javascript": [
              "window[\"683de6ca-5ac6-11ea-b93d-0242ac1c0002\"] = google.colab.output.getActiveOutputArea();\n",
              "//# sourceURL=js_5ef255f222"
            ],
            "text/plain": [
              "<IPython.core.display.Javascript object>"
            ]
          },
          "metadata": {
            "tags": [
              "id18-48-3",
              "outputarea_id18"
            ]
          }
        },
        {
          "output_type": "display_data",
          "data": {
            "application/javascript": [
              "window[\"683e4098-5ac6-11ea-b93d-0242ac1c0002\"] = document.querySelector(\"#id18-48-3\");\n",
              "//# sourceURL=js_7a589c9162"
            ],
            "text/plain": [
              "<IPython.core.display.Javascript object>"
            ]
          },
          "metadata": {
            "tags": [
              "id18-48-3",
              "outputarea_id18"
            ]
          }
        },
        {
          "output_type": "display_data",
          "data": {
            "application/javascript": [
              "window[\"683ea45c-5ac6-11ea-b93d-0242ac1c0002\"] = google.colab.output.setActiveOutputArea(window[\"683e4098-5ac6-11ea-b93d-0242ac1c0002\"]);\n",
              "//# sourceURL=js_7319cc08c1"
            ],
            "text/plain": [
              "<IPython.core.display.Javascript object>"
            ]
          },
          "metadata": {
            "tags": [
              "id18-48-3",
              "outputarea_id18"
            ]
          }
        },
        {
          "output_type": "stream",
          "text": [
            "0.3679967\n"
          ],
          "name": "stdout"
        },
        {
          "output_type": "display_data",
          "data": {
            "application/javascript": [
              "window[\"683fb9c8-5ac6-11ea-b93d-0242ac1c0002\"] = google.colab.output.setActiveOutputArea(window[\"683de6ca-5ac6-11ea-b93d-0242ac1c0002\"]);\n",
              "//# sourceURL=js_e5521dba39"
            ],
            "text/plain": [
              "<IPython.core.display.Javascript object>"
            ]
          },
          "metadata": {
            "tags": [
              "id18-48-3",
              "outputarea_id18"
            ]
          }
        },
        {
          "output_type": "display_data",
          "data": {
            "application/javascript": [
              "window[\"684147ac-5ac6-11ea-b93d-0242ac1c0002\"] = google.colab.output.getActiveOutputArea();\n",
              "//# sourceURL=js_299b9b124a"
            ],
            "text/plain": [
              "<IPython.core.display.Javascript object>"
            ]
          },
          "metadata": {
            "tags": [
              "id18-49-0",
              "outputarea_id18"
            ]
          }
        },
        {
          "output_type": "display_data",
          "data": {
            "application/javascript": [
              "window[\"68419c2a-5ac6-11ea-b93d-0242ac1c0002\"] = document.querySelector(\"#id18-49-0\");\n",
              "//# sourceURL=js_513a9ab475"
            ],
            "text/plain": [
              "<IPython.core.display.Javascript object>"
            ]
          },
          "metadata": {
            "tags": [
              "id18-49-0",
              "outputarea_id18"
            ]
          }
        },
        {
          "output_type": "display_data",
          "data": {
            "application/javascript": [
              "window[\"6841ed4c-5ac6-11ea-b93d-0242ac1c0002\"] = google.colab.output.setActiveOutputArea(window[\"68419c2a-5ac6-11ea-b93d-0242ac1c0002\"]);\n",
              "//# sourceURL=js_cb2c4eccdf"
            ],
            "text/plain": [
              "<IPython.core.display.Javascript object>"
            ]
          },
          "metadata": {
            "tags": [
              "id18-49-0",
              "outputarea_id18"
            ]
          }
        },
        {
          "output_type": "stream",
          "text": [
            "49\n"
          ],
          "name": "stdout"
        },
        {
          "output_type": "display_data",
          "data": {
            "application/javascript": [
              "window[\"6842c5be-5ac6-11ea-b93d-0242ac1c0002\"] = google.colab.output.setActiveOutputArea(window[\"684147ac-5ac6-11ea-b93d-0242ac1c0002\"]);\n",
              "//# sourceURL=js_10091e569a"
            ],
            "text/plain": [
              "<IPython.core.display.Javascript object>"
            ]
          },
          "metadata": {
            "tags": [
              "id18-49-0",
              "outputarea_id18"
            ]
          }
        },
        {
          "output_type": "display_data",
          "data": {
            "application/javascript": [
              "window[\"684521b0-5ac6-11ea-b93d-0242ac1c0002\"] = google.colab.output.getActiveOutputArea();\n",
              "//# sourceURL=js_49ecae7580"
            ],
            "text/plain": [
              "<IPython.core.display.Javascript object>"
            ]
          },
          "metadata": {
            "tags": [
              "id18-49-1",
              "outputarea_id18"
            ]
          }
        },
        {
          "output_type": "display_data",
          "data": {
            "application/javascript": [
              "window[\"6846266e-5ac6-11ea-b93d-0242ac1c0002\"] = document.querySelector(\"#id18-49-1\");\n",
              "//# sourceURL=js_b9a510bd68"
            ],
            "text/plain": [
              "<IPython.core.display.Javascript object>"
            ]
          },
          "metadata": {
            "tags": [
              "id18-49-1",
              "outputarea_id18"
            ]
          }
        },
        {
          "output_type": "display_data",
          "data": {
            "application/javascript": [
              "window[\"68468442-5ac6-11ea-b93d-0242ac1c0002\"] = google.colab.output.setActiveOutputArea(window[\"6846266e-5ac6-11ea-b93d-0242ac1c0002\"]);\n",
              "//# sourceURL=js_847600c90a"
            ],
            "text/plain": [
              "<IPython.core.display.Javascript object>"
            ]
          },
          "metadata": {
            "tags": [
              "id18-49-1",
              "outputarea_id18"
            ]
          }
        },
        {
          "output_type": "stream",
          "text": [
            "Switching device\n",
            "\n"
          ],
          "name": "stdout"
        },
        {
          "output_type": "display_data",
          "data": {
            "application/javascript": [
              "window[\"6847c28a-5ac6-11ea-b93d-0242ac1c0002\"] = google.colab.output.setActiveOutputArea(window[\"684521b0-5ac6-11ea-b93d-0242ac1c0002\"]);\n",
              "//# sourceURL=js_5185bc8be6"
            ],
            "text/plain": [
              "<IPython.core.display.Javascript object>"
            ]
          },
          "metadata": {
            "tags": [
              "id18-49-1",
              "outputarea_id18"
            ]
          }
        },
        {
          "output_type": "display_data",
          "data": {
            "application/javascript": [
              "window[\"68493bd8-5ac6-11ea-b93d-0242ac1c0002\"] = google.colab.output.getActiveOutputArea();\n",
              "//# sourceURL=js_eea75e51de"
            ],
            "text/plain": [
              "<IPython.core.display.Javascript object>"
            ]
          },
          "metadata": {
            "tags": [
              "id18-49-2",
              "outputarea_id18"
            ]
          }
        },
        {
          "output_type": "display_data",
          "data": {
            "application/javascript": [
              "window[\"68499240-5ac6-11ea-b93d-0242ac1c0002\"] = document.querySelector(\"#id18-49-2\");\n",
              "//# sourceURL=js_0eabdd5de4"
            ],
            "text/plain": [
              "<IPython.core.display.Javascript object>"
            ]
          },
          "metadata": {
            "tags": [
              "id18-49-2",
              "outputarea_id18"
            ]
          }
        },
        {
          "output_type": "display_data",
          "data": {
            "application/javascript": [
              "window[\"6849d0d4-5ac6-11ea-b93d-0242ac1c0002\"] = google.colab.output.setActiveOutputArea(window[\"68499240-5ac6-11ea-b93d-0242ac1c0002\"]);\n",
              "//# sourceURL=js_2fc4710b90"
            ],
            "text/plain": [
              "<IPython.core.display.Javascript object>"
            ]
          },
          "metadata": {
            "tags": [
              "id18-49-2",
              "outputarea_id18"
            ]
          }
        },
        {
          "output_type": "stream",
          "text": [
            "https://patents.google.com/patent/US7157995B2\n"
          ],
          "name": "stdout"
        },
        {
          "output_type": "display_data",
          "data": {
            "application/javascript": [
              "window[\"684aeafa-5ac6-11ea-b93d-0242ac1c0002\"] = google.colab.output.setActiveOutputArea(window[\"68493bd8-5ac6-11ea-b93d-0242ac1c0002\"]);\n",
              "//# sourceURL=js_2e883bd6c8"
            ],
            "text/plain": [
              "<IPython.core.display.Javascript object>"
            ]
          },
          "metadata": {
            "tags": [
              "id18-49-2",
              "outputarea_id18"
            ]
          }
        },
        {
          "output_type": "display_data",
          "data": {
            "application/javascript": [
              "window[\"684ca43a-5ac6-11ea-b93d-0242ac1c0002\"] = google.colab.output.getActiveOutputArea();\n",
              "//# sourceURL=js_37fd706389"
            ],
            "text/plain": [
              "<IPython.core.display.Javascript object>"
            ]
          },
          "metadata": {
            "tags": [
              "id18-49-3",
              "outputarea_id18"
            ]
          }
        },
        {
          "output_type": "display_data",
          "data": {
            "application/javascript": [
              "window[\"684cef76-5ac6-11ea-b93d-0242ac1c0002\"] = document.querySelector(\"#id18-49-3\");\n",
              "//# sourceURL=js_1de8943dda"
            ],
            "text/plain": [
              "<IPython.core.display.Javascript object>"
            ]
          },
          "metadata": {
            "tags": [
              "id18-49-3",
              "outputarea_id18"
            ]
          }
        },
        {
          "output_type": "display_data",
          "data": {
            "application/javascript": [
              "window[\"684d3d1e-5ac6-11ea-b93d-0242ac1c0002\"] = google.colab.output.setActiveOutputArea(window[\"684cef76-5ac6-11ea-b93d-0242ac1c0002\"]);\n",
              "//# sourceURL=js_2025352230"
            ],
            "text/plain": [
              "<IPython.core.display.Javascript object>"
            ]
          },
          "metadata": {
            "tags": [
              "id18-49-3",
              "outputarea_id18"
            ]
          }
        },
        {
          "output_type": "stream",
          "text": [
            "0.36809862\n"
          ],
          "name": "stdout"
        },
        {
          "output_type": "display_data",
          "data": {
            "application/javascript": [
              "window[\"684e57ee-5ac6-11ea-b93d-0242ac1c0002\"] = google.colab.output.setActiveOutputArea(window[\"684ca43a-5ac6-11ea-b93d-0242ac1c0002\"]);\n",
              "//# sourceURL=js_8a55142039"
            ],
            "text/plain": [
              "<IPython.core.display.Javascript object>"
            ]
          },
          "metadata": {
            "tags": [
              "id18-49-3",
              "outputarea_id18"
            ]
          }
        },
        {
          "output_type": "display_data",
          "data": {
            "application/javascript": [
              "window[\"684fe348-5ac6-11ea-b93d-0242ac1c0002\"] = google.colab.output.getActiveOutputArea();\n",
              "//# sourceURL=js_ce09a4425b"
            ],
            "text/plain": [
              "<IPython.core.display.Javascript object>"
            ]
          },
          "metadata": {
            "tags": [
              "id18-50-0",
              "outputarea_id18"
            ]
          }
        },
        {
          "output_type": "display_data",
          "data": {
            "application/javascript": [
              "window[\"68503afa-5ac6-11ea-b93d-0242ac1c0002\"] = document.querySelector(\"#id18-50-0\");\n",
              "//# sourceURL=js_5b50915f0f"
            ],
            "text/plain": [
              "<IPython.core.display.Javascript object>"
            ]
          },
          "metadata": {
            "tags": [
              "id18-50-0",
              "outputarea_id18"
            ]
          }
        },
        {
          "output_type": "display_data",
          "data": {
            "application/javascript": [
              "window[\"685086fe-5ac6-11ea-b93d-0242ac1c0002\"] = google.colab.output.setActiveOutputArea(window[\"68503afa-5ac6-11ea-b93d-0242ac1c0002\"]);\n",
              "//# sourceURL=js_27f2217fa3"
            ],
            "text/plain": [
              "<IPython.core.display.Javascript object>"
            ]
          },
          "metadata": {
            "tags": [
              "id18-50-0",
              "outputarea_id18"
            ]
          }
        },
        {
          "output_type": "stream",
          "text": [
            "50\n"
          ],
          "name": "stdout"
        },
        {
          "output_type": "display_data",
          "data": {
            "application/javascript": [
              "window[\"6851b010-5ac6-11ea-b93d-0242ac1c0002\"] = google.colab.output.setActiveOutputArea(window[\"684fe348-5ac6-11ea-b93d-0242ac1c0002\"]);\n",
              "//# sourceURL=js_c643712cca"
            ],
            "text/plain": [
              "<IPython.core.display.Javascript object>"
            ]
          },
          "metadata": {
            "tags": [
              "id18-50-0",
              "outputarea_id18"
            ]
          }
        },
        {
          "output_type": "display_data",
          "data": {
            "application/javascript": [
              "window[\"68533fde-5ac6-11ea-b93d-0242ac1c0002\"] = google.colab.output.getActiveOutputArea();\n",
              "//# sourceURL=js_6dc0f9cb7b"
            ],
            "text/plain": [
              "<IPython.core.display.Javascript object>"
            ]
          },
          "metadata": {
            "tags": [
              "id18-50-1",
              "outputarea_id18"
            ]
          }
        },
        {
          "output_type": "display_data",
          "data": {
            "application/javascript": [
              "window[\"685387fa-5ac6-11ea-b93d-0242ac1c0002\"] = document.querySelector(\"#id18-50-1\");\n",
              "//# sourceURL=js_bee66889b5"
            ],
            "text/plain": [
              "<IPython.core.display.Javascript object>"
            ]
          },
          "metadata": {
            "tags": [
              "id18-50-1",
              "outputarea_id18"
            ]
          }
        },
        {
          "output_type": "display_data",
          "data": {
            "application/javascript": [
              "window[\"6853d32c-5ac6-11ea-b93d-0242ac1c0002\"] = google.colab.output.setActiveOutputArea(window[\"685387fa-5ac6-11ea-b93d-0242ac1c0002\"]);\n",
              "//# sourceURL=js_7b4e0aea61"
            ],
            "text/plain": [
              "<IPython.core.display.Javascript object>"
            ]
          },
          "metadata": {
            "tags": [
              "id18-50-1",
              "outputarea_id18"
            ]
          }
        },
        {
          "output_type": "stream",
          "text": [
            "Remote sensing device that stores sensor type and measuring units thereof in memory\n",
            "\n"
          ],
          "name": "stdout"
        },
        {
          "output_type": "display_data",
          "data": {
            "application/javascript": [
              "window[\"6854b8dc-5ac6-11ea-b93d-0242ac1c0002\"] = google.colab.output.setActiveOutputArea(window[\"68533fde-5ac6-11ea-b93d-0242ac1c0002\"]);\n",
              "//# sourceURL=js_c1fab0ac91"
            ],
            "text/plain": [
              "<IPython.core.display.Javascript object>"
            ]
          },
          "metadata": {
            "tags": [
              "id18-50-1",
              "outputarea_id18"
            ]
          }
        },
        {
          "output_type": "display_data",
          "data": {
            "application/javascript": [
              "window[\"685600d4-5ac6-11ea-b93d-0242ac1c0002\"] = google.colab.output.getActiveOutputArea();\n",
              "//# sourceURL=js_fabf501030"
            ],
            "text/plain": [
              "<IPython.core.display.Javascript object>"
            ]
          },
          "metadata": {
            "tags": [
              "id18-50-2",
              "outputarea_id18"
            ]
          }
        },
        {
          "output_type": "display_data",
          "data": {
            "application/javascript": [
              "window[\"6856471a-5ac6-11ea-b93d-0242ac1c0002\"] = document.querySelector(\"#id18-50-2\");\n",
              "//# sourceURL=js_f8fd1befa5"
            ],
            "text/plain": [
              "<IPython.core.display.Javascript object>"
            ]
          },
          "metadata": {
            "tags": [
              "id18-50-2",
              "outputarea_id18"
            ]
          }
        },
        {
          "output_type": "display_data",
          "data": {
            "application/javascript": [
              "window[\"68568c48-5ac6-11ea-b93d-0242ac1c0002\"] = google.colab.output.setActiveOutputArea(window[\"6856471a-5ac6-11ea-b93d-0242ac1c0002\"]);\n",
              "//# sourceURL=js_48c4b3c208"
            ],
            "text/plain": [
              "<IPython.core.display.Javascript object>"
            ]
          },
          "metadata": {
            "tags": [
              "id18-50-2",
              "outputarea_id18"
            ]
          }
        },
        {
          "output_type": "stream",
          "text": [
            "https://patents.google.com/patent/US7839280B2\n"
          ],
          "name": "stdout"
        },
        {
          "output_type": "display_data",
          "data": {
            "application/javascript": [
              "window[\"6857628a-5ac6-11ea-b93d-0242ac1c0002\"] = google.colab.output.setActiveOutputArea(window[\"685600d4-5ac6-11ea-b93d-0242ac1c0002\"]);\n",
              "//# sourceURL=js_3187753828"
            ],
            "text/plain": [
              "<IPython.core.display.Javascript object>"
            ]
          },
          "metadata": {
            "tags": [
              "id18-50-2",
              "outputarea_id18"
            ]
          }
        },
        {
          "output_type": "display_data",
          "data": {
            "application/javascript": [
              "window[\"6858a136-5ac6-11ea-b93d-0242ac1c0002\"] = google.colab.output.getActiveOutputArea();\n",
              "//# sourceURL=js_859ca9d83c"
            ],
            "text/plain": [
              "<IPython.core.display.Javascript object>"
            ]
          },
          "metadata": {
            "tags": [
              "id18-50-3",
              "outputarea_id18"
            ]
          }
        },
        {
          "output_type": "display_data",
          "data": {
            "application/javascript": [
              "window[\"6858e164-5ac6-11ea-b93d-0242ac1c0002\"] = document.querySelector(\"#id18-50-3\");\n",
              "//# sourceURL=js_162f582e10"
            ],
            "text/plain": [
              "<IPython.core.display.Javascript object>"
            ]
          },
          "metadata": {
            "tags": [
              "id18-50-3",
              "outputarea_id18"
            ]
          }
        },
        {
          "output_type": "display_data",
          "data": {
            "application/javascript": [
              "window[\"68592fde-5ac6-11ea-b93d-0242ac1c0002\"] = google.colab.output.setActiveOutputArea(window[\"6858e164-5ac6-11ea-b93d-0242ac1c0002\"]);\n",
              "//# sourceURL=js_b9c4229c05"
            ],
            "text/plain": [
              "<IPython.core.display.Javascript object>"
            ]
          },
          "metadata": {
            "tags": [
              "id18-50-3",
              "outputarea_id18"
            ]
          }
        },
        {
          "output_type": "stream",
          "text": [
            "0.36813936\n"
          ],
          "name": "stdout"
        },
        {
          "output_type": "display_data",
          "data": {
            "application/javascript": [
              "window[\"685a0c06-5ac6-11ea-b93d-0242ac1c0002\"] = google.colab.output.setActiveOutputArea(window[\"6858a136-5ac6-11ea-b93d-0242ac1c0002\"]);\n",
              "//# sourceURL=js_0e7402826d"
            ],
            "text/plain": [
              "<IPython.core.display.Javascript object>"
            ]
          },
          "metadata": {
            "tags": [
              "id18-50-3",
              "outputarea_id18"
            ]
          }
        }
      ]
    },
    {
      "cell_type": "code",
      "metadata": {
        "id": "y_ZKC-Cqpo-G",
        "colab_type": "code",
        "colab": {}
      },
      "source": [
        ""
      ],
      "execution_count": 0,
      "outputs": []
    }
  ]
}