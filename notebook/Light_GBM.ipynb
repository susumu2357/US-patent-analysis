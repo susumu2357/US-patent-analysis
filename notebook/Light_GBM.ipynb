{
 "cells": [
  {
   "cell_type": "markdown",
   "metadata": {},
   "source": [
    "# Baseline model\n",
    "\n",
    "Just predict true if tf-idf cosin distance is closer than threshold.\n",
    "\n",
    "This is intended for simplest end-to-end solution."
   ]
  },
  {
   "cell_type": "markdown",
   "metadata": {},
   "source": [
    "### Download data of training-test set 1000. (prerequisite)\n",
    "\n",
    "Created by Paul_to_2000_dataset.ipynb.\n",
    "gsutil is easier to use outside from docker container.\n",
    "\n",
    "\n",
    "```\n",
    "gsutil cp gs://karino2-uspatent/citations_info_2000.df.gz ../data/\n",
    "gsutil cp gs://karino2-uspatent/testset_app_1000.df.gz ../data/\n",
    "gsutil cp gs://karino2-uspatent/training_app_1000.df.gz ../data/\n",
    "gsutil cp gs://karino2-uspatent/grants_for_2000.df.gz ../data/\n",
    "\n",
    "```"
   ]
  },
  {
   "cell_type": "markdown",
   "metadata": {},
   "source": [
    "### Load data set"
   ]
  },
  {
   "cell_type": "code",
   "execution_count": 1,
   "metadata": {},
   "outputs": [],
   "source": [
    "import pandas as pd\n",
    "import numpy as np"
   ]
  },
  {
   "cell_type": "code",
   "execution_count": 13,
   "metadata": {},
   "outputs": [],
   "source": []
  },
  {
   "cell_type": "code",
   "execution_count": 2,
   "metadata": {},
   "outputs": [],
   "source": [
    "citations_info_target = pd.read_pickle(\"../data/citations_info_2000.df.gz\")\n",
    "training_app_df = pd.read_pickle(\"../data/training_app_1000.df.gz\")\n",
    "testset_app_df = pd.read_pickle(\"../data/testset_app_1000.df.gz\")\n",
    "grants_target_df = pd.read_pickle(\"../data/grants_for_2000.df.gz\")"
   ]
  },
  {
   "cell_type": "code",
   "execution_count": 3,
   "metadata": {},
   "outputs": [
    {
     "data": {
      "text/plain": [
       "(4179, 41)"
      ]
     },
     "execution_count": 3,
     "metadata": {},
     "output_type": "execute_result"
    }
   ],
   "source": [
    "citations_info_target.shape"
   ]
  },
  {
   "cell_type": "code",
   "execution_count": 5,
   "metadata": {},
   "outputs": [
    {
     "data": {
      "text/plain": [
       "0    14222691\n",
       "1    12515852\n",
       "2    12033424\n",
       "3    12402344\n",
       "4    12155425\n",
       "Name: app_id, dtype: int64"
      ]
     },
     "execution_count": 5,
     "metadata": {},
     "output_type": "execute_result"
    }
   ],
   "source": [
    "training_app_df.head().app_id"
   ]
  },
  {
   "cell_type": "raw",
   "metadata": {},
   "source": [
    "Expected\n",
    "\n",
    "0    14222691\n",
    "1    12515852\n",
    "2    12033424\n",
    "3    12402344\n",
    "4    12155425"
   ]
  },
  {
   "cell_type": "code",
   "execution_count": 7,
   "metadata": {},
   "outputs": [
    {
     "data": {
      "text/plain": [
       "0    14307191\n",
       "1    13137006\n",
       "2    12741959\n",
       "3    12643447\n",
       "4    14200253\n",
       "Name: app_id, dtype: int64"
      ]
     },
     "execution_count": 7,
     "metadata": {},
     "output_type": "execute_result"
    }
   ],
   "source": [
    "testset_app_df.head().app_id"
   ]
  },
  {
   "cell_type": "raw",
   "metadata": {},
   "source": [
    "Expected.\n",
    "0    14307191\n",
    "1    13137006\n",
    "2    12741959\n",
    "3    12643447\n",
    "4    14200253"
   ]
  },
  {
   "cell_type": "code",
   "execution_count": 16,
   "metadata": {},
   "outputs": [
    {
     "data": {
      "text/plain": [
       "(2524, 2)"
      ]
     },
     "execution_count": 16,
     "metadata": {},
     "output_type": "execute_result"
    }
   ],
   "source": [
    "grants_target_df.shape"
   ]
  },
  {
   "cell_type": "code",
   "execution_count": null,
   "metadata": {},
   "outputs": [],
   "source": []
  },
  {
   "cell_type": "markdown",
   "metadata": {},
   "source": [
    "### Retrieve just claim. Remove all tags.\n",
    "\n",
    "This utility function might necessary for any mode."
   ]
  },
  {
   "cell_type": "code",
   "execution_count": null,
   "metadata": {},
   "outputs": [],
   "source": []
  },
  {
   "cell_type": "code",
   "execution_count": 3,
   "metadata": {},
   "outputs": [],
   "source": [
    "import re"
   ]
  },
  {
   "cell_type": "code",
   "execution_count": 4,
   "metadata": {},
   "outputs": [],
   "source": [
    "CLAIM_PAT = re.compile(r'<claims[^>]*>(.*)</claims>',re.MULTILINE|re.DOTALL)"
   ]
  },
  {
   "cell_type": "code",
   "execution_count": 5,
   "metadata": {},
   "outputs": [],
   "source": [
    "TAG_PAT = re.compile(r\"<.*?>\")"
   ]
  },
  {
   "cell_type": "code",
   "execution_count": 6,
   "metadata": {},
   "outputs": [],
   "source": [
    "def whole_xml_to_claim_xml(whole):\n",
    "    mat = CLAIM_PAT.search(whole)\n",
    "    return mat.group(1)"
   ]
  },
  {
   "cell_type": "code",
   "execution_count": 7,
   "metadata": {},
   "outputs": [],
   "source": [
    "def whole_xml_to_claim(whole):\n",
    "    return TAG_PAT.sub(' ', whole_xml_to_claim_xml(whole))"
   ]
  },
  {
   "cell_type": "code",
   "execution_count": null,
   "metadata": {},
   "outputs": [],
   "source": []
  },
  {
   "cell_type": "code",
   "execution_count": null,
   "metadata": {},
   "outputs": [],
   "source": []
  },
  {
   "cell_type": "markdown",
   "metadata": {},
   "source": [
    "# Model evaluation"
   ]
  },
  {
   "cell_type": "code",
   "execution_count": null,
   "metadata": {},
   "outputs": [],
   "source": []
  },
  {
   "cell_type": "code",
   "execution_count": 8,
   "metadata": {},
   "outputs": [
    {
     "data": {
      "text/html": [
       "<div>\n",
       "<style scoped>\n",
       "    .dataframe tbody tr th:only-of-type {\n",
       "        vertical-align: middle;\n",
       "    }\n",
       "\n",
       "    .dataframe tbody tr th {\n",
       "        vertical-align: top;\n",
       "    }\n",
       "\n",
       "    .dataframe thead th {\n",
       "        text-align: right;\n",
       "    }\n",
       "</style>\n",
       "<table border=\"1\" class=\"dataframe\">\n",
       "  <thead>\n",
       "    <tr style=\"text-align: right;\">\n",
       "      <th></th>\n",
       "      <th>app_id</th>\n",
       "      <th>app_fnm</th>\n",
       "      <th>citation_pat_pgpub_id</th>\n",
       "      <th>parsed</th>\n",
       "      <th>ifw_number</th>\n",
       "      <th>action_type</th>\n",
       "      <th>action_subtype</th>\n",
       "      <th>form892</th>\n",
       "      <th>form1449</th>\n",
       "      <th>citation_in_oa</th>\n",
       "      <th>...</th>\n",
       "      <th>rejection_103</th>\n",
       "      <th>rejection_112</th>\n",
       "      <th>rejection_dp</th>\n",
       "      <th>objection</th>\n",
       "      <th>allowed_claims</th>\n",
       "      <th>cite102_gt1</th>\n",
       "      <th>cite103_gt3</th>\n",
       "      <th>cite103_eq1</th>\n",
       "      <th>cite103_max</th>\n",
       "      <th>signature_type</th>\n",
       "    </tr>\n",
       "  </thead>\n",
       "  <tbody>\n",
       "    <tr>\n",
       "      <th>0</th>\n",
       "      <td>13371769</td>\n",
       "      <td>/work/data/apps/2012/ipa120607/F_2322.xml</td>\n",
       "      <td>7391316</td>\n",
       "      <td>7391316</td>\n",
       "      <td>H20LX5QGPXXIFW4</td>\n",
       "      <td>103.0</td>\n",
       "      <td>a</td>\n",
       "      <td>1</td>\n",
       "      <td>0</td>\n",
       "      <td>1</td>\n",
       "      <td>...</td>\n",
       "      <td>1</td>\n",
       "      <td>0</td>\n",
       "      <td>1</td>\n",
       "      <td>0</td>\n",
       "      <td>0</td>\n",
       "      <td>0</td>\n",
       "      <td>0</td>\n",
       "      <td>1</td>\n",
       "      <td>2</td>\n",
       "      <td>0</td>\n",
       "    </tr>\n",
       "    <tr>\n",
       "      <th>1</th>\n",
       "      <td>13371769</td>\n",
       "      <td>/work/data/apps/2012/ipa120607/F_2322.xml</td>\n",
       "      <td>6992580</td>\n",
       "      <td>6992580</td>\n",
       "      <td>H20LX5QGPXXIFW4</td>\n",
       "      <td>102.0</td>\n",
       "      <td>a</td>\n",
       "      <td>1</td>\n",
       "      <td>1</td>\n",
       "      <td>1</td>\n",
       "      <td>...</td>\n",
       "      <td>1</td>\n",
       "      <td>0</td>\n",
       "      <td>1</td>\n",
       "      <td>0</td>\n",
       "      <td>0</td>\n",
       "      <td>0</td>\n",
       "      <td>0</td>\n",
       "      <td>1</td>\n",
       "      <td>2</td>\n",
       "      <td>0</td>\n",
       "    </tr>\n",
       "    <tr>\n",
       "      <th>2</th>\n",
       "      <td>13371769</td>\n",
       "      <td>/work/data/apps/2012/ipa120607/F_2322.xml</td>\n",
       "      <td>6992580</td>\n",
       "      <td>6992580</td>\n",
       "      <td>H20LX5QGPXXIFW4</td>\n",
       "      <td>103.0</td>\n",
       "      <td>a</td>\n",
       "      <td>1</td>\n",
       "      <td>1</td>\n",
       "      <td>1</td>\n",
       "      <td>...</td>\n",
       "      <td>1</td>\n",
       "      <td>0</td>\n",
       "      <td>1</td>\n",
       "      <td>0</td>\n",
       "      <td>0</td>\n",
       "      <td>0</td>\n",
       "      <td>0</td>\n",
       "      <td>1</td>\n",
       "      <td>2</td>\n",
       "      <td>0</td>\n",
       "    </tr>\n",
       "    <tr>\n",
       "      <th>3</th>\n",
       "      <td>13371769</td>\n",
       "      <td>/work/data/apps/2012/ipa120607/F_2322.xml</td>\n",
       "      <td>7774833</td>\n",
       "      <td>7774833</td>\n",
       "      <td>H20LX5QGPXXIFW4</td>\n",
       "      <td>103.0</td>\n",
       "      <td>a</td>\n",
       "      <td>1</td>\n",
       "      <td>1</td>\n",
       "      <td>1</td>\n",
       "      <td>...</td>\n",
       "      <td>1</td>\n",
       "      <td>0</td>\n",
       "      <td>1</td>\n",
       "      <td>0</td>\n",
       "      <td>0</td>\n",
       "      <td>0</td>\n",
       "      <td>0</td>\n",
       "      <td>1</td>\n",
       "      <td>2</td>\n",
       "      <td>0</td>\n",
       "    </tr>\n",
       "    <tr>\n",
       "      <th>4</th>\n",
       "      <td>12282000</td>\n",
       "      <td>/work/data/apps/2009/ipa090312/F_1385.xml</td>\n",
       "      <td>7411209</td>\n",
       "      <td>7411209</td>\n",
       "      <td>G9LENRJ8PPOPPY5</td>\n",
       "      <td>102.0</td>\n",
       "      <td>a</td>\n",
       "      <td>0</td>\n",
       "      <td>1</td>\n",
       "      <td>1</td>\n",
       "      <td>...</td>\n",
       "      <td>1</td>\n",
       "      <td>0</td>\n",
       "      <td>0</td>\n",
       "      <td>0</td>\n",
       "      <td>0</td>\n",
       "      <td>1</td>\n",
       "      <td>0</td>\n",
       "      <td>1</td>\n",
       "      <td>1</td>\n",
       "      <td>3</td>\n",
       "    </tr>\n",
       "  </tbody>\n",
       "</table>\n",
       "<p>5 rows × 41 columns</p>\n",
       "</div>"
      ],
      "text/plain": [
       "     app_id                                    app_fnm citation_pat_pgpub_id  \\\n",
       "0  13371769  /work/data/apps/2012/ipa120607/F_2322.xml               7391316   \n",
       "1  13371769  /work/data/apps/2012/ipa120607/F_2322.xml               6992580   \n",
       "2  13371769  /work/data/apps/2012/ipa120607/F_2322.xml               6992580   \n",
       "3  13371769  /work/data/apps/2012/ipa120607/F_2322.xml               7774833   \n",
       "4  12282000  /work/data/apps/2009/ipa090312/F_1385.xml               7411209   \n",
       "\n",
       "    parsed       ifw_number  action_type action_subtype  form892  form1449  \\\n",
       "0  7391316  H20LX5QGPXXIFW4        103.0              a        1         0   \n",
       "1  6992580  H20LX5QGPXXIFW4        102.0              a        1         1   \n",
       "2  6992580  H20LX5QGPXXIFW4        103.0              a        1         1   \n",
       "3  7774833  H20LX5QGPXXIFW4        103.0              a        1         1   \n",
       "4  7411209  G9LENRJ8PPOPPY5        102.0              a        0         1   \n",
       "\n",
       "   citation_in_oa      ...       rejection_103  rejection_112  rejection_dp  \\\n",
       "0               1      ...                   1              0             1   \n",
       "1               1      ...                   1              0             1   \n",
       "2               1      ...                   1              0             1   \n",
       "3               1      ...                   1              0             1   \n",
       "4               1      ...                   1              0             0   \n",
       "\n",
       "   objection allowed_claims cite102_gt1  cite103_gt3 cite103_eq1  cite103_max  \\\n",
       "0          0              0           0            0           1            2   \n",
       "1          0              0           0            0           1            2   \n",
       "2          0              0           0            0           1            2   \n",
       "3          0              0           0            0           1            2   \n",
       "4          0              0           1            0           1            1   \n",
       "\n",
       "  signature_type  \n",
       "0              0  \n",
       "1              0  \n",
       "2              0  \n",
       "3              0  \n",
       "4              3  \n",
       "\n",
       "[5 rows x 41 columns]"
      ]
     },
     "execution_count": 8,
     "metadata": {},
     "output_type": "execute_result"
    }
   ],
   "source": [
    "citations_info_target.head()"
   ]
  },
  {
   "cell_type": "code",
   "execution_count": null,
   "metadata": {},
   "outputs": [],
   "source": []
  },
  {
   "cell_type": "code",
   "execution_count": null,
   "metadata": {},
   "outputs": [],
   "source": []
  },
  {
   "cell_type": "code",
   "execution_count": 9,
   "metadata": {},
   "outputs": [],
   "source": [
    "def set_one_answer_appid(labeldf, oneappid):\n",
    "    cited_patids = citations_info_target[citations_info_target.app_id == oneappid].parsed\n",
    "    labeldf.loc[oneappid] = labeldf.columns.isin(cited_patids)"
   ]
  },
  {
   "cell_type": "code",
   "execution_count": null,
   "metadata": {},
   "outputs": [],
   "source": []
  },
  {
   "cell_type": "code",
   "execution_count": 10,
   "metadata": {},
   "outputs": [],
   "source": [
    "def create_label_df():\n",
    "    label_df = pd.DataFrame(columns=grants_target_df.parsed.values, dtype=np.bool)\n",
    "    for appid in testset_app_df.app_id:\n",
    "        set_one_answer_appid(label_df, appid)\n",
    "    return label_df"
   ]
  },
  {
   "cell_type": "code",
   "execution_count": 11,
   "metadata": {},
   "outputs": [],
   "source": [
    "label_df = create_label_df()"
   ]
  },
  {
   "cell_type": "code",
   "execution_count": 12,
   "metadata": {},
   "outputs": [
    {
     "data": {
      "text/plain": [
       "(1000, 2524)"
      ]
     },
     "execution_count": 12,
     "metadata": {},
     "output_type": "execute_result"
    }
   ],
   "source": [
    "label_df.shape"
   ]
  },
  {
   "cell_type": "code",
   "execution_count": null,
   "metadata": {},
   "outputs": [],
   "source": []
  },
  {
   "cell_type": "markdown",
   "metadata": {},
   "source": [
    "### Cofirm label df is correct"
   ]
  },
  {
   "cell_type": "code",
   "execution_count": 13,
   "metadata": {},
   "outputs": [
    {
     "data": {
      "text/html": [
       "<div>\n",
       "<style scoped>\n",
       "    .dataframe tbody tr th:only-of-type {\n",
       "        vertical-align: middle;\n",
       "    }\n",
       "\n",
       "    .dataframe tbody tr th {\n",
       "        vertical-align: top;\n",
       "    }\n",
       "\n",
       "    .dataframe thead th {\n",
       "        text-align: right;\n",
       "    }\n",
       "</style>\n",
       "<table border=\"1\" class=\"dataframe\">\n",
       "  <thead>\n",
       "    <tr style=\"text-align: right;\">\n",
       "      <th></th>\n",
       "      <th>app_id</th>\n",
       "      <th>xml</th>\n",
       "    </tr>\n",
       "  </thead>\n",
       "  <tbody>\n",
       "    <tr>\n",
       "      <th>0</th>\n",
       "      <td>14307191</td>\n",
       "      <td>&lt;us-patent-application lang=\"EN\" dtd-version=\"...</td>\n",
       "    </tr>\n",
       "    <tr>\n",
       "      <th>1</th>\n",
       "      <td>13137006</td>\n",
       "      <td>&lt;us-patent-application lang=\"EN\" dtd-version=\"...</td>\n",
       "    </tr>\n",
       "    <tr>\n",
       "      <th>2</th>\n",
       "      <td>12741959</td>\n",
       "      <td>&lt;us-patent-application lang=\"EN\" dtd-version=\"...</td>\n",
       "    </tr>\n",
       "    <tr>\n",
       "      <th>3</th>\n",
       "      <td>12643447</td>\n",
       "      <td>&lt;us-patent-application lang=\"EN\" dtd-version=\"...</td>\n",
       "    </tr>\n",
       "    <tr>\n",
       "      <th>4</th>\n",
       "      <td>14200253</td>\n",
       "      <td>&lt;us-patent-application lang=\"EN\" dtd-version=\"...</td>\n",
       "    </tr>\n",
       "  </tbody>\n",
       "</table>\n",
       "</div>"
      ],
      "text/plain": [
       "     app_id                                                xml\n",
       "0  14307191  <us-patent-application lang=\"EN\" dtd-version=\"...\n",
       "1  13137006  <us-patent-application lang=\"EN\" dtd-version=\"...\n",
       "2  12741959  <us-patent-application lang=\"EN\" dtd-version=\"...\n",
       "3  12643447  <us-patent-application lang=\"EN\" dtd-version=\"...\n",
       "4  14200253  <us-patent-application lang=\"EN\" dtd-version=\"..."
      ]
     },
     "execution_count": 13,
     "metadata": {},
     "output_type": "execute_result"
    }
   ],
   "source": [
    "testset_app_df.head()"
   ]
  },
  {
   "cell_type": "code",
   "execution_count": 14,
   "metadata": {},
   "outputs": [
    {
     "data": {
      "text/html": [
       "<div>\n",
       "<style scoped>\n",
       "    .dataframe tbody tr th:only-of-type {\n",
       "        vertical-align: middle;\n",
       "    }\n",
       "\n",
       "    .dataframe tbody tr th {\n",
       "        vertical-align: top;\n",
       "    }\n",
       "\n",
       "    .dataframe thead th {\n",
       "        text-align: right;\n",
       "    }\n",
       "</style>\n",
       "<table border=\"1\" class=\"dataframe\">\n",
       "  <thead>\n",
       "    <tr style=\"text-align: right;\">\n",
       "      <th></th>\n",
       "      <th>6837383</th>\n",
       "      <th>6837647</th>\n",
       "      <th>6837799</th>\n",
       "      <th>6837893</th>\n",
       "      <th>6837910</th>\n",
       "      <th>6838140</th>\n",
       "      <th>6838207</th>\n",
       "      <th>6838507</th>\n",
       "      <th>6838812</th>\n",
       "      <th>6838925</th>\n",
       "      <th>...</th>\n",
       "      <th>8334161</th>\n",
       "      <th>8334431</th>\n",
       "      <th>8334887</th>\n",
       "      <th>8336128</th>\n",
       "      <th>8336158</th>\n",
       "      <th>8336789</th>\n",
       "      <th>8336964</th>\n",
       "      <th>8337193</th>\n",
       "      <th>8339697</th>\n",
       "      <th>8340894</th>\n",
       "    </tr>\n",
       "  </thead>\n",
       "  <tbody>\n",
       "    <tr>\n",
       "      <th>14307191</th>\n",
       "      <td>False</td>\n",
       "      <td>False</td>\n",
       "      <td>False</td>\n",
       "      <td>False</td>\n",
       "      <td>False</td>\n",
       "      <td>False</td>\n",
       "      <td>False</td>\n",
       "      <td>False</td>\n",
       "      <td>False</td>\n",
       "      <td>False</td>\n",
       "      <td>...</td>\n",
       "      <td>False</td>\n",
       "      <td>False</td>\n",
       "      <td>False</td>\n",
       "      <td>False</td>\n",
       "      <td>False</td>\n",
       "      <td>False</td>\n",
       "      <td>False</td>\n",
       "      <td>False</td>\n",
       "      <td>False</td>\n",
       "      <td>False</td>\n",
       "    </tr>\n",
       "    <tr>\n",
       "      <th>13137006</th>\n",
       "      <td>False</td>\n",
       "      <td>False</td>\n",
       "      <td>False</td>\n",
       "      <td>False</td>\n",
       "      <td>False</td>\n",
       "      <td>False</td>\n",
       "      <td>False</td>\n",
       "      <td>False</td>\n",
       "      <td>False</td>\n",
       "      <td>False</td>\n",
       "      <td>...</td>\n",
       "      <td>False</td>\n",
       "      <td>False</td>\n",
       "      <td>False</td>\n",
       "      <td>False</td>\n",
       "      <td>False</td>\n",
       "      <td>False</td>\n",
       "      <td>False</td>\n",
       "      <td>False</td>\n",
       "      <td>False</td>\n",
       "      <td>False</td>\n",
       "    </tr>\n",
       "    <tr>\n",
       "      <th>12741959</th>\n",
       "      <td>False</td>\n",
       "      <td>False</td>\n",
       "      <td>False</td>\n",
       "      <td>False</td>\n",
       "      <td>False</td>\n",
       "      <td>False</td>\n",
       "      <td>False</td>\n",
       "      <td>False</td>\n",
       "      <td>False</td>\n",
       "      <td>False</td>\n",
       "      <td>...</td>\n",
       "      <td>False</td>\n",
       "      <td>False</td>\n",
       "      <td>False</td>\n",
       "      <td>False</td>\n",
       "      <td>False</td>\n",
       "      <td>False</td>\n",
       "      <td>False</td>\n",
       "      <td>False</td>\n",
       "      <td>False</td>\n",
       "      <td>False</td>\n",
       "    </tr>\n",
       "    <tr>\n",
       "      <th>12643447</th>\n",
       "      <td>False</td>\n",
       "      <td>False</td>\n",
       "      <td>False</td>\n",
       "      <td>False</td>\n",
       "      <td>False</td>\n",
       "      <td>False</td>\n",
       "      <td>False</td>\n",
       "      <td>False</td>\n",
       "      <td>False</td>\n",
       "      <td>False</td>\n",
       "      <td>...</td>\n",
       "      <td>False</td>\n",
       "      <td>False</td>\n",
       "      <td>False</td>\n",
       "      <td>False</td>\n",
       "      <td>False</td>\n",
       "      <td>False</td>\n",
       "      <td>False</td>\n",
       "      <td>False</td>\n",
       "      <td>False</td>\n",
       "      <td>False</td>\n",
       "    </tr>\n",
       "    <tr>\n",
       "      <th>14200253</th>\n",
       "      <td>False</td>\n",
       "      <td>False</td>\n",
       "      <td>False</td>\n",
       "      <td>False</td>\n",
       "      <td>False</td>\n",
       "      <td>False</td>\n",
       "      <td>False</td>\n",
       "      <td>False</td>\n",
       "      <td>False</td>\n",
       "      <td>False</td>\n",
       "      <td>...</td>\n",
       "      <td>False</td>\n",
       "      <td>False</td>\n",
       "      <td>False</td>\n",
       "      <td>False</td>\n",
       "      <td>False</td>\n",
       "      <td>False</td>\n",
       "      <td>False</td>\n",
       "      <td>False</td>\n",
       "      <td>False</td>\n",
       "      <td>False</td>\n",
       "    </tr>\n",
       "  </tbody>\n",
       "</table>\n",
       "<p>5 rows × 2524 columns</p>\n",
       "</div>"
      ],
      "text/plain": [
       "          6837383  6837647  6837799  6837893  6837910  6838140  6838207  \\\n",
       "14307191    False    False    False    False    False    False    False   \n",
       "13137006    False    False    False    False    False    False    False   \n",
       "12741959    False    False    False    False    False    False    False   \n",
       "12643447    False    False    False    False    False    False    False   \n",
       "14200253    False    False    False    False    False    False    False   \n",
       "\n",
       "          6838507  6838812  6838925   ...     8334161  8334431  8334887  \\\n",
       "14307191    False    False    False   ...       False    False    False   \n",
       "13137006    False    False    False   ...       False    False    False   \n",
       "12741959    False    False    False   ...       False    False    False   \n",
       "12643447    False    False    False   ...       False    False    False   \n",
       "14200253    False    False    False   ...       False    False    False   \n",
       "\n",
       "          8336128  8336158  8336789  8336964  8337193  8339697  8340894  \n",
       "14307191    False    False    False    False    False    False    False  \n",
       "13137006    False    False    False    False    False    False    False  \n",
       "12741959    False    False    False    False    False    False    False  \n",
       "12643447    False    False    False    False    False    False    False  \n",
       "14200253    False    False    False    False    False    False    False  \n",
       "\n",
       "[5 rows x 2524 columns]"
      ]
     },
     "execution_count": 14,
     "metadata": {},
     "output_type": "execute_result"
    }
   ],
   "source": [
    "label_df.head()"
   ]
  },
  {
   "cell_type": "code",
   "execution_count": 15,
   "metadata": {},
   "outputs": [
    {
     "data": {
      "text/plain": [
       "7576688"
      ]
     },
     "execution_count": 15,
     "metadata": {},
     "output_type": "execute_result"
    }
   ],
   "source": [
    "label_df.loc[14307191].idxmax()"
   ]
  },
  {
   "cell_type": "code",
   "execution_count": 16,
   "metadata": {},
   "outputs": [
    {
     "data": {
      "text/plain": [
       "698    7576688\n",
       "Name: parsed, dtype: int64"
      ]
     },
     "execution_count": 16,
     "metadata": {},
     "output_type": "execute_result"
    }
   ],
   "source": [
    "citations_info_target[citations_info_target[\"app_id\"]==14307191].parsed"
   ]
  },
  {
   "cell_type": "code",
   "execution_count": 17,
   "metadata": {},
   "outputs": [
    {
     "data": {
      "text/plain": [
       "True"
      ]
     },
     "execution_count": 17,
     "metadata": {},
     "output_type": "execute_result"
    }
   ],
   "source": [
    "label_df.loc[14307191].loc[7576688]"
   ]
  },
  {
   "cell_type": "code",
   "execution_count": 18,
   "metadata": {},
   "outputs": [
    {
     "data": {
      "text/plain": [
       "1"
      ]
     },
     "execution_count": 18,
     "metadata": {},
     "output_type": "execute_result"
    }
   ],
   "source": [
    "label_df.loc[14307191].sum()"
   ]
  },
  {
   "cell_type": "code",
   "execution_count": null,
   "metadata": {},
   "outputs": [],
   "source": []
  },
  {
   "cell_type": "code",
   "execution_count": null,
   "metadata": {},
   "outputs": [],
   "source": []
  },
  {
   "cell_type": "code",
   "execution_count": null,
   "metadata": {},
   "outputs": [],
   "source": []
  },
  {
   "cell_type": "markdown",
   "metadata": {},
   "source": [
    "### Predict test set and print summary"
   ]
  },
  {
   "cell_type": "code",
   "execution_count": null,
   "metadata": {},
   "outputs": [],
   "source": []
  },
  {
   "cell_type": "code",
   "execution_count": 8,
   "metadata": {},
   "outputs": [],
   "source": [
    "def predict_test_set(predict_func):\n",
    "    \"\"\"\n",
    "    predict_func(claims) return NxM of boolean. N is len(claims). M is rownum of grants_target_df.\n",
    "            value indicate n claim is cite patent of m row of grants_all_df.\n",
    "    \"\"\"\n",
    "    predictdf = pd.DataFrame(columns=grants_target_df.parsed.values, dtype=np.bool)\n",
    "    res = predict_func(testset_app_df[\"xml\"].map(whole_xml_to_claim))\n",
    "    for idx, appid in enumerate(testset_app_df.app_id):\n",
    "        predictdf.loc[appid] = res[idx, :]\n",
    "    return predictdf"
   ]
  },
  {
   "cell_type": "code",
   "execution_count": 9,
   "metadata": {},
   "outputs": [],
   "source": [
    "def calc_TPs(preddf, labeldf):\n",
    "    return sum([sum(preddf.loc[one_appid][labeldf.loc[one_appid]]) for one_appid in testset_app_df.app_id])\n",
    "\n",
    "def calc_FPs(preddf, labeldf):\n",
    "    return sum([sum(preddf.loc[one_appid][~labeldf.loc[one_appid]]) for one_appid in testset_app_df.app_id])\n",
    "\n",
    "def calc_TNs(preddf, labeldf):\n",
    "    return sum([sum(preddf.loc[one_appid][~labeldf.loc[one_appid]] == False) for one_appid in testset_app_df.app_id])\n",
    "\n",
    "def calc_FNs(preddf, labeldf):\n",
    "    return sum([sum(preddf.loc[one_appid][labeldf.loc[one_appid]] == False) for one_appid in testset_app_df.app_id])\n",
    "\n",
    "def calc_TFPNs(preddf, labeldf):\n",
    "    return calc_TPs(preddf, labeldf), calc_FPs(preddf, labeldf), calc_TNs(preddf, labeldf), calc_FNs(preddf, labeldf)"
   ]
  },
  {
   "cell_type": "code",
   "execution_count": 10,
   "metadata": {},
   "outputs": [],
   "source": [
    "def calc_summary_TFPNs(TP, FP, TN, FN):\n",
    "    \"return acc, prec, recall, f1.\"\n",
    "    return pd.DataFrame(columns=[\"acc\", \"prec\", \"recall\", \"f1\"], data=[[(TP+TN)/(TP+FP+TN+FN), TP/(TP+FP), TP/(TP+FN), 2*TP/(2*TP+FP+FN)]])\n",
    "    \n",
    "def calc_summary(preddf, labeldf):\n",
    "    TP, FP, TN, FN = calc_TFPNs(preddf, labeldf)\n",
    "    return calc_summary_TFPNs(TP, FP, TN, FN)"
   ]
  },
  {
   "cell_type": "code",
   "execution_count": null,
   "metadata": {},
   "outputs": [],
   "source": []
  },
  {
   "cell_type": "markdown",
   "metadata": {},
   "source": [
    "### Sample evaluation code for baseline model\n",
    "\n",
    "predict_tfidf_model is defined below. eval here later.\n",
    "\n",
    "This is because these cells are model independent and use for other models, while predict_tfidf_model is model dependent codes."
   ]
  },
  {
   "cell_type": "code",
   "execution_count": 22,
   "metadata": {},
   "outputs": [
    {
     "ename": "NameError",
     "evalue": "name 'predict_tfidf_model' is not defined",
     "output_type": "error",
     "traceback": [
      "\u001b[0;31m---------------------------------------------------------------------------\u001b[0m",
      "\u001b[0;31mNameError\u001b[0m                                 Traceback (most recent call last)",
      "\u001b[0;32m<ipython-input-22-ac27e1274b3e>\u001b[0m in \u001b[0;36m<module>\u001b[0;34m()\u001b[0m\n\u001b[0;32m----> 1\u001b[0;31m \u001b[0mpred_df\u001b[0m \u001b[0;34m=\u001b[0m \u001b[0mpredict_test_set\u001b[0m\u001b[0;34m(\u001b[0m\u001b[0mpredict_tfidf_model\u001b[0m\u001b[0;34m)\u001b[0m\u001b[0;34m\u001b[0m\u001b[0m\n\u001b[0m",
      "\u001b[0;31mNameError\u001b[0m: name 'predict_tfidf_model' is not defined"
     ]
    }
   ],
   "source": [
    "pred_df = predict_test_set(predict_tfidf_model)"
   ]
  },
  {
   "cell_type": "code",
   "execution_count": 23,
   "metadata": {},
   "outputs": [
    {
     "ename": "NameError",
     "evalue": "name 'pred_df' is not defined",
     "output_type": "error",
     "traceback": [
      "\u001b[0;31m---------------------------------------------------------------------------\u001b[0m",
      "\u001b[0;31mNameError\u001b[0m                                 Traceback (most recent call last)",
      "\u001b[0;32m<ipython-input-23-0064c7ba42c1>\u001b[0m in \u001b[0;36m<module>\u001b[0;34m()\u001b[0m\n\u001b[0;32m----> 1\u001b[0;31m \u001b[0mcalc_summary\u001b[0m\u001b[0;34m(\u001b[0m\u001b[0mpred_df\u001b[0m\u001b[0;34m,\u001b[0m \u001b[0mlabel_df\u001b[0m\u001b[0;34m)\u001b[0m\u001b[0;34m\u001b[0m\u001b[0m\n\u001b[0m",
      "\u001b[0;31mNameError\u001b[0m: name 'pred_df' is not defined"
     ]
    }
   ],
   "source": [
    "calc_summary(pred_df, label_df)"
   ]
  },
  {
   "cell_type": "raw",
   "metadata": {},
   "source": [
    "# TFIDF_MODEL_THRESHOLD 0.95\n",
    "acc\tprec\trecall\tf1\n",
    "0.891564\t0.004106\t0.901679\t0.008175"
   ]
  },
  {
   "cell_type": "code",
   "execution_count": null,
   "metadata": {},
   "outputs": [],
   "source": []
  },
  {
   "cell_type": "markdown",
   "metadata": {},
   "source": [
    "# Start baseline model dependent code from here\n",
    "\n",
    "Now common part is done.\n",
    "Start model specific cells."
   ]
  },
  {
   "cell_type": "code",
   "execution_count": null,
   "metadata": {},
   "outputs": [],
   "source": []
  },
  {
   "cell_type": "code",
   "execution_count": 11,
   "metadata": {},
   "outputs": [
    {
     "data": {
      "text/plain": [
       "0    \\n \\n 1. A tool organizer for mounting to and ...\n",
       "1    \\n \\n 1. A modular crowd and traffic control b...\n",
       "2    \\n \\n 1. A method of aligning a putter, compri...\n",
       "3    \\n \\n 1. Apparatus for inserting a surgical fa...\n",
       "4    \\n \\n 1. An apparatus for gasifying a liquid o...\n",
       "Name: xml, dtype: object"
      ]
     },
     "execution_count": 11,
     "metadata": {},
     "output_type": "execute_result"
    }
   ],
   "source": [
    "grants_target_df.head()[\"xml\"].map(whole_xml_to_claim)"
   ]
  },
  {
   "cell_type": "code",
   "execution_count": 12,
   "metadata": {},
   "outputs": [],
   "source": [
    "grants_target_df[\"claim\"] = grants_target_df[\"xml\"].map(whole_xml_to_claim)"
   ]
  },
  {
   "cell_type": "code",
   "execution_count": 13,
   "metadata": {},
   "outputs": [
    {
     "data": {
      "text/html": [
       "<div>\n",
       "<style scoped>\n",
       "    .dataframe tbody tr th:only-of-type {\n",
       "        vertical-align: middle;\n",
       "    }\n",
       "\n",
       "    .dataframe tbody tr th {\n",
       "        vertical-align: top;\n",
       "    }\n",
       "\n",
       "    .dataframe thead th {\n",
       "        text-align: right;\n",
       "    }\n",
       "</style>\n",
       "<table border=\"1\" class=\"dataframe\">\n",
       "  <thead>\n",
       "    <tr style=\"text-align: right;\">\n",
       "      <th></th>\n",
       "      <th>parsed</th>\n",
       "      <th>xml</th>\n",
       "      <th>claim</th>\n",
       "    </tr>\n",
       "  </thead>\n",
       "  <tbody>\n",
       "    <tr>\n",
       "      <th>0</th>\n",
       "      <td>6837383</td>\n",
       "      <td>&lt;us-patent-grant lang=\"EN\" dtd-version=\"v40 20...</td>\n",
       "      <td>\\n \\n 1. A tool organizer for mounting to and ...</td>\n",
       "    </tr>\n",
       "    <tr>\n",
       "      <th>1</th>\n",
       "      <td>6837647</td>\n",
       "      <td>&lt;us-patent-grant lang=\"EN\" dtd-version=\"v40 20...</td>\n",
       "      <td>\\n \\n 1. A modular crowd and traffic control b...</td>\n",
       "    </tr>\n",
       "    <tr>\n",
       "      <th>2</th>\n",
       "      <td>6837799</td>\n",
       "      <td>&lt;us-patent-grant lang=\"EN\" dtd-version=\"v40 20...</td>\n",
       "      <td>\\n \\n 1. A method of aligning a putter, compri...</td>\n",
       "    </tr>\n",
       "    <tr>\n",
       "      <th>3</th>\n",
       "      <td>6837893</td>\n",
       "      <td>&lt;us-patent-grant lang=\"EN\" dtd-version=\"v40 20...</td>\n",
       "      <td>\\n \\n 1. Apparatus for inserting a surgical fa...</td>\n",
       "    </tr>\n",
       "    <tr>\n",
       "      <th>4</th>\n",
       "      <td>6837910</td>\n",
       "      <td>&lt;us-patent-grant lang=\"EN\" dtd-version=\"v40 20...</td>\n",
       "      <td>\\n \\n 1. An apparatus for gasifying a liquid o...</td>\n",
       "    </tr>\n",
       "  </tbody>\n",
       "</table>\n",
       "</div>"
      ],
      "text/plain": [
       "    parsed                                                xml  \\\n",
       "0  6837383  <us-patent-grant lang=\"EN\" dtd-version=\"v40 20...   \n",
       "1  6837647  <us-patent-grant lang=\"EN\" dtd-version=\"v40 20...   \n",
       "2  6837799  <us-patent-grant lang=\"EN\" dtd-version=\"v40 20...   \n",
       "3  6837893  <us-patent-grant lang=\"EN\" dtd-version=\"v40 20...   \n",
       "4  6837910  <us-patent-grant lang=\"EN\" dtd-version=\"v40 20...   \n",
       "\n",
       "                                               claim  \n",
       "0  \\n \\n 1. A tool organizer for mounting to and ...  \n",
       "1  \\n \\n 1. A modular crowd and traffic control b...  \n",
       "2  \\n \\n 1. A method of aligning a putter, compri...  \n",
       "3  \\n \\n 1. Apparatus for inserting a surgical fa...  \n",
       "4  \\n \\n 1. An apparatus for gasifying a liquid o...  "
      ]
     },
     "execution_count": 13,
     "metadata": {},
     "output_type": "execute_result"
    }
   ],
   "source": [
    "grants_target_df.head()"
   ]
  },
  {
   "cell_type": "code",
   "execution_count": null,
   "metadata": {},
   "outputs": [],
   "source": []
  },
  {
   "cell_type": "markdown",
   "metadata": {},
   "source": [
    "# Convert to feature vectors and retrieve vocabulary\n",
    "\n",
    "Doing similar things to scikit learn example  \n",
    "http://scikit-learn.org/stable/auto_examples/text/document_classification_20newsgroups.html\n",
    "\n",
    "Also, this document is helpful.  \n",
    "http://scikit-learn.org/stable/tutorial/text_analytics/working_with_text_data.html"
   ]
  },
  {
   "cell_type": "code",
   "execution_count": 17,
   "metadata": {},
   "outputs": [],
   "source": [
    "from sklearn.feature_extraction.text import TfidfVectorizer"
   ]
  },
  {
   "cell_type": "code",
   "execution_count": null,
   "metadata": {},
   "outputs": [],
   "source": []
  },
  {
   "cell_type": "markdown",
   "metadata": {},
   "source": [
    "## (only once) Calculate tf-idf for grants"
   ]
  },
  {
   "cell_type": "code",
   "execution_count": 28,
   "metadata": {},
   "outputs": [],
   "source": [
    "import random\n",
    "random.seed(1234)"
   ]
  },
  {
   "cell_type": "code",
   "execution_count": 18,
   "metadata": {},
   "outputs": [],
   "source": [
    "vectorizer = TfidfVectorizer(stop_words='english', max_df = 0.5)"
   ]
  },
  {
   "cell_type": "code",
   "execution_count": 61,
   "metadata": {},
   "outputs": [],
   "source": [
    "grants_features = vectorizer.fit_transform(grants_target_df[\"claim\"])"
   ]
  },
  {
   "cell_type": "code",
   "execution_count": null,
   "metadata": {},
   "outputs": [],
   "source": []
  },
  {
   "cell_type": "code",
   "execution_count": 62,
   "metadata": {},
   "outputs": [
    {
     "data": {
      "text/plain": [
       "(2524, 20124)"
      ]
     },
     "execution_count": 62,
     "metadata": {},
     "output_type": "execute_result"
    }
   ],
   "source": [
    "grants_features.shape"
   ]
  },
  {
   "cell_type": "code",
   "execution_count": 63,
   "metadata": {},
   "outputs": [
    {
     "data": {
      "text/plain": [
       "scipy.sparse.csr.csr_matrix"
      ]
     },
     "execution_count": 63,
     "metadata": {},
     "output_type": "execute_result"
    }
   ],
   "source": [
    "type(grants_features)"
   ]
  },
  {
   "cell_type": "code",
   "execution_count": 42,
   "metadata": {},
   "outputs": [
    {
     "data": {
      "text/plain": [
       "array([[0., 0., 0., ..., 0., 0., 0.],\n",
       "       [0., 0., 0., ..., 0., 0., 0.],\n",
       "       [0., 0., 0., ..., 0., 0., 0.],\n",
       "       ...,\n",
       "       [0., 0., 0., ..., 0., 0., 0.],\n",
       "       [0., 0., 0., ..., 0., 0., 0.],\n",
       "       [0., 0., 0., ..., 0., 0., 0.]])"
      ]
     },
     "execution_count": 42,
     "metadata": {},
     "output_type": "execute_result"
    }
   ],
   "source": [
    "grants_features.toarray()"
   ]
  },
  {
   "cell_type": "code",
   "execution_count": 43,
   "metadata": {},
   "outputs": [
    {
     "data": {
      "text/plain": [
       "array([[0.62110894, 0.        , 0.        , ..., 0.        , 0.        ,\n",
       "        0.        ],\n",
       "       [0.        , 0.63104447, 0.        , ..., 0.        , 0.        ,\n",
       "        0.        ],\n",
       "       [0.        , 0.        , 0.43163146, ..., 0.        , 0.        ,\n",
       "        0.        ],\n",
       "       ...,\n",
       "       [0.        , 0.        , 0.        , ..., 0.51833283, 0.        ,\n",
       "        0.        ],\n",
       "       [0.        , 0.        , 0.        , ..., 0.        , 0.44640924,\n",
       "        0.        ],\n",
       "       [0.        , 0.        , 0.        , ..., 0.        , 0.        ,\n",
       "        0.66179486]])"
      ]
     },
     "execution_count": 43,
     "metadata": {},
     "output_type": "execute_result"
    }
   ],
   "source": [
    "grants_features.toarray()[:,grants_features.toarray().argmax(axis=1)]"
   ]
  },
  {
   "cell_type": "code",
   "execution_count": 44,
   "metadata": {},
   "outputs": [
    {
     "data": {
      "text/plain": [
       "(2524, 20124)"
      ]
     },
     "execution_count": 44,
     "metadata": {},
     "output_type": "execute_result"
    }
   ],
   "source": [
    "grants_features.toarray().shape"
   ]
  },
  {
   "cell_type": "code",
   "execution_count": 45,
   "metadata": {},
   "outputs": [
    {
     "data": {
      "text/plain": [
       "array([12428,  2101, 14528, ..., 14045, 11325, 15718])"
      ]
     },
     "execution_count": 45,
     "metadata": {},
     "output_type": "execute_result"
    }
   ],
   "source": [
    "grants_features.toarray().argmax(axis=1)"
   ]
  },
  {
   "cell_type": "code",
   "execution_count": 47,
   "metadata": {},
   "outputs": [
    {
     "data": {
      "text/plain": [
       "0.6211089351627735"
      ]
     },
     "execution_count": 47,
     "metadata": {},
     "output_type": "execute_result"
    }
   ],
   "source": [
    "grants_features.toarray()[0,12428]"
   ]
  },
  {
   "cell_type": "code",
   "execution_count": 48,
   "metadata": {},
   "outputs": [
    {
     "data": {
      "text/plain": [
       "0.6310444661525612"
      ]
     },
     "execution_count": 48,
     "metadata": {},
     "output_type": "execute_result"
    }
   ],
   "source": [
    "grants_features.toarray()[1,2101]"
   ]
  },
  {
   "cell_type": "code",
   "execution_count": 51,
   "metadata": {},
   "outputs": [
    {
     "data": {
      "text/plain": [
       "array([5.7031182 , 4.8913653 , 6.56599948, ..., 6.16788739, 5.00285632,\n",
       "       5.18974991])"
      ]
     },
     "execution_count": 51,
     "metadata": {},
     "output_type": "execute_result"
    }
   ],
   "source": [
    "grants_features.toarray().sum(axis=1)"
   ]
  },
  {
   "cell_type": "code",
   "execution_count": 20,
   "metadata": {},
   "outputs": [],
   "source": [
    "vocab = vectorizer.vocabulary_"
   ]
  },
  {
   "cell_type": "code",
   "execution_count": 21,
   "metadata": {},
   "outputs": [],
   "source": [
    "idfvec = vectorizer.idf_"
   ]
  },
  {
   "cell_type": "code",
   "execution_count": 22,
   "metadata": {},
   "outputs": [
    {
     "data": {
      "text/plain": [
       "20124"
      ]
     },
     "execution_count": 22,
     "metadata": {},
     "output_type": "execute_result"
    }
   ],
   "source": [
    "len(vocab.keys())"
   ]
  },
  {
   "cell_type": "code",
   "execution_count": 43,
   "metadata": {},
   "outputs": [
    {
     "data": {
      "text/plain": [
       "[('275', 275),\n",
       " ('stoichiometric', 17209),\n",
       " ('toy', 18447),\n",
       " ('decoy', 4938),\n",
       " ('slots', 16655)]"
      ]
     },
     "execution_count": 43,
     "metadata": {},
     "output_type": "execute_result"
    }
   ],
   "source": [
    "list(vocab.items())[0:5]"
   ]
  },
  {
   "cell_type": "code",
   "execution_count": 44,
   "metadata": {},
   "outputs": [
    {
     "data": {
      "text/plain": [
       "20124"
      ]
     },
     "execution_count": 44,
     "metadata": {},
     "output_type": "execute_result"
    }
   ],
   "source": [
    "len(idfvec)"
   ]
  },
  {
   "cell_type": "code",
   "execution_count": 45,
   "metadata": {},
   "outputs": [
    {
     "data": {
      "text/plain": [
       "array([ 7.73538405,  4.86370443,  8.14084916,  8.14084916,  8.14084916])"
      ]
     },
     "execution_count": 45,
     "metadata": {},
     "output_type": "execute_result"
    }
   ],
   "source": [
    "idfvec[0:5]"
   ]
  },
  {
   "cell_type": "code",
   "execution_count": null,
   "metadata": {},
   "outputs": [],
   "source": []
  },
  {
   "cell_type": "markdown",
   "metadata": {},
   "source": [
    "### (only once) Save features, vocabulary, idf vector"
   ]
  },
  {
   "cell_type": "code",
   "execution_count": 46,
   "metadata": {},
   "outputs": [],
   "source": [
    "import pickle"
   ]
  },
  {
   "cell_type": "code",
   "execution_count": 47,
   "metadata": {},
   "outputs": [],
   "source": [
    "with open(\"../data/grants_target_tfidf_features.dat\", \"wb\") as f:\n",
    "    pickle.dump(grants_features, f)"
   ]
  },
  {
   "cell_type": "code",
   "execution_count": 48,
   "metadata": {},
   "outputs": [],
   "source": [
    "with open(\"../data/grants_target_vocab_idf_dict.dat\", \"wb\") as f:\n",
    "    pickle.dump({\"vocabulary\": vocab, \"idf\": idfvec}, f)"
   ]
  },
  {
   "cell_type": "code",
   "execution_count": null,
   "metadata": {},
   "outputs": [],
   "source": []
  },
  {
   "cell_type": "markdown",
   "metadata": {},
   "source": [
    "### Load code"
   ]
  },
  {
   "cell_type": "code",
   "execution_count": 46,
   "metadata": {},
   "outputs": [],
   "source": [
    "import pickle"
   ]
  },
  {
   "cell_type": "code",
   "execution_count": 47,
   "metadata": {},
   "outputs": [],
   "source": [
    "with open(\"../data/grants_target_tfidf_features.dat\", 'rb') as f:\n",
    "    grants_features = pickle.load(f)"
   ]
  },
  {
   "cell_type": "code",
   "execution_count": 48,
   "metadata": {},
   "outputs": [],
   "source": [
    "with open(\"../data/grants_target_vocab_idf_dict.dat\", 'rb') as f:\n",
    "    dic = pickle.load(f)\n",
    "    vocab, idfvec = dic[\"vocabulary\"], dic[\"idf\"]"
   ]
  },
  {
   "cell_type": "code",
   "execution_count": null,
   "metadata": {},
   "outputs": [],
   "source": []
  },
  {
   "cell_type": "code",
   "execution_count": null,
   "metadata": {},
   "outputs": [],
   "source": []
  },
  {
   "cell_type": "markdown",
   "metadata": {},
   "source": [
    "### Calculate tf-idf manually using vocabulary and idf vector, and check whether it's coinside."
   ]
  },
  {
   "cell_type": "code",
   "execution_count": 23,
   "metadata": {},
   "outputs": [],
   "source": [
    "from sklearn.feature_extraction.text import CountVectorizer"
   ]
  },
  {
   "cell_type": "code",
   "execution_count": 25,
   "metadata": {},
   "outputs": [
    {
     "data": {
      "text/html": [
       "<div>\n",
       "<style scoped>\n",
       "    .dataframe tbody tr th:only-of-type {\n",
       "        vertical-align: middle;\n",
       "    }\n",
       "\n",
       "    .dataframe tbody tr th {\n",
       "        vertical-align: top;\n",
       "    }\n",
       "\n",
       "    .dataframe thead th {\n",
       "        text-align: right;\n",
       "    }\n",
       "</style>\n",
       "<table border=\"1\" class=\"dataframe\">\n",
       "  <thead>\n",
       "    <tr style=\"text-align: right;\">\n",
       "      <th></th>\n",
       "      <th>app_id</th>\n",
       "      <th>xml</th>\n",
       "    </tr>\n",
       "  </thead>\n",
       "  <tbody>\n",
       "    <tr>\n",
       "      <th>0</th>\n",
       "      <td>14222691</td>\n",
       "      <td>&lt;us-patent-application lang=\"EN\" dtd-version=\"...</td>\n",
       "    </tr>\n",
       "    <tr>\n",
       "      <th>1</th>\n",
       "      <td>12515852</td>\n",
       "      <td>&lt;us-patent-application lang=\"EN\" dtd-version=\"...</td>\n",
       "    </tr>\n",
       "    <tr>\n",
       "      <th>2</th>\n",
       "      <td>12033424</td>\n",
       "      <td>&lt;us-patent-application lang=\"EN\" dtd-version=\"...</td>\n",
       "    </tr>\n",
       "    <tr>\n",
       "      <th>3</th>\n",
       "      <td>12402344</td>\n",
       "      <td>&lt;us-patent-application lang=\"EN\" dtd-version=\"...</td>\n",
       "    </tr>\n",
       "    <tr>\n",
       "      <th>4</th>\n",
       "      <td>12155425</td>\n",
       "      <td>&lt;us-patent-application lang=\"EN\" dtd-version=\"...</td>\n",
       "    </tr>\n",
       "  </tbody>\n",
       "</table>\n",
       "</div>"
      ],
      "text/plain": [
       "     app_id                                                xml\n",
       "0  14222691  <us-patent-application lang=\"EN\" dtd-version=\"...\n",
       "1  12515852  <us-patent-application lang=\"EN\" dtd-version=\"...\n",
       "2  12033424  <us-patent-application lang=\"EN\" dtd-version=\"...\n",
       "3  12402344  <us-patent-application lang=\"EN\" dtd-version=\"...\n",
       "4  12155425  <us-patent-application lang=\"EN\" dtd-version=\"..."
      ]
     },
     "execution_count": 25,
     "metadata": {},
     "output_type": "execute_result"
    }
   ],
   "source": [
    "training_app_df.head()"
   ]
  },
  {
   "cell_type": "code",
   "execution_count": 26,
   "metadata": {},
   "outputs": [],
   "source": [
    "training_app_df[\"claim\"] = training_app_df[\"xml\"].map(whole_xml_to_claim)"
   ]
  },
  {
   "cell_type": "code",
   "execution_count": 27,
   "metadata": {},
   "outputs": [],
   "source": [
    "one_claim = training_app_df.iloc[0][\"claim\"]"
   ]
  },
  {
   "cell_type": "code",
   "execution_count": null,
   "metadata": {},
   "outputs": [],
   "source": []
  },
  {
   "cell_type": "code",
   "execution_count": 28,
   "metadata": {},
   "outputs": [
    {
     "data": {
      "text/plain": [
       "'\\n \\n  1 . A terminal comprising:\\n an upper arm havi'"
      ]
     },
     "execution_count": 28,
     "metadata": {},
     "output_type": "execute_result"
    }
   ],
   "source": [
    "one_claim[0:50]"
   ]
  },
  {
   "cell_type": "code",
   "execution_count": 29,
   "metadata": {},
   "outputs": [],
   "source": [
    "count_vec = CountVectorizer(vocabulary=vocab, stop_words=\"english\", max_df = 0.5)"
   ]
  },
  {
   "cell_type": "code",
   "execution_count": 30,
   "metadata": {},
   "outputs": [
    {
     "data": {
      "text/plain": [
       "CountVectorizer(analyzer='word', binary=False, decode_error='strict',\n",
       "        dtype=<class 'numpy.int64'>, encoding='utf-8', input='content',\n",
       "        lowercase=True, max_df=0.5, max_features=None, min_df=1,\n",
       "        ngram_range=(1, 1), preprocessor=None, stop_words='english',\n",
       "        strip_accents=None, token_pattern='(?u)\\\\b\\\\w\\\\w+\\\\b',\n",
       "        tokenizer=None,\n",
       "        vocabulary={'intrasinus': 9678, 'voxelized': 19572, 'crack': 4458, 'anilines': 1382, 'tetravinyldimethyldisiloxane': 18078, 'ftp': 7758, 'flavoprotein': 7409, 'conduction': 3986, 'tid': 18274, 'incremenated': 9144, 'monoalkyl': 11470, 'scatter': 15974, 'mower': 11594, 'butalene': 2747, 'polynorborne...'leaning': 10258, 'accidental': 689, 'arguments': 1626, 'atpg': 1834, 'ul': 18902, 'children': 3327})"
      ]
     },
     "execution_count": 30,
     "metadata": {},
     "output_type": "execute_result"
    }
   ],
   "source": [
    "count_vec"
   ]
  },
  {
   "cell_type": "code",
   "execution_count": 31,
   "metadata": {},
   "outputs": [],
   "source": [
    "res = count_vec.fit_transform([one_claim])"
   ]
  },
  {
   "cell_type": "code",
   "execution_count": 32,
   "metadata": {},
   "outputs": [
    {
     "data": {
      "text/plain": [
       "<1x20124 sparse matrix of type '<class 'numpy.int64'>'\n",
       "\twith 86 stored elements in Compressed Sparse Row format>"
      ]
     },
     "execution_count": 32,
     "metadata": {},
     "output_type": "execute_result"
    }
   ],
   "source": [
    "res"
   ]
  },
  {
   "cell_type": "code",
   "execution_count": 33,
   "metadata": {},
   "outputs": [],
   "source": [
    "res_arr = res.toarray()"
   ]
  },
  {
   "cell_type": "code",
   "execution_count": 34,
   "metadata": {},
   "outputs": [
    {
     "data": {
      "text/plain": [
       "(1, 20124)"
      ]
     },
     "execution_count": 34,
     "metadata": {},
     "output_type": "execute_result"
    }
   ],
   "source": [
    "res.shape"
   ]
  },
  {
   "cell_type": "code",
   "execution_count": 35,
   "metadata": {},
   "outputs": [],
   "source": [
    "tf = res_arr[0]"
   ]
  },
  {
   "cell_type": "code",
   "execution_count": 36,
   "metadata": {
    "scrolled": true
   },
   "outputs": [
    {
     "data": {
      "text/plain": [
       "1632"
      ]
     },
     "execution_count": 36,
     "metadata": {},
     "output_type": "execute_result"
    }
   ],
   "source": [
    "tf.argmax()"
   ]
  },
  {
   "cell_type": "code",
   "execution_count": 37,
   "metadata": {},
   "outputs": [
    {
     "data": {
      "text/plain": [
       "31"
      ]
     },
     "execution_count": 37,
     "metadata": {},
     "output_type": "execute_result"
    }
   ],
   "source": [
    "tf[1632]"
   ]
  },
  {
   "cell_type": "code",
   "execution_count": 38,
   "metadata": {},
   "outputs": [
    {
     "data": {
      "text/plain": [
       "{'intrasinus': 9678,\n",
       " 'voxelized': 19572,\n",
       " 'crack': 4458,\n",
       " 'anilines': 1382,\n",
       " 'tetravinyldimethyldisiloxane': 18078,\n",
       " 'ftp': 7758,\n",
       " 'flavoprotein': 7409,\n",
       " 'conduction': 3986,\n",
       " 'tid': 18274,\n",
       " 'incremenated': 9144,\n",
       " 'monoalkyl': 11470,\n",
       " 'scatter': 15974,\n",
       " 'mower': 11594,\n",
       " 'butalene': 2747,\n",
       " 'polynorbornene': 13769,\n",
       " 'deflatable': 4987,\n",
       " 'recline': 14954,\n",
       " 'resistence': 15449,\n",
       " 'itaconic': 9866,\n",
       " 'composited': 3885,\n",
       " 'multiwavelength': 11709,\n",
       " 'encloses': 6499,\n",
       " 'peroxide': 13139,\n",
       " 'removing': 15279,\n",
       " 'scores': 16017,\n",
       " 'noses': 12091,\n",
       " 'imperceptible': 9018,\n",
       " 'sealable': 16057,\n",
       " 'schmitt': 16000,\n",
       " 'lumen': 10651,\n",
       " 'merging': 11021,\n",
       " 'fets': 7239,\n",
       " 'enabling': 6476,\n",
       " '5v': 479,\n",
       " 'incomplete': 9123,\n",
       " 'declining': 4909,\n",
       " 'lowest': 10614,\n",
       " 'evaporating': 6842,\n",
       " 'asthma': 1801,\n",
       " 'disposeable': 5789,\n",
       " 'tapered': 17867,\n",
       " 'peripherally': 13111,\n",
       " 'pate': 12885,\n",
       " 'perform': 13084,\n",
       " 'methyldopa': 11125,\n",
       " 'p600': 12700,\n",
       " 'workload': 19871,\n",
       " 'threaded': 18231,\n",
       " 'metrology': 11159,\n",
       " 'nitride': 11985,\n",
       " 'centroids': 3203,\n",
       " 'bottoms': 2538,\n",
       " 'reline': 15249,\n",
       " 'corona': 4329,\n",
       " 'wearer': 19700,\n",
       " 'discharged': 5681,\n",
       " 'ligamentous': 10372,\n",
       " 'know': 10066,\n",
       " 'builder': 2691,\n",
       " 'flanges': 7387,\n",
       " 'reproductive': 15378,\n",
       " 'beauty': 2165,\n",
       " 'diacetylenes': 5323,\n",
       " 'buffered': 2685,\n",
       " 'dnaj': 5922,\n",
       " 'circularly': 3430,\n",
       " 'tightened': 18289,\n",
       " 'grippers': 8160,\n",
       " 'unidirectionally': 19039,\n",
       " 'intimately': 9655,\n",
       " 'isochronous': 9817,\n",
       " 'mesfet': 11032,\n",
       " 'orthodontic': 12467,\n",
       " 'hoop': 8637,\n",
       " 'tips': 18332,\n",
       " 'propylpiperazin': 14357,\n",
       " 'epsom': 6687,\n",
       " 'leave': 10269,\n",
       " 'capacity': 2934,\n",
       " '601': 484,\n",
       " 'movement': 11588,\n",
       " 'alizarin': 1118,\n",
       " 'drain': 6033,\n",
       " 'macroblock': 10701,\n",
       " 'twisted': 18876,\n",
       " 'oz235': 12667,\n",
       " 'pursuant': 14513,\n",
       " 'traced': 18455,\n",
       " 'revertible': 15619,\n",
       " 'adherably': 875,\n",
       " 'fluidic': 7482,\n",
       " 'tower': 18441,\n",
       " 'inelastic': 9211,\n",
       " 'offset': 12288,\n",
       " 'puts': 14527,\n",
       " 'triallyl': 18658,\n",
       " 'protected': 14371,\n",
       " 'cap': 2923,\n",
       " '259': 263,\n",
       " 'heatsink': 8392,\n",
       " 'transmissionlretransmission': 18571,\n",
       " 'wedge': 19716,\n",
       " 'implanting': 9033,\n",
       " 'reply': 15346,\n",
       " 'ethyltrimethoxysilane': 6813,\n",
       " 'trill': 18742,\n",
       " 'oz71': 12689,\n",
       " 'flushable': 7522,\n",
       " 'orthoparallactic': 12472,\n",
       " 'awakened': 1961,\n",
       " 'breath': 2597,\n",
       " 'slidable': 16630,\n",
       " 'evacuated': 6829,\n",
       " 'opo': 12369,\n",
       " 'maniipulation': 10816,\n",
       " 'sustainably': 17687,\n",
       " 'releasably': 15228,\n",
       " 'droop': 6070,\n",
       " 'magnetized': 10721,\n",
       " 'footbed': 7581,\n",
       " 'inertial': 9216,\n",
       " 'hydroxypropylamino': 8818,\n",
       " 'trifluoromethylphenyl': 18716,\n",
       " 'zx': 20119,\n",
       " 'interconnection': 9508,\n",
       " 'cutaway': 4665,\n",
       " 'rerouting': 15402,\n",
       " 'tabs': 17808,\n",
       " 'citrate': 3456,\n",
       " 'instructor': 9424,\n",
       " 'incrementally': 9147,\n",
       " 'contact': 4151,\n",
       " 'reads': 14845,\n",
       " 'polymethyl': 13761,\n",
       " 'downconversion': 6003,\n",
       " 'arrows': 1669,\n",
       " 'cof': 3643,\n",
       " 'temporally': 17979,\n",
       " 'scramble': 16020,\n",
       " '109': 75,\n",
       " 'rollover': 15751,\n",
       " 'trifluoroethoxy': 18709,\n",
       " 'cultivar': 4607,\n",
       " 'proportion': 14332,\n",
       " 'annotated': 1404,\n",
       " 'reprate': 15359,\n",
       " 'eld': 6298,\n",
       " 'momenta': 11456,\n",
       " 'drg': 6046,\n",
       " 'oz265': 12674,\n",
       " 'videophone': 19436,\n",
       " 'hydroxymethyl': 8812,\n",
       " 'tubeaxial': 18815,\n",
       " 'padding': 12726,\n",
       " 'nonvolatile': 12067,\n",
       " 'pinene': 13413,\n",
       " 'unadulterated': 18923,\n",
       " 'hardening': 8313,\n",
       " 'depart': 5124,\n",
       " 'diffraction': 5458,\n",
       " 'hydroxybenzophenone': 8797,\n",
       " '541': 451,\n",
       " 'diameter': 5354,\n",
       " 'ani': 1379,\n",
       " 'overlappingly': 12567,\n",
       " 'plasmagram': 13503,\n",
       " 'vocalizations': 19537,\n",
       " 'rejecting': 15206,\n",
       " 'audible': 1883,\n",
       " 'interconnections': 9509,\n",
       " 'immovable': 8986,\n",
       " 'methodology': 11090,\n",
       " 'abrade': 627,\n",
       " 'quadrature': 14605,\n",
       " 'fluorophenethyl': 7512,\n",
       " 'phycoerythrin': 13351,\n",
       " 'oligoacene': 12313,\n",
       " 'x3c3': 19983,\n",
       " 'oleaginous': 12307,\n",
       " 'kernll32': 9987,\n",
       " 'rhombic': 15655,\n",
       " 'clads': 3469,\n",
       " 'bookmark': 2495,\n",
       " 'areogels': 1619,\n",
       " 'allogeneic': 1190,\n",
       " 'oxime': 12628,\n",
       " 'dementia': 5064,\n",
       " 'vinylpyridne': 19470,\n",
       " 'luminance': 10655,\n",
       " 'flotation': 7457,\n",
       " 'bolted': 2480,\n",
       " 'infra': 9270,\n",
       " 'duping': 6120,\n",
       " 'flj20315': 7440,\n",
       " 'snmp': 16702,\n",
       " 'groove': 8170,\n",
       " 'plays': 13536,\n",
       " 'inhaler': 9293,\n",
       " 'strength': 17267,\n",
       " 'uneven': 19015,\n",
       " 'monolith': 11498,\n",
       " 'fresh': 7722,\n",
       " 'normally': 12085,\n",
       " 'acylated': 829,\n",
       " 'beginning': 2171,\n",
       " 'scaler': 15959,\n",
       " 'alkcwk18': 1129,\n",
       " 'boresighting': 2520,\n",
       " '150': 144,\n",
       " 'ghg': 7966,\n",
       " 'alzheimer': 1248,\n",
       " 'winged': 19815,\n",
       " 'instructors': 9425,\n",
       " 'possess': 13894,\n",
       " 'planted': 13498,\n",
       " 'oversampled': 12584,\n",
       " 'transmittng': 18584,\n",
       " 'watches': 19655,\n",
       " 'affects': 988,\n",
       " 'contingent': 4188,\n",
       " 'orientate': 12439,\n",
       " 'egt': 6266,\n",
       " 'transporter': 18598,\n",
       " 'tibia': 18269,\n",
       " 'nitriding': 11987,\n",
       " 'ethylnonafluorobutylether': 6804,\n",
       " 'emit': 6441,\n",
       " 'ulcers': 18903,\n",
       " 'frees': 7711,\n",
       " 'dicarboxyphenoxy': 5395,\n",
       " '34': 332,\n",
       " 'e6': 6165,\n",
       " 'stamps': 17067,\n",
       " 'screws': 16036,\n",
       " 'inductor': 9205,\n",
       " 'lance': 10139,\n",
       " 'vanillin': 19291,\n",
       " 'schiff': 15998,\n",
       " 'cooperable': 4288,\n",
       " 'dermal': 5192,\n",
       " 'achievement': 747,\n",
       " 'principally': 14155,\n",
       " 'infertility': 9231,\n",
       " 'forecasting': 7597,\n",
       " '3n': 364,\n",
       " 'securement': 16106,\n",
       " 'idiomatic': 8887,\n",
       " 'lpc': 10619,\n",
       " 'fully': 7765,\n",
       " 'sedimentation': 16113,\n",
       " 'acryloxypropionic': 787,\n",
       " 'decrease': 4940,\n",
       " 'drills': 6052,\n",
       " 'hyperlipidemia': 8828,\n",
       " 'prophylaxis': 14328,\n",
       " 'polyethers': 13711,\n",
       " 'cognitive': 3648,\n",
       " 'horizontally': 8644,\n",
       " 'electrochemical': 6314,\n",
       " 'tetraglycidyl': 18062,\n",
       " 'shrouding': 16413,\n",
       " 'stent': 17142,\n",
       " 'manufactured': 10831,\n",
       " 'throttling': 18248,\n",
       " 'lining': 10429,\n",
       " 'escaping': 6746,\n",
       " 'stimulatory': 17191,\n",
       " 'bigger': 2296,\n",
       " 'geographically': 7943,\n",
       " 'anticipatory': 1458,\n",
       " 'thioninium': 18208,\n",
       " '30': 306,\n",
       " 'shape': 16314,\n",
       " 'warts': 19643,\n",
       " 'triloxolafle': 18743,\n",
       " 'identifier': 8880,\n",
       " 'locker': 10533,\n",
       " 'clickthrough': 3533,\n",
       " 'oz27': 12679,\n",
       " 'dimethylaminophenethyl': 5559,\n",
       " 'hvac': 8717,\n",
       " 'pentacosa': 13022,\n",
       " 'aminoketones': 1281,\n",
       " 'accounts': 714,\n",
       " 'web': 19708,\n",
       " 'mailing': 10745,\n",
       " 'plots': 13550,\n",
       " 'capsular': 2946,\n",
       " 'looping': 10585,\n",
       " 'nitrobenzene': 11995,\n",
       " 'electrochemichromic': 6316,\n",
       " 'exemptions': 6919,\n",
       " 'monoclonal': 11481,\n",
       " '542': 452,\n",
       " 'vanadium': 19286,\n",
       " 'monoethylamine': 11492,\n",
       " 'codeword': 3635,\n",
       " 'storied': 17229,\n",
       " 'superheated': 17589,\n",
       " 'linearly': 10418,\n",
       " 'possession': 13898,\n",
       " 'assistant': 1776,\n",
       " 'overlayer': 12570,\n",
       " 'vein': 19351,\n",
       " 'kernels': 9986,\n",
       " 'pound': 13929,\n",
       " 'declares': 4903,\n",
       " 'flexure': 7427,\n",
       " 'kev': 9996,\n",
       " 'booting': 2507,\n",
       " 'generate': 7921,\n",
       " 'meso': 11039,\n",
       " 'stowed': 17235,\n",
       " 'cost': 4377,\n",
       " 'pad': 12724,\n",
       " 'cured': 4630,\n",
       " 'ranking': 14776,\n",
       " 'clippings': 3547,\n",
       " 'tb': 17905,\n",
       " 'consumer': 4147,\n",
       " 'rectangular': 15016,\n",
       " 'sidewalls': 16439,\n",
       " 'reaching': 14815,\n",
       " 'oxalic': 12608,\n",
       " 'dispersible': 5766,\n",
       " 'efficiency': 6247,\n",
       " 'allocation': 1188,\n",
       " 'correlating': 4348,\n",
       " 'quotients': 14672,\n",
       " 'helical': 8406,\n",
       " 'poly': 13642,\n",
       " 'populated': 13855,\n",
       " 'biphenyltetacarboxylic': 2367,\n",
       " 'impaled': 9003,\n",
       " 'infiniband': 9238,\n",
       " 'purse': 14512,\n",
       " 'databases': 4811,\n",
       " 'hypodermic': 8840,\n",
       " 'jaw': 9900,\n",
       " 'rebroadcasting': 14892,\n",
       " 'minus': 11320,\n",
       " 'maker': 10760,\n",
       " 'tss': 18808,\n",
       " 'electroacoustic': 6310,\n",
       " 'dependency': 5134,\n",
       " 'neononanoate': 11883,\n",
       " 'switch': 17724,\n",
       " 'maneuverability': 10805,\n",
       " 'discoverers': 5707,\n",
       " 'guided': 8212,\n",
       " 'diamond': 5369,\n",
       " 'tufts': 18825,\n",
       " 'indium': 9187,\n",
       " 'action': 795,\n",
       " 'vsmdb': 19582,\n",
       " 'mixed': 11362,\n",
       " 'paa': 12703,\n",
       " 'flex': 7417,\n",
       " 'locates': 10519,\n",
       " 'respectives': 15484,\n",
       " 'flicker': 7429,\n",
       " 'homogenous': 8620,\n",
       " 'rsa': 15817,\n",
       " 'tier': 18279,\n",
       " 'layers': 10217,\n",
       " '4g': 416,\n",
       " 'financial': 7303,\n",
       " 'magnetometer': 10726,\n",
       " 'vertically': 19399,\n",
       " 'respiration': 15485,\n",
       " 'floppy': 7454,\n",
       " 'toothed': 18397,\n",
       " 'lasing': 10173,\n",
       " 'ceased': 3162,\n",
       " 'pushbutton': 14518,\n",
       " 'polyphosphites': 13794,\n",
       " 'arises': 1628,\n",
       " 'yl': 20066,\n",
       " '4a': 412,\n",
       " 'f2': 7077,\n",
       " 'shrouded': 16412,\n",
       " 'tend': 17984,\n",
       " 'blocks': 2437,\n",
       " 'synthetically': 17788,\n",
       " 'dispense': 5757,\n",
       " 'federal': 7188,\n",
       " 'etcp': 6780,\n",
       " 'intercalation': 9493,\n",
       " 'snug': 16714,\n",
       " 'cone': 3997,\n",
       " 'transactional': 18498,\n",
       " 'redaction': 15038,\n",
       " 'esters': 6762,\n",
       " 'dechain': 4883,\n",
       " 'noneffective': 12039,\n",
       " 'experts': 6982,\n",
       " 'pythagoras': 14583,\n",
       " 'pflfcninnvcnfasrnd': 13191,\n",
       " 'cyclical': 4700,\n",
       " 'spoilt': 16943,\n",
       " 'metered': 11071,\n",
       " 'hydroxyphenylbenzotriazole': 8815,\n",
       " 'tac': 17810,\n",
       " 'persulfate': 13164,\n",
       " 'thio': 18197,\n",
       " 'radially': 14700,\n",
       " 'retract': 15574,\n",
       " 'trowel': 18788,\n",
       " 'bpsk': 2554,\n",
       " 'prefilter': 14040,\n",
       " 'ca125': 2815,\n",
       " 'bypasses': 2790,\n",
       " 'triglycidyl': 18730,\n",
       " 'turning': 18863,\n",
       " 'captopril': 2954,\n",
       " 'iterations': 9873,\n",
       " 'treatment': 18636,\n",
       " 'detonation': 5280,\n",
       " 'reserving': 15421,\n",
       " 'heating': 8390,\n",
       " 'grids': 8148,\n",
       " 'nitinol': 11977,\n",
       " 'parsed': 12815,\n",
       " 'cartilage': 3042,\n",
       " 'experience': 6976,\n",
       " 'tendons': 17990,\n",
       " 'pushbar': 14517,\n",
       " 'wets': 19756,\n",
       " 'polyacrylate': 13649,\n",
       " 'accomplished': 704,\n",
       " 'xbc': 20000,\n",
       " 'rlp': 15708,\n",
       " 'exporting': 6997,\n",
       " 'oz205': 12660,\n",
       " '480': 406,\n",
       " 'aims': 1064,\n",
       " 'deteector': 5264,\n",
       " 'whiteboard': 19776,\n",
       " 'adhering': 882,\n",
       " 'operator': 12363,\n",
       " 'disrupted': 5799,\n",
       " 'descriptor': 5205,\n",
       " 'transaction': 18497,\n",
       " 'deadline': 4846,\n",
       " 'baff': 2040,\n",
       " 'surgically': 17659,\n",
       " 'complementer': 3851,\n",
       " 'quotient': 14671,\n",
       " 'wells': 19750,\n",
       " 'apparel': 1521,\n",
       " 'interpolated': 9594,\n",
       " 'sieve': 16441,\n",
       " 'categorization': 3085,\n",
       " 'sc6': 15952,\n",
       " 'partially': 12821,\n",
       " 'willing': 19797,\n",
       " 'fragment': 7689,\n",
       " 'values': 19282,\n",
       " 'prostheses': 14364,\n",
       " 'hit': 8577,\n",
       " 'parameter': 12791,\n",
       " 'midpoint': 11266,\n",
       " 'reactivity': 14827,\n",
       " 'influence': 9254,\n",
       " 'threadingly': 18234,\n",
       " 'indicies': 9181,\n",
       " 'magnetotransistor': 10735,\n",
       " 'sublime': 17385,\n",
       " 'pacemaker': 12708,\n",
       " 'stride': 17288,\n",
       " 'refresh': 15140,\n",
       " 'learn': 10261,\n",
       " 'acceptable': 672,\n",
       " 'conceptually': 3949,\n",
       " 'mno': 11386,\n",
       " 'interspersed': 9638,\n",
       " 'downloaded': 6014,\n",
       " 'art': 1673,\n",
       " 'cartesian': 3041,\n",
       " 'awg': 1971,\n",
       " 'vacuoles': 19258,\n",
       " 'consume': 4145,\n",
       " 'nozzle': 12115,\n",
       " 'parasitic': 12799,\n",
       " 'parses': 12817,\n",
       " 'partly': 12842,\n",
       " 'commanded': 3752,\n",
       " 'enhancer': 6585,\n",
       " 'swivel': 17734,\n",
       " 'advertiser': 958,\n",
       " 'offsets': 12289,\n",
       " 'chlorothien': 3363,\n",
       " 'modular': 11418,\n",
       " 'bays': 2133,\n",
       " 'mountable': 11573,\n",
       " 'apparaius': 1518,\n",
       " 'reroute': 15401,\n",
       " 'load': 10500,\n",
       " 'citraconic': 3455,\n",
       " 'serviceability': 16249,\n",
       " 'stems': 17140,\n",
       " 'hamming': 8269,\n",
       " 'geometric': 7946,\n",
       " 'capitation': 2939,\n",
       " 'orifices': 12449,\n",
       " 'spout': 16969,\n",
       " 'mvolts': 11733,\n",
       " 'centroid': 3202,\n",
       " 'leucine': 10316,\n",
       " 'oft': 12292,\n",
       " 'dewatering': 5309,\n",
       " 'hdd': 8356,\n",
       " 'inserter': 9375,\n",
       " 'dilated': 5515,\n",
       " 'cooked': 4276,\n",
       " 'earphone': 6177,\n",
       " 'propenol': 14321,\n",
       " 'preheat': 14049,\n",
       " 'beverage': 2263,\n",
       " 'cuboidal': 4596,\n",
       " 'strengthened': 17269,\n",
       " 'openable': 12343,\n",
       " 'rearview': 14869,\n",
       " 'lauroyl': 10208,\n",
       " 'polishing': 13627,\n",
       " 'awards': 1967,\n",
       " 'requirement': 15397,\n",
       " 'proactive': 14186,\n",
       " 'borrowing': 2529,\n",
       " 'grinder': 8153,\n",
       " 'release': 15229,\n",
       " 'stirling': 17198,\n",
       " 'aramid': 1583,\n",
       " 'depolarizer': 5155,\n",
       " 'bluish': 2450,\n",
       " 'cd40': 3132,\n",
       " 'aggregate': 1023,\n",
       " 'releases': 15233,\n",
       " 'servo': 16257,\n",
       " 'detectably': 5254,\n",
       " '003': 10,\n",
       " 'crawler': 4472,\n",
       " 'endpiece': 6547,\n",
       " 'rogue': 15736,\n",
       " 'abuts': 657,\n",
       " 'paused': 12904,\n",
       " '1160': 89,\n",
       " 'photodiodes': 13307,\n",
       " '2k': 299,\n",
       " 'formyl': 7648,\n",
       " 'smell': 16675,\n",
       " 'surroundings': 17666,\n",
       " 'emphasize': 6451,\n",
       " 'angiogenesis': 1366,\n",
       " 'x2dc': 19963,\n",
       " 'equidistantly': 6709,\n",
       " 'forte': 7651,\n",
       " 'blur': 2452,\n",
       " 'phenylpiperazin': 13246,\n",
       " 'blades': 2405,\n",
       " 'fields': 7267,\n",
       " '750': 516,\n",
       " 'underperforming': 18990,\n",
       " 'ventilation': 19365,\n",
       " 'splitters': 16940,\n",
       " 'stitchers': 17203,\n",
       " 'human': 8700,\n",
       " 'intramuscular': 9669,\n",
       " '77': 520,\n",
       " 'pilot': 13407,\n",
       " 'paraffin': 12781,\n",
       " 'checklists': 3296,\n",
       " 'turntable': 18865,\n",
       " 'supplied': 17625,\n",
       " 'caused': 3104,\n",
       " 'bioabsorbable': 2318,\n",
       " 'rubbed': 15827,\n",
       " 'subbands': 17350,\n",
       " '44': 390,\n",
       " 'azimuth': 1985,\n",
       " 'cda': 3144,\n",
       " 'wetting': 19760,\n",
       " 'vinylsulfonic': 19472,\n",
       " 'vendors': 19358,\n",
       " '107': 73,\n",
       " 'phenomenon': 13222,\n",
       " 'mateable': 10890,\n",
       " 'precipitating': 13978,\n",
       " 'negotiate': 11870,\n",
       " 'cu': 4591,\n",
       " 'correlation': 4349,\n",
       " 'unitary': 19063,\n",
       " 'phrase': 13342,\n",
       " 'occur': 12233,\n",
       " 'conect': 3998,\n",
       " 'carriage': 3031,\n",
       " 'saline': 15886,\n",
       " 'responses': 15492,\n",
       " 'divinyltoluene': 5899,\n",
       " 'mth': 11619,\n",
       " 'thruster': 18253,\n",
       " '2300kelvin': 250,\n",
       " 'cages': 2835,\n",
       " 'sintering': 16533,\n",
       " 'lifts': 10370,\n",
       " 'contract': 4204,\n",
       " 'palmtop': 12757,\n",
       " 'contemporaneous': 4173,\n",
       " 'stake': 17052,\n",
       " 'interfere': 9535,\n",
       " 'pouches': 13927,\n",
       " 'voltage': 19554,\n",
       " 'trifluorormethyl': 18721,\n",
       " 'losing': 10595,\n",
       " 'pig': 13394,\n",
       " 'fidelity': 7263,\n",
       " 'assigned': 1768,\n",
       " 'glasses': 7988,\n",
       " 'personal': 13153,\n",
       " 'dye': 6142,\n",
       " 'communicates': 3786,\n",
       " 'molding': 11445,\n",
       " 'doorjambs': 5970,\n",
       " 'subiect': 17368,\n",
       " 'unstressed': 19134,\n",
       " 'dihedral': 5493,\n",
       " 'unrolled': 19113,\n",
       " 'containment': 4164,\n",
       " 'isocyanate': 9818,\n",
       " 'location': 10521,\n",
       " 'decompress': 4924,\n",
       " 'orthoradial': 12474,\n",
       " 'nil': 11967,\n",
       " 'thioredoxin': 18212,\n",
       " 'reconstruction': 14993,\n",
       " 'utilized': 19241,\n",
       " 'potentiometer': 13922,\n",
       " '1230': 108,\n",
       " 'zippered': 20096,\n",
       " 'separating': 16212,\n",
       " 'bs': 2664,\n",
       " 'hybridizes': 8727,\n",
       " 'boot': 2504,\n",
       " 'ifgp4': 8895,\n",
       " 'morpholinomethyl': 11535,\n",
       " 'variants': 19312,\n",
       " 'multiuser': 11706,\n",
       " 'recovers': 15007,\n",
       " 'porous': 13866,\n",
       " 'conjugated': 4068,\n",
       " 'safe': 15867,\n",
       " 'mosaic': 11544,\n",
       " '033': 34,\n",
       " 'crosslinks': 4530,\n",
       " 'insulatively': 9439,\n",
       " 'periodical': 13104,\n",
       " 'epi': 6658,\n",
       " 'brakes': 2572,\n",
       " '2280': 245,\n",
       " '840': 536,\n",
       " 'shielding': 16351,\n",
       " 'rump': 15841,\n",
       " 'mzi': 11744,\n",
       " 'tartaric': 17884,\n",
       " 'quickness': 14657,\n",
       " 'solidification': 16757,\n",
       " 'dispenses': 5760,\n",
       " 'document': 5934,\n",
       " 'entrance': 6630,\n",
       " 'interlocks': 9571,\n",
       " 'codec': 3631,\n",
       " 'pertaining': 13166,\n",
       " 'shutdown': 16420,\n",
       " 'onward': 12336,\n",
       " 'isobutylpyrimidin': 9816,\n",
       " 'truss': 18800,\n",
       " 'g1': 7817,\n",
       " 'drops': 6077,\n",
       " 'illusion': 8947,\n",
       " 'therebeneath': 18128,\n",
       " 'simplify': 16507,\n",
       " 'engaged': 6569,\n",
       " 'earphones': 6178,\n",
       " 'accelerometers': 670,\n",
       " 'buck': 2673,\n",
       " 'physically': 13356,\n",
       " '106': 72,\n",
       " 'inquiry': 9362,\n",
       " 'scintillation': 16004,\n",
       " 'theory': 18114,\n",
       " 'railbed': 14740,\n",
       " 'tally': 17845,\n",
       " 'fept': 7215,\n",
       " 'chlorophenyl': 3358,\n",
       " 'contacted': 4153,\n",
       " 'europium': 6822,\n",
       " 'vinylbenzene': 19457,\n",
       " 'attribute': 1876,\n",
       " 'mechanically': 10945,\n",
       " 'mamp': 10789,\n",
       " 'cochlea': 3625,\n",
       " 'willow': 19798,\n",
       " 'thursday': 18261,\n",
       " 'microcontroller': 11193,\n",
       " 'displacements': 5777,\n",
       " 'amplitudes': 1319,\n",
       " 'specimen': 16869,\n",
       " 'polarization': 13609,\n",
       " 'simultaneously': 16517,\n",
       " 'polygermasilanes': 13726,\n",
       " 'derivable': 5183,\n",
       " 'sata': 15918,\n",
       " 'mordants': 11526,\n",
       " 'mediators': 10959,\n",
       " 'vocal': 19536,\n",
       " 'recognizable': 14963,\n",
       " 'diffuser': 5463,\n",
       " 'ameliorating': 1257,\n",
       " 'mrna': 11608,\n",
       " 'reed': 15075,\n",
       " 'sulfonic': 17540,\n",
       " 'resorbs': 15475,\n",
       " 'conflicts': 4030,\n",
       " 'particular': 12830,\n",
       " 'ensure': 6602,\n",
       " 'distinguish': 5835,\n",
       " 'repositioning': 15356,\n",
       " 'bypass': 2788,\n",
       " 'sulfoethyl': 17534,\n",
       " 'trivinylbenzene': 18780,\n",
       " 'roots': 15761,\n",
       " 'guides': 8214,\n",
       " 'volition': 19551,\n",
       " 'polycarboxylic': 13686,\n",
       " 'dimensioned': 5529,\n",
       " 'cyanoethyl': 4693,\n",
       " 'decarboxylase': 4872,\n",
       " 'destruction': 5240,\n",
       " 'rectangles': 15015,\n",
       " 'anhydride': 1376,\n",
       " 'reclaim': 14948,\n",
       " 'ppnd': 13947,\n",
       " 'collinear': 3704,\n",
       " 'hydoxyphenyl': 8731,\n",
       " 'mimics': 11296,\n",
       " 'sheath': 16336,\n",
       " 'generalized': 7919,\n",
       " 'participation': 12827,\n",
       " 'projections': 14268,\n",
       " 'keel': 9978,\n",
       " 'boron': 2526,\n",
       " 'replicates': 15341,\n",
       " 'gan': 7849,\n",
       " 'rich': 15668,\n",
       " 'transcutaneously': 18510,\n",
       " 'hemoglobin': 8432,\n",
       " 'joinable': 9923,\n",
       " 'impairing': 9001,\n",
       " 'distinguishable': 5836,\n",
       " 'lentil': 10299,\n",
       " 'repeats': 15313,\n",
       " 'circles': 3422,\n",
       " 'incorporating': 9135,\n",
       " 'names': 11757,\n",
       " 'construction': 4139,\n",
       " 'linguistic': 10427,\n",
       " 'suspend': 17679,\n",
       " 'thickening': 18186,\n",
       " 'alkylamino': 1150,\n",
       " 'heavy': 8397,\n",
       " 'carries': 3036,\n",
       " 'cds': 3158,\n",
       " 'cardioversion': 3019,\n",
       " 'adjustable': 904,\n",
       " 'conflict': 4028,\n",
       " 'completeness': 3858,\n",
       " 'serviceable': 16250,\n",
       " 'thioether': 18204,\n",
       " 'styryl': 17343,\n",
       " 'workloads': 19872,\n",
       " 'nonyl': 12069,\n",
       " 'features': 7185,\n",
       " 'depressed': 5165,\n",
       " 'housed': 8669,\n",
       " 'quorum': 14668,\n",
       " 'accepted': 674,\n",
       " 'overfilling': 12551,\n",
       " 'seebeck': 16115,\n",
       " 'pfa': 13184,\n",
       " 'gender': 7914,\n",
       " 'producer': 14218,\n",
       " 'converters': 4253,\n",
       " 'diaminopropane': 5367,\n",
       " 'chamfered': 3250,\n",
       " 'vision': 19503,\n",
       " 'ribonuclease': 15662,\n",
       " 'khz': 10019,\n",
       " 'handed': 8274,\n",
       " 'bale': 2057,\n",
       " 'fluorophenyl': 7514,\n",
       " 'nearer': 11842,\n",
       " 'frontward': 7742,\n",
       " 'prospective': 14361,\n",
       " 'opposing': 12377,\n",
       " 'interferograms': 9540,\n",
       " 'cells': 3170,\n",
       " 'polypyrrole': 13799,\n",
       " 'principle': 14156,\n",
       " 'fuels': 7760,\n",
       " 'disposing': 5791,\n",
       " 'defeating': 4966,\n",
       " 'hydrocarbon': 8748,\n",
       " 'her4': 8448,\n",
       " 'pollutant': 13637,\n",
       " 'flatly': 7402,\n",
       " 'capsid': 2945,\n",
       " 'tuberculatus': 18816,\n",
       " 'denotes': 5100,\n",
       " 'ay': 1982,\n",
       " 'valley': 19278,\n",
       " 'ct': 4583,\n",
       " 'superior': 17598,\n",
       " 'trips': 18773,\n",
       " 'infosec': 9269,\n",
       " 'reacted': 14821,\n",
       " 'oversampler': 12585,\n",
       " 'motif': 11551,\n",
       " 'linearizer': 10417,\n",
       " 'isv': 9864,\n",
       " 'trabecular': 18453,\n",
       " 'downfiltered': 6006,\n",
       " 'pane': 12763,\n",
       " 'retry': 15594,\n",
       " 'coaches': 3599,\n",
       " 'refractory': 15136,\n",
       " 'pressingly': 14107,\n",
       " 'portion': 13873,\n",
       " 'configure': 4013,\n",
       " 'globulin': 7999,\n",
       " 'concealers': 3936,\n",
       " 'inspecting': 9391,\n",
       " 'conformality': 4035,\n",
       " 'aerosolize': 976,\n",
       " 'distributions': 5853,\n",
       " 'bypassing': 2791,\n",
       " 'bore': 2515,\n",
       " 'cocamidopropyl': 3622,\n",
       " 'alkane': 1122,\n",
       " 'aloud': 1210,\n",
       " 'spanner': 16833,\n",
       " 'thn': 18220,\n",
       " 'r3': 14678,\n",
       " 'lumens': 10652,\n",
       " 'roughening': 15791,\n",
       " 'surrounds': 17667,\n",
       " 'pushing': 14523,\n",
       " 'loads': 10505,\n",
       " 'dimethylaminophenyl': 5561,\n",
       " 'stretch': 17280,\n",
       " 'diphenylamine': 5612,\n",
       " 'lubrication': 10640,\n",
       " 'intensifying': 9473,\n",
       " 'disengaging': 5730,\n",
       " 'antistatically': 1488,\n",
       " 'stators': 17114,\n",
       " 'resection': 15410,\n",
       " 'affiliations': 992,\n",
       " 'viewpoint': 19445,\n",
       " 'webs': 19713,\n",
       " 'hydrodesulfurization': 8754,\n",
       " 'quadrilateral': 14606,\n",
       " 'cdma2000': 3147,\n",
       " 'oniy': 12330,\n",
       " 'ps': 14423,\n",
       " 'observable': 12189,\n",
       " 'submersed': 17391,\n",
       " 'shield': 16349,\n",
       " 'vinylpyridine': 19468,\n",
       " 'priority': 14174,\n",
       " 'database': 4810,\n",
       " 'enumerating': 6639,\n",
       " 'checkpointing': 3299,\n",
       " 'identical': 8873,\n",
       " 'snowflake': 16708,\n",
       " 'flc': 7415,\n",
       " 'residence': 15429,\n",
       " 'stimulated': 17186,\n",
       " 'paraphenylene': 12797,\n",
       " 'suggestion': 17513,\n",
       " 'aromatically': 1643,\n",
       " 'syngas': 17774,\n",
       " 'elements': 6361,\n",
       " 'breach': 2586,\n",
       " 'gamut': 7848,\n",
       " 'ionize': 9752,\n",
       " 'circular': 3428,\n",
       " 'erasure': 6729,\n",
       " 'unsaturation': 19117,\n",
       " 'improper': 9060,\n",
       " 'anti': 1448,\n",
       " 'sputter': 16996,\n",
       " 'collision': 3706,\n",
       " 'fluctuates': 7474,\n",
       " 'teroalicyclic': 18027,\n",
       " 'interconnects': 9513,\n",
       " 'secure': 16103,\n",
       " 'declines': 4908,\n",
       " 'gyro': 8225,\n",
       " 'adcs': 848,\n",
       " 'urokinase': 19216,\n",
       " 'observer': 12194,\n",
       " 'impedimental': 9013,\n",
       " 'skids': 16584,\n",
       " 'wires': 19833,\n",
       " 'intervention': 9646,\n",
       " 'topside': 18412,\n",
       " 'archslot': 1609,\n",
       " 'desirable': 5225,\n",
       " 'geometrical': 7947,\n",
       " 'enamine': 6480,\n",
       " 'orns5b': 12464,\n",
       " 'accessible': 683,\n",
       " 'alkylene': 1161,\n",
       " 'learns': 10264,\n",
       " 'forming': 7639,\n",
       " 'fomula': 7573,\n",
       " 'pdeat': 12956,\n",
       " 'apexes': 1507,\n",
       " 'sige': 16445,\n",
       " '144': 135,\n",
       " 'baking': 2052,\n",
       " 'stiffening': 17178,\n",
       " 'sarcosinate': 15915,\n",
       " 'ellipsoids': 6388,\n",
       " 'illuminating': 8943,\n",
       " 'authenticated': 1899,\n",
       " 'drainage': 6034,\n",
       " 'residue': 15436,\n",
       " 'appliance': 1534,\n",
       " 'trades': 18477,\n",
       " 'lifted': 10367,\n",
       " 'hose': 8648,\n",
       " 'table': 17802,\n",
       " 'tripropylene': 18772,\n",
       " 'hydrolyzing': 8777,\n",
       " 'strikes': 17292,\n",
       " 'flj10372': 7438,\n",
       " '169': 175,\n",
       " 'buns': 2720,\n",
       " 'expander': 6961,\n",
       " 'derivation': 5184,\n",
       " 'interconnector': 9512,\n",
       " 'bail': 2049,\n",
       " 'cave': 3110,\n",
       " 'aimer': 1062,\n",
       " 'radiates': 14706,\n",
       " 'domain': 5954,\n",
       " 'namespace': 11758,\n",
       " 'uhmwpe': 18900,\n",
       " 'acidic': 752,\n",
       " '1h': 210,\n",
       " 'cycle': 4697,\n",
       " 'rewriting': 15638,\n",
       " 'squeezable': 17005,\n",
       " 'sugarbeet': 17507,\n",
       " 'folding': 7564,\n",
       " 'boll': 2478,\n",
       " 'reports': 15352,\n",
       " 'involute': 9732,\n",
       " 'cosmetic': 4373,\n",
       " 'tffp': 18097,\n",
       " 'ir': 9774,\n",
       " 'difluoromethoxy': 5472,\n",
       " 'citrates': 3457,\n",
       " 'email': 6404,\n",
       " 'magnification': 10738,\n",
       " 'travel': 18619,\n",
       " 'membranes': 10997,\n",
       " 'intersecting': 9631,\n",
       " 'distal': 5817,\n",
       " 'degradable': 5013,\n",
       " 'initializations': 9311,\n",
       " 'monotonous': 11514,\n",
       " 'owner': 12601,\n",
       " 'scrape': 16024,\n",
       " 'sb': 15948,\n",
       " 'blow': 2441,\n",
       " 'evolution': 6859,\n",
       " 'snap': 16693,\n",
       " 'photolithography': 13319,\n",
       " 'pulling': 14462,\n",
       " 'resisted': 15448,\n",
       " 'pour': 13931,\n",
       " 'furniture': 7794,\n",
       " 'lodged': 10543,\n",
       " 'coherent': 3652,\n",
       " 'nitrazepam': 11981,\n",
       " 'rom': 15753,\n",
       " 'lessening': 10305,\n",
       " 'hexacarbonyl': 8496,\n",
       " ...}"
      ]
     },
     "execution_count": 38,
     "metadata": {},
     "output_type": "execute_result"
    }
   ],
   "source": [
    "vocab"
   ]
  },
  {
   "cell_type": "code",
   "execution_count": 71,
   "metadata": {},
   "outputs": [
    {
     "data": {
      "text/plain": [
       "[('arm', 1632)]"
      ]
     },
     "execution_count": 71,
     "metadata": {},
     "output_type": "execute_result"
    }
   ],
   "source": [
    "[(key, val) for key, val in vocab.items() if val == 1632]"
   ]
  },
  {
   "cell_type": "raw",
   "metadata": {},
   "source": []
  },
  {
   "cell_type": "code",
   "execution_count": 39,
   "metadata": {},
   "outputs": [],
   "source": [
    "answer = grants_features[0, :].toarray()"
   ]
  },
  {
   "cell_type": "code",
   "execution_count": 40,
   "metadata": {},
   "outputs": [],
   "source": [
    "answer = answer[0]"
   ]
  },
  {
   "cell_type": "code",
   "execution_count": 58,
   "metadata": {},
   "outputs": [],
   "source": [
    "def print_nonzero_index(arr, maxcount):\n",
    "    count = 0\n",
    "\n",
    "    for i, v in enumerate(arr):\n",
    "        if v != 0:\n",
    "            count+=1\n",
    "            print(i)\n",
    "            if count > maxcount:\n",
    "                break"
   ]
  },
  {
   "cell_type": "code",
   "execution_count": 59,
   "metadata": {},
   "outputs": [
    {
     "name": "stdout",
     "output_type": "stream",
     "text": [
      "679\n",
      "694\n",
      "838\n",
      "856\n",
      "904\n",
      "997\n"
     ]
    }
   ],
   "source": [
    "print_nonzero_index(answer, 5)"
   ]
  },
  {
   "cell_type": "code",
   "execution_count": 60,
   "metadata": {},
   "outputs": [
    {
     "data": {
      "text/plain": [
       "0.043562029896483084"
      ]
     },
     "execution_count": 60,
     "metadata": {},
     "output_type": "execute_result"
    }
   ],
   "source": [
    "answer[997]"
   ]
  },
  {
   "cell_type": "code",
   "execution_count": 61,
   "metadata": {},
   "outputs": [
    {
     "name": "stdout",
     "output_type": "stream",
     "text": [
      "679\n",
      "694\n",
      "838\n",
      "856\n",
      "904\n",
      "997\n"
     ]
    }
   ],
   "source": [
    "print_nonzero_index(tf, 5)"
   ]
  },
  {
   "cell_type": "code",
   "execution_count": 73,
   "metadata": {},
   "outputs": [],
   "source": [
    "sumtf = sum(tf)"
   ]
  },
  {
   "cell_type": "code",
   "execution_count": 74,
   "metadata": {},
   "outputs": [],
   "source": [
    "unnormalized = [tf[i]*idfvec[i]/sumtf for i, _ in enumerate(tf)]"
   ]
  },
  {
   "cell_type": "code",
   "execution_count": 76,
   "metadata": {},
   "outputs": [
    {
     "data": {
      "text/plain": [
       "(20124,)"
      ]
     },
     "execution_count": 76,
     "metadata": {},
     "output_type": "execute_result"
    }
   ],
   "source": [
    "idfvec.shape"
   ]
  },
  {
   "cell_type": "code",
   "execution_count": 78,
   "metadata": {},
   "outputs": [
    {
     "data": {
      "text/plain": [
       "0.5704936484978724"
      ]
     },
     "execution_count": 78,
     "metadata": {},
     "output_type": "execute_result"
    }
   ],
   "source": [
    "unnormalized[1632]/np.linalg.norm(unnormalized)"
   ]
  },
  {
   "cell_type": "code",
   "execution_count": null,
   "metadata": {},
   "outputs": [],
   "source": []
  },
  {
   "cell_type": "markdown",
   "metadata": {},
   "source": [
    "Now make calculate tf-idf function"
   ]
  },
  {
   "cell_type": "code",
   "execution_count": 41,
   "metadata": {},
   "outputs": [],
   "source": [
    "def claims_to_tfidfs(claimarr, count_vec, idfvec):\n",
    "    tfcsr = count_vec.fit_transform(claimarr)\n",
    "    tf = tfcsr.toarray()\n",
    "    unnormalized = np.multiply(tf, idfvec)\n",
    "    lpnorms = np.linalg.norm(unnormalized, axis=1)\n",
    "    return unnormalized/lpnorms[:, np.newaxis]"
   ]
  },
  {
   "cell_type": "code",
   "execution_count": 42,
   "metadata": {},
   "outputs": [],
   "source": [
    "manu3 = claims_to_tfidfs(training_app_df.iloc[0:2][\"claim\"], count_vec, idfvec)"
   ]
  },
  {
   "cell_type": "code",
   "execution_count": 43,
   "metadata": {},
   "outputs": [
    {
     "data": {
      "text/html": [
       "<div>\n",
       "<style scoped>\n",
       "    .dataframe tbody tr th:only-of-type {\n",
       "        vertical-align: middle;\n",
       "    }\n",
       "\n",
       "    .dataframe tbody tr th {\n",
       "        vertical-align: top;\n",
       "    }\n",
       "\n",
       "    .dataframe thead th {\n",
       "        text-align: right;\n",
       "    }\n",
       "</style>\n",
       "<table border=\"1\" class=\"dataframe\">\n",
       "  <thead>\n",
       "    <tr style=\"text-align: right;\">\n",
       "      <th></th>\n",
       "      <th>0</th>\n",
       "      <th>1</th>\n",
       "      <th>2</th>\n",
       "      <th>3</th>\n",
       "      <th>4</th>\n",
       "      <th>5</th>\n",
       "      <th>6</th>\n",
       "      <th>7</th>\n",
       "      <th>8</th>\n",
       "      <th>9</th>\n",
       "      <th>...</th>\n",
       "      <th>20114</th>\n",
       "      <th>20115</th>\n",
       "      <th>20116</th>\n",
       "      <th>20117</th>\n",
       "      <th>20118</th>\n",
       "      <th>20119</th>\n",
       "      <th>20120</th>\n",
       "      <th>20121</th>\n",
       "      <th>20122</th>\n",
       "      <th>20123</th>\n",
       "    </tr>\n",
       "    <tr>\n",
       "      <th>app_id</th>\n",
       "      <th></th>\n",
       "      <th></th>\n",
       "      <th></th>\n",
       "      <th></th>\n",
       "      <th></th>\n",
       "      <th></th>\n",
       "      <th></th>\n",
       "      <th></th>\n",
       "      <th></th>\n",
       "      <th></th>\n",
       "      <th></th>\n",
       "      <th></th>\n",
       "      <th></th>\n",
       "      <th></th>\n",
       "      <th></th>\n",
       "      <th></th>\n",
       "      <th></th>\n",
       "      <th></th>\n",
       "      <th></th>\n",
       "      <th></th>\n",
       "      <th></th>\n",
       "    </tr>\n",
       "  </thead>\n",
       "  <tbody>\n",
       "    <tr>\n",
       "      <th>14222691</th>\n",
       "      <td>0.0</td>\n",
       "      <td>0.0</td>\n",
       "      <td>0.0</td>\n",
       "      <td>0.0</td>\n",
       "      <td>0.0</td>\n",
       "      <td>0.0</td>\n",
       "      <td>0.0</td>\n",
       "      <td>0.0</td>\n",
       "      <td>0.0</td>\n",
       "      <td>0.0</td>\n",
       "      <td>...</td>\n",
       "      <td>0.0</td>\n",
       "      <td>0.0</td>\n",
       "      <td>0.0</td>\n",
       "      <td>0.0</td>\n",
       "      <td>0.0</td>\n",
       "      <td>0.0</td>\n",
       "      <td>0.0</td>\n",
       "      <td>0.0</td>\n",
       "      <td>0.0</td>\n",
       "      <td>0.0</td>\n",
       "    </tr>\n",
       "    <tr>\n",
       "      <th>12515852</th>\n",
       "      <td>0.0</td>\n",
       "      <td>0.0</td>\n",
       "      <td>0.0</td>\n",
       "      <td>0.0</td>\n",
       "      <td>0.0</td>\n",
       "      <td>0.0</td>\n",
       "      <td>0.0</td>\n",
       "      <td>0.0</td>\n",
       "      <td>0.0</td>\n",
       "      <td>0.0</td>\n",
       "      <td>...</td>\n",
       "      <td>0.0</td>\n",
       "      <td>0.0</td>\n",
       "      <td>0.0</td>\n",
       "      <td>0.0</td>\n",
       "      <td>0.0</td>\n",
       "      <td>0.0</td>\n",
       "      <td>0.0</td>\n",
       "      <td>0.0</td>\n",
       "      <td>0.0</td>\n",
       "      <td>0.0</td>\n",
       "    </tr>\n",
       "  </tbody>\n",
       "</table>\n",
       "<p>2 rows × 20124 columns</p>\n",
       "</div>"
      ],
      "text/plain": [
       "          0      1      2      3      4      5      6      7      8      \\\n",
       "app_id                                                                    \n",
       "14222691    0.0    0.0    0.0    0.0    0.0    0.0    0.0    0.0    0.0   \n",
       "12515852    0.0    0.0    0.0    0.0    0.0    0.0    0.0    0.0    0.0   \n",
       "\n",
       "          9      ...    20114  20115  20116  20117  20118  20119  20120  \\\n",
       "app_id           ...                                                      \n",
       "14222691    0.0  ...      0.0    0.0    0.0    0.0    0.0    0.0    0.0   \n",
       "12515852    0.0  ...      0.0    0.0    0.0    0.0    0.0    0.0    0.0   \n",
       "\n",
       "          20121  20122  20123  \n",
       "app_id                         \n",
       "14222691    0.0    0.0    0.0  \n",
       "12515852    0.0    0.0    0.0  \n",
       "\n",
       "[2 rows x 20124 columns]"
      ]
     },
     "execution_count": 43,
     "metadata": {},
     "output_type": "execute_result"
    }
   ],
   "source": [
    "df=pd.DataFrame(manu3)\n",
    "df.assign(app_id=training_app_df.iloc[0:2]['app_id']).set_index('app_id')"
   ]
  },
  {
   "cell_type": "code",
   "execution_count": 44,
   "metadata": {},
   "outputs": [
    {
     "data": {
      "text/html": [
       "<div>\n",
       "<style scoped>\n",
       "    .dataframe tbody tr th:only-of-type {\n",
       "        vertical-align: middle;\n",
       "    }\n",
       "\n",
       "    .dataframe tbody tr th {\n",
       "        vertical-align: top;\n",
       "    }\n",
       "\n",
       "    .dataframe thead th {\n",
       "        text-align: right;\n",
       "    }\n",
       "</style>\n",
       "<table border=\"1\" class=\"dataframe\">\n",
       "  <thead>\n",
       "    <tr style=\"text-align: right;\">\n",
       "      <th></th>\n",
       "      <th>app_id</th>\n",
       "      <th>xml</th>\n",
       "      <th>claim</th>\n",
       "    </tr>\n",
       "  </thead>\n",
       "  <tbody>\n",
       "    <tr>\n",
       "      <th>0</th>\n",
       "      <td>14222691</td>\n",
       "      <td>&lt;us-patent-application lang=\"EN\" dtd-version=\"...</td>\n",
       "      <td>\\n \\n  1 . A terminal comprising:\\n an upper a...</td>\n",
       "    </tr>\n",
       "    <tr>\n",
       "      <th>1</th>\n",
       "      <td>12515852</td>\n",
       "      <td>&lt;us-patent-application lang=\"EN\" dtd-version=\"...</td>\n",
       "      <td>\\n \\n  1 . A method for increasing seed yield ...</td>\n",
       "    </tr>\n",
       "    <tr>\n",
       "      <th>2</th>\n",
       "      <td>12033424</td>\n",
       "      <td>&lt;us-patent-application lang=\"EN\" dtd-version=\"...</td>\n",
       "      <td>\\n \\n  1 . An image forming apparatus, compris...</td>\n",
       "    </tr>\n",
       "    <tr>\n",
       "      <th>3</th>\n",
       "      <td>12402344</td>\n",
       "      <td>&lt;us-patent-application lang=\"EN\" dtd-version=\"...</td>\n",
       "      <td>\\n \\n  1 . A tunable polarization rotator, com...</td>\n",
       "    </tr>\n",
       "    <tr>\n",
       "      <th>4</th>\n",
       "      <td>12155425</td>\n",
       "      <td>&lt;us-patent-application lang=\"EN\" dtd-version=\"...</td>\n",
       "      <td>\\n \\n  1 . An illumination control circuit com...</td>\n",
       "    </tr>\n",
       "  </tbody>\n",
       "</table>\n",
       "</div>"
      ],
      "text/plain": [
       "     app_id                                                xml  \\\n",
       "0  14222691  <us-patent-application lang=\"EN\" dtd-version=\"...   \n",
       "1  12515852  <us-patent-application lang=\"EN\" dtd-version=\"...   \n",
       "2  12033424  <us-patent-application lang=\"EN\" dtd-version=\"...   \n",
       "3  12402344  <us-patent-application lang=\"EN\" dtd-version=\"...   \n",
       "4  12155425  <us-patent-application lang=\"EN\" dtd-version=\"...   \n",
       "\n",
       "                                               claim  \n",
       "0  \\n \\n  1 . A terminal comprising:\\n an upper a...  \n",
       "1  \\n \\n  1 . A method for increasing seed yield ...  \n",
       "2  \\n \\n  1 . An image forming apparatus, compris...  \n",
       "3  \\n \\n  1 . A tunable polarization rotator, com...  \n",
       "4  \\n \\n  1 . An illumination control circuit com...  "
      ]
     },
     "execution_count": 44,
     "metadata": {},
     "output_type": "execute_result"
    }
   ],
   "source": [
    "training_app_df.head()"
   ]
  },
  {
   "cell_type": "code",
   "execution_count": null,
   "metadata": {},
   "outputs": [],
   "source": []
  },
  {
   "cell_type": "code",
   "execution_count": null,
   "metadata": {},
   "outputs": [],
   "source": [
    "manu3 = claims_to_tfidfs(training_app_df.iloc[0:2][\"claim\"], count_vec, idfvec)"
   ]
  },
  {
   "cell_type": "code",
   "execution_count": 81,
   "metadata": {},
   "outputs": [
    {
     "data": {
      "text/plain": [
       "0.5704936484978725"
      ]
     },
     "execution_count": 81,
     "metadata": {},
     "output_type": "execute_result"
    }
   ],
   "source": [
    "manu3[0,1632]"
   ]
  },
  {
   "cell_type": "code",
   "execution_count": null,
   "metadata": {},
   "outputs": [],
   "source": []
  },
  {
   "cell_type": "markdown",
   "metadata": {},
   "source": [
    "### It's time to calculate tfidf for training set."
   ]
  },
  {
   "cell_type": "code",
   "execution_count": 45,
   "metadata": {},
   "outputs": [
    {
     "data": {
      "text/html": [
       "<div>\n",
       "<style scoped>\n",
       "    .dataframe tbody tr th:only-of-type {\n",
       "        vertical-align: middle;\n",
       "    }\n",
       "\n",
       "    .dataframe tbody tr th {\n",
       "        vertical-align: top;\n",
       "    }\n",
       "\n",
       "    .dataframe thead th {\n",
       "        text-align: right;\n",
       "    }\n",
       "</style>\n",
       "<table border=\"1\" class=\"dataframe\">\n",
       "  <thead>\n",
       "    <tr style=\"text-align: right;\">\n",
       "      <th></th>\n",
       "      <th>app_id</th>\n",
       "      <th>xml</th>\n",
       "      <th>claim</th>\n",
       "    </tr>\n",
       "  </thead>\n",
       "  <tbody>\n",
       "    <tr>\n",
       "      <th>0</th>\n",
       "      <td>14222691</td>\n",
       "      <td>&lt;us-patent-application lang=\"EN\" dtd-version=\"...</td>\n",
       "      <td>\\n \\n  1 . A terminal comprising:\\n an upper a...</td>\n",
       "    </tr>\n",
       "    <tr>\n",
       "      <th>1</th>\n",
       "      <td>12515852</td>\n",
       "      <td>&lt;us-patent-application lang=\"EN\" dtd-version=\"...</td>\n",
       "      <td>\\n \\n  1 . A method for increasing seed yield ...</td>\n",
       "    </tr>\n",
       "    <tr>\n",
       "      <th>2</th>\n",
       "      <td>12033424</td>\n",
       "      <td>&lt;us-patent-application lang=\"EN\" dtd-version=\"...</td>\n",
       "      <td>\\n \\n  1 . An image forming apparatus, compris...</td>\n",
       "    </tr>\n",
       "    <tr>\n",
       "      <th>3</th>\n",
       "      <td>12402344</td>\n",
       "      <td>&lt;us-patent-application lang=\"EN\" dtd-version=\"...</td>\n",
       "      <td>\\n \\n  1 . A tunable polarization rotator, com...</td>\n",
       "    </tr>\n",
       "    <tr>\n",
       "      <th>4</th>\n",
       "      <td>12155425</td>\n",
       "      <td>&lt;us-patent-application lang=\"EN\" dtd-version=\"...</td>\n",
       "      <td>\\n \\n  1 . An illumination control circuit com...</td>\n",
       "    </tr>\n",
       "  </tbody>\n",
       "</table>\n",
       "</div>"
      ],
      "text/plain": [
       "     app_id                                                xml  \\\n",
       "0  14222691  <us-patent-application lang=\"EN\" dtd-version=\"...   \n",
       "1  12515852  <us-patent-application lang=\"EN\" dtd-version=\"...   \n",
       "2  12033424  <us-patent-application lang=\"EN\" dtd-version=\"...   \n",
       "3  12402344  <us-patent-application lang=\"EN\" dtd-version=\"...   \n",
       "4  12155425  <us-patent-application lang=\"EN\" dtd-version=\"...   \n",
       "\n",
       "                                               claim  \n",
       "0  \\n \\n  1 . A terminal comprising:\\n an upper a...  \n",
       "1  \\n \\n  1 . A method for increasing seed yield ...  \n",
       "2  \\n \\n  1 . An image forming apparatus, compris...  \n",
       "3  \\n \\n  1 . A tunable polarization rotator, com...  \n",
       "4  \\n \\n  1 . An illumination control circuit com...  "
      ]
     },
     "execution_count": 45,
     "metadata": {},
     "output_type": "execute_result"
    }
   ],
   "source": [
    "training_app_df.head()"
   ]
  },
  {
   "cell_type": "code",
   "execution_count": 46,
   "metadata": {},
   "outputs": [],
   "source": [
    "training_app_df[\"claim\"] = training_app_df[\"xml\"].map(whole_xml_to_claim)"
   ]
  },
  {
   "cell_type": "code",
   "execution_count": 47,
   "metadata": {},
   "outputs": [],
   "source": [
    "training_features = claims_to_tfidfs(training_app_df[\"claim\"], count_vec, idfvec)"
   ]
  },
  {
   "cell_type": "code",
   "execution_count": 52,
   "metadata": {
    "scrolled": true
   },
   "outputs": [
    {
     "data": {
      "text/plain": [
       "(1000, 20124)"
      ]
     },
     "execution_count": 52,
     "metadata": {},
     "output_type": "execute_result"
    }
   ],
   "source": [
    "training_features.shape"
   ]
  },
  {
   "cell_type": "code",
   "execution_count": 59,
   "metadata": {},
   "outputs": [
    {
     "data": {
      "text/plain": [
       "numpy.ndarray"
      ]
     },
     "execution_count": 59,
     "metadata": {},
     "output_type": "execute_result"
    }
   ],
   "source": [
    "type(training_features)"
   ]
  },
  {
   "cell_type": "code",
   "execution_count": 56,
   "metadata": {},
   "outputs": [
    {
     "data": {
      "text/plain": [
       "(2524, 20124)"
      ]
     },
     "execution_count": 56,
     "metadata": {},
     "output_type": "execute_result"
    }
   ],
   "source": [
    "grants_features.shape"
   ]
  },
  {
   "cell_type": "code",
   "execution_count": 60,
   "metadata": {},
   "outputs": [
    {
     "data": {
      "text/plain": [
       "scipy.sparse.csr.csr_matrix"
      ]
     },
     "execution_count": 60,
     "metadata": {},
     "output_type": "execute_result"
    }
   ],
   "source": [
    "type(grants_features)"
   ]
  },
  {
   "cell_type": "code",
   "execution_count": 64,
   "metadata": {},
   "outputs": [],
   "source": [
    "app_df = pd.DataFrame(training_features)\n",
    "grant_df = pd.DataFrame(grants_features.toarray())"
   ]
  },
  {
   "cell_type": "code",
   "execution_count": 65,
   "metadata": {},
   "outputs": [
    {
     "data": {
      "text/html": [
       "<div>\n",
       "<style scoped>\n",
       "    .dataframe tbody tr th:only-of-type {\n",
       "        vertical-align: middle;\n",
       "    }\n",
       "\n",
       "    .dataframe tbody tr th {\n",
       "        vertical-align: top;\n",
       "    }\n",
       "\n",
       "    .dataframe thead th {\n",
       "        text-align: right;\n",
       "    }\n",
       "</style>\n",
       "<table border=\"1\" class=\"dataframe\">\n",
       "  <thead>\n",
       "    <tr style=\"text-align: right;\">\n",
       "      <th></th>\n",
       "      <th>0</th>\n",
       "      <th>1</th>\n",
       "      <th>2</th>\n",
       "      <th>3</th>\n",
       "      <th>4</th>\n",
       "      <th>5</th>\n",
       "      <th>6</th>\n",
       "      <th>7</th>\n",
       "      <th>8</th>\n",
       "      <th>9</th>\n",
       "      <th>...</th>\n",
       "      <th>20114</th>\n",
       "      <th>20115</th>\n",
       "      <th>20116</th>\n",
       "      <th>20117</th>\n",
       "      <th>20118</th>\n",
       "      <th>20119</th>\n",
       "      <th>20120</th>\n",
       "      <th>20121</th>\n",
       "      <th>20122</th>\n",
       "      <th>20123</th>\n",
       "    </tr>\n",
       "  </thead>\n",
       "  <tbody>\n",
       "    <tr>\n",
       "      <th>0</th>\n",
       "      <td>0.0</td>\n",
       "      <td>0.0</td>\n",
       "      <td>0.0</td>\n",
       "      <td>0.0</td>\n",
       "      <td>0.0</td>\n",
       "      <td>0.0</td>\n",
       "      <td>0.0</td>\n",
       "      <td>0.0</td>\n",
       "      <td>0.0</td>\n",
       "      <td>0.0</td>\n",
       "      <td>...</td>\n",
       "      <td>0.0</td>\n",
       "      <td>0.0</td>\n",
       "      <td>0.0</td>\n",
       "      <td>0.0</td>\n",
       "      <td>0.0</td>\n",
       "      <td>0.0</td>\n",
       "      <td>0.0</td>\n",
       "      <td>0.0</td>\n",
       "      <td>0.0</td>\n",
       "      <td>0.0</td>\n",
       "    </tr>\n",
       "    <tr>\n",
       "      <th>1</th>\n",
       "      <td>0.0</td>\n",
       "      <td>0.0</td>\n",
       "      <td>0.0</td>\n",
       "      <td>0.0</td>\n",
       "      <td>0.0</td>\n",
       "      <td>0.0</td>\n",
       "      <td>0.0</td>\n",
       "      <td>0.0</td>\n",
       "      <td>0.0</td>\n",
       "      <td>0.0</td>\n",
       "      <td>...</td>\n",
       "      <td>0.0</td>\n",
       "      <td>0.0</td>\n",
       "      <td>0.0</td>\n",
       "      <td>0.0</td>\n",
       "      <td>0.0</td>\n",
       "      <td>0.0</td>\n",
       "      <td>0.0</td>\n",
       "      <td>0.0</td>\n",
       "      <td>0.0</td>\n",
       "      <td>0.0</td>\n",
       "    </tr>\n",
       "    <tr>\n",
       "      <th>2</th>\n",
       "      <td>0.0</td>\n",
       "      <td>0.0</td>\n",
       "      <td>0.0</td>\n",
       "      <td>0.0</td>\n",
       "      <td>0.0</td>\n",
       "      <td>0.0</td>\n",
       "      <td>0.0</td>\n",
       "      <td>0.0</td>\n",
       "      <td>0.0</td>\n",
       "      <td>0.0</td>\n",
       "      <td>...</td>\n",
       "      <td>0.0</td>\n",
       "      <td>0.0</td>\n",
       "      <td>0.0</td>\n",
       "      <td>0.0</td>\n",
       "      <td>0.0</td>\n",
       "      <td>0.0</td>\n",
       "      <td>0.0</td>\n",
       "      <td>0.0</td>\n",
       "      <td>0.0</td>\n",
       "      <td>0.0</td>\n",
       "    </tr>\n",
       "    <tr>\n",
       "      <th>3</th>\n",
       "      <td>0.0</td>\n",
       "      <td>0.0</td>\n",
       "      <td>0.0</td>\n",
       "      <td>0.0</td>\n",
       "      <td>0.0</td>\n",
       "      <td>0.0</td>\n",
       "      <td>0.0</td>\n",
       "      <td>0.0</td>\n",
       "      <td>0.0</td>\n",
       "      <td>0.0</td>\n",
       "      <td>...</td>\n",
       "      <td>0.0</td>\n",
       "      <td>0.0</td>\n",
       "      <td>0.0</td>\n",
       "      <td>0.0</td>\n",
       "      <td>0.0</td>\n",
       "      <td>0.0</td>\n",
       "      <td>0.0</td>\n",
       "      <td>0.0</td>\n",
       "      <td>0.0</td>\n",
       "      <td>0.0</td>\n",
       "    </tr>\n",
       "    <tr>\n",
       "      <th>4</th>\n",
       "      <td>0.0</td>\n",
       "      <td>0.0</td>\n",
       "      <td>0.0</td>\n",
       "      <td>0.0</td>\n",
       "      <td>0.0</td>\n",
       "      <td>0.0</td>\n",
       "      <td>0.0</td>\n",
       "      <td>0.0</td>\n",
       "      <td>0.0</td>\n",
       "      <td>0.0</td>\n",
       "      <td>...</td>\n",
       "      <td>0.0</td>\n",
       "      <td>0.0</td>\n",
       "      <td>0.0</td>\n",
       "      <td>0.0</td>\n",
       "      <td>0.0</td>\n",
       "      <td>0.0</td>\n",
       "      <td>0.0</td>\n",
       "      <td>0.0</td>\n",
       "      <td>0.0</td>\n",
       "      <td>0.0</td>\n",
       "    </tr>\n",
       "  </tbody>\n",
       "</table>\n",
       "<p>5 rows × 20124 columns</p>\n",
       "</div>"
      ],
      "text/plain": [
       "   0      1      2      3      4      5      6      7      8      9      \\\n",
       "0    0.0    0.0    0.0    0.0    0.0    0.0    0.0    0.0    0.0    0.0   \n",
       "1    0.0    0.0    0.0    0.0    0.0    0.0    0.0    0.0    0.0    0.0   \n",
       "2    0.0    0.0    0.0    0.0    0.0    0.0    0.0    0.0    0.0    0.0   \n",
       "3    0.0    0.0    0.0    0.0    0.0    0.0    0.0    0.0    0.0    0.0   \n",
       "4    0.0    0.0    0.0    0.0    0.0    0.0    0.0    0.0    0.0    0.0   \n",
       "\n",
       "   ...    20114  20115  20116  20117  20118  20119  20120  20121  20122  20123  \n",
       "0  ...      0.0    0.0    0.0    0.0    0.0    0.0    0.0    0.0    0.0    0.0  \n",
       "1  ...      0.0    0.0    0.0    0.0    0.0    0.0    0.0    0.0    0.0    0.0  \n",
       "2  ...      0.0    0.0    0.0    0.0    0.0    0.0    0.0    0.0    0.0    0.0  \n",
       "3  ...      0.0    0.0    0.0    0.0    0.0    0.0    0.0    0.0    0.0    0.0  \n",
       "4  ...      0.0    0.0    0.0    0.0    0.0    0.0    0.0    0.0    0.0    0.0  \n",
       "\n",
       "[5 rows x 20124 columns]"
      ]
     },
     "execution_count": 65,
     "metadata": {},
     "output_type": "execute_result"
    }
   ],
   "source": [
    "app_df.head()"
   ]
  },
  {
   "cell_type": "code",
   "execution_count": 66,
   "metadata": {},
   "outputs": [
    {
     "data": {
      "text/html": [
       "<div>\n",
       "<style scoped>\n",
       "    .dataframe tbody tr th:only-of-type {\n",
       "        vertical-align: middle;\n",
       "    }\n",
       "\n",
       "    .dataframe tbody tr th {\n",
       "        vertical-align: top;\n",
       "    }\n",
       "\n",
       "    .dataframe thead th {\n",
       "        text-align: right;\n",
       "    }\n",
       "</style>\n",
       "<table border=\"1\" class=\"dataframe\">\n",
       "  <thead>\n",
       "    <tr style=\"text-align: right;\">\n",
       "      <th></th>\n",
       "      <th>0</th>\n",
       "      <th>1</th>\n",
       "      <th>2</th>\n",
       "      <th>3</th>\n",
       "      <th>4</th>\n",
       "      <th>5</th>\n",
       "      <th>6</th>\n",
       "      <th>7</th>\n",
       "      <th>8</th>\n",
       "      <th>9</th>\n",
       "      <th>...</th>\n",
       "      <th>20114</th>\n",
       "      <th>20115</th>\n",
       "      <th>20116</th>\n",
       "      <th>20117</th>\n",
       "      <th>20118</th>\n",
       "      <th>20119</th>\n",
       "      <th>20120</th>\n",
       "      <th>20121</th>\n",
       "      <th>20122</th>\n",
       "      <th>20123</th>\n",
       "    </tr>\n",
       "  </thead>\n",
       "  <tbody>\n",
       "    <tr>\n",
       "      <th>0</th>\n",
       "      <td>0.0</td>\n",
       "      <td>0.0</td>\n",
       "      <td>0.0</td>\n",
       "      <td>0.0</td>\n",
       "      <td>0.0</td>\n",
       "      <td>0.0</td>\n",
       "      <td>0.0</td>\n",
       "      <td>0.0</td>\n",
       "      <td>0.0</td>\n",
       "      <td>0.0</td>\n",
       "      <td>...</td>\n",
       "      <td>0.0</td>\n",
       "      <td>0.0</td>\n",
       "      <td>0.0</td>\n",
       "      <td>0.0</td>\n",
       "      <td>0.0</td>\n",
       "      <td>0.0</td>\n",
       "      <td>0.0</td>\n",
       "      <td>0.0</td>\n",
       "      <td>0.0</td>\n",
       "      <td>0.0</td>\n",
       "    </tr>\n",
       "    <tr>\n",
       "      <th>1</th>\n",
       "      <td>0.0</td>\n",
       "      <td>0.0</td>\n",
       "      <td>0.0</td>\n",
       "      <td>0.0</td>\n",
       "      <td>0.0</td>\n",
       "      <td>0.0</td>\n",
       "      <td>0.0</td>\n",
       "      <td>0.0</td>\n",
       "      <td>0.0</td>\n",
       "      <td>0.0</td>\n",
       "      <td>...</td>\n",
       "      <td>0.0</td>\n",
       "      <td>0.0</td>\n",
       "      <td>0.0</td>\n",
       "      <td>0.0</td>\n",
       "      <td>0.0</td>\n",
       "      <td>0.0</td>\n",
       "      <td>0.0</td>\n",
       "      <td>0.0</td>\n",
       "      <td>0.0</td>\n",
       "      <td>0.0</td>\n",
       "    </tr>\n",
       "    <tr>\n",
       "      <th>2</th>\n",
       "      <td>0.0</td>\n",
       "      <td>0.0</td>\n",
       "      <td>0.0</td>\n",
       "      <td>0.0</td>\n",
       "      <td>0.0</td>\n",
       "      <td>0.0</td>\n",
       "      <td>0.0</td>\n",
       "      <td>0.0</td>\n",
       "      <td>0.0</td>\n",
       "      <td>0.0</td>\n",
       "      <td>...</td>\n",
       "      <td>0.0</td>\n",
       "      <td>0.0</td>\n",
       "      <td>0.0</td>\n",
       "      <td>0.0</td>\n",
       "      <td>0.0</td>\n",
       "      <td>0.0</td>\n",
       "      <td>0.0</td>\n",
       "      <td>0.0</td>\n",
       "      <td>0.0</td>\n",
       "      <td>0.0</td>\n",
       "    </tr>\n",
       "    <tr>\n",
       "      <th>3</th>\n",
       "      <td>0.0</td>\n",
       "      <td>0.0</td>\n",
       "      <td>0.0</td>\n",
       "      <td>0.0</td>\n",
       "      <td>0.0</td>\n",
       "      <td>0.0</td>\n",
       "      <td>0.0</td>\n",
       "      <td>0.0</td>\n",
       "      <td>0.0</td>\n",
       "      <td>0.0</td>\n",
       "      <td>...</td>\n",
       "      <td>0.0</td>\n",
       "      <td>0.0</td>\n",
       "      <td>0.0</td>\n",
       "      <td>0.0</td>\n",
       "      <td>0.0</td>\n",
       "      <td>0.0</td>\n",
       "      <td>0.0</td>\n",
       "      <td>0.0</td>\n",
       "      <td>0.0</td>\n",
       "      <td>0.0</td>\n",
       "    </tr>\n",
       "    <tr>\n",
       "      <th>4</th>\n",
       "      <td>0.0</td>\n",
       "      <td>0.0</td>\n",
       "      <td>0.0</td>\n",
       "      <td>0.0</td>\n",
       "      <td>0.0</td>\n",
       "      <td>0.0</td>\n",
       "      <td>0.0</td>\n",
       "      <td>0.0</td>\n",
       "      <td>0.0</td>\n",
       "      <td>0.0</td>\n",
       "      <td>...</td>\n",
       "      <td>0.0</td>\n",
       "      <td>0.0</td>\n",
       "      <td>0.0</td>\n",
       "      <td>0.0</td>\n",
       "      <td>0.0</td>\n",
       "      <td>0.0</td>\n",
       "      <td>0.0</td>\n",
       "      <td>0.0</td>\n",
       "      <td>0.0</td>\n",
       "      <td>0.0</td>\n",
       "    </tr>\n",
       "  </tbody>\n",
       "</table>\n",
       "<p>5 rows × 20124 columns</p>\n",
       "</div>"
      ],
      "text/plain": [
       "   0      1      2      3      4      5      6      7      8      9      \\\n",
       "0    0.0    0.0    0.0    0.0    0.0    0.0    0.0    0.0    0.0    0.0   \n",
       "1    0.0    0.0    0.0    0.0    0.0    0.0    0.0    0.0    0.0    0.0   \n",
       "2    0.0    0.0    0.0    0.0    0.0    0.0    0.0    0.0    0.0    0.0   \n",
       "3    0.0    0.0    0.0    0.0    0.0    0.0    0.0    0.0    0.0    0.0   \n",
       "4    0.0    0.0    0.0    0.0    0.0    0.0    0.0    0.0    0.0    0.0   \n",
       "\n",
       "   ...    20114  20115  20116  20117  20118  20119  20120  20121  20122  20123  \n",
       "0  ...      0.0    0.0    0.0    0.0    0.0    0.0    0.0    0.0    0.0    0.0  \n",
       "1  ...      0.0    0.0    0.0    0.0    0.0    0.0    0.0    0.0    0.0    0.0  \n",
       "2  ...      0.0    0.0    0.0    0.0    0.0    0.0    0.0    0.0    0.0    0.0  \n",
       "3  ...      0.0    0.0    0.0    0.0    0.0    0.0    0.0    0.0    0.0    0.0  \n",
       "4  ...      0.0    0.0    0.0    0.0    0.0    0.0    0.0    0.0    0.0    0.0  \n",
       "\n",
       "[5 rows x 20124 columns]"
      ]
     },
     "execution_count": 66,
     "metadata": {},
     "output_type": "execute_result"
    }
   ],
   "source": [
    "grant_df.head()"
   ]
  },
  {
   "cell_type": "code",
   "execution_count": 75,
   "metadata": {},
   "outputs": [
    {
     "ename": "MemoryError",
     "evalue": "",
     "output_type": "error",
     "traceback": [
      "\u001b[0;31m---------------------------------------------------------------------------\u001b[0m",
      "\u001b[0;31mMemoryError\u001b[0m                               Traceback (most recent call last)",
      "\u001b[0;32m<ipython-input-75-90aa33b3c84f>\u001b[0m in \u001b[0;36m<module>\u001b[0;34m()\u001b[0m\n\u001b[0;32m----> 1\u001b[0;31m \u001b[0mtraining_dataset\u001b[0m \u001b[0;34m=\u001b[0m \u001b[0mnp\u001b[0m\u001b[0;34m.\u001b[0m\u001b[0mempty\u001b[0m\u001b[0;34m(\u001b[0m\u001b[0;34m(\u001b[0m\u001b[0mlen\u001b[0m\u001b[0;34m(\u001b[0m\u001b[0mapp_df\u001b[0m\u001b[0;34m)\u001b[0m\u001b[0;34m*\u001b[0m\u001b[0mlen\u001b[0m\u001b[0;34m(\u001b[0m\u001b[0mgrant_df\u001b[0m\u001b[0;34m)\u001b[0m\u001b[0;34m,\u001b[0m \u001b[0;36m2\u001b[0m\u001b[0;34m*\u001b[0m\u001b[0mlen\u001b[0m\u001b[0;34m(\u001b[0m\u001b[0mvocab\u001b[0m\u001b[0;34m)\u001b[0m\u001b[0;34m)\u001b[0m\u001b[0;34m)\u001b[0m\u001b[0;34m\u001b[0m\u001b[0m\n\u001b[0m\u001b[1;32m      2\u001b[0m \u001b[0;34m\u001b[0m\u001b[0m\n\u001b[1;32m      3\u001b[0m \u001b[0;32mfor\u001b[0m \u001b[0mi\u001b[0m \u001b[0;32min\u001b[0m \u001b[0mrange\u001b[0m\u001b[0;34m(\u001b[0m\u001b[0mlen\u001b[0m\u001b[0;34m(\u001b[0m\u001b[0mapp_df\u001b[0m\u001b[0;34m)\u001b[0m\u001b[0;34m)\u001b[0m\u001b[0;34m:\u001b[0m\u001b[0;34m\u001b[0m\u001b[0m\n\u001b[1;32m      4\u001b[0m     \u001b[0;32mfor\u001b[0m \u001b[0mj\u001b[0m \u001b[0;32min\u001b[0m \u001b[0mrange\u001b[0m \u001b[0;34m(\u001b[0m\u001b[0mlen\u001b[0m\u001b[0;34m(\u001b[0m\u001b[0mgrant_df\u001b[0m\u001b[0;34m)\u001b[0m\u001b[0;34m)\u001b[0m\u001b[0;34m:\u001b[0m\u001b[0;34m\u001b[0m\u001b[0m\n\u001b[1;32m      5\u001b[0m         \u001b[0mtraining_dataset\u001b[0m\u001b[0;34m[\u001b[0m\u001b[0mi\u001b[0m\u001b[0;34m]\u001b[0m\u001b[0;34m[\u001b[0m\u001b[0mj\u001b[0m\u001b[0;34m]\u001b[0m \u001b[0;34m=\u001b[0m \u001b[0mapp_df\u001b[0m\u001b[0;34m.\u001b[0m\u001b[0miloc\u001b[0m\u001b[0;34m[\u001b[0m\u001b[0mi\u001b[0m\u001b[0;34m]\u001b[0m\u001b[0;34m+\u001b[0m\u001b[0mgrant_df\u001b[0m\u001b[0;34m.\u001b[0m\u001b[0miloc\u001b[0m\u001b[0;34m[\u001b[0m\u001b[0mj\u001b[0m\u001b[0;34m]\u001b[0m\u001b[0;34m\u001b[0m\u001b[0m\n",
      "\u001b[0;31mMemoryError\u001b[0m: "
     ]
    }
   ],
   "source": [
    "training_dataset = np.empty((len(app_df)*len(grant_df), 2*len(vocab))) \n",
    "\n",
    "for i in range(len(app_df)):\n",
    "    for j in range (len(grant_df)):\n",
    "        training_dataset[i][j] = app_df.iloc[i]+grant_df.iloc[j]"
   ]
  },
  {
   "cell_type": "code",
   "execution_count": 71,
   "metadata": {},
   "outputs": [
    {
     "data": {
      "text/plain": [
       "2524000"
      ]
     },
     "execution_count": 71,
     "metadata": {},
     "output_type": "execute_result"
    }
   ],
   "source": [
    "len(app_df)*len(grant_df)"
   ]
  },
  {
   "cell_type": "code",
   "execution_count": 72,
   "metadata": {},
   "outputs": [
    {
     "data": {
      "text/plain": [
       "40248"
      ]
     },
     "execution_count": 72,
     "metadata": {},
     "output_type": "execute_result"
    }
   ],
   "source": [
    "2*len(vocab)"
   ]
  },
  {
   "cell_type": "markdown",
   "metadata": {},
   "source": [
    "Calculate one cosine distance"
   ]
  },
  {
   "cell_type": "code",
   "execution_count": 79,
   "metadata": {},
   "outputs": [],
   "source": [
    "one_appid = training_app_df.iloc[0].app_id"
   ]
  },
  {
   "cell_type": "code",
   "execution_count": 80,
   "metadata": {},
   "outputs": [
    {
     "data": {
      "text/html": [
       "<div>\n",
       "<style scoped>\n",
       "    .dataframe tbody tr th:only-of-type {\n",
       "        vertical-align: middle;\n",
       "    }\n",
       "\n",
       "    .dataframe tbody tr th {\n",
       "        vertical-align: top;\n",
       "    }\n",
       "\n",
       "    .dataframe thead th {\n",
       "        text-align: right;\n",
       "    }\n",
       "</style>\n",
       "<table border=\"1\" class=\"dataframe\">\n",
       "  <thead>\n",
       "    <tr style=\"text-align: right;\">\n",
       "      <th></th>\n",
       "      <th>app_id</th>\n",
       "      <th>app_fnm</th>\n",
       "      <th>citation_pat_pgpub_id</th>\n",
       "      <th>parsed</th>\n",
       "      <th>ifw_number</th>\n",
       "      <th>action_type</th>\n",
       "      <th>action_subtype</th>\n",
       "      <th>form892</th>\n",
       "      <th>form1449</th>\n",
       "      <th>citation_in_oa</th>\n",
       "      <th>...</th>\n",
       "      <th>rejection_103</th>\n",
       "      <th>rejection_112</th>\n",
       "      <th>rejection_dp</th>\n",
       "      <th>objection</th>\n",
       "      <th>allowed_claims</th>\n",
       "      <th>cite102_gt1</th>\n",
       "      <th>cite103_gt3</th>\n",
       "      <th>cite103_eq1</th>\n",
       "      <th>cite103_max</th>\n",
       "      <th>signature_type</th>\n",
       "    </tr>\n",
       "  </thead>\n",
       "  <tbody>\n",
       "    <tr>\n",
       "      <th>1635</th>\n",
       "      <td>14222691</td>\n",
       "      <td>/work/data/apps/2014/ipa140925/F_4331.xml</td>\n",
       "      <td>8179692</td>\n",
       "      <td>8179692</td>\n",
       "      <td>I9X14IR6PXXIFW4</td>\n",
       "      <td>102.0</td>\n",
       "      <td>a</td>\n",
       "      <td>1</td>\n",
       "      <td>0</td>\n",
       "      <td>1</td>\n",
       "      <td>...</td>\n",
       "      <td>1</td>\n",
       "      <td>0</td>\n",
       "      <td>0</td>\n",
       "      <td>1</td>\n",
       "      <td>0</td>\n",
       "      <td>0</td>\n",
       "      <td>0</td>\n",
       "      <td>0</td>\n",
       "      <td>3</td>\n",
       "      <td>0</td>\n",
       "    </tr>\n",
       "    <tr>\n",
       "      <th>1636</th>\n",
       "      <td>14222691</td>\n",
       "      <td>/work/data/apps/2014/ipa140925/F_4331.xml</td>\n",
       "      <td>8179692</td>\n",
       "      <td>8179692</td>\n",
       "      <td>I9X14IR6PXXIFW4</td>\n",
       "      <td>103.0</td>\n",
       "      <td>NaN</td>\n",
       "      <td>1</td>\n",
       "      <td>0</td>\n",
       "      <td>1</td>\n",
       "      <td>...</td>\n",
       "      <td>1</td>\n",
       "      <td>0</td>\n",
       "      <td>0</td>\n",
       "      <td>1</td>\n",
       "      <td>0</td>\n",
       "      <td>0</td>\n",
       "      <td>0</td>\n",
       "      <td>0</td>\n",
       "      <td>3</td>\n",
       "      <td>0</td>\n",
       "    </tr>\n",
       "    <tr>\n",
       "      <th>1637</th>\n",
       "      <td>14222691</td>\n",
       "      <td>/work/data/apps/2014/ipa140925/F_4331.xml</td>\n",
       "      <td>8206188</td>\n",
       "      <td>8206188</td>\n",
       "      <td>I9X14IR6PXXIFW4</td>\n",
       "      <td>102.0</td>\n",
       "      <td>a</td>\n",
       "      <td>1</td>\n",
       "      <td>0</td>\n",
       "      <td>1</td>\n",
       "      <td>...</td>\n",
       "      <td>1</td>\n",
       "      <td>0</td>\n",
       "      <td>0</td>\n",
       "      <td>1</td>\n",
       "      <td>0</td>\n",
       "      <td>0</td>\n",
       "      <td>0</td>\n",
       "      <td>0</td>\n",
       "      <td>3</td>\n",
       "      <td>0</td>\n",
       "    </tr>\n",
       "    <tr>\n",
       "      <th>1638</th>\n",
       "      <td>14222691</td>\n",
       "      <td>/work/data/apps/2014/ipa140925/F_4331.xml</td>\n",
       "      <td>8206188</td>\n",
       "      <td>8206188</td>\n",
       "      <td>I9X14IR6PXXIFW4</td>\n",
       "      <td>103.0</td>\n",
       "      <td>NaN</td>\n",
       "      <td>1</td>\n",
       "      <td>0</td>\n",
       "      <td>1</td>\n",
       "      <td>...</td>\n",
       "      <td>1</td>\n",
       "      <td>0</td>\n",
       "      <td>0</td>\n",
       "      <td>1</td>\n",
       "      <td>0</td>\n",
       "      <td>0</td>\n",
       "      <td>0</td>\n",
       "      <td>0</td>\n",
       "      <td>3</td>\n",
       "      <td>0</td>\n",
       "    </tr>\n",
       "    <tr>\n",
       "      <th>1639</th>\n",
       "      <td>14222691</td>\n",
       "      <td>/work/data/apps/2014/ipa140925/F_4331.xml</td>\n",
       "      <td>8177561</td>\n",
       "      <td>8177561</td>\n",
       "      <td>I9X14IR6PXXIFW4</td>\n",
       "      <td>103.0</td>\n",
       "      <td>NaN</td>\n",
       "      <td>1</td>\n",
       "      <td>0</td>\n",
       "      <td>1</td>\n",
       "      <td>...</td>\n",
       "      <td>1</td>\n",
       "      <td>0</td>\n",
       "      <td>0</td>\n",
       "      <td>1</td>\n",
       "      <td>0</td>\n",
       "      <td>0</td>\n",
       "      <td>0</td>\n",
       "      <td>0</td>\n",
       "      <td>3</td>\n",
       "      <td>0</td>\n",
       "    </tr>\n",
       "  </tbody>\n",
       "</table>\n",
       "<p>5 rows × 41 columns</p>\n",
       "</div>"
      ],
      "text/plain": [
       "        app_id                                    app_fnm  \\\n",
       "1635  14222691  /work/data/apps/2014/ipa140925/F_4331.xml   \n",
       "1636  14222691  /work/data/apps/2014/ipa140925/F_4331.xml   \n",
       "1637  14222691  /work/data/apps/2014/ipa140925/F_4331.xml   \n",
       "1638  14222691  /work/data/apps/2014/ipa140925/F_4331.xml   \n",
       "1639  14222691  /work/data/apps/2014/ipa140925/F_4331.xml   \n",
       "\n",
       "     citation_pat_pgpub_id   parsed       ifw_number  action_type  \\\n",
       "1635               8179692  8179692  I9X14IR6PXXIFW4        102.0   \n",
       "1636               8179692  8179692  I9X14IR6PXXIFW4        103.0   \n",
       "1637               8206188  8206188  I9X14IR6PXXIFW4        102.0   \n",
       "1638               8206188  8206188  I9X14IR6PXXIFW4        103.0   \n",
       "1639               8177561  8177561  I9X14IR6PXXIFW4        103.0   \n",
       "\n",
       "     action_subtype  form892  form1449  citation_in_oa      ...        \\\n",
       "1635              a        1         0               1      ...         \n",
       "1636            NaN        1         0               1      ...         \n",
       "1637              a        1         0               1      ...         \n",
       "1638            NaN        1         0               1      ...         \n",
       "1639            NaN        1         0               1      ...         \n",
       "\n",
       "     rejection_103  rejection_112  rejection_dp  objection allowed_claims  \\\n",
       "1635             1              0             0          1              0   \n",
       "1636             1              0             0          1              0   \n",
       "1637             1              0             0          1              0   \n",
       "1638             1              0             0          1              0   \n",
       "1639             1              0             0          1              0   \n",
       "\n",
       "     cite102_gt1  cite103_gt3 cite103_eq1  cite103_max signature_type  \n",
       "1635           0            0           0            3              0  \n",
       "1636           0            0           0            3              0  \n",
       "1637           0            0           0            3              0  \n",
       "1638           0            0           0            3              0  \n",
       "1639           0            0           0            3              0  \n",
       "\n",
       "[5 rows x 41 columns]"
      ]
     },
     "execution_count": 80,
     "metadata": {},
     "output_type": "execute_result"
    }
   ],
   "source": [
    "citations_info_target[citations_info_target.app_id == one_appid]"
   ]
  },
  {
   "cell_type": "code",
   "execution_count": 81,
   "metadata": {},
   "outputs": [],
   "source": [
    "answer_patids = set(citations_info_target[citations_info_target.app_id == one_appid].parsed.astype(int))"
   ]
  },
  {
   "cell_type": "code",
   "execution_count": 82,
   "metadata": {},
   "outputs": [
    {
     "data": {
      "text/plain": [
       "{8177561, 8179692, 8206188}"
      ]
     },
     "execution_count": 82,
     "metadata": {},
     "output_type": "execute_result"
    }
   ],
   "source": [
    "answer_patids"
   ]
  },
  {
   "cell_type": "code",
   "execution_count": 83,
   "metadata": {},
   "outputs": [
    {
     "data": {
      "text/plain": [
       "numpy.int64"
      ]
     },
     "execution_count": 83,
     "metadata": {},
     "output_type": "execute_result"
    }
   ],
   "source": [
    "type(grants_target_df.iloc[0].parsed)"
   ]
  },
  {
   "cell_type": "code",
   "execution_count": 84,
   "metadata": {},
   "outputs": [],
   "source": [
    "answer_idxs = grants_target_df[grants_target_df.parsed.isin(answer_patids)].index"
   ]
  },
  {
   "cell_type": "code",
   "execution_count": 85,
   "metadata": {},
   "outputs": [
    {
     "data": {
      "text/plain": [
       "2380"
      ]
     },
     "execution_count": 85,
     "metadata": {},
     "output_type": "execute_result"
    }
   ],
   "source": [
    "answer_idxs[0]"
   ]
  },
  {
   "cell_type": "code",
   "execution_count": 86,
   "metadata": {},
   "outputs": [
    {
     "data": {
      "text/plain": [
       "8177561"
      ]
     },
     "execution_count": 86,
     "metadata": {},
     "output_type": "execute_result"
    }
   ],
   "source": [
    "grants_target_df.iloc[2380].parsed"
   ]
  },
  {
   "cell_type": "code",
   "execution_count": null,
   "metadata": {},
   "outputs": [],
   "source": []
  },
  {
   "cell_type": "code",
   "execution_count": 87,
   "metadata": {},
   "outputs": [],
   "source": [
    "answer_patent_features = grants_features[answer_idxs[0], :].toarray()[0]"
   ]
  },
  {
   "cell_type": "code",
   "execution_count": null,
   "metadata": {},
   "outputs": [],
   "source": []
  },
  {
   "cell_type": "code",
   "execution_count": 88,
   "metadata": {},
   "outputs": [],
   "source": [
    "import scipy"
   ]
  },
  {
   "cell_type": "code",
   "execution_count": 89,
   "metadata": {},
   "outputs": [
    {
     "data": {
      "text/plain": [
       "array([[ 0.67340827]])"
      ]
     },
     "execution_count": 89,
     "metadata": {},
     "output_type": "execute_result"
    }
   ],
   "source": [
    "scipy.spatial.distance.cdist(training_features[0, :][np.newaxis, :], grants_features[answer_idxs[0], :].toarray(), 'cosine')"
   ]
  },
  {
   "cell_type": "code",
   "execution_count": null,
   "metadata": {},
   "outputs": [],
   "source": []
  },
  {
   "cell_type": "code",
   "execution_count": null,
   "metadata": {},
   "outputs": [],
   "source": []
  },
  {
   "cell_type": "markdown",
   "metadata": {},
   "source": [
    "### Calculate 20 cosine distance for check"
   ]
  },
  {
   "cell_type": "code",
   "execution_count": null,
   "metadata": {},
   "outputs": [],
   "source": []
  },
  {
   "cell_type": "code",
   "execution_count": 90,
   "metadata": {},
   "outputs": [
    {
     "data": {
      "text/html": [
       "<div>\n",
       "<style scoped>\n",
       "    .dataframe tbody tr th:only-of-type {\n",
       "        vertical-align: middle;\n",
       "    }\n",
       "\n",
       "    .dataframe tbody tr th {\n",
       "        vertical-align: top;\n",
       "    }\n",
       "\n",
       "    .dataframe thead th {\n",
       "        text-align: right;\n",
       "    }\n",
       "</style>\n",
       "<table border=\"1\" class=\"dataframe\">\n",
       "  <thead>\n",
       "    <tr style=\"text-align: right;\">\n",
       "      <th></th>\n",
       "      <th>app_id</th>\n",
       "      <th>xml</th>\n",
       "      <th>claim</th>\n",
       "    </tr>\n",
       "  </thead>\n",
       "  <tbody>\n",
       "    <tr>\n",
       "      <th>0</th>\n",
       "      <td>14222691</td>\n",
       "      <td>&lt;us-patent-application lang=\"EN\" dtd-version=\"...</td>\n",
       "      <td>\\n \\n  1 . A terminal comprising:\\n an upper a...</td>\n",
       "    </tr>\n",
       "    <tr>\n",
       "      <th>1</th>\n",
       "      <td>12515852</td>\n",
       "      <td>&lt;us-patent-application lang=\"EN\" dtd-version=\"...</td>\n",
       "      <td>\\n \\n  1 . A method for increasing seed yield ...</td>\n",
       "    </tr>\n",
       "    <tr>\n",
       "      <th>2</th>\n",
       "      <td>12033424</td>\n",
       "      <td>&lt;us-patent-application lang=\"EN\" dtd-version=\"...</td>\n",
       "      <td>\\n \\n  1 . An image forming apparatus, compris...</td>\n",
       "    </tr>\n",
       "    <tr>\n",
       "      <th>3</th>\n",
       "      <td>12402344</td>\n",
       "      <td>&lt;us-patent-application lang=\"EN\" dtd-version=\"...</td>\n",
       "      <td>\\n \\n  1 . A tunable polarization rotator, com...</td>\n",
       "    </tr>\n",
       "    <tr>\n",
       "      <th>4</th>\n",
       "      <td>12155425</td>\n",
       "      <td>&lt;us-patent-application lang=\"EN\" dtd-version=\"...</td>\n",
       "      <td>\\n \\n  1 . An illumination control circuit com...</td>\n",
       "    </tr>\n",
       "  </tbody>\n",
       "</table>\n",
       "</div>"
      ],
      "text/plain": [
       "     app_id                                                xml  \\\n",
       "0  14222691  <us-patent-application lang=\"EN\" dtd-version=\"...   \n",
       "1  12515852  <us-patent-application lang=\"EN\" dtd-version=\"...   \n",
       "2  12033424  <us-patent-application lang=\"EN\" dtd-version=\"...   \n",
       "3  12402344  <us-patent-application lang=\"EN\" dtd-version=\"...   \n",
       "4  12155425  <us-patent-application lang=\"EN\" dtd-version=\"...   \n",
       "\n",
       "                                               claim  \n",
       "0  \\n \\n  1 . A terminal comprising:\\n an upper a...  \n",
       "1  \\n \\n  1 . A method for increasing seed yield ...  \n",
       "2  \\n \\n  1 . An image forming apparatus, compris...  \n",
       "3  \\n \\n  1 . A tunable polarization rotator, com...  \n",
       "4  \\n \\n  1 . An illumination control circuit com...  "
      ]
     },
     "execution_count": 90,
     "metadata": {},
     "output_type": "execute_result"
    }
   ],
   "source": [
    "training_app_df.head()"
   ]
  },
  {
   "cell_type": "code",
   "execution_count": null,
   "metadata": {},
   "outputs": [],
   "source": []
  },
  {
   "cell_type": "code",
   "execution_count": 91,
   "metadata": {},
   "outputs": [
    {
     "data": {
      "text/plain": [
       "1"
      ]
     },
     "execution_count": 91,
     "metadata": {},
     "output_type": "execute_result"
    }
   ],
   "source": [
    "training_app_df[training_app_df.app_id == 12515852].index[0]"
   ]
  },
  {
   "cell_type": "code",
   "execution_count": null,
   "metadata": {},
   "outputs": [],
   "source": []
  },
  {
   "cell_type": "code",
   "execution_count": 92,
   "metadata": {},
   "outputs": [],
   "source": [
    "def calc_cosin_for_one_app(appid):\n",
    "    answer_patids = set(citations_info_target[citations_info_target.app_id == appid].parsed.astype(int))\n",
    "    answer_idxs = grants_target_df[grants_target_df.parsed.isin(answer_patids)].index\n",
    "    answer_patent_features = grants_features[answer_idxs, :].toarray()\n",
    "    training_features_idx = training_app_df[training_app_df.app_id == appid].index[0]\n",
    "    return scipy.spatial.distance.cdist(training_features[training_features_idx, :][np.newaxis, :], answer_patent_features, 'cosine')[0]\n"
   ]
  },
  {
   "cell_type": "code",
   "execution_count": 93,
   "metadata": {},
   "outputs": [
    {
     "data": {
      "text/plain": [
       "array([ 0.4220731])"
      ]
     },
     "execution_count": 93,
     "metadata": {},
     "output_type": "execute_result"
    }
   ],
   "source": [
    "calc_cosin_for_one_app(12515852)"
   ]
  },
  {
   "cell_type": "code",
   "execution_count": 94,
   "metadata": {},
   "outputs": [
    {
     "data": {
      "text/plain": [
       "array([ 0.97559903,  0.89965045,  0.82466478,  0.63398944,  0.68337952])"
      ]
     },
     "execution_count": 94,
     "metadata": {},
     "output_type": "execute_result"
    }
   ],
   "source": [
    "calc_cosin_for_one_app(12402344)"
   ]
  },
  {
   "cell_type": "code",
   "execution_count": 95,
   "metadata": {},
   "outputs": [
    {
     "data": {
      "text/plain": [
       "[array([ 0.67340827,  0.76916371,  0.8174568 ]),\n",
       " array([ 0.4220731]),\n",
       " array([ 0.88221407]),\n",
       " array([ 0.97559903,  0.89965045,  0.82466478,  0.63398944,  0.68337952]),\n",
       " array([ 0.07625181]),\n",
       " array([ 0.92330727,  0.79996471,  0.92896083,  0.91987076]),\n",
       " array([ 0.90553403]),\n",
       " array([ 0.95056575]),\n",
       " array([ 0.70165577]),\n",
       " array([ 0.76213644]),\n",
       " array([ 0.99283104]),\n",
       " array([ 0.63671942]),\n",
       " array([ 0.84019419]),\n",
       " array([ 0.85744319,  0.65621906]),\n",
       " array([ 0.74489745]),\n",
       " array([ 0.39235124,  0.43900574]),\n",
       " array([ 0.58476531]),\n",
       " array([ 0.94180023,  0.97665386]),\n",
       " array([ 0.51579826,  0.67111682]),\n",
       " array([ 0.40108371])]"
      ]
     },
     "execution_count": 95,
     "metadata": {},
     "output_type": "execute_result"
    }
   ],
   "source": [
    "[calc_cosin_for_one_app(appid) for appid in training_app_df[0:20].app_id]"
   ]
  },
  {
   "cell_type": "code",
   "execution_count": 96,
   "metadata": {},
   "outputs": [
    {
     "data": {
      "text/plain": [
       "array([ 0.92330727,  0.79996471,  0.92896083,  0.91987076])"
      ]
     },
     "execution_count": 96,
     "metadata": {},
     "output_type": "execute_result"
    }
   ],
   "source": [
    "calc_cosin_for_one_app(training_app_df.iloc[5].app_id)"
   ]
  },
  {
   "cell_type": "code",
   "execution_count": 97,
   "metadata": {},
   "outputs": [
    {
     "data": {
      "text/plain": [
       "True"
      ]
     },
     "execution_count": 97,
     "metadata": {},
     "output_type": "execute_result"
    }
   ],
   "source": [
    "calc_cosin_for_one_app(training_app_df.iloc[5].app_id).mean() < 0.95"
   ]
  },
  {
   "cell_type": "code",
   "execution_count": null,
   "metadata": {},
   "outputs": [],
   "source": []
  },
  {
   "cell_type": "markdown",
   "metadata": {},
   "source": [
    "### Compare with random pair cosdistance"
   ]
  },
  {
   "cell_type": "code",
   "execution_count": 98,
   "metadata": {
    "scrolled": true
   },
   "outputs": [
    {
     "data": {
      "text/plain": [
       "array([[ 0.96073889,  0.96715009,  0.9661195 ,  0.96547838,  0.98200139],\n",
       "       [ 0.9565299 ,  0.94845901,  0.99889384,  0.95047153,  0.97128588],\n",
       "       [ 0.99269734,  0.99249212,  0.99575977,  0.97310476,  0.96170229],\n",
       "       [ 0.99960154,  0.99653818,  0.98222205,  0.99531781,  0.96584516],\n",
       "       [ 0.85252285,  0.82698041,  0.97140084,  0.83295536,  0.90456516]])"
      ]
     },
     "execution_count": 98,
     "metadata": {},
     "output_type": "execute_result"
    }
   ],
   "source": [
    "scipy.spatial.distance.cdist(training_features[0:5, :], grants_features[0:5, :].toarray(), 'cosine')"
   ]
  },
  {
   "cell_type": "code",
   "execution_count": null,
   "metadata": {},
   "outputs": [],
   "source": []
  },
  {
   "cell_type": "code",
   "execution_count": 99,
   "metadata": {},
   "outputs": [],
   "source": [
    "training_features = claims_to_tfidfs(training_app_df[\"claim\"], count_vec, idfvec)"
   ]
  },
  {
   "cell_type": "code",
   "execution_count": null,
   "metadata": {},
   "outputs": [],
   "source": []
  },
  {
   "cell_type": "code",
   "execution_count": 100,
   "metadata": {},
   "outputs": [],
   "source": [
    "grants_features_arr = grants_features.toarray()"
   ]
  },
  {
   "cell_type": "code",
   "execution_count": 101,
   "metadata": {},
   "outputs": [],
   "source": [
    "TFIDF_MODEL_THRESHOLD=0.95\n",
    "# TFIDF_MODEL_THRESHOLD=0.8\n",
    "\n",
    "def predict_tfidf_model(claims):\n",
    "    \"\"\"\n",
    "    return: NxM of boolean. N is len(claims). M is rownum of grants_all_df.\n",
    "            value indicate n claim is cite patent of m row of grants_all_df.\n",
    "    \"\"\"\n",
    "    features = claims_to_tfidfs(claims, count_vec, idfvec)\n",
    "    dists = scipy.spatial.distance.cdist(features, grants_features_arr, 'cosine')\n",
    "    return dists < TFIDF_MODEL_THRESHOLD\n"
   ]
  },
  {
   "cell_type": "code",
   "execution_count": null,
   "metadata": {},
   "outputs": [],
   "source": []
  },
  {
   "cell_type": "code",
   "execution_count": null,
   "metadata": {},
   "outputs": [],
   "source": []
  },
  {
   "cell_type": "markdown",
   "metadata": {},
   "source": [
    "Model cells are over.\n",
    "Please go back to predict_test_set(predict_tfidf_model) cell.\n",
    "\n",
    "\n",
    "# Below here is for BUG investigation.\n",
    "\n",
    "manual recalculation.\n",
    "\n",
    "### Calc recall of 100"
   ]
  },
  {
   "cell_type": "code",
   "execution_count": 175,
   "metadata": {},
   "outputs": [],
   "source": [
    "res = predict_tfidf_model(training_app_df[0:100][\"claim\"])"
   ]
  },
  {
   "cell_type": "code",
   "execution_count": 176,
   "metadata": {},
   "outputs": [
    {
     "data": {
      "text/plain": [
       "(100, 2524)"
      ]
     },
     "execution_count": 176,
     "metadata": {},
     "output_type": "execute_result"
    }
   ],
   "source": [
    "res.shape"
   ]
  },
  {
   "cell_type": "code",
   "execution_count": 177,
   "metadata": {},
   "outputs": [],
   "source": [
    "all_pred_of_labeltrue = np.array([], dtype=np.bool)"
   ]
  },
  {
   "cell_type": "code",
   "execution_count": 178,
   "metadata": {},
   "outputs": [],
   "source": [
    "for idx in range(0, 100):\n",
    "    one_appid = training_app_df.iloc[idx].app_id\n",
    "    pred_oneres = res[idx]\n",
    "    label_patids = citations_info_target[citations_info_target.app_id == one_appid].parsed\n",
    "    label_idxs = grants_target_df.parsed[grants_target_df.parsed.isin(label_patids)].index\n",
    "    pred_of_labeltrue = pred_oneres[label_idxs]\n",
    "    all_pred_of_labeltrue = np.concatenate([all_pred_of_labeltrue, pred_of_labeltrue])"
   ]
  },
  {
   "cell_type": "code",
   "execution_count": 179,
   "metadata": {},
   "outputs": [
    {
     "data": {
      "text/plain": [
       "0.8970588235294118"
      ]
     },
     "execution_count": 179,
     "metadata": {},
     "output_type": "execute_result"
    }
   ],
   "source": [
    "sum(all_pred_of_labeltrue)/len(all_pred_of_labeltrue)"
   ]
  },
  {
   "cell_type": "code",
   "execution_count": null,
   "metadata": {},
   "outputs": [],
   "source": []
  },
  {
   "cell_type": "markdown",
   "metadata": {},
   "source": [
    "### Check result by hand (seems correct)"
   ]
  },
  {
   "cell_type": "code",
   "execution_count": 180,
   "metadata": {},
   "outputs": [
    {
     "data": {
      "text/plain": [
       "app_id                                             14222691\n",
       "xml       <us-patent-application lang=\"EN\" dtd-version=\"...\n",
       "claim     \\n \\n  1 . A terminal comprising:\\n an upper a...\n",
       "Name: 0, dtype: object"
      ]
     },
     "execution_count": 180,
     "metadata": {},
     "output_type": "execute_result"
    }
   ],
   "source": [
    "training_app_df.iloc[0]"
   ]
  },
  {
   "cell_type": "code",
   "execution_count": 181,
   "metadata": {},
   "outputs": [],
   "source": [
    "pred_oneres = res[0]"
   ]
  },
  {
   "cell_type": "code",
   "execution_count": 182,
   "metadata": {},
   "outputs": [
    {
     "data": {
      "text/plain": [
       "421"
      ]
     },
     "execution_count": 182,
     "metadata": {},
     "output_type": "execute_result"
    }
   ],
   "source": [
    "pred_oneres.sum()"
   ]
  },
  {
   "cell_type": "code",
   "execution_count": 183,
   "metadata": {},
   "outputs": [
    {
     "data": {
      "text/plain": [
       "1635    8179692\n",
       "1636    8179692\n",
       "1637    8206188\n",
       "1638    8206188\n",
       "1639    8177561\n",
       "Name: parsed, dtype: int64"
      ]
     },
     "execution_count": 183,
     "metadata": {},
     "output_type": "execute_result"
    }
   ],
   "source": [
    "citations_info_target[citations_info_target.app_id == 14222691].parsed"
   ]
  },
  {
   "cell_type": "code",
   "execution_count": 185,
   "metadata": {},
   "outputs": [
    {
     "data": {
      "text/plain": [
       "Int64Index([2381], dtype='int64')"
      ]
     },
     "execution_count": 185,
     "metadata": {},
     "output_type": "execute_result"
    }
   ],
   "source": [
    "grants_target_df.parsed[grants_target_df.parsed == 8179692].index"
   ]
  },
  {
   "cell_type": "code",
   "execution_count": 186,
   "metadata": {},
   "outputs": [
    {
     "data": {
      "text/plain": [
       "True"
      ]
     },
     "execution_count": 186,
     "metadata": {},
     "output_type": "execute_result"
    }
   ],
   "source": [
    "pred_oneres[2381]"
   ]
  },
  {
   "cell_type": "markdown",
   "metadata": {},
   "source": [
    "### Why test set recall is so bad?"
   ]
  },
  {
   "cell_type": "code",
   "execution_count": 187,
   "metadata": {},
   "outputs": [],
   "source": [
    "res = predict_tfidf_model(testset_app_df[\"xml\"].map(whole_xml_to_claim))"
   ]
  },
  {
   "cell_type": "code",
   "execution_count": 188,
   "metadata": {},
   "outputs": [
    {
     "data": {
      "text/plain": [
       "(1000, 2)"
      ]
     },
     "execution_count": 188,
     "metadata": {},
     "output_type": "execute_result"
    }
   ],
   "source": [
    "testset_app_df.shape"
   ]
  },
  {
   "cell_type": "code",
   "execution_count": 189,
   "metadata": {},
   "outputs": [],
   "source": [
    "all_pred_of_labeltrue = np.array([], dtype=np.bool)"
   ]
  },
  {
   "cell_type": "code",
   "execution_count": 190,
   "metadata": {},
   "outputs": [],
   "source": [
    "for idx in range(0, testset_app_df.shape[0]):\n",
    "    one_appid = testset_app_df.iloc[idx].app_id\n",
    "    pred_oneres = res[idx]\n",
    "    label_patids = citations_info_target[citations_info_target.app_id == one_appid].parsed\n",
    "    label_idxs = grants_target_df.parsed[grants_target_df.parsed.isin(label_patids)].index\n",
    "    pred_of_labeltrue = pred_oneres[label_idxs]\n",
    "    all_pred_of_labeltrue = np.concatenate([all_pred_of_labeltrue, pred_of_labeltrue])"
   ]
  },
  {
   "cell_type": "code",
   "execution_count": 191,
   "metadata": {},
   "outputs": [
    {
     "data": {
      "text/plain": [
       "0.095163806552262087"
      ]
     },
     "execution_count": 191,
     "metadata": {},
     "output_type": "execute_result"
    }
   ],
   "source": [
    "sum(all_pred_of_labeltrue)/len(all_pred_of_labeltrue)"
   ]
  },
  {
   "cell_type": "code",
   "execution_count": null,
   "metadata": {},
   "outputs": [],
   "source": []
  },
  {
   "cell_type": "code",
   "execution_count": 196,
   "metadata": {},
   "outputs": [
    {
     "data": {
      "text/plain": [
       "app_id                                             14222691\n",
       "xml       <us-patent-application lang=\"EN\" dtd-version=\"...\n",
       "claim     \\n \\n  1 . A terminal comprising:\\n an upper a...\n",
       "Name: 0, dtype: object"
      ]
     },
     "execution_count": 196,
     "metadata": {},
     "output_type": "execute_result"
    }
   ],
   "source": [
    "training_app_df.iloc[0]"
   ]
  },
  {
   "cell_type": "code",
   "execution_count": 195,
   "metadata": {},
   "outputs": [
    {
     "data": {
      "text/plain": [
       "app_id                                             14222691\n",
       "xml       <us-patent-application lang=\"EN\" dtd-version=\"...\n",
       "Name: 0, dtype: object"
      ]
     },
     "execution_count": 195,
     "metadata": {},
     "output_type": "execute_result"
    }
   ],
   "source": [
    "testset_app_df.iloc[0]"
   ]
  },
  {
   "cell_type": "code",
   "execution_count": 193,
   "metadata": {},
   "outputs": [],
   "source": [
    "pred_oneres = res[0]"
   ]
  },
  {
   "cell_type": "code",
   "execution_count": 194,
   "metadata": {},
   "outputs": [
    {
     "data": {
      "text/plain": [
       "460"
      ]
     },
     "execution_count": 194,
     "metadata": {},
     "output_type": "execute_result"
    }
   ],
   "source": [
    "pred_oneres.sum()"
   ]
  },
  {
   "cell_type": "code",
   "execution_count": 183,
   "metadata": {},
   "outputs": [
    {
     "data": {
      "text/plain": [
       "1635    8179692\n",
       "1636    8179692\n",
       "1637    8206188\n",
       "1638    8206188\n",
       "1639    8177561\n",
       "Name: parsed, dtype: int64"
      ]
     },
     "execution_count": 183,
     "metadata": {},
     "output_type": "execute_result"
    }
   ],
   "source": [
    "citations_info_target[citations_info_target.app_id == 14222691].parsed"
   ]
  },
  {
   "cell_type": "code",
   "execution_count": 185,
   "metadata": {},
   "outputs": [
    {
     "data": {
      "text/plain": [
       "Int64Index([2381], dtype='int64')"
      ]
     },
     "execution_count": 185,
     "metadata": {},
     "output_type": "execute_result"
    }
   ],
   "source": [
    "grants_target_df.parsed[grants_target_df.parsed == 8179692].index"
   ]
  },
  {
   "cell_type": "code",
   "execution_count": 186,
   "metadata": {},
   "outputs": [
    {
     "data": {
      "text/plain": [
       "True"
      ]
     },
     "execution_count": 186,
     "metadata": {},
     "output_type": "execute_result"
    }
   ],
   "source": [
    "pred_oneres[2381]"
   ]
  },
  {
   "cell_type": "code",
   "execution_count": null,
   "metadata": {},
   "outputs": [],
   "source": []
  },
  {
   "cell_type": "code",
   "execution_count": null,
   "metadata": {},
   "outputs": [],
   "source": []
  },
  {
   "cell_type": "raw",
   "metadata": {},
   "source": [
    "Previous result.\n",
    "\n",
    "# TFIDF_MODEL_THRESHOLD 0.8\n",
    "acc\tprec\trecall\tf1\n",
    "0.991971\t0.019875\t0.324627\t0.037457"
   ]
  },
  {
   "cell_type": "code",
   "execution_count": null,
   "metadata": {},
   "outputs": [],
   "source": []
  }
 ],
 "metadata": {
  "kernelspec": {
   "display_name": "Python 3",
   "language": "python",
   "name": "python3"
  },
  "language_info": {
   "codemirror_mode": {
    "name": "ipython",
    "version": 3
   },
   "file_extension": ".py",
   "mimetype": "text/x-python",
   "name": "python",
   "nbconvert_exporter": "python",
   "pygments_lexer": "ipython3",
   "version": "3.5.2"
  }
 },
 "nbformat": 4,
 "nbformat_minor": 2
}
